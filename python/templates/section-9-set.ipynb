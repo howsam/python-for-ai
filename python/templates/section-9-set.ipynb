{
 "cells": [
  {
   "cell_type": "markdown",
   "id": "5cb82279-0c41-4857-ab6f-e8e6861e933d",
   "metadata": {
    "tags": []
   },
   "source": [
    "# <font color='#FFE15D'>**Section 9: Set** 📐</font>"
   ]
  },
  {
   "cell_type": "markdown",
   "id": "d4e9d84f-5336-40e6-898d-14bf336b92a3",
   "metadata": {},
   "source": [
    "<img src=\"../images/set-example1.png\" alt=\"string indexing\" width=250 align=\"center\" />"
   ]
  },
  {
   "cell_type": "markdown",
   "id": "cb911e14-9428-4ccd-8d20-67802ff4b9e6",
   "metadata": {
    "jp-MarkdownHeadingCollapsed": true,
    "tags": []
   },
   "source": [
    "## 🔸 **How to define a set**"
   ]
  },
  {
   "cell_type": "markdown",
   "id": "7c6741a8-114a-4e92-83cc-ad51574ac20c",
   "metadata": {},
   "source": [
    "<img src=\"../images/set.png\" alt=\"string indexing\" width=500 align=\"center\" />"
   ]
  },
  {
   "cell_type": "code",
   "execution_count": null,
   "id": "0f0de8fb-2d2c-491c-9d5f-b0efe4325f55",
   "metadata": {},
   "outputs": [],
   "source": [
    "a = {1, 2, 3, 4, 5, 1.5, 'str', False, 6, 'a'}\n",
    "print(a, type(a))"
   ]
  },
  {
   "cell_type": "markdown",
   "id": "2e0bf85b-8100-40be-bc25-9f5534751108",
   "metadata": {
    "jp-MarkdownHeadingCollapsed": true,
    "tags": []
   },
   "source": [
    "### Duplicates are not allowed"
   ]
  },
  {
   "cell_type": "code",
   "execution_count": null,
   "id": "becdb49e-0fdb-4972-9c0d-cca8c2de6491",
   "metadata": {},
   "outputs": [],
   "source": []
  },
  {
   "cell_type": "markdown",
   "id": "691aa389-dc7a-4038-9758-a0260b5ee776",
   "metadata": {
    "jp-MarkdownHeadingCollapsed": true,
    "tags": []
   },
   "source": [
    "### Set items must be immutable"
   ]
  },
  {
   "cell_type": "code",
   "execution_count": null,
   "id": "aa49789d-5c0e-4ca8-87d7-6cb62886f0b7",
   "metadata": {},
   "outputs": [],
   "source": []
  },
  {
   "cell_type": "markdown",
   "id": "77929333-291f-4009-8165-30e90228b938",
   "metadata": {
    "jp-MarkdownHeadingCollapsed": true,
    "tags": []
   },
   "source": [
    "### Empty set"
   ]
  },
  {
   "cell_type": "code",
   "execution_count": null,
   "id": "64774eff-f77f-49f9-9287-790230c02a28",
   "metadata": {},
   "outputs": [],
   "source": []
  },
  {
   "cell_type": "markdown",
   "id": "29c2bc2f-0cd2-4a05-9519-d735caa67ebe",
   "metadata": {
    "jp-MarkdownHeadingCollapsed": true,
    "tags": []
   },
   "source": [
    "## 🔸 **Indexing & Slicing**"
   ]
  },
  {
   "cell_type": "markdown",
   "id": "0bf6b692-726a-436c-8896-0c7e83ea1048",
   "metadata": {},
   "source": [
    "### <font color='#ff0000'>IMPOSSIBLE!</font>"
   ]
  },
  {
   "cell_type": "markdown",
   "id": "465269df-faa1-4985-af8a-c7d94c3fb28a",
   "metadata": {
    "jp-MarkdownHeadingCollapsed": true,
    "tags": []
   },
   "source": [
    "## 🔸 **Loop through a set**"
   ]
  },
  {
   "cell_type": "code",
   "execution_count": null,
   "id": "4b8f9b22-7f4e-4f82-9052-344cf965bd8f",
   "metadata": {},
   "outputs": [],
   "source": []
  },
  {
   "cell_type": "code",
   "execution_count": null,
   "id": "71a5cb73-64f7-474c-8809-d27a69999478",
   "metadata": {},
   "outputs": [],
   "source": []
  },
  {
   "cell_type": "markdown",
   "id": "ef9a312f-fbd7-4f06-a611-152c2c2c9c68",
   "metadata": {
    "jp-MarkdownHeadingCollapsed": true,
    "tags": []
   },
   "source": [
    "## 🔸 **Set methods**"
   ]
  },
  {
   "cell_type": "markdown",
   "id": "e0db684d-5c4f-48d0-b561-1c9f39b4bde8",
   "metadata": {},
   "source": [
    "<img src=\"../images/set-methods.png\" alt=\"string indexing\" width=700 align=\"center\" />"
   ]
  },
  {
   "cell_type": "code",
   "execution_count": null,
   "id": "e2c9a4bd-60d7-417f-8659-ecc2fb590e01",
   "metadata": {},
   "outputs": [],
   "source": [
    "set1 = {1, 2, 3, 4, 5}\n",
    "set1"
   ]
  },
  {
   "cell_type": "markdown",
   "id": "42769af4-220b-4e02-9fdf-ac55bf2b8213",
   "metadata": {
    "jp-MarkdownHeadingCollapsed": true,
    "tags": []
   },
   "source": [
    "### len"
   ]
  },
  {
   "cell_type": "code",
   "execution_count": null,
   "id": "b8bc2ee6-04c9-4064-8b87-37c3541f9347",
   "metadata": {},
   "outputs": [],
   "source": []
  },
  {
   "cell_type": "markdown",
   "id": "37b55718-3f92-4760-855d-7f20eaf9938f",
   "metadata": {
    "jp-MarkdownHeadingCollapsed": true,
    "tags": []
   },
   "source": [
    "### copy"
   ]
  },
  {
   "cell_type": "code",
   "execution_count": null,
   "id": "93047310-e4da-4c0c-a018-18e350e73bd5",
   "metadata": {},
   "outputs": [],
   "source": []
  },
  {
   "cell_type": "markdown",
   "id": "9b86eb78-7f06-47a2-a254-7791a7f19960",
   "metadata": {
    "jp-MarkdownHeadingCollapsed": true,
    "tags": []
   },
   "source": [
    "### add"
   ]
  },
  {
   "cell_type": "code",
   "execution_count": null,
   "id": "c5fe2320-00bd-4992-8a37-e22b3284f778",
   "metadata": {},
   "outputs": [],
   "source": []
  },
  {
   "cell_type": "markdown",
   "id": "53947a36-af71-4f1f-9ea0-9218a462cda3",
   "metadata": {
    "jp-MarkdownHeadingCollapsed": true,
    "tags": []
   },
   "source": [
    "### update"
   ]
  },
  {
   "cell_type": "code",
   "execution_count": null,
   "id": "8c9fe0ba-9b61-4cc7-8c42-0fb22a238713",
   "metadata": {},
   "outputs": [],
   "source": []
  },
  {
   "cell_type": "markdown",
   "id": "96a32532-a47e-4955-a48b-f8c9ba5a0a59",
   "metadata": {
    "jp-MarkdownHeadingCollapsed": true,
    "tags": []
   },
   "source": [
    "### pop"
   ]
  },
  {
   "cell_type": "code",
   "execution_count": null,
   "id": "0c841c8a-fc71-4d55-81a7-51ea5be989fb",
   "metadata": {},
   "outputs": [],
   "source": []
  },
  {
   "cell_type": "markdown",
   "id": "14a05f91-b531-4f1b-9dff-eba3ce6b163f",
   "metadata": {
    "jp-MarkdownHeadingCollapsed": true,
    "tags": []
   },
   "source": [
    "### remove"
   ]
  },
  {
   "cell_type": "code",
   "execution_count": null,
   "id": "b73977e0-8330-40ab-93c0-911435ccbacc",
   "metadata": {},
   "outputs": [],
   "source": []
  },
  {
   "cell_type": "markdown",
   "id": "44bc71de-4814-463d-bc71-38a653dd3156",
   "metadata": {
    "jp-MarkdownHeadingCollapsed": true,
    "tags": []
   },
   "source": [
    "### discard"
   ]
  },
  {
   "cell_type": "code",
   "execution_count": 90,
   "id": "7b8d2a3d-3ab1-4b92-8591-09edf67e72f8",
   "metadata": {},
   "outputs": [],
   "source": []
  },
  {
   "cell_type": "markdown",
   "id": "dbda9d25-eccb-44f3-9676-581095ae0296",
   "metadata": {
    "jp-MarkdownHeadingCollapsed": true,
    "tags": []
   },
   "source": [
    "### clear"
   ]
  },
  {
   "cell_type": "code",
   "execution_count": null,
   "id": "b4b1f5d2-fa8e-4159-b054-35c248015db8",
   "metadata": {},
   "outputs": [],
   "source": []
  },
  {
   "cell_type": "markdown",
   "id": "74b6ad98-ecf0-47ec-8b62-58f39dea65d8",
   "metadata": {
    "jp-MarkdownHeadingCollapsed": true,
    "tags": []
   },
   "source": [
    "### union"
   ]
  },
  {
   "cell_type": "markdown",
   "id": "8c922d01-6403-4fed-ba86-c8bc2f2fd841",
   "metadata": {},
   "source": [
    "<img src=\"../images/union.png\" alt=\"string indexing\" width=250 align=\"center\" />"
   ]
  },
  {
   "cell_type": "code",
   "execution_count": null,
   "id": "0634ea55-1ad9-4cd1-9a9b-a85c364affbf",
   "metadata": {},
   "outputs": [],
   "source": [
    "set1 = {1, 2, 3, 4, 5}\n",
    "set2 = {'one', 'two', 'three'}\n",
    "set3 = {3, 4}\n",
    "set4 = {'three'}\n",
    "print(set1, set2, set3, set4)"
   ]
  },
  {
   "cell_type": "code",
   "execution_count": null,
   "id": "3dbc67b3-7ad2-4797-bed1-9d60c0abe5f4",
   "metadata": {},
   "outputs": [],
   "source": []
  },
  {
   "cell_type": "markdown",
   "id": "a2a12292-60cd-4522-80c8-6e188b1b2425",
   "metadata": {
    "jp-MarkdownHeadingCollapsed": true,
    "tags": []
   },
   "source": [
    "### intersection"
   ]
  },
  {
   "cell_type": "markdown",
   "id": "8dc7e628-5e75-4f43-a6ff-275da187db85",
   "metadata": {},
   "source": [
    "<img src=\"../images/intersection.png\" alt=\"string indexing\" width=250 align=\"center\" />"
   ]
  },
  {
   "cell_type": "code",
   "execution_count": null,
   "id": "9b0d1d2f-e126-46f2-aebf-b93704b1a6f2",
   "metadata": {},
   "outputs": [],
   "source": [
    "set1 = {1, 2, 3, 4, 5}\n",
    "set2 = {'one', 'two', 'three'}\n",
    "set3 = {3, 4}\n",
    "set4 = {'three'}\n",
    "print(set1, set2, set3, set4)"
   ]
  },
  {
   "cell_type": "code",
   "execution_count": null,
   "id": "1d15b30e-81ab-4266-8444-5aa2f7072624",
   "metadata": {},
   "outputs": [],
   "source": []
  },
  {
   "cell_type": "markdown",
   "id": "21536c38-11b0-424d-8259-8540084ca798",
   "metadata": {
    "jp-MarkdownHeadingCollapsed": true,
    "tags": []
   },
   "source": [
    "### intersection_update"
   ]
  },
  {
   "cell_type": "code",
   "execution_count": null,
   "id": "6198c5e2-169c-4db0-95ce-ca5a2652e10a",
   "metadata": {},
   "outputs": [],
   "source": [
    "set1 = {1, 2, 3, 4, 5}\n",
    "set2 = {'one', 'two', 'three'}\n",
    "set3 = {3, 4}\n",
    "set4 = {'three'}\n",
    "print(set1, set2, set3, set4)"
   ]
  },
  {
   "cell_type": "code",
   "execution_count": null,
   "id": "4c78cac6-522e-4464-984d-5e143683e6fc",
   "metadata": {},
   "outputs": [],
   "source": []
  },
  {
   "cell_type": "markdown",
   "id": "15952e72-4d4c-48a3-ae39-b6c1c19c4072",
   "metadata": {
    "jp-MarkdownHeadingCollapsed": true,
    "tags": []
   },
   "source": [
    "### difference"
   ]
  },
  {
   "cell_type": "markdown",
   "id": "ca45f63e-94bf-4e47-aea0-16e95e4ccf8f",
   "metadata": {},
   "source": [
    "<img src=\"../images/difference.png\" alt=\"string indexing\" width=250 align=\"center\" />"
   ]
  },
  {
   "cell_type": "code",
   "execution_count": null,
   "id": "6b4824f1-d124-4d7d-9789-b78465f333ea",
   "metadata": {},
   "outputs": [],
   "source": [
    "set1 = {1, 2, 3, 4, 5}\n",
    "set2 = {'one', 'two', 'three'}\n",
    "set3 = {3, 4}\n",
    "set4 = {'three'}\n",
    "print(set1, set2, set3, set4)"
   ]
  },
  {
   "cell_type": "code",
   "execution_count": null,
   "id": "50666a10-6cdd-4f4e-a3f4-48f351781d0c",
   "metadata": {},
   "outputs": [],
   "source": []
  },
  {
   "cell_type": "markdown",
   "id": "9595221e-5631-4e07-8421-c9eabd7598c9",
   "metadata": {
    "jp-MarkdownHeadingCollapsed": true,
    "tags": []
   },
   "source": [
    "### difference_update"
   ]
  },
  {
   "cell_type": "code",
   "execution_count": null,
   "id": "47461a2a-a6c3-4941-a6af-b4a789b6df7f",
   "metadata": {},
   "outputs": [],
   "source": [
    "set1 = {1, 2, 3, 4, 5}\n",
    "set2 = {'one', 'two', 'three'}\n",
    "set3 = {3, 4}\n",
    "set4 = {'three'}\n",
    "print(set1, set2, set3, set4)"
   ]
  },
  {
   "cell_type": "code",
   "execution_count": null,
   "id": "7d5f9a14-4e10-4dbf-9e03-fceaeabfbfd6",
   "metadata": {},
   "outputs": [],
   "source": []
  },
  {
   "cell_type": "markdown",
   "id": "a326b439-e14a-4080-9b4d-2640aa940068",
   "metadata": {
    "jp-MarkdownHeadingCollapsed": true,
    "tags": []
   },
   "source": [
    "### symmetric_difference"
   ]
  },
  {
   "cell_type": "code",
   "execution_count": null,
   "id": "7e36df6d-fad1-4f82-88fb-0573367aa3ec",
   "metadata": {},
   "outputs": [],
   "source": [
    "set1 = {1, 2, 3, 4, 5, 6}\n",
    "set2 = {5, 6, 7, 8}\n",
    "print(set1, set2)"
   ]
  },
  {
   "cell_type": "code",
   "execution_count": null,
   "id": "04bfe5d7-bbbe-4412-ae3f-0856b23c9de9",
   "metadata": {},
   "outputs": [],
   "source": []
  },
  {
   "cell_type": "markdown",
   "id": "5bf03f6b-32e2-40e8-8d5a-16babdd2bd56",
   "metadata": {
    "jp-MarkdownHeadingCollapsed": true,
    "tags": []
   },
   "source": [
    "### symmetric_difference_update"
   ]
  },
  {
   "cell_type": "code",
   "execution_count": null,
   "id": "3162d211-5b9b-4250-981c-1621e9412d80",
   "metadata": {},
   "outputs": [],
   "source": [
    "set1 = {1, 2, 3, 4, 5, 6}\n",
    "set2 = {5, 6, 7, 8}\n",
    "print(set1, set2)"
   ]
  },
  {
   "cell_type": "code",
   "execution_count": null,
   "id": "16a969ab-6c66-4cbe-85ad-26ceb5a18a7b",
   "metadata": {},
   "outputs": [],
   "source": []
  },
  {
   "cell_type": "markdown",
   "id": "e8929848-430f-4dce-8a23-f743f3fcbd78",
   "metadata": {
    "jp-MarkdownHeadingCollapsed": true,
    "tags": []
   },
   "source": [
    "### isdisjoint"
   ]
  },
  {
   "cell_type": "code",
   "execution_count": null,
   "id": "125f0ae4-add4-4f79-96f7-7906bdabbe48",
   "metadata": {},
   "outputs": [],
   "source": [
    "set1 = {1, 2, 3, 4, 5}\n",
    "set2 = {'one', 'two', 'three'}\n",
    "set3 = {3, 4, 'one', 'three'}\n",
    "print(set1, set2, set3)"
   ]
  },
  {
   "cell_type": "code",
   "execution_count": null,
   "id": "0998e479-570b-43b7-9e6f-7e5ee842f6cf",
   "metadata": {},
   "outputs": [],
   "source": []
  },
  {
   "cell_type": "markdown",
   "id": "e54e072b-c173-4463-9cfc-aec35625ebce",
   "metadata": {
    "jp-MarkdownHeadingCollapsed": true,
    "tags": []
   },
   "source": [
    "### issubset"
   ]
  },
  {
   "cell_type": "code",
   "execution_count": null,
   "id": "59925f03-8f05-41cb-8b29-e02d21d16d2c",
   "metadata": {},
   "outputs": [],
   "source": [
    "set1 = {1, 2, 3, 4, 5}\n",
    "set2 = {'one', 'two', 'three'}\n",
    "set3 = {3, 4}\n",
    "set4 = {'three'}\n",
    "print(set1, set2, set3, set4)"
   ]
  },
  {
   "cell_type": "code",
   "execution_count": null,
   "id": "4671a6ef-addd-40ab-98fd-b03666af403e",
   "metadata": {},
   "outputs": [],
   "source": []
  },
  {
   "cell_type": "markdown",
   "id": "6324e49c-9162-4347-adcd-0ef59cf1a586",
   "metadata": {
    "jp-MarkdownHeadingCollapsed": true,
    "tags": []
   },
   "source": [
    "### issuperset"
   ]
  },
  {
   "cell_type": "code",
   "execution_count": null,
   "id": "4a06806f-678a-4823-9d97-a1eb90fed3d9",
   "metadata": {},
   "outputs": [],
   "source": [
    "set1 = {1, 2, 3, 4, 5}\n",
    "set2 = {'one', 'two', 'three'}\n",
    "set3 = {3, 4}\n",
    "set4 = {'three'}\n",
    "print(set1, set2, set3, set4)"
   ]
  },
  {
   "cell_type": "code",
   "execution_count": null,
   "id": "ea6ae421-a806-412d-8304-be4750cf3417",
   "metadata": {},
   "outputs": [],
   "source": []
  },
  {
   "cell_type": "markdown",
   "id": "56905ce6-8129-4cba-b39f-06528b497b47",
   "metadata": {
    "jp-MarkdownHeadingCollapsed": true,
    "tags": []
   },
   "source": [
    "## 🔸 **Sets characteristics**"
   ]
  },
  {
   "cell_type": "markdown",
   "id": "e456f7a4-1d28-465d-bcd0-db405eefe1b6",
   "metadata": {
    "id": "JidMUw0w4KyP",
    "jp-MarkdownHeadingCollapsed": true,
    "tags": []
   },
   "source": [
    "### 1. Sets are unordered"
   ]
  },
  {
   "cell_type": "code",
   "execution_count": 133,
   "id": "67660961-5f20-4e0c-8116-7131e9f78d4f",
   "metadata": {},
   "outputs": [
    {
     "data": {
      "text/plain": [
       "True"
      ]
     },
     "execution_count": 133,
     "metadata": {},
     "output_type": "execute_result"
    }
   ],
   "source": [
    "{1, 2, 3} == {2, 3, 1}"
   ]
  },
  {
   "cell_type": "markdown",
   "id": "d182fb64-300c-47d4-8a8f-6cbb0b884d19",
   "metadata": {
    "jp-MarkdownHeadingCollapsed": true,
    "tags": []
   },
   "source": [
    "### 2. Set items can't be accessed by index or key"
   ]
  },
  {
   "cell_type": "code",
   "execution_count": 135,
   "id": "f8e09366-a7e0-4d5d-afb1-e3dd38db3218",
   "metadata": {},
   "outputs": [
    {
     "ename": "TypeError",
     "evalue": "'set' object is not subscriptable",
     "output_type": "error",
     "traceback": [
      "\u001b[1;31m---------------------------------------------------------------------------\u001b[0m",
      "\u001b[1;31mTypeError\u001b[0m                                 Traceback (most recent call last)",
      "Input \u001b[1;32mIn [135]\u001b[0m, in \u001b[0;36m<cell line: 2>\u001b[1;34m()\u001b[0m\n\u001b[0;32m      1\u001b[0m set1 \u001b[38;5;241m=\u001b[39m {\u001b[38;5;241m1\u001b[39m, \u001b[38;5;241m2\u001b[39m, \u001b[38;5;241m3\u001b[39m}\n\u001b[1;32m----> 2\u001b[0m \u001b[43mset1\u001b[49m\u001b[43m[\u001b[49m\u001b[38;5;241;43m0\u001b[39;49m\u001b[43m]\u001b[49m\n",
      "\u001b[1;31mTypeError\u001b[0m: 'set' object is not subscriptable"
     ]
    }
   ],
   "source": [
    "set1 = {1, 2, 3}\n",
    "set1[0]"
   ]
  },
  {
   "cell_type": "markdown",
   "id": "4f57baa9-155d-401d-82de-fda29096147a",
   "metadata": {
    "jp-MarkdownHeadingCollapsed": true,
    "tags": []
   },
   "source": [
    "### 3. Sets are dynamic"
   ]
  },
  {
   "cell_type": "code",
   "execution_count": 136,
   "id": "33135f08-22a9-4cdf-bc68-976ee34ae1cc",
   "metadata": {},
   "outputs": [
    {
     "data": {
      "text/plain": [
       "{1, 2, 3, 'four'}"
      ]
     },
     "execution_count": 136,
     "metadata": {},
     "output_type": "execute_result"
    }
   ],
   "source": [
    "set1 = {1, 2, 3}\n",
    "set1.add('four')\n",
    "set1"
   ]
  },
  {
   "cell_type": "markdown",
   "id": "e3abbe93-800e-46f8-9314-97cba7601be7",
   "metadata": {
    "jp-MarkdownHeadingCollapsed": true,
    "tags": []
   },
   "source": [
    "### 4. Sets are heterogeneous"
   ]
  },
  {
   "cell_type": "code",
   "execution_count": 139,
   "id": "90b2aced-7568-4af0-9452-d13c7bc0b26d",
   "metadata": {},
   "outputs": [
    {
     "ename": "TypeError",
     "evalue": "unhashable type: 'list'",
     "output_type": "error",
     "traceback": [
      "\u001b[1;31m---------------------------------------------------------------------------\u001b[0m",
      "\u001b[1;31mTypeError\u001b[0m                                 Traceback (most recent call last)",
      "Input \u001b[1;32mIn [139]\u001b[0m, in \u001b[0;36m<cell line: 1>\u001b[1;34m()\u001b[0m\n\u001b[1;32m----> 1\u001b[0m \u001b[38;5;28mtype\u001b[39m({\u001b[38;5;241m1\u001b[39m, \u001b[38;5;241m2.3\u001b[39m, \u001b[38;5;124m'\u001b[39m\u001b[38;5;124mhi\u001b[39m\u001b[38;5;124m'\u001b[39m, (\u001b[38;5;241m5\u001b[39m, \u001b[38;5;241m6\u001b[39m, \u001b[38;5;241m7\u001b[39m), [\u001b[38;5;241m1\u001b[39m, \u001b[38;5;241m2\u001b[39m]})\n",
      "\u001b[1;31mTypeError\u001b[0m: unhashable type: 'list'"
     ]
    }
   ],
   "source": [
    "type({1, 2.3, 'hi', (5, 6, 7)})"
   ]
  },
  {
   "cell_type": "markdown",
   "id": "8512a1c2-0cab-4118-97fa-05b517f04fd9",
   "metadata": {
    "jp-MarkdownHeadingCollapsed": true,
    "tags": []
   },
   "source": [
    "### 5. Sets are NOT nestable"
   ]
  },
  {
   "cell_type": "code",
   "execution_count": 140,
   "id": "88c05502-8eb8-42df-bfb3-798924dd6dd5",
   "metadata": {},
   "outputs": [
    {
     "ename": "TypeError",
     "evalue": "unhashable type: 'set'",
     "output_type": "error",
     "traceback": [
      "\u001b[1;31m---------------------------------------------------------------------------\u001b[0m",
      "\u001b[1;31mTypeError\u001b[0m                                 Traceback (most recent call last)",
      "Input \u001b[1;32mIn [140]\u001b[0m, in \u001b[0;36m<cell line: 1>\u001b[1;34m()\u001b[0m\n\u001b[1;32m----> 1\u001b[0m {\u001b[38;5;241m1\u001b[39m, \u001b[38;5;241m2\u001b[39m, {\u001b[38;5;241m4\u001b[39m, \u001b[38;5;241m5\u001b[39m, \u001b[38;5;241m6\u001b[39m}}\n",
      "\u001b[1;31mTypeError\u001b[0m: unhashable type: 'set'"
     ]
    }
   ],
   "source": [
    "{1, 2, {4, 5, 6}}"
   ]
  },
  {
   "cell_type": "markdown",
   "id": "2921b87e-9789-455a-b001-4bbc5667e2aa",
   "metadata": {
    "jp-MarkdownHeadingCollapsed": true,
    "tags": []
   },
   "source": [
    "### 6. Sets are immutable"
   ]
  },
  {
   "cell_type": "markdown",
   "id": "9e91eb9b-fbf7-44e5-8a4e-c1e0fab75602",
   "metadata": {
    "jp-MarkdownHeadingCollapsed": true,
    "tags": []
   },
   "source": [
    "## **✍️ Example 1**"
   ]
  },
  {
   "cell_type": "markdown",
   "id": "47f08da3-9a6a-4154-8621-47dcb3d8cb1c",
   "metadata": {},
   "source": [
    "<img src=\"../images/set-example1.png\" alt=\"string indexing\" width=250 align=\"center\" />"
   ]
  },
  {
   "cell_type": "code",
   "execution_count": 142,
   "id": "da077187-8496-4cee-b5e2-dc0b4a01c1d2",
   "metadata": {},
   "outputs": [],
   "source": [
    "p = {0, 1, 2, 3, 4}\n",
    "q = {4, 6, 8}\n",
    "r = {6, 12, 18}"
   ]
  },
  {
   "cell_type": "code",
   "execution_count": 145,
   "id": "2265eb20-4e4a-4a23-8266-837e6c8f0d09",
   "metadata": {},
   "outputs": [
    {
     "name": "stdout",
     "output_type": "stream",
     "text": [
      "{4} {6} {4, 6}\n"
     ]
    }
   ],
   "source": [
    "# (p ^ q) U (q ^ r)\n",
    "\n",
    "inter_pq = p.intersection(q)\n",
    "inter_qr = q.intersection(r)\n",
    "result = inter_pq.union(inter_qr)\n",
    "print(inter_pq, inter_qr, result)"
   ]
  },
  {
   "cell_type": "markdown",
   "id": "b038bc4a-e5c3-4607-b38f-0879f8e77896",
   "metadata": {
    "jp-MarkdownHeadingCollapsed": true,
    "tags": []
   },
   "source": [
    "## **✍️ Example 2**"
   ]
  },
  {
   "cell_type": "markdown",
   "id": "e070372a-8f0e-41d8-82a0-5ce5a0cfea9e",
   "metadata": {},
   "source": [
    "<img src=\"../images/set-example2.png\" alt=\"string indexing\" width=250 align=\"center\" />"
   ]
  },
  {
   "cell_type": "code",
   "execution_count": 146,
   "id": "406a0603-fb2f-4f87-a6a8-80ff686d089e",
   "metadata": {},
   "outputs": [],
   "source": [
    "a = {2, 4, 6, 8}\n",
    "b = {2, 3, 5, 7}\n",
    "c = {1, 3, 5, 15}"
   ]
  },
  {
   "cell_type": "code",
   "execution_count": 148,
   "id": "363badf6-8992-46a1-8acb-407ee9b6fc42",
   "metadata": {},
   "outputs": [
    {
     "name": "stdout",
     "output_type": "stream",
     "text": [
      "{3, 5, 7} {1, 3, 5, 15} {1, 3, 5, 7, 15}\n"
     ]
    }
   ],
   "source": [
    "# (b - a) U (c - a)\n",
    "\n",
    "diff_ba = b.difference(a)\n",
    "diff_ca = c.difference(a)\n",
    "result = diff_ba.union(diff_ca)\n",
    "print(diff_ba, diff_ca, result)"
   ]
  },
  {
   "cell_type": "markdown",
   "id": "11617dc3-fbc4-40f0-a4c4-acc3618d424a",
   "metadata": {
    "jp-MarkdownHeadingCollapsed": true,
    "tags": []
   },
   "source": [
    "## **✍️ Example 3**"
   ]
  },
  {
   "cell_type": "markdown",
   "id": "c642d88e-e9ec-47fa-a490-485fa3d434a1",
   "metadata": {},
   "source": [
    "<img src=\"../images/set-example3.png\" alt=\"string indexing\" width=250 align=\"center\" />"
   ]
  },
  {
   "cell_type": "code",
   "execution_count": 154,
   "id": "704c91ff-27d8-438d-b7d7-bd48753cf0c9",
   "metadata": {},
   "outputs": [],
   "source": [
    "a = {2, 6, 3, 2, 5}\n",
    "b = {3, 1, 7, 4}\n",
    "c = {2, 5, 9, 0, 7}"
   ]
  },
  {
   "cell_type": "code",
   "execution_count": 156,
   "id": "4e4f5520-9335-4479-a8b0-6672c6cd9679",
   "metadata": {},
   "outputs": [
    {
     "data": {
      "text/plain": [
       "{1, 4}"
      ]
     },
     "execution_count": 156,
     "metadata": {},
     "output_type": "execute_result"
    }
   ],
   "source": [
    "# (b - a) - c\n",
    "\n",
    "b2 = b.copy()\n",
    "b2.difference_update(a)\n",
    "b2.difference_update(c)\n",
    "b2"
   ]
  },
  {
   "cell_type": "markdown",
   "id": "d1c4d6c2-5fd3-4703-b08c-028c2ec5cbd6",
   "metadata": {
    "tags": []
   },
   "source": [
    "## **✍️ Example 4: Count items of a list**"
   ]
  },
  {
   "cell_type": "markdown",
   "id": "37d183e5-0e40-4ffb-9748-db0a95c4ba5e",
   "metadata": {},
   "source": [
    "<img src=\"../images/dictionary-example.png\" alt=\"string indexing\" width=650 align=\"center\" />"
   ]
  },
  {
   "cell_type": "code",
   "execution_count": 159,
   "id": "8b3752d1-4808-4592-988e-566b96ea4790",
   "metadata": {},
   "outputs": [
    {
     "data": {
      "text/plain": [
       "{2: 3, 4: 1, 5: 3, 6: 2, 7: 2, 9: 1}"
      ]
     },
     "execution_count": 159,
     "metadata": {},
     "output_type": "execute_result"
    }
   ],
   "source": [
    "my_list = [5, 6, 2, 2, 7, 4, 5, 5, 6, 9, 7, 2]\n",
    "\n",
    "my_dict = {}\n",
    "my_set = set(my_list)\n",
    "# print(my_set)\n",
    "for item in my_set:\n",
    "    my_dict[item] = my_list.count(item)\n",
    "my_dict"
   ]
  }
 ],
 "metadata": {
  "kernelspec": {
   "display_name": "Python 3 (ipykernel)",
   "language": "python",
   "name": "python3"
  },
  "language_info": {
   "codemirror_mode": {
    "name": "ipython",
    "version": 3
   },
   "file_extension": ".py",
   "mimetype": "text/x-python",
   "name": "python",
   "nbconvert_exporter": "python",
   "pygments_lexer": "ipython3",
   "version": "3.9.12"
  }
 },
 "nbformat": 4,
 "nbformat_minor": 5
}
