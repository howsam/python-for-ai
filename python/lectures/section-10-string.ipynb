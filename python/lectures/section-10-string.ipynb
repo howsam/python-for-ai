{
 "cells": [
  {
   "cell_type": "markdown",
   "id": "921e9c66-210b-45af-aaa0-af6bb99118de",
   "metadata": {
    "id": "o2bdQy-DmxMf",
    "tags": []
   },
   "source": [
    "# <font color='#FFE15D'>**Section 10: String** 📜</font>"
   ]
  },
  {
   "cell_type": "markdown",
   "id": "0cd263af-a5b5-46a8-911c-35124d335656",
   "metadata": {},
   "source": [
    "<img src=\"../images/text.png\" alt=\"string indexing\" width=150 align=\"center\" />"
   ]
  },
  {
   "cell_type": "markdown",
   "id": "0b1a8afb-89fa-4fd2-b849-84cad5794bf2",
   "metadata": {
    "jp-MarkdownHeadingCollapsed": true,
    "tags": []
   },
   "source": [
    "## 🔸 **How to define a string**"
   ]
  },
  {
   "cell_type": "code",
   "execution_count": null,
   "id": "11f68c89-ac19-40ab-b362-d62e48274a42",
   "metadata": {
    "colab": {
     "base_uri": "https://localhost:8080/"
    },
    "id": "pv6539doy-NQ",
    "outputId": "8c056cb3-595d-4b9d-c33d-0f47d28b378c"
   },
   "outputs": [],
   "source": [
    "txt = 'salam howsam!'\n",
    "txt = \"python for ai\"\n",
    "txt = '1401/09/05 @ 14:53'\n",
    "txt = '''lksdjfkljsdf\n",
    "kljkfdjgkljkljfdg\n",
    "lkjfkgjfdkgjkjfdg\n",
    "lkjfdgkjfdkgjfdkjgld\n",
    "klsjfkljsdfkjdfkjlkjf'''\n",
    "txt"
   ]
  },
  {
   "cell_type": "markdown",
   "id": "ef8ba3a0-32e7-489c-b8e8-a1d16d0715a7",
   "metadata": {
    "jp-MarkdownHeadingCollapsed": true,
    "tags": []
   },
   "source": [
    "## 🔸 **Indexing and Slicing for strings**"
   ]
  },
  {
   "cell_type": "code",
   "execution_count": null,
   "id": "8177de5a-4186-44e0-9838-374a29702390",
   "metadata": {},
   "outputs": [],
   "source": [
    "txt = 'I love python!'\n",
    "\n",
    "txt[1], txt[0], txt[-1]\n",
    "\n",
    "txt[:4], txt[0:8:2], txt[::2]"
   ]
  },
  {
   "cell_type": "markdown",
   "id": "e7040a91-8d86-4d40-bd34-d3c8465b4316",
   "metadata": {
    "jp-MarkdownHeadingCollapsed": true,
    "tags": []
   },
   "source": [
    "## 🔸 **Modifying strings**"
   ]
  },
  {
   "cell_type": "code",
   "execution_count": null,
   "id": "707fc9e7-21ac-4583-9717-1377c1833bea",
   "metadata": {},
   "outputs": [],
   "source": [
    "txt = 'I love python!'\n",
    "\n",
    "txt[0] = 'U'"
   ]
  },
  {
   "cell_type": "markdown",
   "id": "d8aaf815-7e6f-4e29-87d8-3928a26e9d4e",
   "metadata": {
    "jp-MarkdownHeadingCollapsed": true,
    "tags": []
   },
   "source": [
    "## 🔸 **String methods**"
   ]
  },
  {
   "cell_type": "markdown",
   "id": "93b6be3c-3b7c-4e6c-9e74-1187df8b0502",
   "metadata": {},
   "source": [
    "<img src=\"../images/string_methodes.png\" alt=\"string indexing\" width=800 align=\"center\" />"
   ]
  },
  {
   "cell_type": "markdown",
   "id": "258f835e-be23-48cd-86b6-d307dc9c14f2",
   "metadata": {
    "id": "duFit9Ksg7VN",
    "tags": []
   },
   "source": [
    "### More on [w3schools.com](https://www.w3schools.com/python/python_ref_string.asp)"
   ]
  },
  {
   "cell_type": "code",
   "execution_count": 39,
   "id": "89fcc58c-7f8a-45ba-94a2-1eb17afca35b",
   "metadata": {},
   "outputs": [
    {
     "name": "stdout",
     "output_type": "stream",
     "text": [
      "Help on method_descriptor:\n",
      "\n",
      "capitalize(self, /)\n",
      "    Return a capitalized version of the string.\n",
      "    \n",
      "    More specifically, make the first character have upper case and the rest lower\n",
      "    case.\n",
      "\n"
     ]
    }
   ],
   "source": [
    "help(str.capitalize)"
   ]
  },
  {
   "cell_type": "markdown",
   "id": "397442ae-0589-49f0-aa13-d4b6e8a6dd83",
   "metadata": {
    "jp-MarkdownHeadingCollapsed": true,
    "tags": []
   },
   "source": [
    "### `len()`"
   ]
  },
  {
   "cell_type": "code",
   "execution_count": 42,
   "id": "88862d1a-0416-4593-bf6a-56d7c18735c5",
   "metadata": {
    "colab": {
     "base_uri": "https://localhost:8080/"
    },
    "id": "dwWKbqv20b_-",
    "outputId": "85da1b79-8d66-4df4-f2f7-e5fea5dea072"
   },
   "outputs": [
    {
     "data": {
      "text/plain": [
       "14"
      ]
     },
     "execution_count": 42,
     "metadata": {},
     "output_type": "execute_result"
    }
   ],
   "source": [
    "txt = 'I love python!'\n",
    "\n",
    "txt.__len__()\n",
    "len(txt)"
   ]
  },
  {
   "cell_type": "markdown",
   "id": "04dc7e7a-5bb4-428a-b3e7-6ebc9a8ca83c",
   "metadata": {
    "jp-MarkdownHeadingCollapsed": true,
    "tags": []
   },
   "source": [
    "### `upper()` & `lower()`"
   ]
  },
  {
   "cell_type": "code",
   "execution_count": 45,
   "id": "20698f9c-4bcd-4a78-bfa2-885e55043059",
   "metadata": {},
   "outputs": [
    {
     "name": "stdout",
     "output_type": "stream",
     "text": [
      "I LOVE PYTHON!\n",
      "i love python!\n"
     ]
    }
   ],
   "source": [
    "txt = 'I love python!'\n",
    "\n",
    "txt_upper = txt.upper()\n",
    "print(txt_upper)\n",
    "\n",
    "txt_lower = txt_upper.lower()\n",
    "print(txt_lower)"
   ]
  },
  {
   "cell_type": "markdown",
   "id": "bc079ab1-448f-4fdc-ad0b-d1186bad169a",
   "metadata": {
    "jp-MarkdownHeadingCollapsed": true,
    "tags": []
   },
   "source": [
    "### `count()`"
   ]
  },
  {
   "cell_type": "code",
   "execution_count": 60,
   "id": "d3e5efbd-fcca-4180-8e88-d416d2054b62",
   "metadata": {},
   "outputs": [
    {
     "data": {
      "text/plain": [
       "1"
      ]
     },
     "execution_count": 60,
     "metadata": {},
     "output_type": "execute_result"
    }
   ],
   "source": [
    "txt = 'I love python!'\n",
    "\n",
    "txt.count('py')"
   ]
  },
  {
   "cell_type": "code",
   "execution_count": 55,
   "id": "7d0cc6d7-3276-4348-831e-d83dd13d8401",
   "metadata": {},
   "outputs": [
    {
     "name": "stdout",
     "output_type": "stream",
     "text": [
      "Help on method_descriptor:\n",
      "\n",
      "count(...)\n",
      "    S.count(sub[, start[, end]]) -> int\n",
      "    \n",
      "    Return the number of non-overlapping occurrences of substring sub in\n",
      "    string S[start:end].  Optional arguments start and end are\n",
      "    interpreted as in slice notation.\n",
      "\n"
     ]
    }
   ],
   "source": [
    "help(str.count)"
   ]
  },
  {
   "cell_type": "code",
   "execution_count": 62,
   "id": "abfd84fe-aeef-48d8-95f2-cd603149234f",
   "metadata": {},
   "outputs": [
    {
     "data": {
      "text/plain": [
       "('I lov', 0, 0)"
      ]
     },
     "execution_count": 62,
     "metadata": {},
     "output_type": "execute_result"
    }
   ],
   "source": [
    "txt[0:5], txt.count('py', 0, 5), txt[0:5].count('py')"
   ]
  },
  {
   "cell_type": "markdown",
   "id": "fd3dd537-df26-4f18-b04f-62701e25f7bb",
   "metadata": {
    "jp-MarkdownHeadingCollapsed": true,
    "tags": []
   },
   "source": [
    "### `endswith()` & `startswith()`"
   ]
  },
  {
   "cell_type": "code",
   "execution_count": 67,
   "id": "0d7981aa-04c4-417d-a21e-2c879a4860bd",
   "metadata": {},
   "outputs": [
    {
     "data": {
      "text/plain": [
       "(True, True)"
      ]
     },
     "execution_count": 67,
     "metadata": {},
     "output_type": "execute_result"
    }
   ],
   "source": [
    "txt = 'I love python!'\n",
    "\n",
    "txt.startswith('I l'), txt.endswith('n!') "
   ]
  },
  {
   "cell_type": "code",
   "execution_count": 68,
   "id": "00c995a3-d452-4e45-9819-c0c9da1fe46a",
   "metadata": {},
   "outputs": [
    {
     "name": "stdout",
     "output_type": "stream",
     "text": [
      "Help on method_descriptor:\n",
      "\n",
      "endswith(...)\n",
      "    S.endswith(suffix[, start[, end]]) -> bool\n",
      "    \n",
      "    Return True if S ends with the specified suffix, False otherwise.\n",
      "    With optional start, test S beginning at that position.\n",
      "    With optional end, stop comparing S at that position.\n",
      "    suffix can also be a tuple of strings to try.\n",
      "\n"
     ]
    }
   ],
   "source": [
    "help(str.endswith)"
   ]
  },
  {
   "cell_type": "markdown",
   "id": "b8bc435a-53dc-43d0-b4e1-ea37d997fbd2",
   "metadata": {
    "jp-MarkdownHeadingCollapsed": true,
    "tags": []
   },
   "source": [
    "### `find()`"
   ]
  },
  {
   "cell_type": "code",
   "execution_count": 75,
   "id": "def9b195-b14b-44db-bd4c-46c20a3ee86c",
   "metadata": {},
   "outputs": [
    {
     "data": {
      "text/plain": [
       "-1"
      ]
     },
     "execution_count": 75,
     "metadata": {},
     "output_type": "execute_result"
    }
   ],
   "source": [
    "txt = 'I love python!'\n",
    "\n",
    "txt.find('ov')\n",
    "txt.find('?')"
   ]
  },
  {
   "cell_type": "markdown",
   "id": "1a8f4df9-9d32-4a85-b56a-375faf98ae68",
   "metadata": {
    "jp-MarkdownHeadingCollapsed": true,
    "tags": []
   },
   "source": [
    "### `index()`"
   ]
  },
  {
   "cell_type": "code",
   "execution_count": 79,
   "id": "dc196029-528e-4100-b5ed-54c17d506b39",
   "metadata": {},
   "outputs": [
    {
     "ename": "ValueError",
     "evalue": "substring not found",
     "output_type": "error",
     "traceback": [
      "\u001b[1;31m---------------------------------------------------------------------------\u001b[0m",
      "\u001b[1;31mValueError\u001b[0m                                Traceback (most recent call last)",
      "Input \u001b[1;32mIn [79]\u001b[0m, in \u001b[0;36m<cell line: 4>\u001b[1;34m()\u001b[0m\n\u001b[0;32m      1\u001b[0m txt \u001b[38;5;241m=\u001b[39m \u001b[38;5;124m'\u001b[39m\u001b[38;5;124mI love python!\u001b[39m\u001b[38;5;124m'\u001b[39m\n\u001b[0;32m      3\u001b[0m txt\u001b[38;5;241m.\u001b[39mindex(\u001b[38;5;124m'\u001b[39m\u001b[38;5;124mov\u001b[39m\u001b[38;5;124m'\u001b[39m)\n\u001b[1;32m----> 4\u001b[0m \u001b[43mtxt\u001b[49m\u001b[38;5;241;43m.\u001b[39;49m\u001b[43mindex\u001b[49m\u001b[43m(\u001b[49m\u001b[38;5;124;43m'\u001b[39;49m\u001b[38;5;124;43m?\u001b[39;49m\u001b[38;5;124;43m'\u001b[39;49m\u001b[43m)\u001b[49m\n",
      "\u001b[1;31mValueError\u001b[0m: substring not found"
     ]
    }
   ],
   "source": [
    "txt = 'I love python!'\n",
    "\n",
    "txt.index('ov')\n",
    "txt.index('?')"
   ]
  },
  {
   "cell_type": "code",
   "execution_count": 81,
   "id": "88d07dd2-a639-41a3-9fc4-a2fb93eb17e1",
   "metadata": {},
   "outputs": [
    {
     "name": "stdout",
     "output_type": "stream",
     "text": [
      "Help on method_descriptor:\n",
      "\n",
      "index(...)\n",
      "    S.index(sub[, start[, end]]) -> int\n",
      "    \n",
      "    Return the lowest index in S where substring sub is found,\n",
      "    such that sub is contained within S[start:end].  Optional\n",
      "    arguments start and end are interpreted as in slice notation.\n",
      "    \n",
      "    Raises ValueError when the substring is not found.\n",
      "\n",
      "Help on method_descriptor:\n",
      "\n",
      "find(...)\n",
      "    S.find(sub[, start[, end]]) -> int\n",
      "    \n",
      "    Return the lowest index in S where substring sub is found,\n",
      "    such that sub is contained within S[start:end].  Optional\n",
      "    arguments start and end are interpreted as in slice notation.\n",
      "    \n",
      "    Return -1 on failure.\n",
      "\n"
     ]
    }
   ],
   "source": [
    "help(str.index)\n",
    "help(str.find)"
   ]
  },
  {
   "cell_type": "markdown",
   "id": "23422a94-eaa2-4e4b-a4ca-6a7fff4c842c",
   "metadata": {
    "jp-MarkdownHeadingCollapsed": true,
    "tags": []
   },
   "source": [
    "### `join()`"
   ]
  },
  {
   "cell_type": "code",
   "execution_count": 92,
   "id": "03753b5d-c6b2-4af9-8b1a-a6c34d9267de",
   "metadata": {},
   "outputs": [
    {
     "name": "stdout",
     "output_type": "stream",
     "text": [
      "Help on method_descriptor:\n",
      "\n",
      "join(self, iterable, /)\n",
      "    Concatenate any number of strings.\n",
      "    \n",
      "    The string whose method is called is inserted in between each given string.\n",
      "    The result is returned as a new string.\n",
      "    \n",
      "    Example: '.'.join(['ab', 'pq', 'rs']) -> 'ab.pq.rs'\n",
      "\n"
     ]
    },
    {
     "data": {
      "text/plain": [
       "'I love python'"
      ]
     },
     "execution_count": 92,
     "metadata": {},
     "output_type": "execute_result"
    }
   ],
   "source": [
    "txt = 'I love python!'\n",
    "list1 = ['I', 'love', 'python']\n",
    "\n",
    "help(str.join)\n",
    "\n",
    "'om'.join(list1)\n",
    "'-'.join(txt)\n",
    "\n",
    "list1[0] + ' ' + list1[1] + ' ' + list1[2]"
   ]
  },
  {
   "cell_type": "markdown",
   "id": "6f289787-ce78-4383-9d34-acdbca06f07d",
   "metadata": {
    "jp-MarkdownHeadingCollapsed": true,
    "tags": []
   },
   "source": [
    "### `split()`"
   ]
  },
  {
   "cell_type": "code",
   "execution_count": 96,
   "id": "703f67cc-1bc6-4f66-b7f1-f435681e591e",
   "metadata": {},
   "outputs": [
    {
     "name": "stdout",
     "output_type": "stream",
     "text": [
      "Help on method_descriptor:\n",
      "\n",
      "split(self, /, sep=None, maxsplit=-1)\n",
      "    Return a list of the words in the string, using sep as the delimiter string.\n",
      "    \n",
      "    sep\n",
      "      The delimiter according which to split the string.\n",
      "      None (the default value) means split according to any whitespace,\n",
      "      and discard empty strings from the result.\n",
      "    maxsplit\n",
      "      Maximum number of splits to do.\n",
      "      -1 (the default value) means no limit.\n",
      "\n"
     ]
    },
    {
     "data": {
      "text/plain": [
       "['I l', 've pyth', 'n!']"
      ]
     },
     "execution_count": 96,
     "metadata": {},
     "output_type": "execute_result"
    }
   ],
   "source": [
    "txt = 'I love python!'\n",
    "\n",
    "help(str.split)\n",
    "\n",
    "txt.split('o')"
   ]
  },
  {
   "cell_type": "markdown",
   "id": "d5f537e9-1f6f-44d4-8323-6cb8e6e0355a",
   "metadata": {
    "jp-MarkdownHeadingCollapsed": true,
    "tags": []
   },
   "source": [
    "### `replace()`"
   ]
  },
  {
   "cell_type": "code",
   "execution_count": 100,
   "id": "ea3f647c-6515-4638-9bdf-33ac297c6cc6",
   "metadata": {},
   "outputs": [
    {
     "name": "stdout",
     "output_type": "stream",
     "text": [
      "Help on method_descriptor:\n",
      "\n",
      "replace(self, old, new, count=-1, /)\n",
      "    Return a copy with all occurrences of substring old replaced by new.\n",
      "    \n",
      "      count\n",
      "        Maximum number of occurrences to replace.\n",
      "        -1 (the default value) means replace all occurrences.\n",
      "    \n",
      "    If the optional argument count is given, only the first count occurrences are\n",
      "    replaced.\n",
      "\n"
     ]
    }
   ],
   "source": [
    "txt = 'I love python!'\n",
    "\n",
    "txt.replace('I', 'U')\n",
    "txt.replace(' ', '-')\n",
    "txt.replace('!', '')\n",
    "\n",
    "help(str.replace)"
   ]
  },
  {
   "cell_type": "markdown",
   "id": "767e0e91-1530-4da9-b0d0-82ae71084b72",
   "metadata": {
    "jp-MarkdownHeadingCollapsed": true,
    "tags": []
   },
   "source": [
    "### `format()`"
   ]
  },
  {
   "cell_type": "code",
   "execution_count": 113,
   "id": "6bdb4333-13e2-441e-860c-1c5acb675588",
   "metadata": {},
   "outputs": [
    {
     "data": {
      "text/plain": [
       "'1401/10/15'"
      ]
     },
     "execution_count": 113,
     "metadata": {},
     "output_type": "execute_result"
    }
   ],
   "source": [
    "# name, score\n",
    "name = 'Laleh'\n",
    "score = 19\n",
    "course = 'art'\n",
    "\n",
    "# txt = name + ' got ' + str(score) + ' in math'\n",
    "# print(txt)\n",
    "\n",
    "'{n} got {s} in {c}'.format(s=score, n=name, c=course)\n",
    "'{}/{}/{}'.format(1401, 10, 15)"
   ]
  },
  {
   "cell_type": "code",
   "execution_count": 115,
   "id": "e677458c-aa7b-421b-99dd-098943a59047",
   "metadata": {},
   "outputs": [
    {
     "data": {
      "text/plain": [
       "'Laleh got 19 in art'"
      ]
     },
     "execution_count": 115,
     "metadata": {},
     "output_type": "execute_result"
    }
   ],
   "source": [
    "f'{name} got {score} in {course}'"
   ]
  },
  {
   "cell_type": "markdown",
   "id": "a8f39992-55c5-4d18-8663-51c2704b3036",
   "metadata": {
    "jp-MarkdownHeadingCollapsed": true,
    "tags": []
   },
   "source": [
    "### isfunctions"
   ]
  },
  {
   "cell_type": "code",
   "execution_count": 123,
   "id": "3bda5dad-3c0f-45a6-bc55-2be9936cd907",
   "metadata": {},
   "outputs": [
    {
     "data": {
      "text/plain": [
       "(True, True, True, False)"
      ]
     },
     "execution_count": 123,
     "metadata": {},
     "output_type": "execute_result"
    }
   ],
   "source": [
    "txt1 = 'HI'\n",
    "txt2 = 'hi'\n",
    "txt3 = '123'\n",
    "\n",
    "txt1.isalpha(), txt2.isalpha(), txt3.isalpha()\n",
    "\n",
    "txt1.isdigit(), txt2.isdigit(), txt3.isdigit()\n",
    "\n",
    "txt1.isalnum(), txt2.isalnum(), txt3.isalnum(), '@'.isalnum()"
   ]
  },
  {
   "cell_type": "markdown",
   "id": "0a3cb3e0-94e7-4fff-8cd9-305dc191ee7b",
   "metadata": {
    "jp-MarkdownHeadingCollapsed": true,
    "tags": []
   },
   "source": [
    "### `zfill()`"
   ]
  },
  {
   "cell_type": "code",
   "execution_count": 126,
   "id": "6d1b6e6b-83eb-424a-beca-82b36684dc56",
   "metadata": {},
   "outputs": [
    {
     "data": {
      "text/plain": [
       "'0050'"
      ]
     },
     "execution_count": 126,
     "metadata": {},
     "output_type": "execute_result"
    }
   ],
   "source": [
    "txt = '50'\n",
    "num = 4\n",
    "\n",
    "txt.zfill(num)\n",
    "\n",
    "'0'*(num - len(txt)) + txt"
   ]
  },
  {
   "cell_type": "markdown",
   "id": "a7de50f5-ebd8-494b-aead-7215d876283a",
   "metadata": {
    "jp-MarkdownHeadingCollapsed": true,
    "tags": []
   },
   "source": [
    "### `encode()`: In the future"
   ]
  },
  {
   "cell_type": "code",
   "execution_count": 128,
   "id": "77099932-bb01-43d2-a11f-5ba05e0bce4f",
   "metadata": {},
   "outputs": [
    {
     "data": {
      "text/plain": [
       "b'howsam\\xd8\\xa2'"
      ]
     },
     "execution_count": 128,
     "metadata": {},
     "output_type": "execute_result"
    }
   ],
   "source": [
    "txt = 'howsamآ'\n",
    "\n",
    "txt.encode()"
   ]
  },
  {
   "cell_type": "markdown",
   "id": "c5fc3f0d-0198-4d9f-a7bd-0af548232530",
   "metadata": {
    "jp-MarkdownHeadingCollapsed": true,
    "tags": []
   },
   "source": [
    "## 🔸 **String tips & tricks**"
   ]
  },
  {
   "cell_type": "markdown",
   "id": "e8cf1874-b475-4f99-8919-4bbfe72b1804",
   "metadata": {
    "jp-MarkdownHeadingCollapsed": true,
    "tags": []
   },
   "source": [
    "### Join strings together"
   ]
  },
  {
   "cell_type": "code",
   "execution_count": 129,
   "id": "a961ad7d-9f8b-499b-94fa-02eea849edbc",
   "metadata": {
    "colab": {
     "base_uri": "https://localhost:8080/"
    },
    "id": "XjnBPC-_0v-m",
    "outputId": "75e4c973-13f8-4371-c2a1-b05a7be2bafa"
   },
   "outputs": [
    {
     "name": "stdout",
     "output_type": "stream",
     "text": [
      "I love python!\n"
     ]
    }
   ],
   "source": [
    "w1 = 'I'\n",
    "w2 = 'love'\n",
    "w3 = 'python'\n",
    "w4 = '!'\n",
    "sent = w1 + ' ' + w2 + ' ' + w3 + w4\n",
    "print(sent)"
   ]
  },
  {
   "cell_type": "markdown",
   "id": "7a0364cd-d415-4af2-afc3-929a39a33a24",
   "metadata": {
    "jp-MarkdownHeadingCollapsed": true,
    "tags": []
   },
   "source": [
    "### Repeat a string"
   ]
  },
  {
   "cell_type": "code",
   "execution_count": 131,
   "id": "51150d1e-8e45-4e00-b483-cc034b6cb682",
   "metadata": {},
   "outputs": [
    {
     "data": {
      "text/plain": [
       "'howsam-howsam-howsam-howsam-'"
      ]
     },
     "execution_count": 131,
     "metadata": {},
     "output_type": "execute_result"
    }
   ],
   "source": [
    "4*'howsam-'"
   ]
  },
  {
   "cell_type": "markdown",
   "id": "ef9d0fe5-2639-4a90-825e-d403f866e6fd",
   "metadata": {
    "jp-MarkdownHeadingCollapsed": true,
    "tags": []
   },
   "source": [
    "### Escape character"
   ]
  },
  {
   "cell_type": "code",
   "execution_count": 134,
   "id": "6d41c3e9-be7c-42c7-8d58-b0108c50dd48",
   "metadata": {},
   "outputs": [
    {
     "data": {
      "text/plain": [
       "\"I can use ' if use backslash!\""
      ]
     },
     "execution_count": 134,
     "metadata": {},
     "output_type": "execute_result"
    }
   ],
   "source": [
    "'I can use \\' if use backslash!'\n",
    "'''I can use ' if use backslash!'''"
   ]
  },
  {
   "cell_type": "markdown",
   "id": "f5c2d685-f095-443e-862d-504d4141a46b",
   "metadata": {
    "jp-MarkdownHeadingCollapsed": true,
    "tags": []
   },
   "source": [
    "### Check if a word exists in a sentence"
   ]
  },
  {
   "cell_type": "code",
   "execution_count": 136,
   "id": "0d2fc32c-b9a1-42e6-8ca3-c1d391b114bf",
   "metadata": {},
   "outputs": [
    {
     "name": "stdout",
     "output_type": "stream",
     "text": [
      "howsamآ\n"
     ]
    },
    {
     "data": {
      "text/plain": [
       "False"
      ]
     },
     "execution_count": 136,
     "metadata": {},
     "output_type": "execute_result"
    }
   ],
   "source": [
    "print(txt)\n",
    "'python' in txt"
   ]
  },
  {
   "cell_type": "markdown",
   "id": "d7217503-5fb7-41b7-9692-ba5567917bef",
   "metadata": {
    "jp-MarkdownHeadingCollapsed": true,
    "tags": []
   },
   "source": [
    "## **✍️ Example 1: Replace ' ' with '-'**"
   ]
  },
  {
   "cell_type": "markdown",
   "id": "5d1cfba6-fdf1-4eb3-805a-1e03e3a4c2e1",
   "metadata": {},
   "source": [
    "<img src=\"../images/string-1.png\" alt=\"string indexing\" width=700 align=\"center\" />"
   ]
  },
  {
   "cell_type": "code",
   "execution_count": 167,
   "id": "e57cd05c-7d2e-48b1-9552-e1fc693e3886",
   "metadata": {},
   "outputs": [
    {
     "data": {
      "text/plain": [
       "'this-is-a-string'"
      ]
     },
     "execution_count": 167,
     "metadata": {},
     "output_type": "execute_result"
    }
   ],
   "source": [
    "txt1 = 'this is a string'\n",
    "txt1.replace(' ', '-')\n",
    "\n",
    "list_splits = txt1.split()\n",
    "'-'.join(list_splits)\n",
    "\n",
    "out_txt = ''\n",
    "for c in txt1:\n",
    "    if c == ' ':\n",
    "        c = '-'\n",
    "    out_txt += c\n",
    "out_txt"
   ]
  },
  {
   "cell_type": "markdown",
   "id": "4226558e-582d-4531-a544-788fc7dc78d0",
   "metadata": {
    "jp-MarkdownHeadingCollapsed": true,
    "tags": []
   },
   "source": [
    "## **✍️ Example 2: Reverse words**"
   ]
  },
  {
   "cell_type": "markdown",
   "id": "9f44c363-9b9d-4490-a627-215b0608c754",
   "metadata": {},
   "source": [
    "<img src=\"../images/string-2.png\" alt=\"string indexing\" width=700 align=\"center\" />"
   ]
  },
  {
   "cell_type": "code",
   "execution_count": 171,
   "id": "b84edd9b-6c38-4855-b5a7-2c53ee928933",
   "metadata": {},
   "outputs": [
    {
     "data": {
      "text/plain": [
       "'sihT si na !elpmaxe'"
      ]
     },
     "execution_count": 171,
     "metadata": {},
     "output_type": "execute_result"
    }
   ],
   "source": [
    "txt1 = 'This is an example!'\n",
    "\n",
    "# f(g(h(x))) --> {y=h(x) -> z=g(y) -> w=f(z)}\n",
    "\n",
    "' '.join(txt1[::-1].split()[::-1])"
   ]
  },
  {
   "cell_type": "markdown",
   "id": "f3a9bba1-d1a0-4a02-9375-14814f0899de",
   "metadata": {
    "jp-MarkdownHeadingCollapsed": true,
    "tags": []
   },
   "source": [
    "## **✍️ Example 3: Remove duplicates**"
   ]
  },
  {
   "cell_type": "markdown",
   "id": "f394b159-11e9-40c2-9c1c-7e1a39b625f7",
   "metadata": {},
   "source": [
    "<img src=\"../images/string-3.png\" alt=\"string indexing\" width=600 align=\"center\" />"
   ]
  },
  {
   "cell_type": "code",
   "execution_count": 173,
   "id": "a00ec0f1-d3a3-4639-b317-b5fdd07fff20",
   "metadata": {},
   "outputs": [],
   "source": [
    "txt1 = 'hiiiiiii mmmmyy  fffrieennnnddddd...'"
   ]
  },
  {
   "cell_type": "code",
   "execution_count": 176,
   "id": "e6bf31f0-97e6-43ba-b7dc-088f6c0935ad",
   "metadata": {},
   "outputs": [
    {
     "data": {
      "text/plain": [
       "'hi my friend.'"
      ]
     },
     "execution_count": 176,
     "metadata": {},
     "output_type": "execute_result"
    }
   ],
   "source": [
    "out_txt = txt1[0]\n",
    "for c in txt1:\n",
    "    if c != out_txt[-1]:\n",
    "        out_txt += c\n",
    "out_txt"
   ]
  },
  {
   "cell_type": "markdown",
   "id": "e923a892-fd3d-4ce5-a28c-66689b8b895e",
   "metadata": {
    "jp-MarkdownHeadingCollapsed": true,
    "tags": []
   },
   "source": [
    "## **✍️ Example 4: Find 4-digit numbers**"
   ]
  },
  {
   "cell_type": "markdown",
   "id": "726a34aa-75f6-46f7-bd92-ce201be54d19",
   "metadata": {},
   "source": [
    "<img src=\"../images/string-4.png\" alt=\"string indexing\" width=400 align=\"center\" />"
   ]
  },
  {
   "cell_type": "code",
   "execution_count": 183,
   "id": "1573cb54-08e7-42b7-a69d-4694844a5cdf",
   "metadata": {},
   "outputs": [
    {
     "data": {
      "text/plain": [
       "[1880, 1944, 1913, 1915]"
      ]
     },
     "execution_count": 183,
     "metadata": {},
     "output_type": "execute_result"
    }
   ],
   "source": [
    "txt1 = '''Hazel MacKaye ( 1880 – 1944 ) was an American theater professional and suffragist. She is best known for helping present a series of pageants in support of women's suffrage. The organizers of the Woman Suffrage Procession, planned for March 3, 1913 (just prior to President Woodrow Wilson's inauguration), in Washington, D.C., asked MacKaye to create a pageant for the event. Titled Allegory and produced by Glenna Smith Tinnin, it was presented on the steps of the Treasury Building as the culmination of the event. The pageant was praised as \"one of the most impressively beautiful spectacles ever staged in this country\" in The New York Times. This photograph of MacKaye holding a dog was taken in 1915 by the photographic studio Harris & Ewing.'''\n",
    "\n",
    "out_numbers = []\n",
    "for item in txt1.split():\n",
    "    if len(item) == 4 and item.isdigit():\n",
    "        out_numbers.append(int(item))\n",
    "out_numbers"
   ]
  },
  {
   "cell_type": "code",
   "execution_count": null,
   "id": "b6b58200-e6c7-4b9c-8865-d74620ec5c1f",
   "metadata": {},
   "outputs": [],
   "source": [
    "txt2 = '''Lee Smith (born December 4, 1957 ) is an American former pitcher in professional baseball who played 18 years in Major League Baseball (MLB) for eight teams. A native of Jamestown, Louisiana, Smith was selected by the Chicago Cubs in the 1975 MLB draft. In 1991 , he set a National League (NL) record with 47 saves for the St. Louis Cardinals, and was runner-up for the league's Cy Young Award; it was the second of three times Smith led the NL in saves, and he later led the American League in saves once. At his retirement, he held the major league record for career games finished (802) and was third in games pitched (1,022). He still holds the record for career saves for the Cubs (180) and held the same record for the Cardinals (160) until 2006. After his playing career, Smith worked as a pitching instructor in Minor League Baseball for the San Francisco Giants. He served as the pitching coach for the South Africa national baseball team in the World Baseball Classics of 2006 and 2009 .'''\n",
    "txt2"
   ]
  },
  {
   "cell_type": "markdown",
   "id": "7b7829ba-e832-4a40-a9d1-38a3d8f97640",
   "metadata": {
    "jp-MarkdownHeadingCollapsed": true,
    "tags": []
   },
   "source": [
    "## **✍️ Example 5: 10-fingers typing**"
   ]
  },
  {
   "cell_type": "markdown",
   "id": "7d5c5315-7c2b-47ab-82ce-1d7fbb927fa5",
   "metadata": {},
   "source": [
    "<img src=\"../images/string-5.png\" alt=\"string indexing\" width=450 align=\"center\" />"
   ]
  },
  {
   "cell_type": "markdown",
   "id": "df05cd91-de67-4702-b0f3-721e4be4784a",
   "metadata": {},
   "source": [
    "<img src=\"../images/10-fingers-typing.jpg\" alt=\"string indexing\" width=400 align=\"center\" />"
   ]
  },
  {
   "cell_type": "code",
   "execution_count": 194,
   "id": "70c38ec5-af78-4740-896b-2f5feff24da8",
   "metadata": {},
   "outputs": [
    {
     "name": "stdout",
     "output_type": "stream",
     "text": [
      "yellow\n"
     ]
    }
   ],
   "source": [
    "left = ['q', 'w', 'e', 'r', 't', 'a', 's', 'd', 'f', 'g', 'z', 'x', 'c', 'v', 'b']\n",
    "right = ['y', 'u', 'i', 'o', 'p', 'h', 'j', 'k', 'l', 'n', 'm']\n",
    "\n",
    "words = ['yellow', 'test', 'pool']\n",
    "\n",
    "for word in words:\n",
    "    left_flag = False\n",
    "    right_flag = False\n",
    "    for c in word:\n",
    "        if c in left:\n",
    "            left_flag = True\n",
    "        elif c in right:\n",
    "            right_flag = True\n",
    "        if right_flag and left_flag:\n",
    "            print(word)\n",
    "            break\n",
    "            \n",
    "# yellow --> 2-hands, test --> left hand, pool --> right hand"
   ]
  }
 ],
 "metadata": {
  "kernelspec": {
   "display_name": "Python 3 (ipykernel)",
   "language": "python",
   "name": "python3"
  },
  "language_info": {
   "codemirror_mode": {
    "name": "ipython",
    "version": 3
   },
   "file_extension": ".py",
   "mimetype": "text/x-python",
   "name": "python",
   "nbconvert_exporter": "python",
   "pygments_lexer": "ipython3",
   "version": "3.9.15"
  }
 },
 "nbformat": 4,
 "nbformat_minor": 5
}
