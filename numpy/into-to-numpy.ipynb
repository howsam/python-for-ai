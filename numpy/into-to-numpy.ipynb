{
 "cells": [
  {
   "cell_type": "markdown",
   "metadata": {
    "id": "ltDaErzDg3Hp",
    "tags": []
   },
   "source": [
    "# <font color='#FFE15D'>**NumPy**</font> 🟥⬜🟩"
   ]
  },
  {
   "cell_type": "markdown",
   "metadata": {},
   "source": [
    "<img src=\"../python-notebook/images/numpylogo_dark.svg\" alt=\"string indexing\" width=300 align=\"center\" />"
   ]
  },
  {
   "cell_type": "markdown",
   "metadata": {
    "id": "slJIGRxNoE2D",
    "jp-MarkdownHeadingCollapsed": true,
    "tags": []
   },
   "source": [
    "## 🔸 **Section 0: Import numpy and get version**"
   ]
  },
  {
   "cell_type": "code",
   "execution_count": 2,
   "metadata": {
    "colab": {
     "base_uri": "https://localhost:8080/",
     "height": 35
    },
    "id": "2lUADA6Wy0EK",
    "outputId": "f8633947-23bf-4d00-e119-c2e962c51f43"
   },
   "outputs": [],
   "source": [
    "import numpy as np"
   ]
  },
  {
   "cell_type": "code",
   "execution_count": 4,
   "metadata": {},
   "outputs": [
    {
     "data": {
      "text/plain": [
       "'1.23.4'"
      ]
     },
     "execution_count": 4,
     "metadata": {},
     "output_type": "execute_result"
    }
   ],
   "source": [
    "np.__version__"
   ]
  },
  {
   "cell_type": "markdown",
   "metadata": {
    "id": "a9be3HCJC-Oq",
    "jp-MarkdownHeadingCollapsed": true,
    "tags": []
   },
   "source": [
    "### Built-in Documentation"
   ]
  },
  {
   "cell_type": "code",
   "execution_count": null,
   "metadata": {
    "colab": {
     "base_uri": "https://localhost:8080/",
     "height": 128
    },
    "id": "o8I8NhLgDAQm",
    "outputId": "d679b9e3-d0e1-41a3-f143-cd7888899911"
   },
   "outputs": [],
   "source": [
    "np.arange()"
   ]
  },
  {
   "cell_type": "markdown",
   "metadata": {
    "id": "8d25DyDxov7H",
    "jp-MarkdownHeadingCollapsed": true,
    "tags": []
   },
   "source": [
    "## 🔶 **Section 1: Numpy array**"
   ]
  },
  {
   "cell_type": "markdown",
   "metadata": {
    "id": "89flvZw6p4HC",
    "jp-MarkdownHeadingCollapsed": true,
    "tags": []
   },
   "source": [
    "### Scalar"
   ]
  },
  {
   "cell_type": "code",
   "execution_count": 17,
   "metadata": {
    "id": "3QkCWJtin7-s"
   },
   "outputs": [
    {
     "data": {
      "text/plain": [
       "array(3)"
      ]
     },
     "execution_count": 17,
     "metadata": {},
     "output_type": "execute_result"
    }
   ],
   "source": [
    "a = 3\n",
    "b = np.array(3)\n",
    "b"
   ]
  },
  {
   "cell_type": "markdown",
   "metadata": {
    "id": "b7DtHM5oqCzw",
    "jp-MarkdownHeadingCollapsed": true,
    "tags": []
   },
   "source": [
    "### Vector"
   ]
  },
  {
   "cell_type": "markdown",
   "metadata": {},
   "source": [
    "![image.png](data:image/png;base64,iVBORw0KGgoAAAANSUhEUgAAAUEAAAA2CAMAAABugNvOAAAAAXNSR0IArs4c6QAAAARnQU1BAACxjwv8YQUAAAAVUExURQAAAACw8HAwoHCtR/F9If8AAP/AAIALjWEAAAABdFJOUwBA5thmAAAACXBIWXMAABcRAAAXEQHKJvM/AAAA+0lEQVR4Xu3QsXECQADEwAdj+i8ZAs34Ur1TbQl7zvPG68bjyvvGz43fG6fBP5w4DQ5OnAYHJ06DgxOnwcGJ0+DgxGlwcOI0ODhxGhycOA0OTpwGBydOg4MTp8HBidPg4MRpcHDiNDg4cRocnDgNDk6cBgcnToODE6fBwYnT4ODEaXBw4jQ4OHEaHJw4DQ5OnAYHJ06DgxOnwcGJ0+DgxGlwcOI0ODhxGhycOA0OTpwGBydOg4MTp8HBidPg4MRpcHDiNDg4cRocnDgNDk6cBgcnToODE6fBwYnT4ODEaXBw4jQ4OHEaHJw4DQ5OnAYHJ06DgxPnO5j/OOcDLkzmoyFh8JIAAAAASUVORK5CYII=)"
   ]
  },
  {
   "cell_type": "code",
   "execution_count": 23,
   "metadata": {
    "id": "E2RcRcU8qBTc"
   },
   "outputs": [
    {
     "data": {
      "text/plain": [
       "array([1., 2., 3., 4.])"
      ]
     },
     "execution_count": 23,
     "metadata": {},
     "output_type": "execute_result"
    }
   ],
   "source": [
    "a = np.array([1, 2, 3, 4])\n",
    "a\n",
    "\n",
    "b = [1, 2, 3, 4.]\n",
    "c = np.array(b)\n",
    "c"
   ]
  },
  {
   "cell_type": "markdown",
   "metadata": {
    "id": "AqAu3O-dqQK5",
    "jp-MarkdownHeadingCollapsed": true,
    "tags": []
   },
   "source": [
    "### Matrix"
   ]
  },
  {
   "cell_type": "markdown",
   "metadata": {},
   "source": [
    "![image.png](data:image/png;base64,iVBORw0KGgoAAAANSUhEUgAAAQgAAADcCAMAAAC78M9AAAAAAXNSR0IArs4c6QAAAARnQU1BAACxjwv8YQUAAAA5UExURQAAAAAAAAAA/wAgYACLkQCwUACw8BRNUzhXI3AwoHCtR5LQUMyZAN8sPfF9IfPE/f8AAP8A///AAPXRxBMAAAABdFJOUwBA5thmAAAACXBIWXMAABcRAAAXEQHKJvM/AAABzklEQVR4Xu3cQU4YMAwAQVNKC4UWyv8fi5DmAfZ9557I2lytzLzs/Tv4dfB88Ofg46AQFIJCUAgKQSEoBIWgEBSCQlAICkEhKASFoBAUgkJQCApBISgEhaAQFIJCUAgKQSEoBIWgEBSCQlAICkEhKASFoBAUgkIwY5iNnwd/Dz4PXL/iTVYKQSEoBIWgEBSCQlAICkEhKASFoBAUgkJQCApBISgEhaAQFIJCUAgKQSEoBIWgEBSCQlAICkEhKASFoBAUgkJQCApBISgEMz/2nFn5fWDnfeX14P2gEBSCQlAICkEhKASFoBAUgkJQCApBISgEhaAQFIJCUAgKQSEoBIWgEBSCQlAICkEhKASFoBAUgkJQCApBISgEhaAQFIJCMPO093ig3cr/A/95r3iTlUJQCApBISgEhaAQFIJCUAgKQSEoBIWgEBSCQlAICkEhKASFoBAUgkJQCApBISgEhaAQFIJCUAgKQSEoBIWgEBSCQlAICsGMT7o37IWvvB2YZeXhwM77SiEoBIWgEBSCQlAICkEhKASFoBAUgkJQCApBISgEhaAQFIJCUAgKQSEoBIWgEBSCQlAICkEhKASFoBAUgkJQCApBISgEk28zX4vYmLKVVy0+AAAAAElFTkSuQmCC)"
   ]
  },
  {
   "cell_type": "code",
   "execution_count": 27,
   "metadata": {
    "id": "XFB2Q2mVqOoq"
   },
   "outputs": [
    {
     "name": "stdout",
     "output_type": "stream",
     "text": [
      "[[1, 2, 3], [2, 4, 5], [0, 1, 0], [9, 8, 7]]\n"
     ]
    },
    {
     "data": {
      "text/plain": [
       "array([[1., 2., 3.],\n",
       "       [2., 4., 5.],\n",
       "       [0., 1., 0.],\n",
       "       [9., 8., 7.]])"
      ]
     },
     "execution_count": 27,
     "metadata": {},
     "output_type": "execute_result"
    }
   ],
   "source": [
    "a = [[1, 2, 3],\n",
    "     [2, 4, 5],\n",
    "     [0, 1, 0], \n",
    "     [9, 8, 7]]\n",
    "print(a)\n",
    "\n",
    "np.array([[1, 2, 3], [2, 4, 5], [0, 1, 0], [9, 8, 7.]])"
   ]
  },
  {
   "cell_type": "markdown",
   "metadata": {
    "id": "g5gC-KWXsGfQ",
    "jp-MarkdownHeadingCollapsed": true,
    "tags": []
   },
   "source": [
    "### Column vector"
   ]
  },
  {
   "cell_type": "markdown",
   "metadata": {},
   "source": [
    "![image.png](data:image/png;base64,iVBORw0KGgoAAAANSUhEUgAAADMAAADJCAMAAAC5dvpnAAAAAXNSR0IArs4c6QAAAARnQU1BAACxjwv8YQUAAAAPUExURQAAAACw8HCtR/8AAP/AANEoJ4cAAAABdFJOUwBA5thmAAAACXBIWXMAABcRAAAXEQHKJvM/AAAAT0lEQVRoQ+3LuQ3AMAwAMefZf+bgRpCrwCB7ri3XlOPEceI4cZw4vz/vlOPEceI4cZw4R557ynHiOHGcOE6cI88z5ThxnDhOHCfOkWdqrQ/HmV+ELNxTwAAAAABJRU5ErkJggg==)"
   ]
  },
  {
   "cell_type": "code",
   "execution_count": 28,
   "metadata": {
    "id": "_ImQp8QOsFjd"
   },
   "outputs": [
    {
     "data": {
      "text/plain": [
       "array([[1],\n",
       "       [2],\n",
       "       [3],\n",
       "       [0]])"
      ]
     },
     "execution_count": 28,
     "metadata": {},
     "output_type": "execute_result"
    }
   ],
   "source": [
    "np.array([[1],\n",
    "          [2],\n",
    "          [3],\n",
    "          [0]])"
   ]
  },
  {
   "cell_type": "markdown",
   "metadata": {
    "id": "3CyJ4mG1qokv",
    "jp-MarkdownHeadingCollapsed": true,
    "tags": []
   },
   "source": [
    "### 3d Matrix"
   ]
  },
  {
   "cell_type": "markdown",
   "metadata": {},
   "source": [
    "![image.png](data:image/png;base64,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)"
   ]
  },
  {
   "cell_type": "code",
   "execution_count": 35,
   "metadata": {
    "id": "zAQLhFlLqh5U"
   },
   "outputs": [
    {
     "name": "stdout",
     "output_type": "stream",
     "text": [
      "[[1, 2], [3, 4]] [[5, 6], [7, 8]]\n",
      "[[[1, 2], [3, 4]], [[5, 6], [7, 8]]]\n",
      "[[[1, 2], [3, 4]], [[5, 6], [7, 8]]]\n"
     ]
    },
    {
     "data": {
      "text/plain": [
       "array([[[1, 2],\n",
       "        [3, 4]],\n",
       "\n",
       "       [[5, 6],\n",
       "        [7, 8]]])"
      ]
     },
     "execution_count": 35,
     "metadata": {},
     "output_type": "execute_result"
    }
   ],
   "source": [
    "a = [[1, 2], \n",
    "     [3, 4]]\n",
    "\n",
    "b = [[5, 6], \n",
    "     [7, 8]]\n",
    "\n",
    "print(a, b)\n",
    "\n",
    "c = [a, b]\n",
    "d = [\n",
    "    [[1, 2], \n",
    "     [3, 4]],\n",
    "    \n",
    "    [[5, 6], \n",
    "     [7, 8]]\n",
    "]\n",
    "print(c)\n",
    "print(d)\n",
    "\n",
    "np.array(d)"
   ]
  },
  {
   "cell_type": "code",
   "execution_count": 37,
   "metadata": {},
   "outputs": [
    {
     "data": {
      "text/plain": [
       "array([ 0,  1,  4,  9, 16, 25, 36, 49, 64, 81])"
      ]
     },
     "execution_count": 37,
     "metadata": {},
     "output_type": "execute_result"
    }
   ],
   "source": [
    "np.array(range(10))\n",
    "np.array([i**2 for i in range(10)])"
   ]
  },
  {
   "cell_type": "markdown",
   "metadata": {
    "id": "GweqDf4DsiyB",
    "jp-MarkdownHeadingCollapsed": true,
    "tags": []
   },
   "source": [
    "## 🔶 **Section 2: Numpy array attributes & methods**"
   ]
  },
  {
   "cell_type": "code",
   "execution_count": 80,
   "metadata": {
    "id": "BI3PJTpmst9a"
   },
   "outputs": [],
   "source": [
    "a = np.array(-2.5)\n",
    "b = np.array([-1, 2, 3, 4])\n",
    "c = np.array([[1., 2], [3, 4]])\n",
    "d = np.array([[[1, 2], [3, 4]], [[5, 6], [7, 8]], [[0, 1], [2, 3]]])"
   ]
  },
  {
   "cell_type": "markdown",
   "metadata": {
    "jp-MarkdownHeadingCollapsed": true,
    "tags": []
   },
   "source": [
    "### Attributes"
   ]
  },
  {
   "cell_type": "markdown",
   "metadata": {
    "id": "wanM4ijAV3GQ",
    "jp-MarkdownHeadingCollapsed": true,
    "tags": []
   },
   "source": [
    "#### `.ndim`, `.shape`, `.size`"
   ]
  },
  {
   "cell_type": "code",
   "execution_count": 70,
   "metadata": {},
   "outputs": [
    {
     "name": "stdout",
     "output_type": "stream",
     "text": [
      "0 1 2 3\n",
      "() (4,) (2, 2) (3, 2, 2)\n",
      "12 4 4 1\n"
     ]
    }
   ],
   "source": [
    "print(a.ndim, b.ndim, c.ndim, d.ndim)\n",
    "\n",
    "print(a.shape, b.shape, c.shape, d.shape)\n",
    "\n",
    "print(d.size, c.size, b.size, a.size)"
   ]
  },
  {
   "cell_type": "markdown",
   "metadata": {
    "id": "wanM4ijAV3GQ",
    "jp-MarkdownHeadingCollapsed": true,
    "tags": []
   },
   "source": [
    "#### `.dtype`"
   ]
  },
  {
   "cell_type": "code",
   "execution_count": 81,
   "metadata": {},
   "outputs": [
    {
     "data": {
      "text/plain": [
       "(dtype('float64'), dtype('int32'), dtype('float64'), dtype('int32'))"
      ]
     },
     "execution_count": 81,
     "metadata": {},
     "output_type": "execute_result"
    }
   ],
   "source": [
    "a.dtype, b.dtype, c.dtype, d.dtype"
   ]
  },
  {
   "cell_type": "markdown",
   "metadata": {
    "id": "wanM4ijAV3GQ",
    "jp-MarkdownHeadingCollapsed": true,
    "tags": []
   },
   "source": [
    "#### `.itemsize`, `.nbytes`"
   ]
  },
  {
   "cell_type": "code",
   "execution_count": 89,
   "metadata": {},
   "outputs": [
    {
     "name": "stdout",
     "output_type": "stream",
     "text": [
      "8 4 8 4\n"
     ]
    },
    {
     "data": {
      "text/plain": [
       "(16, 32, 48)"
      ]
     },
     "execution_count": 89,
     "metadata": {},
     "output_type": "execute_result"
    }
   ],
   "source": [
    "print(a.itemsize, b.itemsize, c.itemsize, d.itemsize)\n",
    "# b.size * b.itemsize\n",
    "b.nbytes, c.nbytes, d.nbytes"
   ]
  },
  {
   "cell_type": "markdown",
   "metadata": {
    "tags": []
   },
   "source": [
    "### methods"
   ]
  },
  {
   "cell_type": "code",
   "execution_count": 92,
   "metadata": {},
   "outputs": [
    {
     "data": {
      "text/plain": [
       "(-1, -1)"
      ]
     },
     "execution_count": 92,
     "metadata": {},
     "output_type": "execute_result"
    }
   ],
   "source": [
    "b.min(), np.min(b)"
   ]
  },
  {
   "cell_type": "markdown",
   "metadata": {
    "id": "GweqDf4DsiyB",
    "jp-MarkdownHeadingCollapsed": true,
    "tags": []
   },
   "source": [
    "## 🔶 **Section 3: Data type & conversion**"
   ]
  },
  {
   "cell_type": "markdown",
   "metadata": {},
   "source": [
    "<img src=\"../python-notebook/images/numpy-dtype.png\" alt=\"string indexing\" width=500 align=\"center\" />"
   ]
  },
  {
   "cell_type": "code",
   "execution_count": 97,
   "metadata": {
    "id": "BI3PJTpmst9a"
   },
   "outputs": [
    {
     "name": "stdout",
     "output_type": "stream",
     "text": [
      "int32 float64\n"
     ]
    },
    {
     "data": {
      "text/plain": [
       "(array([1, 2, 3, 4]), array([1., 2., 3., 4.]))"
      ]
     },
     "execution_count": 97,
     "metadata": {},
     "output_type": "execute_result"
    }
   ],
   "source": [
    "a = np.array([1, 2, 3, 4])\n",
    "b = np.array([1., 2, 3, 4])\n",
    "print(a.dtype, b.dtype)\n",
    "a, b"
   ]
  },
  {
   "cell_type": "markdown",
   "metadata": {
    "id": "TmZq_FH3Xivq",
    "jp-MarkdownHeadingCollapsed": true,
    "tags": []
   },
   "source": [
    "### Define an array with specific data type"
   ]
  },
  {
   "cell_type": "code",
   "execution_count": 113,
   "metadata": {
    "id": "Y5hFhNiksnHe"
   },
   "outputs": [
    {
     "data": {
      "text/plain": [
       "(array([130, 128, 127, 400], dtype=int16), dtype('int16'))"
      ]
     },
     "execution_count": 113,
     "metadata": {},
     "output_type": "execute_result"
    }
   ],
   "source": [
    "a = np.array([130, 128, 127, 400], dtype=np.int16)\n",
    "a, a.dtype"
   ]
  },
  {
   "cell_type": "code",
   "execution_count": 117,
   "metadata": {},
   "outputs": [
    {
     "data": {
      "text/plain": [
       "(array([  0, 255,   0, 255, 254], dtype=uint8), dtype('uint8'))"
      ]
     },
     "execution_count": 117,
     "metadata": {},
     "output_type": "execute_result"
    }
   ],
   "source": [
    "a = np.array([0, 255, 256, -1, -2], dtype=np.uint8)\n",
    "a, a.dtype"
   ]
  },
  {
   "cell_type": "code",
   "execution_count": 121,
   "metadata": {},
   "outputs": [
    {
     "data": {
      "text/plain": [
       "(array([  1.+1.j, 128.+0.j, 127.+0.j, 400.+0.j], dtype=complex64),\n",
       " dtype('complex64'))"
      ]
     },
     "execution_count": 121,
     "metadata": {},
     "output_type": "execute_result"
    }
   ],
   "source": [
    "a = np.array([complex(1, 1), 128, 127, 400], dtype=np.complex64)\n",
    "a, a.dtype"
   ]
  },
  {
   "cell_type": "code",
   "execution_count": 122,
   "metadata": {},
   "outputs": [
    {
     "data": {
      "text/plain": [
       "(array([ True, False,  True,  True]), dtype('bool'))"
      ]
     },
     "execution_count": 122,
     "metadata": {},
     "output_type": "execute_result"
    }
   ],
   "source": [
    "a = np.array([-130, 0, 127, 400], np.bool_)\n",
    "a, a.dtype"
   ]
  },
  {
   "cell_type": "markdown",
   "metadata": {
    "id": "lHkg6fMGwHHd",
    "jp-MarkdownHeadingCollapsed": true,
    "tags": []
   },
   "source": [
    "### Convert ↔️"
   ]
  },
  {
   "cell_type": "code",
   "execution_count": 131,
   "metadata": {
    "id": "p04AehoWwJel"
   },
   "outputs": [
    {
     "name": "stdout",
     "output_type": "stream",
     "text": [
      "[130 128 127 400] int16\n"
     ]
    },
    {
     "data": {
      "text/plain": [
       "dtype('float64')"
      ]
     },
     "execution_count": 131,
     "metadata": {},
     "output_type": "execute_result"
    }
   ],
   "source": [
    "a = np.array([130, 128, 127, 400], dtype=np.int16)\n",
    "print(a, a.dtype)\n",
    "\n",
    "a = a.astype(np.float_)\n",
    "a.dtype"
   ]
  },
  {
   "cell_type": "markdown",
   "metadata": {
    "id": "GHqYJM-iy_6i",
    "jp-MarkdownHeadingCollapsed": true,
    "tags": []
   },
   "source": [
    "## 🔶 **Section 4: Special arrays**"
   ]
  },
  {
   "cell_type": "markdown",
   "metadata": {
    "id": "VRyFKO_odIru",
    "jp-MarkdownHeadingCollapsed": true,
    "tags": []
   },
   "source": [
    "### `np.zeros()`"
   ]
  },
  {
   "cell_type": "code",
   "execution_count": 135,
   "metadata": {
    "id": "l0A7FLuszE4t"
   },
   "outputs": [
    {
     "data": {
      "text/plain": [
       "array([[[0, 0, 0, 0],\n",
       "        [0, 0, 0, 0],\n",
       "        [0, 0, 0, 0]],\n",
       "\n",
       "       [[0, 0, 0, 0],\n",
       "        [0, 0, 0, 0],\n",
       "        [0, 0, 0, 0]],\n",
       "\n",
       "       [[0, 0, 0, 0],\n",
       "        [0, 0, 0, 0],\n",
       "        [0, 0, 0, 0]],\n",
       "\n",
       "       [[0, 0, 0, 0],\n",
       "        [0, 0, 0, 0],\n",
       "        [0, 0, 0, 0]],\n",
       "\n",
       "       [[0, 0, 0, 0],\n",
       "        [0, 0, 0, 0],\n",
       "        [0, 0, 0, 0]]], dtype=int16)"
      ]
     },
     "execution_count": 135,
     "metadata": {},
     "output_type": "execute_result"
    }
   ],
   "source": [
    "np.zeros((3, 4), dtype=np.int16)\n",
    "a = np.zeros((5, 3, 4), dtype=np.int16)\n",
    "a"
   ]
  },
  {
   "cell_type": "markdown",
   "metadata": {
    "id": "yuLiJXIXdOLz",
    "jp-MarkdownHeadingCollapsed": true,
    "tags": []
   },
   "source": [
    "### `np.ones()`"
   ]
  },
  {
   "cell_type": "code",
   "execution_count": 136,
   "metadata": {
    "id": "8nS0n5wP0T1g"
   },
   "outputs": [
    {
     "data": {
      "text/plain": [
       "array([1., 1., 1., 1., 1., 1.])"
      ]
     },
     "execution_count": 136,
     "metadata": {},
     "output_type": "execute_result"
    }
   ],
   "source": [
    "np.ones(6)"
   ]
  },
  {
   "cell_type": "markdown",
   "metadata": {
    "id": "mNr0dFt3hLLr",
    "jp-MarkdownHeadingCollapsed": true,
    "tags": []
   },
   "source": [
    "### `np.eye()`"
   ]
  },
  {
   "cell_type": "code",
   "execution_count": 140,
   "metadata": {
    "id": "7mYZ7DeG0uGH"
   },
   "outputs": [
    {
     "data": {
      "text/plain": [
       "array([[1., 0.],\n",
       "       [0., 1.],\n",
       "       [0., 0.]])"
      ]
     },
     "execution_count": 140,
     "metadata": {},
     "output_type": "execute_result"
    }
   ],
   "source": [
    "np.eye(3, 2)"
   ]
  },
  {
   "cell_type": "markdown",
   "metadata": {
    "id": "ZMUW9WqDdcta",
    "jp-MarkdownHeadingCollapsed": true,
    "tags": []
   },
   "source": [
    "### `np.empty()`"
   ]
  },
  {
   "cell_type": "code",
   "execution_count": 142,
   "metadata": {
    "id": "EWK62aOV1dBE"
   },
   "outputs": [
    {
     "data": {
      "text/plain": [
       "array([2.12199579e-314, 4.67296746e-307, 2.13436359e-321, 3.79442416e-321,\n",
       "       1.90979621e-313])"
      ]
     },
     "execution_count": 142,
     "metadata": {},
     "output_type": "execute_result"
    }
   ],
   "source": [
    "np.empty(5)"
   ]
  },
  {
   "cell_type": "markdown",
   "metadata": {
    "id": "A1tX9p9Ndeww",
    "jp-MarkdownHeadingCollapsed": true,
    "tags": []
   },
   "source": [
    "### `np.full()`"
   ]
  },
  {
   "cell_type": "code",
   "execution_count": 145,
   "metadata": {
    "id": "97LZN3hx1xZ-"
   },
   "outputs": [
    {
     "data": {
      "text/plain": [
       "array([[1.2, 1.2],\n",
       "       [1.2, 1.2]])"
      ]
     },
     "execution_count": 145,
     "metadata": {},
     "output_type": "execute_result"
    }
   ],
   "source": [
    "np.full((2, 2), 1.2)\n",
    "# np.ones((2, 2))*1.2"
   ]
  },
  {
   "cell_type": "markdown",
   "metadata": {
    "id": "A1tX9p9Ndeww",
    "jp-MarkdownHeadingCollapsed": true,
    "tags": []
   },
   "source": [
    "### `np.arange()`"
   ]
  },
  {
   "cell_type": "code",
   "execution_count": 148,
   "metadata": {
    "id": "97LZN3hx1xZ-"
   },
   "outputs": [
    {
     "data": {
      "text/plain": [
       "([2, 4, 6, 8], array([2, 4, 6, 8]), array([2, 4, 6, 8]))"
      ]
     },
     "execution_count": 148,
     "metadata": {},
     "output_type": "execute_result"
    }
   ],
   "source": [
    "list(range(2, 10, 2)), np.array(range(2, 10, 2)), np.arange(2, 10, 2)"
   ]
  },
  {
   "cell_type": "markdown",
   "metadata": {
    "id": "A1tX9p9Ndeww",
    "jp-MarkdownHeadingCollapsed": true,
    "tags": []
   },
   "source": [
    "### `np.linspace()`"
   ]
  },
  {
   "cell_type": "code",
   "execution_count": 153,
   "metadata": {
    "id": "97LZN3hx1xZ-"
   },
   "outputs": [
    {
     "data": {
      "text/plain": [
       "array([0., 1., 2., 3., 4., 5., 6., 7., 8., 9.])"
      ]
     },
     "execution_count": 153,
     "metadata": {},
     "output_type": "execute_result"
    }
   ],
   "source": [
    "np.linspace(0, 9, 10)"
   ]
  },
  {
   "cell_type": "markdown",
   "metadata": {},
   "source": [
    "step = (stop - start +1) / num"
   ]
  },
  {
   "cell_type": "code",
   "execution_count": 156,
   "metadata": {},
   "outputs": [
    {
     "data": {
      "text/plain": [
       "array([0.        , 0.02040816, 0.04081633, 0.06122449, 0.08163265,\n",
       "       0.10204082, 0.12244898, 0.14285714, 0.16326531, 0.18367347,\n",
       "       0.20408163, 0.2244898 , 0.24489796, 0.26530612, 0.28571429,\n",
       "       0.30612245, 0.32653061, 0.34693878, 0.36734694, 0.3877551 ,\n",
       "       0.40816327, 0.42857143, 0.44897959, 0.46938776, 0.48979592,\n",
       "       0.51020408, 0.53061224, 0.55102041, 0.57142857, 0.59183673,\n",
       "       0.6122449 , 0.63265306, 0.65306122, 0.67346939, 0.69387755,\n",
       "       0.71428571, 0.73469388, 0.75510204, 0.7755102 , 0.79591837,\n",
       "       0.81632653, 0.83673469, 0.85714286, 0.87755102, 0.89795918,\n",
       "       0.91836735, 0.93877551, 0.95918367, 0.97959184, 1.        ])"
      ]
     },
     "execution_count": 156,
     "metadata": {},
     "output_type": "execute_result"
    }
   ],
   "source": [
    "np.linspace(0, 1, 100)\n",
    "np.linspace(0, 1)"
   ]
  },
  {
   "cell_type": "markdown",
   "metadata": {
    "id": "xBi5z9k9h_3p",
    "jp-MarkdownHeadingCollapsed": true,
    "tags": []
   },
   "source": [
    "### create a zero vector with the same size as `a`"
   ]
  },
  {
   "cell_type": "code",
   "execution_count": 159,
   "metadata": {
    "id": "uUVFBB8Vc5VP"
   },
   "outputs": [
    {
     "data": {
      "text/plain": [
       "array([[[0, 0, 0, 0],\n",
       "        [0, 0, 0, 0],\n",
       "        [0, 0, 0, 0]],\n",
       "\n",
       "       [[0, 0, 0, 0],\n",
       "        [0, 0, 0, 0],\n",
       "        [0, 0, 0, 0]],\n",
       "\n",
       "       [[0, 0, 0, 0],\n",
       "        [0, 0, 0, 0],\n",
       "        [0, 0, 0, 0]],\n",
       "\n",
       "       [[0, 0, 0, 0],\n",
       "        [0, 0, 0, 0],\n",
       "        [0, 0, 0, 0]],\n",
       "\n",
       "       [[0, 0, 0, 0],\n",
       "        [0, 0, 0, 0],\n",
       "        [0, 0, 0, 0]]], dtype=int16)"
      ]
     },
     "execution_count": 159,
     "metadata": {},
     "output_type": "execute_result"
    }
   ],
   "source": [
    "b = np.zeros(a.shape, dtype=a.dtype)\n",
    "b"
   ]
  },
  {
   "cell_type": "code",
   "execution_count": 161,
   "metadata": {},
   "outputs": [
    {
     "data": {
      "text/plain": [
       "array([0, 0, 0, 0])"
      ]
     },
     "execution_count": 161,
     "metadata": {},
     "output_type": "execute_result"
    }
   ],
   "source": [
    "a = np.array([1, 2, 3, 4])\n",
    "\n",
    "b = np.zeros_like(a)\n",
    "b"
   ]
  },
  {
   "cell_type": "code",
   "execution_count": null,
   "metadata": {},
   "outputs": [],
   "source": [
    "np.ones_like()"
   ]
  },
  {
   "cell_type": "markdown",
   "metadata": {
    "id": "l_4kzWi-kLPi",
    "jp-MarkdownHeadingCollapsed": true,
    "tags": []
   },
   "source": [
    "## 🔶 **Section 5: Random arrays**"
   ]
  },
  {
   "cell_type": "code",
   "execution_count": 10,
   "metadata": {},
   "outputs": [
    {
     "data": {
      "text/plain": [
       "array([0.35560638, 0.80398826])"
      ]
     },
     "execution_count": 10,
     "metadata": {},
     "output_type": "execute_result"
    }
   ],
   "source": [
    "np.random.rand(2)\n",
    "\n",
    "import numpy as np\n",
    "from numpy import random\n",
    "\n",
    "random.rand(2)"
   ]
  },
  {
   "cell_type": "markdown",
   "metadata": {
    "id": "dz1GD9Esk6kR",
    "jp-MarkdownHeadingCollapsed": true,
    "tags": []
   },
   "source": [
    "### `np.random.rand()`: uniform distribution over [0, 1)"
   ]
  },
  {
   "cell_type": "markdown",
   "metadata": {},
   "source": [
    "<img src=\"../python-notebook/images/uniform.png\" alt=\"string indexing\" width=400 align=\"center\" />"
   ]
  },
  {
   "cell_type": "code",
   "execution_count": 48,
   "metadata": {},
   "outputs": [
    {
     "data": {
      "text/plain": [
       "4.092820980009645"
      ]
     },
     "execution_count": 48,
     "metadata": {},
     "output_type": "execute_result"
    }
   ],
   "source": [
    "np.random.rand()\n",
    "np.random.rand(2, 3)\n",
    "\n",
    "10 * np.random.rand() - 5"
   ]
  },
  {
   "cell_type": "markdown",
   "metadata": {
    "id": "eV5p6ql6lC5T",
    "jp-MarkdownHeadingCollapsed": true,
    "tags": []
   },
   "source": [
    "#### Visualize"
   ]
  },
  {
   "cell_type": "code",
   "execution_count": 49,
   "metadata": {
    "id": "f-evZ66ckLPj"
   },
   "outputs": [
    {
     "data": {
      "image/png": "[encoded data removed]",
      "text/plain": [
       "<Figure size 432x288 with 1 Axes>"
      ]
     },
     "metadata": {
      "needs_background": "light"
     },
     "output_type": "display_data"
    }
   ],
   "source": [
    "import matplotlib.pyplot as plt\n",
    "\n",
    "rand_uniform = 10 * np.random.rand(10000)\n",
    "plt.hist(rand_uniform)\n",
    "plt.show()"
   ]
  },
  {
   "cell_type": "markdown",
   "metadata": {
    "jp-MarkdownHeadingCollapsed": true,
    "tags": []
   },
   "source": [
    "### `np.random.randn()`: standard normal distribution ($\\mu=0$, $\\sigma=1$)"
   ]
  },
  {
   "cell_type": "markdown",
   "metadata": {},
   "source": [
    "<img src=\"../python-notebook/images/gaussian-dist.png\" alt=\"string indexing\" width=500 align=\"center\" />"
   ]
  },
  {
   "cell_type": "code",
   "execution_count": 104,
   "metadata": {
    "id": "Y0_TNsSKkLPi"
   },
   "outputs": [
    {
     "data": {
      "text/plain": [
       "2.0407331715530925"
      ]
     },
     "execution_count": 104,
     "metadata": {},
     "output_type": "execute_result"
    }
   ],
   "source": [
    "np.random.randn()\n",
    "\n",
    "np.random.randn(2, 3)\n",
    "\n",
    "2 + 0.1 * np.random.randn()"
   ]
  },
  {
   "cell_type": "markdown",
   "metadata": {
    "id": "eV5p6ql6lC5T",
    "jp-MarkdownHeadingCollapsed": true,
    "tags": []
   },
   "source": [
    "#### Visualize"
   ]
  },
  {
   "cell_type": "code",
   "execution_count": 113,
   "metadata": {
    "id": "6p5ct8PikLPj"
   },
   "outputs": [
    {
     "data": {
      "image/png": "[encoded data removed]",
      "text/plain": [
       "<Figure size 432x288 with 1 Axes>"
      ]
     },
     "metadata": {
      "needs_background": "light"
     },
     "output_type": "display_data"
    }
   ],
   "source": [
    "import matplotlib.pyplot as plt\n",
    "\n",
    "rand_gauss = 0.1 * np.random.randn(100000) + 2\n",
    "plt.hist(rand_gauss, 100)\n",
    "plt.grid()\n",
    "plt.show()"
   ]
  },
  {
   "cell_type": "markdown",
   "metadata": {
    "id": "9D99p_u8eHjE",
    "jp-MarkdownHeadingCollapsed": true,
    "tags": []
   },
   "source": [
    "### `np.random.randint()`"
   ]
  },
  {
   "cell_type": "code",
   "execution_count": 178,
   "metadata": {
    "id": "4euIgD9bkLPk"
   },
   "outputs": [
    {
     "data": {
      "text/plain": [
       "dtype('int32')"
      ]
     },
     "execution_count": 178,
     "metadata": {},
     "output_type": "execute_result"
    }
   ],
   "source": [
    "np.random.randint(10)\n",
    "\n",
    "np.random.randint(5, 10)\n",
    "\n",
    "a = np.random.randint(-5, 5, size=(4, 6))\n",
    "a.dtype"
   ]
  },
  {
   "cell_type": "markdown",
   "metadata": {
    "id": "xOuWKMUllSws",
    "jp-MarkdownHeadingCollapsed": true,
    "tags": []
   },
   "source": [
    "### `np.random.permutation()`"
   ]
  },
  {
   "cell_type": "code",
   "execution_count": 221,
   "metadata": {
    "id": "gQMIGTGukLPk"
   },
   "outputs": [
    {
     "data": {
      "text/plain": [
       "array([1, 6, 4, 2, 7, 9, 5, 3, 8, 0])"
      ]
     },
     "execution_count": 221,
     "metadata": {},
     "output_type": "execute_result"
    }
   ],
   "source": [
    "a = np.random.permutation(10)\n",
    "a"
   ]
  },
  {
   "cell_type": "markdown",
   "metadata": {
    "id": "xOuWKMUllSws",
    "jp-MarkdownHeadingCollapsed": true,
    "tags": []
   },
   "source": [
    "### `np.random.shuffle()`"
   ]
  },
  {
   "cell_type": "code",
   "execution_count": 220,
   "metadata": {
    "id": "gQMIGTGukLPk"
   },
   "outputs": [
    {
     "name": "stdout",
     "output_type": "stream",
     "text": [
      "[[1 2 3 4]\n",
      " [5 6 7 8]]\n",
      "\n",
      "[[1 2 3 4]\n",
      " [5 6 7 8]]\n"
     ]
    }
   ],
   "source": [
    "a = np.array([[1, 2, 3, 4],\n",
    "              [5, 6, 7, 8]])\n",
    "print(a, end='\\n\\n')\n",
    "np.random.shuffle(a)\n",
    "print(a)"
   ]
  },
  {
   "cell_type": "markdown",
   "metadata": {
    "id": "BXgGnplRlp4q",
    "tags": []
   },
   "source": [
    "### `np.random.seed()`"
   ]
  },
  {
   "cell_type": "code",
   "execution_count": 289,
   "metadata": {
    "id": "2_gdGPsuJZDr"
   },
   "outputs": [
    {
     "data": {
      "text/plain": [
       "-0.001976805501436618"
      ]
     },
     "execution_count": 289,
     "metadata": {},
     "output_type": "execute_result"
    }
   ],
   "source": [
    "np.random.seed(135454)\n",
    "\n",
    "np.random.randn()"
   ]
  },
  {
   "cell_type": "markdown",
   "metadata": {
    "id": "PJ0xY5OVLoA5",
    "jp-MarkdownHeadingCollapsed": true,
    "tags": []
   },
   "source": [
    "## 🔶 **Section 6: Indexing & Slicing**"
   ]
  },
  {
   "cell_type": "markdown",
   "metadata": {
    "id": "ekK7D2A12kgc",
    "jp-MarkdownHeadingCollapsed": true,
    "tags": []
   },
   "source": [
    "### Indexing"
   ]
  },
  {
   "cell_type": "markdown",
   "metadata": {
    "id": "LT34N1vmNHT9",
    "jp-MarkdownHeadingCollapsed": true,
    "tags": []
   },
   "source": [
    "#### Vector"
   ]
  },
  {
   "cell_type": "code",
   "execution_count": 165,
   "metadata": {
    "colab": {
     "base_uri": "https://localhost:8080/"
    },
    "executionInfo": {
     "elapsed": 430,
     "status": "ok",
     "timestamp": 1657392592759,
     "user": {
      "displayName": "Howsam AI",
      "userId": "14680048223925681202"
     },
     "user_tz": -270
    },
    "id": "kb0ktDENL_Ew",
    "outputId": "ce008c2e-98e3-4fb2-ec50-8c90221d7aff"
   },
   "outputs": [
    {
     "name": "stdout",
     "output_type": "stream",
     "text": [
      "[-1.52519357 -0.06041375  0.72393361 -0.52620323 -0.9970291 ]\n"
     ]
    },
    {
     "data": {
      "text/plain": [
       "0.723933608658126"
      ]
     },
     "execution_count": 165,
     "metadata": {},
     "output_type": "execute_result"
    }
   ],
   "source": [
    "a = np.random.randn(5)\n",
    "print(a)\n",
    "\n",
    "a[2]"
   ]
  },
  {
   "cell_type": "markdown",
   "metadata": {
    "id": "LT34N1vmNHT9",
    "jp-MarkdownHeadingCollapsed": true,
    "tags": []
   },
   "source": [
    "#### Matrix"
   ]
  },
  {
   "cell_type": "markdown",
   "metadata": {},
   "source": [
    "![image.png](data:image/png;base64,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)"
   ]
  },
  {
   "cell_type": "code",
   "execution_count": 171,
   "metadata": {
    "colab": {
     "base_uri": "https://localhost:8080/"
    },
    "executionInfo": {
     "elapsed": 441,
     "status": "ok",
     "timestamp": 1657392794902,
     "user": {
      "displayName": "Howsam AI",
      "userId": "14680048223925681202"
     },
     "user_tz": -270
    },
    "id": "uGTGDwZjNIAw",
    "outputId": "9101e3b2-72e6-454c-a6b3-ac31f85e5738"
   },
   "outputs": [
    {
     "name": "stdout",
     "output_type": "stream",
     "text": [
      "[[-5 -3 -5 -2]\n",
      " [-3 -1 -4  4]\n",
      " [-1 -3 -5  0]]\n"
     ]
    },
    {
     "data": {
      "text/plain": [
       "(-1, 0, -5)"
      ]
     },
     "execution_count": 171,
     "metadata": {},
     "output_type": "execute_result"
    }
   ],
   "source": [
    "b = np.random.randint(-5, 5, (3, 4))\n",
    "print(b)\n",
    "\n",
    "b[1, 1], b[-1, -1], b[-1, -2]"
   ]
  },
  {
   "cell_type": "code",
   "execution_count": 174,
   "metadata": {},
   "outputs": [
    {
     "name": "stdout",
     "output_type": "stream",
     "text": [
      "[[-5, -3, -5, -2], [-3, -1, -4, 4], [-1, -3, -5, 0]]\n"
     ]
    },
    {
     "data": {
      "text/plain": [
       "-3"
      ]
     },
     "execution_count": 174,
     "metadata": {},
     "output_type": "execute_result"
    }
   ],
   "source": [
    "c = [[-5, -3, -5, -2], [-3, -1, -4,  4], [-1, -3, -5,  0]]\n",
    "print(c)\n",
    "c[1][0]"
   ]
  },
  {
   "cell_type": "markdown",
   "metadata": {
    "id": "KSVjc4sJPVfo",
    "jp-MarkdownHeadingCollapsed": true,
    "tags": []
   },
   "source": [
    "#### 3d Matrix"
   ]
  },
  {
   "cell_type": "markdown",
   "metadata": {},
   "source": [
    "![image.png](data:image/png;base64,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)"
   ]
  },
  {
   "cell_type": "code",
   "execution_count": 184,
   "metadata": {
    "colab": {
     "base_uri": "https://localhost:8080/"
    },
    "executionInfo": {
     "elapsed": 552,
     "status": "ok",
     "timestamp": 1657392978303,
     "user": {
      "displayName": "Howsam AI",
      "userId": "14680048223925681202"
     },
     "user_tz": -270
    },
    "id": "Jl_5_TqFPWWb",
    "outputId": "99ab0699-dc67-471a-c2b1-2d6f8c3be959"
   },
   "outputs": [
    {
     "name": "stdout",
     "output_type": "stream",
     "text": [
      "[[[87 82 60]\n",
      "  [46  4 49]\n",
      "  [43 92 73]\n",
      "  [66 48 16]\n",
      "  [ 9 55 92]]\n",
      "\n",
      " [[35 31 33]\n",
      "  [58  9 80]\n",
      "  [49 20 55]\n",
      "  [ 0 76  5]\n",
      "  [30 14 90]]]\n"
     ]
    },
    {
     "data": {
      "text/plain": [
       "20"
      ]
     },
     "execution_count": 184,
     "metadata": {},
     "output_type": "execute_result"
    }
   ],
   "source": [
    "c = np.random.randint(100, size=(2, 5, 3))\n",
    "print(c)\n",
    "\n",
    "c[-1, 2, 1]"
   ]
  },
  {
   "cell_type": "markdown",
   "metadata": {
    "id": "6KyVQQhNQmz-",
    "jp-MarkdownHeadingCollapsed": true,
    "tags": []
   },
   "source": [
    "### Slicing"
   ]
  },
  {
   "cell_type": "markdown",
   "metadata": {
    "id": "Azd0cHEgo2Cq",
    "jp-MarkdownHeadingCollapsed": true,
    "tags": []
   },
   "source": [
    "#### Vector"
   ]
  },
  {
   "cell_type": "code",
   "execution_count": 188,
   "metadata": {
    "colab": {
     "base_uri": "https://localhost:8080/"
    },
    "executionInfo": {
     "elapsed": 4,
     "status": "ok",
     "timestamp": 1657393063908,
     "user": {
      "displayName": "Howsam AI",
      "userId": "14680048223925681202"
     },
     "user_tz": -270
    },
    "id": "UC8lSxNLQUoq",
    "outputId": "df9238b0-dba4-44d3-f6cd-7974280d2545"
   },
   "outputs": [
    {
     "name": "stdout",
     "output_type": "stream",
     "text": [
      "[-0.10440082 -0.01403767 -0.1680537  -0.35256665  0.08365492]\n"
     ]
    },
    {
     "data": {
      "text/plain": [
       "(array([-0.10440082, -0.01403767, -0.1680537 ]),\n",
       " array([-0.10440082, -0.1680537 ,  0.08365492]))"
      ]
     },
     "execution_count": 188,
     "metadata": {},
     "output_type": "execute_result"
    }
   ],
   "source": [
    "a = np.random.randn(5)\n",
    "print(a)\n",
    "\n",
    "a[:3], a[::2]"
   ]
  },
  {
   "cell_type": "markdown",
   "metadata": {
    "id": "_DAbwGFBRsdb",
    "jp-MarkdownHeadingCollapsed": true,
    "tags": []
   },
   "source": [
    "#### Matrix"
   ]
  },
  {
   "cell_type": "code",
   "execution_count": 191,
   "metadata": {
    "colab": {
     "base_uri": "https://localhost:8080/"
    },
    "executionInfo": {
     "elapsed": 401,
     "status": "ok",
     "timestamp": 1657393674222,
     "user": {
      "displayName": "Howsam AI",
      "userId": "14680048223925681202"
     },
     "user_tz": -270
    },
    "id": "-D9KlldgRtJl",
    "outputId": "fd95cc00-f474-4fd9-8156-9267bed90e57"
   },
   "outputs": [
    {
     "name": "stdout",
     "output_type": "stream",
     "text": [
      "[[-0.03635037  0.86541139  0.33900402  0.68501787  0.63788876]\n",
      " [ 0.69160893 -1.27289738  0.43782843  0.04064932  0.97145016]\n",
      " [ 1.11022618  0.37073504 -0.47704237 -0.63981943 -2.08040726]]\n"
     ]
    },
    {
     "data": {
      "text/plain": [
       "array([[0.68501787, 0.63788876],\n",
       "       [0.04064932, 0.97145016]])"
      ]
     },
     "execution_count": 191,
     "metadata": {},
     "output_type": "execute_result"
    }
   ],
   "source": [
    "b = np.random.randn(3, 5)\n",
    "print(b)\n",
    "\n",
    "b[0:2, -2:]"
   ]
  },
  {
   "cell_type": "code",
   "execution_count": 204,
   "metadata": {
    "colab": {
     "base_uri": "https://localhost:8080/"
    },
    "executionInfo": {
     "elapsed": 401,
     "status": "ok",
     "timestamp": 1657393674222,
     "user": {
      "displayName": "Howsam AI",
      "userId": "14680048223925681202"
     },
     "user_tz": -270
    },
    "id": "-D9KlldgRtJl",
    "outputId": "fd95cc00-f474-4fd9-8156-9267bed90e57"
   },
   "outputs": [
    {
     "name": "stdout",
     "output_type": "stream",
     "text": [
      "[[ 0.49734222  0.67129394  0.50791951  0.54344379 -0.41929956]\n",
      " [-0.98187458 -0.00776118 -0.08300573 -0.70723033  1.13102281]\n",
      " [-0.89679086 -0.36763114 -0.32548507 -0.74718291  0.42946733]]\n"
     ]
    },
    {
     "data": {
      "text/plain": [
       "(array([ 0.49734222,  0.67129394,  0.50791951,  0.54344379, -0.41929956]),\n",
       " array([ 0.49734222,  0.67129394,  0.50791951,  0.54344379, -0.41929956]),\n",
       " array([ 0.49734222,  0.67129394,  0.50791951,  0.54344379, -0.41929956]))"
      ]
     },
     "execution_count": 204,
     "metadata": {},
     "output_type": "execute_result"
    }
   ],
   "source": [
    "b = np.random.randn(3, 5)\n",
    "print(b)\n",
    "\n",
    "b[0, 0:], b[0, :], b[0]"
   ]
  },
  {
   "cell_type": "code",
   "execution_count": 210,
   "metadata": {
    "colab": {
     "base_uri": "https://localhost:8080/"
    },
    "executionInfo": {
     "elapsed": 401,
     "status": "ok",
     "timestamp": 1657393674222,
     "user": {
      "displayName": "Howsam AI",
      "userId": "14680048223925681202"
     },
     "user_tz": -270
    },
    "id": "-D9KlldgRtJl",
    "outputId": "fd95cc00-f474-4fd9-8156-9267bed90e57"
   },
   "outputs": [
    {
     "name": "stdout",
     "output_type": "stream",
     "text": [
      "[[ 0.02202004  0.23233041  0.29985625 -1.54198592 -0.5584778 ]\n",
      " [-0.92980507 -1.30741875 -1.61951587 -0.80297536  0.06298044]\n",
      " [-0.3924727  -0.1666416  -1.64595209  2.74444929 -1.26632362]]\n"
     ]
    },
    {
     "data": {
      "text/plain": [
       "array([[-1.54198592],\n",
       "       [-0.80297536],\n",
       "       [ 2.74444929]])"
      ]
     },
     "execution_count": 210,
     "metadata": {},
     "output_type": "execute_result"
    }
   ],
   "source": [
    "b = np.random.randn(3, 5)\n",
    "print(b)\n",
    "\n",
    "b[:, -2:]\n",
    "b[:, [-2]]"
   ]
  },
  {
   "cell_type": "markdown",
   "metadata": {
    "id": "m8Sd7blGS-yA",
    "jp-MarkdownHeadingCollapsed": true,
    "tags": []
   },
   "source": [
    "#### 3d Matrix"
   ]
  },
  {
   "cell_type": "code",
   "execution_count": 221,
   "metadata": {
    "colab": {
     "base_uri": "https://localhost:8080/"
    },
    "executionInfo": {
     "elapsed": 550,
     "status": "ok",
     "timestamp": 1657393870654,
     "user": {
      "displayName": "Howsam AI",
      "userId": "14680048223925681202"
     },
     "user_tz": -270
    },
    "id": "iuzMXyw_S_XN",
    "outputId": "94dcdd7d-6219-4d0b-f23e-54102cdaf6f2"
   },
   "outputs": [
    {
     "name": "stdout",
     "output_type": "stream",
     "text": [
      "[[[ 1.38923713  1.11171834  0.1402046 ]\n",
      "  [-0.04071939 -1.44945217 -0.6793876 ]]\n",
      "\n",
      " [[-0.02002371  1.0077114  -0.72367105]\n",
      "  [ 0.38541034 -0.63187882 -1.07110909]]\n",
      "\n",
      " [[ 0.21023852  0.82909229 -0.98797359]\n",
      "  [ 1.72830412 -0.42578864 -0.42399962]]\n",
      "\n",
      " [[ 0.28359008 -0.18501142 -0.94212502]\n",
      "  [ 0.64532683 -0.09110158 -0.24592076]]]\n"
     ]
    },
    {
     "data": {
      "text/plain": [
       "array([[[ 0.1402046 ],\n",
       "        [-0.6793876 ]],\n",
       "\n",
       "       [[-0.72367105],\n",
       "        [-1.07110909]],\n",
       "\n",
       "       [[-0.98797359],\n",
       "        [-0.42399962]],\n",
       "\n",
       "       [[-0.94212502],\n",
       "        [-0.24592076]]])"
      ]
     },
     "execution_count": 221,
     "metadata": {},
     "output_type": "execute_result"
    }
   ],
   "source": [
    "c = np.random.randn(4, 2, 3)\n",
    "print(c)\n",
    "\n",
    "c[1], c[1, :, :]\n",
    "c[1, 1, :]\n",
    "c[2, :, -1]\n",
    "c[0::2]\n",
    "c[0::2, -1]\n",
    "c[:, :, [-1]]"
   ]
  },
  {
   "cell_type": "code",
   "execution_count": 224,
   "metadata": {},
   "outputs": [
    {
     "name": "stdout",
     "output_type": "stream",
     "text": [
      "[[[-0.09705885  0.19148805 -0.51533387]\n",
      "  [ 0.43280627 -1.00963422  1.09098989]]\n",
      "\n",
      " [[ 0.68977329 -0.13879542 -1.59695912]\n",
      "  [ 0.2994985  -1.09418666 -2.31192396]]\n",
      "\n",
      " [[ 0.08526697  0.89713449 -0.48126914]\n",
      "  [ 1.40457266 -1.57199348 -0.84397171]]\n",
      "\n",
      " [[-0.75312148  0.07973762  0.02376576]\n",
      "  [-0.07836671 -1.38089708  1.25645863]]]\n"
     ]
    },
    {
     "data": {
      "text/plain": [
       "array([[[-0.51533387],\n",
       "        [ 1.09098989]],\n",
       "\n",
       "       [[-1.59695912],\n",
       "        [-2.31192396]],\n",
       "\n",
       "       [[-0.48126914],\n",
       "        [-0.84397171]],\n",
       "\n",
       "       [[ 0.02376576],\n",
       "        [ 1.25645863]]])"
      ]
     },
     "execution_count": 224,
     "metadata": {},
     "output_type": "execute_result"
    }
   ],
   "source": [
    "c = np.random.randn(4, 2, 3)\n",
    "print(c)\n",
    "\n",
    "c[..., [-1]]"
   ]
  },
  {
   "cell_type": "markdown",
   "metadata": {
    "id": "6KyVQQhNQmz-",
    "jp-MarkdownHeadingCollapsed": true,
    "tags": []
   },
   "source": [
    "### Fancy indexing"
   ]
  },
  {
   "cell_type": "code",
   "execution_count": 232,
   "metadata": {
    "colab": {
     "base_uri": "https://localhost:8080/"
    },
    "executionInfo": {
     "elapsed": 4,
     "status": "ok",
     "timestamp": 1657393063908,
     "user": {
      "displayName": "Howsam AI",
      "userId": "14680048223925681202"
     },
     "user_tz": -270
    },
    "id": "UC8lSxNLQUoq",
    "outputId": "df9238b0-dba4-44d3-f6cd-7974280d2545"
   },
   "outputs": [
    {
     "name": "stdout",
     "output_type": "stream",
     "text": [
      "[-0.76962454  0.43886391  0.8041267   0.4349774  -0.95102116]\n"
     ]
    },
    {
     "data": {
      "text/plain": [
       "array([-0.76962454,  0.43886391, -0.95102116])"
      ]
     },
     "execution_count": 232,
     "metadata": {},
     "output_type": "execute_result"
    }
   ],
   "source": [
    "a = np.random.randn(5)\n",
    "print(a)\n",
    "\n",
    "a[0], a[1], a[-1]\n",
    "a[[0, 1, 4]]"
   ]
  },
  {
   "cell_type": "code",
   "execution_count": 238,
   "metadata": {},
   "outputs": [
    {
     "data": {
      "text/plain": [
       "(array([0, 3, 3]), array([-0.76962454,  0.4349774 ,  0.4349774 ]))"
      ]
     },
     "execution_count": 238,
     "metadata": {},
     "output_type": "execute_result"
    }
   ],
   "source": [
    "idx = np.random.randint(5, size=(3,))\n",
    "idx, a[idx]"
   ]
  },
  {
   "cell_type": "code",
   "execution_count": 241,
   "metadata": {},
   "outputs": [
    {
     "name": "stdout",
     "output_type": "stream",
     "text": [
      "[[1 1 1 0 3]\n",
      " [3 4 1 2 3]\n",
      " [4 4 2 0 3]\n",
      " [3 4 4 0 3]]\n"
     ]
    },
    {
     "data": {
      "text/plain": [
       "array([1, 1, 3])"
      ]
     },
     "execution_count": 241,
     "metadata": {},
     "output_type": "execute_result"
    }
   ],
   "source": [
    "a = np.random.randint(0, 5, size=(4, 5))\n",
    "print(a)\n",
    "\n",
    "row = [0, 1, 3]\n",
    "col = [0, 2, 4]\n",
    "a[row, col]"
   ]
  },
  {
   "cell_type": "markdown",
   "metadata": {
    "id": "6KyVQQhNQmz-",
    "jp-MarkdownHeadingCollapsed": true,
    "tags": []
   },
   "source": [
    "### Boolean indexing"
   ]
  },
  {
   "cell_type": "code",
   "execution_count": 245,
   "metadata": {
    "colab": {
     "base_uri": "https://localhost:8080/"
    },
    "executionInfo": {
     "elapsed": 4,
     "status": "ok",
     "timestamp": 1657393063908,
     "user": {
      "displayName": "Howsam AI",
      "userId": "14680048223925681202"
     },
     "user_tz": -270
    },
    "id": "UC8lSxNLQUoq",
    "outputId": "df9238b0-dba4-44d3-f6cd-7974280d2545"
   },
   "outputs": [
    {
     "name": "stdout",
     "output_type": "stream",
     "text": [
      "[ 0.21167784 -0.27710562 -1.16418611 -0.2336972   0.8805697 ]\n"
     ]
    },
    {
     "data": {
      "text/plain": [
       "array([ 0.21167784, -0.27710562,  0.8805697 ])"
      ]
     },
     "execution_count": 245,
     "metadata": {},
     "output_type": "execute_result"
    }
   ],
   "source": [
    "a = np.random.randn(5)\n",
    "print(a)\n",
    "\n",
    "idx = [True, True, False, False, True]\n",
    "a[idx]"
   ]
  },
  {
   "cell_type": "code",
   "execution_count": 248,
   "metadata": {},
   "outputs": [
    {
     "name": "stdout",
     "output_type": "stream",
     "text": [
      "[[0 3 3 1]\n",
      " [3 2 1 1]\n",
      " [1 1 0 1]\n",
      " [3 4 3 1]\n",
      " [4 3 1 4]]\n",
      "[[ True False  True  True]\n",
      " [False  True False  True]\n",
      " [False False False False]\n",
      " [False  True False  True]\n",
      " [ True  True  True  True]]\n"
     ]
    },
    {
     "data": {
      "text/plain": [
       "array([0, 3, 1, 2, 1, 4, 1, 4, 3, 1, 4])"
      ]
     },
     "execution_count": 248,
     "metadata": {},
     "output_type": "execute_result"
    }
   ],
   "source": [
    "a = np.random.randint(5, size=(5, 4))\n",
    "print(a)\n",
    "\n",
    "mask = np.random.randint(2, size=a.shape, dtype=np.bool_)\n",
    "print(mask)\n",
    "\n",
    "a[mask]"
   ]
  },
  {
   "cell_type": "markdown",
   "metadata": {
    "id": "kr0lLhUw072R",
    "jp-MarkdownHeadingCollapsed": true,
    "tags": []
   },
   "source": [
    "## **✍️ Example 1: Create the following matrices**"
   ]
  },
  {
   "cell_type": "markdown",
   "metadata": {},
   "source": [
    "$$\\begin{bmatrix} 1 & 2 & 3 \\\\ 1 & 2 & 3 \\\\ 1 & 2 & 3  \\\\ 4 & 5 & 6  \\\\ 4 & 5 & 6 \\end{bmatrix}$$"
   ]
  },
  {
   "cell_type": "code",
   "execution_count": 258,
   "metadata": {},
   "outputs": [
    {
     "data": {
      "text/plain": [
       "array([[1., 2., 3.],\n",
       "       [1., 2., 3.],\n",
       "       [1., 2., 3.],\n",
       "       [4., 5., 6.],\n",
       "       [4., 5., 6.]])"
      ]
     },
     "execution_count": 258,
     "metadata": {},
     "output_type": "execute_result"
    }
   ],
   "source": [
    "a = np.zeros((5, 3))\n",
    "a[0:3] = np.arange(1, 4)\n",
    "a[3:] = np.arange(4, 7)\n",
    "a"
   ]
  },
  {
   "cell_type": "markdown",
   "metadata": {},
   "source": [
    "$$\\begin{bmatrix} -1 & 0 & -3 & 2 & -5 & 4 & -7 & 6 & -9 & 8 \\end{bmatrix}$$"
   ]
  },
  {
   "cell_type": "code",
   "execution_count": 268,
   "metadata": {},
   "outputs": [
    {
     "data": {
      "text/plain": [
       "array([-1.,  0., -3.,  2., -5.,  4., -7.,  6., -9.,  8.])"
      ]
     },
     "execution_count": 268,
     "metadata": {},
     "output_type": "execute_result"
    }
   ],
   "source": [
    "m1 = np.arange(-9, 0, 2)\n",
    "m2 = np.arange(0, 10, 2)\n",
    "\n",
    "b = np.zeros(10)\n",
    "b[::2] = m1[::-1]\n",
    "b[1::2] = m2\n",
    "b"
   ]
  }
 ],
 "metadata": {
  "accelerator": "GPU",
  "colab": {
   "authorship_tag": "ABX9TyO3sFVncehiWG1JxsOHy0VP",
   "collapsed_sections": [
    "slJIGRxNoE2D",
    "MzKKwd0AK8M2",
    "8d25DyDxov7H",
    "89flvZw6p4HC",
    "b7DtHM5oqCzw",
    "AqAu3O-dqQK5",
    "g5gC-KWXsGfQ",
    "3CyJ4mG1qokv",
    "GweqDf4DsiyB",
    "lHkg6fMGwHHd",
    "BmFoICpQxQsX",
    "QQGT8Q5NrRbe",
    "YpO_z_91uESI",
    "EWKsQn1XuJk6",
    "yEXzDEIcul7q",
    "u_kZ_vpTvrCz",
    "oUMFVfXKcnDJ",
    "yWr5QfaDxMDh",
    "GHqYJM-iy_6i",
    "l_4kzWi-kLPi",
    "dz1GD9Esk6kR",
    "U-P4PgmqlC5S",
    "eV5p6ql6lC5T",
    "9D99p_u8eHjE",
    "xOuWKMUllSws",
    "BXgGnplRlp4q",
    "PJ0xY5OVLoA5",
    "ekK7D2A12kgc",
    "1lER0MjDnU07",
    "LT34N1vmNHT9",
    "KSVjc4sJPVfo",
    "6KyVQQhNQmz-",
    "Azd0cHEgo2Cq",
    "_DAbwGFBRsdb",
    "m8Sd7blGS-yA",
    "dsy6eBCjYKzf",
    "SSJBBkJXtSNn",
    "CWABZJ6RtkVq",
    "wFBZ2dawt71T",
    "oLAbnKlmt-xB",
    "oNHBNBFYuBn2",
    "icvfjfCpuG-Y",
    "wfqBOfr_3W6x",
    "YSRqbr29vkED",
    "Y_D7XfFCnX7M",
    "B0j6Wae7-WXB",
    "dUo01hBzsuLG",
    "YoRb6QuN5i5Y",
    "2FzpChip5464",
    "Y3K7B4xY6QPu",
    "EEj795-z6ni4",
    "fM18wi0R9LoY",
    "AKkoElAF67C6",
    "fV8NwFzPdRE6",
    "fNbiRm3E5JvG",
    "5YnpIQLYf4Nj",
    "LmLEOobIhFgR",
    "OiMbufKZh5Cn",
    "Fbekaalx5UmS",
    "htWCKrtR5790",
    "cteG7Bzj5_zL",
    "Z6Fh2aWS6DmL",
    "8nIDONNt6G6C",
    "YIP_Rd8p6JXz",
    "EGsb6bqa6LvX",
    "XvgiBQvo6Yi7",
    "TrMakNGN6xlR",
    "-U3XK08x69uf",
    "vx_Jm2Ye7Bws",
    "AJaf7Ho-7Erq",
    "XxoWcdik7Hmm",
    "Q5cQwSXS7KAI",
    "_mSrs8yl7Msg",
    "Cr_NHB2r7UaN",
    "hIDmDOaC7W1F",
    "6WNKRIL67ZKu",
    "4Sl4KDSJ7cAZ",
    "GyH5Emmv7fph",
    "ZQXmK9MJ7i2V",
    "6eq3WuEP7lRB",
    "92yrgjRAsRYP",
    "x7ESGB06swgS",
    "5r9u9HVIszgU"
   ],
   "name": "template-session-0-torch-as-numpy.ipynb",
   "provenance": [
    {
     "file_id": "1jUyGfkF0s-m_lSui2--LjQ0yIFEEj80Q",
     "timestamp": 1657198832456
    },
    {
     "file_id": "1LVtkzJJqsI2koC8J6LPpGTKXH9cGwCEe",
     "timestamp": 1657188323957
    }
   ]
  },
  "gpuClass": "standard",
  "kernelspec": {
   "display_name": "Python 3 (ipykernel)",
   "language": "python",
   "name": "python3"
  },
  "language_info": {
   "codemirror_mode": {
    "name": "ipython",
    "version": 3
   },
   "file_extension": ".py",
   "mimetype": "text/x-python",
   "name": "python",
   "nbconvert_exporter": "python",
   "pygments_lexer": "ipython3",
   "version": "3.9.15"
  }
 },
 "nbformat": 4,
 "nbformat_minor": 4
}
