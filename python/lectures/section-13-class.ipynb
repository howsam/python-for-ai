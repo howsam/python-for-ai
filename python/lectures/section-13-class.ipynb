{
 "cells": [
  {
   "cell_type": "markdown",
   "id": "1f3424d7-5df5-464d-b3af-801a8bb12d74",
   "metadata": {
    "tags": []
   },
   "source": [
    "# <font color='#FFE15D'>**Section 13: Class** ⛰️</font>"
   ]
  },
  {
   "cell_type": "markdown",
   "id": "981b69d7-07ba-4012-9403-023c5189707f",
   "metadata": {
    "id": "duFit9Ksg7VN"
   },
   "source": [
    "<img src=\"../images/joystick.png\" alt=\"string indexing\" width=200 align=\"center\" />"
   ]
  },
  {
   "cell_type": "markdown",
   "id": "80b66748-8e15-4ca5-b15a-9aea8aedf9db",
   "metadata": {
    "jp-MarkdownHeadingCollapsed": true,
    "tags": []
   },
   "source": [
    "## **🔸Flashback: Variable as an object**"
   ]
  },
  {
   "cell_type": "code",
   "execution_count": 31,
   "id": "e80602be-65d3-4510-b845-c51545fe6034",
   "metadata": {},
   "outputs": [],
   "source": [
    "x = 5 + 2j\n",
    "y = 5.5\n",
    "w = 2.3\n",
    "p = 2 - 5j\n",
    "z = 'salam howsam!'"
   ]
  },
  {
   "cell_type": "code",
   "execution_count": 26,
   "id": "804a1e94-d618-440a-a5e6-eb1d441e9f74",
   "metadata": {},
   "outputs": [
    {
     "data": {
      "text/plain": [
       "(complex, float, str)"
      ]
     },
     "execution_count": 26,
     "metadata": {},
     "output_type": "execute_result"
    }
   ],
   "source": [
    "x.__class__, y.__class__, z.__class__"
   ]
  },
  {
   "cell_type": "code",
   "execution_count": 33,
   "id": "ba17286c-fca8-412f-b0f4-bfa1d2c26253",
   "metadata": {},
   "outputs": [
    {
     "data": {
      "text/plain": [
       "(0.0, 5.5, 2.0, 5.0)"
      ]
     },
     "execution_count": 33,
     "metadata": {},
     "output_type": "execute_result"
    }
   ],
   "source": [
    "y.imag, y.real, x.imag, x.real\n",
    "# p."
   ]
  },
  {
   "cell_type": "code",
   "execution_count": 37,
   "id": "9063869a-5358-447f-ae2f-482eeaea1dc0",
   "metadata": {},
   "outputs": [
    {
     "data": {
      "text/plain": [
       "(False, (5-2j), (2+5j), False)"
      ]
     },
     "execution_count": 37,
     "metadata": {},
     "output_type": "execute_result"
    }
   ],
   "source": [
    "z.isdigit(), x.conjugate(), p.conjugate(), y.is_integer()"
   ]
  },
  {
   "cell_type": "markdown",
   "id": "e76eb5ec-cab8-436f-a8d3-9d43be4b2ac6",
   "metadata": {
    "jp-MarkdownHeadingCollapsed": true,
    "tags": []
   },
   "source": [
    "## 🔸 **How to define a class**"
   ]
  },
  {
   "cell_type": "markdown",
   "id": "0ef33f08-49fe-4cb8-a7e8-26c425fb5e99",
   "metadata": {
    "id": "duFit9Ksg7VN"
   },
   "source": [
    "<img src=\"../images/class.png\" alt=\"string indexing\" width=600 align=\"center\" />"
   ]
  },
  {
   "cell_type": "markdown",
   "id": "3f2c5b6a-de01-47d2-b4d0-7e0e9d2f77e6",
   "metadata": {
    "id": "duFit9Ksg7VN"
   },
   "source": [
    "<img src=\"../images/define-make-call.png\" alt=\"string indexing\" width=400 align=\"center\" />"
   ]
  },
  {
   "cell_type": "markdown",
   "id": "bf611a40-5f06-4876-a0db-39925318a87c",
   "metadata": {
    "jp-MarkdownHeadingCollapsed": true,
    "tags": []
   },
   "source": [
    "### Example 1: Class with property"
   ]
  },
  {
   "cell_type": "code",
   "execution_count": 55,
   "id": "ae9d7835-4dd5-43c8-a3ee-f9ff68f74242",
   "metadata": {},
   "outputs": [],
   "source": [
    "class Person:\n",
    "    name = ''\n",
    "    family = ''\n",
    "    gender = ''\n",
    "    age = 0"
   ]
  },
  {
   "cell_type": "code",
   "execution_count": 58,
   "id": "d4e15cbb-70f0-49e0-947c-bb52e318bd41",
   "metadata": {},
   "outputs": [
    {
     "data": {
      "text/plain": [
       "__main__.Person"
      ]
     },
     "execution_count": 58,
     "metadata": {},
     "output_type": "execute_result"
    }
   ],
   "source": [
    "person1 = Person()\n",
    "person1.__class__"
   ]
  },
  {
   "cell_type": "code",
   "execution_count": 65,
   "id": "344d068c-a529-4d0c-9685-e49e391172f1",
   "metadata": {
    "tags": []
   },
   "outputs": [
    {
     "name": "stdout",
     "output_type": "stream",
     "text": [
      "Sajad\n",
      "Ashrafi\n",
      "2\n"
     ]
    }
   ],
   "source": [
    "person1.name = 'Sajad'\n",
    "print(person1.name)\n",
    "\n",
    "person1.family = 'Ashrafi'\n",
    "print(person1.family)\n",
    "\n",
    "person1.age = 2\n",
    "print(person1.age)"
   ]
  },
  {
   "cell_type": "code",
   "execution_count": 70,
   "id": "19e09310-bfa4-4f1f-92ea-c6c18c4f015e",
   "metadata": {},
   "outputs": [
    {
     "data": {
      "text/plain": [
       "(0, 'Mohammad')"
      ]
     },
     "execution_count": 70,
     "metadata": {},
     "output_type": "execute_result"
    }
   ],
   "source": [
    "mohammadi = Person()\n",
    "mohammadi.name = 'Mohammad'\n",
    "mohammadi.age, mohammadi.name"
   ]
  },
  {
   "cell_type": "markdown",
   "id": "af5fdc04-a521-4466-a45c-5301abb9429d",
   "metadata": {
    "jp-MarkdownHeadingCollapsed": true,
    "tags": []
   },
   "source": [
    "#### A simple usage"
   ]
  },
  {
   "cell_type": "code",
   "execution_count": 1,
   "id": "113a76e4-4c87-4669-ae11-a1fafa15e4b6",
   "metadata": {},
   "outputs": [],
   "source": [
    "class Config:\n",
    "    num_layers = 3\n",
    "    num_neurons = [100, 50, 3]\n",
    "    lr = 0.0001\n",
    "    beta = 0.9\n",
    "    batch_size = 128"
   ]
  },
  {
   "cell_type": "code",
   "execution_count": null,
   "id": "8a0e0e8d-b708-4f61-95b1-85f9fd0a447b",
   "metadata": {},
   "outputs": [],
   "source": [
    "config = Config()\n",
    "print(config.beta)\n",
    "config.lr = 0.1"
   ]
  },
  {
   "cell_type": "markdown",
   "id": "a8883d7c-c524-480f-9c07-02d613e44abd",
   "metadata": {
    "jp-MarkdownHeadingCollapsed": true,
    "tags": []
   },
   "source": [
    "### Example 2: Class with method"
   ]
  },
  {
   "cell_type": "code",
   "execution_count": 91,
   "id": "f19f42c7-e223-4c2a-8aeb-72951d0154d4",
   "metadata": {},
   "outputs": [],
   "source": [
    "class Person:\n",
    "    \n",
    "    def print_name(self, name):\n",
    "        print(name)\n",
    "        print(id(self))\n",
    "    \n",
    "    def print_age(self):\n",
    "        print('No Age!')\n",
    "    \n",
    "    def print_gender(self):\n",
    "        pass"
   ]
  },
  {
   "cell_type": "code",
   "execution_count": 89,
   "id": "4688f732-4cc2-4a2c-827a-e4a32d2bf7b0",
   "metadata": {},
   "outputs": [
    {
     "data": {
      "text/plain": [
       "<__main__.Person at 0x171ea520370>"
      ]
     },
     "execution_count": 89,
     "metadata": {},
     "output_type": "execute_result"
    }
   ],
   "source": [
    "person1 = Person()\n",
    "person1"
   ]
  },
  {
   "cell_type": "code",
   "execution_count": 90,
   "id": "9794ad36-33aa-4fb9-b24a-10326c16a06a",
   "metadata": {},
   "outputs": [
    {
     "name": "stdout",
     "output_type": "stream",
     "text": [
      "No Age!\n"
     ]
    },
    {
     "ename": "TypeError",
     "evalue": "print_name() takes 1 positional argument but 2 were given",
     "output_type": "error",
     "traceback": [
      "\u001b[1;31m---------------------------------------------------------------------------\u001b[0m",
      "\u001b[1;31mTypeError\u001b[0m                                 Traceback (most recent call last)",
      "Cell \u001b[1;32mIn [90], line 2\u001b[0m\n\u001b[0;32m      1\u001b[0m person1\u001b[38;5;241m.\u001b[39mprint_age()\n\u001b[1;32m----> 2\u001b[0m \u001b[43mperson1\u001b[49m\u001b[38;5;241;43m.\u001b[39;49m\u001b[43mprint_name\u001b[49m\u001b[43m(\u001b[49m\u001b[38;5;124;43m'\u001b[39;49m\u001b[38;5;124;43mSajad Ashrafi\u001b[39;49m\u001b[38;5;124;43m'\u001b[39;49m\u001b[43m)\u001b[49m\n",
      "\u001b[1;31mTypeError\u001b[0m: print_name() takes 1 positional argument but 2 were given"
     ]
    }
   ],
   "source": [
    "person1.print_age()\n",
    "person1.print_name()"
   ]
  },
  {
   "cell_type": "code",
   "execution_count": 83,
   "id": "d6a41542-7f3c-4d04-b412-9dba19a4b487",
   "metadata": {},
   "outputs": [
    {
     "data": {
      "text/plain": [
       "1588763958768"
      ]
     },
     "execution_count": 83,
     "metadata": {},
     "output_type": "execute_result"
    }
   ],
   "source": [
    "id(person1)"
   ]
  },
  {
   "cell_type": "code",
   "execution_count": 87,
   "id": "91e992a9-275b-4e69-874a-3b9431f96c99",
   "metadata": {},
   "outputs": [
    {
     "name": "stdout",
     "output_type": "stream",
     "text": [
      "1588784690080\n",
      "asghar\n",
      "1588784690080\n"
     ]
    }
   ],
   "source": [
    "person2 = Person()\n",
    "print(id(person2))\n",
    "person2.print_name('asghar')"
   ]
  },
  {
   "cell_type": "markdown",
   "id": "960f2d69-d62d-47ed-a90d-74bc0f571fdf",
   "metadata": {
    "jp-MarkdownHeadingCollapsed": true,
    "tags": []
   },
   "source": [
    "### Example 3: Class with property & method"
   ]
  },
  {
   "cell_type": "code",
   "execution_count": 131,
   "id": "41df2266-6d07-4a71-8c4f-4812773c4276",
   "metadata": {},
   "outputs": [],
   "source": [
    "class Person:\n",
    "    name = ''\n",
    "    age = 0\n",
    "    \n",
    "    def print_name(self):\n",
    "        # x = 2\n",
    "        # y = x * 2\n",
    "        print(self.name)\n",
    "        return self.y\n",
    "    \n",
    "    def print_age(self):\n",
    "        print(self.name, self.age)\n",
    "        print(self.print_name())\n",
    "        \n",
    "    def grade(self, x):\n",
    "        y = x**2\n",
    "        self.y = y\n",
    "        return y"
   ]
  },
  {
   "cell_type": "code",
   "execution_count": 132,
   "id": "11d0b829-514d-4554-b0ca-0daac884b6e5",
   "metadata": {},
   "outputs": [
    {
     "data": {
      "text/plain": [
       "'Sajad'"
      ]
     },
     "execution_count": 132,
     "metadata": {},
     "output_type": "execute_result"
    }
   ],
   "source": [
    "person1 = Person()\n",
    "person1.age = 2\n",
    "person1.name = 'Sajad'\n",
    "person1.name"
   ]
  },
  {
   "cell_type": "code",
   "execution_count": 135,
   "id": "4318ec59-4b8a-4dfc-95f2-4bf20a5374ea",
   "metadata": {},
   "outputs": [
    {
     "data": {
      "text/plain": [
       "324"
      ]
     },
     "execution_count": 135,
     "metadata": {},
     "output_type": "execute_result"
    }
   ],
   "source": [
    "out = person1.grade(18)\n",
    "out\n",
    "person1.y"
   ]
  },
  {
   "cell_type": "code",
   "execution_count": 136,
   "id": "6a23d4c9-2f07-4c5a-8beb-46feac8946ff",
   "metadata": {},
   "outputs": [
    {
     "name": "stdout",
     "output_type": "stream",
     "text": [
      "Sajad\n",
      "Sajad 2\n",
      "Sajad\n",
      "324\n"
     ]
    },
    {
     "data": {
      "text/plain": [
       "(324, None)"
      ]
     },
     "execution_count": 136,
     "metadata": {},
     "output_type": "execute_result"
    }
   ],
   "source": [
    "person1.print_name(), person1.print_age()"
   ]
  },
  {
   "cell_type": "code",
   "execution_count": 137,
   "id": "ab331bee-5233-4b46-ba4b-60a6f37a2d9e",
   "metadata": {},
   "outputs": [],
   "source": [
    "class Person:\n",
    "    \n",
    "    def init(self, name, age):\n",
    "        self.name = name\n",
    "        self.age = age\n",
    "    \n",
    "    def print_name(self):\n",
    "        # x = 2\n",
    "        # y = x * 2\n",
    "        print(self.name)\n",
    "        return self.y\n",
    "    \n",
    "    def print_age(self):\n",
    "        print(self.name, self.age)\n",
    "        print(self.print_name())\n",
    "        \n",
    "    def grade(self, x):\n",
    "        y = x**2\n",
    "        self.y = y\n",
    "        return y"
   ]
  },
  {
   "cell_type": "code",
   "execution_count": 144,
   "id": "d1193643-7c2a-416e-957d-0eae9850e256",
   "metadata": {},
   "outputs": [
    {
     "name": "stdout",
     "output_type": "stream",
     "text": [
      "sajad\n"
     ]
    },
    {
     "data": {
      "text/plain": [
       "('sajad', 2, 144, 144)"
      ]
     },
     "execution_count": 144,
     "metadata": {},
     "output_type": "execute_result"
    }
   ],
   "source": [
    "person1 = Person()\n",
    "person1.init('sajad', 2)\n",
    "person1.name, person1.age, person1.grade(12), person1.print_name()"
   ]
  },
  {
   "cell_type": "markdown",
   "id": "16c7731a-f988-41ed-8c83-7d5b4ce254a9",
   "metadata": {
    "id": "kr0lLhUw072R",
    "jp-MarkdownHeadingCollapsed": true,
    "tags": []
   },
   "source": [
    "## **✍️ Example: Studnets**"
   ]
  },
  {
   "cell_type": "markdown",
   "id": "bfcd7c17-1ea7-4089-87bb-ce8bebe31774",
   "metadata": {
    "id": "duFit9Ksg7VN"
   },
   "source": [
    "<img src=\"../images/class-example-1.png\" alt=\"string indexing\" width=700 align=\"center\" />"
   ]
  },
  {
   "cell_type": "code",
   "execution_count": 24,
   "id": "13d6f760-e3d1-48d5-bec1-8c78c657f7b1",
   "metadata": {},
   "outputs": [],
   "source": [
    "class Students:\n",
    "    units = {'math':3, 'physics':2, 'sport':1, 'art':1}\n",
    "    \n",
    "    def scores(self, math, physics, sport, art):\n",
    "        self.math = math\n",
    "        self.physics = physics\n",
    "        self.sport = sport\n",
    "        self.art = art\n",
    "    \n",
    "    def average(self):\n",
    "        return (self.math*self.units['math'] + self.physics*self.units['physics']+self.sport*self.units['sport']+self.art*self.units['art']) / sum(self.units.values())"
   ]
  },
  {
   "cell_type": "code",
   "execution_count": 28,
   "id": "e24d7adc-c429-4ab1-8df7-6f4dd1e3f70a",
   "metadata": {
    "tags": []
   },
   "outputs": [
    {
     "data": {
      "text/plain": [
       "17.0"
      ]
     },
     "execution_count": 28,
     "metadata": {},
     "output_type": "execute_result"
    }
   ],
   "source": [
    "sajad = Students()\n",
    "sajad.scores(math=20, physics=19, sport=2, art=19)\n",
    "sajad.average()"
   ]
  },
  {
   "cell_type": "code",
   "execution_count": 46,
   "id": "7f333a7f-8f2e-4d7e-a530-47643d6773bb",
   "metadata": {},
   "outputs": [],
   "source": [
    "class Students:\n",
    "    units = {'math':3, 'physics':2, 'sport':1, 'art':1}\n",
    "    \n",
    "    def scores(self, **score):\n",
    "        self.score = score\n",
    "    \n",
    "    def average(self):\n",
    "        # return sum([self.score[u]*self.units[u] for u in self.units.keys()]) / sum(self.units.values())\n",
    "        self.avg = sum(map(lambda x: self.units[x]*self.score[x], self.units.keys())) / sum(self.units.values())\n",
    "        return self.avg\n",
    "    \n",
    "    def grades(self):\n",
    "        if self.avg >= 19:\n",
    "            grade = 'A+'\n",
    "        elif ..."
   ]
  },
  {
   "cell_type": "code",
   "execution_count": 47,
   "id": "0e104b45-71ae-4db9-b07c-bb7e4d420d0a",
   "metadata": {
    "tags": []
   },
   "outputs": [
    {
     "data": {
      "text/plain": [
       "17.0"
      ]
     },
     "execution_count": 47,
     "metadata": {},
     "output_type": "execute_result"
    }
   ],
   "source": [
    "sajad = Students()\n",
    "sajad.scores(math=20, physics=19, sport=2, art=19)\n",
    "sajad.average()"
   ]
  },
  {
   "cell_type": "markdown",
   "id": "bbe83508-6a3c-4352-add3-f9bdffff48c4",
   "metadata": {
    "id": "kr0lLhUw072R",
    "jp-MarkdownHeadingCollapsed": true,
    "tags": []
   },
   "source": [
    "## **✍️ Example: Cylinder**"
   ]
  },
  {
   "cell_type": "markdown",
   "id": "f53bfa4b-de04-49f4-a37d-db1c74367069",
   "metadata": {
    "id": "duFit9Ksg7VN"
   },
   "source": [
    "<img src=\"../images/class-example-2.png\" alt=\"string indexing\" width=450 align=\"center\" />"
   ]
  },
  {
   "cell_type": "code",
   "execution_count": 48,
   "id": "a6285492-20ef-4d75-957f-0b339f136ce4",
   "metadata": {},
   "outputs": [],
   "source": [
    "class Cylinder:\n",
    "    pi = 3.1416\n",
    "    \n",
    "    def init(self, r, h):\n",
    "        self.r = r\n",
    "        self.h = h\n",
    "    \n",
    "    def area_circle(self):\n",
    "        return self.pi * self.r**2\n",
    "    \n",
    "    def area_lateral(self):\n",
    "        return 2*self.pi * self.r * self.h\n",
    "    \n",
    "    def area_cylinder(self):\n",
    "        return 2*self.area_circle() + self.area_lateral()\n",
    "    \n",
    "    def volume_cylinder(self):\n",
    "        return self.area_circle() * self.h"
   ]
  },
  {
   "cell_type": "code",
   "execution_count": 52,
   "id": "c36ab855-b665-482b-a73a-955fa2c54a0d",
   "metadata": {},
   "outputs": [
    {
     "data": {
      "text/plain": [
       "785.3999999999999"
      ]
     },
     "execution_count": 52,
     "metadata": {},
     "output_type": "execute_result"
    }
   ],
   "source": [
    "cylinder = Cylinder()\n",
    "cylinder.init(r=5, h=10)\n",
    "cylinder.area_cylinder()\n",
    "cylinder.volume_cylinder()"
   ]
  },
  {
   "cell_type": "markdown",
   "id": "5f395b74-dde0-4a0d-b7b8-feafefcd9e3f",
   "metadata": {
    "id": "kr0lLhUw072R",
    "jp-MarkdownHeadingCollapsed": true,
    "tags": []
   },
   "source": [
    "## **✍️ Example: Temprature Converter**"
   ]
  },
  {
   "cell_type": "markdown",
   "id": "60c82bbd-0a6c-432e-a3b7-c32cac2497a3",
   "metadata": {
    "id": "duFit9Ksg7VN"
   },
   "source": [
    "<img src=\"../images/class-example-3.png\" alt=\"string indexing\" width=600 align=\"center\" />"
   ]
  },
  {
   "cell_type": "code",
   "execution_count": null,
   "id": "d2359065-7774-46e5-92e1-484775b78940",
   "metadata": {},
   "outputs": [],
   "source": [
    "class CelsiusConverter:\n",
    "    \n",
    "    def init(self, T):\n",
    "        self.T = T\n",
    "\n",
    "    def to_fahrenheit(self):\n",
    "        f = self.T * 9/5 + 32\n",
    "        return f\n",
    "        \n",
    "    def to_kelvin(self):\n",
    "        k = self.T + 273.15\n",
    "        return k\n",
    "    \n",
    "    def to_rankine(self):\n",
    "        r = self.T * 9/5 + 491.67\n",
    "        return r"
   ]
  },
  {
   "cell_type": "code",
   "execution_count": 56,
   "id": "7d062f5c-8286-4b0f-bd73-282ecbf99c8e",
   "metadata": {},
   "outputs": [],
   "source": [
    "temp = CelsiusConverter()\n",
    "temp.init(20)"
   ]
  },
  {
   "cell_type": "code",
   "execution_count": 57,
   "id": "bb415a36-151b-463c-b86f-654e9eb33f00",
   "metadata": {},
   "outputs": [
    {
     "data": {
      "text/plain": [
       "(68.0, 293.15, 527.6700000000001)"
      ]
     },
     "execution_count": 57,
     "metadata": {},
     "output_type": "execute_result"
    }
   ],
   "source": [
    "temp.to_fahrenheit(), temp.to_kelvin(), temp.to_rankine()"
   ]
  },
  {
   "cell_type": "markdown",
   "id": "9df014d7-a133-42a8-97ce-6d6be4d0ffbb",
   "metadata": {
    "id": "kr0lLhUw072R",
    "jp-MarkdownHeadingCollapsed": true,
    "tags": []
   },
   "source": [
    "## **✍️ Example: Bank Account**"
   ]
  },
  {
   "cell_type": "markdown",
   "id": "e24ed89f-6a7e-4508-9501-d11df9ac9fc7",
   "metadata": {
    "id": "duFit9Ksg7VN"
   },
   "source": [
    "<img src=\"../images/class-example-4.png\" alt=\"string indexing\" width=700 align=\"center\" />"
   ]
  },
  {
   "cell_type": "code",
   "execution_count": 71,
   "id": "67b4c9e2-88d3-40b7-9d8c-3851e3f8979f",
   "metadata": {},
   "outputs": [],
   "source": [
    "class BankAcount:\n",
    "    \n",
    "    def init(self, name, acount_number, money):\n",
    "        self.name = name\n",
    "        self.acount_number = acount_number\n",
    "        self.money = money\n",
    "        \n",
    "    def inquiry(self):\n",
    "        print(f'Money: {self.money}')\n",
    "    \n",
    "    def deposit(self, val):\n",
    "        self.money += val\n",
    "    \n",
    "    def withdrawal(self, val):\n",
    "        if self.money < val:\n",
    "            print('Insufficient Money!')\n",
    "        else:\n",
    "            self.money -= val\n",
    "    "
   ]
  },
  {
   "cell_type": "code",
   "execution_count": 72,
   "id": "35dc5ea6-95c6-4dce-a043-c1c439ee8474",
   "metadata": {},
   "outputs": [],
   "source": [
    "acount = BankAcount()\n",
    "acount.init('Sajad', 5464654845, 50000)"
   ]
  },
  {
   "cell_type": "code",
   "execution_count": 73,
   "id": "745c364d-2fe1-4377-a5e4-07052cbe0bf8",
   "metadata": {},
   "outputs": [
    {
     "name": "stdout",
     "output_type": "stream",
     "text": [
      "Money: 50000\n"
     ]
    }
   ],
   "source": [
    "acount.inquiry()"
   ]
  },
  {
   "cell_type": "code",
   "execution_count": 81,
   "id": "c31f10dd-a933-445c-8700-35db9a9f2cf2",
   "metadata": {},
   "outputs": [
    {
     "name": "stdout",
     "output_type": "stream",
     "text": [
      "Money: 130000\n"
     ]
    }
   ],
   "source": [
    "acount.deposit(10000)\n",
    "acount.inquiry()"
   ]
  },
  {
   "cell_type": "code",
   "execution_count": 84,
   "id": "f31a4eaa-0250-4049-8e25-393880088510",
   "metadata": {},
   "outputs": [
    {
     "name": "stdout",
     "output_type": "stream",
     "text": [
      "Money: 0\n"
     ]
    }
   ],
   "source": [
    "acount.withdrawal(11000)\n",
    "acount.inquiry()"
   ]
  },
  {
   "cell_type": "markdown",
   "id": "73fd7187-350e-42f0-bf8b-d8dc8c49a467",
   "metadata": {
    "jp-MarkdownHeadingCollapsed": true,
    "tags": []
   },
   "source": [
    "## 🔸 **Specially named methods**"
   ]
  },
  {
   "cell_type": "code",
   "execution_count": 97,
   "id": "0de66d0a-0755-401a-a335-84ba4af3f805",
   "metadata": {},
   "outputs": [],
   "source": [
    "class Cylinder:\n",
    "    pi = 3.1416\n",
    "    \n",
    "    def __init__(self, r, h):\n",
    "        self.r = r\n",
    "        self.h = h\n",
    "    \n",
    "    def area_circle(self):\n",
    "        return self.pi * self.r**2\n",
    "    \n",
    "    def area_lateral(self):\n",
    "        return 2*self.pi * self.r * self.h\n",
    "    \n",
    "    def area_cylinder(self):\n",
    "        return 2*self.area_circle() + self.area_lateral()\n",
    "    \n",
    "    def volume_cylinder(self):\n",
    "        return self.area_circle() * self.h"
   ]
  },
  {
   "cell_type": "code",
   "execution_count": 101,
   "id": "0fa47609-0a0a-40ad-92a5-dcb88bdee03c",
   "metadata": {},
   "outputs": [
    {
     "data": {
      "text/plain": [
       "5"
      ]
     },
     "execution_count": 101,
     "metadata": {},
     "output_type": "execute_result"
    }
   ],
   "source": [
    "cylinder = Cylinder(5, 10)\n",
    "cylinder.r\n",
    "# cylinder.init(r=5, h=10)"
   ]
  },
  {
   "cell_type": "code",
   "execution_count": 95,
   "id": "efe56341-7d3f-4ba0-b735-d84cba59eaf3",
   "metadata": {},
   "outputs": [
    {
     "data": {
      "text/plain": [
       "471.24"
      ]
     },
     "execution_count": 95,
     "metadata": {},
     "output_type": "execute_result"
    }
   ],
   "source": [
    "cylinder.area_cylinder()"
   ]
  },
  {
   "cell_type": "markdown",
   "id": "d3f85c5b-d456-4ddb-90e4-5105e53cec96",
   "metadata": {
    "jp-MarkdownHeadingCollapsed": true,
    "tags": []
   },
   "source": [
    "### `__init__`"
   ]
  },
  {
   "cell_type": "code",
   "execution_count": 115,
   "id": "0917dd17-6d04-4a2e-9f81-b7835ca6308f",
   "metadata": {},
   "outputs": [],
   "source": [
    "class CelsiusConverter:\n",
    "    \n",
    "    def __init__(self, T):\n",
    "        self.T = T\n",
    "\n",
    "    def to_fahrenheit(self):\n",
    "        f = self.T * 9/5 + 32\n",
    "        return f\n",
    "        \n",
    "    def to_kelvin(self):\n",
    "        k = self.T + 273.15\n",
    "        return k\n",
    "    \n",
    "    def to_rankine(self):\n",
    "        r = self.T * 9/5 + 491.67\n",
    "        return r"
   ]
  },
  {
   "cell_type": "code",
   "execution_count": 117,
   "id": "1c4b2340-3946-4034-bee1-f00686e452eb",
   "metadata": {},
   "outputs": [
    {
     "data": {
      "text/plain": [
       "293.15"
      ]
     },
     "execution_count": 117,
     "metadata": {},
     "output_type": "execute_result"
    }
   ],
   "source": [
    "temp_converter = CelsiusConverter(T=20)\n",
    "# temp_converter.init(T=20)\n",
    "temp_converter.to_kelvin()"
   ]
  },
  {
   "cell_type": "markdown",
   "id": "0cc2af82-4f03-4a58-8697-c1e64c635537",
   "metadata": {
    "jp-MarkdownHeadingCollapsed": true,
    "tags": []
   },
   "source": [
    "#### Example: Neuron"
   ]
  },
  {
   "cell_type": "markdown",
   "id": "7f8aa41c-38a9-46e4-8a34-ad3ee0aed695",
   "metadata": {
    "id": "duFit9Ksg7VN"
   },
   "source": [
    "<img src=\"../images/neuron.png\" alt=\"string indexing\" width=300 align=\"center\" />"
   ]
  },
  {
   "cell_type": "code",
   "execution_count": 118,
   "id": "18e6be73-8241-48a7-afbb-5d65e66ea94a",
   "metadata": {},
   "outputs": [],
   "source": [
    "class Neuron:\n",
    "    \n",
    "    def __init__(self, w, b):\n",
    "        self.w = w\n",
    "        self.b = b\n",
    "    \n",
    "    def forward(self, x):\n",
    "        y = self.w*x + self.b\n",
    "        return y"
   ]
  },
  {
   "cell_type": "code",
   "execution_count": 122,
   "id": "1ade5986-4f0e-4c3b-bd61-515c199ba031",
   "metadata": {},
   "outputs": [
    {
     "data": {
      "text/plain": [
       "0.75"
      ]
     },
     "execution_count": 122,
     "metadata": {},
     "output_type": "execute_result"
    }
   ],
   "source": [
    "neuron = Neuron(w=0.5, b=-1)\n",
    "neuron.forward(x=3.5)"
   ]
  },
  {
   "cell_type": "markdown",
   "id": "562e0565-a417-4195-b8cf-e1d1ff074296",
   "metadata": {
    "jp-MarkdownHeadingCollapsed": true,
    "tags": []
   },
   "source": [
    "### `__call__`"
   ]
  },
  {
   "cell_type": "code",
   "execution_count": 8,
   "id": "e320c25c-782f-46e1-918e-14ac5cbbba62",
   "metadata": {},
   "outputs": [],
   "source": [
    "class Neuron:\n",
    "    \n",
    "    def __init__(self, w, b):\n",
    "        self.w = w\n",
    "        self.b = b\n",
    "    \n",
    "    def __call__(self, x):\n",
    "        y = self.w*x + self.b\n",
    "        return y"
   ]
  },
  {
   "cell_type": "code",
   "execution_count": 7,
   "id": "c94bac43-b1e7-4a9a-9649-620075a1045d",
   "metadata": {},
   "outputs": [
    {
     "data": {
      "text/plain": [
       "0.75"
      ]
     },
     "execution_count": 7,
     "metadata": {},
     "output_type": "execute_result"
    }
   ],
   "source": [
    "neuron = Neuron(w=0.5, b=-1)\n",
    "neuron(x=3.5)"
   ]
  },
  {
   "cell_type": "code",
   "execution_count": 5,
   "id": "d4a40a3c-d5d4-403e-a549-8213a5cd3795",
   "metadata": {},
   "outputs": [],
   "source": [
    "class CelsiusConverter:\n",
    "    \n",
    "    def __init__(self, T):\n",
    "        self.T = T\n",
    "\n",
    "    def __call__(self):\n",
    "        f = self.T * 9/5 + 32\n",
    "        return f\n",
    "        \n",
    "    def to_kelvin(self):\n",
    "        k = self.T + 273.15\n",
    "        return k\n",
    "    \n",
    "    def to_rankine(self):\n",
    "        r = self.T * 9/5 + 491.67\n",
    "        return r"
   ]
  },
  {
   "cell_type": "code",
   "execution_count": 6,
   "id": "9a8a246f-8d51-408e-a412-a6fcb6de9bff",
   "metadata": {},
   "outputs": [
    {
     "data": {
      "text/plain": [
       "68.0"
      ]
     },
     "execution_count": 6,
     "metadata": {},
     "output_type": "execute_result"
    }
   ],
   "source": [
    "temp_converter = CelsiusConverter(T=20)\n",
    "# temp_converter.init(T=20)\n",
    "temp_converter()"
   ]
  },
  {
   "cell_type": "markdown",
   "id": "e0489090-0d1a-4cc7-8f43-c75c28a0f991",
   "metadata": {
    "jp-MarkdownHeadingCollapsed": true,
    "tags": []
   },
   "source": [
    "### `__repr__`"
   ]
  },
  {
   "cell_type": "markdown",
   "id": "60b77a01-1294-4fb6-acae-8219eb7bde9a",
   "metadata": {
    "tags": []
   },
   "source": [
    "Python `__repr__()` is one of the magic method that returns a printable representation of an object in Python that can be customized or predefine."
   ]
  },
  {
   "cell_type": "code",
   "execution_count": 31,
   "id": "c8624788-50a2-4218-835c-f11a1a3ba639",
   "metadata": {},
   "outputs": [
    {
     "data": {
      "text/plain": [
       "[1, 2, 3]"
      ]
     },
     "execution_count": 31,
     "metadata": {},
     "output_type": "execute_result"
    }
   ],
   "source": [
    "a = [1, 2, 3]\n",
    "a"
   ]
  },
  {
   "cell_type": "code",
   "execution_count": 35,
   "id": "f89da7e1-de1a-4bfb-9f9b-9dce456b0d74",
   "metadata": {},
   "outputs": [],
   "source": [
    "class Neuron:\n",
    "    \n",
    "    def __init__(self, w, b):\n",
    "        self.w = w\n",
    "        self.b = b\n",
    "    \n",
    "    def __call__(self, x):\n",
    "        y = self.w*x + self.b\n",
    "        return y\n",
    "    \n",
    "    def __repr__(self):\n",
    "        return f'Neuron(w={self.w}, b={self.b})'"
   ]
  },
  {
   "cell_type": "code",
   "execution_count": 36,
   "id": "41c003f3-7702-4ab4-80fb-5ad93024addf",
   "metadata": {},
   "outputs": [
    {
     "data": {
      "text/plain": [
       "Neuron(w=-0.5, b=1)"
      ]
     },
     "execution_count": 36,
     "metadata": {},
     "output_type": "execute_result"
    }
   ],
   "source": [
    "neuron = Neuron(w=-0.5, b=1)\n",
    "neuron"
   ]
  },
  {
   "cell_type": "code",
   "execution_count": 48,
   "id": "44ebf57c-2e8d-474c-a5cd-7843516f33cd",
   "metadata": {},
   "outputs": [],
   "source": [
    "class Vector:\n",
    "    def __init__(self, *items):\n",
    "        self.data = list(items)\n",
    "        \n",
    "    def __repr__(self):\n",
    "        return str(self.data)"
   ]
  },
  {
   "cell_type": "code",
   "execution_count": 51,
   "id": "47f25639-6916-4fc0-bdd6-376ffb2c32f8",
   "metadata": {},
   "outputs": [
    {
     "data": {
      "text/plain": [
       "[1, 2, 3, 4, 5, 6]"
      ]
     },
     "execution_count": 51,
     "metadata": {},
     "output_type": "execute_result"
    }
   ],
   "source": [
    "a = Vector(1, 2, 3, 4, 5, 6)\n",
    "a"
   ]
  },
  {
   "cell_type": "markdown",
   "id": "74b17acd-30fb-4482-b18e-0021460b3ed7",
   "metadata": {
    "jp-MarkdownHeadingCollapsed": true,
    "tags": []
   },
   "source": [
    "### `__len__`"
   ]
  },
  {
   "cell_type": "markdown",
   "id": "bec3eb52-e96a-4dfa-a988-26ac38e7b2a2",
   "metadata": {},
   "source": [
    "`__len__()` is a special method in Python classes that returns the length of an object when called using the len() function."
   ]
  },
  {
   "cell_type": "code",
   "execution_count": 52,
   "id": "9f2e7c61-cd84-4cf8-82eb-50ba650e5a4a",
   "metadata": {},
   "outputs": [],
   "source": [
    "class Vector:\n",
    "    def __init__(self, *items):\n",
    "        self.data = list(items)\n",
    "        \n",
    "    def __repr__(self):\n",
    "        return str(self.data)\n",
    "    \n",
    "    def __len__(self):\n",
    "        return len(self.data)"
   ]
  },
  {
   "cell_type": "code",
   "execution_count": 55,
   "id": "97dcec11-6ba7-47fd-9a73-1d3ee283546d",
   "metadata": {},
   "outputs": [
    {
     "name": "stdout",
     "output_type": "stream",
     "text": [
      "[1, 2, 3, 4, 5, 6, 7]\n"
     ]
    },
    {
     "data": {
      "text/plain": [
       "7"
      ]
     },
     "execution_count": 55,
     "metadata": {},
     "output_type": "execute_result"
    }
   ],
   "source": [
    "a = Vector(1, 2, 3, 4, 5, 6, 7)\n",
    "print(a)\n",
    "len(a)"
   ]
  },
  {
   "cell_type": "markdown",
   "id": "3d51da0d-bec2-48e6-8895-0222240b1dd7",
   "metadata": {
    "jp-MarkdownHeadingCollapsed": true,
    "tags": []
   },
   "source": [
    "### `__add__`"
   ]
  },
  {
   "cell_type": "code",
   "execution_count": 114,
   "id": "b3155e5e-1e47-47d4-a1ef-70c19ca3b5e3",
   "metadata": {},
   "outputs": [],
   "source": [
    "class Vector:\n",
    "    def __init__(self, *items):\n",
    "        self.data = list(items)\n",
    "        \n",
    "    def __repr__(self):\n",
    "        return str(self.data)\n",
    "    \n",
    "    def __len__(self):\n",
    "        return len(self.data)\n",
    "    \n",
    "    def __add__(self, other):\n",
    "        if len(other) == len(self.data):\n",
    "            # return Vector(*[i+j for i, j in zip(self.data, other.data)])\n",
    "            return Vector(*map(lambda x, y : x+y, self.data, other.data))\n",
    "        else:\n",
    "            print('Error: a!=b')"
   ]
  },
  {
   "cell_type": "code",
   "execution_count": 116,
   "id": "09dc4e4d-99af-4d11-9436-f077578175c5",
   "metadata": {},
   "outputs": [
    {
     "name": "stdout",
     "output_type": "stream",
     "text": [
      "[2, 2, 8, 2]\n"
     ]
    },
    {
     "data": {
      "text/plain": [
       "(__main__.Vector, __main__.Vector)"
      ]
     },
     "execution_count": 116,
     "metadata": {},
     "output_type": "execute_result"
    }
   ],
   "source": [
    "a = Vector(1, 2, 3, 4)\n",
    "b = Vector(1, 0, 5, -2)\n",
    "c = a + b\n",
    "print(c)\n",
    "type(c), type(a)"
   ]
  },
  {
   "cell_type": "markdown",
   "id": "67a2b9f8-b46a-4033-8c4c-85fcebb8d235",
   "metadata": {
    "jp-MarkdownHeadingCollapsed": true,
    "tags": []
   },
   "source": [
    "### `__sub__`"
   ]
  },
  {
   "cell_type": "code",
   "execution_count": 117,
   "id": "8b547bc6-1bf2-4474-aa60-41658aecfceb",
   "metadata": {},
   "outputs": [],
   "source": [
    "class Vector:\n",
    "    def __init__(self, *items):\n",
    "        self.data = list(items)\n",
    "        \n",
    "    def __repr__(self):\n",
    "        return str(self.data)\n",
    "    \n",
    "    def __len__(self):\n",
    "        return len(self.data)\n",
    "    \n",
    "    def __add__(self, other):\n",
    "        if len(other) == len(self.data):\n",
    "            return Vector(*map(lambda x, y : x+y, self.data, other.data))\n",
    "        else:\n",
    "            print('Error: a!=b')\n",
    "            \n",
    "    def __sub__(self, other):\n",
    "        if len(other) == len(self.data):\n",
    "            return Vector(*map(lambda x, y : x-y, self.data, other.data))\n",
    "        else:\n",
    "            print('Error: a!=b')        "
   ]
  },
  {
   "cell_type": "code",
   "execution_count": 118,
   "id": "db57fc45-ae5e-46a9-b68b-a00fe18665eb",
   "metadata": {},
   "outputs": [
    {
     "data": {
      "text/plain": [
       "[0, -3, 6, 4, 10, 6, 8]"
      ]
     },
     "execution_count": 118,
     "metadata": {},
     "output_type": "execute_result"
    }
   ],
   "source": [
    "a = Vector(1, 2, 3, 4, 5, 6, 7)\n",
    "b = Vector(1, 5, -3, 0, -5, 0, -1)\n",
    "a - b"
   ]
  },
  {
   "cell_type": "markdown",
   "id": "d1f211d7-bbc0-42f6-ab59-cb4b3c6ad592",
   "metadata": {
    "jp-MarkdownHeadingCollapsed": true,
    "tags": []
   },
   "source": [
    "### `__mul__`"
   ]
  },
  {
   "cell_type": "code",
   "execution_count": 119,
   "id": "10507394-c2cf-416b-a72f-c9d78d0652c5",
   "metadata": {},
   "outputs": [],
   "source": [
    "class Vector:\n",
    "    def __init__(self, *items):\n",
    "        self.data = list(items)\n",
    "        \n",
    "    def __repr__(self):\n",
    "        return str(self.data)\n",
    "    \n",
    "    def __len__(self):\n",
    "        return len(self.data)\n",
    "    \n",
    "    def __add__(self, other):\n",
    "        if len(other) == len(self.data):\n",
    "            return Vector(*map(lambda x, y : x+y, self.data, other.data))\n",
    "        else:\n",
    "            print('Error: a!=b')\n",
    "            \n",
    "    def __sub__(self, other):\n",
    "        if len(other) == len(self.data):\n",
    "            return Vector(*map(lambda x, y : x-y, self.data, other.data))\n",
    "        else:\n",
    "            print('Error: a!=b') \n",
    "            \n",
    "    def __mul__(self, other):\n",
    "        if len(other) == len(self.data):\n",
    "            return Vector(*map(lambda x, y : x*y, self.data, other.data))\n",
    "        else:\n",
    "            print('Error: a!=b')"
   ]
  },
  {
   "cell_type": "code",
   "execution_count": 120,
   "id": "b703ccb5-2567-43c5-9fa3-f79c64e3871b",
   "metadata": {},
   "outputs": [
    {
     "data": {
      "text/plain": [
       "[1, 10, -9, 0, -25, 0, -7]"
      ]
     },
     "execution_count": 120,
     "metadata": {},
     "output_type": "execute_result"
    }
   ],
   "source": [
    "a = Vector(1, 2, 3, 4, 5, 6, 7)\n",
    "b = Vector(1, 5, -3, 0, -5, 0, -1)\n",
    "a * b"
   ]
  },
  {
   "cell_type": "markdown",
   "id": "bfcd187f-9b99-4ceb-a3a1-9f1e5026298c",
   "metadata": {
    "jp-MarkdownHeadingCollapsed": true,
    "tags": []
   },
   "source": [
    "### `__truediv__`"
   ]
  },
  {
   "cell_type": "code",
   "execution_count": 121,
   "id": "ae14afc0-e618-44c4-8761-6af498cb2772",
   "metadata": {},
   "outputs": [],
   "source": [
    "class Vector:\n",
    "    def __init__(self, *items):\n",
    "        self.data = list(items)\n",
    "        \n",
    "    def __repr__(self):\n",
    "        return str(self.data)\n",
    "    \n",
    "    def __len__(self):\n",
    "        return len(self.data)\n",
    "    \n",
    "    def __add__(self, other):\n",
    "        if len(other) == len(self.data):\n",
    "            return Vector(*map(lambda x, y : x+y, self.data, other.data))\n",
    "        else:\n",
    "            print('Error: a!=b')\n",
    "            \n",
    "    def __sub__(self, other):\n",
    "        if len(other) == len(self.data):\n",
    "            return Vector(*map(lambda x, y : x-y, self.data, other.data))\n",
    "        else:\n",
    "            print('Error: a!=b') \n",
    "            \n",
    "    def __mul__(self, other):\n",
    "        if len(other) == len(self.data):\n",
    "            return Vector(*map(lambda x, y : x*y, self.data, other.data))\n",
    "        else:\n",
    "            print('Error: a!=b')\n",
    "            \n",
    "    def __truediv__(self, other):\n",
    "        if len(other) == len(self.data):\n",
    "            return Vector(*map(lambda x, y : x/y, self.data, other.data))\n",
    "        else:\n",
    "            print('Error: a!=b')"
   ]
  },
  {
   "cell_type": "code",
   "execution_count": 125,
   "id": "78c87c92-0ce9-4c25-a31d-891688de641a",
   "metadata": {},
   "outputs": [
    {
     "data": {
      "text/plain": [
       "([1.0, 1.0, 1.0, 1.0, 1.0, 1.0, 1.0], __main__.Vector, 7)"
      ]
     },
     "execution_count": 125,
     "metadata": {},
     "output_type": "execute_result"
    }
   ],
   "source": [
    "a = Vector(1, 2, 3, 4, 5, 6, 7)\n",
    "b = Vector(1, 2, 3, 4, 5, 6, 7)\n",
    "c = a / b\n",
    "c, type(c), len(c)"
   ]
  },
  {
   "cell_type": "markdown",
   "id": "271e5187-5662-4c37-b8cd-ea5c86632adc",
   "metadata": {
    "jp-MarkdownHeadingCollapsed": true,
    "tags": []
   },
   "source": [
    "### `__getitem__`"
   ]
  },
  {
   "cell_type": "code",
   "execution_count": 165,
   "id": "f16fba69-7444-4f54-85b4-1aa327f61778",
   "metadata": {},
   "outputs": [],
   "source": [
    "class Vector:\n",
    "    def __init__(self, *items):\n",
    "        self.data = list(items)\n",
    "        \n",
    "    def __repr__(self):\n",
    "        return str(self.data)\n",
    "    \n",
    "    def __len__(self):\n",
    "        return len(self.data)\n",
    "    \n",
    "    def __add__(self, other):\n",
    "        if len(other) == len(self.data):\n",
    "            return Vector(*map(lambda x, y : x+y, self.data, other.data))\n",
    "        else:\n",
    "            print('Error: a!=b')\n",
    "            \n",
    "    def __sub__(self, other):\n",
    "        if len(other) == len(self.data):\n",
    "            return Vector(*map(lambda x, y : x-y, self.data, other.data))\n",
    "        else:\n",
    "            print('Error: a!=b') \n",
    "            \n",
    "    def __mul__(self, other):\n",
    "        if len(other) == len(self.data):\n",
    "            return Vector(*map(lambda x, y : x*y, self.data, other.data))\n",
    "        else:\n",
    "            print('Error: a!=b')\n",
    "            \n",
    "    def __truediv__(self, other):\n",
    "        if len(other) == len(self.data):\n",
    "            return Vector(*map(lambda x, y : x/y, self.data, other.data))\n",
    "        else:\n",
    "            print('Error: a!=b')\n",
    "    \n",
    "    def __getitem__(self, index):\n",
    "        ret = self.data[index]\n",
    "        return Vector(*ret) if type(ret) != int else ret"
   ]
  },
  {
   "cell_type": "code",
   "execution_count": 168,
   "id": "79d6abd0-6ed7-4459-86b6-33bacb22fd52",
   "metadata": {},
   "outputs": [
    {
     "data": {
      "text/plain": [
       "(int, __main__.Vector)"
      ]
     },
     "execution_count": 168,
     "metadata": {},
     "output_type": "execute_result"
    }
   ],
   "source": [
    "a = Vector(1, 2, 3, 4, 5, 6, 7)\n",
    "type(a[5]), type(a[5:])"
   ]
  },
  {
   "cell_type": "markdown",
   "id": "df0b47b4-cc31-4672-b149-7cf1b378555b",
   "metadata": {
    "jp-MarkdownHeadingCollapsed": true,
    "tags": []
   },
   "source": [
    "### `__setitem__`"
   ]
  },
  {
   "cell_type": "code",
   "execution_count": 170,
   "id": "6c64c1cb-707b-430d-a6d5-20263868161b",
   "metadata": {},
   "outputs": [],
   "source": [
    "class Vector:\n",
    "    def __init__(self, *items):\n",
    "        self.data = list(items)\n",
    "        \n",
    "    def __repr__(self):\n",
    "        return str(self.data)\n",
    "    \n",
    "    def __len__(self):\n",
    "        return len(self.data)\n",
    "    \n",
    "    def __add__(self, other):\n",
    "        if len(other) == len(self.data):\n",
    "            return Vector(*map(lambda x, y : x+y, self.data, other.data))\n",
    "        else:\n",
    "            print('Error: a!=b')\n",
    "            \n",
    "    def __sub__(self, other):\n",
    "        if len(other) == len(self.data):\n",
    "            return Vector(*map(lambda x, y : x-y, self.data, other.data))\n",
    "        else:\n",
    "            print('Error: a!=b') \n",
    "            \n",
    "    def __mul__(self, other):\n",
    "        if len(other) == len(self.data):\n",
    "            return Vector(*map(lambda x, y : x*y, self.data, other.data))\n",
    "        else:\n",
    "            print('Error: a!=b')\n",
    "            \n",
    "    def __truediv__(self, other):\n",
    "        if len(other) == len(self.data):\n",
    "            return Vector(*map(lambda x, y : x/y, self.data, other.data))\n",
    "        else:\n",
    "            print('Error: a!=b')\n",
    "            \n",
    "    def __getitem__(self, index):\n",
    "        ret = self.data[index]\n",
    "        return Vector(*ret) if type(ret) != int else ret\n",
    "    \n",
    "    def __setitem__(self, index, value):\n",
    "        self.data[index] = value"
   ]
  },
  {
   "cell_type": "code",
   "execution_count": 172,
   "id": "6b3e4f02-cdc4-4656-8cb5-79422afaf169",
   "metadata": {},
   "outputs": [
    {
     "data": {
      "text/plain": [
       "[1, 2, 3, 4, 5, 4, 4]"
      ]
     },
     "execution_count": 172,
     "metadata": {},
     "output_type": "execute_result"
    }
   ],
   "source": [
    "a = Vector(1, 2, 3, 4, 5, 6, 7)\n",
    "a[5:] = Vector(4, 4)\n",
    "a"
   ]
  },
  {
   "cell_type": "markdown",
   "id": "f1f5007d-7509-4a6b-b116-078e3aa98cb1",
   "metadata": {
    "jp-MarkdownHeadingCollapsed": true,
    "tags": []
   },
   "source": [
    "### More about special methods"
   ]
  },
  {
   "cell_type": "markdown",
   "id": "fb23a7fa-35a5-4436-8ec4-48f1769cdb08",
   "metadata": {},
   "source": [
    "Here are some of the commonly used special methods in Python:\n",
    "\n",
    "* `__init__`: Initializes an instance of a class.\n",
    "\n",
    "* `__str__`: Returns a string representation of an object.\n",
    "\n",
    "* `__repr__`: Returns a string representation of an object that can be used to recreate it.\n",
    "\n",
    "* `__len__`: Returns the length of an object.\n",
    "\n",
    "* `__getitem__`: Returns an item from a collection object at a given index or key.\n",
    "\n",
    "* `__setitem__`: Sets the value of an item in a collection object at a given index or key.\n",
    "\n",
    "* `__delitem__`: Deletes an item from a collection object at a given index or key.\n",
    "\n",
    "* `__contains__`: Checks if an item is contained in a collection object.\n",
    "\n",
    "* `__iter__`: Returns an iterator object for a collection object.\n",
    "\n",
    "* `__next__`: Returns the next item from an iterator object.\n",
    "\n",
    "* `__eq__`: Checks if two objects are equal.\n",
    "\n",
    "* `__lt__`: Checks if an object is less than another object.\n",
    "\n",
    "* `__gt__`: Checks if an object is greater than another object.\n",
    "\n",
    "* `__add__`: Adds two objects.\n",
    "\n",
    "* `__sub__`: Subtracts one object from another object.\n",
    "\n",
    "* `__mul__`: Multiplies two objects.\n",
    "\n",
    "* `__truediv__`: Divides one object by another object.\n",
    "\n",
    "* `__call__`: Allows an object to be called like a function."
   ]
  },
  {
   "cell_type": "markdown",
   "id": "429fe90e-8b96-44db-b06d-4e32b41b4ef1",
   "metadata": {},
   "source": [
    "https://www.informit.com/articles/article.aspx?p=453682&seqNum=6"
   ]
  },
  {
   "cell_type": "code",
   "execution_count": 189,
   "id": "e27019ba-7893-44b5-a487-023fec3877a6",
   "metadata": {},
   "outputs": [],
   "source": [
    "class Vector:\n",
    "    def __init__(self, *items):\n",
    "        self.data = list(items)\n",
    "        \n",
    "    def __repr__(self):\n",
    "        return str(self.data)\n",
    "    \n",
    "    def __len__(self):\n",
    "        return len(self.data)\n",
    "    \n",
    "    def __add__(self, other):\n",
    "        if len(other) == len(self.data):\n",
    "            return Vector(*map(lambda x, y : x+y, self.data, other.data))\n",
    "        else:\n",
    "            print('Error: a!=b')\n",
    "            \n",
    "    def __sub__(self, other):\n",
    "        if len(other) == len(self.data):\n",
    "            return Vector(*map(lambda x, y : x-y, self.data, other.data))\n",
    "        else:\n",
    "            print('Error: a!=b') \n",
    "            \n",
    "    def __mul__(self, other):\n",
    "        if len(other) == len(self.data):\n",
    "            return Vector(*map(lambda x, y : x*y, self.data, other.data))\n",
    "        else:\n",
    "            print('Error: a!=b')\n",
    "            \n",
    "    def __truediv__(self, other):\n",
    "        if len(other) == len(self.data):\n",
    "            return Vector(*map(lambda x, y : x/y, self.data, other.data))\n",
    "        else:\n",
    "            print('Error: a!=b')\n",
    "            \n",
    "    def __getitem__(self, index):\n",
    "        ret = self.data[index]\n",
    "        return Vector(*ret) if type(ret) != int else ret\n",
    "    \n",
    "    def __setitem__(self, index, value):\n",
    "        self.data[index] = value\n",
    "        \n",
    "    def __iter__(self):\n",
    "        self.index = 0\n",
    "        return self\n",
    "    \n",
    "    def __next__(self):\n",
    "        if self.index >= len(self.data):\n",
    "            raise StopIteration\n",
    "        else:\n",
    "            value = self.data[self.index]\n",
    "            self.index += 1\n",
    "            return value\n",
    "    \n",
    "    def __eq__(self, other):\n",
    "        if len(other) == len(self.data):\n",
    "            return Vector(*map(lambda x, y : x==y, self.data, other.data))\n",
    "        else:\n",
    "            print('Error: a!=b')"
   ]
  },
  {
   "cell_type": "code",
   "execution_count": 186,
   "id": "9efd9340-df49-40ab-9c60-eab9010ff80b",
   "metadata": {},
   "outputs": [
    {
     "data": {
      "text/plain": [
       "[True, True, False, True, True, False, True]"
      ]
     },
     "execution_count": 186,
     "metadata": {},
     "output_type": "execute_result"
    }
   ],
   "source": [
    "a = Vector(1, 2, 3, 4, 5, 6, 7)\n",
    "b = Vector(1, 2, 0, 4, 5, -1, 7)\n",
    "a == b\n",
    "# a > b\n",
    "# a < b"
   ]
  },
  {
   "cell_type": "code",
   "execution_count": 199,
   "id": "e48e2e87-befd-4287-9949-acf9c581ae2b",
   "metadata": {},
   "outputs": [
    {
     "data": {
      "text/plain": [
       "1"
      ]
     },
     "execution_count": 199,
     "metadata": {},
     "output_type": "execute_result"
    }
   ],
   "source": [
    "a = Vector(1, 2, 3, 4, 5, 6, 7)\n",
    "next(iter(a))"
   ]
  },
  {
   "cell_type": "code",
   "execution_count": 200,
   "id": "f0e02a2b-f44b-4df2-8997-c924d9fd7c32",
   "metadata": {},
   "outputs": [
    {
     "data": {
      "text/plain": [
       "0"
      ]
     },
     "execution_count": 200,
     "metadata": {},
     "output_type": "execute_result"
    }
   ],
   "source": [
    "a = Vector(-1, -2, 5, 4.5, 5.5, 7, 11)\n",
    "a_iter = iter(a)\n",
    "a.index"
   ]
  },
  {
   "cell_type": "code",
   "execution_count": 208,
   "id": "a66e4095-2d6c-4bf6-b76b-5ab6defc8648",
   "metadata": {},
   "outputs": [
    {
     "ename": "StopIteration",
     "evalue": "",
     "output_type": "error",
     "traceback": [
      "\u001b[1;31m---------------------------------------------------------------------------\u001b[0m",
      "\u001b[1;31mStopIteration\u001b[0m                             Traceback (most recent call last)",
      "Cell \u001b[1;32mIn [208], line 1\u001b[0m\n\u001b[1;32m----> 1\u001b[0m \u001b[38;5;28;43mnext\u001b[39;49m\u001b[43m(\u001b[49m\u001b[43ma_iter\u001b[49m\u001b[43m)\u001b[49m, a\u001b[38;5;241m.\u001b[39mindex\n",
      "Cell \u001b[1;32mIn [189], line 48\u001b[0m, in \u001b[0;36mVector.__next__\u001b[1;34m(self)\u001b[0m\n\u001b[0;32m     46\u001b[0m \u001b[38;5;28;01mdef\u001b[39;00m \u001b[38;5;21m__next__\u001b[39m(\u001b[38;5;28mself\u001b[39m):\n\u001b[0;32m     47\u001b[0m     \u001b[38;5;28;01mif\u001b[39;00m \u001b[38;5;28mself\u001b[39m\u001b[38;5;241m.\u001b[39mindex \u001b[38;5;241m>\u001b[39m\u001b[38;5;241m=\u001b[39m \u001b[38;5;28mlen\u001b[39m(\u001b[38;5;28mself\u001b[39m\u001b[38;5;241m.\u001b[39mdata):\n\u001b[1;32m---> 48\u001b[0m         \u001b[38;5;28;01mraise\u001b[39;00m \u001b[38;5;167;01mStopIteration\u001b[39;00m\n\u001b[0;32m     49\u001b[0m     \u001b[38;5;28;01melse\u001b[39;00m:\n\u001b[0;32m     50\u001b[0m         value \u001b[38;5;241m=\u001b[39m \u001b[38;5;28mself\u001b[39m\u001b[38;5;241m.\u001b[39mdata[\u001b[38;5;28mself\u001b[39m\u001b[38;5;241m.\u001b[39mindex]\n",
      "\u001b[1;31mStopIteration\u001b[0m: "
     ]
    }
   ],
   "source": [
    "next(a_iter), a.index"
   ]
  }
 ],
 "metadata": {
  "kernelspec": {
   "display_name": "Python 3 (ipykernel)",
   "language": "python",
   "name": "python3"
  },
  "language_info": {
   "codemirror_mode": {
    "name": "ipython",
    "version": 3
   },
   "file_extension": ".py",
   "mimetype": "text/x-python",
   "name": "python",
   "nbconvert_exporter": "python",
   "pygments_lexer": "ipython3",
   "version": "3.9.15"
  }
 },
 "nbformat": 4,
 "nbformat_minor": 5
}
