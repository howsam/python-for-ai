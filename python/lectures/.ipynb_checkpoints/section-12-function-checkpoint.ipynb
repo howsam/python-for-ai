{
 "cells": [
  {
   "cell_type": "markdown",
   "id": "1df7bd5d-6bcf-4cdb-b25c-4678c06593cf",
   "metadata": {
    "id": "ltDaErzDg3Hp",
    "tags": []
   },
   "source": [
    "# <font color='#FFE15D'>**Section 11: Function** 🧷</font>"
   ]
  },
  {
   "cell_type": "markdown",
   "id": "ffa8bd2f-1c7c-46b4-b30e-528597c780f6",
   "metadata": {
    "id": "duFit9Ksg7VN"
   },
   "source": [
    "<img src=\"../images/function-0.png\" alt=\"string indexing\" width=200 align=\"center\" />"
   ]
  },
  {
   "cell_type": "markdown",
   "id": "82a65f3f-2001-41d7-840d-1b38ae6017f6",
   "metadata": {
    "jp-MarkdownHeadingCollapsed": true,
    "tags": []
   },
   "source": [
    "## 🔸 **How to define a function**"
   ]
  },
  {
   "cell_type": "markdown",
   "id": "68ff4894-902f-458d-b491-8bc1371ec632",
   "metadata": {
    "id": "duFit9Ksg7VN"
   },
   "source": [
    "<img src=\"../images/function.png\" alt=\"string indexing\" width=400 align=\"center\" />"
   ]
  },
  {
   "cell_type": "markdown",
   "id": "2ffa58ec-1275-4967-8663-336be32af35b",
   "metadata": {
    "jp-MarkdownHeadingCollapsed": true,
    "tags": []
   },
   "source": [
    "### Define & Call"
   ]
  },
  {
   "cell_type": "code",
   "execution_count": 39,
   "id": "5d5ff606-08ce-4808-82ef-9307ae032801",
   "metadata": {},
   "outputs": [],
   "source": [
    "def avg1(a, b):\n",
    "    return (a + b)/2"
   ]
  },
  {
   "cell_type": "code",
   "execution_count": 4,
   "id": "356f246e-7e0e-4689-9b65-7465b771ce12",
   "metadata": {},
   "outputs": [],
   "source": [
    "avg1(10, 20)\n",
    "\n",
    "x = avg1(10, 20)\n",
    "x"
   ]
  },
  {
   "cell_type": "markdown",
   "id": "3d135f4f-bc8c-4c3f-bee8-8e8a94078fe9",
   "metadata": {
    "jp-MarkdownHeadingCollapsed": true,
    "tags": []
   },
   "source": [
    "### Function without `return`"
   ]
  },
  {
   "cell_type": "code",
   "execution_count": 2,
   "id": "2cc901e8-5bab-4d83-a929-0d27c9e59f70",
   "metadata": {},
   "outputs": [],
   "source": [
    "def avg2(a, b):\n",
    "    print((a + b)/2)"
   ]
  },
  {
   "cell_type": "code",
   "execution_count": 9,
   "id": "1509dd87-c2dd-4cf4-9f05-697a9b7839fd",
   "metadata": {},
   "outputs": [],
   "source": [
    "avg2(10, 20)\n",
    "\n",
    "y = avg2(10, 20)\n",
    "print(y)"
   ]
  },
  {
   "cell_type": "markdown",
   "id": "47faedd2-3175-4302-80b1-a2143d5c8166",
   "metadata": {
    "tags": []
   },
   "source": [
    "### Many outputs"
   ]
  },
  {
   "cell_type": "code",
   "execution_count": 2,
   "id": "39b40b44-b70d-4648-b7c6-2a4c8ee1d1ae",
   "metadata": {},
   "outputs": [],
   "source": [
    "def avg2(a):\n",
    "    return sum(a), len(a)"
   ]
  },
  {
   "cell_type": "code",
   "execution_count": 9,
   "id": "a4f6a854-ab93-4193-91be-18c7fa9fd362",
   "metadata": {},
   "outputs": [],
   "source": [
    "avg2(10, 20)\n",
    "\n",
    "y = avg2(10, 20)\n",
    "print(y)"
   ]
  },
  {
   "cell_type": "markdown",
   "id": "6b13f8b6-b663-46c6-98df-ea5896b5c055",
   "metadata": {
    "jp-MarkdownHeadingCollapsed": true,
    "tags": []
   },
   "source": [
    "## 🔸 **Default parameter value**"
   ]
  },
  {
   "cell_type": "markdown",
   "id": "3a5949ff-b15a-4815-81f9-098f87048985",
   "metadata": {
    "jp-MarkdownHeadingCollapsed": true,
    "tags": []
   },
   "source": [
    "### Arithmetic mean or geometric mean?"
   ]
  },
  {
   "cell_type": "code",
   "execution_count": null,
   "id": "bcb6415e-2cf5-47ab-b3c1-4ab48e34da69",
   "metadata": {},
   "outputs": [],
   "source": [
    "def avg(a, b, geometric):\n",
    "    if geometric:\n",
    "        result = (a*b)**(1/2)\n",
    "    else:\n",
    "        result = (a + b)/2\n",
    "    print(result)"
   ]
  },
  {
   "cell_type": "code",
   "execution_count": null,
   "id": "5811064c-fd5e-4be5-890c-393dc9f518aa",
   "metadata": {},
   "outputs": [
    {
     "name": "stdout",
     "output_type": "stream",
     "text": [
      "15.0\n"
     ]
    }
   ],
   "source": [
    "avg(10, 20, False)"
   ]
  },
  {
   "cell_type": "markdown",
   "id": "b4a65616-55e7-4f29-a46d-e3e23f320044",
   "metadata": {
    "jp-MarkdownHeadingCollapsed": true,
    "tags": []
   },
   "source": [
    "### `geometric` argument with default value"
   ]
  },
  {
   "cell_type": "code",
   "execution_count": null,
   "id": "81c3cdd6-9af7-44f2-9650-01cdecfe901c",
   "metadata": {},
   "outputs": [],
   "source": [
    "def avg(a, b, geometric=False):\n",
    "    if geometric:\n",
    "        result = (a*b)**(1/2)\n",
    "    else:\n",
    "        result = (a + b)/2\n",
    "    print(result)"
   ]
  },
  {
   "cell_type": "code",
   "execution_count": null,
   "id": "345d3318-1005-4c78-8dbf-8ac04b5eb5ac",
   "metadata": {},
   "outputs": [],
   "source": [
    "avg(10, 20)"
   ]
  },
  {
   "cell_type": "markdown",
   "id": "6563b8e3-b2aa-4f50-a5e6-7ebb9d957b2d",
   "metadata": {
    "jp-MarkdownHeadingCollapsed": true,
    "tags": []
   },
   "source": [
    "## 🔸 **Unknown  number of inputs**"
   ]
  },
  {
   "cell_type": "markdown",
   "id": "2c79d22b-8dd7-4654-806d-37c5566f2b1c",
   "metadata": {
    "jp-MarkdownHeadingCollapsed": true,
    "tags": []
   },
   "source": [
    "### *args"
   ]
  },
  {
   "cell_type": "code",
   "execution_count": 1,
   "id": "894bc925-1771-487d-817a-bd9d6fe17bd9",
   "metadata": {},
   "outputs": [],
   "source": [
    "def avg(*inputs):\n",
    "    summ = 0\n",
    "    for num in inputs:\n",
    "        summ += num\n",
    "    result = summ/len(inputs)\n",
    "    return result"
   ]
  },
  {
   "cell_type": "code",
   "execution_count": 2,
   "id": "2a3080a1-6506-4c68-9075-ecb37cf5981e",
   "metadata": {},
   "outputs": [
    {
     "name": "stdout",
     "output_type": "stream",
     "text": [
      "(10, 20, 30, 40)\n"
     ]
    },
    {
     "data": {
      "text/plain": [
       "25.0"
      ]
     },
     "execution_count": 2,
     "metadata": {},
     "output_type": "execute_result"
    }
   ],
   "source": [
    "avg(10, 20, 30, 40)"
   ]
  },
  {
   "cell_type": "markdown",
   "id": "95362799-f325-4786-988d-30613f1c2d0a",
   "metadata": {
    "jp-MarkdownHeadingCollapsed": true,
    "tags": []
   },
   "source": [
    "### **kwargs"
   ]
  },
  {
   "cell_type": "code",
   "execution_count": 21,
   "id": "71418ff3-d690-49b7-80a5-09230851c86b",
   "metadata": {},
   "outputs": [],
   "source": [
    "def avg_score(**inputs):\n",
    "    averages = {}\n",
    "    for key in inputs:\n",
    "        averages[key] = sum(inputs[key])/len(inputs[key])\n",
    "    return averages"
   ]
  },
  {
   "cell_type": "code",
   "execution_count": 22,
   "id": "9482ffa2-105a-4677-8079-60c7c0b12a83",
   "metadata": {},
   "outputs": [
    {
     "data": {
      "text/plain": [
       "{'sara': 92.0, 'sophia': 97.0}"
      ]
     },
     "execution_count": 22,
     "metadata": {},
     "output_type": "execute_result"
    }
   ],
   "source": [
    "avg_score(sara=[92, 86, 98], sophia=[99, 97, 95])"
   ]
  },
  {
   "cell_type": "markdown",
   "id": "12bf044b-d904-49c2-b4df-2d0f5f584cf5",
   "metadata": {
    "jp-MarkdownHeadingCollapsed": true,
    "tags": []
   },
   "source": [
    "## 🔸 **lambda**"
   ]
  },
  {
   "cell_type": "markdown",
   "id": "1a2d623b-e240-43ab-8fe3-e13233561b46",
   "metadata": {},
   "source": [
    "<img src=\"../images/lambda.png\" alt=\"string indexing\" width=650 align=\"center\" />"
   ]
  },
  {
   "cell_type": "code",
   "execution_count": 4,
   "id": "25651e22-e486-4abf-852c-759486d12344",
   "metadata": {},
   "outputs": [
    {
     "data": {
      "text/plain": [
       "<function __main__.<lambda>(x)>"
      ]
     },
     "execution_count": 4,
     "metadata": {},
     "output_type": "execute_result"
    }
   ],
   "source": [
    "avg_func = lambda x: sum(x)/len(x)\n",
    "avg_func"
   ]
  },
  {
   "cell_type": "code",
   "execution_count": 5,
   "id": "e45e414c-d670-4d63-91f0-2511bce156a5",
   "metadata": {},
   "outputs": [
    {
     "name": "stdout",
     "output_type": "stream",
     "text": [
      "[97.0, 93.0, 79.5]\n"
     ]
    }
   ],
   "source": [
    "grades = [[98, 96], [97, 89], [75, 84]]\n",
    "avg = []\n",
    "for g in grades:\n",
    "    avg.append(avg_func(g))\n",
    "print(avg) "
   ]
  },
  {
   "cell_type": "code",
   "execution_count": 16,
   "id": "cc29d510-cbaa-4d51-8fa0-45cbde5dcc2b",
   "metadata": {},
   "outputs": [
    {
     "data": {
      "text/plain": [
       "{'bahram': 97.0, 'shahram': 93.0, 'mahnam': 79.5}"
      ]
     },
     "execution_count": 16,
     "metadata": {},
     "output_type": "execute_result"
    }
   ],
   "source": [
    "grades = {'bahram':[98, 96], 'shahram':[97, 89], 'mahnam':[75, 84]}\n",
    "\n",
    "avg_func = lambda inp: {k: sum(v)/len(v) for k, v in inp.items()}\n",
    "avg_func(grades)"
   ]
  },
  {
   "cell_type": "markdown",
   "id": "2fbc422a-7883-4069-9951-aa0fca99c420",
   "metadata": {
    "jp-MarkdownHeadingCollapsed": true,
    "tags": []
   },
   "source": [
    "## **✍️ Example 1: Prime numbers**"
   ]
  },
  {
   "cell_type": "markdown",
   "id": "f844e430-c9cf-4cbd-a83c-165d703765ab",
   "metadata": {},
   "source": [
    "<img src=\"../images/function-example1.png\" alt=\"string indexing\" width=650 align=\"center\" />"
   ]
  },
  {
   "cell_type": "code",
   "execution_count": 17,
   "id": "8c441d8c-50d1-483b-9606-3023bbfc914a",
   "metadata": {},
   "outputs": [],
   "source": [
    "def prime(n):\n",
    "    message = 'This is a prime number.'\n",
    "    for i in range(2, n):\n",
    "        if n%i == 0:\n",
    "            message = 'This is not a prime number!'\n",
    "            break\n",
    "    print(message)"
   ]
  },
  {
   "cell_type": "code",
   "execution_count": 19,
   "id": "4cd6e6ab-fdee-4b1e-91dd-2dd40925f161",
   "metadata": {},
   "outputs": [
    {
     "name": "stdout",
     "output_type": "stream",
     "text": [
      "This is not a prime number!\n"
     ]
    }
   ],
   "source": [
    "prime(8)"
   ]
  },
  {
   "cell_type": "markdown",
   "id": "811ab41c-9cf0-4146-9720-a2b96bffe9ae",
   "metadata": {
    "jp-MarkdownHeadingCollapsed": true,
    "tags": []
   },
   "source": [
    "## **✍️ Example 2: Factorial function**"
   ]
  },
  {
   "cell_type": "markdown",
   "id": "81859d69-d15a-4a81-9bbb-85d2bcde2145",
   "metadata": {},
   "source": [
    "<img src=\"../images/function-example2.png\" alt=\"string indexing\" width=650 align=\"center\" />"
   ]
  },
  {
   "cell_type": "code",
   "execution_count": 33,
   "id": "93517913-2b80-472b-a90e-55bfe43292c1",
   "metadata": {
    "id": "neIECYQAjMs4"
   },
   "outputs": [],
   "source": [
    "def factorial(numf):\n",
    "    z = 1\n",
    "    while numf > 0:\n",
    "        z *= numf\n",
    "        numf -= 1\n",
    "    return z"
   ]
  },
  {
   "cell_type": "code",
   "execution_count": 36,
   "id": "4ab84380-0ff8-414c-8e05-e67e030d1d3c",
   "metadata": {
    "colab": {
     "base_uri": "https://localhost:8080/"
    },
    "id": "B7w29lQYjo5U",
    "outputId": "360326dd-7f26-4d64-87af-aa2fcb02993b"
   },
   "outputs": [
    {
     "name": "stdout",
     "output_type": "stream",
     "text": [
      "120\n"
     ]
    }
   ],
   "source": [
    "output = factorial(5)\n",
    "print(output)"
   ]
  },
  {
   "cell_type": "markdown",
   "id": "9c937070-e287-4c3f-8d54-22f260e3b3cd",
   "metadata": {
    "jp-MarkdownHeadingCollapsed": true,
    "tags": []
   },
   "source": [
    "## **✍️ Example 3: Fibonacci function**"
   ]
  },
  {
   "cell_type": "markdown",
   "id": "be14e8ef-7ad1-4ffc-930a-0cfd350b140d",
   "metadata": {},
   "source": [
    "<img src=\"../images/function-example3.png\" alt=\"string indexing\" width=650 align=\"center\" />"
   ]
  },
  {
   "cell_type": "code",
   "execution_count": 37,
   "id": "7d38d2c6-ed82-4190-9437-acc538039554",
   "metadata": {},
   "outputs": [],
   "source": [
    "def fibonacci(n):\n",
    "    num1, num2 = 0, 1\n",
    "    nums = []\n",
    "    while 1:\n",
    "        # print(num1, end=\"  \")\n",
    "        res = num1 + num2\n",
    "        nums.append(num1)\n",
    "        # update values\n",
    "        num1 = num2\n",
    "        num2 = res\n",
    "        if num2 > n:\n",
    "            break\n",
    "    return nums"
   ]
  },
  {
   "cell_type": "code",
   "execution_count": 38,
   "id": "76c2a3d0-129c-4870-9ae1-1407b9962c9d",
   "metadata": {},
   "outputs": [
    {
     "data": {
      "text/plain": [
       "[0, 1, 1, 2, 3, 5]"
      ]
     },
     "execution_count": 38,
     "metadata": {},
     "output_type": "execute_result"
    }
   ],
   "source": [
    "fibonacci(10)"
   ]
  },
  {
   "cell_type": "markdown",
   "id": "3623f567-eb45-4af8-9737-cafecad002db",
   "metadata": {
    "jp-MarkdownHeadingCollapsed": true,
    "tags": []
   },
   "source": [
    "## **✍️ Example 4: Palindrome**"
   ]
  },
  {
   "cell_type": "markdown",
   "id": "2bb1411e-718a-4a4f-868e-fc9df2290b65",
   "metadata": {},
   "source": [
    "<img src=\"../images/function-example4.png\" alt=\"string indexing\" width=650 align=\"center\" />"
   ]
  },
  {
   "cell_type": "code",
   "execution_count": 22,
   "id": "b7d09b35-8970-41ac-ab5f-2470bd74a4b6",
   "metadata": {},
   "outputs": [],
   "source": [
    "def palindrome(txt):\n",
    "    if txt.lower() ==  txt.lower()[::-1]:\n",
    "        print('This word is palindrome!')\n",
    "    else:\n",
    "        print('This word is NOT palindrome!')"
   ]
  },
  {
   "cell_type": "code",
   "execution_count": 23,
   "id": "5dd7b241-e531-4df7-a5dd-e9f953a6703d",
   "metadata": {},
   "outputs": [
    {
     "name": "stdout",
     "output_type": "stream",
     "text": [
      "This word is palindrome!\n"
     ]
    }
   ],
   "source": [
    "palindrome('hih')"
   ]
  }
 ],
 "metadata": {
  "kernelspec": {
   "display_name": "Python 3 (ipykernel)",
   "language": "python",
   "name": "python3"
  },
  "language_info": {
   "codemirror_mode": {
    "name": "ipython",
    "version": 3
   },
   "file_extension": ".py",
   "mimetype": "text/x-python",
   "name": "python",
   "nbconvert_exporter": "python",
   "pygments_lexer": "ipython3",
   "version": "3.9.12"
  }
 },
 "nbformat": 4,
 "nbformat_minor": 5
}
