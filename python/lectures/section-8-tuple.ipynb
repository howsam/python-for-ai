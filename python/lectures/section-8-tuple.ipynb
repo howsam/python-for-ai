{
 "cells": [
  {
   "cell_type": "markdown",
   "id": "75b68d6d-8be9-4022-aa3d-a1cb748cf32c",
   "metadata": {
    "tags": []
   },
   "source": [
    "# <font color='#FFE15D'>**Section 8: Tuple** 🎎<font/>"
   ]
  },
  {
   "cell_type": "markdown",
   "id": "f60db9a8-d0b5-4cf9-910c-b13432f790bc",
   "metadata": {},
   "source": [
    "<img src=\"../images/brother.png\" alt=\"string indexing\" width=200 align=\"center\" />"
   ]
  },
  {
   "cell_type": "markdown",
   "id": "1e242676-472b-4b22-8981-8ed6e1ebc0b2",
   "metadata": {
    "jp-MarkdownHeadingCollapsed": true,
    "tags": []
   },
   "source": [
    "## 🔸 **How to define a tuple**"
   ]
  },
  {
   "cell_type": "markdown",
   "id": "f6b9709d-9314-42df-80a1-72c4c7a4b2bc",
   "metadata": {},
   "source": [
    "<img src=\"../images/tuple.png\" alt=\"string indexing\" width=450 align=\"center\" />"
   ]
  },
  {
   "cell_type": "code",
   "execution_count": 10,
   "id": "2c783336-bcbf-4296-95a9-8d0be4f35916",
   "metadata": {},
   "outputs": [
    {
     "data": {
      "text/plain": [
       "list"
      ]
     },
     "execution_count": 10,
     "metadata": {},
     "output_type": "execute_result"
    }
   ],
   "source": [
    "tuple1 = (1, 2.4, True, 'string', [1, 2.5], (1, 2.5), {1:2, 'str':3})\n",
    "type(tuple1)\n",
    "\n",
    "# list1 = [1, 2.4, True, 'string', [1, 2.5], (1, 2.5), {1:2, 'str':3}]\n",
    "# type(list1)"
   ]
  },
  {
   "cell_type": "markdown",
   "id": "2d792723-cbbb-4f2b-977e-15c67d765f92",
   "metadata": {
    "jp-MarkdownHeadingCollapsed": true,
    "tags": []
   },
   "source": [
    "### Single tuple"
   ]
  },
  {
   "cell_type": "code",
   "execution_count": 16,
   "id": "7909ff67-b337-410f-8b74-4b8d62785ede",
   "metadata": {},
   "outputs": [
    {
     "data": {
      "text/plain": [
       "(tuple, (1.5,))"
      ]
     },
     "execution_count": 16,
     "metadata": {},
     "output_type": "execute_result"
    }
   ],
   "source": [
    "[1]\n",
    "\n",
    "a = (1.5,)\n",
    "type(a), a"
   ]
  },
  {
   "cell_type": "markdown",
   "id": "f2aa72ee-b885-4963-85a8-6a4d5909cb99",
   "metadata": {
    "jp-MarkdownHeadingCollapsed": true,
    "tags": []
   },
   "source": [
    "### Empty tuple"
   ]
  },
  {
   "cell_type": "code",
   "execution_count": 19,
   "id": "92512ed5-213f-425c-bc9e-253765da6e21",
   "metadata": {},
   "outputs": [
    {
     "data": {
      "text/plain": [
       "()"
      ]
     },
     "execution_count": 19,
     "metadata": {},
     "output_type": "execute_result"
    }
   ],
   "source": [
    "a = ()\n",
    "type(a)\n",
    "\n",
    "a = tuple()\n",
    "a"
   ]
  },
  {
   "cell_type": "markdown",
   "id": "a78cb881-3cea-45d1-b3e0-592aedde2827",
   "metadata": {
    "jp-MarkdownHeadingCollapsed": true,
    "tags": []
   },
   "source": [
    "### Tuple to list and vice versa"
   ]
  },
  {
   "cell_type": "code",
   "execution_count": 23,
   "id": "8481330a-de4d-4d7f-8416-572bf6b9a0a2",
   "metadata": {},
   "outputs": [
    {
     "name": "stdout",
     "output_type": "stream",
     "text": [
      "(1, 2, 3)\n"
     ]
    },
    {
     "data": {
      "text/plain": [
       "[1, 2, 3]"
      ]
     },
     "execution_count": 23,
     "metadata": {},
     "output_type": "execute_result"
    }
   ],
   "source": [
    "a = [1, 2, 3]\n",
    "\n",
    "b = tuple(a)\n",
    "print(b)\n",
    "\n",
    "c = list(b)\n",
    "c"
   ]
  },
  {
   "cell_type": "markdown",
   "id": "1f66d053-0698-4f73-b451-2b64937161b7",
   "metadata": {
    "jp-MarkdownHeadingCollapsed": true,
    "tags": []
   },
   "source": [
    "### Concatenate tuples"
   ]
  },
  {
   "cell_type": "code",
   "execution_count": 25,
   "id": "5fe0a358-ae9d-41c3-8052-de0206ece65e",
   "metadata": {},
   "outputs": [
    {
     "data": {
      "text/plain": [
       "('one', 'two', 'three', 10, 15, 'apple', [1, 2, 3])"
      ]
     },
     "execution_count": 25,
     "metadata": {},
     "output_type": "execute_result"
    }
   ],
   "source": [
    "tuple2 = ('one', 'two', 'three')\n",
    "tuple3 = (10, 15, 'apple', [1, 2, 3])\n",
    "\n",
    "tuple_new = tuple2 + tuple3\n",
    "tuple_new"
   ]
  },
  {
   "cell_type": "markdown",
   "id": "0a822181-17cf-4ae9-9388-8eb3d5c5e634",
   "metadata": {
    "jp-MarkdownHeadingCollapsed": true,
    "tags": []
   },
   "source": [
    "### Repeat tuples"
   ]
  },
  {
   "cell_type": "code",
   "execution_count": 27,
   "id": "3e6b3c3e-3ee7-461e-b91e-fe126d9bb801",
   "metadata": {},
   "outputs": [
    {
     "data": {
      "text/plain": [
       "(10, 15, 'apple', [1, 2, 3], 10, 15, 'apple', [1, 2, 3])"
      ]
     },
     "execution_count": 27,
     "metadata": {},
     "output_type": "execute_result"
    }
   ],
   "source": [
    "tuple3 = (10, 15, 'apple', [1, 2, 3])\n",
    "\n",
    "tuple_new = tuple3*2\n",
    "tuple_new"
   ]
  },
  {
   "cell_type": "markdown",
   "id": "2f28a47e-e844-4469-85c7-22d5908af25d",
   "metadata": {
    "jp-MarkdownHeadingCollapsed": true,
    "tags": []
   },
   "source": [
    "### Check if a value exists in a tuple"
   ]
  },
  {
   "cell_type": "code",
   "execution_count": 31,
   "id": "177b54f3-086a-43d7-9309-c3ebfd9d5ff6",
   "metadata": {},
   "outputs": [
    {
     "name": "stdout",
     "output_type": "stream",
     "text": [
      "(10, 15, 'apple', [1, 2, 3])\n"
     ]
    },
    {
     "data": {
      "text/plain": [
       "True"
      ]
     },
     "execution_count": 31,
     "metadata": {},
     "output_type": "execute_result"
    }
   ],
   "source": [
    "print(tuple3)\n",
    "'apple' in tuple3"
   ]
  },
  {
   "cell_type": "markdown",
   "id": "b620a762-68d2-421c-8a53-5a4df6976129",
   "metadata": {
    "jp-MarkdownHeadingCollapsed": true,
    "tags": []
   },
   "source": [
    "## 🔸 **Indexing & Slicing**"
   ]
  },
  {
   "cell_type": "code",
   "execution_count": 33,
   "id": "8440e78c-e4d3-4568-bc12-9232869af7ae",
   "metadata": {},
   "outputs": [],
   "source": [
    "tuple1 = (1, 2, 3, 4, 5, 6, 7, 8, 9)"
   ]
  },
  {
   "cell_type": "markdown",
   "id": "c30f29fe-9892-460f-897c-b6b99f22f8f5",
   "metadata": {
    "jp-MarkdownHeadingCollapsed": true,
    "tags": []
   },
   "source": [
    "### Indexing"
   ]
  },
  {
   "cell_type": "code",
   "execution_count": 36,
   "id": "3e8396f7-76d1-4bd3-925b-4a945fb0edb8",
   "metadata": {},
   "outputs": [
    {
     "data": {
      "text/plain": [
       "7"
      ]
     },
     "execution_count": 36,
     "metadata": {},
     "output_type": "execute_result"
    }
   ],
   "source": [
    "tuple1[1]\n",
    "\n",
    "tuple1[-1]\n",
    "\n",
    "tuple1[-3]"
   ]
  },
  {
   "cell_type": "markdown",
   "id": "507bff9e-9b17-42ca-b1f8-7fa4591ba912",
   "metadata": {
    "jp-MarkdownHeadingCollapsed": true,
    "tags": []
   },
   "source": [
    "### Slicing"
   ]
  },
  {
   "cell_type": "code",
   "execution_count": 40,
   "id": "1514940f-b72f-48e2-85ea-9fdaca938ed9",
   "metadata": {},
   "outputs": [
    {
     "data": {
      "text/plain": [
       "(6, 7, 8, 9)"
      ]
     },
     "execution_count": 40,
     "metadata": {},
     "output_type": "execute_result"
    }
   ],
   "source": [
    "tuple1[5:]"
   ]
  },
  {
   "cell_type": "markdown",
   "id": "dbe39f11-3016-4fe2-9928-725402c2dc54",
   "metadata": {
    "jp-MarkdownHeadingCollapsed": true,
    "tags": []
   },
   "source": [
    "## 🔸 **WHY tuple?!** 😕"
   ]
  },
  {
   "cell_type": "markdown",
   "id": "110a86df-291d-4bd1-baec-52246195e59c",
   "metadata": {
    "jp-MarkdownHeadingCollapsed": true,
    "tags": []
   },
   "source": [
    "### Tuples are faster than lists"
   ]
  },
  {
   "cell_type": "code",
   "execution_count": 50,
   "id": "3e7bdad7-1c77-4fe5-aa94-5d58d4407243",
   "metadata": {},
   "outputs": [
    {
     "data": {
      "text/plain": [
       "'abcdefg'"
      ]
     },
     "execution_count": 50,
     "metadata": {},
     "output_type": "execute_result"
    }
   ],
   "source": [
    "''.join(['a','b','c','d','e','f','g'])"
   ]
  },
  {
   "cell_type": "code",
   "execution_count": 51,
   "id": "4debeedb-4f97-4815-9e22-ec0795c2cfa1",
   "metadata": {},
   "outputs": [
    {
     "name": "stdout",
     "output_type": "stream",
     "text": [
      "100 loops, best of 5: 1.96 msec per loop\n"
     ]
    }
   ],
   "source": [
    "!python -m timeit \"for x in range(10000):\" \"    ''.join(['a','b','c','d','e','f','g'])\""
   ]
  },
  {
   "cell_type": "code",
   "execution_count": 52,
   "id": "4f08f068-8603-48d6-8aee-c22d901530b9",
   "metadata": {},
   "outputs": [
    {
     "name": "stdout",
     "output_type": "stream",
     "text": [
      "200 loops, best of 5: 1.29 msec per loop\n"
     ]
    }
   ],
   "source": [
    "!python -m timeit \"for x in range(10000):\" \"    ''.join(('a','b','c','d','e','f','g'))\""
   ]
  },
  {
   "cell_type": "markdown",
   "id": "bf054c51-7937-4496-b2a7-ad462544e46f",
   "metadata": {
    "jp-MarkdownHeadingCollapsed": true,
    "tags": []
   },
   "source": [
    "### Tuple is immutable"
   ]
  },
  {
   "cell_type": "code",
   "execution_count": 53,
   "id": "454b9697-3a96-4149-8553-7931eb26c13c",
   "metadata": {},
   "outputs": [
    {
     "ename": "TypeError",
     "evalue": "'tuple' object does not support item assignment",
     "output_type": "error",
     "traceback": [
      "\u001b[1;31m---------------------------------------------------------------------------\u001b[0m",
      "\u001b[1;31mTypeError\u001b[0m                                 Traceback (most recent call last)",
      "Input \u001b[1;32mIn [53]\u001b[0m, in \u001b[0;36m<cell line: 2>\u001b[1;34m()\u001b[0m\n\u001b[0;32m      1\u001b[0m tuple1 \u001b[38;5;241m=\u001b[39m (\u001b[38;5;241m1\u001b[39m, \u001b[38;5;241m2\u001b[39m)\n\u001b[1;32m----> 2\u001b[0m tuple1[\u001b[38;5;241m0\u001b[39m] \u001b[38;5;241m=\u001b[39m \u001b[38;5;241m10\u001b[39m\n",
      "\u001b[1;31mTypeError\u001b[0m: 'tuple' object does not support item assignment"
     ]
    }
   ],
   "source": [
    "tuple1 = (1, 2)\n",
    "tuple1[0] = 10"
   ]
  },
  {
   "cell_type": "markdown",
   "id": "6fe5d751-901f-476b-8108-6bf027a1b564",
   "metadata": {
    "jp-MarkdownHeadingCollapsed": true,
    "tags": []
   },
   "source": [
    "### Tuple can be used as key in dictionary"
   ]
  },
  {
   "cell_type": "code",
   "execution_count": 54,
   "id": "4602f770-9ee3-4528-a403-d414621919a2",
   "metadata": {},
   "outputs": [
    {
     "data": {
      "text/plain": [
       "3"
      ]
     },
     "execution_count": 54,
     "metadata": {},
     "output_type": "execute_result"
    }
   ],
   "source": [
    "d = {(1, 2):3}\n",
    "d[(1, 2)]"
   ]
  },
  {
   "cell_type": "markdown",
   "id": "7bf626cc-f86e-4716-bacb-6232171dd808",
   "metadata": {
    "jp-MarkdownHeadingCollapsed": true,
    "tags": []
   },
   "source": [
    "## 🔸 **Unpacking tuples**"
   ]
  },
  {
   "cell_type": "code",
   "execution_count": 59,
   "id": "dca921d1-f412-4904-b31e-75265e1c2173",
   "metadata": {},
   "outputs": [
    {
     "name": "stdout",
     "output_type": "stream",
     "text": [
      "10 12 14\n"
     ]
    }
   ],
   "source": [
    "tuple1 = (10, 12, 14)\n",
    "a, b, c = tuple1\n",
    "print(a, b, c)"
   ]
  },
  {
   "cell_type": "code",
   "execution_count": 60,
   "id": "058241a2-1b0d-48fa-a4c3-56e5cc2929f8",
   "metadata": {},
   "outputs": [
    {
     "ename": "ValueError",
     "evalue": "too many values to unpack (expected 2)",
     "output_type": "error",
     "traceback": [
      "\u001b[1;31m---------------------------------------------------------------------------\u001b[0m",
      "\u001b[1;31mValueError\u001b[0m                                Traceback (most recent call last)",
      "Input \u001b[1;32mIn [60]\u001b[0m, in \u001b[0;36m<cell line: 2>\u001b[1;34m()\u001b[0m\n\u001b[0;32m      1\u001b[0m tuple1 \u001b[38;5;241m=\u001b[39m (\u001b[38;5;241m10\u001b[39m, \u001b[38;5;241m12\u001b[39m, \u001b[38;5;241m14\u001b[39m)\n\u001b[1;32m----> 2\u001b[0m a, b \u001b[38;5;241m=\u001b[39m tuple1\n\u001b[0;32m      3\u001b[0m \u001b[38;5;28mprint\u001b[39m(a, b)\n",
      "\u001b[1;31mValueError\u001b[0m: too many values to unpack (expected 2)"
     ]
    }
   ],
   "source": [
    "tuple1 = (10, 12, 14)\n",
    "a, b = tuple1\n",
    "print(a, b)"
   ]
  },
  {
   "cell_type": "code",
   "execution_count": 62,
   "id": "6a23e1eb-d0ff-4717-944c-4bea5669881a",
   "metadata": {},
   "outputs": [
    {
     "name": "stdout",
     "output_type": "stream",
     "text": [
      "[10, 12] 14\n"
     ]
    }
   ],
   "source": [
    "tuple1 = (10, 12, 14)\n",
    "*a, b = tuple1\n",
    "print(a, b)"
   ]
  },
  {
   "cell_type": "code",
   "execution_count": 66,
   "id": "be884c64-e586-4f8a-857f-44af0ee9f3b3",
   "metadata": {},
   "outputs": [
    {
     "name": "stdout",
     "output_type": "stream",
     "text": [
      "[1, 2, 3, 4, 5, 6, 7] 8 9\n"
     ]
    }
   ],
   "source": [
    "tuple2 = (1, 2, 3, 4, 5, 6, 7, 8, 9)\n",
    "\n",
    "*a, b, c = tuple2\n",
    "print(a, b, c)"
   ]
  },
  {
   "cell_type": "markdown",
   "id": "8c3d6cea-01c9-4d8d-b75c-8eb2891982bd",
   "metadata": {
    "jp-MarkdownHeadingCollapsed": true,
    "tags": []
   },
   "source": [
    "## 🔸 **Loop through a tuple**"
   ]
  },
  {
   "cell_type": "code",
   "execution_count": 67,
   "id": "9f9653b9-0ca8-4664-bae6-97349e1a748b",
   "metadata": {},
   "outputs": [
    {
     "name": "stdout",
     "output_type": "stream",
     "text": [
      "(1, 2)\n",
      "(3, 4)\n",
      "(5, 6)\n",
      "(7, 8)\n",
      "(9, 0)\n"
     ]
    }
   ],
   "source": [
    "tuple1 = ((1, 2), (3, 4), (5, 6), (7, 8), (9, 0))\n",
    "\n",
    "for item in tuple1:\n",
    "    print(item)"
   ]
  },
  {
   "cell_type": "code",
   "execution_count": 68,
   "id": "8ec089bf-fbdd-4b09-82ae-beefaf961d27",
   "metadata": {},
   "outputs": [
    {
     "name": "stdout",
     "output_type": "stream",
     "text": [
      "1 2\n",
      "3 4\n",
      "5 6\n",
      "7 8\n",
      "9 0\n"
     ]
    }
   ],
   "source": [
    "tuple1 = ((1, 2), (3, 4), (5, 6), (7, 8), (9, 0))\n",
    "\n",
    "for item1, item2 in tuple1:\n",
    "    print(item1, item2)"
   ]
  },
  {
   "cell_type": "code",
   "execution_count": 71,
   "id": "e5553bbd-f60a-4332-b66d-243473621548",
   "metadata": {},
   "outputs": [
    {
     "name": "stdout",
     "output_type": "stream",
     "text": [
      "[1, 2] -1\n",
      "[3, 4] 0\n",
      "[5, 6] 0\n",
      "[7, 8] -1\n",
      "[9, 0] -1\n"
     ]
    }
   ],
   "source": [
    "tuple2 = ((1, 2, -1), (3, 4, 0), (5, 6, 0), (7, 8, -1), (9, 0, -1))\n",
    "\n",
    "for *item1, item2 in tuple2:\n",
    "    print(item1, item2)"
   ]
  },
  {
   "cell_type": "code",
   "execution_count": 79,
   "id": "b467fbef-83d3-463f-9137-df013b374b00",
   "metadata": {},
   "outputs": [
    {
     "name": "stdout",
     "output_type": "stream",
     "text": [
      "('Ali', 15)\n",
      "('Ardalan', 17)\n"
     ]
    }
   ],
   "source": [
    "dict1 = {'Sara': 23, 'Ali':15, 'Mahsa':22, 'Ardalan':17}\n",
    "\n",
    "a = ((name, age) for name, age in dict1.items() if age < 18)\n",
    "\n",
    "for item in a:\n",
    "    print(item)"
   ]
  },
  {
   "cell_type": "markdown",
   "id": "7e1dfc1d-ce84-43f2-9ccf-311ed9c2ca1c",
   "metadata": {
    "jp-MarkdownHeadingCollapsed": true,
    "tags": []
   },
   "source": [
    "## 🔸 **Tuple methods**"
   ]
  },
  {
   "cell_type": "code",
   "execution_count": 81,
   "id": "d9840e6f-a521-46bb-b5b5-656f9e48e307",
   "metadata": {},
   "outputs": [],
   "source": [
    "tuple1 = (2, 2, 3, 4, 2, 3, 3, 3, 4, 4)"
   ]
  },
  {
   "cell_type": "markdown",
   "id": "668cae49-fcaa-44a1-8b00-371946dd7d68",
   "metadata": {
    "jp-MarkdownHeadingCollapsed": true,
    "tags": []
   },
   "source": [
    "### len"
   ]
  },
  {
   "cell_type": "code",
   "execution_count": 83,
   "id": "7b7f8ff0-c184-4a73-af1a-9bf3150cd8f1",
   "metadata": {},
   "outputs": [
    {
     "data": {
      "text/plain": [
       "10"
      ]
     },
     "execution_count": 83,
     "metadata": {},
     "output_type": "execute_result"
    }
   ],
   "source": [
    "tuple1.__len__()\n",
    "len(tuple1)"
   ]
  },
  {
   "cell_type": "markdown",
   "id": "6e57b7c8-7644-407e-aac3-b8c514d7abf2",
   "metadata": {
    "jp-MarkdownHeadingCollapsed": true,
    "tags": []
   },
   "source": [
    "### count"
   ]
  },
  {
   "cell_type": "code",
   "execution_count": 84,
   "id": "53cd7bfc-bdc6-4ad9-af3f-95281b40911f",
   "metadata": {},
   "outputs": [
    {
     "data": {
      "text/plain": [
       "3"
      ]
     },
     "execution_count": 84,
     "metadata": {},
     "output_type": "execute_result"
    }
   ],
   "source": [
    "tuple1.count(4)"
   ]
  },
  {
   "cell_type": "markdown",
   "id": "7401c928-3a78-4949-bf9c-9b851f063459",
   "metadata": {
    "jp-MarkdownHeadingCollapsed": true,
    "tags": []
   },
   "source": [
    "### index"
   ]
  },
  {
   "cell_type": "code",
   "execution_count": 86,
   "id": "d9898f01-28dc-40b0-9d47-208876659abc",
   "metadata": {},
   "outputs": [
    {
     "data": {
      "text/plain": [
       "(3, 2)"
      ]
     },
     "execution_count": 86,
     "metadata": {},
     "output_type": "execute_result"
    }
   ],
   "source": [
    "tuple1[2], tuple1.index(3)"
   ]
  },
  {
   "cell_type": "markdown",
   "id": "be468156-e1d4-4fab-8d9f-13f290fa6c90",
   "metadata": {
    "jp-MarkdownHeadingCollapsed": true,
    "tags": []
   },
   "source": [
    "## 🔸 **Tuple characteristics**"
   ]
  },
  {
   "cell_type": "markdown",
   "id": "18a172b3-1ff3-440c-97b4-f9401130df80",
   "metadata": {
    "id": "JidMUw0w4KyP",
    "jp-MarkdownHeadingCollapsed": true,
    "tags": []
   },
   "source": [
    "### 1. Tuples are ordered"
   ]
  },
  {
   "cell_type": "markdown",
   "id": "1a6307f6-6f6d-4aca-aba2-1434bae3749a",
   "metadata": {
    "jp-MarkdownHeadingCollapsed": true,
    "tags": []
   },
   "source": [
    "### 2. Tuple items are accessed by index"
   ]
  },
  {
   "cell_type": "code",
   "execution_count": 87,
   "id": "b566d6be-869a-4934-972c-f07ab0c5b293",
   "metadata": {},
   "outputs": [
    {
     "data": {
      "text/plain": [
       "1"
      ]
     },
     "execution_count": 87,
     "metadata": {},
     "output_type": "execute_result"
    }
   ],
   "source": [
    "tuple1 = (1, 2, 3)\n",
    "tuple1[0]"
   ]
  },
  {
   "cell_type": "markdown",
   "id": "46d5f2dd-a168-434d-b21b-01708412e6a2",
   "metadata": {
    "jp-MarkdownHeadingCollapsed": true,
    "tags": []
   },
   "source": [
    "### 3. Tuples are fixed-length"
   ]
  },
  {
   "cell_type": "markdown",
   "id": "4a21a513-a6ed-4646-9fd0-2c4ddddda75d",
   "metadata": {
    "jp-MarkdownHeadingCollapsed": true,
    "tags": []
   },
   "source": [
    "### 4. Tuples are heterogeneous"
   ]
  },
  {
   "cell_type": "code",
   "execution_count": 59,
   "id": "3ef20f2e-bc7a-4c39-a1a1-cac911a59552",
   "metadata": {},
   "outputs": [
    {
     "data": {
      "text/plain": [
       "tuple"
      ]
     },
     "execution_count": 59,
     "metadata": {},
     "output_type": "execute_result"
    }
   ],
   "source": [
    "type((2, 3.12, 'hi', [1, 2, 3]))"
   ]
  },
  {
   "cell_type": "markdown",
   "id": "186426af-fb5e-4520-abb0-db897e4e58ab",
   "metadata": {
    "jp-MarkdownHeadingCollapsed": true,
    "tags": []
   },
   "source": [
    "### 5. Tuples are nestable"
   ]
  },
  {
   "cell_type": "code",
   "execution_count": 60,
   "id": "41d5cc05-0610-4c2c-9fc1-28c0b8377e1c",
   "metadata": {},
   "outputs": [
    {
     "data": {
      "text/plain": [
       "(1, 2, 3, (4, 5))"
      ]
     },
     "execution_count": 60,
     "metadata": {},
     "output_type": "execute_result"
    }
   ],
   "source": [
    "(1, 2, 3, (4, 5))"
   ]
  },
  {
   "cell_type": "markdown",
   "id": "20c4789a-b534-40b9-9983-2101c378bdab",
   "metadata": {
    "jp-MarkdownHeadingCollapsed": true,
    "tags": []
   },
   "source": [
    "### 6. Tuples are immutable"
   ]
  },
  {
   "cell_type": "code",
   "execution_count": 61,
   "id": "2fe99396-237f-4a8e-98c3-69e7a26cab04",
   "metadata": {},
   "outputs": [
    {
     "name": "stdout",
     "output_type": "stream",
     "text": [
      "(1, 2, 3, 4, 5, 6, 7, 8, 9)\n"
     ]
    },
    {
     "ename": "TypeError",
     "evalue": "'tuple' object does not support item assignment",
     "output_type": "error",
     "traceback": [
      "\u001b[1;31m---------------------------------------------------------------------------\u001b[0m",
      "\u001b[1;31mTypeError\u001b[0m                                 Traceback (most recent call last)",
      "Cell \u001b[1;32mIn [61], line 2\u001b[0m\n\u001b[0;32m      1\u001b[0m \u001b[38;5;28mprint\u001b[39m(tuple1)\n\u001b[1;32m----> 2\u001b[0m \u001b[43mtuple1\u001b[49m\u001b[43m[\u001b[49m\u001b[38;5;241;43m0\u001b[39;49m\u001b[43m]\u001b[49m \u001b[38;5;241m=\u001b[39m \u001b[38;5;241m-\u001b[39m\u001b[38;5;241m10\u001b[39m\n",
      "\u001b[1;31mTypeError\u001b[0m: 'tuple' object does not support item assignment"
     ]
    }
   ],
   "source": [
    "print(tuple1)\n",
    "tuple1[0] = -10"
   ]
  },
  {
   "cell_type": "code",
   "execution_count": 89,
   "id": "6cd4f8fb-8a79-4072-a8eb-a8fe12d5a8d9",
   "metadata": {},
   "outputs": [
    {
     "name": "stdout",
     "output_type": "stream",
     "text": [
      "(1, 2, 3)\n",
      "[-10, 2, 3]\n",
      "(-10, 2, 3)\n"
     ]
    }
   ],
   "source": [
    "# change to list then modify it\n",
    "tuple1 = (1, 2, 3)\n",
    "print(tuple1)\n",
    "\n",
    "temp = list(tuple1)\n",
    "temp[0] = -10\n",
    "print(temp)\n",
    "\n",
    "tuple1 = tuple(temp)\n",
    "print(tuple1)"
   ]
  },
  {
   "cell_type": "markdown",
   "id": "db590d17-85dc-4a2d-8560-0d735b0a6964",
   "metadata": {
    "jp-MarkdownHeadingCollapsed": true,
    "tags": []
   },
   "source": [
    "## **✍️ Example 1: Remove an item from tuple**"
   ]
  },
  {
   "cell_type": "markdown",
   "id": "fae99e1e-d48f-4aaa-bba3-a1b7f130596b",
   "metadata": {},
   "source": [
    "<img src=\"../images/tuple-example1.png\" alt=\"string indexing\" width=400 align=\"center\" />"
   ]
  },
  {
   "cell_type": "code",
   "execution_count": 94,
   "id": "c64f93e6-e2d6-4240-9a8a-4e0e481edc62",
   "metadata": {},
   "outputs": [
    {
     "data": {
      "text/plain": [
       "(10, 2, 3, 5, 7, 9)"
      ]
     },
     "execution_count": 94,
     "metadata": {},
     "output_type": "execute_result"
    }
   ],
   "source": [
    "my_tuple = (10, 2, 3, 4, 5, 7, 9)\n",
    "\n",
    "new_tuple = my_tuple[0:3] + my_tuple[-3:]\n",
    "new_tuple"
   ]
  },
  {
   "cell_type": "markdown",
   "id": "24d63649-adac-422c-b3fa-eed6e73f0406",
   "metadata": {
    "jp-MarkdownHeadingCollapsed": true,
    "tags": []
   },
   "source": [
    "## **✍️ Example 2: Rainfall**"
   ]
  },
  {
   "cell_type": "markdown",
   "id": "82e24d50-1613-4856-a18a-abe9d3312664",
   "metadata": {},
   "source": [
    "<img src=\"../images/tuple-example2.png\" alt=\"string indexing\" width=750 align=\"center\" />"
   ]
  },
  {
   "cell_type": "code",
   "execution_count": 100,
   "id": "9d33d7fb-3d31-4b3d-8fd6-d0fe45f0036f",
   "metadata": {},
   "outputs": [
    {
     "data": {
      "text/plain": [
       "[('Mapalana', 94.0), ('Matale', 88.33333333333333)]"
      ]
     },
     "execution_count": 100,
     "metadata": {},
     "output_type": "execute_result"
    }
   ],
   "source": [
    "rainfall = [('Mapalana', [87, 98, 97]), ('Matale', [135, 61, 69])]\n",
    "\n",
    "mean_rf = []\n",
    "for name, val in rainfall:\n",
    "    mean = sum(val) / len(val)\n",
    "    mean_rf.append((name, mean))\n",
    "mean_rf"
   ]
  },
  {
   "cell_type": "markdown",
   "id": "96c00528-8580-4e6d-8cf2-24d6b0015af3",
   "metadata": {
    "jp-MarkdownHeadingCollapsed": true,
    "tags": []
   },
   "source": [
    "## **✍️ Example 3: Add one to each item in tuple**"
   ]
  },
  {
   "cell_type": "markdown",
   "id": "57048394-4d02-4ed9-974f-43144ac2b086",
   "metadata": {},
   "source": [
    "<img src=\"../images/tuple-example3.png\" alt=\"string indexing\" width=550 align=\"center\" />"
   ]
  },
  {
   "cell_type": "code",
   "execution_count": 106,
   "id": "e04aa0ed-dc26-4c0c-966c-696be90f31f4",
   "metadata": {},
   "outputs": [
    {
     "data": {
      "text/plain": [
       "[6, 4, 8, 10, 5, 2]"
      ]
     },
     "execution_count": 106,
     "metadata": {},
     "output_type": "execute_result"
    }
   ],
   "source": [
    "numeric_tuple = (5, 3, 7, 9, 4, 1)\n",
    "\n",
    "numeric_list = list(numeric_tuple)\n",
    "for idx in range(len(numeric_list)):\n",
    "    numeric_list[idx] += 1\n",
    "numeric_list"
   ]
  }
 ],
 "metadata": {
  "kernelspec": {
   "display_name": "Python 3 (ipykernel)",
   "language": "python",
   "name": "python3"
  },
  "language_info": {
   "codemirror_mode": {
    "name": "ipython",
    "version": 3
   },
   "file_extension": ".py",
   "mimetype": "text/x-python",
   "name": "python",
   "nbconvert_exporter": "python",
   "pygments_lexer": "ipython3",
   "version": "3.9.12"
  }
 },
 "nbformat": 4,
 "nbformat_minor": 5
}
