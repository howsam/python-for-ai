{
 "cells": [
  {
   "cell_type": "markdown",
   "id": "1df7bd5d-6bcf-4cdb-b25c-4678c06593cf",
   "metadata": {
    "id": "ltDaErzDg3Hp",
    "tags": []
   },
   "source": [
    "# <font color='#FFE15D'>**Section 12: Function** 🧷</font>"
   ]
  },
  {
   "cell_type": "markdown",
   "id": "ffa8bd2f-1c7c-46b4-b30e-528597c780f6",
   "metadata": {
    "id": "duFit9Ksg7VN"
   },
   "source": [
    "<img src=\"../images/function-0.png\" alt=\"string indexing\" width=200 align=\"center\" />"
   ]
  },
  {
   "cell_type": "markdown",
   "id": "82a65f3f-2001-41d7-840d-1b38ae6017f6",
   "metadata": {
    "jp-MarkdownHeadingCollapsed": true,
    "tags": []
   },
   "source": [
    "## 🔸 **How to define a function**"
   ]
  },
  {
   "cell_type": "markdown",
   "id": "68ff4894-902f-458d-b491-8bc1371ec632",
   "metadata": {
    "id": "duFit9Ksg7VN"
   },
   "source": [
    "<img src=\"../images/function.png\" alt=\"string indexing\" width=400 align=\"center\" />"
   ]
  },
  {
   "cell_type": "markdown",
   "id": "2ffa58ec-1275-4967-8663-336be32af35b",
   "metadata": {
    "jp-MarkdownHeadingCollapsed": true,
    "tags": []
   },
   "source": [
    "### Define & Call"
   ]
  },
  {
   "cell_type": "code",
   "execution_count": 17,
   "id": "5d5ff606-08ce-4808-82ef-9307ae032801",
   "metadata": {},
   "outputs": [],
   "source": [
    "def fx2(x):\n",
    "    y = x**2\n",
    "    return y"
   ]
  },
  {
   "cell_type": "code",
   "execution_count": 20,
   "id": "356f246e-7e0e-4689-9b65-7465b771ce12",
   "metadata": {},
   "outputs": [
    {
     "data": {
      "text/plain": [
       "0.25"
      ]
     },
     "execution_count": 20,
     "metadata": {},
     "output_type": "execute_result"
    }
   ],
   "source": [
    "out = fx2(-0.5)\n",
    "out"
   ]
  },
  {
   "cell_type": "markdown",
   "id": "3d135f4f-bc8c-4c3f-bee8-8e8a94078fe9",
   "metadata": {
    "jp-MarkdownHeadingCollapsed": true,
    "tags": []
   },
   "source": [
    "### Function without `return`"
   ]
  },
  {
   "cell_type": "code",
   "execution_count": 29,
   "id": "2cc901e8-5bab-4d83-a929-0d27c9e59f70",
   "metadata": {},
   "outputs": [],
   "source": [
    "def fx2(x):\n",
    "    y = x**2\n",
    "    print(y)"
   ]
  },
  {
   "cell_type": "code",
   "execution_count": 30,
   "id": "873e760e-ffb1-46a7-b803-b08e1e9e3226",
   "metadata": {},
   "outputs": [
    {
     "name": "stdout",
     "output_type": "stream",
     "text": [
      "0.0625\n",
      "None\n"
     ]
    }
   ],
   "source": [
    "out = fx2(0.25)\n",
    "print(out)"
   ]
  },
  {
   "cell_type": "code",
   "execution_count": 31,
   "id": "3b7ca7db-b795-468e-bdb8-77d6ee1bbd2c",
   "metadata": {},
   "outputs": [
    {
     "name": "stdout",
     "output_type": "stream",
     "text": [
      "0.010000000000000002\n"
     ]
    }
   ],
   "source": [
    "def fx2():\n",
    "    y = 0.1**2\n",
    "    print(y)\n",
    "\n",
    "fx2()"
   ]
  },
  {
   "cell_type": "markdown",
   "id": "47faedd2-3175-4302-80b1-a2143d5c8166",
   "metadata": {
    "jp-MarkdownHeadingCollapsed": true,
    "tags": []
   },
   "source": [
    "### Many inputs & outputs"
   ]
  },
  {
   "cell_type": "code",
   "execution_count": 42,
   "id": "39b40b44-b70d-4648-b7c6-2a4c8ee1d1ae",
   "metadata": {},
   "outputs": [],
   "source": [
    "def fx2(x, y):\n",
    "    z = x**2 + y**2\n",
    "    w = x**2 - y**2\n",
    "    return z, w, x"
   ]
  },
  {
   "cell_type": "code",
   "execution_count": 41,
   "id": "a4f6a854-ab93-4193-91be-18c7fa9fd362",
   "metadata": {},
   "outputs": [
    {
     "data": {
      "text/plain": [
       "(0.020000000000000004, 0.0)"
      ]
     },
     "execution_count": 41,
     "metadata": {},
     "output_type": "execute_result"
    }
   ],
   "source": [
    "out = fx2(0.1, 0.1)\n",
    "out"
   ]
  },
  {
   "cell_type": "code",
   "execution_count": 40,
   "id": "82be42bb-6e1e-4e84-aacb-bbfdaa671661",
   "metadata": {},
   "outputs": [
    {
     "data": {
      "text/plain": [
       "(0.020000000000000004, 0.0)"
      ]
     },
     "execution_count": 40,
     "metadata": {},
     "output_type": "execute_result"
    }
   ],
   "source": [
    "out1, out2 = fx2(0.1, 0.1)\n",
    "out1, out2"
   ]
  },
  {
   "cell_type": "code",
   "execution_count": 46,
   "id": "10a793e0-e50f-4a53-9514-825850b6225e",
   "metadata": {},
   "outputs": [
    {
     "data": {
      "text/plain": [
       "[0.0, 0.1]"
      ]
     },
     "execution_count": 46,
     "metadata": {},
     "output_type": "execute_result"
    }
   ],
   "source": [
    "outz, *outwx = fx2(0.1, 0.1)\n",
    "outz\n",
    "outwx"
   ]
  },
  {
   "cell_type": "markdown",
   "id": "6b13f8b6-b663-46c6-98df-ea5896b5c055",
   "metadata": {
    "jp-MarkdownHeadingCollapsed": true,
    "tags": []
   },
   "source": [
    "## 🔸 **Default parameter value**"
   ]
  },
  {
   "cell_type": "markdown",
   "id": "3a5949ff-b15a-4815-81f9-098f87048985",
   "metadata": {
    "jp-MarkdownHeadingCollapsed": true,
    "tags": []
   },
   "source": [
    "### Arithmetic mean or geometric mean?"
   ]
  },
  {
   "cell_type": "code",
   "execution_count": 47,
   "id": "bcb6415e-2cf5-47ab-b3c1-4ab48e34da69",
   "metadata": {},
   "outputs": [],
   "source": [
    "def arith_geo_mean(a, b, mode):\n",
    "    if mode == 'arithmatic':\n",
    "        out = (a + b)/2\n",
    "    elif mode == 'geometric':\n",
    "        out = (a*b)**0.5\n",
    "    return out"
   ]
  },
  {
   "cell_type": "code",
   "execution_count": 57,
   "id": "5811064c-fd5e-4be5-890c-393dc9f518aa",
   "metadata": {},
   "outputs": [
    {
     "data": {
      "text/plain": [
       "2.5"
      ]
     },
     "execution_count": 57,
     "metadata": {},
     "output_type": "execute_result"
    }
   ],
   "source": [
    "arith_geo_mean(2, 3, 'arithmatic')"
   ]
  },
  {
   "cell_type": "markdown",
   "id": "b4a65616-55e7-4f29-a46d-e3e23f320044",
   "metadata": {
    "jp-MarkdownHeadingCollapsed": true,
    "tags": []
   },
   "source": [
    "### `geometric` argument with default value"
   ]
  },
  {
   "cell_type": "code",
   "execution_count": 68,
   "id": "81c3cdd6-9af7-44f2-9650-01cdecfe901c",
   "metadata": {},
   "outputs": [],
   "source": [
    "def arith_geo_mean(a, b=2, mode='geometric'):\n",
    "    if mode == 'arithmatic':\n",
    "        out = (a + b)/2\n",
    "    elif mode == 'geometric':\n",
    "        out = (a*b)**0.5\n",
    "    return out"
   ]
  },
  {
   "cell_type": "code",
   "execution_count": 69,
   "id": "345d3318-1005-4c78-8dbf-8ac04b5eb5ac",
   "metadata": {},
   "outputs": [
    {
     "data": {
      "text/plain": [
       "2.0"
      ]
     },
     "execution_count": 69,
     "metadata": {},
     "output_type": "execute_result"
    }
   ],
   "source": [
    "arith_geo_mean(2, mode='geometric')"
   ]
  },
  {
   "cell_type": "markdown",
   "id": "6563b8e3-b2aa-4f50-a5e6-7ebb9d957b2d",
   "metadata": {
    "jp-MarkdownHeadingCollapsed": true,
    "tags": []
   },
   "source": [
    "## 🔸 **Unknown  number of inputs**"
   ]
  },
  {
   "cell_type": "markdown",
   "id": "2c79d22b-8dd7-4654-806d-37c5566f2b1c",
   "metadata": {
    "jp-MarkdownHeadingCollapsed": true,
    "tags": []
   },
   "source": [
    "### `*args`"
   ]
  },
  {
   "cell_type": "code",
   "execution_count": 116,
   "id": "01dd9375-d575-4556-b735-6c218c280cb7",
   "metadata": {},
   "outputs": [],
   "source": [
    "def geo_avg(inputs):\n",
    "    result = 1\n",
    "    for item in inputs:\n",
    "        result *= item\n",
    "    return result**(1/len(inputs))"
   ]
  },
  {
   "cell_type": "code",
   "execution_count": 118,
   "id": "47d69427-9830-4427-847b-46fed3c5c6a3",
   "metadata": {},
   "outputs": [
    {
     "data": {
      "text/plain": [
       "1.4142135623730951"
      ]
     },
     "execution_count": 118,
     "metadata": {},
     "output_type": "execute_result"
    }
   ],
   "source": [
    "geo_avg((1, 2))"
   ]
  },
  {
   "cell_type": "code",
   "execution_count": 119,
   "id": "894bc925-1771-487d-817a-bd9d6fe17bd9",
   "metadata": {},
   "outputs": [],
   "source": [
    "def avg(*inputs, mode):\n",
    "    if mode == 'g':\n",
    "        return geo_avg(inputs)\n",
    "    elif mode == 'a':\n",
    "        return sum(inputs) / len(inputs)"
   ]
  },
  {
   "cell_type": "code",
   "execution_count": 123,
   "id": "2a3080a1-6506-4c68-9075-ecb37cf5981e",
   "metadata": {},
   "outputs": [
    {
     "data": {
      "text/plain": [
       "1.9307820366865214"
      ]
     },
     "execution_count": 123,
     "metadata": {},
     "output_type": "execute_result"
    }
   ],
   "source": [
    "avg(1, 2, 3, 4, 1, 5, -1, -1, 2, 3, mode='g')"
   ]
  },
  {
   "cell_type": "markdown",
   "id": "95362799-f325-4786-988d-30613f1c2d0a",
   "metadata": {
    "jp-MarkdownHeadingCollapsed": true,
    "tags": []
   },
   "source": [
    "### `**kwargs`"
   ]
  },
  {
   "cell_type": "code",
   "execution_count": 138,
   "id": "71418ff3-d690-49b7-80a5-09230851c86b",
   "metadata": {},
   "outputs": [],
   "source": [
    "def avg(**inputs):\n",
    "    result = {}\n",
    "    for key, value in inputs.items():\n",
    "        result[key] = sum(value)/len(value)\n",
    "    return result"
   ]
  },
  {
   "cell_type": "code",
   "execution_count": 139,
   "id": "9482ffa2-105a-4677-8079-60c7c0b12a83",
   "metadata": {},
   "outputs": [
    {
     "data": {
      "text/plain": [
       "{'sara': 19.5, 'behnam': 15.0, 'behrooz': 16.5}"
      ]
     },
     "execution_count": 139,
     "metadata": {},
     "output_type": "execute_result"
    }
   ],
   "source": [
    "avg(sara=(19, 20), behnam=(20, 10), behrooz=(15, 18))"
   ]
  },
  {
   "cell_type": "code",
   "execution_count": 164,
   "id": "a458fa11-cac2-45a3-aa93-b98dce784abb",
   "metadata": {},
   "outputs": [],
   "source": [
    "def avg(a, *b, **inputs):\n",
    "    result = {}\n",
    "    for key, value in inputs.items():\n",
    "        result[key] = sum(value)/len(value)\n",
    "    return result, 2*a, b"
   ]
  },
  {
   "cell_type": "code",
   "execution_count": 165,
   "id": "9e7c05d8-2424-4e40-96a4-a7ead7e8ae70",
   "metadata": {},
   "outputs": [
    {
     "data": {
      "text/plain": [
       "({'sara': 19.5, 'behnam': 15.0, 'behrooz': 16.5}, 8, (13, 22, 13, 14))"
      ]
     },
     "execution_count": 165,
     "metadata": {},
     "output_type": "execute_result"
    }
   ],
   "source": [
    "avg(4, 13, 22, 13, 14, sara=(19, 20), behnam=(20, 10), behrooz=(15, 18))"
   ]
  },
  {
   "cell_type": "code",
   "execution_count": 166,
   "id": "bf435e04-84e1-4a51-9eae-847a90a6c08f",
   "metadata": {},
   "outputs": [],
   "source": [
    "def print_args(a, b, *c, d=True, **e):\n",
    "    print(a)\n",
    "    print(b)\n",
    "    print(c)\n",
    "    print(d)\n",
    "    print(e)"
   ]
  },
  {
   "cell_type": "code",
   "execution_count": 170,
   "id": "b0ceb44a-4d3c-4413-b988-cff4d2d94f57",
   "metadata": {},
   "outputs": [
    {
     "name": "stdout",
     "output_type": "stream",
     "text": [
      "2\n",
      "4\n",
      "(2, 3, True, 'str')\n",
      "False\n",
      "{'sara': (19, 20), 'behnam': (20, 10), 'behrooz': (15, 18)}\n"
     ]
    }
   ],
   "source": [
    "print_args(2, 4, 2, 3, True, 'str', d=False, sara=(19, 20), behnam=(20, 10), behrooz=(15, 18))"
   ]
  },
  {
   "cell_type": "markdown",
   "id": "12bf044b-d904-49c2-b4df-2d0f5f584cf5",
   "metadata": {
    "jp-MarkdownHeadingCollapsed": true,
    "tags": []
   },
   "source": [
    "## 🔸 **`lambda`**"
   ]
  },
  {
   "cell_type": "markdown",
   "id": "1a2d623b-e240-43ab-8fe3-e13233561b46",
   "metadata": {},
   "source": [
    "<img src=\"../images/lambda.png\" alt=\"string indexing\" width=650 align=\"center\" />"
   ]
  },
  {
   "cell_type": "code",
   "execution_count": 172,
   "id": "25651e22-e486-4abf-852c-759486d12344",
   "metadata": {},
   "outputs": [],
   "source": [
    "def avg(a):\n",
    "    out = sum(a) / len(a)\n",
    "    return out"
   ]
  },
  {
   "cell_type": "code",
   "execution_count": 188,
   "id": "36d95e76-cbd7-43c7-a476-9976146271b3",
   "metadata": {},
   "outputs": [
    {
     "data": {
      "text/plain": [
       "<function __main__.<lambda>(a, b)>"
      ]
     },
     "execution_count": 188,
     "metadata": {},
     "output_type": "execute_result"
    }
   ],
   "source": [
    "avg_l = lambda a, b: (sum(a) / len(a), sum(b), sum(a+b))\n",
    "avg_l"
   ]
  },
  {
   "cell_type": "code",
   "execution_count": 189,
   "id": "69596a2c-be3c-40ef-b82d-74a92f0ce96f",
   "metadata": {},
   "outputs": [
    {
     "data": {
      "text/plain": [
       "(2.0, 2, 8)"
      ]
     },
     "execution_count": 189,
     "metadata": {},
     "output_type": "execute_result"
    }
   ],
   "source": [
    "avg_l([1, 2, 3], [0, 2])"
   ]
  },
  {
   "cell_type": "markdown",
   "id": "e70e828e-080d-4563-8a00-40481ad09d89",
   "metadata": {
    "jp-MarkdownHeadingCollapsed": true,
    "tags": []
   },
   "source": [
    "### Usage"
   ]
  },
  {
   "cell_type": "code",
   "execution_count": 194,
   "id": "cc29d510-cbaa-4d51-8fa0-45cbde5dcc2b",
   "metadata": {},
   "outputs": [
    {
     "data": {
      "text/plain": [
       "{'sahar': 97.0, 'elaheh': 93.0, 'amin': 79.5}"
      ]
     },
     "execution_count": 194,
     "metadata": {},
     "output_type": "execute_result"
    }
   ],
   "source": [
    "grades = {'bahram':[98, 96], 'shahram':[97, 89], 'mahnam':[75, 84]}\n",
    "grades2 = {'sahar':[98, 96], 'elaheh':[97, 89], 'amin':[75, 84]}\n",
    "\n",
    "grades_avg = lambda grades: {key: sum(value)/len(value) for key, value in grades.items()}\n",
    "grades_avg(grades)\n",
    "grades_avg(grades2)"
   ]
  },
  {
   "cell_type": "markdown",
   "id": "2fbc422a-7883-4069-9951-aa0fca99c420",
   "metadata": {
    "jp-MarkdownHeadingCollapsed": true,
    "tags": []
   },
   "source": [
    "## **✍️ Example 1: Prime numbers**"
   ]
  },
  {
   "cell_type": "markdown",
   "id": "f844e430-c9cf-4cbd-a83c-165d703765ab",
   "metadata": {},
   "source": [
    "<img src=\"../images/function-example1.png\" alt=\"string indexing\" width=650 align=\"center\" />"
   ]
  },
  {
   "cell_type": "code",
   "execution_count": 214,
   "id": "8c441d8c-50d1-483b-9606-3023bbfc914a",
   "metadata": {},
   "outputs": [],
   "source": [
    "def prime_check(a):\n",
    "    stat = 'Prime'\n",
    "    for i in range(2, a):\n",
    "        if a % i == 0:\n",
    "            stat = 'NPrime'\n",
    "            break\n",
    "    return stat"
   ]
  },
  {
   "cell_type": "code",
   "execution_count": 218,
   "id": "4cd6e6ab-fdee-4b1e-91dd-2dd40925f161",
   "metadata": {},
   "outputs": [
    {
     "data": {
      "text/plain": [
       "'NPrime'"
      ]
     },
     "execution_count": 218,
     "metadata": {},
     "output_type": "execute_result"
    }
   ],
   "source": [
    "prime_check(24)"
   ]
  },
  {
   "cell_type": "markdown",
   "id": "811ab41c-9cf0-4146-9720-a2b96bffe9ae",
   "metadata": {
    "jp-MarkdownHeadingCollapsed": true,
    "tags": []
   },
   "source": [
    "## **✍️ Example 2: Factorial function**"
   ]
  },
  {
   "cell_type": "markdown",
   "id": "81859d69-d15a-4a81-9bbb-85d2bcde2145",
   "metadata": {},
   "source": [
    "<img src=\"../images/function-example2.png\" alt=\"string indexing\" width=650 align=\"center\" />"
   ]
  },
  {
   "cell_type": "code",
   "execution_count": 235,
   "id": "93517913-2b80-472b-a90e-55bfe43292c1",
   "metadata": {
    "id": "neIECYQAjMs4"
   },
   "outputs": [],
   "source": [
    "def factorial(n):\n",
    "    res = 1\n",
    "    for i in range(2, n+1):\n",
    "        res *= i\n",
    "    return res"
   ]
  },
  {
   "cell_type": "code",
   "execution_count": 239,
   "id": "4ab84380-0ff8-414c-8e05-e67e030d1d3c",
   "metadata": {
    "colab": {
     "base_uri": "https://localhost:8080/"
    },
    "id": "B7w29lQYjo5U",
    "outputId": "360326dd-7f26-4d64-87af-aa2fcb02993b"
   },
   "outputs": [
    {
     "data": {
      "text/plain": [
       "120"
      ]
     },
     "execution_count": 239,
     "metadata": {},
     "output_type": "execute_result"
    }
   ],
   "source": [
    "factorial(5)"
   ]
  },
  {
   "cell_type": "markdown",
   "id": "9c937070-e287-4c3f-8d54-22f260e3b3cd",
   "metadata": {
    "jp-MarkdownHeadingCollapsed": true,
    "tags": []
   },
   "source": [
    "## **✍️ Example 3: Fibonacci function**"
   ]
  },
  {
   "cell_type": "markdown",
   "id": "be14e8ef-7ad1-4ffc-930a-0cfd350b140d",
   "metadata": {},
   "source": [
    "<img src=\"../images/function-example3.png\" alt=\"string indexing\" width=650 align=\"center\" />"
   ]
  },
  {
   "cell_type": "code",
   "execution_count": 7,
   "id": "7d38d2c6-ed82-4190-9437-acc538039554",
   "metadata": {},
   "outputs": [],
   "source": [
    "def fibonacci(n):\n",
    "    num1, num2 = 0, 1\n",
    "    nums = [num1, num2]\n",
    "    while True:\n",
    "        num1, num2 = num2, num1+num2\n",
    "        if num2 > n:\n",
    "            break\n",
    "        nums.append(num2)\n",
    "    return nums"
   ]
  },
  {
   "cell_type": "code",
   "execution_count": 9,
   "id": "0642e849-564a-4179-a86e-d6c7f2a5c82e",
   "metadata": {},
   "outputs": [
    {
     "data": {
      "text/plain": [
       "[0, 1, 1, 2, 3, 5, 8, 13]"
      ]
     },
     "execution_count": 9,
     "metadata": {},
     "output_type": "execute_result"
    }
   ],
   "source": [
    "fibonacci(15)"
   ]
  },
  {
   "cell_type": "markdown",
   "id": "3623f567-eb45-4af8-9737-cafecad002db",
   "metadata": {
    "jp-MarkdownHeadingCollapsed": true,
    "tags": []
   },
   "source": [
    "## **✍️ Example 4: Palindrome**"
   ]
  },
  {
   "cell_type": "markdown",
   "id": "2bb1411e-718a-4a4f-868e-fc9df2290b65",
   "metadata": {},
   "source": [
    "<img src=\"../images/function-example4.png\" alt=\"string indexing\" width=650 align=\"center\" />"
   ]
  },
  {
   "cell_type": "code",
   "execution_count": 17,
   "id": "b7d09b35-8970-41ac-ab5f-2470bd74a4b6",
   "metadata": {},
   "outputs": [
    {
     "data": {
      "text/plain": [
       "<function __main__.<lambda>(txt)>"
      ]
     },
     "execution_count": 17,
     "metadata": {},
     "output_type": "execute_result"
    }
   ],
   "source": [
    "palindrome = lambda txt: 'PAL' if txt.lower() == txt.lower()[::-1] else 'N-PAL'\n",
    "palindrome"
   ]
  },
  {
   "cell_type": "code",
   "execution_count": 20,
   "id": "5dd7b241-e531-4df7-a5dd-e9f953a6703d",
   "metadata": {},
   "outputs": [
    {
     "data": {
      "text/plain": [
       "'PAL'"
      ]
     },
     "execution_count": 20,
     "metadata": {},
     "output_type": "execute_result"
    }
   ],
   "source": [
    "palindrome('sas')"
   ]
  }
 ],
 "metadata": {
  "kernelspec": {
   "display_name": "Python 3 (ipykernel)",
   "language": "python",
   "name": "python3"
  },
  "language_info": {
   "codemirror_mode": {
    "name": "ipython",
    "version": 3
   },
   "file_extension": ".py",
   "mimetype": "text/x-python",
   "name": "python",
   "nbconvert_exporter": "python",
   "pygments_lexer": "ipython3",
   "version": "3.9.15"
  }
 },
 "nbformat": 4,
 "nbformat_minor": 5
}
