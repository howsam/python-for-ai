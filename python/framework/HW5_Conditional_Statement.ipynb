{
 "cells": [
  {
   "cell_type": "markdown",
   "metadata": {},
   "source": [
    "<div style=\"text-align:center; font-family:samim; font-size:30px;\"><strong> آشنایی با گزاره‌های شرطی</strong></div>   \n",
    "<br>\n",
    "<p style=\"text-align:center; font-family:samim; font-size:20px;\">تمرین سری پنجم</p> \n",
    "<br>\n",
    "</p>"
   ]
  },
  {
   "cell_type": "markdown",
   "metadata": {},
   "source": [
    "<p style='direction:rtl;text-align:right;font-size:17px;font-family:samim;line-height:1.5;'>\n",
    "    در این سلسله تمرین‌های آموزشی \"پایتون برای هوش مصنوعی با هوسم\"، ما از شما دعوت می‌کنیم که با یک روند گام به گام، به تدریج پیشرفت کنید. این مسیر ممکن است زمان‌بر باشد، پس صبور باشید و به راهنمایی‌ها و راهکارهایی که از تجربه ما در ارتباط با دانشجویان مختلف بدست آمده است، اعتماد کنید. برای حل مسائل، لطفا به نکات زیر توجه کنید. امیدواریم شاهد پیشرفت‌های شما در این مسیر باشیم. موفق و پیروز باشید!\n",
    "    </p>\n",
    "<br>\n",
    "<div style=\"font-family: samim; font-size: 14px; text-align: right; direction: rtl;\">\n",
    "    <strong>فونت صمیم:</strong> برای مشاهده بهتر توضیحات فارسی، پیشنهاد می‌شود فونت رایگان صمیم را روی سیستم شخصی خود نصب کنید. <a href=\"https://www.fontyab.com/5024/%D9%81%D9%88%D9%86%D8%AA-%D9%81%D8%A7%D8%B1%D8%B3%DB%8C-%D8%B5%D9%85%DB%8C%D9%85.html\">لینک دانلود فونت صمیم</a>\n",
    "    <br>\n",
    "    <br>\n",
    "    <strong>نحوه مشاهده تمرین‌ها:</strong> هر تمرین شامل سه بخش سوال، راهنمایی و جواب هست. راهنمایی و جواب مینیمایز شده است. بهتر هست از Jupyter Lab برای مشاهده درست نوتبوک‌ها و سلول‌ها استفاده شود.\n",
    "    <br>\n",
    "    <br>\n",
    "    <strong>تمرکز بر روی مسئله:</strong> قبل از هر چیز، هر سوال را دقیق بخوانید و به آن فکر کنید. این اولین گام برای حل مسئله است.\n",
    "    <br>\n",
    "    <br>\n",
    "    <strong>استفاده از کاغذ:</strong> اگر نیاز بود، فلوچارت حل مساله را روی کاغذ بنویسید و به آن فکر کنید. بسیاری اوقات، این کار می‌تواند به روشن شدن مساله و حل بهتر آن کمک کند.\n",
    "    <br>\n",
    "    <br>\n",
    "    <strong>شروع به کدنویسی:</strong> دست روی کیبورد و کدنویسی را فراموش نکنید! برای تسلط بر پایتون، نیاز هست تمرین‌های زیادی را کد بزنید.\n",
    "    <br>\n",
    "    <br>\n",
    "    <strong>استفاده متناسب از منابع:</strong> سعی کنید بدون استفاده از ابزارهای کمکی نظیر ChatGPT یا اینترنت، مسئله‌ها را حل کنید. دراینصورت، قدرت حل مساله در مغز شما تقویت می‌شود.\n",
    "    <br>\n",
    "    <br>\n",
    "    <strong>راهنمایی و ارزیابی:</strong> اگر پس از تلاش، به نتیجه نرسیدید، راهنمایی‌های ارائه شده را مطالعه کرده و دوباره به حل مساله بپردازید. اگر بعد از چند ساعت تلاش برای یک مساله، نتواستید، آنگاه جواب مساله را نگاه کنید.\n",
    "    <br>\n",
    "    <br>\n",
    "    <strong>مبتنی بر محتوا:</strong> سعی کنید با توجه به مباحثی که در ویدیو آموزش هر فصل آموخته‌اید، به سوالات پاسخ دهید و از دستورات جدید خودداری کنید. این به شما کمک می‌کند تا گام به گام و با پیشرفت مرحله‌ای، مسائل را حل کنید.\n",
    "    <br>\n",
    "    <br>\n",
    "    <strong>متنوع بودن راه‌حل‌ها:</strong> به یاد داشته باشید که برای هر سوال، روش‌های مختلفی وجود دارد. راه‌حل ارائه شده فقط یکی از راه‌حل‌های ممکن است و ممکن هست جواب شما هم درست باشد.\n",
    "</div>\n"
   ]
  },
  {
   "cell_type": "markdown",
   "metadata": {},
   "source": [
    "<h2 style='direction:rtl;text-align:right;font-family:samim;'><b>🔸 تمرین ۱</b></h2>"
   ]
  },
  {
   "cell_type": "markdown",
   "metadata": {},
   "source": [
    "<p style='direction:rtl;text-align:right;font-size:18px;font-family:samim;line-height:1.5;'>\n",
    "در دستورات شرطی، عبارت شرطی ترکیبی از چه عملگرهایی می‌تواند باشد؟    \n",
    "</p>"
   ]
  },
  {
   "cell_type": "code",
   "execution_count": null,
   "metadata": {},
   "outputs": [],
   "source": []
  },
  {
   "cell_type": "markdown",
   "metadata": {
    "jp-MarkdownHeadingCollapsed": true
   },
   "source": [
    "<h4 style='direction:rtl;text-align:right;font-size:18px;font-family:samim;'>راهنمایی</h4>"
   ]
  },
  {
   "cell_type": "markdown",
   "metadata": {},
   "source": [
    "<p style='direction:rtl;text-align:right;font-size:16px;font-family:samim;'>\n",
    "    در ویدیو آموزشی اشاره کرده بودیم.\n",
    "</p>"
   ]
  },
  {
   "cell_type": "markdown",
   "metadata": {
    "jp-MarkdownHeadingCollapsed": true
   },
   "source": [
    "<h4 style='direction:rtl;text-align:right;font-size:18px;font-family:samim;'>جواب</h4>"
   ]
  },
  {
   "cell_type": "markdown",
   "metadata": {},
   "source": [
    "<p style='direction:rtl;text-align:right;font-size:16px;font-family:samim;'>\n",
    "  ترکیبی از عبارات ریاضی، مقایسه‌ای و منطقی  \n",
    "</p>"
   ]
  },
  {
   "cell_type": "markdown",
   "metadata": {},
   "source": [
    "<h2 style='direction:rtl;text-align:right;font-family:samim;'><b>🔸 تمرین ۲</b></h2>"
   ]
  },
  {
   "cell_type": "markdown",
   "metadata": {},
   "source": [
    "<p style='direction:rtl;text-align:right;font-size:18px;font-family:samim;'>\n",
    "کدی بنویسید که اگر طول جمله زیر بیشتر از 6 باشد، عبارت This sentence is too long را چاپ کند.\n",
    "<br> \n",
    "<p style='direction:rtl;text-align:center;font-size:18px;font-family:samim;'>    \n",
    "sentence = \n",
    "   the quick brown fox jumps over the lazy dog\n",
    "</p>"
   ]
  },
  {
   "cell_type": "code",
   "execution_count": null,
   "metadata": {},
   "outputs": [],
   "source": []
  },
  {
   "cell_type": "markdown",
   "metadata": {
    "jp-MarkdownHeadingCollapsed": true
   },
   "source": [
    "<h4 style='direction:rtl;text-align:right;font-size:18px;font-family:samim;'>راهنمایی</h4>"
   ]
  },
  {
   "cell_type": "markdown",
   "metadata": {},
   "source": [
    "<p style='direction:rtl;text-align:right;font-size:16px;font-family:samim;'>\n",
    "ابتدا جمله داده شده را به عنوان متغیری از جنس رشته تعریف کنید.\n",
    "    سپس طول جمله را با استفاده از دستور len  بررسی کنید.\n",
    "\n",
    "</p>"
   ]
  },
  {
   "cell_type": "markdown",
   "metadata": {
    "jp-MarkdownHeadingCollapsed": true
   },
   "source": [
    "<h4 style='direction:rtl;text-align:right;font-size:18px;font-family:samim;'>جواب</h4>"
   ]
  },
  {
   "cell_type": "code",
   "execution_count": 2,
   "metadata": {},
   "outputs": [
    {
     "name": "stdout",
     "output_type": "stream",
     "text": [
      "This sentence is too long\n"
     ]
    }
   ],
   "source": [
    "#تعریف رشته\n",
    "sentence = \"the quick brown fox jumps over the lazy dog\"\n",
    "\n",
    "#بررسی شرط\n",
    "if len(sentence) > 6:\n",
    "    print(\"This sentence is too long\")"
   ]
  },
  {
   "cell_type": "markdown",
   "metadata": {},
   "source": [
    "<h2 style='direction:rtl;text-align:right;font-family:samim;'><b>🔸 تمرین ۳</b></h2>"
   ]
  },
  {
   "cell_type": "markdown",
   "metadata": {},
   "source": [
    "<p style='direction:rtl;text-align:right;font-size:18px;font-family:samim;line-height:1.5;'>\n",
    "نمره یک دانش آموز در متغیری grade ذخیره شده است. کدی بنویسید که اگر نمره بالای 90 بود، عبارت \"A\" در خروجی نمایش داده شود. \n",
    "    اگر نمره بین 50 تا 90  باشد، عبارت \"B\" و اگر نمره کمتر از 50 باشد عبارت \"C\" در خروجی نمایش داده شود.\n",
    "    به grade مقادیر مختلف بدهید و کد خود را تست کنید.\n",
    "</p>"
   ]
  },
  {
   "cell_type": "markdown",
   "metadata": {
    "jp-MarkdownHeadingCollapsed": true
   },
   "source": [
    "\n",
    "\n",
    "<h4 style='direction:rtl;text-align:right;font-size:18px;font-family:samim;'>راهنمایی</h4>"
   ]
  },
  {
   "cell_type": "markdown",
   "metadata": {},
   "source": [
    "<p style='direction:rtl;text-align:right;font-size:16px;font-family:samim;'>\n",
    "متغیری تعریف کنید و به آن مقداری دلخواه را اختصاص دهید. سپس با استفاده از دستور if، شرط اول را بررسی کنید. سپس با کمک elif شرط دوم و در نهایت با دستور  else شرط آخر را بررسی کنید.\n",
    "</p>"
   ]
  },
  {
   "cell_type": "markdown",
   "metadata": {
    "jp-MarkdownHeadingCollapsed": true,
    "tags": []
   },
   "source": [
    "<h4 style='direction:rtl;text-align:right;font-size:18px;font-family:samim;'>جواب</h4>"
   ]
  },
  {
   "cell_type": "code",
   "execution_count": 4,
   "metadata": {},
   "outputs": [
    {
     "name": "stdout",
     "output_type": "stream",
     "text": [
      "C\n"
     ]
    }
   ],
   "source": [
    "#تعریف متغیر نمره\n",
    "grade = 40  \n",
    "\n",
    "if grade > 90:\n",
    "    print(\"A\")\n",
    "    \n",
    "elif grade >= 50:\n",
    "    print(\"B\")\n",
    "    \n",
    "else:\n",
    "    print(\"C\")"
   ]
  },
  {
   "cell_type": "markdown",
   "metadata": {},
   "source": [
    "<h2 style='direction:rtl;text-align:right;font-family:samim;'><b>🔸 تمرین ۴</b></h2>"
   ]
  },
  {
   "cell_type": "markdown",
   "metadata": {},
   "source": [
    "<p style='direction:rtl;text-align:right;font-size:18px;font-family:samim;line-height:1.5;'>\n",
    "   برنامه‌ای بنویسید که سال را دریافت کرده و بگوید آن سال کبیسه است یا خیر. اگر شماره سال بر 400 تقسیم‌پذیر باشد آنگاه آن سال کبیسه است. در غیر اینصورت اگر بر 100 تقسیم‌پذیر باشد آن سال کبیسه نیست و اگر بر 4 تقسیم‌پذیر باشد آن سال کبیسه است. اگر هیچکدام از این شرایط برقرار نباشند، آن سال کبیسه نیست.\n",
    "</p>"
   ]
  },
  {
   "cell_type": "code",
   "execution_count": null,
   "metadata": {},
   "outputs": [],
   "source": []
  },
  {
   "cell_type": "markdown",
   "metadata": {
    "jp-MarkdownHeadingCollapsed": true
   },
   "source": [
    "<h4 style='direction:rtl;text-align:right;font-size:18px;font-family:samim;'>راهنمایی</h4>"
   ]
  },
  {
   "cell_type": "markdown",
   "metadata": {},
   "source": [
    "<p style='direction:rtl;text-align:right;font-size:16px;font-family:samim;'>\n",
    "متغیر سال را تعریف کنید. \n",
    "    با کمک if و elif شرط های گفته شده را به ترتیب پیاده‌سازی کنید.\n",
    "</p>"
   ]
  },
  {
   "cell_type": "markdown",
   "metadata": {
    "jp-MarkdownHeadingCollapsed": true,
    "tags": []
   },
   "source": [
    "<h4 style='direction:rtl;text-align:right;font-size:18px;font-family:samim;'>جواب</h4>"
   ]
  },
  {
   "cell_type": "code",
   "execution_count": 5,
   "metadata": {},
   "outputs": [
    {
     "name": "stdout",
     "output_type": "stream",
     "text": [
      "Leap year\n"
     ]
    }
   ],
   "source": [
    "#تعریف متغیر سال\n",
    "year = 2024 \n",
    "\n",
    "if year % 400 == 0:\n",
    "    print(\"Leap year\")\n",
    "    \n",
    "elif year % 100 == 0:\n",
    "    print(\"Not a leap year\")\n",
    "    \n",
    "elif year % 4 == 0:\n",
    "    print(\"Leap year\")\n",
    "    \n",
    "else:\n",
    "    print(\"Not a leap year\")\n"
   ]
  },
  {
   "cell_type": "markdown",
   "metadata": {},
   "source": [
    "<h2 style='direction:rtl;text-align:right;font-family:samim;'><b>🔸 تمرین ۵</b></h2>"
   ]
  },
  {
   "cell_type": "markdown",
   "metadata": {},
   "source": [
    "<p style='direction:rtl;text-align:right;font-size:18px;font-family:samim;line-height:1.5;'>\n",
    "    کدی بنویسید که چک کند یک رشته palindrome است یا خیر. palindrome به عبارتی گفته می‌شود که از اول و آخر به یک شکل نوشته می‌شود مثل anna. \n",
    "    برای اینکه یک رشته را در پایتون معکوس کنید می‌توانید از اندیس‌دهی به شکل زیر استفاده کنید.\n",
    "(step  را منفی یک در نظر بگیرید).\n",
    "\n",
    "<p style='direction:rtl;text-align:center;font-size:18px;font-family:samim;'>    \n",
    "$$a[begin:end:step]$$\n",
    "</p>"
   ]
  },
  {
   "cell_type": "code",
   "execution_count": null,
   "metadata": {},
   "outputs": [],
   "source": []
  },
  {
   "cell_type": "markdown",
   "metadata": {
    "jp-MarkdownHeadingCollapsed": true
   },
   "source": [
    "<h4 style='direction:rtl;text-align:right;font-size:18px;font-family:samim;'>راهنمایی</h4>"
   ]
  },
  {
   "cell_type": "markdown",
   "metadata": {},
   "source": [
    "<p style='direction:rtl;text-align:right;font-size:16px;font-family:samim;'>\n",
    "ابتدا یک متغیر از نوع رشته تعریف کنید. سپس متغیر را با تعریف معکوس آن مقایسه کنید.\n",
    "</p>"
   ]
  },
  {
   "cell_type": "markdown",
   "metadata": {
    "jp-MarkdownHeadingCollapsed": true,
    "tags": []
   },
   "source": [
    "<h4 style='direction:rtl;text-align:right;font-size:18px;font-family:samim;'>جواب</h4>"
   ]
  },
  {
   "cell_type": "code",
   "execution_count": 1,
   "metadata": {},
   "outputs": [
    {
     "name": "stdout",
     "output_type": "stream",
     "text": [
      "Palindrome\n",
      "Not a palindrome\n"
     ]
    }
   ],
   "source": [
    "#تعریف یک متغیر \n",
    "string = \"anna\"\n",
    "\n",
    "if string == string[::-1]:\n",
    "    print(\"Palindrome\")\n",
    "else:\n",
    "    print(\"Not a palindrome\")\n",
    "    \n",
    "#تست کردن کد با یک رشته دیگر\n",
    "\n",
    "test = \"annam\"\n",
    "\n",
    "if test == test[::-1]:\n",
    "    print(\"Palindrome\")\n",
    "else:\n",
    "    print(\"Not a palindrome\")"
   ]
  },
  {
   "cell_type": "markdown",
   "metadata": {},
   "source": [
    "<h2 style='direction:rtl;text-align:right;font-family:samim;'><b>🔸 تمرین ۶</b></h2>"
   ]
  },
  {
   "cell_type": "markdown",
   "metadata": {},
   "source": [
    "<p style='direction:rtl;text-align:right;font-size:18px;font-family:samim;line-height:1.5;'>\n",
    " دو کلمه آناگرامز هستند، اگر کاراکترهای مشترک با ترتیب متفاوت داشته باشند مانند دو کلمه evil و live کدی بنویسید که دو رشته از کاربر دریافت کرده و چک کند که آناگرامز هستند یا خیر.\n",
    "</p>"
   ]
  },
  {
   "cell_type": "code",
   "execution_count": null,
   "metadata": {},
   "outputs": [],
   "source": []
  },
  {
   "cell_type": "markdown",
   "metadata": {
    "jp-MarkdownHeadingCollapsed": true
   },
   "source": [
    "<h4 style='direction:rtl;text-align:right;font-size:18px;font-family:samim;'>راهنمایی</h4>"
   ]
  },
  {
   "cell_type": "markdown",
   "metadata": {},
   "source": [
    "<p style='direction:rtl;text-align:right;font-size:16px;font-family:samim;'>\n",
    "ابتدا دو کلمه را تعریف کنید. سپس بررسی کنید طول دو کلمه یکسان هست یا نه. اگر یکسان نباشد، آناگرامز نیستند ولی اگر برابر باشد باید سراغ چک کردن یکسان بودن تمامی حروف در دو کلمه برویم. بنابراین کافیست بررسی کنیم که تمامی حروف برای هر دو کلمه یکی هستند یا نه. این کار را با دستور sorted انجام دهید.\n",
    "</p>"
   ]
  },
  {
   "cell_type": "markdown",
   "metadata": {
    "jp-MarkdownHeadingCollapsed": true,
    "tags": []
   },
   "source": [
    "<h4 style='direction:rtl;text-align:right;font-size:18px;font-family:samim;'>جواب</h4>"
   ]
  },
  {
   "cell_type": "code",
   "execution_count": 6,
   "metadata": {},
   "outputs": [
    {
     "name": "stdout",
     "output_type": "stream",
     "text": [
      "Anagrams\n",
      "Not anagrams\n"
     ]
    }
   ],
   "source": [
    "#تعیرف دو متغیر رشته\n",
    "s1 = \"evil\"\n",
    "s2 = \"live\"\n",
    "\n",
    "#تعریف شروط گفته شده\n",
    "\n",
    "if len(s1) != len(s2):\n",
    "    print(\"Not anagrams\")\n",
    "else:    \n",
    "    if sorted(s1) == sorted(s2):\n",
    "        print(\"Anagrams\")\n",
    "    else:\n",
    "        print(\"Not anagrams\")\n",
    "\n",
    "#تست کردن کد        \n",
    "s1 = \"evilm\"\n",
    "s2 = \"live\"\n",
    "\n",
    "#تعریف شروط گفته شده\n",
    "\n",
    "if len(s1) != len(s2):\n",
    "    print(\"Not anagrams\")\n",
    "else:    \n",
    "    if sorted(s1) == sorted(s2):\n",
    "        print(\"Anagrams\")\n",
    "    else:\n",
    "        print(\"Not anagrams\")        \n",
    "        "
   ]
  },
  {
   "cell_type": "markdown",
   "metadata": {},
   "source": [
    "<h2 style='direction:rtl;text-align:right;font-family:samim;'><b>🔸 تمرین ۷</b></h2>"
   ]
  },
  {
   "cell_type": "markdown",
   "metadata": {},
   "source": [
    "<p style='direction:rtl;text-align:right;font-size:18px;font-family:samim;line-height:1.5;'>\n",
    "برای آموزش شبکه‌های عصبی GAN از یک تابع فعال‌ساز به نام leakyrelu که نمودار آن‌را در شکل زیر مشاهده می‌کنید، استفاده می‌شود. بر اساس نمودار داده شد، رابطه این تابع فعال‌ساز را پیدا و پیاده‌سازی کنید. \n",
    "</p>"
   ]
  },
  {
   "attachments": {
    "Picture10.png": {
     "image/png": "[encoded data removed]"
    }
   },
   "cell_type": "markdown",
   "metadata": {},
   "source": [
    "![Picture10.png](attachment:Picture10.png)"
   ]
  },
  {
   "cell_type": "code",
   "execution_count": null,
   "metadata": {},
   "outputs": [],
   "source": []
  },
  {
   "cell_type": "markdown",
   "metadata": {
    "jp-MarkdownHeadingCollapsed": true
   },
   "source": [
    "<h4 style='direction:rtl;text-align:right;font-size:18px;font-family:samim;'>راهنمایی</h4>"
   ]
  },
  {
   "cell_type": "markdown",
   "metadata": {},
   "source": [
    "<p style='direction:rtl;text-align:right;font-size:16px;font-family:samim;'>\n",
    "ابتدا با استفاده از نمودار داده شده رابطه هر دو خط نمودار را بدست آورید سپس روابط را با دستور if و else پیاده‌سازی کنید.\n",
    "</p>"
   ]
  },
  {
   "cell_type": "markdown",
   "metadata": {
    "jp-MarkdownHeadingCollapsed": true,
    "tags": []
   },
   "source": [
    "<h4 style='direction:rtl;text-align:right;font-size:18px;font-family:samim;'>جواب</h4>"
   ]
  },
  {
   "cell_type": "code",
   "execution_count": 11,
   "metadata": {},
   "outputs": [
    {
     "name": "stdout",
     "output_type": "stream",
     "text": [
      "-0.01\n"
     ]
    }
   ],
   "source": [
    "#تعریف یک متغیر عددی\n",
    "x = -1\n",
    "\n",
    "#بررسی شروط بر اساس خطوط نمودار\n",
    "if x >= 0 :\n",
    "  y = x\n",
    "\n",
    "else:\n",
    "  y = 0.01 * x\n",
    "\n",
    "print(y)"
   ]
  },
  {
   "cell_type": "markdown",
   "metadata": {},
   "source": [
    "<h2 style='direction:rtl;text-align:right;font-family:samim;'><b>🔸 تمرین ۸</b></h2>"
   ]
  },
  {
   "cell_type": "markdown",
   "metadata": {},
   "source": [
    "<p style='direction:rtl;text-align:right;font-size:18px;font-family:samim;line-height:1.5;'>\n",
    "برنامه‌ای بنویسید که سن کاربر را دریافت کند و نشان می‌دهد که او «کودک» (سن زیر 13 سال)، «نوجوان» (سن بین 13 تا 19 سال)، «بزرگ‌سال» (سن بین 20 تا 59 سال)، یا «سالمند» است. (سن 60 و بالاتر). \n",
    "</p>"
   ]
  },
  {
   "cell_type": "code",
   "execution_count": null,
   "metadata": {},
   "outputs": [],
   "source": []
  },
  {
   "cell_type": "markdown",
   "metadata": {
    "jp-MarkdownHeadingCollapsed": true
   },
   "source": [
    "<h4 style='direction:rtl;text-align:right;font-size:18px;font-family:samim;'>راهنمایی</h4>"
   ]
  },
  {
   "cell_type": "markdown",
   "metadata": {},
   "source": [
    "<p style='direction:rtl;text-align:right;font-size:16px;font-family:samim;'>\n",
    "یک متغیر سن تعریف کنید. سپس هر شرط را جداگانه بررسی کنید.\n",
    "از if و elif و else کمک بگیرید.\n",
    "</p>"
   ]
  },
  {
   "cell_type": "markdown",
   "metadata": {
    "jp-MarkdownHeadingCollapsed": true,
    "tags": []
   },
   "source": [
    "<h4 style='direction:rtl;text-align:right;font-size:18px;font-family:samim;'>جواب</h4>"
   ]
  },
  {
   "cell_type": "code",
   "execution_count": 7,
   "metadata": {},
   "outputs": [
    {
     "name": "stdout",
     "output_type": "stream",
     "text": [
      "Teen\n"
     ]
    }
   ],
   "source": [
    "age = 13  \n",
    "\n",
    "if age<13:\n",
    "    print(\"Child\")\n",
    "    \n",
    "elif 13<= age <=19:\n",
    "    print(\"Teen\")\n",
    "    \n",
    "elif 19< age<=59:\n",
    "    print(\"Adult\")\n",
    "    \n",
    "else:\n",
    "    print(\"Senior\")\n",
    "\n",
    "    \n",
    "#روش دوم    \n",
    "# if age < 13:\n",
    "#     print(\"Child\")\n",
    "# elif age <= 19: \n",
    "#     print(\"Teen\")\n",
    "# elif age <= 59:\n",
    "#     print(\"Adult\")\n",
    "# else:\n",
    "#     print(\"Senior\")\n"
   ]
  },
  {
   "cell_type": "markdown",
   "metadata": {},
   "source": [
    "<h2 style='direction:rtl;text-align:right;font-family:samim;'><b>🔸 تمرین ۹</b></h2>"
   ]
  },
  {
   "cell_type": "markdown",
   "metadata": {},
   "source": [
    "<p style='direction:rtl;text-align:right;font-size:18px;font-family:samim;line-height:1.5;'>\n",
    " از کاربر نوع آب و هوای بیرون (آفتابی، بارانی یا برفی) را بپرسید. اگر هوا آفتابی است، پیشنهاد کنید «به پیاده روی بروید». اگر هوا بارانی است، «در داخل کتاب بخوانید» را پیشنهاد دهید. اگر برف می‌بارد، بپرسید که آیا دما زیر 5- درجه است. اگر بله، «در داخل بمانید»، در غیر این صورت «آدم برفی بسازید» را پیشنهاد دهید.\n",
    "</p>"
   ]
  },
  {
   "cell_type": "code",
   "execution_count": null,
   "metadata": {},
   "outputs": [],
   "source": []
  },
  {
   "cell_type": "markdown",
   "metadata": {
    "jp-MarkdownHeadingCollapsed": true
   },
   "source": [
    "<h4 style='direction:rtl;text-align:right;font-size:18px;font-family:samim;'>راهنمایی</h4>"
   ]
  },
  {
   "cell_type": "markdown",
   "metadata": {},
   "source": [
    "<p style='direction:rtl;text-align:right;font-size:16px;font-family:samim;'>\n",
    "دو متغیر هوا و دما را تعریف کنید. سپس شروط گفته شده را به ترتیب با if و elif های پی در پی بررسی کنید و پیاده‌سازی کنید.\n",
    "</p>"
   ]
  },
  {
   "cell_type": "markdown",
   "metadata": {
    "jp-MarkdownHeadingCollapsed": true,
    "tags": []
   },
   "source": [
    "<h4 style='direction:rtl;text-align:right;font-size:18px;font-family:samim;'>جواب</h4>"
   ]
  },
  {
   "cell_type": "code",
   "execution_count": 30,
   "metadata": {},
   "outputs": [
    {
     "name": "stdout",
     "output_type": "stream",
     "text": [
      "Build a snowman\n"
     ]
    }
   ],
   "source": [
    "#تعریف متغیر اختیاری برای دما و شرایط هوا\n",
    "weather = \"snowy\" \n",
    "temperature = -4  \n",
    "\n",
    "#پیاده سازی هر یک از شروط سوال به ترتیب\n",
    "if weather == \"sunny\":\n",
    "    print(\"Go for a walk\")\n",
    "elif weather == \"rainy\":\n",
    "    print(\"Read a book inside\")\n",
    "elif weather == \"snowy\":  # Assuming snow\n",
    "    if temperature < -5:\n",
    "        print(\"Stay inside\")\n",
    "    else:\n",
    "        print(\"Build a snowman\")\n"
   ]
  },
  {
   "cell_type": "markdown",
   "metadata": {},
   "source": [
    "<h2 style='direction:rtl;text-align:right;font-family:samim;'><b>🔸 تمرین ۱۰</b></h2>"
   ]
  },
  {
   "cell_type": "markdown",
   "metadata": {},
   "source": [
    "<p style='direction:rtl;text-align:right;font-size:18px;font-family:samim;line-height:1.5;'>\n",
    " یک فروشگاه بر اساس مقدار خرید تخفیف می‌دهد. اگر خرید کمتر از 100 دلار باشد، تخفیفی وجود ندارد. بین 100 تا 500 دلار، تخفیف 10 درصد است. بالای 500 دلار تخفیف 20 درصد است. مبلغ را از کاربر بخواهید و پس از تخفیف قیمت نهایی را محاسبه کنید.\n",
    "</p>"
   ]
  },
  {
   "cell_type": "markdown",
   "metadata": {
    "jp-MarkdownHeadingCollapsed": true
   },
   "source": [
    "<h4 style='direction:rtl;text-align:right;font-size:18px;font-family:samim;'>راهنمایی</h4>"
   ]
  },
  {
   "cell_type": "markdown",
   "metadata": {},
   "source": [
    "<p style='direction:rtl;text-align:right;font-size:16px;font-family:samim;'>\n",
    "ابتدا یک متغیر برای مقدار خرید تعریف کنید. سپس بررسی کنید که چه مقدار تخفیف به خریدار تعلق میگیرد و در نهایت از مبلغ خرید، میزان تخفیف را کم کنید تا قیمت نهایی پرداختی مشخص شود.\n",
    "</p>"
   ]
  },
  {
   "cell_type": "markdown",
   "metadata": {
    "jp-MarkdownHeadingCollapsed": true,
    "tags": []
   },
   "source": [
    "<h4 style='direction:rtl;text-align:right;font-size:18px;font-family:samim;'>جواب</h4>"
   ]
  },
  {
   "cell_type": "code",
   "execution_count": 31,
   "metadata": {},
   "outputs": [
    {
     "name": "stdout",
     "output_type": "stream",
     "text": [
      "0.2\n",
      "Final price: $ 800.0\n"
     ]
    }
   ],
   "source": [
    "#تعریف متغیر میزان خرید\n",
    "purchase_amount = 1000\n",
    "\n",
    "#بررسی میزان تخفیف    \n",
    "if purchase_amount < 100:\n",
    "    discount = 0.00\n",
    "    \n",
    "elif  100<= purchase_amount<=500:\n",
    "    discount = 0.10 \n",
    "    \n",
    "else:\n",
    "    discount = 0.20\n",
    "      \n",
    "print(discount)\n",
    "final_price = purchase_amount * (1 - discount)\n",
    "print(\"Final price: $\", final_price)\n",
    "\n",
    "\n",
    "#روش دوم\n",
    "# if purchase_amount > 500:\n",
    "#     discount = 0.20\n",
    "# elif purchase_amount >= 100:\n",
    "#     discount = 0.10\n",
    "# else:\n",
    "#     discount = 0.00"
   ]
  },
  {
   "cell_type": "markdown",
   "metadata": {},
   "source": [
    "<h2 style='direction:rtl;text-align:right;font-family:samim;'><b>🔸 تمرین ۱۱</b></h2>"
   ]
  },
  {
   "cell_type": "markdown",
   "metadata": {},
   "source": [
    "<p style='direction:rtl;text-align:right;font-size:18px;font-family:samim;line-height:1.5;'>\n",
    "عملکرد چراغ راهنمایی رانندگی را بر اساس دستورات شرطی پیاده‌سازی کنید.\n",
    "\" برای مثال اگر چراغ قرمز است، توقف را چاپ کند.\"\n",
    "\n",
    "</p>"
   ]
  },
  {
   "cell_type": "markdown",
   "metadata": {
    "jp-MarkdownHeadingCollapsed": true,
    "tags": []
   },
   "source": [
    "<h4 style='direction:rtl;text-align:right;font-size:18px;font-family:samim;'>راهنمایی</h4>"
   ]
  },
  {
   "cell_type": "markdown",
   "metadata": {},
   "source": [
    "<p style='direction:rtl;text-align:right;font-size:16px;font-family:samim;'>\n",
    "ابتدا یک متغیر برای رنگ تعریف کنید. سپس شروط چراغ راهنمایی رانندگی را با if و elif و else پیاده‌سازی کنید.\n",
    "</p>"
   ]
  },
  {
   "cell_type": "markdown",
   "metadata": {
    "jp-MarkdownHeadingCollapsed": true,
    "tags": []
   },
   "source": [
    "<h4 style='direction:rtl;text-align:right;font-size:18px;font-family:samim;'>جواب</h4>"
   ]
  },
  {
   "cell_type": "code",
   "execution_count": 15,
   "metadata": {},
   "outputs": [
    {
     "name": "stdout",
     "output_type": "stream",
     "text": [
      "Stop\n"
     ]
    }
   ],
   "source": [
    "#تعریف متغیر رنگ\n",
    "light_color = \"red\"  \n",
    "\n",
    "#بررسی شرط ها\n",
    "if light_color == \"red\":\n",
    "    print(\"Stop\")\n",
    "    \n",
    "elif light_color == \"yellow\":\n",
    "    print(\"Prepare to stop\")\n",
    "    \n",
    "else:  # Assuming green\n",
    "    print(\"Go\")\n"
   ]
  },
  {
   "cell_type": "markdown",
   "metadata": {},
   "source": [
    "<h2 style='direction:rtl;text-align:right;font-family:samim;'><b>🔸 تمرین ۱۲</b></h2>"
   ]
  },
  {
   "cell_type": "markdown",
   "metadata": {},
   "source": [
    "<p style='direction:rtl;text-align:right;font-size:18px;font-family:samim;line-height:1.5;'>\n",
    "با استفاده از یک خط دستور شرطی، قیمت محصول را پس از کسر مالیات محاسبه کنید. اگر قیمت پایه بالای 100 دلار باشد، نرخ مالیات 10٪ است، در غیر این صورت 5٪ است. قیمت پایه را به عنوان ورودی از کاربر بگیرید. \n",
    "</p>"
   ]
  },
  {
   "cell_type": "markdown",
   "metadata": {
    "jp-MarkdownHeadingCollapsed": true
   },
   "source": [
    "<h4 style='direction:rtl;text-align:right;font-size:18px;font-family:samim;'>راهنمایی</h4>"
   ]
  },
  {
   "cell_type": "markdown",
   "metadata": {},
   "source": [
    "<p style='direction:rtl;text-align:right;font-size:16px;font-family:samim;'>\n",
    "متغیر قیمت را تعریف کنید. سپس شرط را ابتدا به صورت ساده بنویسید سپس آنرا به صورت خطی در بیاورید. قیمت نهایی را با کسر کردن قیمت تخفیف از قیمت اصلی محاسبه کنید.\n",
    "</p>"
   ]
  },
  {
   "cell_type": "markdown",
   "metadata": {
    "jp-MarkdownHeadingCollapsed": true,
    "tags": []
   },
   "source": [
    "<h4 style='direction:rtl;text-align:right;font-size:18px;font-family:samim;'>جواب</h4>"
   ]
  },
  {
   "cell_type": "code",
   "execution_count": 17,
   "metadata": {},
   "outputs": [
    {
     "name": "stdout",
     "output_type": "stream",
     "text": [
      "Final price without tax: $ 135.0\n"
     ]
    }
   ],
   "source": [
    "#تعریف متغیر قیمت محصول\n",
    "base_price = 150 \n",
    "\n",
    "tax_rate = 0.10 if base_price > 100 else 0.05\n",
    "\n",
    "final_price = base_price * (1 - tax_rate)\n",
    "\n",
    "print(\"Final price without tax: $\", final_price)\n"
   ]
  },
  {
   "cell_type": "markdown",
   "metadata": {},
   "source": [
    "<h2 style='direction:rtl;text-align:right;font-family:samim;'><b>🔸 تمرین ۱۳</b></h2>"
   ]
  },
  {
   "cell_type": "markdown",
   "metadata": {},
   "source": [
    "<p style='direction:rtl;text-align:right;font-size:18px;font-family:samim;line-height:1.5;'>\n",
    " یک برنامه‌ای بنویسید که در آن کاربر سن خود را وارد می‌کند و اینکه آیا مجوز VIP دارد (بله یا خیر). برای تعیین اینکه آیا می‌توانند وارد یک رویداد خاص شوند ، آنها باید بالای 18 سال داشته باشند یا دارای مجوز VIP باشند. اگر هیچ کدام از شرایط را ندارند، دلیل مناسب برای رد را چاپ کنید.\n",
    "</p>"
   ]
  },
  {
   "cell_type": "markdown",
   "metadata": {
    "jp-MarkdownHeadingCollapsed": true
   },
   "source": [
    "<h4 style='direction:rtl;text-align:right;font-size:18px;font-family:samim;'>راهنمایی</h4>"
   ]
  },
  {
   "cell_type": "markdown",
   "metadata": {},
   "source": [
    "<p style='direction:rtl;text-align:right;font-size:16px;font-family:samim;'>\n",
    "ابتدا یک متغیر سن  و یک متغیر بولین برای داشتن یا نداشتن مجوز تعریف کنید.\n",
    "   سپس بررسی کنید که کدام یک از شروط گفته‌شده را دارا است.\n",
    "</p>"
   ]
  },
  {
   "cell_type": "markdown",
   "metadata": {
    "jp-MarkdownHeadingCollapsed": true,
    "tags": []
   },
   "source": [
    "<h4 style='direction:rtl;text-align:right;font-size:18px;font-family:samim;'>جواب</h4>"
   ]
  },
  {
   "cell_type": "code",
   "execution_count": 19,
   "metadata": {},
   "outputs": [
    {
     "name": "stdout",
     "output_type": "stream",
     "text": [
      "Entry allowed\n"
     ]
    }
   ],
   "source": [
    "age = 20\n",
    "has_vip_pass = False\n",
    "\n",
    "if age > 18 or has_vip_pass:\n",
    "    print(\"Entry allowed\")\n",
    "else:\n",
    "    print(\"Entry denied\")\n"
   ]
  },
  {
   "cell_type": "markdown",
   "metadata": {},
   "source": [
    "<h2 style='direction:rtl;text-align:right;font-family:samim;'><b>🔸 تمرین ۱۴</b></h2>"
   ]
  },
  {
   "cell_type": "markdown",
   "metadata": {},
   "source": [
    "<p style='direction:rtl;text-align:right;font-size:18px;font-family:samim;line-height:1.5;'>\n",
    "از کاربر دما و واحد را بخواهید (\"C\" برای سانتیگراد، \"F\" برای فارنهایت). با استفاده از دستور if یک خطی دما را به واحد دیگر تبدیل کنید. مقدار تبدیل شده را چاپ کنید.\n",
    "<br>\n",
    "$$ F = C * 9/5 +32 $$    \n",
    "<br>    \n",
    "$$ C = F -32 * 5/9 $$   \n",
    "</p>"
   ]
  },
  {
   "cell_type": "markdown",
   "metadata": {
    "jp-MarkdownHeadingCollapsed": true
   },
   "source": [
    "<h4 style='direction:rtl;text-align:right;font-size:18px;font-family:samim;'>راهنمایی</h4>"
   ]
  },
  {
   "cell_type": "markdown",
   "metadata": {},
   "source": [
    "<p style='direction:rtl;text-align:right;font-size:16px;font-family:samim;'>\n",
    "ابتدا متغیر دما و واحد تعریف شده را تعیین کنید. سپس بر اساس اینکه واحد دمای ورودی فارنهایت یا سانتیگراد است از فرمول‌های تبدیل واحد مخصوص هر واحد استفاده کنید.\n",
    "</p>"
   ]
  },
  {
   "cell_type": "markdown",
   "metadata": {
    "jp-MarkdownHeadingCollapsed": true,
    "tags": []
   },
   "source": [
    "<h4 style='direction:rtl;text-align:right;font-size:18px;font-family:samim;'>جواب</h4>"
   ]
  },
  {
   "cell_type": "code",
   "execution_count": 23,
   "metadata": {},
   "outputs": [
    {
     "name": "stdout",
     "output_type": "stream",
     "text": [
      "212.0 F\n"
     ]
    }
   ],
   "source": [
    "#تعریف متغیر دما و واحد\n",
    "temperature = 100  \n",
    "unit = \"C\"  \n",
    "\n",
    "#پیاده سازی فرمول تبدیل دما\n",
    "converted = (temperature * 9/5 + 32) if unit == \"C\" else (temperature - 32) * 5/9\n",
    "\n",
    "namad = 'F' if unit == 'C' else 'C'\n",
    "\n",
    "print(converted , namad)\n"
   ]
  },
  {
   "cell_type": "markdown",
   "metadata": {},
   "source": [
    "<h2 style='direction:rtl;text-align:right;font-family:samim;'><b>🔸 تمرین ۱۵</b></h2>"
   ]
  },
  {
   "cell_type": "markdown",
   "metadata": {},
   "source": [
    "<p style='direction:rtl;text-align:right;font-size:18px;font-family:samim;line-height:1.5;'>\n",
    "با استفاده از یک دستور یک خطی، یک امتیاز را بپذیرید و اگر امتیاز بیش از 50 باشد، \"Pass\" را چاپ کنید و در غیر این صورت \"Fail\" را چاپ کنید. \n",
    "</p>"
   ]
  },
  {
   "cell_type": "markdown",
   "metadata": {
    "jp-MarkdownHeadingCollapsed": true
   },
   "source": [
    "<h4 style='direction:rtl;text-align:right;font-size:18px;font-family:samim;'>راهنمایی</h4>"
   ]
  },
  {
   "cell_type": "markdown",
   "metadata": {},
   "source": [
    "<p style='direction:rtl;text-align:right;font-size:16px;font-family:samim;'>\n",
    "\n",
    "</p>"
   ]
  },
  {
   "cell_type": "markdown",
   "metadata": {
    "jp-MarkdownHeadingCollapsed": true,
    "tags": []
   },
   "source": [
    "<h4 style='direction:rtl;text-align:right;font-size:18px;font-family:samim;'>جواب</h4>"
   ]
  },
  {
   "cell_type": "code",
   "execution_count": 26,
   "metadata": {},
   "outputs": [
    {
     "name": "stdout",
     "output_type": "stream",
     "text": [
      "Pass\n"
     ]
    }
   ],
   "source": [
    "#تعریف متغیر امتیاز\n",
    "score = 55  \n",
    "\n",
    "print(\"Pass\" if score > 50 else \"Fail\")\n"
   ]
  },
  {
   "cell_type": "markdown",
   "metadata": {},
   "source": [
    "<h2 style='direction:rtl;text-align:right;font-family:samim;'><b>🔸 تمرین ۱۶</b></h2>"
   ]
  },
  {
   "cell_type": "markdown",
   "metadata": {},
   "source": [
    "<p style='direction:rtl;text-align:right;font-size:18px;font-family:samim;line-height:1.5;'>\n",
    " مدیر برنامه اسنپ فود از شما خواسته برنامه‌ای بنویسید که به یک ارسال غذا بر اساس کیفیت و به موقع بودن آن امتیاز دهد. ابتدا، بررسی کنید که آیا ارسال با کیفیت \"بالا\"، \"متوسط\" یا \"کم\" صورت گرفته است یا خیر. اگر \"بالا\" است، بیشتر بررسی کنید که آیا \"در_زمان\" ارسال شده است یا \"با تاخیر\" همراه بوده. اگر به موقع بوده ۱۰۰ امتیاز دهید. اگر با تاخیر صورت گرفته، 80 امتیاز بدهید. برای کیفیت «متوسط» و «در_زمان»، 70 امتیاز دهید. اگر \"تاخیر\" داشته ، 50 امتیاز. برای کیفیت پایین، بدون در نظر گرفتن به موقع بودن، همیشه 20 امتیاز دهید.\n",
    "</p>"
   ]
  },
  {
   "cell_type": "markdown",
   "metadata": {
    "jp-MarkdownHeadingCollapsed": true
   },
   "source": [
    "<h4 style='direction:rtl;text-align:right;font-size:18px;font-family:samim;'>راهنمایی</h4>"
   ]
  },
  {
   "cell_type": "markdown",
   "metadata": {},
   "source": [
    "<p style='direction:rtl;text-align:right;font-size:16px;font-family:samim;'>\n",
    "ابتدا یک متغیر برای کیفیت و زمان ارسالی تعریف کنید. سپس شرط کیفیت را بررسی کنید و بر اساس آن شرط زمان را بررسی کنید. می‌توانید از شرط‌های تک خطی نیز استفاده کنید.\n",
    "</p>"
   ]
  },
  {
   "cell_type": "markdown",
   "metadata": {
    "jp-MarkdownHeadingCollapsed": true,
    "tags": []
   },
   "source": [
    "<h4 style='direction:rtl;text-align:right;font-size:18px;font-family:samim;'>جواب</h4>"
   ]
  },
  {
   "cell_type": "code",
   "execution_count": 27,
   "metadata": {},
   "outputs": [
    {
     "name": "stdout",
     "output_type": "stream",
     "text": [
      "Delivery score: 100\n"
     ]
    }
   ],
   "source": [
    "# تعریف متغیر کیفیت و زمان ارسال\n",
    "quality = \"high\" \n",
    "timeliness = \"on_time\"  \n",
    "\n",
    "if quality == \"high\":\n",
    "    score = 100 if timeliness == \"on_time\" else 80\n",
    "elif quality == \"medium\":\n",
    "    score = 70 if timeliness == \"on_time\" else 50\n",
    "else:\n",
    "    score = 20  # Low quality gets 20, regardless of timeliness\n",
    "print(\"Delivery score:\", score)"
   ]
  },
  {
   "cell_type": "markdown",
   "metadata": {},
   "source": [
    "<h2 style='direction:rtl;text-align:right;font-family:samim;'><b>🔸 تمرین ۱۷</b></h2>"
   ]
  },
  {
   "cell_type": "markdown",
   "metadata": {},
   "source": [
    "<p style='direction:rtl;text-align:right;font-size:18px;font-family:samim;line-height:1.5;'>\n",
    "برنامه‌ای بنویسید تا بررسی کنید که آیا لیستی از اعداد صحیح متقارن هستند  یا خیر. بر اساس مقایسه، «متقارن» یا «غیر متقارن» را چاپ کنید\n",
    "برای مثال لیست زیر متقارن است:\n",
    " <p style='direction:rtl;text-align:center;font-size:18px;font-family:samim;'>    \n",
    "$$nums = [1,2,3,2,1]$$   \n",
    "</p>"
   ]
  },
  {
   "cell_type": "markdown",
   "metadata": {
    "jp-MarkdownHeadingCollapsed": true
   },
   "source": [
    "<h4 style='direction:rtl;text-align:right;font-size:18px;font-family:samim;'>راهنمایی</h4>"
   ]
  },
  {
   "cell_type": "markdown",
   "metadata": {},
   "source": [
    "<p style='direction:rtl;text-align:right;font-size:16px;font-family:samim;'>\n",
    "یک لیست از اعداد را تعریف کنید. سپس از دستور تعریف لیست معکوس که در تمرین‌های قبلی گفته بودیم استفاده کنید.\n",
    "</p>"
   ]
  },
  {
   "cell_type": "markdown",
   "metadata": {
    "jp-MarkdownHeadingCollapsed": true,
    "tags": []
   },
   "source": [
    "<h4 style='direction:rtl;text-align:right;font-size:18px;font-family:samim;'>جواب</h4>"
   ]
  },
  {
   "cell_type": "code",
   "execution_count": 28,
   "metadata": {},
   "outputs": [
    {
     "name": "stdout",
     "output_type": "stream",
     "text": [
      "Symmetrical\n"
     ]
    }
   ],
   "source": [
    "#تعریف یک لیست اختیاری\n",
    "nums = [1, 2, 3, 2, 1]  \n",
    "\n",
    "if nums == nums[::-1]:\n",
    "    print(\"Symmetrical\")\n",
    "else:\n",
    "    print(\"Not symmetrical\")\n"
   ]
  },
  {
   "cell_type": "markdown",
   "metadata": {},
   "source": [
    "<h2 style='direction:rtl;text-align:right;font-family:samim;'><b>🔸 تمرین ۱۸</b></h2>"
   ]
  },
  {
   "cell_type": "markdown",
   "metadata": {},
   "source": [
    "<p style='direction:rtl;text-align:right;font-size:18px;font-family:samim;line-height:1.5;'>\n",
    "با توجه به یک لیست، برنامه ای بنویسید که نوع عنصر اول را بررسی کند. اگر یک عدد صحیح است، \"First element is a integer\" را چاپ کنید. اگر یک رشته است، \"First element is a string\" را چاپ کنید. در غیر این صورت، \"عنصر اول از نوع دیگری است\" چاپ کنید. \n",
    "</p>"
   ]
  },
  {
   "cell_type": "markdown",
   "metadata": {
    "jp-MarkdownHeadingCollapsed": true
   },
   "source": [
    "<h4 style='direction:rtl;text-align:right;font-size:18px;font-family:samim;'>راهنمایی</h4>"
   ]
  },
  {
   "cell_type": "markdown",
   "metadata": {},
   "source": [
    "<p style='direction:rtl;text-align:right;font-size:16px;font-family:samim;'>\n",
    "ابتدا یک لیست از انواع مختلف متغیر را تعریف کنید. سپس المان اول از این عنصر را مورد بررسی قرار دهید. از دستور type که قبلا آموزش دیدید می‌توانید استفاده کنید.\n",
    "</p>"
   ]
  },
  {
   "cell_type": "markdown",
   "metadata": {
    "jp-MarkdownHeadingCollapsed": true,
    "tags": []
   },
   "source": [
    "<h4 style='direction:rtl;text-align:right;font-size:18px;font-family:samim;'>جواب</h4>"
   ]
  },
  {
   "cell_type": "code",
   "execution_count": 29,
   "metadata": {},
   "outputs": [
    {
     "name": "stdout",
     "output_type": "stream",
     "text": [
      "First element is of a different type\n"
     ]
    }
   ],
   "source": [
    "#تعریف یک لیست اختیاری\n",
    "lst = [False ,'hello', 3.14]  \n",
    "\n",
    "if type(lst[0]) == int:\n",
    "    print(\"First element is an integer\")\n",
    "elif type(lst[0]) == str:\n",
    "    print(\"First element is a string\")\n",
    "else:\n",
    "    print(\"First element is of a different type\")\n"
   ]
  },
  {
   "cell_type": "markdown",
   "metadata": {},
   "source": [
    "<h2 style='direction:rtl;text-align:right;font-family:samim;'><b>🔸 تمرین ۱۹</b></h2>"
   ]
  },
  {
   "cell_type": "markdown",
   "metadata": {},
   "source": [
    "<p style='direction:rtl;text-align:right;font-size:18px;font-family:samim;line-height:1.5;'>\n",
    "با فرض اینکه یک لیست حاوی اعداد صحیح است، بررسی کنید که عنصر سوم لیست زوج است یا فرد. اگر زوج باشد، « زوج» و اگر فرد باشد «فرد» را چاپ کنید. \n",
    "</p>"
   ]
  },
  {
   "cell_type": "markdown",
   "metadata": {
    "jp-MarkdownHeadingCollapsed": true
   },
   "source": [
    "<h4 style='direction:rtl;text-align:right;font-size:18px;font-family:samim;'>راهنمایی</h4>"
   ]
  },
  {
   "cell_type": "markdown",
   "metadata": {},
   "source": [
    "<p style='direction:rtl;text-align:right;font-size:16px;font-family:samim;'>\n",
    "ابتدا یک لیست که تعداد المان‌های آن بزرگرتر مساوی ۳ باشد تعریف کنید. سپس بررسی کنید که المان سوم زوج است یا فرد\n",
    "</p>"
   ]
  },
  {
   "cell_type": "markdown",
   "metadata": {
    "jp-MarkdownHeadingCollapsed": true,
    "tags": []
   },
   "source": [
    "<h4 style='direction:rtl;text-align:right;font-size:18px;font-family:samim;'>جواب</h4>"
   ]
  },
  {
   "cell_type": "code",
   "execution_count": 30,
   "metadata": {},
   "outputs": [
    {
     "name": "stdout",
     "output_type": "stream",
     "text": [
      "Even\n"
     ]
    }
   ],
   "source": [
    "#تعریف یک لیست اختیاری از اعداد مختلف\n",
    "lst = [1, 2, 4, 5, 6] \n",
    "\n",
    "if lst[2] % 2 == 0:\n",
    "    print(\"Even\")\n",
    "else:\n",
    "    print(\"Odd\")"
   ]
  },
  {
   "cell_type": "markdown",
   "metadata": {},
   "source": [
    "<h2 style='direction:rtl;text-align:right;font-family:samim;'><b>🔸 تمرین ۲۰</b></h2>"
   ]
  },
  {
   "cell_type": "markdown",
   "metadata": {},
   "source": [
    "<p style='direction:rtl;text-align:right;font-size:18px;font-family:samim;line-height:1.5;'>\n",
    " برنامه ای بنویسید که خالی بودن لیست را بررسی کند. اگر لیست خالی است، «لیست خالی است» را چاپ کنید. در غیر این صورت، \"لیست خالی نیست\" را چاپ کنید.\n",
    "</p>"
   ]
  },
  {
   "cell_type": "markdown",
   "metadata": {
    "jp-MarkdownHeadingCollapsed": true
   },
   "source": [
    "<h4 style='direction:rtl;text-align:right;font-size:18px;font-family:samim;'>راهنمایی</h4>"
   ]
  },
  {
   "cell_type": "markdown",
   "metadata": {},
   "source": [
    "<p style='direction:rtl;text-align:right;font-size:16px;font-family:samim;'>\n",
    "ابتدا یک لیست تعریف کنید. از عملگر منطقی not  برای بررسی اینکه لیست خالی است یا نه می‌توانید استفاده کنید. \n",
    "</p>"
   ]
  },
  {
   "cell_type": "markdown",
   "metadata": {
    "jp-MarkdownHeadingCollapsed": true,
    "tags": []
   },
   "source": [
    "<h4 style='direction:rtl;text-align:right;font-size:18px;font-family:samim;'>جواب</h4>"
   ]
  },
  {
   "cell_type": "code",
   "execution_count": 16,
   "metadata": {},
   "outputs": [
    {
     "name": "stdout",
     "output_type": "stream",
     "text": [
      "The list is empty\n"
     ]
    }
   ],
   "source": [
    "#تعریف یک لیست خالی\n",
    "lst = [] \n",
    "\n",
    "if not lst:\n",
    "    print(\"The list is empty\") \n",
    "else:\n",
    "    print(\"The list is not empty\")\n",
    "\n",
    "\n"
   ]
  },
  {
   "cell_type": "markdown",
   "metadata": {},
   "source": [
    "<h2 style='direction:rtl;text-align:right;font-family:samim;'><b>🔸 تمرین ۲۱</b></h2>"
   ]
  },
  {
   "cell_type": "markdown",
   "metadata": {},
   "source": [
    "<p style='direction:rtl;text-align:right;font-size:18px;font-family:samim;line-height:1.5;'>\n",
    "فرض کنید دو لیست از هر کدام دقیقاً سه عنصر دارید. اگر آخرین عنصر لیست اول با عنصر اول لیست دوم برابر است، آنها را به یک لیست واحد بپیوندید. در غیر این صورت، \"Cannot concatenate\" را چاپ کنید. \n",
    "</p>"
   ]
  },
  {
   "cell_type": "markdown",
   "metadata": {
    "jp-MarkdownHeadingCollapsed": true
   },
   "source": [
    "<h4 style='direction:rtl;text-align:right;font-size:18px;font-family:samim;'>راهنمایی</h4>"
   ]
  },
  {
   "cell_type": "markdown",
   "metadata": {},
   "source": [
    "<p style='direction:rtl;text-align:right;font-size:16px;font-family:samim;'>\n",
    "ابتدا دو لیست تعریف کنید. سپس با اندیس‌دهی مناسب المان‌های گفته شده را مورد بررسی قرار دهید.\n",
    "</p>"
   ]
  },
  {
   "cell_type": "markdown",
   "metadata": {
    "jp-MarkdownHeadingCollapsed": true,
    "tags": []
   },
   "source": [
    "<h4 style='direction:rtl;text-align:right;font-size:18px;font-family:samim;'>جواب</h4>"
   ]
  },
  {
   "cell_type": "code",
   "execution_count": 32,
   "metadata": {},
   "outputs": [
    {
     "name": "stdout",
     "output_type": "stream",
     "text": [
      "[1, 2, 3, 3, 4, 5]\n"
     ]
    }
   ],
   "source": [
    "# تعریف دو لیست با تعداد المان گفته شده در سوال\n",
    "list1 = [1, 2, 3]\n",
    "list2 = [3, 4, 5]\n",
    "\n",
    "if list1[-1] == list2[0]:\n",
    "    combined_list = list1 + list2\n",
    "    print(combined_list)\n",
    "else:\n",
    "    print(\"Cannot concatenate\")\n"
   ]
  },
  {
   "cell_type": "markdown",
   "metadata": {},
   "source": [
    "<h2 style='direction:rtl;text-align:right;font-family:samim;'><b>🔸 تمرین ۲۲</b></h2>"
   ]
  },
  {
   "cell_type": "markdown",
   "metadata": {},
   "source": [
    "<p style='direction:rtl;text-align:right;font-size:18px;font-family:samim;line-height:1.5;'>\n",
    "با توجه به لیستی با شش عنصر، بررسی کنید که آیا سه عنصر اول معکوس سه عنصر آخر هستند (یعنی عنصر اول برابر با آخرین عنصر، عنصر دوم با عنصر دوم از آخر و…). \"Mirror inverse\" یا \"Not mirror inverse\" را چاپ کنید.\n",
    "</p>"
   ]
  },
  {
   "cell_type": "markdown",
   "metadata": {
    "jp-MarkdownHeadingCollapsed": true
   },
   "source": [
    "<h4 style='direction:rtl;text-align:right;font-size:18px;font-family:samim;'>راهنمایی</h4>"
   ]
  },
  {
   "cell_type": "markdown",
   "metadata": {},
   "source": [
    "<p style='direction:rtl;text-align:right;font-size:16px;font-family:samim;'>\n",
    "ابتدا یک لیست با ۶ المان تعریف کنید. سپس از اسلایسینگ  مناسب برای بررسی شرط استفاده کنید.\n",
    "</p>"
   ]
  },
  {
   "cell_type": "markdown",
   "metadata": {
    "jp-MarkdownHeadingCollapsed": true,
    "tags": []
   },
   "source": [
    "<h4 style='direction:rtl;text-align:right;font-size:18px;font-family:samim;'>جواب</h4>"
   ]
  },
  {
   "cell_type": "code",
   "execution_count": 33,
   "metadata": {},
   "outputs": [
    {
     "name": "stdout",
     "output_type": "stream",
     "text": [
      "Mirror inverse\n"
     ]
    }
   ],
   "source": [
    "#تعریف یک لیست اختیاری از اعداد\n",
    "lst = [1, 2, 3, 3, 2, 1]  \n",
    "\n",
    "if lst[:3] == lst[-1:-4:-1]:\n",
    "    print(\"Mirror inverse\")\n",
    "else:\n",
    "    print(\"Not mirror inverse\")\n"
   ]
  },
  {
   "cell_type": "markdown",
   "metadata": {},
   "source": [
    "<h2 style='direction:rtl;text-align:right;font-family:samim;'><b>🔸 تمرین ۲۳</b></h2>"
   ]
  },
  {
   "cell_type": "markdown",
   "metadata": {},
   "source": [
    "<p style='direction:rtl;text-align:right;font-size:18px;font-family:samim;line-height:1.5;'>\n",
    " برای یک ماتریس 2×2، اگر مجموع ردیف اول از مجموع ردیف دوم بیشتر باشد، ردیف اول را با ردیف دوم عوض کنید. ماتریس جدید را چاپ کنید.\n",
    "</p>"
   ]
  },
  {
   "cell_type": "markdown",
   "metadata": {
    "jp-MarkdownHeadingCollapsed": true
   },
   "source": [
    "<h4 style='direction:rtl;text-align:right;font-size:18px;font-family:samim;'>راهنمایی</h4>"
   ]
  },
  {
   "cell_type": "markdown",
   "metadata": {},
   "source": [
    "<p style='direction:rtl;text-align:right;font-size:16px;font-family:samim;'>\n",
    "یک ماتریس ۲ در ۲ تعریف کنید. سپس با اندیس دهی، عناصر ردیف اول  و دوم را جمع کنید و با هم مقایسه کنید.\n",
    "    سپس از جابه جایی المان‌ها که در تمرین‌های قبلی یاد گرفتید استفاده کنید.\n",
    "</p>"
   ]
  },
  {
   "cell_type": "markdown",
   "metadata": {
    "jp-MarkdownHeadingCollapsed": true,
    "tags": []
   },
   "source": [
    "<h4 style='direction:rtl;text-align:right;font-size:18px;font-family:samim;'>جواب</h4>"
   ]
  },
  {
   "cell_type": "code",
   "execution_count": 34,
   "metadata": {},
   "outputs": [
    {
     "name": "stdout",
     "output_type": "stream",
     "text": [
      "New matrix: [[2, 3], [4, 2]]\n"
     ]
    }
   ],
   "source": [
    "#تعریف یک ماتریس با سایز گفته شده\n",
    "matrix = [[4, 2], [2, 3]]\n",
    "\n",
    "if matrix[0][0] + matrix[0][1] > matrix[1][0] + matrix[1][1]:\n",
    "    matrix[0], matrix[1] = matrix[1], matrix[0]\n",
    "print(\"New matrix:\", matrix)\n"
   ]
  },
  {
   "cell_type": "markdown",
   "metadata": {},
   "source": [
    "<h2 style='direction:rtl;text-align:right;font-family:samim;'><b>🔸 تمرین ۲۴</b></h2>"
   ]
  },
  {
   "cell_type": "markdown",
   "metadata": {},
   "source": [
    "<p style='direction:rtl;text-align:right;font-size:18px;font-family:samim;line-height:1.5;'>\n",
    "\tبا توجه به لیستی از دقیقاً پنج عنصر، بررسی کنید که آیا عنصر میانی بزرگتر از همسایگان کناری خود است (نه اولین یا آخرین عنصر). اگر اینطور است، \"بله\" و در غیر این صورت \"قله ای وجود ندارد\" را چاپ کنید. \n",
    "</p>"
   ]
  },
  {
   "cell_type": "markdown",
   "metadata": {
    "jp-MarkdownHeadingCollapsed": true
   },
   "source": [
    "<h4 style='direction:rtl;text-align:right;font-size:18px;font-family:samim;'>راهنمایی</h4>"
   ]
  },
  {
   "cell_type": "markdown",
   "metadata": {},
   "source": [
    "<p style='direction:rtl;text-align:right;font-size:16px;font-family:samim;'>\n",
    "ابتدا یک لیست دلخواه تعریف کنید. با اندیس‌دهی المان‌ میانی را تعیین کنید و با عناصری کناری آنرا مقایسه کنید. از عملگرهای منطقی نیز می‌توانید استفاده کنید. \n",
    "</p>"
   ]
  },
  {
   "cell_type": "markdown",
   "metadata": {
    "jp-MarkdownHeadingCollapsed": true,
    "tags": []
   },
   "source": [
    "<h4 style='direction:rtl;text-align:right;font-size:18px;font-family:samim;'>جواب</h4>"
   ]
  },
  {
   "cell_type": "code",
   "execution_count": 35,
   "metadata": {},
   "outputs": [
    {
     "name": "stdout",
     "output_type": "stream",
     "text": [
      "No peak\n"
     ]
    }
   ],
   "source": [
    "#تعریف یک لیست دلخواه\n",
    "lst = [1, 3, 3, 3, 1] \n",
    "\n",
    "if lst[2] > lst[1] and lst[2] > lst[3]:\n",
    "    print(\"Yes\")\n",
    "else:\n",
    "    print(\"No peak\")\n",
    "    "
   ]
  },
  {
   "cell_type": "markdown",
   "metadata": {},
   "source": [
    "<h2 style='direction:rtl;text-align:right;font-family:samim;'><b>🔸 تمرین ۲۵</b></h2>"
   ]
  },
  {
   "cell_type": "markdown",
   "metadata": {},
   "source": [
    "<p style='direction:rtl;text-align:right;font-size:18px;font-family:samim;line-height:1.5;'>\n",
    " در لیستی متشکل از دقیقاً پنج عنصر، بررسی کنید که آیا عنصر اول بیش از یک بار ظاهر می شود یا خیر.\n",
    "</p>"
   ]
  },
  {
   "cell_type": "markdown",
   "metadata": {
    "jp-MarkdownHeadingCollapsed": true
   },
   "source": [
    "<h4 style='direction:rtl;text-align:right;font-size:18px;font-family:samim;'>راهنمایی</h4>"
   ]
  },
  {
   "cell_type": "markdown",
   "metadata": {},
   "source": [
    "<p style='direction:rtl;text-align:right;font-size:16px;font-family:samim;'>\n",
    "ابتدا یک لیست دلخواه تعریف کنید سپس با استفاده از دستور count که قبلا یاد گرفتید، شرط مورد نظر را بررسی کنید.\n",
    "</p>"
   ]
  },
  {
   "cell_type": "markdown",
   "metadata": {
    "jp-MarkdownHeadingCollapsed": true,
    "tags": []
   },
   "source": [
    "<h4 style='direction:rtl;text-align:right;font-size:18px;font-family:samim;'>جواب</h4>"
   ]
  },
  {
   "cell_type": "code",
   "execution_count": 36,
   "metadata": {},
   "outputs": [
    {
     "name": "stdout",
     "output_type": "stream",
     "text": [
      "First element appears only once\n"
     ]
    }
   ],
   "source": [
    "#تعریف یک لیست با ۵ المان\n",
    "lst = [1, 2, 3, -1, 4]  \n",
    "\n",
    "if lst.count(lst[0]) > 1:\n",
    "    print(\"First element appears more than once\")\n",
    "else:\n",
    "    print(\"First element appears only once\")\n"
   ]
  },
  {
   "cell_type": "markdown",
   "metadata": {},
   "source": [
    "<h2 style='direction:rtl;text-align:right;font-family:samim;'><b>🔸 تمرین ۲۶*</b></h2>"
   ]
  },
  {
   "cell_type": "markdown",
   "metadata": {},
   "source": [
    "<p style='direction:rtl;text-align:right;font-size:18px;font-family:samim;line-height:1.5;'>\n",
    "برای یک ماتریس 3×3، مجموع عناصر قطر اصلی را با مجموع عناصر پاد مورب (از بالا-راست به پایین-چپ) مقایسه کنید. اگر مجموع قطر اصلی بزرگ‌تر است، \"Trace greater\"، اگر مجموع ضد قطر بزرگ‌تر است\"Anti-trace greater\" یا اگر یکسان هستند \"Equal\"  را چاپ کنید. \n",
    "</p>"
   ]
  },
  {
   "attachments": {
    "image.png": {
     "image/png": "[encoded data removed]"
    }
   },
   "cell_type": "markdown",
   "metadata": {},
   "source": [
    "![image.png](attachment:image.png)"
   ]
  },
  {
   "cell_type": "markdown",
   "metadata": {
    "jp-MarkdownHeadingCollapsed": true
   },
   "source": [
    "<h4 style='direction:rtl;text-align:right;font-size:18px;font-family:samim;'>راهنمایی</h4>"
   ]
  },
  {
   "cell_type": "markdown",
   "metadata": {},
   "source": [
    "<p style='direction:rtl;text-align:right;font-size:16px;font-family:samim;'>\n",
    "ابتدا یک ماتریس ۳ در ۳ تعریف کنید.\n",
    "    سپس المان‌های قطر اصلی  و قطر پاد مورب را از طریق اندیس‌دهی مناسب با هم جمع و مقایسه کنید. \n",
    "</p>"
   ]
  },
  {
   "cell_type": "markdown",
   "metadata": {
    "jp-MarkdownHeadingCollapsed": true,
    "tags": []
   },
   "source": [
    "<h4 style='direction:rtl;text-align:right;font-size:18px;font-family:samim;'>جواب</h4>"
   ]
  },
  {
   "cell_type": "code",
   "execution_count": 37,
   "metadata": {},
   "outputs": [
    {
     "name": "stdout",
     "output_type": "stream",
     "text": [
      "Equal\n"
     ]
    }
   ],
   "source": [
    "#تعریف ماتریس ۳در ۳ \n",
    "matrix = [[1, 2, 3], [4, 5, 6], [7, 8, 9]]  \n",
    "\n",
    "# جمع عناصر قطر اصلی\n",
    "trace = matrix[0][0] + matrix[1][1] + matrix[2][2]\n",
    "\n",
    "# جمع عناصر قطر پاد مورب\n",
    "anti_trace = matrix[0][2] + matrix[1][1] + matrix[2][0]\n",
    "\n",
    "# بررسی شرط\n",
    "if trace > anti_trace:\n",
    "    print(\"Trace greater\")\n",
    "elif trace < anti_trace:\n",
    "    print(\"Anti-trace greater\")\n",
    "else:\n",
    "    print(\"Equal\")\n"
   ]
  },
  {
   "cell_type": "markdown",
   "metadata": {},
   "source": [
    "<h2 style='direction:rtl;text-align:right;font-family:samim;'><b>🔸 تمرین ۲۷*</b></h2>"
   ]
  },
  {
   "cell_type": "markdown",
   "metadata": {},
   "source": [
    "<p style='direction:rtl;text-align:right;font-size:18px;font-family:samim;line-height:1.5;'>\n",
    "دو متغیر با نام‌های day و month داریم که روز و ماه در آنها ذخیره شده است. کدی بنویسید که از این دو متغیر استفاده کند و نام فصل را در خروجی نمایش دهد. از جدول زیر برای مشخص کردن نام فصل استفاده کنید.<br> \n",
    "</p>"
   ]
  },
  {
   "attachments": {
    "image-2.png": {
     "image/png": "[encoded data removed]"
    }
   },
   "cell_type": "markdown",
   "metadata": {},
   "source": [
    "![image-2.png](attachment:image-2.png)"
   ]
  },
  {
   "cell_type": "code",
   "execution_count": null,
   "metadata": {},
   "outputs": [],
   "source": []
  },
  {
   "cell_type": "markdown",
   "metadata": {
    "jp-MarkdownHeadingCollapsed": true
   },
   "source": [
    "<h4 style='direction:rtl;text-align:right;font-size:18px;font-family:samim;'>راهنمایی</h4>"
   ]
  },
  {
   "cell_type": "markdown",
   "metadata": {},
   "source": [
    "<p style='direction:rtl;text-align:right;font-size:16px;font-family:samim;'>\n",
    "ابتدا دو متغیر ماه و روز را تعریف کنید. سپس بر اساس جدول داده شده شروطی را برای ماه و روز بنویسید. اگر عبارت جلوی دستور شرطی شامل چندین عبارت بود می‌توانید از or یا and  بسته به تعریف گفته شده استفاده کنید.\n",
    "</p>"
   ]
  },
  {
   "cell_type": "markdown",
   "metadata": {
    "jp-MarkdownHeadingCollapsed": true,
    "tags": []
   },
   "source": [
    "<h4 style='direction:rtl;text-align:right;font-size:18px;font-family:samim;'>جواب</h4>"
   ]
  },
  {
   "cell_type": "code",
   "execution_count": 6,
   "metadata": {},
   "outputs": [
    {
     "name": "stdout",
     "output_type": "stream",
     "text": [
      "spring\n"
     ]
    }
   ],
   "source": [
    "#تعریف متغیر دلخواه برای روز و ماه\n",
    "month = 'march'\n",
    "day = 21\n",
    "\n",
    "if (month == 'march' and day <= 20) or month == 'January' or month == 'February'or (month == 'December' and day > 21):\n",
    "    print('winter')\n",
    "\n",
    "elif (month == 'march' and day > 20) or month == 'April' or month == 'May' or (month == 'june' and day < 21):\n",
    "    print('spring')\n",
    "    \n",
    "elif (month == 'june' and day > 20) or month == 'July' or month == 'August' or (month == 'September'and day < 22):\n",
    "    print('summer')\n",
    "\n",
    "elif (month == 'December'and day <= 20) or month == 'November' or month == 'October' or (month == 'September' and day >= 22):\n",
    "    print('autumn')"
   ]
  },
  {
   "cell_type": "markdown",
   "metadata": {},
   "source": [
    "<h2 style='direction:rtl;text-align:right;font-family:samim;'><b>🔸 تمرین ۲۸*</b></h2>"
   ]
  },
  {
   "cell_type": "markdown",
   "metadata": {},
   "source": [
    "<p style='direction:rtl;text-align:right;font-size:18px;font-family:samim;line-height:1.5;'>\n",
    "موقعیت مکانی در شطرنج با استفاده از یک حرف و یک عدد مشخص می‌شود. عدد، نشان دهنده سطر و حرف، نشان‌دهنده ستون است\n",
    "    برنامه‌ای بنویسید که موقعیت مکانی را از کاربر دریافت کرده و مشخص کند که رنگ مربع وارد شده سفید است یا سیاه.\n",
    "    به عنوان مثال، خروجی برای a1، باید black و برای d5 باید white باشد.\n",
    "\n",
    "</p>"
   ]
  },
  {
   "attachments": {
    "Picture8.png": {
     "image/png": "[encoded data removed]"
    }
   },
   "cell_type": "markdown",
   "metadata": {},
   "source": [
    "![Picture8.png](attachment:Picture8.png)"
   ]
  },
  {
   "cell_type": "code",
   "execution_count": null,
   "metadata": {},
   "outputs": [],
   "source": []
  },
  {
   "cell_type": "markdown",
   "metadata": {
    "jp-MarkdownHeadingCollapsed": true
   },
   "source": [
    "<h4 style='direction:rtl;text-align:right;font-size:18px;font-family:samim;'>راهنمایی</h4>"
   ]
  },
  {
   "cell_type": "markdown",
   "metadata": {},
   "source": [
    "<p style='direction:rtl;text-align:right;font-size:16px;font-family:samim;line-height:1.5;'>\n",
    "ابتدا متغیر ردیف و ستون را تعریف کنید. اسم تمامی ستون‌ها را در یک لیست قرار دهید. حالا بررسی کنید که شماره ایندکس ستون مدنظر زوج است یا فرد . اگر زوج بود چک کنید که ردیف نیز زوج است یا نه. اگر زوج  باشد آن خانه مشکی است اگر فرد باشد، سفید است. و اگر شماره ستون فرد بود دوباره به ردیف نگاه کنید که زوج است یا فرد. اینبار اگر زوج باشد، سفید و اگر فرد باشد مشکی است.\n",
    "    * حواستان باشد که شماره ستون‌ها را از یک شروع شده نه از صفر\n",
    "</p>"
   ]
  },
  {
   "cell_type": "markdown",
   "metadata": {
    "jp-MarkdownHeadingCollapsed": true,
    "tags": []
   },
   "source": [
    "<h4 style='direction:rtl;text-align:right;font-size:18px;font-family:samim;'>جواب</h4>"
   ]
  },
  {
   "cell_type": "code",
   "execution_count": 7,
   "metadata": {},
   "outputs": [
    {
     "name": "stdout",
     "output_type": "stream",
     "text": [
      "White\n"
     ]
    }
   ],
   "source": [
    "#تعریف یک متغیر اختیاری برای ستون و ردیف \n",
    "col = 'd'\n",
    "row = 5\n",
    "\n",
    "#تعریف لیستی از نام ستون ها\n",
    "columns = [ 'a' ,'b' ,'c' ,'d' ,'e' ,'f' ,'g' ,'h']\n",
    "\n",
    "if (columns.index(col)+1) % 2 ==0:\n",
    "  if int(row)%2 ==0:\n",
    "    print('Black')\n",
    "  else:\n",
    "    print('White')\n",
    "else:\n",
    "  if int(row)%2 ==0:\n",
    "    print('White')\n",
    "  else:\n",
    "    print('Black')"
   ]
  },
  {
   "cell_type": "markdown",
   "metadata": {},
   "source": [
    "<h2 style='direction:rtl;text-align:right;font-family:samim;'><b>🔸 تمرین ۲۹*</b></h2>"
   ]
  },
  {
   "cell_type": "markdown",
   "metadata": {},
   "source": [
    "<p style='direction:rtl;text-align:right;font-size:18px;font-family:samim;line-height:1.5;'>\n",
    "یک سیستم مجوز ساده را شبیه‌سازی کنید که در آن کاربر می‌تواند نقش خود (\"مدیر\"، \"کاربر\"، \"مهمان\") و اقدامی را که می‌خواهد انجام دهد ('ویرایش'، 'نمایش'، 'حذف') وارد کند. ادمین ها می‌توانند هر عملی را انجام دهند. کاربران می‌توانند 'ویرایش' و 'مشاهده'، اما  'حذف' را نمی‌توانند انجام دهند. مهمانان فقط می‌توانند 'مشاهده' کنند.\n",
    "</p>"
   ]
  },
  {
   "cell_type": "code",
   "execution_count": null,
   "metadata": {},
   "outputs": [],
   "source": []
  },
  {
   "cell_type": "markdown",
   "metadata": {
    "jp-MarkdownHeadingCollapsed": true
   },
   "source": [
    "<h4 style='direction:rtl;text-align:right;font-size:18px;font-family:samim;'>راهنمایی</h4>"
   ]
  },
  {
   "cell_type": "markdown",
   "metadata": {},
   "source": [
    "<p style='direction:rtl;text-align:right;font-size:16px;font-family:samim;'>\n",
    "دو متغیر برای نقش و اقدام تعریف کنید. سپس شروط را ابتدا روی نقش و سپس روی اقدام مطرح کنید.\n",
    "</p>"
   ]
  },
  {
   "cell_type": "markdown",
   "metadata": {
    "jp-MarkdownHeadingCollapsed": true,
    "tags": []
   },
   "source": [
    "<h4 style='direction:rtl;text-align:right;font-size:18px;font-family:samim;'>جواب</h4>"
   ]
  },
  {
   "cell_type": "code",
   "execution_count": 38,
   "metadata": {},
   "outputs": [
    {
     "name": "stdout",
     "output_type": "stream",
     "text": [
      "guest :Action denied\n"
     ]
    }
   ],
   "source": [
    "#تعریف متغیر نقش و اقدام\n",
    "role = \"guest\"  \n",
    "action = \"delete\"  \n",
    "\n",
    "if role == \"admin\":\n",
    "    print(role , \":Action permitted\")\n",
    "elif role == \"user\":\n",
    "    if action  == \"edit\" or action == \"view\":\n",
    "        print(role, \":Action permitted\")\n",
    "    else:\n",
    "        print(role, \":Action denied\")\n",
    "else:  ## یا می توانی بگی: elif role == 'guest'\n",
    "    if action == \"view\":\n",
    "        print(role, \":Action permitted\")\n",
    "    else:\n",
    "        print(role, \":Action denied\")\n"
   ]
  },
  {
   "cell_type": "markdown",
   "metadata": {},
   "source": [
    "<h2 style='direction:rtl;text-align:right;font-family:samim;'><b>🔸 تمرین ۳۰*</b></h2>"
   ]
  },
  {
   "cell_type": "markdown",
   "metadata": {},
   "source": [
    "<p style='direction:rtl;text-align:right;font-size:18px;font-family:samim;line-height:1.5;'>\n",
    "سیستمی را پیاده‌سازی کنید که در آن کاربر یک نام کاربری و رمز عبور را وارد می‌کند. بررسی کنید که آیا نام کاربری \"admin\" است یا خیر. اگر چنین است، رمز عبور را بررسی کنید: اگر رمز عبور \"root\" است، \"دسترسی Superuser داده شده\" را چاپ کنید، در غیر این صورت \"گذرواژه مدیریت نامعتبر\" را چاپ کنید. اگر نام کاربری «admin» نیست، فقط بررسی کنید که آیا رمز عبور «12345» است یا نه، و اگر چنین است، «دسترسی داده شد» را چاپ کنید، در غیر این صورت «دسترسی رد شد» را چاپ کنید.\n",
    "</p>"
   ]
  },
  {
   "cell_type": "code",
   "execution_count": null,
   "metadata": {},
   "outputs": [],
   "source": []
  },
  {
   "cell_type": "markdown",
   "metadata": {
    "jp-MarkdownHeadingCollapsed": true
   },
   "source": [
    "<h4 style='direction:rtl;text-align:right;font-size:18px;font-family:samim;'>راهنمایی</h4>"
   ]
  },
  {
   "cell_type": "markdown",
   "metadata": {},
   "source": [
    "<p style='direction:rtl;text-align:right;font-size:16px;font-family:samim;'>\n",
    "ابتدا متغیر نام کاربری و پسوورد را تعریف کنید. سپس بعد از بررسی اینکه ادمین هست یا نه، شرط رمز را بررسی کنید. از دستورات ifهای تودرتو و else استفاده کنید.\n",
    "</p>"
   ]
  },
  {
   "cell_type": "markdown",
   "metadata": {
    "jp-MarkdownHeadingCollapsed": true,
    "tags": []
   },
   "source": [
    "<h4 style='direction:rtl;text-align:right;font-size:18px;font-family:samim;'>جواب</h4>"
   ]
  },
  {
   "cell_type": "code",
   "execution_count": 18,
   "metadata": {},
   "outputs": [
    {
     "name": "stdout",
     "output_type": "stream",
     "text": [
      "Access granted\n"
     ]
    }
   ],
   "source": [
    "#تعریف متغیر نام کاربری و پسوورد\n",
    "username = \"sahar\"\n",
    "password = \"12345\"\n",
    "\n",
    "if username == \"admin\":\n",
    "    if password == \"root\":\n",
    "        print(\"Superuser access granted\")\n",
    "    else:\n",
    "        print(\"Invalid admin password\")\n",
    "elif password == \"12345\":\n",
    "    print(\"Access granted\")\n",
    "else:\n",
    "    print(\"Access denied\")"
   ]
  },
  {
   "cell_type": "markdown",
   "metadata": {},
   "source": [
    "<h2 style='direction:rtl;text-align:right;font-family:samim;'><b>🔸 تمرین ۳۱*</b></h2>"
   ]
  },
  {
   "cell_type": "markdown",
   "metadata": {},
   "source": [
    "<p style='direction:rtl;text-align:right;font-size:18px;font-family:samim;line-height:1.5;'>\n",
    "یک فروشگاه بر اساس روز هفته و مبلغی که خرج شده است، برای تراکنش‌ها تخفیف اعمال می‌کند. اگر روز \"دوشنبه\" باشد، همه خریدها از 5% تخفیف برخوردار می‌شوند. در «چهارشنبه»، خریدهای بالای 50 دلار از 10 درصد تخفیف برخوردار می‌شوند. در «جمعه»، خریدهای بالای 100 دلار از 15 درصد تخفیف برخوردار می‌شوند. برای پیاده‌سازی این منطق از شرط‌های nested if استفاده کنید.\n",
    "</p>"
   ]
  },
  {
   "cell_type": "code",
   "execution_count": null,
   "metadata": {},
   "outputs": [],
   "source": []
  },
  {
   "cell_type": "markdown",
   "metadata": {
    "jp-MarkdownHeadingCollapsed": true
   },
   "source": [
    "<h4 style='direction:rtl;text-align:right;font-size:18px;font-family:samim;'>راهنمایی</h4>"
   ]
  },
  {
   "cell_type": "markdown",
   "metadata": {},
   "source": [
    "<p style='direction:rtl;text-align:right;font-size:16px;font-family:samim;'>\n",
    "ابتدا یک مقدار اختیاری برای روز هفته و میزان خرید تعریف کنید.\n",
    "    سپس شرط را روز بررسی کنید و بر اساس آن میزان تخفیف را مشخص کنید.\n",
    "</p>"
   ]
  },
  {
   "cell_type": "markdown",
   "metadata": {
    "jp-MarkdownHeadingCollapsed": true,
    "tags": []
   },
   "source": [
    "<h4 style='direction:rtl;text-align:right;font-size:18px;font-family:samim;'>جواب</h4>"
   ]
  },
  {
   "cell_type": "code",
   "execution_count": 25,
   "metadata": {},
   "outputs": [
    {
     "name": "stdout",
     "output_type": "stream",
     "text": [
      "108.0 $\n"
     ]
    }
   ],
   "source": [
    "#تعریف متغیر روز و میزان خرید\n",
    "day_of_week = \"Wednesday\"\n",
    "amount_spent = 120\n",
    "\n",
    "if day_of_week == \"Monday\":\n",
    "    discount = 0.05\n",
    "elif day_of_week == \"Wednesday\":\n",
    "    discount = 0.10 if amount_spent > 50 else 0\n",
    "elif day_of_week == \"Friday\":\n",
    "    discount = 0.15 if amount_spent > 100 else 0\n",
    "else:\n",
    "    discount = 0\n",
    "    \n",
    "discounted_amount = amount_spent * (1 - discount)\n",
    "\n",
    "print(discounted_amount)\n"
   ]
  }
 ],
 "metadata": {
  "kernelspec": {
   "display_name": "Python 3 (ipykernel)",
   "language": "python",
   "name": "python3"
  },
  "language_info": {
   "codemirror_mode": {
    "name": "ipython",
    "version": 3
   },
   "file_extension": ".py",
   "mimetype": "text/x-python",
   "name": "python",
   "nbconvert_exporter": "python",
   "pygments_lexer": "ipython3",
   "version": "3.9.12"
  }
 },
 "nbformat": 4,
 "nbformat_minor": 4
}
