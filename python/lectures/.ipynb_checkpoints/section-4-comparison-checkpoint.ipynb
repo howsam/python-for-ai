{
 "cells": [
  {
   "cell_type": "markdown",
   "id": "f18ece75-eec3-40b1-9af8-355087006bb4",
   "metadata": {
    "id": "PB9MOYPq50Wx",
    "tags": []
   },
   "source": [
    "# <font color='#FFE15D'>**Section 4: Comparison and Logical Operators 🐏**</font>"
   ]
  },
  {
   "cell_type": "markdown",
   "id": "1bbcdf12-354f-4554-a329-486f4ed4bc68",
   "metadata": {},
   "source": [
    "<img src=\"../images/comparison.png\" alt=\"string indexing\" width=150 align=\"center\" />"
   ]
  },
  {
   "cell_type": "markdown",
   "id": "70bb3145-2a25-4fac-8f5b-1141119323a8",
   "metadata": {
    "id": "A9c3D-3n61Du",
    "jp-MarkdownHeadingCollapsed": true,
    "tags": []
   },
   "source": [
    "## 🔸 **Logical operators**"
   ]
  },
  {
   "cell_type": "markdown",
   "id": "ab68c888-a639-4ae5-aeea-d89f8f1e613e",
   "metadata": {},
   "source": [
    "<img src=\"../images/binary-operators.png\" alt=\"string indexing\" width=600 align=\"center\" />"
   ]
  },
  {
   "cell_type": "code",
   "execution_count": 49,
   "id": "f76d615e-5f24-4c40-adb3-3b7a23c536ec",
   "metadata": {
    "colab": {
     "base_uri": "https://localhost:8080/"
    },
    "id": "1NZQwcpJ-ffr",
    "outputId": "6a4ac375-079e-4afe-f871-b87906c30913"
   },
   "outputs": [],
   "source": [
    "a = True\n",
    "b = False\n",
    "c = True"
   ]
  },
  {
   "cell_type": "code",
   "execution_count": 50,
   "id": "288a5bea-90c3-424d-8aa0-5b9bbf41f733",
   "metadata": {},
   "outputs": [
    {
     "data": {
      "text/plain": [
       "False"
      ]
     },
     "execution_count": 50,
     "metadata": {},
     "output_type": "execute_result"
    }
   ],
   "source": [
    "a and b\n",
    "a or b\n",
    "a or b and c\n",
    "not a"
   ]
  },
  {
   "cell_type": "code",
   "execution_count": 51,
   "id": "9459903c-5ce3-4b62-a62c-ff022bca0eb6",
   "metadata": {},
   "outputs": [
    {
     "data": {
      "text/plain": [
       "True"
      ]
     },
     "execution_count": 51,
     "metadata": {},
     "output_type": "execute_result"
    }
   ],
   "source": [
    "not (a and b)\n",
    "not a and b\n",
    "not b and a"
   ]
  },
  {
   "cell_type": "markdown",
   "id": "344d32e1-af11-479b-8316-5a174f308763",
   "metadata": {
    "jp-MarkdownHeadingCollapsed": true,
    "tags": []
   },
   "source": [
    "## 🔸 **Comparison operators**"
   ]
  },
  {
   "cell_type": "code",
   "execution_count": 55,
   "id": "aa688056-d186-4ed2-ae39-f3f9ac6489a8",
   "metadata": {},
   "outputs": [],
   "source": [
    "a = True\n",
    "b = False\n",
    "\n",
    "c = 3.4\n",
    "d = 6\n",
    "e = 6.\n",
    "\n",
    "f = 'a'\n",
    "g = 'A'\n",
    "h = 'a'"
   ]
  },
  {
   "cell_type": "markdown",
   "id": "5661d3ee-ec91-423a-879c-a44bb5a75c6a",
   "metadata": {},
   "source": [
    "<img src=\"../images/comparison-operators.png\" alt=\"string indexing\" width=200 align=\"center\" />"
   ]
  },
  {
   "cell_type": "markdown",
   "id": "7b621b52-7a50-4dbb-9099-bf1ebf777bd9",
   "metadata": {
    "jp-MarkdownHeadingCollapsed": true,
    "tags": []
   },
   "source": [
    "### == & !="
   ]
  },
  {
   "cell_type": "code",
   "execution_count": 56,
   "id": "6e6881f7-d998-4480-83d2-c3405f1d1db3",
   "metadata": {
    "colab": {
     "base_uri": "https://localhost:8080/"
    },
    "id": "p2kobWHG6-rP",
    "outputId": "5745ff26-0cac-490d-d319-695cad2ba12e"
   },
   "outputs": [
    {
     "data": {
      "text/plain": [
       "True"
      ]
     },
     "execution_count": 56,
     "metadata": {},
     "output_type": "execute_result"
    }
   ],
   "source": [
    "c == d\n",
    "c != d\n",
    "d == e"
   ]
  },
  {
   "cell_type": "code",
   "execution_count": 60,
   "id": "82c97876-00e9-4177-8976-98af26529ed2",
   "metadata": {
    "colab": {
     "base_uri": "https://localhost:8080/"
    },
    "id": "zDN5Oe-n80EU",
    "outputId": "f276408f-ec05-4614-eb10-e90e1ea3c93e"
   },
   "outputs": [
    {
     "data": {
      "text/plain": [
       "False"
      ]
     },
     "execution_count": 60,
     "metadata": {},
     "output_type": "execute_result"
    }
   ],
   "source": [
    "f == g\n",
    "f != g\n",
    "\n",
    "'salam' == 'Salam'"
   ]
  },
  {
   "cell_type": "markdown",
   "id": "7361e201-d4ba-49f1-abc6-c022c811d117",
   "metadata": {
    "jp-MarkdownHeadingCollapsed": true,
    "tags": []
   },
   "source": [
    "### > & <"
   ]
  },
  {
   "cell_type": "code",
   "execution_count": 64,
   "id": "ea7b119f-a827-422d-bb2c-86be27f139b6",
   "metadata": {
    "colab": {
     "base_uri": "https://localhost:8080/"
    },
    "id": "A14-T6zV9oFK",
    "outputId": "811cda0b-e94b-48c5-8cd9-a31963a275cd"
   },
   "outputs": [
    {
     "data": {
      "text/plain": [
       "True"
      ]
     },
     "execution_count": 64,
     "metadata": {},
     "output_type": "execute_result"
    }
   ],
   "source": [
    "c > d\n",
    "c < d\n",
    "\n",
    "d >= e"
   ]
  },
  {
   "cell_type": "code",
   "execution_count": 69,
   "id": "44ec2db3-8971-4aa5-be9b-2178ca1c0abd",
   "metadata": {},
   "outputs": [
    {
     "data": {
      "text/plain": [
       "True"
      ]
     },
     "execution_count": 69,
     "metadata": {},
     "output_type": "execute_result"
    }
   ],
   "source": [
    "'a' > 'b'\n",
    "'a' < 'b'\n",
    "'b' < 'z'\n",
    "'a' > 'Z'"
   ]
  },
  {
   "cell_type": "markdown",
   "id": "dffb314a-4972-4acb-b5ad-3bebaaea68f2",
   "metadata": {
    "jp-MarkdownHeadingCollapsed": true,
    "tags": []
   },
   "source": [
    "### Comparison in list"
   ]
  },
  {
   "cell_type": "code",
   "execution_count": 76,
   "id": "3f909d67-f9dd-4f8b-8df4-4d6c34c0a4d9",
   "metadata": {},
   "outputs": [
    {
     "data": {
      "text/plain": [
       "True"
      ]
     },
     "execution_count": 76,
     "metadata": {},
     "output_type": "execute_result"
    }
   ],
   "source": [
    "[1, 3] != [1., 2.]\n",
    "[1, 3] > [1, 2, 2]"
   ]
  },
  {
   "cell_type": "markdown",
   "id": "7ec0f763-dbb4-4c2a-92ab-e6f5920a75cf",
   "metadata": {
    "jp-MarkdownHeadingCollapsed": true,
    "tags": []
   },
   "source": [
    "### Comparison for floating-point numbers"
   ]
  },
  {
   "cell_type": "code",
   "execution_count": 77,
   "id": "755da3ec-4760-4e93-bad5-6c788fc7f44f",
   "metadata": {},
   "outputs": [
    {
     "data": {
      "text/plain": [
       "False"
      ]
     },
     "execution_count": 77,
     "metadata": {},
     "output_type": "execute_result"
    }
   ],
   "source": [
    "a = 2.2 + 1.2\n",
    "b = 3.4\n",
    "a == b"
   ]
  },
  {
   "cell_type": "code",
   "execution_count": 78,
   "id": "2ef11c0f-8e95-4723-8c74-fd284d4a7214",
   "metadata": {},
   "outputs": [
    {
     "data": {
      "text/plain": [
       "True"
      ]
     },
     "execution_count": 78,
     "metadata": {},
     "output_type": "execute_result"
    }
   ],
   "source": [
    "c = 1.2 + 0.5 \n",
    "d = 1.7\n",
    "c == d"
   ]
  },
  {
   "cell_type": "code",
   "execution_count": 81,
   "id": "4d6566aa-df54-4cac-ac01-eeca08e3db4a",
   "metadata": {},
   "outputs": [
    {
     "data": {
      "text/plain": [
       "True"
      ]
     },
     "execution_count": 81,
     "metadata": {},
     "output_type": "execute_result"
    }
   ],
   "source": [
    "abs(a - b) < 1e-5"
   ]
  },
  {
   "cell_type": "code",
   "execution_count": 86,
   "id": "323ad4df-444c-4232-b5c2-60e7f775ed51",
   "metadata": {},
   "outputs": [
    {
     "data": {
      "text/plain": [
       "0.0022"
      ]
     },
     "execution_count": 86,
     "metadata": {},
     "output_type": "execute_result"
    }
   ],
   "source": [
    "1e-5\n",
    "2.2e-3"
   ]
  },
  {
   "cell_type": "markdown",
   "id": "fbc88b9d-e47b-4f24-a688-8889ab98952a",
   "metadata": {
    "jp-MarkdownHeadingCollapsed": true,
    "tags": []
   },
   "source": [
    "## 🔸 **Combine math, comparison, and logical operators**"
   ]
  },
  {
   "cell_type": "code",
   "execution_count": 91,
   "id": "ab7b44a5-b6c8-4ed8-8088-37353263327a",
   "metadata": {
    "colab": {
     "base_uri": "https://localhost:8080/"
    },
    "id": "JRQvZp3x_H8S",
    "outputId": "2e12f04a-51fc-4d67-b249-8638d9315d6f"
   },
   "outputs": [],
   "source": [
    "c = 6\n",
    "d = 2*3\n",
    "e = 'a'\n",
    "f = 'a'"
   ]
  },
  {
   "cell_type": "code",
   "execution_count": 96,
   "id": "86510102-ac6c-4126-86bf-993902d56422",
   "metadata": {},
   "outputs": [
    {
     "data": {
      "text/plain": [
       "False"
      ]
     },
     "execution_count": 96,
     "metadata": {},
     "output_type": "execute_result"
    }
   ],
   "source": [
    "not (c == (2*3) and e == f)\n",
    "(c == d) and (e == f)"
   ]
  },
  {
   "cell_type": "markdown",
   "id": "babffca6-3a2f-4359-bf4d-298d55913d42",
   "metadata": {
    "jp-MarkdownHeadingCollapsed": true,
    "tags": []
   },
   "source": [
    "## 🔸 **Chained comparisons**"
   ]
  },
  {
   "cell_type": "code",
   "execution_count": 101,
   "id": "fbfe7149-9eef-4492-a453-a54ff1eae169",
   "metadata": {},
   "outputs": [
    {
     "data": {
      "text/plain": [
       "True"
      ]
     },
     "execution_count": 101,
     "metadata": {},
     "output_type": "execute_result"
    }
   ],
   "source": [
    "a = 2.\n",
    "b = 5.\n",
    "c = 3.\n",
    "\n",
    "a < c < b\n",
    "a < b > c\n",
    "a < b < c\n",
    "\n",
    "1 < 2 < 3 > 1.5 < 2.5 > -0.5\n",
    "\n",
    "a < c and c < b"
   ]
  },
  {
   "cell_type": "markdown",
   "id": "e768ea15-f558-4bca-ae54-7ac94b2b70c7",
   "metadata": {
    "jp-MarkdownHeadingCollapsed": true,
    "tags": []
   },
   "source": [
    "## 🔸 **any & all**"
   ]
  },
  {
   "cell_type": "code",
   "execution_count": 117,
   "id": "4292b0e3-b970-4853-9375-7b2c25bff02f",
   "metadata": {
    "colab": {
     "base_uri": "https://localhost:8080/"
    },
    "id": "JRQvZp3x_H8S",
    "outputId": "2e12f04a-51fc-4d67-b249-8638d9315d6f"
   },
   "outputs": [
    {
     "data": {
      "text/plain": [
       "(False, True)"
      ]
     },
     "execution_count": 117,
     "metadata": {},
     "output_type": "execute_result"
    }
   ],
   "source": [
    "a = [False, True, False]\n",
    "b = [True, True]\n",
    "\n",
    "any(a), any(b)\n",
    "all(a), all(b)"
   ]
  },
  {
   "cell_type": "code",
   "execution_count": 120,
   "id": "594a287d-8a07-46cf-a7e7-f44040d65cba",
   "metadata": {},
   "outputs": [
    {
     "data": {
      "text/plain": [
       "True"
      ]
     },
     "execution_count": 121,
     "metadata": {},
     "output_type": "execute_result"
    }
   ],
   "source": [
    "a = [0, -1, -2]\n",
    "\n",
    "any(a)\n",
    "all(a)"
   ]
  },
  {
   "cell_type": "markdown",
   "id": "aba39402-60ad-4f92-aa11-e4d3b7eca3e9",
   "metadata": {
    "id": "kr0lLhUw072R",
    "jp-MarkdownHeadingCollapsed": true,
    "tags": []
   },
   "source": [
    "## **✍️ Example 1: Impelement $XOR$**"
   ]
  },
  {
   "cell_type": "markdown",
   "id": "d14d2fa2-beed-4f15-b2b3-149ffb935c64",
   "metadata": {
    "tags": []
   },
   "source": [
    "### $XOR(A,B) = (A \\land \\bar{B}) \\lor (\\bar{A} \\land B)$"
   ]
  },
  {
   "cell_type": "code",
   "execution_count": 142,
   "id": "20e27c22-6675-4c60-97b2-b47ae0092069",
   "metadata": {
    "colab": {
     "base_uri": "https://localhost:8080/"
    },
    "id": "bExle2w_4XYb",
    "outputId": "505cf85f-53bf-4ad5-81e9-c4b439086b9b"
   },
   "outputs": [
    {
     "data": {
      "text/plain": [
       "False"
      ]
     },
     "execution_count": 142,
     "metadata": {},
     "output_type": "execute_result"
    }
   ],
   "source": [
    "a = True\n",
    "b = True\n",
    "\n",
    "xor = (a and not(b)) or (not(a) and b)\n",
    "xor"
   ]
  },
  {
   "cell_type": "markdown",
   "id": "6a3fcf35-e5a5-4bd0-9674-3cb1c7144444",
   "metadata": {
    "id": "kr0lLhUw072R",
    "jp-MarkdownHeadingCollapsed": true,
    "tags": []
   },
   "source": [
    "## **✍️ Example 2: Check the data type**"
   ]
  },
  {
   "cell_type": "markdown",
   "id": "e185b235-f3e5-4920-9575-dd3396c4161e",
   "metadata": {},
   "source": [
    "<img src=\"../images/type-variable.png\" alt=\"string indexing\" width=450 align=\"center\" />"
   ]
  },
  {
   "cell_type": "code",
   "execution_count": 148,
   "id": "960d62f0-8a38-4b51-9e87-2542f781e651",
   "metadata": {},
   "outputs": [
    {
     "data": {
      "text/plain": [
       "False"
      ]
     },
     "execution_count": 148,
     "metadata": {},
     "output_type": "execute_result"
    }
   ],
   "source": [
    "a = 2.5\n",
    "\n",
    "type(a) == float\n",
    "type(a) == int\n",
    "type(a) == str\n",
    "type(a) == bool"
   ]
  },
  {
   "cell_type": "markdown",
   "id": "8dd4be50-af9a-403d-bdc5-2ec2b7ee8593",
   "metadata": {
    "id": "kr0lLhUw072R",
    "jp-MarkdownHeadingCollapsed": true,
    "tags": []
   },
   "source": [
    "## **✍️ Example 3: Grade of students**"
   ]
  },
  {
   "cell_type": "markdown",
   "id": "927fb514-8cc3-47a2-a2c1-5a99abc43ddf",
   "metadata": {},
   "source": [
    "<img src=\"../images/score-students.png\" alt=\"string indexing\" width=450 align=\"center\" />\n",
    "<img src=\"../images/table-grade.png\" alt=\"string indexing\" width=700 align=\"center\" />"
   ]
  },
  {
   "cell_type": "code",
   "execution_count": 123,
   "id": "3e042163-0541-4144-b03a-027df5d682cd",
   "metadata": {
    "colab": {
     "base_uri": "https://localhost:8080/"
    },
    "id": "bExle2w_4XYb",
    "outputId": "505cf85f-53bf-4ad5-81e9-c4b439086b9b"
   },
   "outputs": [],
   "source": [
    "names = [\"Hana\", \"Karter\", \"Landon\", \"Hector\", \"Clarence\", \"Deborah\", \"Scarlett\", \"Joe\", \"Marlene\", \"Lillianna\", \"Santos\", \"Cassius\", \"Darrell\", \"Julie\", \"Kaden\", \"Allyson\", \"Anderson\", \"Sara\", \"John\", \"Brynn\"]\n",
    "grades = [68, 83, 61, 70, 75, 82, 57, 5, 76, 85, 62, 71, 96, 78, 76, 68, 72, 75, 83, 93]"
   ]
  },
  {
   "cell_type": "code",
   "execution_count": 158,
   "id": "65f76be9-721f-45fc-94ac-01aac1a3c843",
   "metadata": {},
   "outputs": [
    {
     "name": "stdout",
     "output_type": "stream",
     "text": [
      "John: 83 , Karter: 83 True\n"
     ]
    }
   ],
   "source": [
    "name = 'Clarence'\n",
    "idx = names.index(name)\n",
    "grades[idx]\n",
    "\n",
    "idx1 = names.index('John')\n",
    "idx2 = names.index('Karter')\n",
    "grade1 = grades[idx1]\n",
    "grade2 = grades[idx2]\n",
    "\n",
    "print('John:', grade1, ', Karter:', grade2, grade1 == grade2)"
   ]
  }
 ],
 "metadata": {
  "kernelspec": {
   "display_name": "Python 3 (ipykernel)",
   "language": "python",
   "name": "python3"
  },
  "language_info": {
   "codemirror_mode": {
    "name": "ipython",
    "version": 3
   },
   "file_extension": ".py",
   "mimetype": "text/x-python",
   "name": "python",
   "nbconvert_exporter": "python",
   "pygments_lexer": "ipython3",
   "version": "3.9.12"
  }
 },
 "nbformat": 4,
 "nbformat_minor": 5
}
