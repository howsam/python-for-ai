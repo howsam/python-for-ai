{
 "cells": [
  {
   "cell_type": "markdown",
   "id": "b5a35374-73fa-40c4-a707-ec33ea846df3",
   "metadata": {
    "id": "pbxR79EUAYW_",
    "tags": []
   },
   "source": [
    "# <font color='#FFE15D'>**Section 2: Operators 🧮**</font>"
   ]
  },
  {
   "cell_type": "code",
   "execution_count": 1,
   "id": "a93d4c70-96d2-4052-a2b2-091311617d27",
   "metadata": {
    "id": "gohcMHEfHNZe"
   },
   "outputs": [],
   "source": [
    "a = 5\n",
    "b = 2"
   ]
  },
  {
   "cell_type": "markdown",
   "id": "a230c9fa-0f85-439f-a296-f19e1578cfa2",
   "metadata": {
    "tags": []
   },
   "source": [
    "## **🔸 Mathematical Operations**"
   ]
  },
  {
   "cell_type": "markdown",
   "id": "ba43a7c7-d556-4f9b-8099-58585b922b6a",
   "metadata": {
    "tags": []
   },
   "source": [
    "### addition"
   ]
  },
  {
   "cell_type": "code",
   "execution_count": 8,
   "id": "c41296ef-70bf-4708-ac36-84cc005270e8",
   "metadata": {
    "colab": {
     "base_uri": "https://localhost:8080/"
    },
    "id": "kd3GTU8ZHUS9",
    "outputId": "f1465461-9e65-4d60-d788-34bf318daf8f"
   },
   "outputs": [
    {
     "data": {
      "text/plain": [
       "1"
      ]
     },
     "execution_count": 8,
     "metadata": {},
     "output_type": "execute_result"
    }
   ],
   "source": [
    "c = a + b\n",
    "c\n",
    "\n",
    "d = 'sal'\n",
    "e = 'am'\n",
    "d + e\n",
    "\n",
    "f = True\n",
    "g = False\n",
    "f + g\n",
    "\n",
    "# a + d"
   ]
  },
  {
   "cell_type": "markdown",
   "id": "32efb18e-2397-47fb-9c64-8165e9a057c3",
   "metadata": {
    "tags": []
   },
   "source": [
    "### subtraction "
   ]
  },
  {
   "cell_type": "code",
   "execution_count": 9,
   "id": "ca64bd78-06bc-4309-9811-3709d7ad5c99",
   "metadata": {
    "colab": {
     "base_uri": "https://localhost:8080/"
    },
    "id": "TcNxhrC6Hbhv",
    "outputId": "9f3f3bad-888e-4eae-c02c-2951813c3343"
   },
   "outputs": [
    {
     "data": {
      "text/plain": [
       "3"
      ]
     },
     "execution_count": 9,
     "metadata": {},
     "output_type": "execute_result"
    }
   ],
   "source": [
    "a - b"
   ]
  },
  {
   "cell_type": "markdown",
   "id": "efce5c08-3808-48b6-9974-25594af67b7d",
   "metadata": {
    "tags": []
   },
   "source": [
    "### multiplication "
   ]
  },
  {
   "cell_type": "code",
   "execution_count": 10,
   "id": "8df81297-ddcb-4b44-af27-e2c16f4acc07",
   "metadata": {
    "colab": {
     "base_uri": "https://localhost:8080/"
    },
    "id": "H_RzhG4NHhWb",
    "outputId": "16edb425-b047-4cb9-cc57-d2c471bbec41"
   },
   "outputs": [
    {
     "data": {
      "text/plain": [
       "10"
      ]
     },
     "execution_count": 10,
     "metadata": {},
     "output_type": "execute_result"
    }
   ],
   "source": [
    "a * b"
   ]
  },
  {
   "cell_type": "markdown",
   "id": "32506a29-f164-4e68-816f-66838ea25f4d",
   "metadata": {
    "tags": []
   },
   "source": [
    "### division"
   ]
  },
  {
   "cell_type": "code",
   "execution_count": 11,
   "id": "b210a2eb-de0a-4b66-a7ac-d58c21c9e67f",
   "metadata": {
    "colab": {
     "base_uri": "https://localhost:8080/"
    },
    "id": "ef_SJvdfHmsh",
    "outputId": "539bb96b-72eb-461a-f6a9-46f02d322b32"
   },
   "outputs": [
    {
     "data": {
      "text/plain": [
       "2.5"
      ]
     },
     "execution_count": 11,
     "metadata": {},
     "output_type": "execute_result"
    }
   ],
   "source": [
    "a / b"
   ]
  },
  {
   "cell_type": "markdown",
   "id": "b101ca52-250a-4006-87f8-203acbee0458",
   "metadata": {
    "tags": []
   },
   "source": [
    "### power"
   ]
  },
  {
   "cell_type": "code",
   "execution_count": 13,
   "id": "c307a80a-e6c8-4cde-8a44-98a671c6c40b",
   "metadata": {
    "colab": {
     "base_uri": "https://localhost:8080/"
    },
    "id": "5p4Of7z9HsRZ",
    "outputId": "19856f33-6bb3-4a86-d437-53936ad6ec98"
   },
   "outputs": [
    {
     "data": {
      "text/plain": [
       "(25, 2.23606797749979)"
      ]
     },
     "execution_count": 13,
     "metadata": {},
     "output_type": "execute_result"
    }
   ],
   "source": [
    "a**b, a**0.5"
   ]
  },
  {
   "cell_type": "markdown",
   "id": "78b0c451-31c7-4bdb-8fe0-df168375927f",
   "metadata": {
    "tags": []
   },
   "source": [
    "### remainder"
   ]
  },
  {
   "cell_type": "code",
   "execution_count": 14,
   "id": "7cd865f0-ef00-45b5-b695-7826c7413a37",
   "metadata": {
    "colab": {
     "base_uri": "https://localhost:8080/"
    },
    "id": "ndDH0LMhH5pU",
    "outputId": "e09161a8-86fb-4955-d743-2bc77a234465"
   },
   "outputs": [
    {
     "data": {
      "text/plain": [
       "1"
      ]
     },
     "execution_count": 14,
     "metadata": {},
     "output_type": "execute_result"
    }
   ],
   "source": [
    "a % b"
   ]
  },
  {
   "cell_type": "markdown",
   "id": "bb8bd663-7608-41bc-8eb0-ba79ec292c62",
   "metadata": {
    "tags": []
   },
   "source": [
    "### quo"
   ]
  },
  {
   "cell_type": "code",
   "execution_count": 16,
   "id": "46943007-27e1-48d7-9e3c-6ad83d2c67f5",
   "metadata": {
    "colab": {
     "base_uri": "https://localhost:8080/"
    },
    "id": "Gx4lscvsIA3O",
    "outputId": "2f4e242e-a023-4d84-da3a-f522c2efe866"
   },
   "outputs": [
    {
     "data": {
      "text/plain": [
       "3"
      ]
     },
     "execution_count": 16,
     "metadata": {},
     "output_type": "execute_result"
    }
   ],
   "source": [
    "a // b"
   ]
  },
  {
   "cell_type": "markdown",
   "id": "87dbdd5b-13a3-4118-b8d0-9882241991df",
   "metadata": {
    "tags": []
   },
   "source": [
    "## **🔸 Operators Precedence**"
   ]
  },
  {
   "cell_type": "markdown",
   "id": "55fddd5a-c68d-4b7d-8394-4ede83f26018",
   "metadata": {},
   "source": [
    "<img src=\"../images/precedence.png\" alt=\"string indexing\" width=500 align=\"center\" />"
   ]
  },
  {
   "cell_type": "code",
   "execution_count": 26,
   "id": "915dd4a4-bacc-470a-9b5e-3336da477cbd",
   "metadata": {},
   "outputs": [
    {
     "data": {
      "text/plain": [
       "19"
      ]
     },
     "execution_count": 26,
     "metadata": {},
     "output_type": "execute_result"
    }
   ],
   "source": [
    "(-3+5)**2+3*(4+1) "
   ]
  },
  {
   "cell_type": "code",
   "execution_count": 24,
   "id": "7d35e47c-caf0-4fa2-8ffb-2ed1495ed473",
   "metadata": {},
   "outputs": [
    {
     "data": {
      "text/plain": [
       "-13"
      ]
     },
     "execution_count": 24,
     "metadata": {},
     "output_type": "execute_result"
    }
   ],
   "source": [
    "a = -3**2*4+23"
   ]
  },
  {
   "cell_type": "markdown",
   "id": "ad7260f2-3f99-4e30-a8c2-1f7c6d27eb43",
   "metadata": {
    "id": "w1bdIbUgIP8q",
    "tags": []
   },
   "source": [
    "## **🔸 Assignment operators**"
   ]
  },
  {
   "cell_type": "markdown",
   "id": "a4245fc4-b3ca-4ac6-9bd8-ed400933fece",
   "metadata": {
    "tags": []
   },
   "source": [
    "### Simple assignment operator"
   ]
  },
  {
   "cell_type": "code",
   "execution_count": 37,
   "id": "8809c0a5-bdc8-4f44-8585-dfafb8b88d22",
   "metadata": {
    "colab": {
     "base_uri": "https://localhost:8080/"
    },
    "id": "VKF7oPlaIWBt",
    "outputId": "7089a9e1-85a1-4b67-f3e0-c85fcd1b3be3"
   },
   "outputs": [
    {
     "data": {
      "text/plain": [
       "5"
      ]
     },
     "execution_count": 37,
     "metadata": {},
     "output_type": "execute_result"
    }
   ],
   "source": [
    "a = a - 1\n",
    "a"
   ]
  },
  {
   "cell_type": "markdown",
   "id": "27c01bc3-85f0-4e23-99fb-0b89fbee600b",
   "metadata": {
    "tags": []
   },
   "source": [
    "### Add and equal operator"
   ]
  },
  {
   "cell_type": "code",
   "execution_count": 43,
   "id": "76695033-8667-4e76-b6f6-9ccfef54872e",
   "metadata": {
    "colab": {
     "base_uri": "https://localhost:8080/"
    },
    "id": "qkhXfdZFIgaT",
    "outputId": "ac9fbbeb-b80c-465c-c93c-8fbaeecb74ba"
   },
   "outputs": [
    {
     "data": {
      "text/plain": [
       "11"
      ]
     },
     "execution_count": 43,
     "metadata": {},
     "output_type": "execute_result"
    }
   ],
   "source": [
    "a += 1\n",
    "a"
   ]
  },
  {
   "cell_type": "markdown",
   "id": "1f07173a-aa7e-4080-9099-fe923ea8ceb9",
   "metadata": {
    "tags": []
   },
   "source": [
    "### Subtract and equal operator"
   ]
  },
  {
   "cell_type": "code",
   "execution_count": 59,
   "id": "0dde5a9b-8f4c-48ec-a3c0-13a74c113161",
   "metadata": {
    "colab": {
     "base_uri": "https://localhost:8080/"
    },
    "id": "ksnetuV9IvW-",
    "outputId": "1435dbb2-5c6b-4a9b-ef8b-45fef2faee4b"
   },
   "outputs": [
    {
     "data": {
      "text/plain": [
       "7375"
      ]
     },
     "execution_count": 59,
     "metadata": {},
     "output_type": "execute_result"
    }
   ],
   "source": [
    "a -= b\n",
    "b -= a\n",
    "a"
   ]
  },
  {
   "cell_type": "markdown",
   "id": "1debcb1f-746f-4b75-b033-80d1e48f35c7",
   "metadata": {
    "tags": []
   },
   "source": [
    "### Multiply and equal operator"
   ]
  },
  {
   "cell_type": "code",
   "execution_count": 67,
   "id": "6800466a-05f7-41c3-8912-198a3a8c7de4",
   "metadata": {
    "colab": {
     "base_uri": "https://localhost:8080/"
    },
    "id": "w5p1yKFJIqOu",
    "outputId": "7ad35685-a460-4d8b-ac48-e79de4959290"
   },
   "outputs": [
    {
     "data": {
      "text/plain": [
       "256"
      ]
     },
     "execution_count": 67,
     "metadata": {},
     "output_type": "execute_result"
    }
   ],
   "source": [
    "a *= 2\n",
    "a"
   ]
  },
  {
   "cell_type": "markdown",
   "id": "d3c3b869-9d80-4089-af0f-6bf33fc5eded",
   "metadata": {
    "tags": []
   },
   "source": [
    "### Divide and equal operator"
   ]
  },
  {
   "cell_type": "code",
   "execution_count": 72,
   "id": "17653001-b8ba-4902-a9ca-8b9efe91538c",
   "metadata": {
    "colab": {
     "base_uri": "https://localhost:8080/"
    },
    "id": "TpyFapIaI06D",
    "outputId": "f17fef4c-013e-4cd5-fc29-8c106e5a78ff"
   },
   "outputs": [
    {
     "data": {
      "text/plain": [
       "-1.0580148471112777e-18"
      ]
     },
     "execution_count": 72,
     "metadata": {},
     "output_type": "execute_result"
    }
   ],
   "source": [
    "a /= b\n",
    "a"
   ]
  },
  {
   "cell_type": "code",
   "execution_count": 75,
   "id": "9db1014e-b862-4605-a1fd-ef096385b81d",
   "metadata": {},
   "outputs": [
    {
     "data": {
      "text/plain": [
       "12"
      ]
     },
     "execution_count": 75,
     "metadata": {},
     "output_type": "execute_result"
    }
   ],
   "source": [
    "a = 1\n",
    "a *= 2**3+4\n",
    "a"
   ]
  },
  {
   "cell_type": "code",
   "execution_count": 76,
   "id": "cb4a6b63-c35a-4b56-b04a-534ec8618e06",
   "metadata": {},
   "outputs": [
    {
     "data": {
      "text/plain": [
       "25"
      ]
     },
     "execution_count": 76,
     "metadata": {},
     "output_type": "execute_result"
    }
   ],
   "source": [
    "r = 5\n",
    "r **= 2\n",
    "r"
   ]
  },
  {
   "cell_type": "markdown",
   "id": "d7fefbbf-d800-4e40-ad45-2c0d5991298e",
   "metadata": {
    "tags": []
   },
   "source": [
    "## **✍️ Example 1: volume of a cylinder**"
   ]
  },
  {
   "cell_type": "markdown",
   "id": "f2cf3154-3398-4ca0-97ab-13e1d3e34450",
   "metadata": {},
   "source": [
    "<img src=\"../images/cylindar.png\" alt=\"string indexing\" width=400 align=\"center\" />"
   ]
  },
  {
   "cell_type": "code",
   "execution_count": 78,
   "id": "64072bde-0c17-4f97-9002-640b66c86984",
   "metadata": {
    "colab": {
     "base_uri": "https://localhost:8080/"
    },
    "id": "Pkqhu4FWhSW1",
    "outputId": "6ebd4f1e-a4f3-4c55-fb17-c10708ed43a7"
   },
   "outputs": [
    {
     "data": {
      "text/plain": [
       "785.3999999999999"
      ]
     },
     "execution_count": 78,
     "metadata": {},
     "output_type": "execute_result"
    }
   ],
   "source": [
    "pi = 3.1416\n",
    "r = 5\n",
    "h = 10\n",
    "\n",
    "volume_cylinder = pi*r**2*h\n",
    "volume_cylinder"
   ]
  },
  {
   "cell_type": "markdown",
   "id": "f903fe39-8106-4c39-a3ea-a8d4c70796c0",
   "metadata": {
    "id": "dc4_32i9arwQ",
    "tags": []
   },
   "source": [
    "## **✍️ Example 2: BMI**"
   ]
  },
  {
   "cell_type": "markdown",
   "id": "2da4e4d8-9eb5-4d61-919a-cf3eaab02283",
   "metadata": {
    "id": "2658TWO5ftjq"
   },
   "source": [
    "<img src=\"../images/BMI.png\" alt=\"string indexing\" width=400 align=\"center\" />"
   ]
  },
  {
   "cell_type": "code",
   "execution_count": 79,
   "id": "26766ef3-1e0b-40d7-b86a-152da406995e",
   "metadata": {},
   "outputs": [
    {
     "data": {
      "text/plain": [
       "24.691358024691358"
      ]
     },
     "execution_count": 79,
     "metadata": {},
     "output_type": "execute_result"
    }
   ],
   "source": [
    "weight = 80.\n",
    "height = 1.8\n",
    "\n",
    "bmi = weight / height**2\n",
    "bmi"
   ]
  },
  {
   "cell_type": "markdown",
   "id": "65641fa2-459f-4de4-a7bb-3746663725e3",
   "metadata": {
    "id": "dc4_32i9arwQ",
    "tags": []
   },
   "source": [
    "## **✍️ Example 3: Gaussian**"
   ]
  },
  {
   "cell_type": "markdown",
   "id": "af8e5884-0a00-43b3-8d5e-5d85de267b6d",
   "metadata": {
    "id": "2658TWO5ftjq"
   },
   "source": [
    "<img src=\"../images/gaussian.png\" alt=\"string indexing\" width=400 align=\"center\" />"
   ]
  },
  {
   "cell_type": "code",
   "execution_count": 87,
   "id": "89b56371-787e-4713-8a67-d7001ea6c25b",
   "metadata": {},
   "outputs": [
    {
     "data": {
      "text/plain": [
       "0.054335240837381185"
      ]
     },
     "execution_count": 87,
     "metadata": {},
     "output_type": "execute_result"
    }
   ],
   "source": [
    "m = 0\n",
    "x = 2\n",
    "s = 1\n",
    "exp = 2.71\n",
    "pi = 3.14\n",
    "\n",
    "gaussian = (1/(2*pi*s)**0.5) * exp**(-0.5*((x - m) / s)**2)\n",
    "gaussian"
   ]
  }
 ],
 "metadata": {
  "kernelspec": {
   "display_name": "Python 3 (ipykernel)",
   "language": "python",
   "name": "python3"
  },
  "language_info": {
   "codemirror_mode": {
    "name": "ipython",
    "version": 3
   },
   "file_extension": ".py",
   "mimetype": "text/x-python",
   "name": "python",
   "nbconvert_exporter": "python",
   "pygments_lexer": "ipython3",
   "version": "3.9.15"
  }
 },
 "nbformat": 4,
 "nbformat_minor": 5
}
