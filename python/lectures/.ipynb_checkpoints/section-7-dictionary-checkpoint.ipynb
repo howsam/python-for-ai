{
 "cells": [
  {
   "cell_type": "markdown",
   "id": "f7043909-afb0-42d8-a5d2-812419a3045a",
   "metadata": {
    "tags": []
   },
   "source": [
    "# <font color='#FFE15D'>**Section 7: Dictionary** 📚</font>"
   ]
  },
  {
   "cell_type": "markdown",
   "id": "8818846c-7fff-4720-94c1-58372a9ed994",
   "metadata": {},
   "source": [
    "<img src=\"../images/shelves.png\" alt=\"string indexing\" width=250 align=\"center\" />"
   ]
  },
  {
   "cell_type": "markdown",
   "id": "e262259e-5c55-4e7e-bde4-d9a9bcf58422",
   "metadata": {
    "jp-MarkdownHeadingCollapsed": true,
    "tags": []
   },
   "source": [
    "## 🔸 **How to define a dictionary**"
   ]
  },
  {
   "cell_type": "markdown",
   "id": "782af38c-fa9f-4968-b23d-9972e811472c",
   "metadata": {},
   "source": [
    "<img src=\"../images/dictionary.png\" alt=\"string indexing\" width=450 align=\"center\" />"
   ]
  },
  {
   "cell_type": "code",
   "execution_count": 21,
   "id": "0d8add95-4f80-4f50-8f4e-b7abedbf86d6",
   "metadata": {},
   "outputs": [
    {
     "data": {
      "text/plain": [
       "{'key1': 2, 'howsam': 'ai', 3: 'three', 'list': [1, 2, 3], True: 3}"
      ]
     },
     "execution_count": 21,
     "metadata": {},
     "output_type": "execute_result"
    }
   ],
   "source": [
    "{'key1':2, 'howsam':'ai', 3:'three', 'list':[1, 2, 3], True:3}"
   ]
  },
  {
   "cell_type": "markdown",
   "id": "3d153f1f-6965-448f-bb16-b7aca0c469f6",
   "metadata": {
    "jp-MarkdownHeadingCollapsed": true,
    "tags": []
   },
   "source": [
    "### Duplicate keys"
   ]
  },
  {
   "cell_type": "code",
   "execution_count": 24,
   "id": "78bfe933-79a3-4be5-a8b8-c7f7d491d746",
   "metadata": {},
   "outputs": [
    {
     "data": {
      "text/plain": [
       "{'howsam': 'iran'}"
      ]
     },
     "execution_count": 24,
     "metadata": {},
     "output_type": "execute_result"
    }
   ],
   "source": [
    "{'howsam':'ai', 'howsam':'iran'}"
   ]
  },
  {
   "cell_type": "markdown",
   "id": "ffd71882-2c85-4eb1-9f24-5f5a69944db8",
   "metadata": {
    "jp-MarkdownHeadingCollapsed": true,
    "tags": []
   },
   "source": [
    "### Keys should be immutable"
   ]
  },
  {
   "cell_type": "code",
   "execution_count": 26,
   "id": "575e94fc-3b61-4b37-b3c5-afed0388504b",
   "metadata": {},
   "outputs": [
    {
     "ename": "TypeError",
     "evalue": "unhashable type: 'list'",
     "output_type": "error",
     "traceback": [
      "\u001b[1;31m---------------------------------------------------------------------------\u001b[0m",
      "\u001b[1;31mTypeError\u001b[0m                                 Traceback (most recent call last)",
      "Input \u001b[1;32mIn [26]\u001b[0m, in \u001b[0;36m<cell line: 1>\u001b[1;34m()\u001b[0m\n\u001b[1;32m----> 1\u001b[0m {\u001b[38;5;241m2\u001b[39m:[\u001b[38;5;241m1\u001b[39m, \u001b[38;5;241m2\u001b[39m, \u001b[38;5;241m3\u001b[39m], [\u001b[38;5;241m1\u001b[39m, \u001b[38;5;241m2\u001b[39m, \u001b[38;5;241m3\u001b[39m]:\u001b[38;5;241m2\u001b[39m}\n",
      "\u001b[1;31mTypeError\u001b[0m: unhashable type: 'list'"
     ]
    }
   ],
   "source": [
    "{2:[1, 2, 3], [1, 2, 3]:2}"
   ]
  },
  {
   "cell_type": "markdown",
   "id": "12125b1b-f466-4a89-943b-edd9c6d25a65",
   "metadata": {
    "jp-MarkdownHeadingCollapsed": true,
    "tags": []
   },
   "source": [
    "### Nested dictionaries"
   ]
  },
  {
   "cell_type": "code",
   "execution_count": 28,
   "id": "2436787f-43e6-4ae4-bda7-a1cb6c212276",
   "metadata": {},
   "outputs": [
    {
     "data": {
      "text/plain": [
       "{'name': 'Sara',\n",
       " 'age': 23,\n",
       " 'grades': [87, 92, 65, 98],\n",
       " 'address': {'city': 'tehran', 'street': 'valiasr', 'zip': 12345}}"
      ]
     },
     "execution_count": 28,
     "metadata": {},
     "output_type": "execute_result"
    }
   ],
   "source": [
    "dict2 = {'name':'Sara', 'age': 23, 'grades': [87, 92, 65, 98], 'address': {'city':'tehran', 'street':'valiasr', 'zip':12345}}\n",
    "dict2"
   ]
  },
  {
   "cell_type": "markdown",
   "id": "9f6c8b82-5e10-48d7-a733-7099105593bf",
   "metadata": {
    "jp-MarkdownHeadingCollapsed": true,
    "tags": []
   },
   "source": [
    "## 🔸 **Index dictionary by key**"
   ]
  },
  {
   "cell_type": "code",
   "execution_count": 32,
   "id": "9c57da0d-c034-47cf-b72a-a0acf0193212",
   "metadata": {},
   "outputs": [
    {
     "name": "stdout",
     "output_type": "stream",
     "text": [
      "{'key1': 1, 'key2': 2, 'key3': 3}\n"
     ]
    },
    {
     "data": {
      "text/plain": [
       "2"
      ]
     },
     "execution_count": 32,
     "metadata": {},
     "output_type": "execute_result"
    }
   ],
   "source": [
    "dict1 = {'key1':1, 'key2':2, 'key3':3}\n",
    "print(dict1)\n",
    "\n",
    "dict1['key2']"
   ]
  },
  {
   "cell_type": "code",
   "execution_count": 38,
   "id": "29c5179a-6b10-47fa-95b1-40b4c9b8bb13",
   "metadata": {},
   "outputs": [
    {
     "name": "stdout",
     "output_type": "stream",
     "text": [
      "Sara\n",
      "98\n"
     ]
    },
    {
     "data": {
      "text/plain": [
       "'tehran'"
      ]
     },
     "execution_count": 38,
     "metadata": {},
     "output_type": "execute_result"
    }
   ],
   "source": [
    "print(dict2['name'])\n",
    "print(dict2['grades'][-1])\n",
    "dict2['address']['city']"
   ]
  },
  {
   "cell_type": "markdown",
   "id": "236f075a-0403-4800-987a-32325796b8e7",
   "metadata": {
    "jp-MarkdownHeadingCollapsed": true,
    "tags": []
   },
   "source": [
    "### Check if a key exists in a dictionary"
   ]
  },
  {
   "cell_type": "code",
   "execution_count": 42,
   "id": "c0a2cfa0-afa1-418c-b74a-32835dc782f6",
   "metadata": {},
   "outputs": [
    {
     "name": "stdout",
     "output_type": "stream",
     "text": [
      "False\n",
      "True\n",
      "False\n"
     ]
    }
   ],
   "source": [
    "# dict2['Name']\n",
    "print('Name' in dict2)\n",
    "print('name' in dict2)\n",
    "print('city' in dict2)"
   ]
  },
  {
   "cell_type": "markdown",
   "id": "225ac6ce-81c2-44b7-8b43-b0566c299c55",
   "metadata": {
    "jp-MarkdownHeadingCollapsed": true,
    "tags": []
   },
   "source": [
    "## 🔸 **Add a key-value to dictionary**"
   ]
  },
  {
   "cell_type": "code",
   "execution_count": 51,
   "id": "1548fcbe-0cf3-4f6c-8b67-33b292ea6e75",
   "metadata": {},
   "outputs": [
    {
     "name": "stdout",
     "output_type": "stream",
     "text": [
      "{'key1': 1, 'key2': 2, 'key3': 3}\n",
      "{'key1': 1, 'key2': 2, 'key3': 3, 'key4': [1, 2]}\n",
      "{'key1': 1, 'key2': 2, 'key3': 3, 'key4': [1, 2], 2: {'s': 1, 'p': True}}\n"
     ]
    }
   ],
   "source": [
    "dict1 = {'key1':1, 'key2':2, 'key3':3}\n",
    "print(dict1)\n",
    "\n",
    "dict1['key4'] = [1, 2]\n",
    "print(dict1)\n",
    "\n",
    "dict1[2] = {'s':1,  'p':True}\n",
    "print(dict1)"
   ]
  },
  {
   "cell_type": "markdown",
   "id": "f45e271a-80dd-4a54-a112-448d1c9123a2",
   "metadata": {
    "jp-MarkdownHeadingCollapsed": true,
    "tags": []
   },
   "source": [
    "## 🔸 **Change value of a key**"
   ]
  },
  {
   "cell_type": "code",
   "execution_count": 54,
   "id": "79d5387b-647e-4326-a664-c6f56570fbc9",
   "metadata": {},
   "outputs": [
    {
     "name": "stdout",
     "output_type": "stream",
     "text": [
      "{'key1': 1, 'key2': 2, 'key3': 3}\n",
      "{'key1': 10, 'key2': 2, 'key3': 3}\n"
     ]
    }
   ],
   "source": [
    "dict1 = {'key1':1, 'key2':2, 'key3':3}\n",
    "print(dict1)\n",
    "\n",
    "dict1['key1'] = 10\n",
    "print(dict1)"
   ]
  },
  {
   "cell_type": "code",
   "execution_count": 59,
   "id": "dd2cda59-127d-49e8-b780-3239e95dcd78",
   "metadata": {},
   "outputs": [
    {
     "name": "stdout",
     "output_type": "stream",
     "text": [
      "{'name': 'Sara', 'age': 23, 'grades': [87, 92, 65, 98], 'address': {'city': 'tehran', 'street': 'valiasr', 'zip': 12345}}\n",
      "{'name': 'Sara', 'age': 23, 'grades': [87, 92, 105, 98], 'address': {'city': 'tehran', 'street': 'valiasr', 'zip': 12345}}\n"
     ]
    }
   ],
   "source": [
    "dict2 = {'name':'Sara', 'age': 23, 'grades': [87, 92, 65, 98], 'address': {'city':'tehran', 'street':'valiasr', 'zip':12345}}\n",
    "print(dict2)\n",
    "\n",
    "dict2['grades'][2] = 105\n",
    "print(dict2)"
   ]
  },
  {
   "cell_type": "markdown",
   "id": "6c0f7d34-18ea-4e64-9d1e-bf496eb975fc",
   "metadata": {
    "jp-MarkdownHeadingCollapsed": true,
    "tags": []
   },
   "source": [
    "## 🔸 **Dictionary methods**"
   ]
  },
  {
   "cell_type": "markdown",
   "id": "db86df5a-90e6-4126-9aa3-6834217c25a3",
   "metadata": {},
   "source": [
    "<img src=\"../images/dictionary-methods.png\" alt=\"string indexing\" width=450 align=\"center\" />"
   ]
  },
  {
   "cell_type": "code",
   "execution_count": 92,
   "id": "b8095435-d014-46c1-aa21-ce08b9412cf8",
   "metadata": {},
   "outputs": [
    {
     "name": "stdout",
     "output_type": "stream",
     "text": [
      "{'key1': 1, 'key2': 2, 'key3': 3}\n"
     ]
    }
   ],
   "source": [
    "dict1 = {'key1':1, 'key2':2, 'key3':3}\n",
    "print(dict1)"
   ]
  },
  {
   "cell_type": "markdown",
   "id": "1da7892f-d05b-453d-bae9-52b7176d55d6",
   "metadata": {
    "jp-MarkdownHeadingCollapsed": true,
    "tags": []
   },
   "source": [
    "### len"
   ]
  },
  {
   "cell_type": "code",
   "execution_count": 62,
   "id": "d4d0975b-7a18-4b59-87a0-05e3caa87a70",
   "metadata": {},
   "outputs": [
    {
     "data": {
      "text/plain": [
       "3"
      ]
     },
     "execution_count": 62,
     "metadata": {},
     "output_type": "execute_result"
    }
   ],
   "source": [
    "dict1.__len__()\n",
    "len(dict1)"
   ]
  },
  {
   "cell_type": "markdown",
   "id": "3e2329e0-c70f-4b6e-8ebe-6fbe7a79abe5",
   "metadata": {
    "jp-MarkdownHeadingCollapsed": true,
    "tags": []
   },
   "source": [
    "### keys"
   ]
  },
  {
   "cell_type": "code",
   "execution_count": 72,
   "id": "df6f2864-1524-4f32-a74d-750f30d054c1",
   "metadata": {},
   "outputs": [
    {
     "name": "stdout",
     "output_type": "stream",
     "text": [
      "dict_keys(['key1', 'key2', 'key3'])\n",
      "['key1', 'key2', 'key3'] key1\n"
     ]
    }
   ],
   "source": [
    "dict_keys = dict1.keys()\n",
    "print(dict_keys)\n",
    "# dict2.keys()\n",
    "\n",
    "list_keys = list(dict_keys)\n",
    "print(list_keys, list_keys[0])"
   ]
  },
  {
   "cell_type": "markdown",
   "id": "4bb785db-1659-4733-9f71-67b4bd62ab71",
   "metadata": {
    "jp-MarkdownHeadingCollapsed": true,
    "tags": []
   },
   "source": [
    "### values"
   ]
  },
  {
   "cell_type": "code",
   "execution_count": 74,
   "id": "f4658a68-5965-44ba-8fec-109c49d313f4",
   "metadata": {},
   "outputs": [
    {
     "data": {
      "text/plain": [
       "[1, 2, 3]"
      ]
     },
     "execution_count": 74,
     "metadata": {},
     "output_type": "execute_result"
    }
   ],
   "source": [
    "list(dict1.values())"
   ]
  },
  {
   "cell_type": "markdown",
   "id": "b0675740-4329-41a3-8caa-07dd44a2ae53",
   "metadata": {
    "jp-MarkdownHeadingCollapsed": true,
    "tags": []
   },
   "source": [
    "### items"
   ]
  },
  {
   "cell_type": "code",
   "execution_count": 81,
   "id": "715c0def-1d86-413e-bc08-6193f1b234fe",
   "metadata": {},
   "outputs": [
    {
     "name": "stdout",
     "output_type": "stream",
     "text": [
      "dict_items([('key1', 1), ('key2', 2), ('key3', 3)])\n",
      "[('key1', 1), ('key2', 2), ('key3', 3)] ('key1', 1)\n"
     ]
    }
   ],
   "source": [
    "dict_items = dict1.items()\n",
    "print(dict_items)\n",
    "\n",
    "list_items = list(dict_items)\n",
    "print(list_items, list_items[0])"
   ]
  },
  {
   "cell_type": "markdown",
   "id": "6cace8ca-a624-43a4-972c-626fc586f244",
   "metadata": {
    "jp-MarkdownHeadingCollapsed": true,
    "tags": []
   },
   "source": [
    "### get"
   ]
  },
  {
   "cell_type": "code",
   "execution_count": 83,
   "id": "3fe6b0aa-f900-4ff4-a655-acf08447c714",
   "metadata": {},
   "outputs": [
    {
     "data": {
      "text/plain": [
       "{'city': 'tehran', 'street': 'valiasr', 'zip': 12345}"
      ]
     },
     "execution_count": 83,
     "metadata": {},
     "output_type": "execute_result"
    }
   ],
   "source": [
    "dict1.get('key1')\n",
    "dict2.get('address')"
   ]
  },
  {
   "cell_type": "markdown",
   "id": "1473c2a0-8efe-442f-b398-c3e40df201ec",
   "metadata": {
    "jp-MarkdownHeadingCollapsed": true,
    "tags": []
   },
   "source": [
    "### update"
   ]
  },
  {
   "cell_type": "code",
   "execution_count": 95,
   "id": "50d2bda4-c050-4f41-82e9-0de5e53168ba",
   "metadata": {},
   "outputs": [
    {
     "data": {
      "text/plain": [
       "{'key1': 10, 'key2': 20, 'key3': 3, 'key4': 40}"
      ]
     },
     "execution_count": 95,
     "metadata": {},
     "output_type": "execute_result"
    }
   ],
   "source": [
    "dict1.update({'key1':10})\n",
    "dict1\n",
    "\n",
    "dict1.update({'key1':10, 'key2': 20, 'key4':40})\n",
    "dict1"
   ]
  },
  {
   "cell_type": "markdown",
   "id": "e1f65266-003b-4aad-93d4-4888a83cadb3",
   "metadata": {
    "jp-MarkdownHeadingCollapsed": true,
    "tags": []
   },
   "source": [
    "### pop"
   ]
  },
  {
   "cell_type": "code",
   "execution_count": 100,
   "id": "93b7f60f-0cf9-4cef-892f-080bdd03c2cf",
   "metadata": {},
   "outputs": [
    {
     "name": "stdout",
     "output_type": "stream",
     "text": [
      "{'key1': 1, 'key2': 2, 'key3': 3, 'key4': 40}\n"
     ]
    },
    {
     "data": {
      "text/plain": [
       "{'key1': 1, 'key2': 2, 'key3': 3}"
      ]
     },
     "execution_count": 100,
     "metadata": {},
     "output_type": "execute_result"
    }
   ],
   "source": [
    "dict1 = {'key1':1, 'key2':2, 'key3':3, 'key4': 40}\n",
    "print(dict1)\n",
    "\n",
    "dict1.pop('key4')\n",
    "dict1"
   ]
  },
  {
   "cell_type": "markdown",
   "id": "a6bab95d-7eb1-4bb0-adfc-557e1e55b36e",
   "metadata": {
    "jp-MarkdownHeadingCollapsed": true,
    "tags": []
   },
   "source": [
    "### popitem"
   ]
  },
  {
   "cell_type": "code",
   "execution_count": 103,
   "id": "83a6b426-0b7e-4014-991c-ef5e12a718ff",
   "metadata": {},
   "outputs": [
    {
     "name": "stdout",
     "output_type": "stream",
     "text": [
      "{'key1': 1, 'key2': 2, 'key3': 3}\n"
     ]
    },
    {
     "data": {
      "text/plain": [
       "{'key1': 1, 'key2': 2}"
      ]
     },
     "execution_count": 103,
     "metadata": {},
     "output_type": "execute_result"
    }
   ],
   "source": [
    "dict1 = {'key1':1, 'key2':2, 'key3':3}\n",
    "print(dict1)\n",
    "\n",
    "dict1.popitem()\n",
    "dict1"
   ]
  },
  {
   "cell_type": "markdown",
   "id": "4bbcab2a-0ad8-4ddc-b153-74533cd7c232",
   "metadata": {
    "jp-MarkdownHeadingCollapsed": true,
    "tags": []
   },
   "source": [
    "### clear"
   ]
  },
  {
   "cell_type": "code",
   "execution_count": 105,
   "id": "3ec0f156-8f8d-408f-8d42-fc2bb08c083b",
   "metadata": {},
   "outputs": [
    {
     "name": "stdout",
     "output_type": "stream",
     "text": [
      "{'key1': 1, 'key2': 2, 'key3': 3}\n",
      "{}\n"
     ]
    },
    {
     "data": {
      "text/plain": [
       "{}"
      ]
     },
     "execution_count": 105,
     "metadata": {},
     "output_type": "execute_result"
    }
   ],
   "source": [
    "dict1 = {'key1':1, 'key2':2, 'key3':3}\n",
    "print(dict1)\n",
    "\n",
    "dict1.clear()\n",
    "print(dict1)\n",
    "\n",
    "dict3 = {}\n",
    "dict4 = dict()\n",
    "dict4"
   ]
  },
  {
   "cell_type": "markdown",
   "id": "9b01c41f-0cd9-48f7-bdad-f1eaa7f725d3",
   "metadata": {
    "jp-MarkdownHeadingCollapsed": true,
    "tags": []
   },
   "source": [
    "### fromkeys"
   ]
  },
  {
   "cell_type": "code",
   "execution_count": 109,
   "id": "56bca5d9-c271-4486-913e-e17d81b19681",
   "metadata": {
    "tags": []
   },
   "outputs": [
    {
     "name": "stdout",
     "output_type": "stream",
     "text": [
      "{'key1': 1, 'key2': 1, 'key3': 1}\n"
     ]
    },
    {
     "data": {
      "text/plain": [
       "{'key1': 1, 'key2': 1, 'key3': 1}"
      ]
     },
     "execution_count": 109,
     "metadata": {},
     "output_type": "execute_result"
    }
   ],
   "source": [
    "dict1 = {'key1':1, 'key2':1, 'key3':1}\n",
    "print(dict1)\n",
    "\n",
    "dict5 = dict.fromkeys(['key1', 'key2', 'key3'], 1)\n",
    "dict5"
   ]
  },
  {
   "cell_type": "markdown",
   "id": "cd1d9454-77b4-4bfe-ad31-c45404a7a091",
   "metadata": {
    "jp-MarkdownHeadingCollapsed": true,
    "tags": []
   },
   "source": [
    "### copy"
   ]
  },
  {
   "cell_type": "code",
   "execution_count": 110,
   "id": "04702887-5848-4e2a-b26e-4c7694576d1e",
   "metadata": {
    "tags": []
   },
   "outputs": [
    {
     "name": "stdout",
     "output_type": "stream",
     "text": [
      "{'key1': 1, 'key2': 2, 'key3': 3}\n",
      "{'key1': -1, 'key2': 2, 'key3': 3}\n",
      "{'key1': -1, 'key2': 2, 'key3': 3}\n"
     ]
    }
   ],
   "source": [
    "dict1 = {'key1':1, 'key2':2, 'key3':3}\n",
    "print(dict1)\n",
    "\n",
    "dict_copy = dict1\n",
    "dict1['key1'] = -1\n",
    "\n",
    "print(dict1)\n",
    "print(dict_copy)"
   ]
  },
  {
   "cell_type": "code",
   "execution_count": 112,
   "id": "e2409c2a-72c9-475f-978a-91ac8fa3822e",
   "metadata": {},
   "outputs": [
    {
     "name": "stdout",
     "output_type": "stream",
     "text": [
      "{'key1': 1, 'key2': 2, 'key3': 3}\n",
      "{'key1': -1, 'key2': 2, 'key3': 3}\n",
      "{'key1': 1, 'key2': 2, 'key3': 3}\n"
     ]
    }
   ],
   "source": [
    "dict1 = {'key1':1, 'key2':2, 'key3':3}\n",
    "print(dict1)\n",
    "\n",
    "dict_copy = dict1.copy()\n",
    "dict1['key1'] = -1\n",
    "\n",
    "print(dict1)\n",
    "print(dict_copy)"
   ]
  },
  {
   "cell_type": "markdown",
   "id": "5bde6af0-42dc-4036-9886-7535c063cf42",
   "metadata": {
    "jp-MarkdownHeadingCollapsed": true,
    "tags": []
   },
   "source": [
    "## 🔸 **loop dictionary**"
   ]
  },
  {
   "cell_type": "code",
   "execution_count": 115,
   "id": "952cf3a9-49fe-4964-bff7-1be0a131a8f3",
   "metadata": {},
   "outputs": [
    {
     "name": "stdout",
     "output_type": "stream",
     "text": [
      "{'key1': 1, 'key2': 2, 'key3': 3}\n"
     ]
    }
   ],
   "source": [
    "dict1 = {'key1':1, 'key2':2, 'key3':3}\n",
    "print(dict1)"
   ]
  },
  {
   "cell_type": "code",
   "execution_count": 116,
   "id": "db24631d-e53f-4af2-b5d6-acaf07657d9c",
   "metadata": {},
   "outputs": [
    {
     "name": "stdout",
     "output_type": "stream",
     "text": [
      "key1\n",
      "key2\n",
      "key3\n"
     ]
    }
   ],
   "source": [
    "for i in dict1:\n",
    "    print(i)"
   ]
  },
  {
   "cell_type": "code",
   "execution_count": 117,
   "id": "42af98d9-b3ce-4cc4-a0ed-9998e9b07fa0",
   "metadata": {},
   "outputs": [
    {
     "name": "stdout",
     "output_type": "stream",
     "text": [
      "key1 --> 1\n",
      "key2 --> 2\n",
      "key3 --> 3\n"
     ]
    }
   ],
   "source": [
    "for key in dict1:\n",
    "    print(key, '-->', dict1[key])"
   ]
  },
  {
   "cell_type": "code",
   "execution_count": 120,
   "id": "bc5c1560-0ab1-4415-8384-e8b0634edf56",
   "metadata": {},
   "outputs": [
    {
     "name": "stdout",
     "output_type": "stream",
     "text": [
      "key1 --> 1\n",
      "key2 --> 2\n",
      "key3 --> 3\n"
     ]
    },
    {
     "data": {
      "text/plain": [
       "[['key1', 1], ['key2', 2], ['key3', 3]]"
      ]
     },
     "execution_count": 120,
     "metadata": {},
     "output_type": "execute_result"
    }
   ],
   "source": [
    "for key, value in dict1.items():\n",
    "    print(key, '-->', value)\n",
    "    \n",
    "[[key, value] for key, value in dict1.items()]"
   ]
  },
  {
   "cell_type": "code",
   "execution_count": 130,
   "id": "88f53fe1-1650-4bfd-b4ac-bd1bd702da9d",
   "metadata": {},
   "outputs": [
    {
     "name": "stdout",
     "output_type": "stream",
     "text": [
      "[['key1', 1], ['key2', 2], ['key3', 3]]\n",
      "1\n",
      "{'key1': 1, 'key2': 2, 'key3': 3}\n"
     ]
    }
   ],
   "source": [
    "list_items = [[key, value] for key, value in dict1.items()]\n",
    "print(list_items)\n",
    "\n",
    "print(list_items[0][1])\n",
    "\n",
    "dict_new = {item[0]:item[1] for item in list_items}\n",
    "print(dict_new)"
   ]
  },
  {
   "cell_type": "markdown",
   "id": "8ddf17f4-ab5a-4014-b395-b3561a262bf3",
   "metadata": {
    "jp-MarkdownHeadingCollapsed": true,
    "tags": []
   },
   "source": [
    "## 🔸 **Dictionary characteristics**"
   ]
  },
  {
   "cell_type": "markdown",
   "id": "87ae612b-8526-4ea2-b684-881efe9bcaa3",
   "metadata": {
    "id": "JidMUw0w4KyP",
    "jp-MarkdownHeadingCollapsed": true,
    "tags": []
   },
   "source": [
    "### 1. Dictionaries are unordered"
   ]
  },
  {
   "cell_type": "markdown",
   "id": "4ca4feb4-5ce2-40fb-9c09-6d8b666577d9",
   "metadata": {
    "jp-MarkdownHeadingCollapsed": true,
    "tags": []
   },
   "source": [
    "### 2. Dictionaries items are accessed by key"
   ]
  },
  {
   "cell_type": "code",
   "execution_count": 131,
   "id": "8588f875-e542-4bd4-a53b-e28338556cb6",
   "metadata": {},
   "outputs": [
    {
     "name": "stdout",
     "output_type": "stream",
     "text": [
      "{'key1': 1, 'key2': 2, 'key3': 3}\n"
     ]
    },
    {
     "data": {
      "text/plain": [
       "1"
      ]
     },
     "execution_count": 131,
     "metadata": {},
     "output_type": "execute_result"
    }
   ],
   "source": [
    "dict1 = {'key1':1, 'key2':2, 'key3':3}\n",
    "print(dict1)\n",
    "\n",
    "dict1['key1']"
   ]
  },
  {
   "cell_type": "markdown",
   "id": "9d699edf-d54e-428b-bee7-c0409f4061c3",
   "metadata": {
    "jp-MarkdownHeadingCollapsed": true,
    "tags": []
   },
   "source": [
    "### 3. Dictionaries are dynamic"
   ]
  },
  {
   "cell_type": "code",
   "execution_count": 132,
   "id": "a2c70f86-a044-4f31-917f-1496426cda67",
   "metadata": {},
   "outputs": [
    {
     "name": "stdout",
     "output_type": "stream",
     "text": [
      "{'key1': 1, 'key2': 2, 'key3': 3}\n"
     ]
    },
    {
     "data": {
      "text/plain": [
       "{'key1': 1, 'key2': 2, 'key3': 3, 'new_key': 20}"
      ]
     },
     "execution_count": 132,
     "metadata": {},
     "output_type": "execute_result"
    }
   ],
   "source": [
    "dict1 = {'key1':1, 'key2':2, 'key3':3}\n",
    "print(dict1)\n",
    "\n",
    "dict1.update({'new_key': 20})\n",
    "dict1"
   ]
  },
  {
   "cell_type": "markdown",
   "id": "01d8a241-d5c0-4f6d-ba44-488737af9b9d",
   "metadata": {
    "jp-MarkdownHeadingCollapsed": true,
    "tags": []
   },
   "source": [
    "### 4. Dictionaries are heterogeneous"
   ]
  },
  {
   "cell_type": "code",
   "execution_count": 133,
   "id": "eb13279a-9ec4-4652-af46-7055a3782d35",
   "metadata": {},
   "outputs": [
    {
     "data": {
      "text/plain": [
       "{2: [1, 2], 'key': 2}"
      ]
     },
     "execution_count": 133,
     "metadata": {},
     "output_type": "execute_result"
    }
   ],
   "source": [
    "{2:[1, 2], 'key':2}"
   ]
  },
  {
   "cell_type": "markdown",
   "id": "00451c53-8178-4421-8d33-bff0e1150f1c",
   "metadata": {
    "jp-MarkdownHeadingCollapsed": true,
    "tags": []
   },
   "source": [
    "### 5. Dictionaries are nestable"
   ]
  },
  {
   "cell_type": "code",
   "execution_count": 134,
   "id": "fe5743d7-4232-4d62-8602-41301c175511",
   "metadata": {},
   "outputs": [
    {
     "data": {
      "text/plain": [
       "{'key': {'key1': 20}}"
      ]
     },
     "execution_count": 134,
     "metadata": {},
     "output_type": "execute_result"
    }
   ],
   "source": [
    "{'key': {'key1': 20}}"
   ]
  },
  {
   "cell_type": "markdown",
   "id": "c3d16e72-e908-48c5-8516-75e5a4994c37",
   "metadata": {
    "jp-MarkdownHeadingCollapsed": true,
    "tags": []
   },
   "source": [
    "### 6. Dictionaries are mutable"
   ]
  },
  {
   "cell_type": "code",
   "execution_count": 135,
   "id": "d96d4f95-16f3-4c04-9177-2142133b1194",
   "metadata": {},
   "outputs": [
    {
     "name": "stdout",
     "output_type": "stream",
     "text": [
      "{'key1': 1, 'key2': 2, 'key3': 3}\n"
     ]
    },
    {
     "data": {
      "text/plain": [
       "{'key1': 10, 'key2': 2, 'key3': 3}"
      ]
     },
     "execution_count": 135,
     "metadata": {},
     "output_type": "execute_result"
    }
   ],
   "source": [
    "dict1 = {'key1':1, 'key2':2, 'key3':3}\n",
    "print(dict1)\n",
    "\n",
    "dict1['key1'] = 10\n",
    "dict1"
   ]
  },
  {
   "cell_type": "markdown",
   "id": "a911218e-cf76-423a-acc4-de3719ce88ed",
   "metadata": {
    "jp-MarkdownHeadingCollapsed": true,
    "tags": []
   },
   "source": [
    "## **✍️ Example 1: Compute overall score**"
   ]
  },
  {
   "cell_type": "markdown",
   "id": "c5f29f5e-bd00-44d5-8310-40d22985e95a",
   "metadata": {},
   "source": [
    "<img src=\"../images/dictionary-example2.png\" alt=\"string indexing\" width=650 align=\"center\" />"
   ]
  },
  {
   "cell_type": "code",
   "execution_count": 149,
   "id": "18ca6523-0980-4293-bf8d-abcf41cf1759",
   "metadata": {},
   "outputs": [
    {
     "data": {
      "text/plain": [
       "{'sara': 89.0, 'emily:': 98.66666666666667, 'ann': 93.66666666666667}"
      ]
     },
     "execution_count": 149,
     "metadata": {},
     "output_type": "execute_result"
    }
   ],
   "source": [
    "scores = {'sara': [87, 89, 91],\n",
    "          'emily:': [98, 100, 98],\n",
    "          'ann': [95, 97, 89]}\n",
    "\n",
    "overall_scores = dict.fromkeys(scores.keys(), 0)\n",
    "\n",
    "for key, value in scores.items():\n",
    "    s = 0\n",
    "    for v in value:\n",
    "        s += v\n",
    "    overall_scores[key] = s / len(value)\n",
    "print(overall_scores)"
   ]
  },
  {
   "cell_type": "code",
   "execution_count": 150,
   "id": "37dc7ea1-f1ec-408d-9f5e-8135b1edd4b4",
   "metadata": {},
   "outputs": [
    {
     "name": "stdout",
     "output_type": "stream",
     "text": [
      "{'sara': 89.0, 'emily:': 98.66666666666667, 'ann': 93.66666666666667}\n"
     ]
    }
   ],
   "source": [
    "overall_scores = dict.fromkeys(scores.keys(), 0)\n",
    "\n",
    "for key, value in scores.items():\n",
    "    overall_scores[key] = sum(value) / len(value)\n",
    "print(overall_scores)"
   ]
  },
  {
   "cell_type": "markdown",
   "id": "d87b0cdb-94a8-47cc-bbce-ad1205648370",
   "metadata": {
    "jp-MarkdownHeadingCollapsed": true,
    "tags": []
   },
   "source": [
    "## **✍️ Example 2: Count items of a list**"
   ]
  },
  {
   "cell_type": "markdown",
   "id": "78e97b9f-0380-4c38-b75e-e7a15cafec76",
   "metadata": {},
   "source": [
    "<img src=\"../images/dictionary-example.png\" alt=\"string indexing\" width=650 align=\"center\" />"
   ]
  },
  {
   "cell_type": "code",
   "execution_count": 156,
   "id": "0d1697ca-bc42-401b-aa38-685cdb7325f5",
   "metadata": {},
   "outputs": [
    {
     "name": "stdout",
     "output_type": "stream",
     "text": [
      "5\n",
      "6\n",
      "2\n",
      "2\n",
      "7\n",
      "4\n",
      "5\n",
      "5\n",
      "6\n",
      "9\n",
      "7\n",
      "2\n"
     ]
    }
   ],
   "source": [
    "my_list = [5, 6, 2, 2 ,7, 4, 5, 5, 6, 9, 7, 2]\n",
    "\n",
    "my_dict = {}\n",
    "for item in my_list:\n",
    "    my_dict[item] = my_list.count(item)\n",
    "my_dict\n",
    "\n",
    "for item in my_list:\n",
    "    print(item)"
   ]
  },
  {
   "cell_type": "markdown",
   "id": "d46ab82e-9eb2-464c-9f4b-78b7cc5da180",
   "metadata": {
    "jp-MarkdownHeadingCollapsed": true,
    "tags": []
   },
   "source": [
    "## **✍️ Example 3: Most populated country**"
   ]
  },
  {
   "cell_type": "markdown",
   "id": "cc54d898-1829-4ff4-b079-738280ab24ab",
   "metadata": {},
   "source": [
    "<img src=\"../images/dictionary-example3.png\" alt=\"string indexing\" width=650 align=\"center\" />"
   ]
  },
  {
   "cell_type": "code",
   "execution_count": 158,
   "id": "e8d72cfa-c4ef-46a3-bdea-47ef77a689a0",
   "metadata": {},
   "outputs": [],
   "source": [
    "countries = {'Tajikistan': 9537645,\n",
    "             'Singapore': 5850342,\n",
    "             'Iceland': 341243,\n",
    "             'Vietnam': 97338579,\n",
    "             'Turkey': 84339067,\n",
    "             'China': 1439323776}"
   ]
  },
  {
   "cell_type": "code",
   "execution_count": 169,
   "id": "773a3b6b-4441-4458-ab69-7316d1b1cc97",
   "metadata": {},
   "outputs": [
    {
     "name": "stdout",
     "output_type": "stream",
     "text": [
      "Vietnam --> 97338579\n",
      "China --> 1439323776\n",
      "--------------------\n",
      "Vietnam --> 97338579\n",
      "China --> 1439323776\n"
     ]
    }
   ],
   "source": [
    "pops = list(countries.values())\n",
    "\n",
    "pops.sort(reverse=True)\n",
    "\n",
    "rank1 = pops[0]\n",
    "rank2 = pops[1]\n",
    "\n",
    "for key, value in countries.items():\n",
    "    if value == rank1 or value == rank2:\n",
    "        print(key, '-->', value)\n",
    "\n",
    "print('-'*20)\n",
    "        \n",
    "for key, value in countries.items():\n",
    "    if value in [rank1, rank2]:\n",
    "        print(key, '-->', value)"
   ]
  }
 ],
 "metadata": {
  "kernelspec": {
   "display_name": "Python 3 (ipykernel)",
   "language": "python",
   "name": "python3"
  },
  "language_info": {
   "codemirror_mode": {
    "name": "ipython",
    "version": 3
   },
   "file_extension": ".py",
   "mimetype": "text/x-python",
   "name": "python",
   "nbconvert_exporter": "python",
   "pygments_lexer": "ipython3",
   "version": "3.9.12"
  }
 },
 "nbformat": 4,
 "nbformat_minor": 5
}
