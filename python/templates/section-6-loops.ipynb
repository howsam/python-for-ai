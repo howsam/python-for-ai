{
 "cells": [
  {
   "cell_type": "markdown",
   "id": "352040ee-56bd-4e5d-bd9b-73e7b43a49de",
   "metadata": {
    "id": "-eY5YTudUYkh",
    "tags": []
   },
   "source": [
    "# <font color='#FFE15D'>**Section 6: Loops** ➰</font>"
   ]
  },
  {
   "cell_type": "markdown",
   "id": "ddd59530-0aba-49f3-a437-753e0d3c9e83",
   "metadata": {},
   "source": [
    "<img src=\"../images/arrows.png\" alt=\"string indexing\" width=150 align=\"center\" />"
   ]
  },
  {
   "cell_type": "markdown",
   "id": "cb2aa1ec-d88f-4b3a-a032-8eaaed5913b0",
   "metadata": {
    "id": "y7wJBq3RUhkS",
    "jp-MarkdownHeadingCollapsed": true,
    "tags": []
   },
   "source": [
    "## 🔸 **for loop**"
   ]
  },
  {
   "cell_type": "markdown",
   "id": "baeca37b-3901-4372-96d8-ff0c2982579e",
   "metadata": {},
   "source": [
    "<img src=\"../images/for.png\" alt=\"string indexing\" width=350 align=\"center\" />"
   ]
  },
  {
   "cell_type": "code",
   "execution_count": null,
   "id": "a3a6a62c-5adf-4e94-8035-e3b1390fea33",
   "metadata": {
    "colab": {
     "base_uri": "https://localhost:8080/"
    },
    "id": "yVKwkD77U_EQ",
    "outputId": "5aa247ca-c6ad-4676-c590-77285fea0b3b"
   },
   "outputs": [],
   "source": [
    "for x in [1, 2, 3, 4, 5]:\n",
    "    print(x, end='  ')"
   ]
  },
  {
   "cell_type": "markdown",
   "id": "2aa0716c-32a9-4852-b460-ae35400a13c0",
   "metadata": {
    "jp-MarkdownHeadingCollapsed": true,
    "tags": []
   },
   "source": [
    "### Loop in a `list` with different types"
   ]
  },
  {
   "cell_type": "code",
   "execution_count": null,
   "id": "35a3974f-7145-4de6-84cf-57ff911e4935",
   "metadata": {
    "colab": {
     "base_uri": "https://localhost:8080/"
    },
    "id": "yVKwkD77U_EQ",
    "outputId": "5aa247ca-c6ad-4676-c590-77285fea0b3b"
   },
   "outputs": [],
   "source": [
    "a = ['salam', True, 3, 4, 5]\n"
   ]
  },
  {
   "cell_type": "markdown",
   "id": "80d2ac34-5a12-4bcc-af76-fcab4ee6b879",
   "metadata": {
    "jp-MarkdownHeadingCollapsed": true,
    "tags": []
   },
   "source": [
    "### Loop using `range`"
   ]
  },
  {
   "cell_type": "code",
   "execution_count": null,
   "id": "cf6f078e-ce10-460b-bbbf-066a5ff4bdfe",
   "metadata": {
    "id": "fxSu6iH3Vulw"
   },
   "outputs": [],
   "source": []
  },
  {
   "cell_type": "markdown",
   "id": "bdaf50ce-1ff7-48c3-b51a-430a3cd2f366",
   "metadata": {
    "jp-MarkdownHeadingCollapsed": true,
    "tags": []
   },
   "source": [
    "### Loop over `str`"
   ]
  },
  {
   "cell_type": "code",
   "execution_count": null,
   "id": "8417e650-6bf9-43db-9fca-270984afaee2",
   "metadata": {},
   "outputs": [],
   "source": []
  },
  {
   "cell_type": "markdown",
   "id": "4f3e9a53-562b-4d5e-986e-09cf3e517fa4",
   "metadata": {
    "jp-MarkdownHeadingCollapsed": true,
    "tags": []
   },
   "source": [
    "### Debug"
   ]
  },
  {
   "cell_type": "code",
   "execution_count": null,
   "id": "a527ee97-4605-451c-b727-6e76cce33e30",
   "metadata": {},
   "outputs": [],
   "source": [
    "for y in range(12):\n",
    "      print(y)"
   ]
  },
  {
   "cell_type": "markdown",
   "id": "11b97a19-de1e-43e2-b51b-89edddec9ac5",
   "metadata": {
    "jp-MarkdownHeadingCollapsed": true,
    "tags": []
   },
   "source": [
    "## 🔸 **Advanced forms of for loop**"
   ]
  },
  {
   "cell_type": "markdown",
   "id": "ec7d8f32-efd7-4499-b694-e98b7e729b72",
   "metadata": {
    "jp-MarkdownHeadingCollapsed": true,
    "tags": []
   },
   "source": [
    "### Nested loops"
   ]
  },
  {
   "cell_type": "code",
   "execution_count": null,
   "id": "c0fe588b-9db3-4cf3-9531-96dcc7927648",
   "metadata": {},
   "outputs": [],
   "source": [
    "mat = [[1, 2, 3], \n",
    "       [4, 5, 6], \n",
    "       [7, 8, 9]]"
   ]
  },
  {
   "cell_type": "code",
   "execution_count": null,
   "id": "d0f2a442-1832-433b-88c1-ce36774fd799",
   "metadata": {},
   "outputs": [],
   "source": []
  },
  {
   "cell_type": "code",
   "execution_count": null,
   "id": "0e325939-59aa-4576-9a51-fc8d6c9887a3",
   "metadata": {},
   "outputs": [],
   "source": []
  },
  {
   "cell_type": "markdown",
   "id": "91b346ed-4229-4106-bc9e-4d52352dcf10",
   "metadata": {
    "jp-MarkdownHeadingCollapsed": true,
    "tags": []
   },
   "source": [
    "### for & if"
   ]
  },
  {
   "cell_type": "markdown",
   "id": "03b91ba0-0f03-4f32-bbbe-9154ced24ec7",
   "metadata": {
    "jp-MarkdownHeadingCollapsed": true,
    "tags": []
   },
   "source": [
    "Print even numbers less than $30$"
   ]
  },
  {
   "cell_type": "code",
   "execution_count": null,
   "id": "443e6f46-8846-4f81-a3c3-2fd2196592b7",
   "metadata": {
    "colab": {
     "base_uri": "https://localhost:8080/"
    },
    "id": "EzVoLSWaW-F9",
    "outputId": "f778016f-3172-4905-aaf3-a79efbaded19"
   },
   "outputs": [],
   "source": []
  },
  {
   "cell_type": "markdown",
   "id": "b6ebff3a-84bb-485d-8212-cacc690a2f97",
   "metadata": {
    "jp-MarkdownHeadingCollapsed": true,
    "tags": []
   },
   "source": [
    "### for loop in complex lists"
   ]
  },
  {
   "cell_type": "code",
   "execution_count": null,
   "id": "c7673b53-7292-4796-a7cc-914785e15927",
   "metadata": {},
   "outputs": [],
   "source": [
    "mat = [['Ali', 20, 0], ['Hanieh', 19], ['Mahsa', 20, 0], ['Shahin', 18, 1]]\n",
    "\n"
   ]
  },
  {
   "cell_type": "markdown",
   "id": "4f32db3c-5f08-496a-8cb0-42d53a545d5b",
   "metadata": {
    "jp-MarkdownHeadingCollapsed": true,
    "tags": []
   },
   "source": [
    "## 🔸 **for loop in one line**"
   ]
  },
  {
   "cell_type": "markdown",
   "id": "bcfbfdd2-0f40-4125-b169-0f5fe219ba86",
   "metadata": {},
   "source": [
    "<img src=\"../images/for.png\" alt=\"string indexing\" width=350 align=\"center\" />"
   ]
  },
  {
   "cell_type": "markdown",
   "id": "3c84a369-17a5-4822-a53a-95573e6b5519",
   "metadata": {},
   "source": [
    "<img src=\"../images/for-one-line.png\" alt=\"string indexing\" width=450 align=\"center\" />"
   ]
  },
  {
   "cell_type": "code",
   "execution_count": null,
   "id": "198a2cd7-dd22-4c84-9cd3-cb654f555970",
   "metadata": {},
   "outputs": [],
   "source": []
  },
  {
   "cell_type": "markdown",
   "id": "7dd25c66-7fb6-4c90-9480-e6bd649abf62",
   "metadata": {
    "jp-MarkdownHeadingCollapsed": true,
    "tags": []
   },
   "source": [
    "### Add $1$ to each item in `list`"
   ]
  },
  {
   "cell_type": "code",
   "execution_count": null,
   "id": "1cecb643-6b69-423a-b862-98a1f2657bdd",
   "metadata": {},
   "outputs": [],
   "source": [
    "numbers = [5, 2, 4, 6, 7, 2, 3]\n"
   ]
  },
  {
   "cell_type": "markdown",
   "id": "af53becf-5344-400d-bbc8-c6fd882ca6b7",
   "metadata": {
    "jp-MarkdownHeadingCollapsed": true,
    "tags": []
   },
   "source": [
    "### Create a list with even numbers"
   ]
  },
  {
   "cell_type": "code",
   "execution_count": null,
   "id": "55c9b154-a539-4b80-b83e-f13eac54f47d",
   "metadata": {},
   "outputs": [],
   "source": []
  },
  {
   "cell_type": "markdown",
   "id": "5228609d-65e8-4008-b2e5-67626885b0ac",
   "metadata": {
    "id": "zwc-EbQqagVr",
    "jp-MarkdownHeadingCollapsed": true,
    "tags": []
   },
   "source": [
    "## 🔸 **while loop**"
   ]
  },
  {
   "cell_type": "markdown",
   "id": "d0cf7aa7-e105-4bc6-a731-e0474172fa16",
   "metadata": {},
   "source": [
    "<img src=\"../images/while.png\" alt=\"string indexing\" width=280 align=\"center\" />"
   ]
  },
  {
   "cell_type": "markdown",
   "id": "9f76f3cb-8cb4-4475-9370-d307cda3f33e",
   "metadata": {
    "jp-MarkdownHeadingCollapsed": true,
    "tags": []
   },
   "source": [
    "### print numbers less than $10$"
   ]
  },
  {
   "cell_type": "code",
   "execution_count": null,
   "id": "d80cac10-7e0f-4b70-bba8-f0d01d34fb8c",
   "metadata": {
    "colab": {
     "base_uri": "https://localhost:8080/"
    },
    "id": "tSygM0qWaiJ-",
    "outputId": "bee0b72a-1b41-463d-c121-d15f40bb3a96"
   },
   "outputs": [],
   "source": [
    "num = 0\n",
    "while num <= 10:\n",
    "    print(num, end=' ')\n",
    "    num += 0.5"
   ]
  },
  {
   "cell_type": "markdown",
   "id": "37a54af2-6e7a-45c4-846c-451ea678a150",
   "metadata": {
    "jp-MarkdownHeadingCollapsed": true,
    "tags": []
   },
   "source": [
    "### factorial"
   ]
  },
  {
   "cell_type": "code",
   "execution_count": null,
   "id": "fbefe026-e0d7-4ca7-8cd2-bb949d195866",
   "metadata": {
    "colab": {
     "base_uri": "https://localhost:8080/"
    },
    "id": "aHpJJWPybiCj",
    "outputId": "4fdb0c56-5401-4b3e-9bdd-2646530ca9a7"
   },
   "outputs": [],
   "source": []
  },
  {
   "cell_type": "code",
   "execution_count": null,
   "id": "8eed97e4-ff6e-4b23-a1b8-31d371a9bcab",
   "metadata": {},
   "outputs": [],
   "source": []
  },
  {
   "cell_type": "markdown",
   "id": "7fcc923c-4581-488b-af3c-748704e7fad3",
   "metadata": {
    "jp-MarkdownHeadingCollapsed": true,
    "tags": []
   },
   "source": [
    "## 🔸 **break**"
   ]
  },
  {
   "cell_type": "code",
   "execution_count": null,
   "id": "dbe27a53-646c-41bd-819e-ebb87a5bd95a",
   "metadata": {},
   "outputs": [],
   "source": []
  },
  {
   "cell_type": "markdown",
   "id": "a40e11b7-beb5-43dc-a92a-8e803afe38ca",
   "metadata": {
    "jp-MarkdownHeadingCollapsed": true,
    "tags": []
   },
   "source": [
    "### check if $-1$ exists in `list`"
   ]
  },
  {
   "cell_type": "code",
   "execution_count": null,
   "id": "b5ac5f99-9d87-4eb3-8653-8bbbaa2aa803",
   "metadata": {},
   "outputs": [],
   "source": [
    "a = [10, 4, 9, 1, 2, -1, 7, 5, 16, 14]\n"
   ]
  },
  {
   "cell_type": "markdown",
   "id": "5a4f695a-0509-4bca-a0a8-93c821df599e",
   "metadata": {
    "jp-MarkdownHeadingCollapsed": true,
    "tags": []
   },
   "source": [
    "## 🔸 **continue**"
   ]
  },
  {
   "cell_type": "code",
   "execution_count": null,
   "id": "157a4956",
   "metadata": {},
   "outputs": [],
   "source": []
  },
  {
   "cell_type": "markdown",
   "id": "b3b436af-457d-465a-8b08-7d7712b0dcc3",
   "metadata": {
    "tags": []
   },
   "source": [
    "### Print items of `list10` except $12$"
   ]
  },
  {
   "cell_type": "code",
   "execution_count": null,
   "id": "c758cc75-e002-48bf-a097-4cebc2815bf5",
   "metadata": {},
   "outputs": [],
   "source": [
    "a = [10, 4, 9, 1, 2, 12, 7, 5, 16, 14]\n"
   ]
  },
  {
   "cell_type": "markdown",
   "id": "8fab1681-03da-46ea-9247-9b15deae4017",
   "metadata": {
    "id": "rb1dy-lucz58",
    "jp-MarkdownHeadingCollapsed": true,
    "tags": []
   },
   "source": [
    "## **✍️ Example 1: Hop game**"
   ]
  },
  {
   "cell_type": "markdown",
   "id": "f7a69cc6-b4a4-44fe-bb58-cf7e8bb91fba",
   "metadata": {},
   "source": [
    "<img src=\"../images/loop-example-1.png\" alt=\"string indexing\" width=700 align=\"center\" />"
   ]
  },
  {
   "cell_type": "code",
   "execution_count": null,
   "id": "f26aa7c3-6e68-4002-8699-63e56b72f88b",
   "metadata": {
    "id": "yTB3RLzqc3yE"
   },
   "outputs": [],
   "source": []
  },
  {
   "cell_type": "markdown",
   "id": "df1df14d-dccc-4ba4-a5c4-e89a719a04a7",
   "metadata": {
    "id": "rb1dy-lucz58",
    "jp-MarkdownHeadingCollapsed": true,
    "tags": []
   },
   "source": [
    "## **✍️ Example 2: Fibonacci series**"
   ]
  },
  {
   "cell_type": "markdown",
   "id": "0f44c315-e4f9-4a91-828e-dced20bac57f",
   "metadata": {},
   "source": [
    "<img src=\"../images/loop-example-2.png\" alt=\"string indexing\" width=700 align=\"center\" />"
   ]
  },
  {
   "cell_type": "code",
   "execution_count": null,
   "id": "f23d8139-634b-4cf5-88cb-8e4b3f930898",
   "metadata": {
    "colab": {
     "base_uri": "https://localhost:8080/"
    },
    "id": "3mgUYl94dvNE",
    "outputId": "360230f2-1e21-4cd5-cdae-2147b06e68a0"
   },
   "outputs": [],
   "source": []
  },
  {
   "cell_type": "code",
   "execution_count": null,
   "id": "914db637-1085-43b1-8502-53c3e415ad4f",
   "metadata": {},
   "outputs": [],
   "source": []
  },
  {
   "cell_type": "markdown",
   "id": "797bbdf8-59f2-4194-87ef-e2f69b9dbe3b",
   "metadata": {
    "id": "rb1dy-lucz58",
    "jp-MarkdownHeadingCollapsed": true,
    "tags": []
   },
   "source": [
    "## **✍️ Example 3: Count without `count`!**"
   ]
  },
  {
   "cell_type": "markdown",
   "id": "4007b2dc-8d67-4773-bacd-44f255faba44",
   "metadata": {},
   "source": [
    "<img src=\"../images/loop-example-3.png\" alt=\"string indexing\" width=700 align=\"center\" />"
   ]
  },
  {
   "cell_type": "code",
   "execution_count": null,
   "id": "c62103cd-598d-4e32-80fa-91bc75a1d3ef",
   "metadata": {
    "tags": []
   },
   "outputs": [],
   "source": []
  }
 ],
 "metadata": {
  "kernelspec": {
   "display_name": "Python 3 (ipykernel)",
   "language": "python",
   "name": "python3"
  },
  "language_info": {
   "codemirror_mode": {
    "name": "ipython",
    "version": 3
   },
   "file_extension": ".py",
   "mimetype": "text/x-python",
   "name": "python",
   "nbconvert_exporter": "python",
   "pygments_lexer": "ipython3",
   "version": "3.9.15"
  }
 },
 "nbformat": 4,
 "nbformat_minor": 5
}
