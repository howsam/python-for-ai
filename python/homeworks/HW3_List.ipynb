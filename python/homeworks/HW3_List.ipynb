{
 "cells": [
  {
   "cell_type": "markdown",
   "metadata": {},
   "source": [
    "<div style=\"text-align:center; font-family:samim; font-size:30px;\"><strong> آشنایی با لیست</strong></div>   \n",
    "<br>\n",
    "<p style=\"text-align:center; font-family:samim; font-size:20px;\">تمرین سری سوم</p> \n",
    "<br>\n",
    "</p>"
   ]
  },
  {
   "cell_type": "markdown",
   "metadata": {},
   "source": [
    "<p style='direction:rtl;text-align:right;font-size:17px;font-family:samim;line-height:1.5;'>\n",
    "    با احترام، در این سلسله تمرین‌های آموزشی \"پایتون برای هوش مصنوعی با هوسم\"، ما از شما دعوت می‌کنیم که با یک روند گام به گام، به تدریج پیشرفت کنید. این مسیر ممکن است زمان‌بر باشد، پس صبور باشید و به راهنمایی‌ها و راهکارهایی که از تجربه ما در ارتباط با دانشجویان مختلف بدست آمده است، اعتماد کنید. برای حل مسائل، لطفا به نکاتی که در ادامه آورده‌ایم توجه کنید. امیدواریم شاهد پیشرفت‌های چشمگیر شما در این مسیر باشیم. موفق و پیروز باشید!\n",
    "    </p>\n",
    "<br>\n",
    "<div style=\"font-family: samim; font-size: 14px; text-align: right; direction: rtl;\">\n",
    "    <strong>تمرکز بر روی مسئله:</strong> قبل از هر چیز، هر سوال را دقیقاً بخوانید و به آن فکر کنید. این اولین گام برای حل مسئله است.\n",
    "    <br>\n",
    "    <br>\n",
    "    <strong>استفاده از کاغذ:</strong> اگر نیاز باشد، مسئله را روی کاغذ بیان کرده و به آن فکر کنید. گاهی این کار می‌تواند به روشن شدن مسئله و حل بهتر آن کمک کند.\n",
    "    <br>\n",
    "    <br>\n",
    "    <strong>شروع به کدنویسی:</strong> حتماً دست‌های خود را روی کیبورد قرار دهید و شروع به کدنویسی کنید. این تجربه می‌تواند بهترین راه برای پیشروی در حل مسئله باشد.\n",
    "    <br>\n",
    "    <br>\n",
    "    <strong>استفاده متناسب از منابع:</strong> سعی کنید بدون استفاده از ابزارهای کمکی نظیر چت یا جی پی تی، به تلاش و تفکر خود اعتماد کنید. این امکان را به شما می‌دهد تا مهارت‌های خود را بهبود ببخشید.\n",
    "    <br>\n",
    "    <br>\n",
    "    <strong>راهنمایی و ارزیابی:</strong> اگر پس از تلاش، به نتیجه نرسیدید، راهنمایی‌ها و راه‌حل‌های ارائه شده را مطالعه کرده و دوباره به حل مسئله بپردازید.\n",
    "    <br>\n",
    "    <br>\n",
    "    <strong>مبتنی بر محتوا:</strong> سعی کنید با توجه به مباحثی که در ویدیوآموزش هر فصل آموخته‌اید، به سوالات پاسخ دهید و از دستورات جدید خودداری کنید. این به شما کمک می‌کند تا گام به گام و با پیشرفت مرحله‌ای، مسائل را حل کنید.\n",
    "    <br>\n",
    "    <br>\n",
    "    <strong>متنوع بودن راه‌حل‌ها:</strong> به یاد داشته باشید که برای هر سوال، روش‌های مختلفی وجود دارد. راه‌حل ارائه شده فقط یکی از راه‌حل‌های ممکن است و شما می‌توانید روش‌های خود را نیز بررسی کنید.\n",
    "</div>\n"
   ]
  },
  {
   "cell_type": "markdown",
   "metadata": {},
   "source": [
    "<h2 style='direction:rtl;text-align:right;font-family:samim;'><b>🔸 تمرین ۱</b></h2>"
   ]
  },
  {
   "cell_type": "markdown",
   "metadata": {},
   "source": [
    "<p style='direction:rtl;text-align:right;font-size:18px;font-family:samim;line-height:1.5;'>\n",
    "   یک متغیر از نوع رشته تعریف کنید، سپس تایپ این متغیر را به لیست تغییر دهید. سپس نوع آن را به رشته تغییر دهید. آیا خروجی همان متغیر ابتدایی است؟\n",
    "</p>"
   ]
  },
  {
   "cell_type": "code",
   "execution_count": null,
   "metadata": {},
   "outputs": [],
   "source": []
  },
  {
   "cell_type": "markdown",
   "metadata": {},
   "source": [
    "<h4 style='direction:rtl;text-align:right;font-size:18px;font-family:samim;'>راهنمایی</h4>"
   ]
  },
  {
   "cell_type": "markdown",
   "metadata": {},
   "source": [
    "<p style='direction:rtl;text-align:right;font-size:16px;font-family:samim;'>\n",
    "برای تبدیل از list  و str کمک بگیرید.\n",
    "</p>"
   ]
  },
  {
   "cell_type": "markdown",
   "metadata": {},
   "source": [
    "<h4 style='direction:rtl;text-align:right;font-size:18px;font-family:samim;'>جواب</h4>"
   ]
  },
  {
   "cell_type": "code",
   "execution_count": 1,
   "metadata": {},
   "outputs": [
    {
     "name": "stdout",
     "output_type": "stream",
     "text": [
      "sajad\n",
      "['s', 'a', 'j', 'a', 'd']\n",
      "['s', 'a', 'j', 'a', 'd']\n"
     ]
    }
   ],
   "source": [
    "str_val_1 = \"sajad\"\n",
    "print(str_val_1)\n",
    "\n",
    "list_val = list(str_val_1)\n",
    "print(list_val)\n",
    "\n",
    "str_val_2 = str(list_val)\n",
    "print(str_val_2)\n"
   ]
  },
  {
   "cell_type": "markdown",
   "metadata": {},
   "source": [
    "<h2 style='direction:rtl;text-align:right;font-family:samim;'><b>🔸 تمرین ۲</b></h2>"
   ]
  },
  {
   "cell_type": "markdown",
   "metadata": {},
   "source": [
    "<p style='direction:rtl;text-align:right;font-size:18px;font-family:samim;'>\n",
    "    لیست زیر را در نظر بگیرید.\n",
    "    \n",
    "<br>\n",
    "<br>\n",
    "\n",
    "<p style='direction:rtl;text-align:center;font-size:18px;font-family:samim;'>\n",
    " $$list2 = [[12,[True,[]],[1],16,'howsam',['salam']]] $$ \n",
    "    \n",
    "<br>\n",
    "<p style='direction:rtl;text-align:right;font-size:18px;font-family:samim;'>    \n",
    "    الف) بدون کدنویسی تعداد المان‌های لیست  را بشمارید.\n",
    "<br>\n",
    "<br>\n",
    "<p style='direction:rtl;text-align:right;font-size:18px;font-family:samim;'>    \n",
    "ب) المان آخر کدام است؟\n",
    "<br>\n",
    "<br>\n",
    "<p style='direction:rtl;text-align:right;font-size:18px;font-family:samim;'>    \n",
    "ج) چگونه می‌توانیم به المان لیست خالی  دسترسی داشته باشیم؟\n",
    "<br>\n",
    "<br> \n",
    "<p style='direction:rtl;text-align:right;font-size:18px;font-family:samim;'>    \n",
    "د) حرف m  را از المان 'howsam' استخراج کنید.\n",
    "<br>\n",
    "<br>\n",
    "<p style='direction:rtl;text-align:right;font-size:18px;font-family:samim;'>    \n",
    "ه) المان ['salam'] را با کلمه 'hi' جایگزین کنید.\n",
    "\n",
    "</p>"
   ]
  },
  {
   "cell_type": "code",
   "execution_count": null,
   "metadata": {},
   "outputs": [],
   "source": []
  },
  {
   "cell_type": "markdown",
   "metadata": {},
   "source": [
    "<h4 style='direction:rtl;text-align:right;font-size:18px;font-family:samim;'>راهنمایی</h4>"
   ]
  },
  {
   "cell_type": "markdown",
   "metadata": {},
   "source": [
    "<p style='direction:rtl;text-align:right;font-size:16px;font-family:samim;'>\n",
    "    الف) برای شمارش تعداد المان‌های یک لیست از تابع \n",
    "    `len` استفاده کنید.\n",
    "<br>\n",
    "   ب) برای دسترسی به آخرین عنصر یک لیست از اندیس -1 استفاده کنید.\n",
    "<br>   \n",
    "    ج) برای دسترسی به یک لیست خالی درون لیست اصلی، از اندیس داخلی استفاده کنید.\n",
    "<br>  \n",
    "    د) از اندیس برای دسترسی به المان مورد نظر استفاده کنید.\n",
    "<br>   \n",
    "    ه) برای جایگزین کردن یک المان از اندیس استفاده کنید.\n",
    "\n",
    "</p>"
   ]
  },
  {
   "cell_type": "markdown",
   "metadata": {},
   "source": [
    "<h4 style='direction:rtl;text-align:right;font-size:18px;font-family:samim;'>جواب</h4>"
   ]
  },
  {
   "cell_type": "code",
   "execution_count": 2,
   "metadata": {},
   "outputs": [
    {
     "name": "stdout",
     "output_type": "stream",
     "text": [
      "1\n",
      "[12, [True, []], [1], 16, 'howsam', ['salam']]\n",
      "[]\n",
      "m\n",
      "[[12, [True, []], [1], 16, 'howsam', ['hi']]]\n"
     ]
    }
   ],
   "source": [
    "list2 = [[12,[True,[]],[1],16,'howsam',['salam']]]\n",
    "\n",
    "#num_element = 1\n",
    "print(len(list2))\n",
    "\n",
    "last_elm = list2 [-1]\n",
    "print(last_elm)\n",
    "\n",
    "print(list2[0][1][1])\n",
    "\n",
    "print(list2[0][-2][-1])\n",
    "\n",
    "list2[0][-1][-1] = 'hi'\n",
    "print(list2)"
   ]
  },
  {
   "cell_type": "markdown",
   "metadata": {},
   "source": [
    "<h2 style='direction:rtl;text-align:right;font-family:samim;'><b>🔸 تمرین ۳</b></h2>"
   ]
  },
  {
   "cell_type": "markdown",
   "metadata": {},
   "source": [
    "<p style='direction:rtl;text-align:right;font-size:18px;font-family:samim;line-height:1.5;'>\n",
    " بدون استفاده از دستور کپی،  لیست b  را که دقیقا مشابه لیست a  هست  را با دو روش بگونه‌ای بسازید که اگر المانی از  b را تغییر دادیم،  a ثابت بماند.\n",
    "    \n",
    "<br>\n",
    "<br>    \n",
    "\n",
    "<p style='direction:rtl;text-align:center;font-size:18px;font-family:samim;'>\n",
    "$$a = [12,15,19]$$\n",
    "</p>"
   ]
  },
  {
   "cell_type": "code",
   "execution_count": null,
   "metadata": {},
   "outputs": [],
   "source": []
  },
  {
   "cell_type": "markdown",
   "metadata": {},
   "source": [
    "<h4 style='direction:rtl;text-align:right;font-size:18px;font-family:samim;'>راهنمایی</h4>"
   ]
  },
  {
   "cell_type": "markdown",
   "metadata": {},
   "source": [
    "<p style='direction:rtl;text-align:right;font-size:16px;font-family:samim;'>\n",
    "روش اول، استفاده از خود تابع list و روش دوم با اسلاسینگ\n",
    "</p>"
   ]
  },
  {
   "cell_type": "markdown",
   "metadata": {},
   "source": [
    "<h4 style='direction:rtl;text-align:right;font-size:18px;font-family:samim;'>جواب</h4>"
   ]
  },
  {
   "cell_type": "code",
   "execution_count": 1,
   "metadata": {},
   "outputs": [
    {
     "name": "stdout",
     "output_type": "stream",
     "text": [
      "[12, 15, 19] [12, 15, 19]\n",
      "[12, 15, 19] [5, 15, 19]\n"
     ]
    }
   ],
   "source": [
    "a = [12, 15, 19]\n",
    "#روش اول استفاده از تابع لیست\n",
    "b = list(a)\n",
    "print(a,b)\n",
    "\n",
    "#حالا اگر المانی را تغییر دهیم می بینیم که لیست اولیه ثابت می ماند\n",
    "b[0]=5\n",
    "print(a , b)\n"
   ]
  },
  {
   "cell_type": "code",
   "execution_count": 3,
   "metadata": {},
   "outputs": [
    {
     "name": "stdout",
     "output_type": "stream",
     "text": [
      "[90, 15, 19] [12, 15, 19]\n"
     ]
    }
   ],
   "source": [
    "#روش دوم استفاده از تعریف\n",
    "b1 = a[:]\n",
    "b1[0] = 90\n",
    "print(b1, a)"
   ]
  },
  {
   "cell_type": "markdown",
   "metadata": {},
   "source": [
    "<h2 style='direction:rtl;text-align:right;font-family:samim;'><b>🔸 تمرین ۴</b></h2>"
   ]
  },
  {
   "cell_type": "markdown",
   "metadata": {},
   "source": [
    "<p style='direction:rtl;text-align:right;font-size:18px;font-family:samim;'>\n",
    "   با استفاده از دو دستور جمع و تقسیم، میانگین اعداد در لیست زیر را چاپ کنید.\n",
    "<p style='direction:rtl;text-align:center;font-size:18px;font-family:samim;'>\n",
    "<br>\n",
    "$$a = [4,8,2,10,15,18]$$\n",
    "</p>"
   ]
  },
  {
   "cell_type": "code",
   "execution_count": null,
   "metadata": {},
   "outputs": [],
   "source": []
  },
  {
   "cell_type": "markdown",
   "metadata": {},
   "source": [
    "<h4 style='direction:rtl;text-align:right;font-size:18px;font-family:samim;'>راهنمایی</h4>"
   ]
  },
  {
   "cell_type": "markdown",
   "metadata": {},
   "source": [
    "<p style='direction:rtl;text-align:right;font-size:16px;font-family:samim;'>\n",
    "از طریق اندیس‌دهی المان‌ها را با هم جمع کنید. از توابعی که هنوز یاد نگرفتید استفاده نکنید.\n",
    "</p>"
   ]
  },
  {
   "cell_type": "markdown",
   "metadata": {},
   "source": [
    "<h4 style='direction:rtl;text-align:right;font-size:18px;font-family:samim;'>جواب</h4>"
   ]
  },
  {
   "cell_type": "code",
   "execution_count": 24,
   "metadata": {},
   "outputs": [
    {
     "name": "stdout",
     "output_type": "stream",
     "text": [
      "57\n",
      "9.5\n"
     ]
    }
   ],
   "source": [
    "a = [4, 8, 2, 10, 15, 18]\n",
    "\n",
    "total = a[0]+a[1]+a[2]+a[3]+a[4]+a[-1]\n",
    "print(total)\n",
    "\n",
    "mean = total/len(a)\n",
    "print(mean)"
   ]
  },
  {
   "cell_type": "markdown",
   "metadata": {},
   "source": [
    "<h2 style='direction:rtl;text-align:right;font-family:samim;'><b>🔸 تمرین ۵</b></h2>"
   ]
  },
  {
   "cell_type": "markdown",
   "metadata": {},
   "source": [
    "<p style='direction:rtl;text-align:right;font-size:18px;font-family:samim;'>\n",
    "  ماتریس زیر را تعریف کنید.\n",
    "<br> \n",
    "<p style='direction:rtl;text-align:center;font-size:18px;font-family:samim;'>\n",
    "$\n",
    "\\begin{pmatrix}\n",
    "1  &  2  &  3 & 4\\\\\\ \n",
    "5  &  6  &  7 & 8\\\\\\\n",
    "9  & 10  & 11 & 12\\\\\\\n",
    "13 & 14  & 15 & 16\\\\\\\n",
    "\\end{pmatrix}\n",
    "$\n",
    "<p style='direction:rtl;text-align:center;font-size:18px;font-family:samim;'>\n",
    "\n",
    "<p style='direction:rtl;text-align:right;font-size:18px;font-family:samim;'>\n",
    "  الف) با استفاده از اندیس دهی و اسلایسینگ، [9,12] را استخراج کنید.\n",
    "<br> \n",
    "<br>\n",
    "ب) با استفاده از اندیس دهی و اسلایسینگ آرایه‌های [14,16] را با مقادیر ایندکس‌های زوج ردیف اول پر کنید.\n",
    "  \n",
    "</p>"
   ]
  },
  {
   "cell_type": "code",
   "execution_count": null,
   "metadata": {},
   "outputs": [],
   "source": []
  },
  {
   "cell_type": "markdown",
   "metadata": {},
   "source": [
    "<h4 style='direction:rtl;text-align:right;font-size:18px;font-family:samim;'>راهنمایی</h4>"
   ]
  },
  {
   "cell_type": "markdown",
   "metadata": {},
   "source": [
    "<p style='direction:rtl;text-align:right;font-size:16px;font-family:samim;'>\n",
    "اندیس‌دهی و اسلاسینگ با گام درست را بکار ببرید.\n",
    "</p>"
   ]
  },
  {
   "cell_type": "markdown",
   "metadata": {},
   "source": [
    "<h4 style='direction:rtl;text-align:right;font-size:18px;font-family:samim;'>جواب</h4>"
   ]
  },
  {
   "cell_type": "code",
   "execution_count": 4,
   "metadata": {},
   "outputs": [
    {
     "name": "stdout",
     "output_type": "stream",
     "text": [
      "[[1, 2, 3, 4], [5, 6, 7, 8], [9, 10, 11, 12], [13, 14, 15, 16]]\n",
      "[9, 12]\n",
      "[[1, 2, 3, 4], [5, 6, 7, 8], [9, 10, 11, 12], [13, 1, 15, 3]]\n"
     ]
    }
   ],
   "source": [
    "mat = [[1, 2, 3, 4],\n",
    "       [5, 6, 7, 8],\n",
    "       [9, 10, 11, 12],\n",
    "       [13, 14, 15, 16]]\n",
    "\n",
    "print(mat)\n",
    "\n",
    "result = mat[2][0::3]\n",
    "print(result)\n",
    "\n",
    "\n",
    "mat[-1][1::2] = mat[0][0::2]\n",
    "print(mat)"
   ]
  },
  {
   "cell_type": "markdown",
   "metadata": {},
   "source": [
    "<h2 style='direction:rtl;text-align:right;font-family:samim;'><b>🔸 تمرین ۶</b></h2>"
   ]
  },
  {
   "cell_type": "markdown",
   "metadata": {},
   "source": [
    "<p style='direction:rtl;text-align:right;font-size:18px;font-family:samim;'>\n",
    "با در نظر گرفتن ماتریس تمرین قبل، مراحل زیر را به ترتیب اجرا کنید.\n",
    "<br>\n",
    "<br>     \n",
    "الف) به ماتریس،‌ یک ردیف با همان مقادیر ردیف اول اضافه کنید.\n",
    "<br>\n",
    "<br>     \n",
    " توجه: از متدها استفاده کنید. ماتریس خروجی باید ۴*۵ باشد.\n",
    "<br>\n",
    "<br>     \n",
    "ب)در ماتریس بدست آمده ردیف سومی را با همان مقادیر ردیف اول اضافه کنید.\n",
    "<br>\n",
    "<br>     \n",
    "توجه: از متدها استفاده کنید. ماتریس خروجی باید ۴*۶ باشد.\n",
    "<br> \n",
    "<br>     \n",
    "ج) ردیف اول را از ماتریس بدست آمده حذف کنید.\n",
    "<br>\n",
    "<br>     \n",
    " توجه: از متدها استفاده کنید. ماتریس خروجی باید ۴*۵ باشد.\n",
    "\n",
    "</p>"
   ]
  },
  {
   "cell_type": "code",
   "execution_count": null,
   "metadata": {},
   "outputs": [],
   "source": []
  },
  {
   "cell_type": "markdown",
   "metadata": {},
   "source": [
    "<h4 style='direction:rtl;text-align:right;font-size:18px;font-family:samim;'>راهنمایی</h4>"
   ]
  },
  {
   "cell_type": "markdown",
   "metadata": {},
   "source": [
    "<p style='direction:rtl;text-align:right;font-size:16px;font-family:samim;'>\n",
    "از متدهایی نظیر append و insert و remove کمک بگیرید.\n",
    "</p>"
   ]
  },
  {
   "cell_type": "markdown",
   "metadata": {},
   "source": [
    "<h4 style='direction:rtl;text-align:right;font-size:18px;font-family:samim;'>جواب</h4>"
   ]
  },
  {
   "cell_type": "code",
   "execution_count": 5,
   "metadata": {},
   "outputs": [
    {
     "name": "stdout",
     "output_type": "stream",
     "text": [
      "[[1, 2, 3, 4], [5, 6, 7, 8], [9, 10, 11, 12], [13, 14, 15, 16], [1, 2, 3, 4]]\n",
      "[[1, 2, 3, 4], [5, 6, 7, 8], [1, 2, 3, 4], [9, 10, 11, 12], [13, 14, 15, 16], [1, 2, 3, 4]]\n",
      "[[5, 6, 7, 8], [1, 2, 3, 4], [9, 10, 11, 12], [13, 14, 15, 16], [1, 2, 3, 4]]\n"
     ]
    }
   ],
   "source": [
    "mat = [[1, 2, 3, 4],\n",
    "       [5, 6, 7, 8],\n",
    "       [9, 10, 11, 12],\n",
    "       [13, 14, 15, 16]]\n",
    "\n",
    "mat.append(mat[0])\n",
    "print(mat)\n",
    "\n",
    "mat.insert(2,mat[0])\n",
    "print(mat)\n",
    "\n",
    "mat.remove(mat[0])\n",
    "print(mat)"
   ]
  },
  {
   "cell_type": "markdown",
   "metadata": {},
   "source": [
    "<h2 style='direction:rtl;text-align:right;font-family:samim;'><b>🔸 تمرین ۷</b></h2>"
   ]
  },
  {
   "cell_type": "markdown",
   "metadata": {},
   "source": [
    "<p style='direction:rtl;text-align:right;font-size:18px;font-family:samim;'>\n",
    "    لیست زیر را در نظر بگیرید:\n",
    "<p style='direction:rtl;text-align:center;font-size:18px;font-family:samim;'>    \n",
    "$$list1 = [\"apple\",\"banana\",\"cherry\"]$$\n",
    "<br>\n",
    "<br>\n",
    "<p style='direction:rtl;text-align:right;font-size:18px;font-family:samim;'>    \n",
    "المان دوم را با جایگزین کردن آن با دو مقدار جدید[\"𝑏𝑙𝑎𝑐𝑘𝑐𝑢𝑟𝑟𝑎𝑛𝑡\",\"𝑤𝑎𝑡𝑒𝑟𝑚𝑒𝑙𝑜𝑛\"] تغییر دهید.    \n",
    "</p>"
   ]
  },
  {
   "cell_type": "code",
   "execution_count": null,
   "metadata": {},
   "outputs": [],
   "source": []
  },
  {
   "cell_type": "markdown",
   "metadata": {},
   "source": [
    "<h4 style='direction:rtl;text-align:right;font-size:18px;font-family:samim;'>راهنمایی</h4>"
   ]
  },
  {
   "cell_type": "markdown",
   "metadata": {},
   "source": [
    "<p style='direction:rtl;text-align:right;font-size:16px;font-family:samim;'>\n",
    "استفاده از اندیس لیست برای دسترسی به المان‌ها و جایگزین کردن آن‌ها با مقادیر جدید\n",
    "</p>"
   ]
  },
  {
   "cell_type": "markdown",
   "metadata": {},
   "source": [
    "<h4 style='direction:rtl;text-align:right;font-size:18px;font-family:samim;'>جواب</h4>"
   ]
  },
  {
   "cell_type": "code",
   "execution_count": 6,
   "metadata": {},
   "outputs": [
    {
     "name": "stdout",
     "output_type": "stream",
     "text": [
      "['apple', 'blackcurrant', 'watermelon', 'cherry']\n"
     ]
    }
   ],
   "source": [
    "list1 = [\"apple\", \"banana\", \"cherry\"]\n",
    "\n",
    "list1[1:2] = [\"blackcurrant\", \"watermelon\"]\n",
    "\n",
    "print(list1)"
   ]
  },
  {
   "cell_type": "markdown",
   "metadata": {},
   "source": [
    "<h2 style='direction:rtl;text-align:right;font-family:samim;'><b>🔸 تمرین ۸</b></h2>"
   ]
  },
  {
   "cell_type": "markdown",
   "metadata": {},
   "source": [
    "<p style='direction:rtl;text-align:right;font-size:18px;font-family:samim;'>\n",
    "  لیستی از اسامی دانش‌آموزان یک کلاس را داریم می‌خواهیم اسامی را بر اساس حروف الفبا از آخر به اول مرتب کنیم.\n",
    "<br>    \n",
    "<p style='direction:rtl;text-align:center;font-size:18px;font-family:samim;'>  \n",
    "$$name_{list} = ['sahar','elham','amir','sajad','ali']$$ \n",
    "<p style='direction:rtl;text-align:right;font-size:18px;font-family:samim;'>    \n",
    "سپس بررسی کنید که مرتب نمودن اسامی نسبت به حروف بزرگ و کوچک حساس است یا خیر.    \n",
    "</p>"
   ]
  },
  {
   "cell_type": "code",
   "execution_count": null,
   "metadata": {},
   "outputs": [],
   "source": []
  },
  {
   "cell_type": "markdown",
   "metadata": {},
   "source": [
    "<h4 style='direction:rtl;text-align:right;font-size:18px;font-family:samim;'>راهنمایی</h4>"
   ]
  },
  {
   "cell_type": "markdown",
   "metadata": {},
   "source": [
    "<p style='direction:rtl;text-align:right;font-size:16px;font-family:samim;'>\n",
    "از دستور sorted استفاده کنید.\n",
    "</p>"
   ]
  },
  {
   "cell_type": "markdown",
   "metadata": {},
   "source": [
    "<h4 style='direction:rtl;text-align:right;font-size:18px;font-family:samim;'>جواب</h4>"
   ]
  },
  {
   "cell_type": "code",
   "execution_count": 8,
   "metadata": {},
   "outputs": [
    {
     "name": "stdout",
     "output_type": "stream",
     "text": [
      "['sajad', 'sahar', 'elham', 'amir', 'ali']\n",
      "['sahar', 'ali', 'Sajad', 'Elham', 'Amir']\n"
     ]
    }
   ],
   "source": [
    "name_list = ['sahar', 'elham', 'amir', 'sajad', 'ali']\n",
    "\n",
    "sorted_names = sorted(name_list, reverse=True)\n",
    "\n",
    "print(sorted_names)\n",
    "\n",
    "#بررسی حساس بودن به حروف کوچ و بزرگ\n",
    "name_list_2 = ['sahar', 'Elham', 'Amir', 'Sajad', 'ali']\n",
    "\n",
    "sorted_names_2 = sorted(name_list_2, reverse=True)\n",
    "print(sorted_names_2)"
   ]
  },
  {
   "cell_type": "markdown",
   "metadata": {},
   "source": [
    "<h2 style='direction:rtl;text-align:right;font-family:samim;'><b>🔸 تمرین ۹</b></h2>"
   ]
  },
  {
   "cell_type": "markdown",
   "metadata": {},
   "source": [
    "<p style='direction:rtl;text-align:right;font-size:18px;font-family:samim;line-height:1.5;'>\n",
    "بدون استفاده از متغیر کمکی، اولین و آخرین المان لیست زیر را با هم جا به جا کنید:\n",
    "<br>    \n",
    "<p style='direction:rtl;text-align:center;font-size:18px;font-family:samim;'>  \n",
    "$$Input∶ ['apple' ,'orange' ,'kiwi' ,'lemon']$$\n",
    "<p style='direction:rtl;text-align:center;font-size:18px;font-family:samim;'>    \n",
    "$$Output∶ ['lemon','orange','kiwi','apple']$$   \n",
    "</p>\n",
    "</p>"
   ]
  },
  {
   "cell_type": "code",
   "execution_count": null,
   "metadata": {},
   "outputs": [],
   "source": []
  },
  {
   "cell_type": "markdown",
   "metadata": {},
   "source": [
    "<h4 style='direction:rtl;text-align:right;font-size:18px;font-family:samim;'>راهنمایی</h4>"
   ]
  },
  {
   "cell_type": "markdown",
   "metadata": {},
   "source": [
    "<p style='direction:rtl;text-align:right;font-size:16px;font-family:samim;'>\n",
    "جابه‌جایی المان‌ها با شماره اندیس\n",
    "</p>"
   ]
  },
  {
   "cell_type": "markdown",
   "metadata": {},
   "source": [
    "<h4 style='direction:rtl;text-align:right;font-size:18px;font-family:samim;'>جواب</h4>"
   ]
  },
  {
   "cell_type": "code",
   "execution_count": 25,
   "metadata": {},
   "outputs": [
    {
     "name": "stdout",
     "output_type": "stream",
     "text": [
      "['lemon', 'orange', 'kiwi', 'apple']\n"
     ]
    }
   ],
   "source": [
    "Input = ['apple','orange','kiwi','lemon']\n",
    "\n",
    "Input[0] , Input[-1] =  Input[-1] , Input[0]\n",
    "\n",
    "print(Input)"
   ]
  },
  {
   "cell_type": "markdown",
   "metadata": {},
   "source": [
    "<h2 style='direction:rtl;text-align:right;font-family:samim;'><b>🔸 تمرین ۱۰</b></h2>"
   ]
  },
  {
   "cell_type": "markdown",
   "metadata": {},
   "source": [
    "<p style='direction:rtl;text-align:right;font-size:18px;font-family:samim;'>\n",
    "  بدون انجام کد نویسی حدس می‌زنید که خروجی متغیر  list2  برابر با  کدام گزینه است؟\n",
    "<p style='direction:rtl;text-align:center;font-size:18px;font-family:samim;'>\n",
    "<br>    \n",
    "$$list1 = [1,2,3]$$ \n",
    "<p style='direction:rtl;text-align:center;font-size:18px;font-family:samim;'>\n",
    "<br>    \n",
    "$$list2 = list1*0$$  \n",
    "<p style='direction:rtl;text-align:right;font-size:18px;font-family:samim;'>    \n",
    "الف) [0,0,0]     ب) []     ج) [0]     د) [1,2,3]    \n",
    "</p>"
   ]
  },
  {
   "cell_type": "code",
   "execution_count": null,
   "metadata": {},
   "outputs": [],
   "source": []
  },
  {
   "cell_type": "markdown",
   "metadata": {},
   "source": [
    "<h4 style='direction:rtl;text-align:right;font-size:18px;font-family:samim;'>جواب</h4>"
   ]
  },
  {
   "cell_type": "code",
   "execution_count": 9,
   "metadata": {},
   "outputs": [
    {
     "name": "stdout",
     "output_type": "stream",
     "text": [
      "[]\n"
     ]
    }
   ],
   "source": [
    "list1 = [1, 2, 3]\n",
    "\n",
    "list2 = list1*0\n",
    "\n",
    "print(list2)"
   ]
  },
  {
   "cell_type": "markdown",
   "metadata": {},
   "source": [
    "<h2 style='direction:rtl;text-align:right;font-family:samim;'><b>🔸 تمرین ۱۱</b></h2>"
   ]
  },
  {
   "cell_type": "markdown",
   "metadata": {},
   "source": [
    "<p style='direction:rtl;text-align:right;font-size:18px;font-family:samim;'>\n",
    "   لیست زیر را در متغیری به نام my_list ذخیره کنید:\n",
    "<p style='direction:rtl;text-align:center;font-size:18px;font-family:samim;'>    \n",
    "$$[[2],[0],[1,3],[0,7],[9,11],[13,15,17]]$$\n",
    "    \n",
    "<p style='direction:rtl;text-align:right;font-size:18px;font-family:samim;'>     \n",
    "الف) مقادیر [13,15,17] را از  my_list استخراج کرده، مقادیر را از بزرگ به کوچک مرتب نموده و سپس آنرا به my_list بازگردانید.\n",
    "<br> \n",
    "    \n",
    "<p style='direction:rtl;text-align:right;font-size:18px;font-family:samim;'>   \n",
    "ب) دو المان آخر از لیست my_list را جمع کرده و در ابتدای my_list اضافه کنید.   \n",
    "</p>"
   ]
  },
  {
   "cell_type": "code",
   "execution_count": null,
   "metadata": {},
   "outputs": [],
   "source": []
  },
  {
   "cell_type": "markdown",
   "metadata": {},
   "source": [
    "<h4 style='direction:rtl;text-align:right;font-size:18px;font-family:samim;'>راهنمایی</h4>"
   ]
  },
  {
   "cell_type": "markdown",
   "metadata": {},
   "source": [
    "<p style='direction:rtl;text-align:right;font-size:16px;font-family:samim;'>\n",
    "از اندیس‌دهی و متد sort استفاده کنید.\n",
    "</p>"
   ]
  },
  {
   "cell_type": "markdown",
   "metadata": {},
   "source": [
    "<h4 style='direction:rtl;text-align:right;font-size:18px;font-family:samim;'>جواب</h4>"
   ]
  },
  {
   "cell_type": "code",
   "execution_count": 10,
   "metadata": {},
   "outputs": [
    {
     "name": "stdout",
     "output_type": "stream",
     "text": [
      "[[2], [0], [1, 3], [0, 7], [9, 11], [17, 15, 13]]\n"
     ]
    }
   ],
   "source": [
    "my_list = [[2],[0],[1,3],[0,7],[9,11],[13,15,17]]\n",
    "\n",
    "\n",
    "extracted_list = my_list[-1]\n",
    "\n",
    "\n",
    "extracted_list.sort(reverse=True)\n",
    "\n",
    "\n",
    "my_list[-1] = extracted_list\n",
    "\n",
    "print(my_list)"
   ]
  },
  {
   "cell_type": "code",
   "execution_count": 11,
   "metadata": {},
   "outputs": [
    {
     "name": "stdout",
     "output_type": "stream",
     "text": [
      "[[9, 11, 17, 15, 13], [2], [0], [1, 3], [0, 7], [9, 11], [17, 15, 13]]\n"
     ]
    }
   ],
   "source": [
    "sum_of_last_two_lists = my_list[-2] + my_list[-1]\n",
    "\n",
    "\n",
    "my_list.insert(0, sum_of_last_two_lists)\n",
    "\n",
    "print(my_list)"
   ]
  },
  {
   "cell_type": "markdown",
   "metadata": {},
   "source": [
    "<h2 style='direction:rtl;text-align:right;font-family:samim;'><b>🔸 تمرین ۱۲</b></h2>"
   ]
  },
  {
   "cell_type": "markdown",
   "metadata": {},
   "source": [
    "<p style='direction:rtl;text-align:right;font-size:18px;font-family:samim;line-height:1.5;'>\n",
    "   در لیست زیر با استفاده از اندیس دهی ’ d ’ را استخراج کنید.\n",
    "<p style='direction:rtl;text-align:center;font-size:18px;font-family:samim;'>\n",
    "$$list1 = ['a','b',['c',['d','e',['f','g'],'k'],'l'],'m','n']$$\n",
    "<br>\n",
    "<br>\n",
    "<p style='direction:rtl;text-align:right;font-size:18px;font-family:samim;line-height:1.5;'>    \n",
    "همچنین با استفاده از اسلایسینگ لیست ['m','n'] را استخراج کنید.\n",
    "</p>"
   ]
  },
  {
   "cell_type": "code",
   "execution_count": null,
   "metadata": {},
   "outputs": [],
   "source": []
  },
  {
   "cell_type": "markdown",
   "metadata": {},
   "source": [
    "<h4 style='direction:rtl;text-align:right;font-size:18px;font-family:samim;'>راهنمایی</h4>"
   ]
  },
  {
   "cell_type": "markdown",
   "metadata": {},
   "source": [
    "<p style='direction:rtl;text-align:right;font-size:16px;font-family:samim;'>\n",
    "اندیس‌دهی و اسلایسینگ با گام درست را بکار ببرید.\n",
    "</p>"
   ]
  },
  {
   "cell_type": "markdown",
   "metadata": {},
   "source": [
    "<h4 style='direction:rtl;text-align:right;font-size:18px;font-family:samim;'>جواب</h4>"
   ]
  },
  {
   "cell_type": "code",
   "execution_count": 12,
   "metadata": {},
   "outputs": [
    {
     "name": "stdout",
     "output_type": "stream",
     "text": [
      "d\n",
      "['m', 'n']\n"
     ]
    }
   ],
   "source": [
    "list1 = ['a','b',['c',['d','e',['f','g'],'k'],'l'],'m','n']\n",
    "\n",
    "ext_idx = list1[2][1][0]\n",
    "print(ext_idx)\n",
    "\n",
    "ext_elms = list1[-2::]\n",
    "print(ext_elms)"
   ]
  },
  {
   "cell_type": "markdown",
   "metadata": {},
   "source": [
    "<h2 style='direction:rtl;text-align:right;font-family:samim;'><b>🔸 تمرین ۱۳</b></h2>"
   ]
  },
  {
   "cell_type": "markdown",
   "metadata": {},
   "source": [
    "<p style='direction:rtl;text-align:right;font-size:18px;font-family:samim;'>\n",
    "   بدون کدنویسی پایتون بگویید کدام یک از تعاریف زیر برای لیست درست است؟ چرا؟\n",
    "<br>    \n",
    "<p style='direction:rtl;text-align:left;font-size:18px;font-family:samim;'>\n",
    " a) [1,3,4,2]\n",
    "<br>    \n",
    "<p style='direction:rtl;text-align:left;font-size:18px;font-family:samim;'>\n",
    "b) [[1,2,3],[4,5,6]]\n",
    "<br>  \n",
    "<p style='direction:rtl;text-align:left;font-size:18px;font-family:samim;'>    \n",
    "c) [1+2,6*5,3]       \n",
    "</p>"
   ]
  },
  {
   "cell_type": "markdown",
   "metadata": {},
   "source": [
    "<p style='direction:rtl;text-align:right;font-size:18px;font-family:samim;line-height:1.5;'>\n",
    "لیست در پایتون می‌تواند المان‌های مختلفی از هر نوع داشته باشد، از جمله اعداد، رشته‌ها، لیست‌ها و ... بنابراین تمام تعاریف بالا برای لیست درست هستند\n",
    "</p>"
   ]
  },
  {
   "cell_type": "code",
   "execution_count": null,
   "metadata": {},
   "outputs": [],
   "source": []
  },
  {
   "cell_type": "markdown",
   "metadata": {},
   "source": [
    "<h4 style='direction:rtl;text-align:right;font-size:18px;font-family:samim;'>جواب</h4>"
   ]
  },
  {
   "cell_type": "code",
   "execution_count": 13,
   "metadata": {},
   "outputs": [
    {
     "name": "stdout",
     "output_type": "stream",
     "text": [
      "[1, 3, 4, 2] [[1, 2, 3], [4, 5, 6]] [3, 30, 3]\n"
     ]
    }
   ],
   "source": [
    "a=[1,3,4,2]\n",
    "\n",
    "b=[[1,2,3],[4,5,6]]\n",
    "\n",
    "c=[1+2,6*5,3]\n",
    "\n",
    "print(a, b, c)"
   ]
  },
  {
   "cell_type": "markdown",
   "metadata": {},
   "source": [
    "<h2 style='direction:rtl;text-align:right;font-family:samim;'><b>🔸 تمرین ۱۴</b></h2>"
   ]
  },
  {
   "cell_type": "markdown",
   "metadata": {},
   "source": [
    "<p style='direction:rtl;text-align:right;font-size:18px;font-family:samim;line-height:1.5;'>\n",
    "برنامه ای بنویسید که سه المانی که از همه بزرگتر و از همه کوچکتر هستند را در یک لیست پیدا کرده و به شکل مناسبی نمایش دهد.\n",
    "مثلا برای لیست [11,3,15,4,9,6,8,1,12,6,20,7,9] نتیجه باید به شکل زیر باشد:\n",
    "<br>\n",
    "<p style='direction:rtl;text-align:center;font-size:18px;font-family:samim;line-height:1.5;'>  \n",
    "$$largest three elements = [20,15,12]$$\n",
    "<br>\n",
    "$$smallest three elements = [1,3,4]$$    \n",
    "</p>"
   ]
  },
  {
   "cell_type": "code",
   "execution_count": null,
   "metadata": {},
   "outputs": [],
   "source": []
  },
  {
   "cell_type": "markdown",
   "metadata": {},
   "source": [
    "<h4 style='direction:rtl;text-align:right;font-size:18px;font-family:samim;'>راهنمایی</h4>"
   ]
  },
  {
   "cell_type": "markdown",
   "metadata": {},
   "source": [
    "<p style='direction:rtl;text-align:right;font-size:16px;font-family:samim;'>\n",
    "از دستورsorted استفاده کنید. سپس با استفاده از اسلاسینگ با تعیین گام درست به نتیجه برسید.\n",
    "</p>"
   ]
  },
  {
   "cell_type": "markdown",
   "metadata": {},
   "source": [
    "<h4 style='direction:rtl;text-align:right;font-size:18px;font-family:samim;'>جواب</h4>"
   ]
  },
  {
   "cell_type": "code",
   "execution_count": 14,
   "metadata": {},
   "outputs": [
    {
     "name": "stdout",
     "output_type": "stream",
     "text": [
      "[20, 15, 12]\n",
      "[1, 3, 4]\n"
     ]
    }
   ],
   "source": [
    "my_list =  [11,3,15,4,9,6,8,1,12,6,20,7,9]\n",
    "sorted_list = sorted(my_list)\n",
    "\n",
    "\n",
    "largest_three = sorted_list[-1:-4:-1]\n",
    "smallest_three = sorted_list[:3]\n",
    "\n",
    "print(largest_three)\n",
    "print(smallest_three)"
   ]
  },
  {
   "cell_type": "markdown",
   "metadata": {},
   "source": [
    "<h2 style='direction:rtl;text-align:right;font-family:samim;'><b>🔸 تمرین ۱۵</b></h2>"
   ]
  },
  {
   "cell_type": "markdown",
   "metadata": {},
   "source": [
    "<p style='direction:rtl;text-align:right;font-size:18px;font-family:samim;'>\n",
    "    دو لیست زیر را از کوچک به بزرگ مرتب کرده، سپس به هم بچسبانید و در متغیری به نام sorted list ذخیره کنید.\n",
    "<p style='direction:rtl;text-align:center;font-size:18px;font-family:samim;line-height:1.5;'>     \n",
    "$$[1,3,9,7,5,11]$$\n",
    "<br>    \n",
    "$$[0,2,4,8,6,10]$$\n",
    "    \n",
    "</p>"
   ]
  },
  {
   "cell_type": "code",
   "execution_count": null,
   "metadata": {},
   "outputs": [],
   "source": []
  },
  {
   "cell_type": "markdown",
   "metadata": {},
   "source": [
    "<h4 style='direction:rtl;text-align:right;font-size:18px;font-family:samim;'>راهنمایی</h4>"
   ]
  },
  {
   "cell_type": "markdown",
   "metadata": {},
   "source": [
    "<p style='direction:rtl;text-align:right;font-size:16px;font-family:samim;'>\n",
    "ابتدا هر دو لیست را با دستور sorted مرتب کنید. سپس با استفاده از  + دو لیست را بهم بچسبانید.\n",
    "</p>"
   ]
  },
  {
   "cell_type": "markdown",
   "metadata": {},
   "source": [
    "<h4 style='direction:rtl;text-align:right;font-size:18px;font-family:samim;'>جواب</h4>"
   ]
  },
  {
   "cell_type": "code",
   "execution_count": 15,
   "metadata": {},
   "outputs": [
    {
     "name": "stdout",
     "output_type": "stream",
     "text": [
      "[1, 3, 5, 7, 9, 11, 0, 2, 4, 6, 8, 10]\n"
     ]
    }
   ],
   "source": [
    "list1 = [1,3,9,7,5,11]\n",
    "list2 = [0,2,4,8,6,10]\n",
    "\n",
    "sorted_list = sorted(list1) + sorted(list2)\n",
    "print(sorted_list)"
   ]
  },
  {
   "cell_type": "markdown",
   "metadata": {},
   "source": [
    "<h2 style='direction:rtl;text-align:right;font-family:samim;'><b>🔸 تمرین ۱۶</b></h2>"
   ]
  },
  {
   "cell_type": "markdown",
   "metadata": {},
   "source": [
    "<p style='direction:rtl;text-align:right;font-size:18px;font-family:samim;'>\n",
    " برنامه ای بنویسید که یک عدد را دریافت کرده و تعداد تکرار آن عدد را در لیست زیر نمایش دهد:\n",
    "<p style='direction:rtl;text-align:center;font-size:18px;font-family:samim;line-height:1.5;'>     \n",
    "$$ref = [ 0,1,3,5,0,3,4,5,0,8,0,3,6,0,3,1,1,0]$$\n",
    "\n",
    "   \n",
    "</p>"
   ]
  },
  {
   "cell_type": "markdown",
   "metadata": {},
   "source": [
    "<h4 style='direction:rtl;text-align:right;font-size:18px;font-family:samim;'>راهنمایی</h4>"
   ]
  },
  {
   "cell_type": "markdown",
   "metadata": {},
   "source": [
    "<p style='direction:rtl;text-align:right;font-size:16px;font-family:samim;'>\n",
    "از متد count استفاده کنید.\n",
    "</p>"
   ]
  },
  {
   "cell_type": "markdown",
   "metadata": {},
   "source": [
    "<h4 style='direction:rtl;text-align:right;font-size:18px;font-family:samim;'>جواب</h4>"
   ]
  },
  {
   "cell_type": "code",
   "execution_count": 16,
   "metadata": {},
   "outputs": [
    {
     "name": "stdout",
     "output_type": "stream",
     "text": [
      "1\n",
      "6\n"
     ]
    }
   ],
   "source": [
    "ref = [ 0,1,3,5,0,3,4,5,0,8,0,3,6,0,3,1,1,0]\n",
    "num = 8\n",
    "print(ref.count(num))\n",
    "\n",
    "num = 0\n",
    "print(ref.count(num))"
   ]
  },
  {
   "cell_type": "markdown",
   "metadata": {},
   "source": [
    "<h2 style='direction:rtl;text-align:right;font-family:samim;'><b>🔸 تمرین ۱۷</b></h2>"
   ]
  },
  {
   "cell_type": "markdown",
   "metadata": {},
   "source": [
    "<p style='direction:rtl;text-align:right;font-size:18px;font-family:samim;'>\n",
    "برنامه ای بنویسید که sublist های متناظر را در دو لیست زیر به هم بچسباند و نتیجه را در یک لیست جدید نمایش دهد .\n",
    "<p style='direction:rtl;text-align:center;font-size:18px;font-family:samim;line-height:1.5;'>     \n",
    "$$[['a','b'],['b','c','d'],['e','f']]$$\n",
    "<br>    \n",
    "$$[['p','q'],['p','s','t'],['u','v','w']]$$\n",
    "<br>   \n",
    "<p style='direction:rtl;text-align:right;font-size:18px;font-family:samim;'>    \n",
    "نتیجه باید به شکل زیر باشد: \n",
    "<br>    \n",
    "<p style='direction:rtl;text-align:center;font-size:18px;font-family:samim;line-height:1.5;'>  \n",
    "$$[['a','b','p','q'],['b','c','d','p','s','t'],['e','f','u','v','w']]$$    \n",
    "</p>"
   ]
  },
  {
   "cell_type": "code",
   "execution_count": null,
   "metadata": {},
   "outputs": [],
   "source": []
  },
  {
   "cell_type": "markdown",
   "metadata": {},
   "source": [
    "<h4 style='direction:rtl;text-align:right;font-size:18px;font-family:samim;'>راهنمایی</h4>"
   ]
  },
  {
   "cell_type": "markdown",
   "metadata": {},
   "source": [
    "<p style='direction:rtl;text-align:right;font-size:16px;font-family:samim;'>\n",
    "از متد insert استفاده کنید.\n",
    "</p>"
   ]
  },
  {
   "cell_type": "markdown",
   "metadata": {},
   "source": [
    "<h4 style='direction:rtl;text-align:right;font-size:18px;font-family:samim;'>جواب</h4>\n"
   ]
  },
  {
   "cell_type": "code",
   "execution_count": 17,
   "metadata": {},
   "outputs": [
    {
     "name": "stdout",
     "output_type": "stream",
     "text": [
      "[['a', 'b', 'p', 'q'], ['b', 'c', 'd', 'p', 's', 't'], ['e', 'f', 'u', 'v', 'w']]\n"
     ]
    }
   ],
   "source": [
    "list1  = [['a', 'b'], ['b', 'c', 'd'], ['e', 'f']]\n",
    "list2 = [['p', 'q'], ['p', 's', 't'], ['u', 'v', 'w']]\n",
    "list3 = []\n",
    "list3.insert(0 ,list1[0] + list2[0])\n",
    "list3.insert(1 ,list1[1] + list2[1])\n",
    "list3.insert(2 ,list1[-1] + list2[-1])\n",
    "\n",
    "print(list3)"
   ]
  },
  {
   "cell_type": "markdown",
   "metadata": {},
   "source": [
    "<h2 style='direction:rtl;text-align:right;font-family:samim;'><b>🔸 تمرین ۱۸</b></h2>"
   ]
  },
  {
   "cell_type": "markdown",
   "metadata": {},
   "source": [
    "<p style='direction:rtl;text-align:right;font-size:18px;font-family:samim;'>\n",
    "در لیست زیر، جای دو المان p و s را با هم عوض کنید:\n",
    "<p style='direction:rtl;text-align:center;font-size:18px;font-family:samim;line-height:1.5;'>     \n",
    "$$words = ['b','c','d','p','s','t']$$\n",
    "   \n",
    "</p>"
   ]
  },
  {
   "cell_type": "code",
   "execution_count": null,
   "metadata": {},
   "outputs": [],
   "source": []
  },
  {
   "cell_type": "markdown",
   "metadata": {},
   "source": [
    "<h4 style='direction:rtl;text-align:right;font-size:18px;font-family:samim;'>راهنمایی</h4>"
   ]
  },
  {
   "cell_type": "markdown",
   "metadata": {},
   "source": [
    "<p style='direction:rtl;text-align:right;font-size:16px;font-family:samim;'>\n",
    "از جابه‌جایی المان‌ها بدون تعریف متغیر اضافی بهره کمک بگیرید. به شماره اندیس المان‌ها دقت کنید.\n",
    "</p>"
   ]
  },
  {
   "cell_type": "markdown",
   "metadata": {},
   "source": [
    "<h4 style='direction:rtl;text-align:right;font-size:18px;font-family:samim;'>جواب</h4>\n"
   ]
  },
  {
   "cell_type": "code",
   "execution_count": 18,
   "metadata": {},
   "outputs": [
    {
     "name": "stdout",
     "output_type": "stream",
     "text": [
      "['b', 'c', 'd', 's', 'p', 't']\n"
     ]
    }
   ],
   "source": [
    "words = ['b', 'c', 'd', 'p', 's', 't']\n",
    "\n",
    "words[3] , words[-2] = words[-2] , words[3]\n",
    "\n",
    "print(words)"
   ]
  },
  {
   "cell_type": "markdown",
   "metadata": {},
   "source": [
    "<h2 style='direction:rtl;text-align:right;font-family:samim;'><b>🔸 تمرین ۱۹</b></h2>"
   ]
  },
  {
   "cell_type": "markdown",
   "metadata": {},
   "source": [
    "<p style='direction:rtl;text-align:right;font-size:18px;font-family:samim;'>\n",
    "متغیر list2  را بدون استفاده از متدها به ماتریس mat  تبدیل کنید.\n",
    "<p style='direction:rtl;text-align:center;font-size:18px;font-family:samim;line-height:1.5;'>     \n",
    "$$list2 =[0,'howsam',5,False]$$\n",
    "<br>\n",
    "$$mat=[[0,'howsam',5,False],[0,'howsam',5,False],[0,'howsam',5,False]]$$    \n",
    "<br>\n",
    "<p style='direction:rtl;text-align:right;font-size:18px;font-family:samim;'>    \n",
    "آیا می‌توانید با استفاده از دستور remove در ماتریس بدست آمده ، المان 'howsam' را حذف کنید؟    \n",
    "</p>"
   ]
  },
  {
   "cell_type": "code",
   "execution_count": null,
   "metadata": {},
   "outputs": [],
   "source": []
  },
  {
   "cell_type": "markdown",
   "metadata": {},
   "source": [
    "<h4 style='direction:rtl;text-align:right;font-size:18px;font-family:samim;'>راهنمایی</h4>"
   ]
  },
  {
   "cell_type": "markdown",
   "metadata": {},
   "source": [
    "<p style='direction:rtl;text-align:right;font-size:16px;font-family:samim;'>\n",
    "از ضرب استفاده کنید. سپس از متد remove کمک بگیرید.\n",
    "</p>"
   ]
  },
  {
   "cell_type": "markdown",
   "metadata": {},
   "source": [
    "<h4 style='direction:rtl;text-align:right;font-size:18px;font-family:samim;'>جواب</h4>\n"
   ]
  },
  {
   "cell_type": "code",
   "execution_count": 19,
   "metadata": {},
   "outputs": [
    {
     "name": "stdout",
     "output_type": "stream",
     "text": [
      "[0, 'howsam', 5, False, 0, 'howsam', 5, False, 0, 'howsam', 5, False]\n",
      "[0, 5, False, 0, 'howsam', 5, False, 0, 'howsam', 5, False]\n"
     ]
    }
   ],
   "source": [
    "list2 =[0,'howsam', 5, False]\n",
    "mat = list2 * 3\n",
    "print(mat)\n",
    "mat.remove('howsam')\n",
    "# فقط یکی را حذف می‌کند\n",
    "print(mat)"
   ]
  },
  {
   "cell_type": "markdown",
   "metadata": {},
   "source": [
    "<h2 style='direction:rtl;text-align:right;font-family:samim;'><b>🔸 تمرین ۲۰</b></h2>"
   ]
  },
  {
   "cell_type": "markdown",
   "metadata": {},
   "source": [
    "<p style='direction:rtl;text-align:right;font-size:18px;font-family:samim;line-height:1.5;'>\n",
    "Run Length یک تکنیک ساده برای فشرده سازی داده است. این تکنیک زمانی مفید است که تعداد زیادی داده تکراری به صورت پشت سرهم قرار میگیرند. در این نوع encoding عنصر تکراری تنها یک بار نوشته شده و در ادامه تعداد تکرار آورده میشود.\n",
    "لیست زیر را در نظر بگیرید و Run Length Encoding را بر روی آن اعمال کنید.\n",
    "\n",
    "<p style='direction:rtl;text-align:center;font-size:18px;font-family:samim;line-height:1.5;'>     \n",
    "$$m = [\"A\",\"A\",\"A\",\"A\",\"A\",\"A\",\"A\",\"A\",\"A\",\"A\",\"A\",\"A\",\"B\",\"B\",\"B\",\"B\",\"A\",\"A\",\"A\",\"A\",\"A\",\"A\",\"B\"] $$   \n",
    "<br>\n",
    "<p style='direction:rtl;text-align:right;font-size:18px;font-family:samim;'>    \n",
    "توجه: خروجی باید به شکل زیر باشد:\n",
    "<br>    \n",
    "<p style='direction:rtl;text-align:center;font-size:18px;font-family:samim;line-height:1.5;'>     \n",
    "$$res = ['A',12,'B',4,'A',6,'B',1] $$   \n",
    "</p>"
   ]
  },
  {
   "cell_type": "code",
   "execution_count": null,
   "metadata": {},
   "outputs": [],
   "source": []
  },
  {
   "cell_type": "markdown",
   "metadata": {},
   "source": [
    "<h4 style='direction:rtl;text-align:right;font-size:18px;font-family:samim;'>راهنمایی</h4>"
   ]
  },
  {
   "cell_type": "markdown",
   "metadata": {},
   "source": [
    "<p style='direction:rtl;text-align:right;font-size:16px;font-family:samim;'>\n",
    "ابتدا یک لیست خالی تعریف کنید.\n",
    "    سپس هر عنصر را با اندیس دهی مشخص کنید \n",
    "    و سپس با اسلاسینگ محدوده‌ای که قرار است تعدا المان‌ها را بشمارید مشخص کنید و با متد count تعداد المان را بشمارید\n",
    "</p>"
   ]
  },
  {
   "cell_type": "markdown",
   "metadata": {},
   "source": [
    "<h4 style='direction:rtl;text-align:right;font-size:18px;font-family:samim;'>جواب</h4>"
   ]
  },
  {
   "cell_type": "code",
   "execution_count": 22,
   "metadata": {},
   "outputs": [
    {
     "name": "stdout",
     "output_type": "stream",
     "text": [
      "['A', 12, 'B', 4, 'A', 6, 'B', 1]\n"
     ]
    }
   ],
   "source": [
    "m = [\"A\", \"A\", \"A\", \"A\", \"A\", \"A\", \"A\", \"A\", \"A\", \"A\", \"A\", \"A\", \"B\", \"B\", \"B\", \"B\", \"A\", \"A\", \"A\", \"A\", \"A\", \"A\", \"B\"]\n",
    "res = []\n",
    "res.extend([m[0],m[0:12].count(\"A\"),\n",
    "            m[12],m[12:16].count(\"B\"),\n",
    "            m[16],m[16:].count(\"A\"),\n",
    "            m[-1],m[-1:].count(\"B\")])\n",
    "print(res)"
   ]
  },
  {
   "cell_type": "markdown",
   "metadata": {},
   "source": [
    "<h2 style='direction:rtl;text-align:right;font-family:samim;'><b>🔸 تمرین ۲۱</b></h2>"
   ]
  },
  {
   "cell_type": "markdown",
   "metadata": {},
   "source": [
    "<p style='direction:rtl;text-align:right;font-size:18px;font-family:samim;line-height:1.5;'>\n",
    "یک متغیر به نام my_string بسازید و عبارت زیر را در آن ذخیره کنید:\n",
    "\n",
    "<p style='direction:rtl;text-align:center;font-size:18px;font-family:samim;line-height:1.5;'>     \n",
    "the quick brown fox jumps over the lazy dog    \n",
    "<br>\n",
    "<p style='direction:rtl;text-align:right;font-size:18px;font-family:samim;'>    \n",
    "کدی بنویسید که تعداد تکرار عبارت the در my_string را نمایش دهد.\n",
    "   \n",
    "</p>"
   ]
  },
  {
   "cell_type": "code",
   "execution_count": null,
   "metadata": {},
   "outputs": [],
   "source": []
  },
  {
   "cell_type": "markdown",
   "metadata": {},
   "source": [
    "<h4 style='direction:rtl;text-align:right;font-size:18px;font-family:samim;'>راهنمایی</h4>"
   ]
  },
  {
   "cell_type": "markdown",
   "metadata": {},
   "source": [
    "<p style='direction:rtl;text-align:right;font-size:16px;font-family:samim;'>\n",
    "ابتدا یک متغیر رشته با متن داده شده بسازید. سپس با متد split توکن‌ها را جدا کنید و با استفاده از متد  count متغیری که می‌خواهید را بشماری.\n",
    "</p>"
   ]
  },
  {
   "cell_type": "markdown",
   "metadata": {},
   "source": [
    "<h4 style='direction:rtl;text-align:right;font-size:18px;font-family:samim;'>جواب</h4>"
   ]
  },
  {
   "cell_type": "code",
   "execution_count": 23,
   "metadata": {},
   "outputs": [
    {
     "data": {
      "text/plain": [
       "2"
      ]
     },
     "execution_count": 23,
     "metadata": {},
     "output_type": "execute_result"
    }
   ],
   "source": [
    "my_string = \"the quick brown fox jumps over the lazy dog\"\n",
    "\n",
    "my_list = my_string.split()\n",
    "\n",
    "my_list.count(\"the\")"
   ]
  }
 ],
 "metadata": {
  "kernelspec": {
   "display_name": "Python 3 (ipykernel)",
   "language": "python",
   "name": "python3"
  },
  "language_info": {
   "codemirror_mode": {
    "name": "ipython",
    "version": 3
   },
   "file_extension": ".py",
   "mimetype": "text/x-python",
   "name": "python",
   "nbconvert_exporter": "python",
   "pygments_lexer": "ipython3",
   "version": "3.11.7"
  }
 },
 "nbformat": 4,
 "nbformat_minor": 4
}
