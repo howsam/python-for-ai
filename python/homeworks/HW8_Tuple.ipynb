{
 "cells": [
  {
   "cell_type": "markdown",
   "metadata": {},
   "source": [
    "<div style=\"text-align:center; font-family:samim; font-size:30px;\"><strong> آشنایی با تاپل</strong></div>   \n",
    "<br>\n",
    "<p style=\"text-align:center; font-family:samim; font-size:20px;\">تمرین سری هشتم</p> \n",
    "<br>\n",
    "</p>"
   ]
  },
  {
   "cell_type": "markdown",
   "metadata": {},
   "source": [
    "<p style='direction:rtl;text-align:right;font-size:17px;font-family:samim;line-height:1.5;'>\n",
    "    با احترام، در این سلسله تمرین‌های آموزشی \"پایتون برای هوش مصنوعی با هوسم\"، ما از شما دعوت می‌کنیم که با یک روند گام به گام، به تدریج پیشرفت کنید. این مسیر ممکن است زمان‌بر باشد، پس صبور باشید و به راهنمایی‌ها و راهکارهایی که از تجربه ما در ارتباط با دانشجویان مختلف بدست آمده است، اعتماد کنید. برای حل مسائل، لطفا به نکاتی که در ادامه آورده‌ایم توجه کنید. امیدواریم شاهد پیشرفت‌های چشمگیر شما در این مسیر باشیم. موفق و پیروز باشید!\n",
    "    </p>\n",
    "<br>\n",
    "<div style=\"font-family: samim; font-size: 14px; text-align: right; direction: rtl;\">\n",
    "    <strong>تمرکز بر روی مسئله:</strong> قبل از هر چیز، هر سوال را دقیقاً بخوانید و به آن فکر کنید. این اولین گام برای حل مسئله است.\n",
    "    <br>\n",
    "    <br>\n",
    "    <strong>استفاده از کاغذ:</strong> اگر نیاز باشد، مسئله را روی کاغذ بیان کرده و به آن فکر کنید. گاهی این کار می‌تواند به روشن شدن مسئله و حل بهتر آن کمک کند.\n",
    "    <br>\n",
    "    <br>\n",
    "    <strong>شروع به کدنویسی:</strong> حتماً دست‌های خود را روی کیبورد قرار دهید و شروع به کدنویسی کنید. این تجربه می‌تواند بهترین راه برای پیشروی در حل مسئله باشد.\n",
    "    <br>\n",
    "    <br>\n",
    "    <strong>استفاده متناسب از منابع:</strong> سعی کنید بدون استفاده از ابزارهای کمکی نظیر چت یا جی پی تی، به تلاش و تفکر خود اعتماد کنید. این امکان را به شما می‌دهد تا مهارت‌های خود را بهبود ببخشید.\n",
    "    <br>\n",
    "    <br>\n",
    "    <strong>راهنمایی و ارزیابی:</strong> اگر پس از تلاش، به نتیجه نرسیدید، راهنمایی‌ها و راه‌حل‌های ارائه شده را مطالعه کرده و دوباره به حل مسئله بپردازید.\n",
    "    <br>\n",
    "    <br>\n",
    "    <strong>مبتنی بر محتوا:</strong> سعی کنید با توجه به مباحثی که در ویدیوآموزش هر فصل آموخته‌اید، به سوالات پاسخ دهید و از دستورات جدید خودداری کنید. این به شما کمک می‌کند تا گام به گام و با پیشرفت مرحله‌ای، مسائل را حل کنید.\n",
    "    <br>\n",
    "    <br>\n",
    "    <strong>متنوع بودن راه‌حل‌ها:</strong> به یاد داشته باشید که برای هر سوال، روش‌های مختلفی وجود دارد. راه‌حل ارائه شده فقط یکی از راه‌حل‌های ممکن است و شما می‌توانید روش‌های خود را نیز بررسی کنید.\n",
    "</div>\n"
   ]
  },
  {
   "cell_type": "markdown",
   "metadata": {},
   "source": [
    "<h2 style='direction:rtl;text-align:right;font-family:samim;'><b>🔸 تمرین ۱</b></h2>"
   ]
  },
  {
   "cell_type": "markdown",
   "metadata": {},
   "source": [
    "<p style='direction:rtl;text-align:right;font-size:18px;font-family:samim;line-height:1.5;'>\n",
    "یک تاپل با نام my_tuple ایجاد کنید که شامل مقادیر ۱, ۲, ۳ باشد.\n",
    "    <br>\n",
    "    الف) عنصر دوم و سوم از این تاپل را چاپ کنید.\n",
    "    <br>\n",
    "   ب) آیا می‌توانید به این تاپل، عدد ۵ را اضافه کنید؟\n",
    "   <br>\n",
    "    ج) این تاپل را با (۵و۶و۷) ترکیب کنید.\n",
    "    <br>\n",
    "    د) اندیس عدد ۶ را پیدا کنید.\n",
    "    \n",
    "</p>"
   ]
  },
  {
   "cell_type": "code",
   "execution_count": 4,
   "metadata": {},
   "outputs": [],
   "source": []
  },
  {
   "cell_type": "markdown",
   "metadata": {},
   "source": [
    "<h4 style='direction:rtl;text-align:right;font-size:18px;font-family:samim;'>راهنمایی</h4>"
   ]
  },
  {
   "cell_type": "markdown",
   "metadata": {},
   "source": [
    "<p style='direction:rtl;text-align:right;font-size:16px;font-family:samim;line-height:1.5;'>\n",
    "از ایندکسینگ و اسلایسینگ کمک بگیرید.\n",
    "</p>"
   ]
  },
  {
   "cell_type": "markdown",
   "metadata": {},
   "source": [
    "<h4 style='direction:rtl;text-align:right;font-size:18px;font-family:samim;'>جواب</h4>"
   ]
  },
  {
   "cell_type": "code",
   "execution_count": 11,
   "metadata": {},
   "outputs": [
    {
     "name": "stdout",
     "output_type": "stream",
     "text": [
      "(2, 3)\n",
      "(1, 2, 3, 5, 6, 7)\n",
      "4\n"
     ]
    }
   ],
   "source": [
    "#الف\n",
    "my_tuple = (1, 2, 3)\n",
    "print(my_tuple[1:])\n",
    "\n",
    "#ب\n",
    "## خیر ، تاپل ها از نوع غیر قابل تغییر هستند.\n",
    "\n",
    "#ج\n",
    "tuple2 = (5,6,7)\n",
    "combined_tuple = my_tuple + tuple2\n",
    "print(combined_tuple)\n",
    "\n",
    "#د\n",
    "print(combined_tuple.index(6))\n"
   ]
  },
  {
   "cell_type": "markdown",
   "metadata": {},
   "source": [
    "<h2 style='direction:rtl;text-align:right;font-family:samim;'><b>🔸 تمرین ۲</b></h2>"
   ]
  },
  {
   "cell_type": "markdown",
   "metadata": {},
   "source": [
    "<p style='direction:rtl;text-align:right;font-size:18px;font-family:samim;line-height:1.5;'>\n",
    "یک تاپل تک عنصری ایجاد کنید.\n",
    "    آیا می‌توانید این عنصر را حذف کنید؟\n",
    "</p>"
   ]
  },
  {
   "cell_type": "code",
   "execution_count": null,
   "metadata": {},
   "outputs": [],
   "source": []
  },
  {
   "cell_type": "markdown",
   "metadata": {},
   "source": [
    "<h4 style='direction:rtl;text-align:right;font-size:18px;font-family:samim;'>راهنمایی</h4>"
   ]
  },
  {
   "cell_type": "markdown",
   "metadata": {},
   "source": [
    "<p style='direction:rtl;text-align:right;font-size:16px;font-family:samim;'>\n",
    "به مباحث گفته شده در ویدیوی نحوه تعریف تاپل با دقت گوش کنید. یادتون هست تفاوت لیست با تاپل در چه مواردی بود!\n",
    "</p>"
   ]
  },
  {
   "cell_type": "markdown",
   "metadata": {},
   "source": [
    "<h4 style='direction:rtl;text-align:right;font-size:18px;font-family:samim;'>جواب</h4>"
   ]
  },
  {
   "cell_type": "code",
   "execution_count": 10,
   "metadata": {},
   "outputs": [
    {
     "data": {
      "text/plain": [
       "(1,)"
      ]
     },
     "execution_count": 10,
     "metadata": {},
     "output_type": "execute_result"
    }
   ],
   "source": [
    "# تعریف تاپل تک عنصری\n",
    "single_element_tuple = (1,)\n",
    "\n",
    "single_element_tuple\n",
    "\n",
    "#خیر، نمیتوانیم. چون تاپل ها غیر قابل تغییر هستند"
   ]
  },
  {
   "cell_type": "markdown",
   "metadata": {},
   "source": [
    "<h2 style='direction:rtl;text-align:right;font-family:samim;'><b>🔸 تمرین ۳</b></h2>"
   ]
  },
  {
   "cell_type": "markdown",
   "metadata": {},
   "source": [
    "<p style='direction:rtl;text-align:right;font-size:18px;font-family:samim;line-height:1.5;'>\n",
    "الف) یک رشته \"hello\" را به یک تاپل تبدیل کنید.\n",
    "    <br>\n",
    "    ب) یک دیکشنری از داده‌ها دارید. تمام کلیدها و مقادیر را به یک تاپل تبدیل کنید.\n",
    "</p>"
   ]
  },
  {
   "cell_type": "code",
   "execution_count": null,
   "metadata": {},
   "outputs": [],
   "source": []
  },
  {
   "cell_type": "markdown",
   "metadata": {},
   "source": [
    "<h4 style='direction:rtl;text-align:right;font-size:18px;font-family:samim;'>راهنمایی</h4>"
   ]
  },
  {
   "cell_type": "markdown",
   "metadata": {},
   "source": [
    "<p style='direction:rtl;text-align:right;font-size:16px;font-family:samim;'>\n",
    "از روش‌های تغییر تایپ یک متغیر کمک بگیرید.\n",
    "    از دستور .item کمک بگیرید و سپس با استفاده از دستور tuple نوع متغیر را تغییر دهید.\n",
    "</p>"
   ]
  },
  {
   "cell_type": "markdown",
   "metadata": {},
   "source": [
    "<h4 style='direction:rtl;text-align:right;font-size:18px;font-family:samim;'>جواب</h4>"
   ]
  },
  {
   "cell_type": "code",
   "execution_count": 14,
   "metadata": {},
   "outputs": [
    {
     "name": "stdout",
     "output_type": "stream",
     "text": [
      "('h', 'e', 'l', 'l', 'o')\n",
      "(('name', 'Ali'), ('age', 30), ('city', 'Tehran'))\n"
     ]
    }
   ],
   "source": [
    "#الف\n",
    "tuple_from_string = tuple(\"hello\")\n",
    "print(tuple_from_string)\n",
    "\n",
    "#ب\n",
    "data = {\"name\": \"Ali\", \"age\": 30, \"city\": \"Tehran\"}\n",
    "tuple_data = tuple(data.items())\n",
    "print(tuple_data)"
   ]
  },
  {
   "cell_type": "markdown",
   "metadata": {},
   "source": [
    "<h2 style='direction:rtl;text-align:right;font-family:samim;'><b>🔸 تمرین ۴</b></h2>"
   ]
  },
  {
   "cell_type": "markdown",
   "metadata": {},
   "source": [
    "<p style='direction:rtl;text-align:right;font-size:18px;font-family:samim;line-height:1.5;'>\n",
    "یک تاپل از تاپل‌هایی دارید که هر یک شامل یک نام و یک لیست از نمرات است. نمرات میانگین هر دانشجو را چاپ کنید.\n",
    "    <br>\n",
    "    <br>\n",
    "    $$students = ((\"Ali\", [18, 17, 19]), (\"Sara\", [20, 20, 19]), (\"Reza\", [16, 15, 17]))$$\n",
    "</p>"
   ]
  },
  {
   "cell_type": "code",
   "execution_count": null,
   "metadata": {},
   "outputs": [],
   "source": []
  },
  {
   "cell_type": "markdown",
   "metadata": {},
   "source": [
    "<h4 style='direction:rtl;text-align:right;font-size:18px;font-family:samim;'>راهنمایی</h4>"
   ]
  },
  {
   "cell_type": "markdown",
   "metadata": {},
   "source": [
    "<p style='direction:rtl;text-align:right;font-size:16px;font-family:samim;line-height:1.5;'>\n",
    "می‌توانید از دستور for برای انتخاب کردن هر آيتم از تاپل اصلی استفاده کنید. سپس با استفاده از دستورهای sum و len معدل را برای هر نفر محاسبه کنید و خروجی را در یک دیکشنری قرار دهید.\n",
    "</p>"
   ]
  },
  {
   "cell_type": "markdown",
   "metadata": {},
   "source": [
    "<h4 style='direction:rtl;text-align:right;font-size:18px;font-family:samim;'>جواب</h4>"
   ]
  },
  {
   "cell_type": "code",
   "execution_count": 16,
   "metadata": {},
   "outputs": [
    {
     "name": "stdout",
     "output_type": "stream",
     "text": [
      "{'Ali': 18.0, 'Sara': 19.666666666666668, 'Reza': 16.0}\n"
     ]
    }
   ],
   "source": [
    "# تاپل اولیه\n",
    "students = ((\"Ali\", [18, 17, 19]), (\"Sara\", [20, 20, 19]), (\"Reza\", [16, 15, 17]))\n",
    "\n",
    "# ایجاد یک دیکشنری برای معدل\n",
    "averages = {name: sum(grades) / len(grades) for name, grades in students}\n",
    "print(averages)"
   ]
  },
  {
   "cell_type": "markdown",
   "metadata": {},
   "source": [
    "<h2 style='direction:rtl;text-align:right;font-family:samim;'><b>🔸 تمرین ۵</b></h2>"
   ]
  },
  {
   "cell_type": "markdown",
   "metadata": {},
   "source": [
    "<p style='direction:rtl;text-align:right;font-size:18px;font-family:samim;line-height:1.5;'>  \n",
    "    تاپل original = (1, 2, 3, 4, 5) را در نظر بگیرید. تمامی عناصر را یک واحد به سمت چپ شیفت دهید. یعنی خروجی به شکل زیر باشد:\n",
    "    <br>\n",
    "    <br>\n",
    "    $$(2, 3, 4, 5, 1)$$\n",
    "    \n",
    "</p>"
   ]
  },
  {
   "cell_type": "code",
   "execution_count": null,
   "metadata": {},
   "outputs": [],
   "source": []
  },
  {
   "cell_type": "markdown",
   "metadata": {},
   "source": [
    "<h4 style='direction:rtl;text-align:right;font-size:18px;font-family:samim;'>راهنمایی</h4>"
   ]
  },
  {
   "cell_type": "markdown",
   "metadata": {},
   "source": [
    "<p style='direction:rtl;text-align:right;font-size:16px;font-family:samim;line-height:1.5;'>\n",
    "از دستور اسلایسینگ استفاده کنید.\n",
    "</p>"
   ]
  },
  {
   "cell_type": "markdown",
   "metadata": {},
   "source": [
    "<h4 style='direction:rtl;text-align:right;font-size:18px;font-family:samim;'>جواب</h4>"
   ]
  },
  {
   "cell_type": "code",
   "execution_count": 17,
   "metadata": {},
   "outputs": [
    {
     "name": "stdout",
     "output_type": "stream",
     "text": [
      "(2, 3, 4, 5, 1)\n"
     ]
    }
   ],
   "source": [
    "# تاپل اولیه\n",
    "original = (1, 2, 3, 4, 5)\n",
    "\n",
    "# استفاده از اسلایسینگ\n",
    "rotated = original[1:] + original[:1]\n",
    "print(rotated)"
   ]
  },
  {
   "cell_type": "markdown",
   "metadata": {},
   "source": [
    "<h2 style='direction:rtl;text-align:right;font-family:samim;'><b>🔸 تمرین ۶</b></h2>"
   ]
  },
  {
   "cell_type": "markdown",
   "metadata": {},
   "source": [
    "<p style='direction:rtl;text-align:right;font-size:18px;font-family:samim;line-height:1.5;'>\n",
    "تاپل زیر را در نظر بگیرید. سپس یک تاپل جدید ایجاد کنید که فقط شامل اعداد زوج باشد.\n",
    "    <br>\n",
    "    <br>\n",
    "    $$numbers = (1, 2, 3, 4, 5, 6, 7, 8, 9, 10)$$\n",
    "</p>"
   ]
  },
  {
   "cell_type": "code",
   "execution_count": null,
   "metadata": {},
   "outputs": [],
   "source": []
  },
  {
   "cell_type": "markdown",
   "metadata": {},
   "source": [
    "<h4 style='direction:rtl;text-align:right;font-size:18px;font-family:samim;'>راهنمایی</h4>"
   ]
  },
  {
   "cell_type": "markdown",
   "metadata": {},
   "source": [
    "<p style='direction:rtl;text-align:right;font-size:16px;font-family:samim;line-height:1.5;'>\n",
    "با استفاده از دستور for تک خطی و دستور شرطی چک کنید که هر المان زوج هست یا نه\n",
    "</p>"
   ]
  },
  {
   "cell_type": "markdown",
   "metadata": {},
   "source": [
    "<h4 style='direction:rtl;text-align:right;font-size:18px;font-family:samim;'>جواب</h4>"
   ]
  },
  {
   "cell_type": "code",
   "execution_count": 20,
   "metadata": {},
   "outputs": [
    {
     "name": "stdout",
     "output_type": "stream",
     "text": [
      "(2, 4, 6, 8, 10)\n"
     ]
    }
   ],
   "source": [
    "# تاپل اولیه\n",
    "numbers = (1, 2, 3, 4, 5, 6, 7, 8, 9, 10)\n",
    "\n",
    "# ایجاد تاپل جدید برای هر المان\n",
    "even_numbers = tuple(x for x in numbers if x % 2 == 0)\n",
    "print(even_numbers)"
   ]
  },
  {
   "cell_type": "markdown",
   "metadata": {},
   "source": [
    "<h2 style='direction:rtl;text-align:right;font-family:samim;'><b>🔸 تمرین ۷</b></h2>"
   ]
  },
  {
   "cell_type": "markdown",
   "metadata": {},
   "source": [
    "<p style='direction:rtl;text-align:right;font-size:18px;font-family:samim;line-height:1.5;'>\n",
    "\tدو لیست زیر را بدون استفاده از عملگر +، تبدیل به یک لیست واحد از تاپل ها کنید.\n",
    "    <br>\n",
    "    <br>\n",
    "    $$ a = [(1, 2), (3, 4)], b = [(5, 6), (7, 8)] $$\n",
    "</p>"
   ]
  },
  {
   "cell_type": "code",
   "execution_count": null,
   "metadata": {},
   "outputs": [],
   "source": []
  },
  {
   "cell_type": "markdown",
   "metadata": {},
   "source": [
    "<h4 style='direction:rtl;text-align:right;font-size:18px;font-family:samim;'>راهنمایی</h4>"
   ]
  },
  {
   "cell_type": "markdown",
   "metadata": {},
   "source": [
    "<p style='direction:rtl;text-align:right;font-size:16px;font-family:samim;line-height:1.5;'>\n",
    "از دستور * کمک بگیرید.\n",
    "</p>"
   ]
  },
  {
   "cell_type": "markdown",
   "metadata": {},
   "source": [
    "<h4 style='direction:rtl;text-align:right;font-size:18px;font-family:samim;'>جواب</h4>"
   ]
  },
  {
   "cell_type": "code",
   "execution_count": 22,
   "metadata": {},
   "outputs": [
    {
     "name": "stdout",
     "output_type": "stream",
     "text": [
      "[(1, 2), (3, 4), (5, 6), (7, 8)]\n"
     ]
    }
   ],
   "source": [
    "# لیست های اولیه\n",
    "a = [(1, 2), (3, 4)] \n",
    "b = [(5, 6), (7, 8)]\n",
    "\n",
    "# ترکیب کردن دوتا لیست از تاپل ها\n",
    "merged_list = [*a, *b] \n",
    "\n",
    "print(merged_list)"
   ]
  },
  {
   "cell_type": "markdown",
   "metadata": {},
   "source": [
    "<h2 style='direction:rtl;text-align:right;font-family:samim;'><b>🔸 تمرین ۸</b></h2>"
   ]
  },
  {
   "cell_type": "markdown",
   "metadata": {},
   "source": [
    "<p style='direction:rtl;text-align:right;font-size:18px;font-family:samim;line-height:1.5;'>\n",
    "\tچگونه لیستی از تاپل های زیر را می‌توانید به یک لیست واحد تبدیل کنید؟\n",
    "    <br>\n",
    "    <br>\n",
    "    $$ input = [(1,2),(3,4),(5,)], output = [1,2,3,4,5]$$\n",
    "\n",
    "</p>"
   ]
  },
  {
   "cell_type": "code",
   "execution_count": null,
   "metadata": {},
   "outputs": [],
   "source": []
  },
  {
   "cell_type": "markdown",
   "metadata": {},
   "source": [
    "<h4 style='direction:rtl;text-align:right;font-size:18px;font-family:samim;'>راهنمایی</h4>"
   ]
  },
  {
   "cell_type": "markdown",
   "metadata": {},
   "source": [
    "<p style='direction:rtl;text-align:right;font-size:16px;font-family:samim;line-height:1.5;'>\n",
    "از دو تا دستور for کمک بگیرید. ابتدا هر تاپل را انتخاب و سپس هر المان از تاپل را به لیست اضافه کنید.\n",
    "</p>"
   ]
  },
  {
   "cell_type": "markdown",
   "metadata": {},
   "source": [
    "<h4 style='direction:rtl;text-align:right;font-size:18px;font-family:samim;'>جواب</h4>"
   ]
  },
  {
   "cell_type": "code",
   "execution_count": 25,
   "metadata": {},
   "outputs": [
    {
     "name": "stdout",
     "output_type": "stream",
     "text": [
      "[1, 2, 3, 4, 5]\n"
     ]
    }
   ],
   "source": [
    "# لیست اولیه\n",
    "input_list = [(1, 2), (3, 4), (5,)]\n",
    "\n",
    "# ایجاد لیستی از تک تک المان ها\n",
    "output_list = [element for tup in input_list for element in tup]\n",
    "\n",
    "print(output_list)\n"
   ]
  },
  {
   "cell_type": "markdown",
   "metadata": {},
   "source": [
    "<h2 style='direction:rtl;text-align:right;font-family:samim;'><b>🔸 تمرین ۹</b></h2>"
   ]
  },
  {
   "cell_type": "markdown",
   "metadata": {},
   "source": [
    "<p style='direction:rtl;text-align:right;font-size:18px;font-family:samim;line-height:1.5;'>\n",
    "یک لیست از اعداد را در نظر بگیرید و براساس آن لیستی از تاپل‌های هر عنصر به همراه توان دوم آن عدد را تولید کنید.\n",
    "        <br>\n",
    "    <br>\n",
    "    $$ input = [1, 4, 6], output = [(1,1), (4,16), (6,36)]$$\n",
    "    \n",
    "</p>"
   ]
  },
  {
   "cell_type": "code",
   "execution_count": null,
   "metadata": {},
   "outputs": [],
   "source": []
  },
  {
   "cell_type": "markdown",
   "metadata": {},
   "source": [
    "<h4 style='direction:rtl;text-align:right;font-size:18px;font-family:samim;'>راهنمایی</h4>"
   ]
  },
  {
   "cell_type": "markdown",
   "metadata": {},
   "source": [
    "<p style='direction:rtl;text-align:right;font-size:16px;font-family:samim;line-height:1.5;'>\n",
    "با استفاده از دستور for تک خطی هر بار یک المان از لیست را انتخاب کنید سپس آن المان را به همراه توان دوم آن درون یک تاپل قرار دهید.\n",
    "</p>"
   ]
  },
  {
   "cell_type": "markdown",
   "metadata": {},
   "source": [
    "<h4 style='direction:rtl;text-align:right;font-size:18px;font-family:samim;'>جواب</h4>"
   ]
  },
  {
   "cell_type": "code",
   "execution_count": 42,
   "metadata": {},
   "outputs": [
    {
     "name": "stdout",
     "output_type": "stream",
     "text": [
      "[(1, 1), (4, 16), (6, 36)]\n"
     ]
    }
   ],
   "source": [
    "# لیست اولیه\n",
    "numbers = [1, 4, 6]\n",
    "\n",
    "# تولید لیست از تاپل ها\n",
    "squared_tuples = [(x, x**2) for x in numbers]\n",
    "\n",
    "print(squared_tuples)"
   ]
  },
  {
   "cell_type": "markdown",
   "metadata": {},
   "source": [
    "<h2 style='direction:rtl;text-align:right;font-family:samim;'><b>🔸 تمرین ۱۰</b></h2>"
   ]
  },
  {
   "cell_type": "markdown",
   "metadata": {},
   "source": [
    "<p style='direction:rtl;text-align:right;font-size:18px;font-family:samim;line-height:1.5;'>\n",
    "لیستی از اسامی دانشجویان به همراه نمرات دروس این ترم برای هر کدام به شما داده شده‌است. معدل هر دانشجو را حساب کنید.\n",
    "    <br>\n",
    "    <br>\n",
    "    $$numbers = [('Sajad', 18.5, 19, 16.5), ('Elham', 20, 16, 17.5), ('Sahar', 17, 18, 18.5)]$$\n",
    "</p>"
   ]
  },
  {
   "cell_type": "code",
   "execution_count": null,
   "metadata": {},
   "outputs": [],
   "source": []
  },
  {
   "cell_type": "markdown",
   "metadata": {},
   "source": [
    "<h4 style='direction:rtl;text-align:right;font-size:18px;font-family:samim;'>راهنمایی</h4>"
   ]
  },
  {
   "cell_type": "markdown",
   "metadata": {},
   "source": [
    "<p style='direction:rtl;text-align:right;font-size:16px;font-family:samim;line-height:1.5;'>\n",
    "به تفاوت این سوال با سوال ۴ دقت کنید. در سوال قبلی نمرات هر دانشجو درون یک لیست تعریف شده بوده اما اینجا اسامی به همراه نمرات درون یک تاپل قرار دارند. شما می‌توانید با استفاده از unpack نمرات و اسامی را از هم تفکیک کنید و از دستور sum و  len  برای محاسبه میانگین کمک بگیرید.\n",
    "</p>"
   ]
  },
  {
   "cell_type": "markdown",
   "metadata": {},
   "source": [
    "<h4 style='direction:rtl;text-align:right;font-size:18px;font-family:samim;'>جواب</h4>"
   ]
  },
  {
   "cell_type": "code",
   "execution_count": 41,
   "metadata": {},
   "outputs": [
    {
     "name": "stdout",
     "output_type": "stream",
     "text": [
      "{'Sajad': 18.0, 'Elham': 17.833333333333332, 'Sahar': 17.833333333333332}\n"
     ]
    }
   ],
   "source": [
    "numbers = [('Sajad', 18.5, 19, 16.5), ('Elham', 20, 16, 17.5), ('Sahar', 17, 18, 18.5)]\n",
    "\n",
    "avg = {a:sum(b)/len(b) for a, *b in numbers}\n",
    "\n",
    "print(avg)\n"
   ]
  }
 ],
 "metadata": {
  "kernelspec": {
   "display_name": "Python 3 (ipykernel)",
   "language": "python",
   "name": "python3"
  },
  "language_info": {
   "codemirror_mode": {
    "name": "ipython",
    "version": 3
   },
   "file_extension": ".py",
   "mimetype": "text/x-python",
   "name": "python",
   "nbconvert_exporter": "python",
   "pygments_lexer": "ipython3",
   "version": "3.9.12"
  }
 },
 "nbformat": 4,
 "nbformat_minor": 1
}
