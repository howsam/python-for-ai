{
 "cells": [
  {
   "cell_type": "markdown",
   "metadata": {},
   "source": [
    "<div style=\"text-align:center; font-family:samim; font-size:30px;\"><strong> آشنایی با مجموعه‌ها</strong></div>   \n",
    "<br>\n",
    "<p style=\"text-align:center; font-family:samim; font-size:20px;\">تمرین سری نهم</p> \n",
    "<br>\n",
    "</p>"
   ]
  },
  {
   "cell_type": "markdown",
   "metadata": {},
   "source": [
    "<p style='direction:rtl;text-align:right;font-size:17px;font-family:samim;line-height:1.5;'>\n",
    "    در این سلسله تمرین‌های آموزشی \"پایتون برای هوش مصنوعی با هوسم\"، ما از شما دعوت می‌کنیم که با یک روند گام به گام، به تدریج پیشرفت کنید. این مسیر ممکن است زمان‌بر باشد، پس صبور باشید و به راهنمایی‌ها و راهکارهایی که از تجربه ما در ارتباط با دانشجویان مختلف بدست آمده است، اعتماد کنید. برای حل مسائل، لطفا به نکات زیر توجه کنید. امیدواریم شاهد پیشرفت‌های شما در این مسیر باشیم. موفق و پیروز باشید!\n",
    "    </p>\n",
    "<br>\n",
    "<div style=\"font-family: samim; font-size: 14px; text-align: right; direction: rtl;\">\n",
    "    <strong>فونت صمیم:</strong> برای مشاهده بهتر توضیحات فارسی، پیشنهاد می‌شود فونت رایگان صمیم را روی سیستم شخصی خود نصب کنید. <a href=\"https://www.fontyab.com/5024/%D9%81%D9%88%D9%86%D8%AA-%D9%81%D8%A7%D8%B1%D8%B3%DB%8C-%D8%B5%D9%85%DB%8C%D9%85.html\">لینک دانلود فونت صمیم</a>\n",
    "    <br>\n",
    "    <br>\n",
    "    <strong>نحوه مشاهده تمرین‌ها:</strong> هر تمرین شامل سه بخش سوال، راهنمایی و جواب هست. راهنمایی و جواب مینیمایز شده است. بهتر هست از Jupyter Lab برای مشاهده درست نوتبوک‌ها و سلول‌ها استفاده شود.\n",
    "    <br>\n",
    "    <br>\n",
    "    <strong>تمرکز بر روی مسئله:</strong> قبل از هر چیز، هر سوال را دقیق بخوانید و به آن فکر کنید. این اولین گام برای حل مسئله است.\n",
    "    <br>\n",
    "    <br>\n",
    "    <strong>استفاده از کاغذ:</strong> اگر نیاز بود، فلوچارت حل مساله را روی کاغذ  بنویسید و به آن فکر کنید. بسیاری اوقات، این کار می‌تواند به روشن شدن مساله و حل بهتر آن کمک کند.\n",
    "    <br>\n",
    "    <br>\n",
    "    <strong>شروع به کدنویسی:</strong> دست روی کیبورد و کدنویسی را فراموش نکنید! برای تسلط بر پایتون، نیاز هست تمرین‌های زیادی را کد بزنید.\n",
    "    <br>\n",
    "    <br>\n",
    "    <strong>استفاده متناسب از منابع:</strong> سعی کنید بدون استفاده از ابزارهای کمکی نظیر ChatGPT یا اینترنت، مسئله‌ها را حل کنید. دراینصورت، قدرت حل مساله در مغز شما تقویت می‌شود.\n",
    "    <br>\n",
    "    <br>\n",
    "    <strong>راهنمایی و ارزیابی:</strong> اگر پس از تلاش، به نتیجه نرسیدید، راهنمایی‌های ارائه شده را مطالعه کرده و دوباره به حل مساله بپردازید. اگر بعد از چند ساعت تلاش برای یک مساله، نتواستید، آنگاه جواب مساله را نگاه کنید.\n",
    "    <br>\n",
    "    <br>\n",
    "    <strong>مبتنی بر محتوا:</strong> سعی کنید با توجه به مباحثی که در ویدیو آموزش هر فصل آموخته‌اید، به سوالات پاسخ دهید و از دستورات جدید خودداری کنید. این به شما کمک می‌کند تا گام به گام و با پیشرفت مرحله‌ای، مسائل را حل کنید.\n",
    "    <br>\n",
    "    <br>\n",
    "    <strong>متنوع بودن راه‌حل‌ها:</strong> به یاد داشته باشید که برای هر سوال، روش‌های مختلفی وجود دارد. راه‌حل ارائه شده فقط یکی از راه‌حل‌های ممکن است و ممکن هست جواب شما هم درست باشد.\n",
    "</div>\n"
   ]
  },
  {
   "cell_type": "markdown",
   "metadata": {},
   "source": [
    "<h2 style='direction:rtl;text-align:right;font-family:samim;'><b>🔸 تمرین ۱</b></h2>"
   ]
  },
  {
   "cell_type": "markdown",
   "metadata": {},
   "source": [
    "<p style='direction:rtl;text-align:right;font-size:18px;font-family:samim;'>\n",
    "    کدی بنویسید که لیست زیر به عنوان ورودی دریافت کند و عناصر تکراری را در قالب یک مجموعه برگرداند.\n",
    "    <br>\n",
    "    <br>\n",
    "    $$lst = [1,1,3,6,7,8,0,8,3]$$\n",
    "     \n",
    "</p>"
   ]
  },
  {
   "cell_type": "code",
   "execution_count": null,
   "metadata": {},
   "outputs": [],
   "source": []
  },
  {
   "cell_type": "markdown",
   "metadata": {
    "tags": []
   },
   "source": [
    "<h4 style='direction:rtl;text-align:right;font-size:18px;font-family:samim;'>راهنمایی</h4>"
   ]
  },
  {
   "cell_type": "markdown",
   "metadata": {
    "tags": []
   },
   "source": [
    "<p style='direction:rtl;text-align:right;font-size:16px;font-family:samim;'>\n",
    "برای شناسایی عناصر تکراری در یک لیست، از دو مجموعه استفاده کنید: یکی برای ذخیره عناصری که دیده‌اید و دیگری برای ذخیره عناصری که بیش از یک بار مشاهده شده‌اند.\n",
    "</p>"
   ]
  },
  {
   "cell_type": "markdown",
   "metadata": {
    "jp-MarkdownHeadingCollapsed": true,
    "tags": []
   },
   "source": [
    "<h4 style='direction:rtl;text-align:right;font-size:18px;font-family:samim;'>جواب</h4>"
   ]
  },
  {
   "cell_type": "code",
   "execution_count": 39,
   "metadata": {
    "tags": []
   },
   "outputs": [
    {
     "name": "stdout",
     "output_type": "stream",
     "text": [
      "{8, 1, 3}\n"
     ]
    }
   ],
   "source": [
    "lst = [1,1,3,6,7,8,0,8,3]\n",
    "\n",
    "seen = set()\n",
    "duplicates = set()\n",
    "\n",
    "for item in lst:\n",
    "    if item in seen:\n",
    "        duplicates.add(item)\n",
    "    else:\n",
    "        seen.add(item)\n",
    "        \n",
    "print(duplicates)"
   ]
  },
  {
   "cell_type": "markdown",
   "metadata": {},
   "source": [
    "<h2 style='direction:rtl;text-align:right;font-family:samim;'><b>🔸 تمرین ۲</b></h2>"
   ]
  },
  {
   "cell_type": "markdown",
   "metadata": {},
   "source": [
    "<p style='direction:rtl;text-align:right;font-size:18px;font-family:samim;line-height:1.5;'>\n",
    "کدی بنویسید که دو مجموعه A و B و عدد تعیین شده c  را به عنوان ورودی در نظر بگیرد و تمام جفت‌هایی از عناصر این دو مجموعه که جمعشان برابر با عدد داده شده است را برگرداند.  \n",
    "    <br>\n",
    "    <br>\n",
    "$$A = \\{1, 2, 3\\}, B = \\{4, 5, 6\\}, c =7$$ \n",
    "\n",
    "    \n",
    "</p>"
   ]
  },
  {
   "cell_type": "code",
   "execution_count": null,
   "metadata": {},
   "outputs": [],
   "source": []
  },
  {
   "cell_type": "markdown",
   "metadata": {
    "tags": []
   },
   "source": [
    "<h4 style='direction:rtl;text-align:right;font-size:18px;font-family:samim;'>راهنمایی</h4>"
   ]
  },
  {
   "cell_type": "markdown",
   "metadata": {
    "tags": []
   },
   "source": [
    "<p style='direction:rtl;text-align:right;font-size:16px;font-family:samim;'>\n",
    "برای یافتن جفت‌های عناصر از دو مجموعه که جمعشان برابر با عدد مشخص شده است، از دو حلقه تو در تو استفاده کنید و جفت‌هایی را که شرط را برآورده می‌کنند، به مجموعه اضافه کنید\n",
    "</p>"
   ]
  },
  {
   "cell_type": "markdown",
   "metadata": {
    "jp-MarkdownHeadingCollapsed": true,
    "tags": []
   },
   "source": [
    "<h4 style='direction:rtl;text-align:right;font-size:18px;font-family:samim;'>جواب</h4>"
   ]
  },
  {
   "cell_type": "code",
   "execution_count": 40,
   "metadata": {
    "tags": []
   },
   "outputs": [
    {
     "name": "stdout",
     "output_type": "stream",
     "text": [
      "{(1, 6), (2, 5), (3, 4)}\n"
     ]
    }
   ],
   "source": [
    "A = {1, 2, 3}\n",
    "B = {4, 5, 6}\n",
    "c = 7\n",
    "\n",
    "pairs = set()\n",
    "\n",
    "for x in A:\n",
    "    for y in B:\n",
    "        if x + y == c:\n",
    "            pairs.add((x, y))\n",
    "            \n",
    "print(pairs)            "
   ]
  },
  {
   "cell_type": "markdown",
   "metadata": {},
   "source": [
    "<h2 style='direction:rtl;text-align:right;font-family:samim;'><b>🔸 تمرین ۳</b></h2>"
   ]
  },
  {
   "cell_type": "markdown",
   "metadata": {},
   "source": [
    "<p style='direction:rtl;text-align:right;font-size:18px;font-family:samim;line-height:1.5;'>\n",
    "یک دیکشنری را به یک مجموعه از زوج‌ها (کلید، مقدار) تبدیل کنید.\n",
    "</p>"
   ]
  },
  {
   "cell_type": "code",
   "execution_count": null,
   "metadata": {},
   "outputs": [],
   "source": []
  },
  {
   "cell_type": "markdown",
   "metadata": {
    "tags": []
   },
   "source": [
    "<h4 style='direction:rtl;text-align:right;font-size:18px;font-family:samim;'>راهنمایی</h4>"
   ]
  },
  {
   "cell_type": "markdown",
   "metadata": {
    "tags": []
   },
   "source": [
    "<p style='direction:rtl;text-align:right;font-size:16px;font-family:samim;'>\n",
    "از متد items دیکشنری استفاده کنید و نتیجه را به یک مجموعه تبدیل کنید.\n",
    "</p>"
   ]
  },
  {
   "cell_type": "markdown",
   "metadata": {
    "jp-MarkdownHeadingCollapsed": true,
    "tags": []
   },
   "source": [
    "<h4 style='direction:rtl;text-align:right;font-size:18px;font-family:samim;'>جواب</h4>"
   ]
  },
  {
   "cell_type": "code",
   "execution_count": 41,
   "metadata": {
    "tags": []
   },
   "outputs": [
    {
     "name": "stdout",
     "output_type": "stream",
     "text": [
      "{('b', 2), ('c', 3), ('a', 1)}\n"
     ]
    }
   ],
   "source": [
    "my_dict = {'a': 1, 'b': 2, 'c': 3}\n",
    "\n",
    "dict_set = set(my_dict.items())\n",
    "\n",
    "print(dict_set)"
   ]
  },
  {
   "cell_type": "markdown",
   "metadata": {},
   "source": [
    "<h2 style='direction:rtl;text-align:right;font-family:samim;'><b>🔸 تمرین ۴</b></h2>"
   ]
  },
  {
   "cell_type": "markdown",
   "metadata": {},
   "source": [
    "<p style='direction:rtl;text-align:right;font-size:18px;font-family:samim;'>\n",
    "کدی بنویسید که اشتراک تمام مجموعه ها در لیست زیر را پیدا کند.\n",
    "    <br>\n",
    "    <br>\n",
    "$$\n",
    "\\text{sets_list} = [ \\{1, 2, 3\\}, \\{2, 3, 4\\}, \\{2, 3, 5\\} ]\n",
    "$$\n",
    "  \n",
    "</p>"
   ]
  },
  {
   "cell_type": "code",
   "execution_count": null,
   "metadata": {},
   "outputs": [],
   "source": []
  },
  {
   "cell_type": "markdown",
   "metadata": {
    "tags": []
   },
   "source": [
    "<h4 style='direction:rtl;text-align:right;font-size:18px;font-family:samim;'>راهنمایی</h4>"
   ]
  },
  {
   "cell_type": "markdown",
   "metadata": {
    "tags": []
   },
   "source": [
    "<p style='direction:rtl;text-align:right;font-size:16px;font-family:samim;'>\n",
    "برای یافتن اشتراک تمام مجموعه‌ها در یک لیست، ابتدا اشتراک را با اولین مجموعه پر کنید و سپس به طور تدریجی آن را با هر مجموعه بعدی به‌روزرسانی کنید.\n",
    "</p>"
   ]
  },
  {
   "cell_type": "markdown",
   "metadata": {
    "jp-MarkdownHeadingCollapsed": true,
    "tags": []
   },
   "source": [
    "<h4 style='direction:rtl;text-align:right;font-size:18px;font-family:samim;'>جواب</h4>"
   ]
  },
  {
   "cell_type": "code",
   "execution_count": 42,
   "metadata": {
    "tags": []
   },
   "outputs": [
    {
     "name": "stdout",
     "output_type": "stream",
     "text": [
      "{2, 3}\n"
     ]
    }
   ],
   "source": [
    "sets_list = [{1, 2, 3}, {2, 3, 4}, {2, 3, 5}] \n",
    "\n",
    "intersection_set = sets_list[0]\n",
    "\n",
    "for s in sets_list[1:]:\n",
    "    intersection_set = intersection_set.intersection(s)\n",
    "    \n",
    "print(intersection_set)    "
   ]
  },
  {
   "cell_type": "markdown",
   "metadata": {},
   "source": [
    "<h2 style='direction:rtl;text-align:right;font-family:samim;'><b>🔸 تمرین ۵</b></h2>"
   ]
  },
  {
   "cell_type": "markdown",
   "metadata": {},
   "source": [
    "<p style='direction:rtl;text-align:right;font-size:18px;font-family:samim;line-height:1.5;'>\n",
    "کدی بنویسید که  بررسی کند آیا هر عنصر از یک لیست در یک مجموعه وجود دارد یا نه.\n",
    "\n",
    "</p>"
   ]
  },
  {
   "cell_type": "code",
   "execution_count": null,
   "metadata": {},
   "outputs": [],
   "source": []
  },
  {
   "cell_type": "markdown",
   "metadata": {
    "tags": []
   },
   "source": [
    "<h4 style='direction:rtl;text-align:right;font-size:18px;font-family:samim;'>راهنمایی</h4>"
   ]
  },
  {
   "cell_type": "markdown",
   "metadata": {
    "tags": []
   },
   "source": [
    "<p style='direction:rtl;text-align:right;font-size:16px;font-family:samim;'>\n",
    "برای بررسی اینکه آیا همه عناصر یک لیست در یک مجموعه وجود دارند یا خیر، از تابع all استفاده کنید\n",
    "</p>"
   ]
  },
  {
   "cell_type": "markdown",
   "metadata": {
    "jp-MarkdownHeadingCollapsed": true,
    "tags": []
   },
   "source": [
    "<h4 style='direction:rtl;text-align:right;font-size:18px;font-family:samim;'>جواب</h4>"
   ]
  },
  {
   "cell_type": "code",
   "execution_count": 43,
   "metadata": {
    "tags": []
   },
   "outputs": [
    {
     "name": "stdout",
     "output_type": "stream",
     "text": [
      "True\n"
     ]
    }
   ],
   "source": [
    "my_list = [1, 2]\n",
    "my_set = {1, 2, 3}\n",
    "\n",
    "result = all(item in my_set for item in my_list)\n",
    "\n",
    "print(result)"
   ]
  },
  {
   "cell_type": "markdown",
   "metadata": {},
   "source": [
    "<h2 style='direction:rtl;text-align:right;font-family:samim;'><b>🔸 تمرین ۶</b></h2>"
   ]
  },
  {
   "cell_type": "markdown",
   "metadata": {},
   "source": [
    "<p style='direction:rtl;text-align:right;font-size:18px;font-family:samim;line-height:1.5;'>\n",
    "کدی  بنویسید که دو مجموعه زیر را دریافت کند و همه زوج‌های (x, y) را که x از مجموعه‌ی اول و y از مجموعه‌ی دوم باشد و x*y فرد باشد را برگرداند.\n",
    "<br>\n",
    "$$set1 = \\{1, 2, 3\\}$$\n",
    "$$set2 = \\{4, 5, 6\\}$$   \n",
    "</p>"
   ]
  },
  {
   "cell_type": "code",
   "execution_count": null,
   "metadata": {},
   "outputs": [],
   "source": []
  },
  {
   "cell_type": "markdown",
   "metadata": {
    "tags": []
   },
   "source": [
    "<h4 style='direction:rtl;text-align:right;font-size:18px;font-family:samim;'>راهنمایی</h4>"
   ]
  },
  {
   "cell_type": "markdown",
   "metadata": {
    "tags": []
   },
   "source": [
    "<p style='direction:rtl;text-align:right;font-size:16px;font-family:samim;'>\n",
    "برای پیدا کردن جفت‌های \n",
    "(𝑥,𝑦) که حاصل‌ضرب \n",
    "𝑥 و \n",
    "𝑦\n",
    "فرد باشد، از دو حلقه تو در تو و شرط بررسی فرد بودن حاصل‌ضرب استفاده کنید.\n",
    "</p>"
   ]
  },
  {
   "cell_type": "markdown",
   "metadata": {
    "jp-MarkdownHeadingCollapsed": true,
    "tags": []
   },
   "source": [
    "<h4 style='direction:rtl;text-align:right;font-size:18px;font-family:samim;'>جواب</h4>"
   ]
  },
  {
   "cell_type": "code",
   "execution_count": 44,
   "metadata": {
    "tags": []
   },
   "outputs": [
    {
     "name": "stdout",
     "output_type": "stream",
     "text": [
      "{(3, 5), (1, 5)}\n"
     ]
    }
   ],
   "source": [
    "set1 = {1, 2, 3}\n",
    "set2 = {4, 5, 6}\n",
    "\n",
    "result = {(x, y) for x in set1 for y in set2 if (x * y) % 2 == 1}\n",
    "\n",
    "print(result)"
   ]
  },
  {
   "cell_type": "markdown",
   "metadata": {},
   "source": [
    "<h2 style='direction:rtl;text-align:right;font-family:samim;'><b>🔸 تمرین ۷</b></h2>"
   ]
  },
  {
   "cell_type": "markdown",
   "metadata": {},
   "source": [
    "<p style='direction:rtl;text-align:right;font-size:18px;font-family:samim;line-height:1.5;'>\n",
    "کدی بنویسید که تفاوت مجموعه‌ی اول با مجموع دو مجموعه‌ی دوم و سوم را برگرداند.\n",
    "<br>\n",
    "<br>\n",
    "$$ set1 = \\{1, 2, 3, 4\\}$$\n",
    "$$ set2 = \\{3, 4, 5\\} $$\n",
    "$$ set3 = \\{4, 5, 6\\} $$\n",
    "\n",
    "</p>"
   ]
  },
  {
   "cell_type": "code",
   "execution_count": null,
   "metadata": {},
   "outputs": [],
   "source": []
  },
  {
   "cell_type": "markdown",
   "metadata": {
    "tags": []
   },
   "source": [
    "<h4 style='direction:rtl;text-align:right;font-size:18px;font-family:samim;'>راهنمایی</h4>"
   ]
  },
  {
   "cell_type": "markdown",
   "metadata": {
    "tags": []
   },
   "source": [
    "<p style='direction:rtl;text-align:right;font-size:16px;font-family:samim;'>\n",
    "برای پیدا کردن تفاوت بین یک مجموعه و اتحاد دو مجموعه دیگر، ابتدا اتحاد دو مجموعه دوم و سوم را محاسبه کنید و سپس از متد difference برای یافتن تفاوت استفاده کنید.\n",
    "    \n",
    "</p>"
   ]
  },
  {
   "cell_type": "markdown",
   "metadata": {
    "jp-MarkdownHeadingCollapsed": true,
    "tags": []
   },
   "source": [
    "<h4 style='direction:rtl;text-align:right;font-size:18px;font-family:samim;'>جواب</h4>"
   ]
  },
  {
   "cell_type": "code",
   "execution_count": 45,
   "metadata": {
    "tags": []
   },
   "outputs": [
    {
     "data": {
      "text/plain": [
       "{1, 2}"
      ]
     },
     "execution_count": 45,
     "metadata": {},
     "output_type": "execute_result"
    }
   ],
   "source": [
    "set1 = {1, 2, 3, 4}\n",
    "set2 = {3, 4, 5}\n",
    "set3 = {4, 5, 6}\n",
    "\n",
    "set1.difference(set2.union(set3))"
   ]
  },
  {
   "cell_type": "markdown",
   "metadata": {},
   "source": [
    "<h2 style='direction:rtl;text-align:right;font-family:samim;'><b>🔸 تمرین ۸</b></h2>"
   ]
  },
  {
   "cell_type": "markdown",
   "metadata": {},
   "source": [
    "<p style='direction:rtl;text-align:right;font-size:18px;font-family:samim;line-height:1.5;'>\n",
    "کدی  بنویسید که عناصر غیر مشترک در دو مجموعه را پیدا کند.\n",
    "<br>\n",
    "<br>\n",
    "$$set1 = \\{1, 2, 3\\}$$\n",
    "$$set2 = \\{3, 4, 5\\}$$\n",
    "</p>"
   ]
  },
  {
   "cell_type": "code",
   "execution_count": null,
   "metadata": {},
   "outputs": [],
   "source": []
  },
  {
   "cell_type": "markdown",
   "metadata": {
    "tags": []
   },
   "source": [
    "<h4 style='direction:rtl;text-align:right;font-size:18px;font-family:samim;'>راهنمایی</h4>"
   ]
  },
  {
   "cell_type": "markdown",
   "metadata": {
    "tags": []
   },
   "source": [
    "<p style='direction:rtl;text-align:right;font-size:16px;font-family:samim;'>\n",
    "برای یافتن عناصر غیر مشترک در دو مجموعه، از متد symmetric_difference استفاده کنید که تمام عناصری را که تنها در یکی از مجموعه‌ها وجود دارند، برمی‌گرداند.\n",
    "</p>"
   ]
  },
  {
   "cell_type": "markdown",
   "metadata": {
    "jp-MarkdownHeadingCollapsed": true,
    "tags": []
   },
   "source": [
    "<h4 style='direction:rtl;text-align:right;font-size:18px;font-family:samim;'>جواب</h4>"
   ]
  },
  {
   "cell_type": "code",
   "execution_count": 46,
   "metadata": {
    "tags": []
   },
   "outputs": [
    {
     "data": {
      "text/plain": [
       "{1, 2, 4, 5}"
      ]
     },
     "execution_count": 46,
     "metadata": {},
     "output_type": "execute_result"
    }
   ],
   "source": [
    "set1 = {1, 2, 3}\n",
    "set2 = {3, 4, 5}\n",
    "\n",
    "set1.symmetric_difference(set2)"
   ]
  },
  {
   "cell_type": "markdown",
   "metadata": {},
   "source": [
    "<h2 style='direction:rtl;text-align:right;font-family:samim;'><b>🔸 تمرین ۹</b></h2>"
   ]
  },
  {
   "cell_type": "markdown",
   "metadata": {},
   "source": [
    "<p style='direction:rtl;text-align:right;font-size:18px;font-family:samim;line-height:1.5;'>\n",
    "  کدی بنویسید که تعداد زیرمجموعه‌های غیر تهی یک مجموعه را برگرداند.\n",
    "</p>"
   ]
  },
  {
   "cell_type": "code",
   "execution_count": null,
   "metadata": {},
   "outputs": [],
   "source": []
  },
  {
   "cell_type": "markdown",
   "metadata": {
    "tags": []
   },
   "source": [
    "<h4 style='direction:rtl;text-align:right;font-size:18px;font-family:samim;'>راهنمایی</h4>"
   ]
  },
  {
   "cell_type": "markdown",
   "metadata": {
    "tags": []
   },
   "source": [
    "<p style='direction:rtl;text-align:right;font-size:16px;font-family:samim;'>\n",
    "برای مجموعه‌ای با \n",
    "𝑛\n",
    " عنصر، تعداد زیرمجموعه‌های غیر تهی برابر است با:\n",
    "$$2^{n}-1$$\n",
    "</p>"
   ]
  },
  {
   "cell_type": "markdown",
   "metadata": {
    "jp-MarkdownHeadingCollapsed": true,
    "tags": []
   },
   "source": [
    "<h4 style='direction:rtl;text-align:right;font-size:18px;font-family:samim;'>جواب</h4>"
   ]
  },
  {
   "cell_type": "code",
   "execution_count": 47,
   "metadata": {
    "tags": []
   },
   "outputs": [
    {
     "name": "stdout",
     "output_type": "stream",
     "text": [
      "7\n"
     ]
    }
   ],
   "source": [
    "s = {1, 2, 3}\n",
    "\n",
    "num = 2**len(s) - 1\n",
    "\n",
    "print(num)"
   ]
  },
  {
   "cell_type": "markdown",
   "metadata": {},
   "source": [
    "<h2 style='direction:rtl;text-align:right;font-family:samim;'><b>🔸 تمرین ۱۰</b></h2>"
   ]
  },
  {
   "cell_type": "markdown",
   "metadata": {},
   "source": [
    "<p style='direction:rtl;text-align:right;font-size:18px;font-family:samim;line-height:1.5;'>\n",
    " کدی بنویسید که بررسی کند آیا مجموعه تعریف شده شامل اعداد زوج است یا نه.\n",
    "    <br>\n",
    "    <br>\n",
    " $$\\text{my_set} = [ \\{1, 2, 3\\}]$$\n",
    "</p>"
   ]
  },
  {
   "cell_type": "code",
   "execution_count": null,
   "metadata": {},
   "outputs": [],
   "source": []
  },
  {
   "cell_type": "markdown",
   "metadata": {
    "tags": []
   },
   "source": [
    "<h4 style='direction:rtl;text-align:right;font-size:18px;font-family:samim;'>راهنمایی</h4>"
   ]
  },
  {
   "cell_type": "markdown",
   "metadata": {
    "tags": []
   },
   "source": [
    "<p style='direction:rtl;text-align:right;font-size:16px;font-family:samim;'>\n",
    " با استفاده از حلقه تک خطی و دستور any می‌توانید شرط را بررسی کنید.\n",
    "    \n",
    "</p>"
   ]
  },
  {
   "cell_type": "markdown",
   "metadata": {
    "jp-MarkdownHeadingCollapsed": true,
    "tags": []
   },
   "source": [
    "<h4 style='direction:rtl;text-align:right;font-size:18px;font-family:samim;'>جواب</h4>"
   ]
  },
  {
   "cell_type": "code",
   "execution_count": 48,
   "metadata": {
    "tags": []
   },
   "outputs": [
    {
     "name": "stdout",
     "output_type": "stream",
     "text": [
      "True\n"
     ]
    }
   ],
   "source": [
    "my_Set = {1,2,3}\n",
    "\n",
    "result = any(x % 2 == 0 for x in my_set)\n",
    "\n",
    "print(result)"
   ]
  },
  {
   "cell_type": "markdown",
   "metadata": {},
   "source": [
    "<h2 style='direction:rtl;text-align:right;font-family:samim;'><b>🔸 تمرین ۱۱</b></h2>"
   ]
  },
  {
   "cell_type": "markdown",
   "metadata": {},
   "source": [
    "<p style='direction:rtl;text-align:right;font-size:18px;font-family:samim;line-height:1.5;'>\n",
    "کدی بنویسید که بدون استفاده از عملگر = آیا دو مجموعه برابر هستند یا نه.\n",
    "</p>"
   ]
  },
  {
   "cell_type": "code",
   "execution_count": null,
   "metadata": {},
   "outputs": [],
   "source": []
  },
  {
   "cell_type": "markdown",
   "metadata": {
    "tags": []
   },
   "source": [
    "<h4 style='direction:rtl;text-align:right;font-size:18px;font-family:samim;'>راهنمایی</h4>"
   ]
  },
  {
   "cell_type": "markdown",
   "metadata": {
    "tags": []
   },
   "source": [
    "<p style='direction:rtl;text-align:right;font-size:16px;font-family:samim;'>\n",
    "دو مجموعه زمانی برابر هستند که هرکدام زیرمجموعه‌ای از دیگری باشد.\n",
    "</p>"
   ]
  },
  {
   "cell_type": "markdown",
   "metadata": {
    "jp-MarkdownHeadingCollapsed": true,
    "tags": []
   },
   "source": [
    "<h4 style='direction:rtl;text-align:right;font-size:18px;font-family:samim;'>جواب</h4>"
   ]
  },
  {
   "cell_type": "code",
   "execution_count": 49,
   "metadata": {
    "tags": []
   },
   "outputs": [
    {
     "data": {
      "text/plain": [
       "True"
      ]
     },
     "execution_count": 49,
     "metadata": {},
     "output_type": "execute_result"
    }
   ],
   "source": [
    "set1 = {1, 2, 3}\n",
    "set2 = {3, 1, 2}\n",
    "\n",
    "set1.issubset(set2) and set2.issubset(set1)"
   ]
  },
  {
   "cell_type": "markdown",
   "metadata": {},
   "source": [
    "<h2 style='direction:rtl;text-align:right;font-family:samim;'><b>🔸 تمرین ۱۲</b></h2>"
   ]
  },
  {
   "cell_type": "markdown",
   "metadata": {},
   "source": [
    "<p style='direction:rtl;text-align:right;font-size:18px;font-family:samim;'>\n",
    "کدی بنویسید که  عناصر مشترک بین دو مجموعه را از هر دو مجموعه حذف کند.\n",
    "</p>"
   ]
  },
  {
   "cell_type": "code",
   "execution_count": null,
   "metadata": {},
   "outputs": [],
   "source": []
  },
  {
   "cell_type": "markdown",
   "metadata": {
    "tags": []
   },
   "source": [
    "<h4 style='direction:rtl;text-align:right;font-size:18px;font-family:samim;'>راهنمایی</h4>"
   ]
  },
  {
   "cell_type": "markdown",
   "metadata": {
    "tags": []
   },
   "source": [
    "<p style='direction:rtl;text-align:right;font-size:16px;font-family:samim;'>\n",
    "برای حذف عناصر مشترک از هر دو مجموعه، ابتدا این عناصر را با استفاده از intersection شناسایی کنید و سپس با difference_update از هر دو مجموعه حذف کنید.\n",
    "</p>"
   ]
  },
  {
   "cell_type": "markdown",
   "metadata": {
    "jp-MarkdownHeadingCollapsed": true,
    "tags": []
   },
   "source": [
    "<h4 style='direction:rtl;text-align:right;font-size:18px;font-family:samim;'>جواب</h4>"
   ]
  },
  {
   "cell_type": "code",
   "execution_count": 50,
   "metadata": {
    "tags": []
   },
   "outputs": [
    {
     "name": "stdout",
     "output_type": "stream",
     "text": [
      "{1, 2} {4, 5}\n"
     ]
    }
   ],
   "source": [
    "set1 = {1, 2, 3}\n",
    "set2 = {3, 4, 5}\n",
    "\n",
    "common_elements = set1.intersection(set2)\n",
    "\n",
    "set1.difference_update(common_elements)\n",
    "set2.difference_update(common_elements)\n",
    "\n",
    "print(set1, set2)"
   ]
  },
  {
   "cell_type": "markdown",
   "metadata": {},
   "source": [
    "<h2 style='direction:rtl;text-align:right;font-family:samim;'><b>🔸 تمرین ۱۳</b></h2>"
   ]
  },
  {
   "cell_type": "markdown",
   "metadata": {},
   "source": [
    "<p style='direction:rtl;text-align:right;font-size:18px;font-family:samim;line-height:1.5;'>\n",
    "کدی بنویسید که تعداد عناصر یکتا در لیستی از مجموعه‌ها را محاسبه کند.\n",
    "</p>"
   ]
  },
  {
   "cell_type": "code",
   "execution_count": null,
   "metadata": {},
   "outputs": [],
   "source": []
  },
  {
   "cell_type": "markdown",
   "metadata": {
    "tags": []
   },
   "source": [
    "<h4 style='direction:rtl;text-align:right;font-size:18px;font-family:samim;'>راهنمایی</h4>"
   ]
  },
  {
   "cell_type": "markdown",
   "metadata": {
    "tags": []
   },
   "source": [
    "<p style='direction:rtl;text-align:right;font-size:16px;font-family:samim;'>\n",
    "برای یافتن تعداد عناصر یکتا در لیستی از مجموعه‌ها، ابتدا تمامی عناصر را در یک مجموعه جمع‌آوری کنید و سپس طول آن مجموعه را محاسبه کنید.\n",
    "</p>"
   ]
  },
  {
   "cell_type": "markdown",
   "metadata": {
    "jp-MarkdownHeadingCollapsed": true,
    "tags": []
   },
   "source": [
    "<h4 style='direction:rtl;text-align:right;font-size:18px;font-family:samim;'>جواب</h4>"
   ]
  },
  {
   "cell_type": "code",
   "execution_count": 51,
   "metadata": {
    "tags": []
   },
   "outputs": [
    {
     "name": "stdout",
     "output_type": "stream",
     "text": [
      "6\n"
     ]
    }
   ],
   "source": [
    "sets_list = [{1, 2, 3}, {2, 3, 4}, {4, 5, 6}]\n",
    "\n",
    "unique_elements = set()\n",
    "\n",
    "for s in sets_list:\n",
    "    unique_elements.update(s)\n",
    "    \n",
    "result = len(unique_elements)  \n",
    "\n",
    "print(result)"
   ]
  },
  {
   "cell_type": "markdown",
   "metadata": {},
   "source": [
    "<h2 style='direction:rtl;text-align:right;font-family:samim;'><b>🔸 تمرین ۱۴</b></h2>"
   ]
  },
  {
   "cell_type": "markdown",
   "metadata": {},
   "source": [
    "<p style='direction:rtl;text-align:right;font-size:18px;font-family:samim;line-height:1.5;'>\n",
    "کدی  بنویسید که کوچکترین عدد مثبت در مجموعه زیر را پیدا کند.\n",
    "<br>\n",
    "<br>   \n",
    "$$\\text{my_set} = \\{-1, -2, 3, 4, -5, 1, 0\\}$$\n",
    "   \n",
    "</p>"
   ]
  },
  {
   "cell_type": "code",
   "execution_count": null,
   "metadata": {},
   "outputs": [],
   "source": []
  },
  {
   "cell_type": "markdown",
   "metadata": {
    "tags": []
   },
   "source": [
    "<h4 style='direction:rtl;text-align:right;font-size:18px;font-family:samim;'>راهنمایی</h4>"
   ]
  },
  {
   "cell_type": "markdown",
   "metadata": {
    "tags": []
   },
   "source": [
    "<p style='direction:rtl;text-align:right;font-size:16px;font-family:samim;'>\n",
    "برای پیدا کردن کوچک‌ترین عدد مثبت در مجموعه، ابتدا اعداد مثبت را از مجموعه استخراج کرده و سپس کوچک‌ترین آن‌ها را با استفاده از تابع min پیدا کنید.\n",
    "</p>"
   ]
  },
  {
   "cell_type": "markdown",
   "metadata": {
    "jp-MarkdownHeadingCollapsed": true,
    "tags": []
   },
   "source": [
    "<h4 style='direction:rtl;text-align:right;font-size:18px;font-family:samim;'>جواب</h4>"
   ]
  },
  {
   "cell_type": "code",
   "execution_count": 52,
   "metadata": {
    "tags": []
   },
   "outputs": [
    {
     "name": "stdout",
     "output_type": "stream",
     "text": [
      "1\n"
     ]
    }
   ],
   "source": [
    "my_set = {-1, -2, 3, 4, -5, 1, 0}\n",
    "\n",
    "positives = [x for x in my_set if x > 0]\n",
    "\n",
    "min_num= min(positives)\n",
    "\n",
    "print(min_num)"
   ]
  },
  {
   "cell_type": "markdown",
   "metadata": {},
   "source": [
    "<h2 style='direction:rtl;text-align:right;font-family:samim;'><b>🔸 تمرین ۱۵</b></h2>"
   ]
  },
  {
   "cell_type": "markdown",
   "metadata": {},
   "source": [
    "<p style='direction:rtl;text-align:right;font-size:18px;font-family:samim;line-height:1.5;'>\n",
    "کدی بنویسید که بررسی کند آیا دو مجموعه با استفاده از ترکیب توابع issubset و len برابر هستند یا نه.\n",
    "</p>"
   ]
  },
  {
   "cell_type": "code",
   "execution_count": null,
   "metadata": {},
   "outputs": [],
   "source": []
  },
  {
   "cell_type": "markdown",
   "metadata": {
    "tags": []
   },
   "source": [
    "<h4 style='direction:rtl;text-align:right;font-size:18px;font-family:samim;'>راهنمایی</h4>"
   ]
  },
  {
   "cell_type": "markdown",
   "metadata": {
    "tags": []
   },
   "source": [
    "<p style='direction:rtl;text-align:right;font-size:16px;font-family:samim;'>\n",
    "ابتدا اطمینان حاصل کنید که هر مجموعه زیرمجموعه‌ای از دیگری باشد و سپس طول دو مجموعه برابر باشد.\n",
    "</p>"
   ]
  },
  {
   "cell_type": "markdown",
   "metadata": {
    "jp-MarkdownHeadingCollapsed": true,
    "tags": []
   },
   "source": [
    "<h4 style='direction:rtl;text-align:right;font-size:18px;font-family:samim;'>جواب</h4>"
   ]
  },
  {
   "cell_type": "code",
   "execution_count": 53,
   "metadata": {
    "tags": []
   },
   "outputs": [
    {
     "name": "stdout",
     "output_type": "stream",
     "text": [
      "False\n"
     ]
    }
   ],
   "source": [
    "set1 = {1, 2, 3, 6}\n",
    "set2 = {3, 1, 2}\n",
    "\n",
    "result = set1.issubset(set2) and set2.issubset(set1) and len(set1) == len(set2)\n",
    "\n",
    "print(result)"
   ]
  },
  {
   "cell_type": "markdown",
   "metadata": {},
   "source": [
    "<h2 style='direction:rtl;text-align:right;font-family:samim;'><b>🔸 تمرین ۱۶</b></h2>"
   ]
  },
  {
   "cell_type": "markdown",
   "metadata": {},
   "source": [
    "<p style='direction:rtl;text-align:right;font-size:18px;font-family:samim;line-height:1.5;'>\n",
    "کدی که یک عدد به عنوان ورودی بگیرد و یک مجموعه شامل تمام اعداد مربع کامل کمتر از آن عدد را برگرداند.\n",
    "</p>"
   ]
  },
  {
   "cell_type": "code",
   "execution_count": null,
   "metadata": {},
   "outputs": [],
   "source": []
  },
  {
   "cell_type": "markdown",
   "metadata": {
    "tags": []
   },
   "source": [
    "<h4 style='direction:rtl;text-align:right;font-size:18px;font-family:samim;'>راهنمایی</h4>"
   ]
  },
  {
   "cell_type": "markdown",
   "metadata": {
    "tags": []
   },
   "source": [
    "<p style='direction:rtl;text-align:right;font-size:16px;font-family:samim;'>\n",
    "برای محاسبه مربع اعداد از 1 تا جذر عدد ورودی استفاده کنید و سپس نتایج را در یک مجموعه ذخیره کنید.\n",
    "</p>"
   ]
  },
  {
   "cell_type": "markdown",
   "metadata": {
    "jp-MarkdownHeadingCollapsed": true,
    "tags": []
   },
   "source": [
    "<h4 style='direction:rtl;text-align:right;font-size:18px;font-family:samim;'>جواب</h4>"
   ]
  },
  {
   "cell_type": "code",
   "execution_count": 54,
   "metadata": {
    "tags": []
   },
   "outputs": [
    {
     "name": "stdout",
     "output_type": "stream",
     "text": [
      "[1, 4, 9, 16]\n"
     ]
    }
   ],
   "source": [
    "n = 20\n",
    "\n",
    "result = {x**2 for x in range(1, int(n**0.5) + 1)}\n",
    "\n",
    "print(sorted(result))"
   ]
  }
 ],
 "metadata": {
  "kernelspec": {
   "display_name": "Python 3 (ipykernel)",
   "language": "python",
   "name": "python3"
  },
  "language_info": {
   "codemirror_mode": {
    "name": "ipython",
    "version": 3
   },
   "file_extension": ".py",
   "mimetype": "text/x-python",
   "name": "python",
   "nbconvert_exporter": "python",
   "pygments_lexer": "ipython3",
   "version": "3.9.12"
  }
 },
 "nbformat": 4,
 "nbformat_minor": 4
}
