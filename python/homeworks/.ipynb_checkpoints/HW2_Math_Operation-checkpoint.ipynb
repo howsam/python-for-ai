{
 "cells": [
  {
   "cell_type": "markdown",
   "id": "d2483906",
   "metadata": {},
   "source": [
    "<div style=\"text-align:center; font-family:samim; font-size:30px;\"><strong> آشنایی با عملگرهای ریاضی</strong></div>   \n",
    "<br>\n",
    "<p style=\"text-align:center; font-family:samim; font-size:20px;\">تمرین سری دوم</p> \n",
    "<br>\n",
    "</p>"
   ]
  },
  {
   "cell_type": "markdown",
   "id": "d4056131",
   "metadata": {},
   "source": [
    "<p style='direction:rtl;text-align:right;font-size:17px;font-family:samim;line-height:1.5;'>\n",
    "    با احترام، در این سلسله تمرین‌های آموزشی \"پایتون برای هوش مصنوعی با هوسم\"، ما از شما دعوت می‌کنیم که با یک روند گام به گام، به تدریج پیشرفت کنید. این مسیر ممکن است زمان‌بر باشد، پس صبور باشید و به راهنمایی‌ها و راهکارهایی که از تجربه ما در ارتباط با دانشجویان مختلف بدست آمده است، اعتماد کنید. برای حل مسائل، لطفا به نکاتی که در ادامه آورده‌ایم توجه کنید. امیدواریم شاهد پیشرفت‌های چشمگیر شما در این مسیر باشیم. موفق و پیروز باشید!\n",
    "    </p>\n",
    "<br>\n",
    "<div style=\"font-family: samim; font-size: 14px; text-align: right; direction: rtl;\">\n",
    "    <strong>تمرکز بر روی مسئله:</strong> قبل از هر چیز، هر سوال را دقیقاً بخوانید و به آن فکر کنید. این اولین گام برای حل مسئله است.\n",
    "    <br>\n",
    "    <br>\n",
    "    <strong>استفاده از کاغذ:</strong> اگر نیاز باشد، مسئله را روی کاغذ بیان کرده و به آن فکر کنید. گاهی این کار می‌تواند به روشن شدن مسئله و حل بهتر آن کمک کند.\n",
    "    <br>\n",
    "    <br>\n",
    "    <strong>شروع به کدنویسی:</strong> حتماً دست‌های خود را روی کیبورد قرار دهید و شروع به کدنویسی کنید. این تجربه می‌تواند بهترین راه برای پیشروی در حل مسئله باشد.\n",
    "    <br>\n",
    "    <br>\n",
    "    <strong>استفاده متناسب از منابع:</strong> سعی کنید بدون استفاده از ابزارهای کمکی نظیر چت یا جی پی تی، به تلاش و تفکر خود اعتماد کنید. این امکان را به شما می‌دهد تا مهارت‌های خود را بهبود ببخشید.\n",
    "    <br>\n",
    "    <br>\n",
    "    <strong>راهنمایی و ارزیابی:</strong> اگر پس از تلاش، به نتیجه نرسیدید، راهنمایی‌ها و راه‌حل‌های ارائه شده را مطالعه کرده و دوباره به حل مسئله بپردازید.\n",
    "    <br>\n",
    "    <br>\n",
    "    <strong>مبتنی بر محتوا:</strong> سعی کنید با توجه به مباحثی که در ویدیو آموزشی هر فصل آموخته‌اید، به سوالات پاسخ دهید و از دستورات جدید خودداری کنید. این به شما کمک می‌کند تا گام به گام و با پیشرفت مرحله‌ای، مسائل را حل کنید.\n",
    "    <br>\n",
    "    <br>\n",
    "    <strong>متنوع بودن راه‌حل‌ها:</strong> به یاد داشته باشید که برای هر سوال، روش‌های مختلفی وجود دارد. راه‌حل ارائه شده فقط یکی از راه‌حل‌های ممکن است و شما می‌توانید روش‌های خود را نیز بررسی کنید.\n",
    "</div>\n"
   ]
  },
  {
   "cell_type": "markdown",
   "id": "27e7e1aa",
   "metadata": {},
   "source": [
    "<h2 style='direction:rtl;text-align:right;font-family:samim;'><b>🔸 تمرین ۱</b></h2>"
   ]
  },
  {
   "cell_type": "markdown",
   "id": "f28eee94",
   "metadata": {},
   "source": [
    "<p style='direction:rtl;text-align:right;font-size:18px;font-family:samim;'>\n",
    "دو متغیر ایجاد کنید، یکی از آن‌ها نام و دیگری نام خانوادگی. سپس آن‌ها را بهم بچسبانید و کل اسم را نمایش دهید.\n",
    "</p>"
   ]
  },
  {
   "cell_type": "code",
   "execution_count": null,
   "id": "b06c4dff",
   "metadata": {},
   "outputs": [],
   "source": []
  },
  {
   "cell_type": "markdown",
   "id": "7c26d2f9",
   "metadata": {},
   "source": [
    "<h4 style='direction:rtl;text-align:right;font-size:18px;font-family:samim;'>راهنمایی</h4>"
   ]
  },
  {
   "cell_type": "markdown",
   "id": "df33abb5",
   "metadata": {},
   "source": [
    "<p style='direction:rtl;text-align:right;font-size:16px;font-family:samim;'>\n",
    "دو متغیر با نام‌های معنی‌دار انتخاب کرده و نام و نام خانوادگی خود را در آن‌ها ذخیره کنید. سپس از عملگر اتصال (+) برای اتصال دو رشته استفاده کنید.\n",
    "</p>"
   ]
  },
  {
   "cell_type": "markdown",
   "id": "8d2ef27c",
   "metadata": {},
   "source": [
    "<h4 style='direction:rtl;text-align:right;font-size:18px;font-family:samim;'>جواب</h4>"
   ]
  },
  {
   "cell_type": "code",
   "execution_count": 1,
   "id": "6f8a636d",
   "metadata": {},
   "outputs": [
    {
     "name": "stdout",
     "output_type": "stream",
     "text": [
      "sajad Ashrafi\n"
     ]
    }
   ],
   "source": [
    "# تعریف متغیرها\n",
    "name =\"sajad\"\n",
    "last_name = \"Ashrafi\"\n",
    "\n",
    "# اتصال دو رشته\n",
    "full_name = name + \" \" + last_name\n",
    "\n",
    "# چاپ کل اسم\n",
    "print(full_name)"
   ]
  },
  {
   "cell_type": "markdown",
   "id": "92c6352b",
   "metadata": {},
   "source": [
    "<h2 style='direction:rtl;text-align:right;font-family:samim;'><b>🔸 تمرین ۲</b></h2>"
   ]
  },
  {
   "cell_type": "markdown",
   "id": "095b38f2",
   "metadata": {},
   "source": [
    "<p style='direction:rtl;text-align:right;font-size:18px;font-family:samim;'>\n",
    "متغیری به نام my_age ساخته و سن خود را در آن ذخیره کنید. سپس\n",
    "\n",
    "<p style='direction:rtl;text-align:right;font-size:18px;font-family:samim;'>\n",
    "- یک واحد به سن خود اضافه کنید.\n",
    "<p style='direction:rtl;text-align:right;font-size:18px;font-family:samim;'>    \n",
    "- یک واحد از سن خود کم کنید.\n",
    "<p style='direction:rtl;text-align:right;font-size:18px;font-family:samim;'>    \n",
    "- سن خود را دو برابر کنید.\n",
    "</p>"
   ]
  },
  {
   "cell_type": "code",
   "execution_count": null,
   "id": "fb8bcd7c",
   "metadata": {},
   "outputs": [],
   "source": []
  },
  {
   "cell_type": "markdown",
   "id": "9533ee8a",
   "metadata": {},
   "source": [
    "<h4 style='direction:rtl;text-align:right;font-size:18px;font-family:samim;'>راهنمایی</h4>"
   ]
  },
  {
   "cell_type": "markdown",
   "id": "c2c0773d",
   "metadata": {},
   "source": [
    "<p style='direction:rtl;text-align:right;font-size:16px;font-family:samim;'>\n",
    "ابتدا متغیر my_age را تعریف کنید و سپس اعمال مختلفی بر روی آن انجام دهید، مانند افزودن یک واحد، کم کردن یک واحد و ضرب در دو.\n",
    "</p>"
   ]
  },
  {
   "cell_type": "markdown",
   "id": "f87362ae",
   "metadata": {},
   "source": [
    "<h4 style='direction:rtl;text-align:right;font-size:18px;font-family:samim;'>جواب</h4>"
   ]
  },
  {
   "cell_type": "code",
   "execution_count": 2,
   "id": "0b39f8e6",
   "metadata": {},
   "outputs": [
    {
     "name": "stdout",
     "output_type": "stream",
     "text": [
      "60\n"
     ]
    }
   ],
   "source": [
    "# تعریف متغیر\n",
    "my_age = 30\n",
    "\n",
    "# اضافه کردن یک واحد\n",
    "my_age += 1\n",
    "\n",
    "# کم کردن یک واحد\n",
    "my_age -= 1\n",
    "\n",
    "# ضرب در دو\n",
    "my_age *= 2\n",
    "\n",
    "# چاپ نتیجه\n",
    "print(my_age)"
   ]
  },
  {
   "cell_type": "markdown",
   "id": "e84fb360",
   "metadata": {},
   "source": [
    "<h2 style='direction:rtl;text-align:right;font-family:samim;'><b>🔸 تمرین ۳</b></h2>"
   ]
  },
  {
   "cell_type": "markdown",
   "id": "8fbcf066",
   "metadata": {},
   "source": [
    "<p style='direction:rtl;text-align:right;font-size:18px;font-family:samim;line-height:1.5;'>\n",
    "یک متغیر از نوع فلوت تعریف کنید و آن‌را تقسیم به یک عدد اینتیجر کنید، باقیمانده و خارج قسمت از چه نوعی خواهند بود.\n",
    "</p>"
   ]
  },
  {
   "cell_type": "code",
   "execution_count": null,
   "id": "458a71a1",
   "metadata": {},
   "outputs": [],
   "source": []
  },
  {
   "cell_type": "markdown",
   "id": "a80b674d",
   "metadata": {},
   "source": [
    "<h4 style='direction:rtl;text-align:right;font-size:18px;font-family:samim;'>راهنمایی</h4>"
   ]
  },
  {
   "cell_type": "markdown",
   "id": "e3d80eff",
   "metadata": {},
   "source": [
    "<p style='direction:rtl;text-align:right;font-size:16px;font-family:samim;'>\n",
    "یک عدد فلوت تعریف کرده و آن را توسط یک عدد صحیح تقسیم کنید. سپس از عملگرهای باقیمانده و خارج قسمت برای محاسبه باقیمانده و خارج قسمت استفاده کنید.\n",
    "</p>"
   ]
  },
  {
   "cell_type": "markdown",
   "id": "95d6b54e",
   "metadata": {},
   "source": [
    "<h4 style='direction:rtl;text-align:right;font-size:18px;font-family:samim;'>جواب</h4>"
   ]
  },
  {
   "cell_type": "code",
   "execution_count": 3,
   "id": "4927b010",
   "metadata": {},
   "outputs": [
    {
     "name": "stdout",
     "output_type": "stream",
     "text": [
      "2.4 <class 'float'>\n",
      "2.0 <class 'float'>\n",
      "2.0 <class 'float'>\n"
     ]
    }
   ],
   "source": [
    "# تعریف متغیر\n",
    "my_float = 12.\n",
    "\n",
    "# تقسیم به یک عدد صحیح\n",
    "my_int = 5\n",
    "result = my_float / my_int\n",
    "\n",
    "# باقیمانده\n",
    "remainder = my_float % my_int\n",
    "\n",
    "# خارج قسمت\n",
    "quotient = my_float // my_int\n",
    "\n",
    "# چاپ نتیجه\n",
    "print(result,type(result))\n",
    "print(remainder,type(remainder))\n",
    "print(quotient,type(quotient))"
   ]
  },
  {
   "cell_type": "markdown",
   "id": "701c3f47",
   "metadata": {},
   "source": [
    "<h2 style='direction:rtl;text-align:right;font-family:samim;'><b>🔸 تمرین ۴</b></h2>"
   ]
  },
  {
   "cell_type": "markdown",
   "id": "d460e7d7",
   "metadata": {},
   "source": [
    "<p style='direction:rtl;text-align:right;font-size:18px;font-family:samim;line-height:1.5;'>\n",
    "اگر یک متغیر بولین را به توان یک متغیر اینتیجر برسانیم، خروجی چه نوع داده‌ای خواهد بود.\n",
    "</p>"
   ]
  },
  {
   "cell_type": "code",
   "execution_count": null,
   "id": "3215b7e3",
   "metadata": {},
   "outputs": [],
   "source": []
  },
  {
   "cell_type": "markdown",
   "id": "ca7cf4be",
   "metadata": {},
   "source": [
    "<h4 style='direction:rtl;text-align:right;font-size:18px;font-family:samim;'>راهنمایی</h4>"
   ]
  },
  {
   "cell_type": "markdown",
   "id": "ba2b188b",
   "metadata": {},
   "source": [
    "<p style='direction:rtl;text-align:right;font-size:16px;font-family:samim;'>\n",
    "عملگر توان در پایتون برای متغیرهای بولین به معنای تکرار عمل است. به  نتیجه در صورت زوج یا فرد بودن توان دقت کنید \n",
    "</p>"
   ]
  },
  {
   "cell_type": "markdown",
   "id": "47b36897",
   "metadata": {},
   "source": [
    "<h4 style='direction:rtl;text-align:right;font-size:18px;font-family:samim;'>جواب</h4>"
   ]
  },
  {
   "cell_type": "code",
   "execution_count": 4,
   "id": "ce8c912c",
   "metadata": {},
   "outputs": [
    {
     "name": "stdout",
     "output_type": "stream",
     "text": [
      "<class 'int'> <class 'int'>\n"
     ]
    }
   ],
   "source": [
    "# تعریف متغیرها\n",
    "my_bool = True\n",
    "my_int_e = 2\n",
    "my_int_o = 3\n",
    "# به توان یک عدد اینتیجر زوج\n",
    "result_e = my_bool ** my_int_e\n",
    "\n",
    "# به توان یک عدد اینتیجر فرد\n",
    "result_o = my_bool ** my_int_o\n",
    "\n",
    "# چاپ نتیجه\n",
    "print(type(result_e), type(result_o))"
   ]
  },
  {
   "cell_type": "markdown",
   "id": "16776972",
   "metadata": {},
   "source": [
    "<h2 style='direction:rtl;text-align:right;font-family:samim;'><b>🔸 تمرین ۵</b></h2>"
   ]
  },
  {
   "cell_type": "markdown",
   "id": "8804ee78",
   "metadata": {},
   "source": [
    "<p style='direction:rtl;text-align:right;font-size:18px;font-family:samim;'>\n",
    "آیا امکان جمع کردن یک متغیر بولین با یک متغیر از نوع رشته وجود دارد؟\n",
    "</p>"
   ]
  },
  {
   "cell_type": "code",
   "execution_count": null,
   "id": "2fc585ad",
   "metadata": {},
   "outputs": [],
   "source": []
  },
  {
   "cell_type": "markdown",
   "id": "b50fb6b4",
   "metadata": {},
   "source": [
    "<h4 style='direction:rtl;text-align:right;font-size:18px;font-family:samim;'>راهنمایی</h4>"
   ]
  },
  {
   "cell_type": "markdown",
   "id": "4a5ffc5e",
   "metadata": {},
   "source": [
    "<p style='direction:rtl;text-align:right;font-size:16px;font-family:samim;'>\n",
    "در پایتون، عملیات جمع بین یک متغیر بولین و یک متغیر رشته امکان‌پذیر نیست و باعث خطای نوع داده‌ای می‌شود.\n",
    "</p>"
   ]
  },
  {
   "cell_type": "code",
   "execution_count": 5,
   "id": "55aee97a",
   "metadata": {},
   "outputs": [
    {
     "ename": "TypeError",
     "evalue": "can only concatenate str (not \"bool\") to str",
     "output_type": "error",
     "traceback": [
      "\u001b[1;31m---------------------------------------------------------------------------\u001b[0m",
      "\u001b[1;31mTypeError\u001b[0m                                 Traceback (most recent call last)",
      "Input \u001b[1;32mIn [5]\u001b[0m, in \u001b[0;36m<cell line: 7>\u001b[1;34m()\u001b[0m\n\u001b[0;32m      4\u001b[0m \u001b[38;5;66;03m#تعریف متغیر بولین\u001b[39;00m\n\u001b[0;32m      5\u001b[0m boolian_val \u001b[38;5;241m=\u001b[39m \u001b[38;5;28;01mTrue\u001b[39;00m\n\u001b[1;32m----> 7\u001b[0m output \u001b[38;5;241m=\u001b[39m \u001b[43mstr_val\u001b[49m\u001b[43m \u001b[49m\u001b[38;5;241;43m+\u001b[39;49m\u001b[43m \u001b[49m\u001b[43mboolian_val\u001b[49m\n\u001b[0;32m      8\u001b[0m \u001b[38;5;28mprint\u001b[39m(output)\n",
      "\u001b[1;31mTypeError\u001b[0m: can only concatenate str (not \"bool\") to str"
     ]
    }
   ],
   "source": [
    "#تعریف متغیر رشته\n",
    "str_val = \"34\"\n",
    "\n",
    "#تعریف متغیر بولین\n",
    "boolian_val = True\n",
    "\n",
    "output = str_val + boolian_val\n",
    "print(output)"
   ]
  },
  {
   "cell_type": "code",
   "execution_count": null,
   "id": "969e57bb",
   "metadata": {},
   "outputs": [],
   "source": [
    "# نحوه درست جمع کردن\n",
    "right_output = str_val + str(boolian_val)\n",
    "print(right_output)"
   ]
  },
  {
   "cell_type": "markdown",
   "id": "f5ff1731",
   "metadata": {},
   "source": [
    "<h2 style='direction:rtl;text-align:right;font-family:samim;'><b>🔸 تمرین ۶</b></h2>"
   ]
  },
  {
   "cell_type": "markdown",
   "id": "623cc179",
   "metadata": {},
   "source": [
    "<p style='direction:rtl;text-align:right;font-size:18px;font-family:samim;'>\n",
    "عبارت زیر را برای چند مقدار دلخواه از x محاسبه کنید.\n",
    "<br>\n",
    "<br>\n",
    "$$1+0.x-1.x^2+2.x^3$$\n",
    "</p>"
   ]
  },
  {
   "cell_type": "markdown",
   "id": "5f24722f",
   "metadata": {},
   "source": [
    "<h4 style='direction:rtl;text-align:right;font-size:18px;font-family:samim;'>راهنمایی</h4>"
   ]
  },
  {
   "cell_type": "markdown",
   "id": "4f21bde9",
   "metadata": {},
   "source": [
    "<p style='direction:rtl;text-align:right;font-size:16px;font-family:samim;'>\n",
    "ابتدا تعریف کنید که چه مقادیری از x مد نظر شما هستند و سپس با استفاده از آن‌ها عبارت داده‌شده را محاسبه کنید.\n",
    "</p>"
   ]
  },
  {
   "cell_type": "markdown",
   "id": "38544146",
   "metadata": {},
   "source": [
    "<h4 style='direction:rtl;text-align:right;font-size:18px;font-family:samim;'>جواب</h4>"
   ]
  },
  {
   "cell_type": "code",
   "execution_count": 7,
   "id": "87749dc2",
   "metadata": {},
   "outputs": [
    {
     "name": "stdout",
     "output_type": "stream",
     "text": [
      "1.0\n",
      "2.0\n",
      "-2.0\n"
     ]
    }
   ],
   "source": [
    "#به ازای \n",
    "x = 0\n",
    "result = 1 + 0. * x - 1. * x**2 + 2. * x**3\n",
    "print(result)\n",
    "\n",
    "#به ازای\n",
    "x = 1\n",
    "result = 1 + 0. * x - 1. * x**2 + 2. * x**3\n",
    "print(result)\n",
    "\n",
    "# و برای مقدار\n",
    "x = -1\n",
    "result = 1 + 0. * x - 1. * x**2 + 2. * x**3\n",
    "print(result)"
   ]
  },
  {
   "cell_type": "markdown",
   "id": "06c918a3",
   "metadata": {},
   "source": [
    "<h2 style='direction:rtl;text-align:right;font-family:samim;'><b>🔸 تمرین ۷</b></h2>"
   ]
  },
  {
   "cell_type": "markdown",
   "id": "71249850",
   "metadata": {},
   "source": [
    "<p style='direction:rtl;text-align:right;font-size:18px;font-family:samim;line-height:1.5;'>\n",
    "رضا می خواهد میزان کالری که هنگام دویدن می سوزاند را محاسبه کند. در اینترنت جستجو کرده و به فرمول زیر رسیده است. \n",
    "\n",
    "    \n",
    "$$Calories Burned =([(Age × 0.2017) + (Weight × 0.09036 )+ (Heart Rate × 0.6309)-55.0969]×Time)/4.189$$\n",
    "    \n",
    "<p style='direction:rtl;text-align:right;font-size:18px;font-family:samim;line-height:1.5;'>    \n",
    "- فرمول بالا را با در نظر گرفتن اطلاعات مربوط به دویدن رضا که در جدول زیر آورده شده است، پیاده‌سازی کنید:  \n",
    "    \n",
    "<p style='direction:rtl;text-align:right;font-size:18px;font-family:samim;line-height:1.5;'>    \n",
    "- خواهر رضا از او می‌خواهد که فرمول سوزاندن کالری خانم‌ها را هم بیابد. او فرمول زیر را پیدا کرده‌است.\n",
    "    \n",
    "$$Calories Burned =([(Age × 0.074) + (Weight × 0.05741 )+ (Heart Rate × 0.4472)-20.4022]×Time)/4.189$$\n",
    "<p style='direction:rtl;text-align:right;font-size:18px;font-family:samim;line-height:1.5;'>    \n",
    "این فرمول را هم پیاده‌سازی کنید. در این بخش هم از اطلاعات رضا استفاده کنید.\n",
    "</p>"
   ]
  },
  {
   "attachments": {
    "Picture1.png": {
     "image/png": "[encoded data removed]"
    }
   },
   "cell_type": "markdown",
   "id": "91d8531a",
   "metadata": {},
   "source": [
    "![Picture1.png](attachment:Picture1.png)"
   ]
  },
  {
   "cell_type": "code",
   "execution_count": null,
   "id": "1e5e5b82",
   "metadata": {},
   "outputs": [],
   "source": []
  },
  {
   "cell_type": "markdown",
   "id": "44f4adec",
   "metadata": {},
   "source": [
    "<h4 style='direction:rtl;text-align:right;font-size:18px;font-family:samim;'>راهنمایی</h4>"
   ]
  },
  {
   "cell_type": "markdown",
   "id": "afd921fe",
   "metadata": {},
   "source": [
    "<p style='direction:rtl;text-align:right;font-size:16px;font-family:samim;'>\n",
    "ابتدا مقادیر مختلف مربوط به رضا را تعریف کنید (سن، وزن، ضربان قلب، زمان) و سپس فرمول‌ها را با استفاده از این مقادیر پیاده‌سازی کنید.\n",
    "</p>"
   ]
  },
  {
   "cell_type": "markdown",
   "id": "a6a4db0a",
   "metadata": {},
   "source": [
    "<h4 style='direction:rtl;text-align:right;font-size:18px;font-family:samim;'>جواب</h4>"
   ]
  },
  {
   "cell_type": "code",
   "execution_count": 8,
   "id": "d1e65f07",
   "metadata": {},
   "outputs": [
    {
     "name": "stdout",
     "output_type": "stream",
     "text": [
      "1044.0300787777514\n",
      "944.0489376939603\n"
     ]
    }
   ],
   "source": [
    "# تعریف مقادیر رضا\n",
    "age = 49\n",
    "weight = 155\n",
    "heart_rate = 165\n",
    "time = 60\n",
    "\n",
    "# محاسبه کالری مصرفی با فرمول اول\n",
    "calories_burned_men = ((age * 0.2017) + (weight * 0.09036) + (heart_rate * 0.6309) - 55.0969) * time / 4.189\n",
    "\n",
    "# محاسبه کالری مصرفی با فرمول دوم\n",
    "calories_burned_women = ((age * 0.074) + (weight * 0.05741) + (heart_rate * 0.4472) - 20.4022) * time / 4.189\n",
    "\n",
    "# چاپ نتایج\n",
    "print(calories_burned_men)\n",
    "print(calories_burned_women)"
   ]
  },
  {
   "cell_type": "markdown",
   "id": "bb769fad",
   "metadata": {},
   "source": [
    "<h2 style='direction:rtl;text-align:right;font-family:samim;'><b>🔸 تمرین ۸</b></h2>"
   ]
  },
  {
   "cell_type": "markdown",
   "id": "07c719be",
   "metadata": {},
   "source": [
    "<p style='direction:rtl;text-align:right;font-size:18px;font-family:samim;line-height:1.5;'>\n",
    "در یادگیری عمیق یک تابع اتلاف به اسم adaptive loss داریم. با در نظر گرفتن مقدار ۱ برای متغیر c و عددی بزرگتر از دو برای متغیر آلفا و مقدار ۲ برای x ، بخشی از فرمول این تابع اتلاف که به صورت زیر است را پیاده‌سازی کنید.\n",
    "    \n",
    "$$\\text{loss} = \\frac{\\alpha - 2}{c} \\left( \\left( \\frac{\\left( \\frac{x}{c} \\right)^2}{\\alpha - 2} + 1 \\right)^{\\frac{\\alpha}{2}} - 1 \\right)$$\n",
    "    \n",
    "</p>"
   ]
  },
  {
   "cell_type": "code",
   "execution_count": null,
   "id": "4ac12681",
   "metadata": {},
   "outputs": [],
   "source": []
  },
  {
   "cell_type": "markdown",
   "id": "e731a1e6",
   "metadata": {},
   "source": [
    "<h4 style='direction:rtl;text-align:right;font-size:18px;font-family:samim;'>راهنمایی</h4>"
   ]
  },
  {
   "cell_type": "markdown",
   "id": "d54cbc93",
   "metadata": {},
   "source": [
    "<p style='direction:rtl;text-align:right;font-size:16px;font-family:samim;'>\n",
    "با استفاده از مقادیر داده شده، فرمول adaptive loss را پیاده‌سازی کنید.\n",
    "</p>"
   ]
  },
  {
   "cell_type": "markdown",
   "id": "58847e29",
   "metadata": {},
   "source": [
    "<h4 style='direction:rtl;text-align:right;font-size:18px;font-family:samim;'>جواب</h4>"
   ]
  },
  {
   "cell_type": "code",
   "execution_count": 9,
   "id": "5677cb45",
   "metadata": {},
   "outputs": [
    {
     "name": "stdout",
     "output_type": "stream",
     "text": [
      "3.3934466291663163\n"
     ]
    }
   ],
   "source": [
    "# تعریف متغیرها\n",
    "alpha = 3\n",
    "c = 1\n",
    "x = 2\n",
    "\n",
    "#پیاده سازی فرمول\n",
    "adaptive_loss = ((((x/c)**2 /(alpha - 2)) + 1) ** (alpha/2) -1) * (alpha - 2)/alpha\n",
    "\n",
    "#چاپ خروجی\n",
    "print(adaptive_loss)"
   ]
  },
  {
   "cell_type": "markdown",
   "id": "3d79cc86",
   "metadata": {},
   "source": [
    "<h2 style='direction:rtl;text-align:right;font-family:samim;'><b>🔸 تمرین ۹</b></h2>"
   ]
  },
  {
   "cell_type": "markdown",
   "id": "c6e1feb9",
   "metadata": {},
   "source": [
    "<p style='direction:rtl;text-align:right;font-size:18px;font-family:samim;line-height:1.5;'>\n",
    "با استفاده از عملگرهای ریاضی و تخصیص، محاسبه کنید که ۱۳۵ دقیقه چند ساعت و چند دقیقه است؟\n",
    "</p>"
   ]
  },
  {
   "cell_type": "code",
   "execution_count": null,
   "id": "d36ec954",
   "metadata": {},
   "outputs": [],
   "source": []
  },
  {
   "cell_type": "markdown",
   "id": "87215311",
   "metadata": {},
   "source": [
    "<h4 style='direction:rtl;text-align:right;font-size:18px;font-family:samim;'>راهنمایی</h4>"
   ]
  },
  {
   "cell_type": "markdown",
   "id": "45630215",
   "metadata": {},
   "source": [
    "<p style='direction:rtl;text-align:right;font-size:16px;font-family:samim;'>\n",
    "از عملگرهای تقسیم و باقیمانده برای محاسبه تعداد ساعت‌ها و دقایق استفاده کنید.\n",
    "</p>"
   ]
  },
  {
   "cell_type": "markdown",
   "id": "4234c778",
   "metadata": {},
   "source": [
    "<h4 style='direction:rtl;text-align:right;font-size:18px;font-family:samim;'>جواب</h4>"
   ]
  },
  {
   "cell_type": "code",
   "execution_count": 10,
   "id": "a410027a",
   "metadata": {},
   "outputs": [
    {
     "name": "stdout",
     "output_type": "stream",
     "text": [
      "2\n",
      "15\n"
     ]
    }
   ],
   "source": [
    "# تعریف متغیر دقیقه\n",
    "minutes = 135\n",
    "\n",
    "# محاسبه ساعت ها و دقایق\n",
    "hours = minutes // 60\n",
    "remaining_minutes = minutes % 60\n",
    "\n",
    "# چاپ نتیجه\n",
    "print(hours)\n",
    "print(remaining_minutes)"
   ]
  },
  {
   "cell_type": "markdown",
   "id": "8ae8b6ad",
   "metadata": {},
   "source": [
    "<h2 style='direction:rtl;text-align:right;font-family:samim;'><b>🔸 تمرین ۱۰</b></h2>"
   ]
  },
  {
   "cell_type": "markdown",
   "id": "a32e2b07",
   "metadata": {},
   "source": [
    "<p style='direction:rtl;text-align:right;font-size:18px;font-family:samim;line-height:1.5;'>\n",
    "یک مسابقه تنیس در حال برگزاری است. تنها دستگاهی که برای ثبت زمان مسابقه وجود دارد، فقط ثانیه را ثبت می‌کند. یعنی اگر مسابقه 10 دقیقه طول بکشد، این ثانیه شمار عدد 600 را ثبت می‌کند. یک مسابقه برگزار شده و این دستگاه عدد 12283 را ثبت کرده‌است. مسئولان مسابقه از شما خواسته‌اند که با پایتون این زمان را به ساعت، دقیقه و ثانیه برایشان دربیاورید. مدت زمان مسابقه را به تفکیک ساعت، دقیقه و ثانیه نشان دهید.\n",
    "</p>"
   ]
  },
  {
   "cell_type": "code",
   "execution_count": null,
   "id": "234180a7",
   "metadata": {},
   "outputs": [],
   "source": []
  },
  {
   "cell_type": "markdown",
   "id": "ba3f9ee4",
   "metadata": {},
   "source": [
    "<h4 style='direction:rtl;text-align:right;font-size:18px;font-family:samim;'>راهنمایی</h4>"
   ]
  },
  {
   "cell_type": "markdown",
   "id": "7c42789c",
   "metadata": {},
   "source": [
    "<p style='direction:rtl;text-align:right;font-size:16px;font-family:samim;'>\n",
    "برای محاسبه مدت زمان از ثانیه، از عملگرهای تقسیم و باقیمانده استفاده کنید تا ساعت، دقیقه و ثانیه را بدست آورید.\n",
    "</p>"
   ]
  },
  {
   "cell_type": "markdown",
   "id": "07405a53",
   "metadata": {},
   "source": [
    "<h4 style='direction:rtl;text-align:right;font-size:18px;font-family:samim;'>جواب</h4>"
   ]
  },
  {
   "cell_type": "code",
   "execution_count": 11,
   "id": "12a2f820",
   "metadata": {},
   "outputs": [
    {
     "name": "stdout",
     "output_type": "stream",
     "text": [
      "3\n",
      "24\n",
      "43\n"
     ]
    }
   ],
   "source": [
    "# تعریف متغیر ثانیه\n",
    "seconds = 12283\n",
    "\n",
    "# محاسبه ساعت ها، دقایق و ثانیه ها\n",
    "hours = seconds // 3600\n",
    "remaining_seconds = seconds % 3600\n",
    "minutes = remaining_seconds // 60\n",
    "remaining_seconds = remaining_seconds % 60\n",
    "\n",
    "# چاپ نتیجه\n",
    "print(hours)\n",
    "print(minutes)\n",
    "print(remaining_seconds)"
   ]
  },
  {
   "cell_type": "markdown",
   "id": "ecf0a879",
   "metadata": {},
   "source": [
    "<h2 style='direction:rtl;text-align:right;font-family:samim;'><b>🔸 تمرین ۱۱</b></h2>"
   ]
  },
  {
   "cell_type": "markdown",
   "id": "84996903",
   "metadata": {},
   "source": [
    "<p style='direction:rtl;text-align:right;font-size:18px;font-family:samim;'>\n",
    "با استفاده از فرمول زیر، عدد پی را تقریب بزنید.\n",
    "<br>    \n",
    "<br>    \n",
    "$$\\pi = 4(1-1/3+1/5-1/7+1/9-1/11)$$\n",
    "</p>"
   ]
  },
  {
   "cell_type": "code",
   "execution_count": null,
   "id": "c2028e83",
   "metadata": {},
   "outputs": [],
   "source": []
  },
  {
   "cell_type": "markdown",
   "id": "9cf3f248",
   "metadata": {},
   "source": [
    "<h4 style='direction:rtl;text-align:right;font-size:18px;font-family:samim;'>راهنمایی</h4>"
   ]
  },
  {
   "cell_type": "markdown",
   "id": "06f5fe92",
   "metadata": {},
   "source": [
    "<p style='direction:rtl;text-align:right;font-size:16px;font-family:samim;'>\n",
    "با استفاده از جمع و تفریق و تقسیم، این فرمول را پیاده‌سازی کنید و مقدار تقریبی پی را محاسبه کنید.\n",
    "</p>"
   ]
  },
  {
   "cell_type": "markdown",
   "id": "b9373f90",
   "metadata": {},
   "source": [
    "<h4 style='direction:rtl;text-align:right;font-size:18px;font-family:samim;'>جواب</h4>"
   ]
  },
  {
   "cell_type": "code",
   "execution_count": 12,
   "id": "dc4fca07",
   "metadata": {},
   "outputs": [
    {
     "name": "stdout",
     "output_type": "stream",
     "text": [
      "2.9760461760461765\n"
     ]
    }
   ],
   "source": [
    "# تقریب عدد پی\n",
    "pi = 4 * (1 - 1/3 + 1/5 - 1/7 + 1/9 - 1/11)\n",
    "\n",
    "# چاپ نتیجه\n",
    "print( pi)"
   ]
  },
  {
   "cell_type": "markdown",
   "id": "a9f5b33c",
   "metadata": {},
   "source": [
    "<h2 style='direction:rtl;text-align:right;font-family:samim;'><b>🔸 تمرین ۱۲</b></h2>"
   ]
  },
  {
   "cell_type": "markdown",
   "id": "c5d92e1f",
   "metadata": {},
   "source": [
    "<p style='direction:rtl;text-align:right;font-size:18px;font-family:samim;line-height:1.5;'>\n",
    "برنامه‌ای بنویسید که قد و وزن را دریافت کرده و شاخص BMI را محاسبه کند. شاخص BMI از فرمول زیر محاسبه می‌شود. دقت کنید که مقدار قد به متر و وزن به کیلوگرم باید وارد شود.\n",
    "    \n",
    "<br>\n",
    "<br>\n",
    "$$BMI = \\frac{weight}{height^2}$$\n",
    "</p>"
   ]
  },
  {
   "cell_type": "code",
   "execution_count": null,
   "id": "b15d252b",
   "metadata": {},
   "outputs": [],
   "source": []
  },
  {
   "cell_type": "markdown",
   "id": "808413d4",
   "metadata": {},
   "source": [
    "<h4 style='direction:rtl;text-align:right;font-size:18px;font-family:samim;'>راهنمایی</h4>"
   ]
  },
  {
   "cell_type": "markdown",
   "id": "be39379a",
   "metadata": {},
   "source": [
    "<p style='direction:rtl;text-align:right;font-size:16px;font-family:samim;'>\n",
    "ابتدا وزن و قد را از کاربر دریافت کرده و سپس با استفاده از فرمول داده شده، شاخص BMI را محاسبه کنید.\n",
    "</p>"
   ]
  },
  {
   "cell_type": "markdown",
   "id": "613d813c",
   "metadata": {},
   "source": [
    "<h4 style='direction:rtl;text-align:right;font-size:18px;font-family:samim;'>جواب</h4>"
   ]
  },
  {
   "cell_type": "code",
   "execution_count": 13,
   "id": "75c5fdc0",
   "metadata": {},
   "outputs": [
    {
     "name": "stdout",
     "output_type": "stream",
     "text": [
      "44.44444444444444\n"
     ]
    }
   ],
   "source": [
    "# دریافت قد و وزن از کاربر\n",
    "height = 1.5\n",
    "weight = 100\n",
    "\n",
    "# محاسبه شاخص BMI\n",
    "BMI = weight / (height ** 2)\n",
    "\n",
    "# چاپ نتیجه\n",
    "print(BMI)"
   ]
  },
  {
   "cell_type": "markdown",
   "id": "93a4618e",
   "metadata": {},
   "source": [
    "<h2 style='direction:rtl;text-align:right;font-family:samim;'><b>🔸 تمرین ۱۳</b></h2>"
   ]
  },
  {
   "cell_type": "markdown",
   "id": "5db72703",
   "metadata": {},
   "source": [
    "<p style='direction:rtl;text-align:right;font-size:18px;font-family:samim;line-height:1.5;'>\n",
    "با استفاده از عملگرهای ریاضی، مجموع ۱۰ تا عدد ابتدایی از مجموعه اعداد طبیعی را محاسبه کنید.\n",
    "</p>"
   ]
  },
  {
   "cell_type": "code",
   "execution_count": null,
   "id": "c3881caf",
   "metadata": {},
   "outputs": [],
   "source": []
  },
  {
   "cell_type": "markdown",
   "id": "f15026e7",
   "metadata": {},
   "source": [
    "<h4 style='direction:rtl;text-align:right;font-size:18px;font-family:samim;'>راهنمایی</h4>"
   ]
  },
  {
   "cell_type": "markdown",
   "id": "edf0e335",
   "metadata": {},
   "source": [
    "<p style='direction:rtl;text-align:right;font-size:16px;font-family:samim;'>\n",
    "از روابط سری در ریاضیات کمک بگیرید\n",
    "</p>"
   ]
  },
  {
   "cell_type": "markdown",
   "id": "0391a05f",
   "metadata": {},
   "source": [
    "<h4 style='direction:rtl;text-align:right;font-size:18px;font-family:samim;'>جواب</h4>"
   ]
  },
  {
   "cell_type": "code",
   "execution_count": 14,
   "id": "04c343b8",
   "metadata": {},
   "outputs": [
    {
     "name": "stdout",
     "output_type": "stream",
     "text": [
      "55\n"
     ]
    }
   ],
   "source": [
    "# محاسبه مجموع 10 عدد ابتدایی\n",
    "n = 10\n",
    "\n",
    "# رابطه ریاضی\n",
    "total = (n * (n + 1)) // 2\n",
    "\n",
    "print(total)"
   ]
  },
  {
   "cell_type": "markdown",
   "id": "057e1fde",
   "metadata": {},
   "source": [
    "<h2 style='direction:rtl;text-align:right;font-family:samim;'><b>🔸 تمرین ۱۴</b></h2>"
   ]
  },
  {
   "cell_type": "markdown",
   "id": "9852d0d1",
   "metadata": {},
   "source": [
    "<p style='direction:rtl;text-align:right;font-size:18px;font-family:samim;line-height:1.5;'>\n",
    "برنامه‌ای بنویسید که حجم مخروط را با در نظر گرفتن مقادیر۴ و ۶ به ترتیب برای شعاع و ارتفاع محاسبه کند.\n",
    "<br>\n",
    "$$V = \\frac{1}{3} \\pi r^2 h$$\n",
    "</p>"
   ]
  },
  {
   "cell_type": "code",
   "execution_count": null,
   "id": "5a3ea022",
   "metadata": {},
   "outputs": [],
   "source": []
  },
  {
   "cell_type": "markdown",
   "id": "7b49d248",
   "metadata": {},
   "source": [
    "<h4 style='direction:rtl;text-align:right;font-size:18px;font-family:samim;'>راهنمایی</h4>"
   ]
  },
  {
   "cell_type": "markdown",
   "id": "7e63dc28",
   "metadata": {},
   "source": [
    "<p style='direction:rtl;text-align:right;font-size:16px;font-family:samim;'>\n",
    "مقادیر شعاع و ارتفاع را تعریف کرده و سپس حجم مخروط را با استفاده از فرمول داده شده محاسبه کنید.\n",
    "</p>"
   ]
  },
  {
   "cell_type": "markdown",
   "id": "6c7eda8e",
   "metadata": {},
   "source": [
    "<h4 style='direction:rtl;text-align:right;font-size:18px;font-family:samim;'>جواب</h4>"
   ]
  },
  {
   "cell_type": "code",
   "execution_count": 15,
   "id": "e59e938f",
   "metadata": {},
   "outputs": [
    {
     "name": "stdout",
     "output_type": "stream",
     "text": [
      "100.47999999999999\n"
     ]
    }
   ],
   "source": [
    "# تعریف مقادیر شعاع و ارتفاع\n",
    "r = 4\n",
    "h = 6\n",
    "\n",
    "# محاسبه حجم مخروط\n",
    "V = (1/3) * 3.14 * r**2 * h\n",
    "\n",
    "# چاپ نتیجه\n",
    "print(V)"
   ]
  },
  {
   "cell_type": "markdown",
   "id": "11f739a1",
   "metadata": {},
   "source": [
    "<h2 style='direction:rtl;text-align:right;font-family:samim;'><b>🔸 تمرین ۱۵</b></h2>"
   ]
  },
  {
   "cell_type": "markdown",
   "id": "4ac4c136",
   "metadata": {},
   "source": [
    "<p style='direction:rtl;text-align:right;font-size:18px;font-family:samim;line-height:1.5;'>\n",
    "برنامه‌ای بنویسید که فاصله بین دو نقطه a = (5,-3) و b = (3,0) در یک صفحه دو بعدی را محاسبه کند.\n",
    "<br>\n",
    "    <br>\n",
    "$$dist_{AB}= \\sqrt{(x_A-x_B)^2+(y_A-y_B)^2}$$\n",
    "</p>"
   ]
  },
  {
   "cell_type": "code",
   "execution_count": null,
   "id": "f108569d",
   "metadata": {},
   "outputs": [],
   "source": []
  },
  {
   "cell_type": "markdown",
   "id": "1ddb8967",
   "metadata": {},
   "source": [
    "<h4 style='direction:rtl;text-align:right;font-size:18px;font-family:samim;'>راهنمایی</h4>"
   ]
  },
  {
   "cell_type": "markdown",
   "id": "12ebe3b3",
   "metadata": {},
   "source": [
    "<p style='direction:rtl;text-align:right;font-size:16px;font-family:samim;'>\n",
    "مقادیر نقاط داده شده را تعریف کرده و سپس با استفاده از فرمول داده شده، فاصله بین دو نقطه را محاسبه کنید.\n",
    "</p>"
   ]
  },
  {
   "cell_type": "markdown",
   "id": "e63f81dc",
   "metadata": {},
   "source": [
    "<h4 style='direction:rtl;text-align:right;font-size:18px;font-family:samim;'>جواب</h4>"
   ]
  },
  {
   "cell_type": "code",
   "execution_count": 16,
   "id": "57ff9c4a",
   "metadata": {},
   "outputs": [
    {
     "name": "stdout",
     "output_type": "stream",
     "text": [
      "3.605551275463989\n"
     ]
    }
   ],
   "source": [
    "# تعریف نقاط a و b\n",
    "x_A, y_A = 5, -3\n",
    "x_B, y_B = 3, 0\n",
    "\n",
    "# محاسبه فاصله بین دو نقطه\n",
    "distance = ((x_A - x_B)**2 + (y_A - y_B)**2)**0.5\n",
    "\n",
    "# چاپ نتیجه\n",
    "print(distance)"
   ]
  },
  {
   "cell_type": "markdown",
   "id": "85496b5b",
   "metadata": {},
   "source": [
    "<h2 style='direction:rtl;text-align:right;font-family:samim;'><b>🔸 تمرین ۱۶</b></h2>"
   ]
  },
  {
   "cell_type": "markdown",
   "id": "48ab3885",
   "metadata": {},
   "source": [
    "<p style='direction:rtl;text-align:right;font-size:18px;font-family:samim;'>\n",
    "ریشه‌های معادله درجه دوم، $$2x^2-7x+3=0$$ را بر اساس فرمول‌های زیر پیدا کنید.\n",
    "    \n",
    "   \n",
    "$$ax^2+bx+c = 0$$\n",
    "$$\\Delta = b^2-4ac$$\n",
    "$$x =  \\frac{-b \\pm \\sqrt{\\Delta}}{2a}$$\n",
    "</p>"
   ]
  },
  {
   "cell_type": "code",
   "execution_count": null,
   "id": "016b8e17",
   "metadata": {},
   "outputs": [],
   "source": []
  },
  {
   "cell_type": "markdown",
   "id": "49b60831",
   "metadata": {},
   "source": [
    "<h4 style='direction:rtl;text-align:right;font-size:18px;font-family:samim;'>راهنمایی</h4>"
   ]
  },
  {
   "cell_type": "markdown",
   "id": "e65b7edc",
   "metadata": {},
   "source": [
    "<p style='direction:rtl;text-align:right;font-size:16px;font-family:samim;'>\n",
    "مقادیر a، b و c را تعریف کرده و سپس با استفاده از فرمول‌های داده شده، ریشه‌های معادله را محاسبه کنید.\n",
    "</p>"
   ]
  },
  {
   "cell_type": "markdown",
   "id": "6ba2d2af",
   "metadata": {},
   "source": [
    "<h4 style='direction:rtl;text-align:right;font-size:18px;font-family:samim;'>جواب</h4>"
   ]
  },
  {
   "cell_type": "code",
   "execution_count": 18,
   "id": "5c4cfe7f",
   "metadata": {},
   "outputs": [
    {
     "name": "stdout",
     "output_type": "stream",
     "text": [
      "25\n",
      "3.0 0.5\n"
     ]
    }
   ],
   "source": [
    "# تعریف مقادیر a، b و c\n",
    "a = 2\n",
    "b = -7\n",
    "c = 3\n",
    "\n",
    "# محاسبه دلتا\n",
    "Delta = b**2 - 4*a*c\n",
    "print(Delta)\n",
    "\n",
    "# محاسبه ریشه ها\n",
    "x1 = (-b + Delta**0.5) / (2*a)\n",
    "x2 = (-b - Delta**0.5) / (2*a)\n",
    "\n",
    "# چاپ ریشه ها\n",
    "print(x1, x2)"
   ]
  },
  {
   "cell_type": "markdown",
   "id": "0285e32b",
   "metadata": {},
   "source": [
    "<h2 style='direction:rtl;text-align:right;font-family:samim;'><b>🔸 تمرین ۱۷</b></h2>"
   ]
  },
  {
   "cell_type": "markdown",
   "id": "52c76ac3",
   "metadata": {},
   "source": [
    "<p style='direction:rtl;text-align:right;font-size:18px;font-family:samim;line-height:1.5;'>\n",
    "کدام یک از موارد زیر نتیجه یکسانی دارند؟ بدون اینکه با پایتون کد بزنید، به سوال جواب دهید.\n",
    "    \n",
    "$$5×3-2  ,5×(3-2)$$\n",
    "    \n",
    "$$10//(2+3)  ,(10//2)+3$$\n",
    "    \n",
    "$$4**2//2  ,   4**(2//2)$$\n",
    "    \n",
    "$$(8-4)//2    ,   8-(4//2)$$\n",
    "    \n",
    "$$6+4*2    ,(6+4)*2$$\n",
    "    \n",
    "$$6-4/2,6-(4/2)$$\n",
    "    \n",
    "</p>"
   ]
  },
  {
   "cell_type": "markdown",
   "id": "81e54acd",
   "metadata": {},
   "source": [
    "<h4 style='direction:rtl;text-align:right;font-size:18px;font-family:samim;'>راهنمایی</h4>"
   ]
  },
  {
   "cell_type": "markdown",
   "id": "f31c19b5",
   "metadata": {},
   "source": [
    "<p style='direction:rtl;text-align:right;font-size:16px;font-family:samim;'>\n",
    "بدون استفاده از پایتون، به صورت دستی عملیات‌ها را محاسبه کرده و مقایسه کنید.\n",
    "</p>"
   ]
  },
  {
   "cell_type": "markdown",
   "id": "ccfa193a",
   "metadata": {},
   "source": [
    "<h4 style='direction:rtl;text-align:right;font-size:18px;font-family:samim;'>جواب</h4>"
   ]
  },
  {
   "cell_type": "code",
   "execution_count": 17,
   "id": "b39f4e3d",
   "metadata": {},
   "outputs": [
    {
     "name": "stdout",
     "output_type": "stream",
     "text": [
      "13 5\n",
      "2 8\n",
      "8 4\n",
      "2 6\n",
      "14 20\n",
      "4.0 4.0\n"
     ]
    }
   ],
   "source": [
    "print(5*3-2 , 5*(3-2))\n",
    "\n",
    "print(10//(2+3) , (10//2)+3)\n",
    "\n",
    "print(4**2//2 , 4**(2//2))\n",
    "\n",
    "print((8-4)//2 , 8-(4//2))\n",
    "\n",
    "print(6+4*2 , (6+4)*2)\n",
    "\n",
    "print(6-4/2 , 6-(4/2))"
   ]
  },
  {
   "cell_type": "markdown",
   "id": "c5cace91",
   "metadata": {},
   "source": [
    "<h2 style='direction:rtl;text-align:right;font-family:samim;'><b>🔸 تمرین ۱۸</b></h2>"
   ]
  },
  {
   "cell_type": "markdown",
   "id": "e55d7142",
   "metadata": {},
   "source": [
    "<p style='direction:rtl;text-align:right;font-size:18px;font-family:samim;'>\n",
    "نقاط A, B و C رئوس مثلث ABC هستند. محیط مثلث را حساب کنید.\n",
    "\n",
    "A=(2,0) ,B =(5,4) ,C = (-2,3)\n",
    "</p>"
   ]
  },
  {
   "cell_type": "code",
   "execution_count": null,
   "id": "ea1618c9",
   "metadata": {},
   "outputs": [],
   "source": []
  },
  {
   "cell_type": "markdown",
   "id": "dab3a6a0",
   "metadata": {},
   "source": [
    "<h4 style='direction:rtl;text-align:right;font-size:18px;font-family:samim;'>راهنمایی</h4>"
   ]
  },
  {
   "cell_type": "markdown",
   "id": "71b17beb",
   "metadata": {},
   "source": [
    "<p style='direction:rtl;text-align:right;font-size:16px;font-family:samim;'>\n",
    "ابتدا فاصله بین نقاط A و B، نقاط B و C، و نقاط A و C را محاسبه کنید. سپس این فواصل را با هم جمع کنید تا محیط مثلث به دست آید.\n",
    "</p>"
   ]
  },
  {
   "cell_type": "markdown",
   "id": "5ca4d1af",
   "metadata": {},
   "source": [
    "<h4 style='direction:rtl;text-align:right;font-size:18px;font-family:samim;'>جواب</h4>"
   ]
  },
  {
   "cell_type": "code",
   "execution_count": 19,
   "id": "43ccaa52",
   "metadata": {},
   "outputs": [
    {
     "name": "stdout",
     "output_type": "stream",
     "text": [
      "5.0\n",
      "5.0\n",
      "7.0710678118654755\n",
      "17.071067811865476\n"
     ]
    }
   ],
   "source": [
    "# تعریف نقاط\n",
    "xa = 2\n",
    "ya = 0\n",
    "xb = 5\n",
    "yb = 4\n",
    "xc = -2\n",
    "yc = 3\n",
    "\n",
    "# محاسبه فواصل\n",
    "dist_ab = ((xa - xb)**2 + (ya - yb)**2) ** 0.5\n",
    "print(dist_ab)\n",
    "\n",
    "dist_ac = ((xa - xc)**2 + (ya - yc)**2) ** 0.5\n",
    "print(dist_ac)\n",
    "\n",
    "dist_bc = ((xb - xc)**2 + (yb - yc)**2) ** 0.5\n",
    "print(dist_bc)\n",
    "\n",
    "# محاسبه محیط مثلث\n",
    "perimeter  = dist_ab + dist_ac + dist_bc\n",
    "print(perimeter)"
   ]
  },
  {
   "cell_type": "markdown",
   "id": "7f46e279",
   "metadata": {},
   "source": [
    "<h2 style='direction:rtl;text-align:right;font-family:samim;'><b>🔸 تمرین ۱۹</b></h2>"
   ]
  },
  {
   "cell_type": "markdown",
   "id": "5044dac5",
   "metadata": {},
   "source": [
    "<p style='direction:rtl;text-align:right;font-size:18px;font-family:samim;'>\n",
    "با استفاده از رابطه زیر، حاصل !۵ را بدست آورید.\n",
    "<br>\n",
    "    \n",
    "$$n! ∼ \\sqrt{2\\pi n} \\left(\\frac{n}{e}\\right)^n$$\n",
    "</p>"
   ]
  },
  {
   "cell_type": "code",
   "execution_count": null,
   "id": "d1595071",
   "metadata": {},
   "outputs": [],
   "source": []
  },
  {
   "cell_type": "markdown",
   "id": "462ef5ee",
   "metadata": {},
   "source": [
    "<h4 style='direction:rtl;text-align:right;font-size:18px;font-family:samim;'>راهنمایی</h4>"
   ]
  },
  {
   "cell_type": "markdown",
   "id": "3342dfba",
   "metadata": {},
   "source": [
    "<p style='direction:rtl;text-align:right;font-size:16px;font-family:samim;'>\n",
    "مقدار n را برابر 5 قرار داده و سپس از فرمول داده شده استفاده کنید.\n",
    "</p>"
   ]
  },
  {
   "cell_type": "markdown",
   "id": "9127297e",
   "metadata": {},
   "source": [
    "<h4 style='direction:rtl;text-align:right;font-size:18px;font-family:samim;'>جواب</h4>"
   ]
  },
  {
   "cell_type": "code",
   "execution_count": 20,
   "id": "e40b2cd7",
   "metadata": {},
   "outputs": [
    {
     "name": "stdout",
     "output_type": "stream",
     "text": [
      "122.03826505846311\n"
     ]
    }
   ],
   "source": [
    "# تعریف متغیرها \n",
    "n = 5\n",
    "pi = 3.14\n",
    "e = 2.7\n",
    "# محاسبه فاکتوریل تقریبی\n",
    "\n",
    "fact = (2*pi*n)**0.5 * (n/e)**n\n",
    "\n",
    "# چاپ نتیجه\n",
    "print(fact)"
   ]
  },
  {
   "cell_type": "markdown",
   "id": "9641d33d",
   "metadata": {},
   "source": [
    "<h2 style='direction:rtl;text-align:right;font-family:samim;'><b>🔸 تمرین ۲۰</b></h2>"
   ]
  },
  {
   "cell_type": "markdown",
   "id": "c9f1222b",
   "metadata": {},
   "source": [
    "<p style='direction:rtl;text-align:right;font-size:18px;font-family:samim;'>\n",
    "خروجی تابع زیر را به ازای مقادیر n = 2, r = 5, p = 100 محاسبه کنید.\n",
    "    <br>\n",
    "    <br>\n",
    "$$A(n) = p (1 + \\frac{r}{100})^n$$\n",
    "</p>"
   ]
  },
  {
   "cell_type": "code",
   "execution_count": null,
   "id": "f2acabae",
   "metadata": {},
   "outputs": [],
   "source": []
  },
  {
   "cell_type": "markdown",
   "id": "949c91ef",
   "metadata": {},
   "source": [
    "<h4 style='direction:rtl;text-align:right;font-size:18px;font-family:samim;'>راهنمایی</h4>"
   ]
  },
  {
   "cell_type": "markdown",
   "id": "4412d9da",
   "metadata": {},
   "source": [
    "<p style='direction:rtl;text-align:right;font-size:16px;font-family:samim;'>\n",
    "مقادیر n، r و p را تعریف کرده و سپس از فرمول داده شده برای محاسبه A(n) استفاده کنید.\n",
    "</p>"
   ]
  },
  {
   "cell_type": "markdown",
   "id": "d44ce4f7",
   "metadata": {},
   "source": [
    "<h4 style='direction:rtl;text-align:right;font-size:18px;font-family:samim;'>جواب</h4>"
   ]
  },
  {
   "cell_type": "code",
   "execution_count": 21,
   "id": "bdd89b14",
   "metadata": {},
   "outputs": [
    {
     "name": "stdout",
     "output_type": "stream",
     "text": [
      "110.25\n"
     ]
    }
   ],
   "source": [
    "# تعریف مقادیر\n",
    "n = 2\n",
    "r = 5\n",
    "p = 100\n",
    "\n",
    "# محاسبه تابع A(n)\n",
    "A_n = p * (1 + r/100)**n\n",
    "\n",
    "# چاپ نتیجه\n",
    "print(A_n)"
   ]
  },
  {
   "cell_type": "markdown",
   "id": "790390aa",
   "metadata": {},
   "source": [
    "<h2 style='direction:rtl;text-align:right;font-family:samim;'><b>🔸 تمرین ۲۱</b></h2>"
   ]
  },
  {
   "cell_type": "markdown",
   "id": "0571da96",
   "metadata": {},
   "source": [
    "<p style='direction:rtl;text-align:right;font-size:18px;font-family:samim;line-height:1.5;'>\n",
    "بسط تیلور تابع $$e^x$$ به صورت زیر است. این عبارت را پیاده‌سازی کرده و مقدار آن‌را برای x = 1 محاسبه کنید.\n",
    "    <br>\n",
    "    <br>\n",
    "$$e^x≃ 1+ x +  \\frac{x^2}{2!}  +  \\frac{x^3}{3!}  +  \\frac{x^4}{4!}$$\n",
    "</p>"
   ]
  },
  {
   "cell_type": "code",
   "execution_count": null,
   "id": "52c9458e",
   "metadata": {},
   "outputs": [],
   "source": []
  },
  {
   "cell_type": "markdown",
   "id": "ddf9b321",
   "metadata": {},
   "source": [
    "<h4 style='direction:rtl;text-align:right;font-size:18px;font-family:samim;'>راهنمایی</h4>"
   ]
  },
  {
   "cell_type": "markdown",
   "id": "30ce27e6",
   "metadata": {},
   "source": [
    "<p style='direction:rtl;text-align:right;font-size:16px;font-family:samim;'>\n",
    "مقدار x را برابر 1 قرار داده و سپس بسط تیلور را محاسبه کنید.\n",
    "برای فاکتوریل به صورت دستی محاسبات را انجام دهید.\n",
    "</p>"
   ]
  },
  {
   "cell_type": "markdown",
   "id": "48554e1d",
   "metadata": {},
   "source": [
    "<h4 style='direction:rtl;text-align:right;font-size:18px;font-family:samim;'>جواب</h4>"
   ]
  },
  {
   "cell_type": "code",
   "execution_count": 22,
   "id": "bf9c7206",
   "metadata": {},
   "outputs": [
    {
     "name": "stdout",
     "output_type": "stream",
     "text": [
      "2.708333333333333\n"
     ]
    }
   ],
   "source": [
    "# تعریف x\n",
    "x = 1\n",
    "\n",
    "# محاسبه بسط تیلور\n",
    "taylor_series = 1 + x + x**2/(2*1) + x**3/(3*2*1) + x**4/(4*3*2*1)\n",
    "\n",
    "# چاپ نتیجه\n",
    "print(taylor_series)"
   ]
  },
  {
   "cell_type": "markdown",
   "id": "85ea283d",
   "metadata": {},
   "source": [
    "<h2 style='direction:rtl;text-align:right;font-family:samim;'><b>🔸 تمرین ۲۲</b></h2>"
   ]
  },
  {
   "cell_type": "markdown",
   "id": "03561c3d",
   "metadata": {},
   "source": [
    "<p style='direction:rtl;text-align:right;font-size:18px;font-family:samim;'>\n",
    "با استفاده از رابطه زیر، مقدار WCF را برای دمای ۱۰- و سرعت ۱۰ حساب کنید.\n",
    "    \n",
    "<br>\n",
    "<br>\n",
    "$$WCF = 35.7 + 0.6T - 35.7V^{0.16} + 0.43T V^{0.16}$$\n",
    "</p>"
   ]
  },
  {
   "cell_type": "code",
   "execution_count": null,
   "id": "302dc80b",
   "metadata": {},
   "outputs": [],
   "source": []
  },
  {
   "cell_type": "markdown",
   "id": "9194f7b5",
   "metadata": {},
   "source": [
    "<h4 style='direction:rtl;text-align:right;font-size:18px;font-family:samim;'>راهنمایی</h4>"
   ]
  },
  {
   "cell_type": "markdown",
   "id": "6ac4eefd",
   "metadata": {},
   "source": [
    "<p style='direction:rtl;text-align:right;font-size:16px;font-family:samim;'>\n",
    "مقادیر T و V را تعریف کرده و سپس از فرمول داده شده برای محاسبه WCF استفاده کنید.\n",
    "</p>"
   ]
  },
  {
   "cell_type": "markdown",
   "id": "462bcf34",
   "metadata": {},
   "source": [
    "<h4 style='direction:rtl;text-align:right;font-size:18px;font-family:samim;'>جواب</h4>"
   ]
  },
  {
   "cell_type": "code",
   "execution_count": 23,
   "id": "656943c3",
   "metadata": {},
   "outputs": [
    {
     "name": "stdout",
     "output_type": "stream",
     "text": [
      "-28.117590829837095\n"
     ]
    }
   ],
   "source": [
    "# تعریف مقادیر\n",
    "T = -10\n",
    "V = 10\n",
    "\n",
    "# محاسبه WCF\n",
    "WCF = 35.7 + 0.6 * T - 35.7 * V**0.16 + 0.43 * T * V**0.16\n",
    "\n",
    "# چاپ نتیجه\n",
    "print(WCF)"
   ]
  },
  {
   "cell_type": "markdown",
   "id": "56a00605",
   "metadata": {},
   "source": [
    "<h2 style='direction:rtl;text-align:right;font-family:samim;'><b>🔸 تمرین ۲۳*</b></h2>"
   ]
  },
  {
   "cell_type": "markdown",
   "id": "32e766e8",
   "metadata": {},
   "source": [
    "<p style='direction:rtl;text-align:right;font-size:18px;font-family:samim;line-height:1.5;'>\n",
    "شکل زیر بیانگر یک نورون مصنوعی در یک شبکه عصبی است. با در نظر گرفتن مقادیر زیر، رابطه نورون را پیاده‌سازی کنید و مقدار خروجی را محاسبه کنید.\n",
    "\n",
    "$$ W = (0.1, 0.2 , 0.3) , X = (0.5, 0.3, 0.2) , bias= 0.4$$\n",
    "    \n",
    "<p style='direction:rtl;text-align:right;font-size:18px;font-family:samim;line-height:1.5;'>\n",
    "راهنمایی: برای محاسبه سیگموئید و خروجی از فرمول‌های زیر استفاده کنید.\n",
    "    <br>\n",
    "$$y = \\sigma(bias+\\sum_{i=1}^n (x_i w_i))$$ و $$\\sigma(z) = \\frac{1}{1+e^{-z}}$$\n",
    "</p>"
   ]
  },
  {
   "attachments": {
    "Picture1.png": {
     "image/png": "[encoded data removed]"
    }
   },
   "cell_type": "markdown",
   "id": "feffe7b2",
   "metadata": {},
   "source": [
    "![Picture1.png](attachment:Picture1.png)"
   ]
  },
  {
   "cell_type": "code",
   "execution_count": null,
   "id": "9da83b4a",
   "metadata": {},
   "outputs": [],
   "source": []
  },
  {
   "cell_type": "markdown",
   "id": "22e9a3ad",
   "metadata": {},
   "source": [
    "<h4 style='direction:rtl;text-align:right;font-size:18px;font-family:samim;'>راهنمایی</h4>"
   ]
  },
  {
   "cell_type": "markdown",
   "id": "5662220c",
   "metadata": {},
   "source": [
    "<p style='direction:rtl;text-align:right;font-size:16px;font-family:samim;'>\n",
    "مقادیر W، X و bias را تعریف کرده و سپس با استفاده از فرمول‌های داده شده، مقدار خروجی نورون را محاسبه کنید.گام به گام فرمودل را پیاده‌سازی کنید\n",
    "</p>"
   ]
  },
  {
   "cell_type": "markdown",
   "id": "dd2c24f2",
   "metadata": {},
   "source": [
    "<h4 style='direction:rtl;text-align:right;font-size:18px;font-family:samim;'>جواب</h4>"
   ]
  },
  {
   "cell_type": "code",
   "execution_count": 24,
   "id": "fa79dfb1",
   "metadata": {},
   "outputs": [
    {
     "name": "stdout",
     "output_type": "stream",
     "text": [
      "0.5700000000000001\n",
      "0.6378751449052247\n"
     ]
    }
   ],
   "source": [
    "# تعریف مقادیر W، X و bias\n",
    "x1 = 0.5\n",
    "x2 = 0.3\n",
    "x3 = 0.2\n",
    "w1 = 0.1\n",
    "w2 = 0.2\n",
    "w3 = 0.3\n",
    "bias = 0.4\n",
    "\n",
    "# محاسبه خروجی z\n",
    "\n",
    "z = x1*w1 + x2*w2 + x3*w3 + bias\n",
    "print(z)\n",
    "\n",
    "# محاسبه y\n",
    "e = 2.7\n",
    "sigmoid = 1 / (1+e**(-z))\n",
    "y = sigmoid\n",
    "\n",
    "print(y)"
   ]
  },
  {
   "cell_type": "markdown",
   "id": "d5b7ef18",
   "metadata": {},
   "source": [
    "<h2 style='direction:rtl;text-align:right;font-family:samim;'><b>🔸تمرین ۲۴*</b></h2>"
   ]
  },
  {
   "cell_type": "markdown",
   "id": "30c0ff8c",
   "metadata": {},
   "source": [
    "<p style='direction:rtl;text-align:right;font-size:18px;font-family:samim;'>\n",
    "مقاومت معادل برای سه مقاومت موازی از رابطه زیر محاسبه می‌شود:\n",
    "$$R_T= \\frac{1}{\\frac{1}{R_1} + \\frac{1}{R_2} + \\frac{1}{R_3}}$$\n",
    "<p style='direction:rtl;text-align:right;font-size:18px;font-family:samim;'>\n",
    "الف) سه متغیر ساخته و مقدار سه مقاومت ۱۰، ۱۵ و ۲۰ اهمی را در آن‌ها ذخیره کنید.\n",
    "<p style='direction:rtl;text-align:right;font-size:18px;font-family:samim;'>    \n",
    "ب) با استفاده از فرمول بالا، مقدار مقاومت معادل را محاسبه کرده و در متغیر جدیدی ذخیره کنید.\n",
    "</p>"
   ]
  },
  {
   "cell_type": "code",
   "execution_count": null,
   "id": "ea2e66f5",
   "metadata": {},
   "outputs": [],
   "source": []
  },
  {
   "cell_type": "markdown",
   "id": "e31a72d0",
   "metadata": {},
   "source": [
    "<h4 style='direction:rtl;text-align:right;font-size:18px;font-family:samim;'>راهنمایی</h4>"
   ]
  },
  {
   "cell_type": "markdown",
   "id": "cb506735",
   "metadata": {},
   "source": [
    "<p style='direction:rtl;text-align:right;font-size:16px;font-family:samim;'>\n",
    "سه متغیر برای مقاومت‌ها تعریف کرده و سپس با استفاده از فرمول داده شده، مقدار مقاومت معادل را محاسبه کنید.\n",
    "</p>"
   ]
  },
  {
   "cell_type": "markdown",
   "id": "a1297523",
   "metadata": {},
   "source": [
    "<h4 style='direction:rtl;text-align:right;font-size:18px;font-family:samim;'>جواب</h4>"
   ]
  },
  {
   "cell_type": "code",
   "execution_count": 6,
   "id": "d9838828",
   "metadata": {},
   "outputs": [
    {
     "name": "stdout",
     "output_type": "stream",
     "text": [
      "4.615384615384615\n"
     ]
    }
   ],
   "source": [
    "# تعریف مقادیر مقاومت ها\n",
    "R1 = 10\n",
    "R2 = 15\n",
    "R3 = 20\n",
    "\n",
    "# محاسبه مقاومت معادل\n",
    "RT = 1 / (1/R1 + 1/R2 + 1/R3)\n",
    "\n",
    "# چاپ نتیجه\n",
    "print(RT)"
   ]
  }
 ],
 "metadata": {
  "kernelspec": {
   "display_name": "Python 3 (ipykernel)",
   "language": "python",
   "name": "python3"
  },
  "language_info": {
   "codemirror_mode": {
    "name": "ipython",
    "version": 3
   },
   "file_extension": ".py",
   "mimetype": "text/x-python",
   "name": "python",
   "nbconvert_exporter": "python",
   "pygments_lexer": "ipython3",
   "version": "3.9.12"
  }
 },
 "nbformat": 4,
 "nbformat_minor": 5
}
