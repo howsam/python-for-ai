{
 "cells": [
  {
   "cell_type": "markdown",
   "metadata": {
    "id": "ltDaErzDg3Hp",
    "tags": []
   },
   "source": [
    "# <font color='#FFE15D'>**NumPy**</font> 🟥⬜🟩"
   ]
  },
  {
   "cell_type": "markdown",
   "metadata": {},
   "source": [
    "<img src=\"../python-notebook/images/numpylogo_dark.svg\" alt=\"string indexing\" width=300 align=\"center\" />"
   ]
  },
  {
   "cell_type": "markdown",
   "metadata": {
    "id": "slJIGRxNoE2D",
    "jp-MarkdownHeadingCollapsed": true,
    "tags": []
   },
   "source": [
    "## 🔸 **Section 0: Import numpy and get version**"
   ]
  },
  {
   "cell_type": "code",
   "execution_count": 292,
   "metadata": {
    "colab": {
     "base_uri": "https://localhost:8080/",
     "height": 35
    },
    "id": "2lUADA6Wy0EK",
    "outputId": "f8633947-23bf-4d00-e119-c2e962c51f43"
   },
   "outputs": [],
   "source": [
    "import numpy as np"
   ]
  },
  {
   "cell_type": "code",
   "execution_count": 4,
   "metadata": {},
   "outputs": [
    {
     "data": {
      "text/plain": [
       "'1.23.4'"
      ]
     },
     "execution_count": 4,
     "metadata": {},
     "output_type": "execute_result"
    }
   ],
   "source": [
    "np.__version__"
   ]
  },
  {
   "cell_type": "markdown",
   "metadata": {
    "id": "a9be3HCJC-Oq",
    "jp-MarkdownHeadingCollapsed": true,
    "tags": []
   },
   "source": [
    "### Built-in Documentation"
   ]
  },
  {
   "cell_type": "code",
   "execution_count": null,
   "metadata": {
    "colab": {
     "base_uri": "https://localhost:8080/",
     "height": 128
    },
    "id": "o8I8NhLgDAQm",
    "outputId": "d679b9e3-d0e1-41a3-f143-cd7888899911"
   },
   "outputs": [],
   "source": [
    "np.arange()"
   ]
  },
  {
   "cell_type": "markdown",
   "metadata": {
    "id": "8d25DyDxov7H",
    "jp-MarkdownHeadingCollapsed": true,
    "tags": []
   },
   "source": [
    "## 🔶 **Section 1: Numpy array**"
   ]
  },
  {
   "cell_type": "markdown",
   "metadata": {
    "id": "89flvZw6p4HC",
    "jp-MarkdownHeadingCollapsed": true,
    "tags": []
   },
   "source": [
    "### Scalar"
   ]
  },
  {
   "cell_type": "code",
   "execution_count": 17,
   "metadata": {
    "id": "3QkCWJtin7-s"
   },
   "outputs": [
    {
     "data": {
      "text/plain": [
       "array(3)"
      ]
     },
     "execution_count": 17,
     "metadata": {},
     "output_type": "execute_result"
    }
   ],
   "source": [
    "a = 3\n",
    "b = np.array(3)\n",
    "b"
   ]
  },
  {
   "cell_type": "markdown",
   "metadata": {
    "id": "b7DtHM5oqCzw",
    "jp-MarkdownHeadingCollapsed": true,
    "tags": []
   },
   "source": [
    "### Vector"
   ]
  },
  {
   "cell_type": "markdown",
   "metadata": {},
   "source": [
    "![image.png](data:image/png;base64,iVBORw0KGgoAAAANSUhEUgAAAUEAAAA2CAMAAABugNvOAAAAAXNSR0IArs4c6QAAAARnQU1BAACxjwv8YQUAAAAVUExURQAAAACw8HAwoHCtR/F9If8AAP/AAIALjWEAAAABdFJOUwBA5thmAAAACXBIWXMAABcRAAAXEQHKJvM/AAAA+0lEQVR4Xu3QsXECQADEwAdj+i8ZAs34Ur1TbQl7zvPG68bjyvvGz43fG6fBP5w4DQ5OnAYHJ06DgxOnwcGJ0+DgxGlwcOI0ODhxGhycOA0OTpwGBydOg4MTp8HBidPg4MRpcHDiNDg4cRocnDgNDk6cBgcnToODE6fBwYnT4ODEaXBw4jQ4OHEaHJw4DQ5OnAYHJ06DgxOnwcGJ0+DgxGlwcOI0ODhxGhycOA0OTpwGBydOg4MTp8HBidPg4MRpcHDiNDg4cRocnDgNDk6cBgcnToODE6fBwYnT4ODEaXBw4jQ4OHEaHJw4DQ5OnAYHJ06DgxPnO5j/OOcDLkzmoyFh8JIAAAAASUVORK5CYII=)"
   ]
  },
  {
   "cell_type": "code",
   "execution_count": 23,
   "metadata": {
    "id": "E2RcRcU8qBTc"
   },
   "outputs": [
    {
     "data": {
      "text/plain": [
       "array([1., 2., 3., 4.])"
      ]
     },
     "execution_count": 23,
     "metadata": {},
     "output_type": "execute_result"
    }
   ],
   "source": [
    "a = np.array([1, 2, 3, 4])\n",
    "a\n",
    "\n",
    "b = [1, 2, 3, 4.]\n",
    "c = np.array(b)\n",
    "c"
   ]
  },
  {
   "cell_type": "markdown",
   "metadata": {
    "id": "AqAu3O-dqQK5",
    "jp-MarkdownHeadingCollapsed": true,
    "tags": []
   },
   "source": [
    "### Matrix"
   ]
  },
  {
   "cell_type": "markdown",
   "metadata": {},
   "source": [
    "![image.png](data:image/png;base64,iVBORw0KGgoAAAANSUhEUgAAAQgAAADcCAMAAAC78M9AAAAAAXNSR0IArs4c6QAAAARnQU1BAACxjwv8YQUAAAA5UExURQAAAAAAAAAA/wAgYACLkQCwUACw8BRNUzhXI3AwoHCtR5LQUMyZAN8sPfF9IfPE/f8AAP8A///AAPXRxBMAAAABdFJOUwBA5thmAAAACXBIWXMAABcRAAAXEQHKJvM/AAABzklEQVR4Xu3cQU4YMAwAQVNKC4UWyv8fi5DmAfZ9557I2lytzLzs/Tv4dfB88Ofg46AQFIJCUAgKQSEoBIWgEBSCQlAICkEhKASFoBAUgkJQCApBISgEhaAQFIJCUAgKQSEoBIWgEBSCQlAICkEhKASFoBAUgkIwY5iNnwd/Dz4PXL/iTVYKQSEoBIWgEBSCQlAICkEhKASFoBAUgkJQCApBISgEhaAQFIJCUAgKQSEoBIWgEBSCQlAICkEhKASFoBAUgkJQCApBISgEMz/2nFn5fWDnfeX14P2gEBSCQlAICkEhKASFoBAUgkJQCApBISgEhaAQFIJCUAgKQSEoBIWgEBSCQlAICkEhKASFoBAUgkJQCApBISgEhaAQFIJCMPO093ig3cr/A/95r3iTlUJQCApBISgEhaAQFIJCUAgKQSEoBIWgEBSCQlAICkEhKASFoBAUgkJQCApBISgEhaAQFIJCUAgKQSEoBIWgEBSCQlAICsGMT7o37IWvvB2YZeXhwM77SiEoBIWgEBSCQlAICkEhKASFoBAUgkJQCApBISgEhaAQFIJCUAgKQSEoBIWgEBSCQlAICkEhKASFoBAUgkJQCApBISgEk28zX4vYmLKVVy0+AAAAAElFTkSuQmCC)"
   ]
  },
  {
   "cell_type": "code",
   "execution_count": 27,
   "metadata": {
    "id": "XFB2Q2mVqOoq"
   },
   "outputs": [
    {
     "name": "stdout",
     "output_type": "stream",
     "text": [
      "[[1, 2, 3], [2, 4, 5], [0, 1, 0], [9, 8, 7]]\n"
     ]
    },
    {
     "data": {
      "text/plain": [
       "array([[1., 2., 3.],\n",
       "       [2., 4., 5.],\n",
       "       [0., 1., 0.],\n",
       "       [9., 8., 7.]])"
      ]
     },
     "execution_count": 27,
     "metadata": {},
     "output_type": "execute_result"
    }
   ],
   "source": [
    "a = [[1, 2, 3],\n",
    "     [2, 4, 5],\n",
    "     [0, 1, 0], \n",
    "     [9, 8, 7]]\n",
    "print(a)\n",
    "\n",
    "np.array([[1, 2, 3], [2, 4, 5], [0, 1, 0], [9, 8, 7.]])"
   ]
  },
  {
   "cell_type": "markdown",
   "metadata": {
    "id": "g5gC-KWXsGfQ",
    "jp-MarkdownHeadingCollapsed": true,
    "tags": []
   },
   "source": [
    "### Column vector"
   ]
  },
  {
   "cell_type": "markdown",
   "metadata": {},
   "source": [
    "![image.png](data:image/png;base64,iVBORw0KGgoAAAANSUhEUgAAADMAAADJCAMAAAC5dvpnAAAAAXNSR0IArs4c6QAAAARnQU1BAACxjwv8YQUAAAAPUExURQAAAACw8HCtR/8AAP/AANEoJ4cAAAABdFJOUwBA5thmAAAACXBIWXMAABcRAAAXEQHKJvM/AAAAT0lEQVRoQ+3LuQ3AMAwAMefZf+bgRpCrwCB7ri3XlOPEceI4cZw4vz/vlOPEceI4cZw4R557ynHiOHGcOE6cI88z5ThxnDhOHCfOkWdqrQ/HmV+ELNxTwAAAAABJRU5ErkJggg==)"
   ]
  },
  {
   "cell_type": "code",
   "execution_count": 28,
   "metadata": {
    "id": "_ImQp8QOsFjd"
   },
   "outputs": [
    {
     "data": {
      "text/plain": [
       "array([[1],\n",
       "       [2],\n",
       "       [3],\n",
       "       [0]])"
      ]
     },
     "execution_count": 28,
     "metadata": {},
     "output_type": "execute_result"
    }
   ],
   "source": [
    "np.array([[1],\n",
    "          [2],\n",
    "          [3],\n",
    "          [0]])"
   ]
  },
  {
   "cell_type": "markdown",
   "metadata": {
    "id": "3CyJ4mG1qokv",
    "jp-MarkdownHeadingCollapsed": true,
    "tags": []
   },
   "source": [
    "### 3d Matrix"
   ]
  },
  {
   "cell_type": "markdown",
   "metadata": {},
   "source": [
    "![image.png](data:image/png;base64,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)"
   ]
  },
  {
   "cell_type": "code",
   "execution_count": 35,
   "metadata": {
    "id": "zAQLhFlLqh5U"
   },
   "outputs": [
    {
     "name": "stdout",
     "output_type": "stream",
     "text": [
      "[[1, 2], [3, 4]] [[5, 6], [7, 8]]\n",
      "[[[1, 2], [3, 4]], [[5, 6], [7, 8]]]\n",
      "[[[1, 2], [3, 4]], [[5, 6], [7, 8]]]\n"
     ]
    },
    {
     "data": {
      "text/plain": [
       "array([[[1, 2],\n",
       "        [3, 4]],\n",
       "\n",
       "       [[5, 6],\n",
       "        [7, 8]]])"
      ]
     },
     "execution_count": 35,
     "metadata": {},
     "output_type": "execute_result"
    }
   ],
   "source": [
    "a = [[1, 2], \n",
    "     [3, 4]]\n",
    "\n",
    "b = [[5, 6], \n",
    "     [7, 8]]\n",
    "\n",
    "print(a, b)\n",
    "\n",
    "c = [a, b]\n",
    "d = [\n",
    "    [[1, 2], \n",
    "     [3, 4]],\n",
    "    \n",
    "    [[5, 6], \n",
    "     [7, 8]]\n",
    "]\n",
    "print(c)\n",
    "print(d)\n",
    "\n",
    "np.array(d)"
   ]
  },
  {
   "cell_type": "code",
   "execution_count": 37,
   "metadata": {},
   "outputs": [
    {
     "data": {
      "text/plain": [
       "array([ 0,  1,  4,  9, 16, 25, 36, 49, 64, 81])"
      ]
     },
     "execution_count": 37,
     "metadata": {},
     "output_type": "execute_result"
    }
   ],
   "source": [
    "np.array(range(10))\n",
    "np.array([i**2 for i in range(10)])"
   ]
  },
  {
   "cell_type": "markdown",
   "metadata": {
    "id": "GweqDf4DsiyB",
    "jp-MarkdownHeadingCollapsed": true,
    "tags": []
   },
   "source": [
    "## 🔶 **Section 2: Numpy array attributes & methods**"
   ]
  },
  {
   "cell_type": "code",
   "execution_count": 80,
   "metadata": {
    "id": "BI3PJTpmst9a"
   },
   "outputs": [],
   "source": [
    "a = np.array(-2.5)\n",
    "b = np.array([-1, 2, 3, 4])\n",
    "c = np.array([[1., 2], [3, 4]])\n",
    "d = np.array([[[1, 2], [3, 4]], [[5, 6], [7, 8]], [[0, 1], [2, 3]]])"
   ]
  },
  {
   "cell_type": "markdown",
   "metadata": {
    "jp-MarkdownHeadingCollapsed": true,
    "tags": []
   },
   "source": [
    "### Attributes"
   ]
  },
  {
   "cell_type": "markdown",
   "metadata": {
    "id": "wanM4ijAV3GQ",
    "jp-MarkdownHeadingCollapsed": true,
    "tags": []
   },
   "source": [
    "#### `.ndim`, `.shape`, `.size`"
   ]
  },
  {
   "cell_type": "code",
   "execution_count": 70,
   "metadata": {},
   "outputs": [
    {
     "name": "stdout",
     "output_type": "stream",
     "text": [
      "0 1 2 3\n",
      "() (4,) (2, 2) (3, 2, 2)\n",
      "12 4 4 1\n"
     ]
    }
   ],
   "source": [
    "print(a.ndim, b.ndim, c.ndim, d.ndim)\n",
    "\n",
    "print(a.shape, b.shape, c.shape, d.shape)\n",
    "\n",
    "print(d.size, c.size, b.size, a.size)"
   ]
  },
  {
   "cell_type": "markdown",
   "metadata": {
    "id": "wanM4ijAV3GQ",
    "jp-MarkdownHeadingCollapsed": true,
    "tags": []
   },
   "source": [
    "#### `.dtype`"
   ]
  },
  {
   "cell_type": "code",
   "execution_count": 81,
   "metadata": {},
   "outputs": [
    {
     "data": {
      "text/plain": [
       "(dtype('float64'), dtype('int32'), dtype('float64'), dtype('int32'))"
      ]
     },
     "execution_count": 81,
     "metadata": {},
     "output_type": "execute_result"
    }
   ],
   "source": [
    "a.dtype, b.dtype, c.dtype, d.dtype"
   ]
  },
  {
   "cell_type": "markdown",
   "metadata": {
    "id": "wanM4ijAV3GQ",
    "jp-MarkdownHeadingCollapsed": true,
    "tags": []
   },
   "source": [
    "#### `.itemsize`, `.nbytes`"
   ]
  },
  {
   "cell_type": "code",
   "execution_count": 89,
   "metadata": {},
   "outputs": [
    {
     "name": "stdout",
     "output_type": "stream",
     "text": [
      "8 4 8 4\n"
     ]
    },
    {
     "data": {
      "text/plain": [
       "(16, 32, 48)"
      ]
     },
     "execution_count": 89,
     "metadata": {},
     "output_type": "execute_result"
    }
   ],
   "source": [
    "print(a.itemsize, b.itemsize, c.itemsize, d.itemsize)\n",
    "# b.size * b.itemsize\n",
    "b.nbytes, c.nbytes, d.nbytes"
   ]
  },
  {
   "cell_type": "markdown",
   "metadata": {
    "tags": []
   },
   "source": [
    "### methods"
   ]
  },
  {
   "cell_type": "code",
   "execution_count": 92,
   "metadata": {},
   "outputs": [
    {
     "data": {
      "text/plain": [
       "(-1, -1)"
      ]
     },
     "execution_count": 92,
     "metadata": {},
     "output_type": "execute_result"
    }
   ],
   "source": [
    "b.min(), np.min(b)"
   ]
  },
  {
   "cell_type": "markdown",
   "metadata": {
    "id": "GweqDf4DsiyB",
    "jp-MarkdownHeadingCollapsed": true,
    "tags": []
   },
   "source": [
    "## 🔶 **Section 3: Data type & conversion**"
   ]
  },
  {
   "cell_type": "markdown",
   "metadata": {},
   "source": [
    "<img src=\"../python-notebook/images/numpy-dtype.png\" alt=\"string indexing\" width=500 align=\"center\" />"
   ]
  },
  {
   "cell_type": "code",
   "execution_count": 97,
   "metadata": {
    "id": "BI3PJTpmst9a"
   },
   "outputs": [
    {
     "name": "stdout",
     "output_type": "stream",
     "text": [
      "int32 float64\n"
     ]
    },
    {
     "data": {
      "text/plain": [
       "(array([1, 2, 3, 4]), array([1., 2., 3., 4.]))"
      ]
     },
     "execution_count": 97,
     "metadata": {},
     "output_type": "execute_result"
    }
   ],
   "source": [
    "a = np.array([1, 2, 3, 4])\n",
    "b = np.array([1., 2, 3, 4])\n",
    "print(a.dtype, b.dtype)\n",
    "a, b"
   ]
  },
  {
   "cell_type": "markdown",
   "metadata": {
    "id": "TmZq_FH3Xivq",
    "jp-MarkdownHeadingCollapsed": true,
    "tags": []
   },
   "source": [
    "### Define an array with specific data type"
   ]
  },
  {
   "cell_type": "code",
   "execution_count": 113,
   "metadata": {
    "id": "Y5hFhNiksnHe"
   },
   "outputs": [
    {
     "data": {
      "text/plain": [
       "(array([130, 128, 127, 400], dtype=int16), dtype('int16'))"
      ]
     },
     "execution_count": 113,
     "metadata": {},
     "output_type": "execute_result"
    }
   ],
   "source": [
    "a = np.array([130, 128, 127, 400], dtype=np.int16)\n",
    "a, a.dtype"
   ]
  },
  {
   "cell_type": "code",
   "execution_count": 117,
   "metadata": {},
   "outputs": [
    {
     "data": {
      "text/plain": [
       "(array([  0, 255,   0, 255, 254], dtype=uint8), dtype('uint8'))"
      ]
     },
     "execution_count": 117,
     "metadata": {},
     "output_type": "execute_result"
    }
   ],
   "source": [
    "a = np.array([0, 255, 256, -1, -2], dtype=np.uint8)\n",
    "a, a.dtype"
   ]
  },
  {
   "cell_type": "code",
   "execution_count": 121,
   "metadata": {},
   "outputs": [
    {
     "data": {
      "text/plain": [
       "(array([  1.+1.j, 128.+0.j, 127.+0.j, 400.+0.j], dtype=complex64),\n",
       " dtype('complex64'))"
      ]
     },
     "execution_count": 121,
     "metadata": {},
     "output_type": "execute_result"
    }
   ],
   "source": [
    "a = np.array([complex(1, 1), 128, 127, 400], dtype=np.complex64)\n",
    "a, a.dtype"
   ]
  },
  {
   "cell_type": "code",
   "execution_count": 122,
   "metadata": {},
   "outputs": [
    {
     "data": {
      "text/plain": [
       "(array([ True, False,  True,  True]), dtype('bool'))"
      ]
     },
     "execution_count": 122,
     "metadata": {},
     "output_type": "execute_result"
    }
   ],
   "source": [
    "a = np.array([-130, 0, 127, 400], np.bool_)\n",
    "a, a.dtype"
   ]
  },
  {
   "cell_type": "markdown",
   "metadata": {
    "id": "lHkg6fMGwHHd",
    "jp-MarkdownHeadingCollapsed": true,
    "tags": []
   },
   "source": [
    "### Convert ↔️"
   ]
  },
  {
   "cell_type": "code",
   "execution_count": 131,
   "metadata": {
    "id": "p04AehoWwJel"
   },
   "outputs": [
    {
     "name": "stdout",
     "output_type": "stream",
     "text": [
      "[130 128 127 400] int16\n"
     ]
    },
    {
     "data": {
      "text/plain": [
       "dtype('float64')"
      ]
     },
     "execution_count": 131,
     "metadata": {},
     "output_type": "execute_result"
    }
   ],
   "source": [
    "a = np.array([130, 128, 127, 400], dtype=np.int16)\n",
    "print(a, a.dtype)\n",
    "\n",
    "a = a.astype(np.float_)\n",
    "a.dtype"
   ]
  },
  {
   "cell_type": "markdown",
   "metadata": {
    "id": "GHqYJM-iy_6i",
    "jp-MarkdownHeadingCollapsed": true,
    "tags": []
   },
   "source": [
    "## 🔶 **Section 4: Special arrays**"
   ]
  },
  {
   "cell_type": "markdown",
   "metadata": {
    "id": "VRyFKO_odIru",
    "jp-MarkdownHeadingCollapsed": true,
    "tags": []
   },
   "source": [
    "### `np.zeros()`"
   ]
  },
  {
   "cell_type": "code",
   "execution_count": 135,
   "metadata": {
    "id": "l0A7FLuszE4t"
   },
   "outputs": [
    {
     "data": {
      "text/plain": [
       "array([[[0, 0, 0, 0],\n",
       "        [0, 0, 0, 0],\n",
       "        [0, 0, 0, 0]],\n",
       "\n",
       "       [[0, 0, 0, 0],\n",
       "        [0, 0, 0, 0],\n",
       "        [0, 0, 0, 0]],\n",
       "\n",
       "       [[0, 0, 0, 0],\n",
       "        [0, 0, 0, 0],\n",
       "        [0, 0, 0, 0]],\n",
       "\n",
       "       [[0, 0, 0, 0],\n",
       "        [0, 0, 0, 0],\n",
       "        [0, 0, 0, 0]],\n",
       "\n",
       "       [[0, 0, 0, 0],\n",
       "        [0, 0, 0, 0],\n",
       "        [0, 0, 0, 0]]], dtype=int16)"
      ]
     },
     "execution_count": 135,
     "metadata": {},
     "output_type": "execute_result"
    }
   ],
   "source": [
    "np.zeros((3, 4), dtype=np.int16)\n",
    "a = np.zeros((5, 3, 4), dtype=np.int16)\n",
    "a"
   ]
  },
  {
   "cell_type": "markdown",
   "metadata": {
    "id": "yuLiJXIXdOLz",
    "jp-MarkdownHeadingCollapsed": true,
    "tags": []
   },
   "source": [
    "### `np.ones()`"
   ]
  },
  {
   "cell_type": "code",
   "execution_count": 136,
   "metadata": {
    "id": "8nS0n5wP0T1g"
   },
   "outputs": [
    {
     "data": {
      "text/plain": [
       "array([1., 1., 1., 1., 1., 1.])"
      ]
     },
     "execution_count": 136,
     "metadata": {},
     "output_type": "execute_result"
    }
   ],
   "source": [
    "np.ones(6)"
   ]
  },
  {
   "cell_type": "markdown",
   "metadata": {
    "id": "mNr0dFt3hLLr",
    "jp-MarkdownHeadingCollapsed": true,
    "tags": []
   },
   "source": [
    "### `np.eye()`"
   ]
  },
  {
   "cell_type": "code",
   "execution_count": 140,
   "metadata": {
    "id": "7mYZ7DeG0uGH"
   },
   "outputs": [
    {
     "data": {
      "text/plain": [
       "array([[1., 0.],\n",
       "       [0., 1.],\n",
       "       [0., 0.]])"
      ]
     },
     "execution_count": 140,
     "metadata": {},
     "output_type": "execute_result"
    }
   ],
   "source": [
    "np.eye(3, 2)"
   ]
  },
  {
   "cell_type": "markdown",
   "metadata": {
    "id": "ZMUW9WqDdcta",
    "jp-MarkdownHeadingCollapsed": true,
    "tags": []
   },
   "source": [
    "### `np.empty()`"
   ]
  },
  {
   "cell_type": "code",
   "execution_count": 142,
   "metadata": {
    "id": "EWK62aOV1dBE"
   },
   "outputs": [
    {
     "data": {
      "text/plain": [
       "array([2.12199579e-314, 4.67296746e-307, 2.13436359e-321, 3.79442416e-321,\n",
       "       1.90979621e-313])"
      ]
     },
     "execution_count": 142,
     "metadata": {},
     "output_type": "execute_result"
    }
   ],
   "source": [
    "np.empty(5)"
   ]
  },
  {
   "cell_type": "markdown",
   "metadata": {
    "id": "A1tX9p9Ndeww",
    "jp-MarkdownHeadingCollapsed": true,
    "tags": []
   },
   "source": [
    "### `np.full()`"
   ]
  },
  {
   "cell_type": "code",
   "execution_count": 145,
   "metadata": {
    "id": "97LZN3hx1xZ-"
   },
   "outputs": [
    {
     "data": {
      "text/plain": [
       "array([[1.2, 1.2],\n",
       "       [1.2, 1.2]])"
      ]
     },
     "execution_count": 145,
     "metadata": {},
     "output_type": "execute_result"
    }
   ],
   "source": [
    "np.full((2, 2), 1.2)\n",
    "# np.ones((2, 2))*1.2"
   ]
  },
  {
   "cell_type": "markdown",
   "metadata": {
    "id": "A1tX9p9Ndeww",
    "jp-MarkdownHeadingCollapsed": true,
    "tags": []
   },
   "source": [
    "### `np.arange()`"
   ]
  },
  {
   "cell_type": "code",
   "execution_count": 148,
   "metadata": {
    "id": "97LZN3hx1xZ-"
   },
   "outputs": [
    {
     "data": {
      "text/plain": [
       "([2, 4, 6, 8], array([2, 4, 6, 8]), array([2, 4, 6, 8]))"
      ]
     },
     "execution_count": 148,
     "metadata": {},
     "output_type": "execute_result"
    }
   ],
   "source": [
    "list(range(2, 10, 2)), np.array(range(2, 10, 2)), np.arange(2, 10, 2)"
   ]
  },
  {
   "cell_type": "markdown",
   "metadata": {
    "id": "A1tX9p9Ndeww",
    "jp-MarkdownHeadingCollapsed": true,
    "tags": []
   },
   "source": [
    "### `np.linspace()`"
   ]
  },
  {
   "cell_type": "code",
   "execution_count": 153,
   "metadata": {
    "id": "97LZN3hx1xZ-"
   },
   "outputs": [
    {
     "data": {
      "text/plain": [
       "array([0., 1., 2., 3., 4., 5., 6., 7., 8., 9.])"
      ]
     },
     "execution_count": 153,
     "metadata": {},
     "output_type": "execute_result"
    }
   ],
   "source": [
    "np.linspace(0, 9, 10)"
   ]
  },
  {
   "cell_type": "markdown",
   "metadata": {},
   "source": [
    "step = (stop - start +1) / num"
   ]
  },
  {
   "cell_type": "code",
   "execution_count": 156,
   "metadata": {},
   "outputs": [
    {
     "data": {
      "text/plain": [
       "array([0.        , 0.02040816, 0.04081633, 0.06122449, 0.08163265,\n",
       "       0.10204082, 0.12244898, 0.14285714, 0.16326531, 0.18367347,\n",
       "       0.20408163, 0.2244898 , 0.24489796, 0.26530612, 0.28571429,\n",
       "       0.30612245, 0.32653061, 0.34693878, 0.36734694, 0.3877551 ,\n",
       "       0.40816327, 0.42857143, 0.44897959, 0.46938776, 0.48979592,\n",
       "       0.51020408, 0.53061224, 0.55102041, 0.57142857, 0.59183673,\n",
       "       0.6122449 , 0.63265306, 0.65306122, 0.67346939, 0.69387755,\n",
       "       0.71428571, 0.73469388, 0.75510204, 0.7755102 , 0.79591837,\n",
       "       0.81632653, 0.83673469, 0.85714286, 0.87755102, 0.89795918,\n",
       "       0.91836735, 0.93877551, 0.95918367, 0.97959184, 1.        ])"
      ]
     },
     "execution_count": 156,
     "metadata": {},
     "output_type": "execute_result"
    }
   ],
   "source": [
    "np.linspace(0, 1, 100)\n",
    "np.linspace(0, 1)"
   ]
  },
  {
   "cell_type": "markdown",
   "metadata": {
    "id": "xBi5z9k9h_3p",
    "jp-MarkdownHeadingCollapsed": true,
    "tags": []
   },
   "source": [
    "### create a zero vector with the same size as `a`"
   ]
  },
  {
   "cell_type": "code",
   "execution_count": 159,
   "metadata": {
    "id": "uUVFBB8Vc5VP"
   },
   "outputs": [
    {
     "data": {
      "text/plain": [
       "array([[[0, 0, 0, 0],\n",
       "        [0, 0, 0, 0],\n",
       "        [0, 0, 0, 0]],\n",
       "\n",
       "       [[0, 0, 0, 0],\n",
       "        [0, 0, 0, 0],\n",
       "        [0, 0, 0, 0]],\n",
       "\n",
       "       [[0, 0, 0, 0],\n",
       "        [0, 0, 0, 0],\n",
       "        [0, 0, 0, 0]],\n",
       "\n",
       "       [[0, 0, 0, 0],\n",
       "        [0, 0, 0, 0],\n",
       "        [0, 0, 0, 0]],\n",
       "\n",
       "       [[0, 0, 0, 0],\n",
       "        [0, 0, 0, 0],\n",
       "        [0, 0, 0, 0]]], dtype=int16)"
      ]
     },
     "execution_count": 159,
     "metadata": {},
     "output_type": "execute_result"
    }
   ],
   "source": [
    "b = np.zeros(a.shape, dtype=a.dtype)\n",
    "b"
   ]
  },
  {
   "cell_type": "code",
   "execution_count": 161,
   "metadata": {},
   "outputs": [
    {
     "data": {
      "text/plain": [
       "array([0, 0, 0, 0])"
      ]
     },
     "execution_count": 161,
     "metadata": {},
     "output_type": "execute_result"
    }
   ],
   "source": [
    "a = np.array([1, 2, 3, 4])\n",
    "\n",
    "b = np.zeros_like(a)\n",
    "b"
   ]
  },
  {
   "cell_type": "code",
   "execution_count": null,
   "metadata": {},
   "outputs": [],
   "source": [
    "np.ones_like()"
   ]
  },
  {
   "cell_type": "markdown",
   "metadata": {
    "id": "l_4kzWi-kLPi",
    "jp-MarkdownHeadingCollapsed": true,
    "tags": []
   },
   "source": [
    "## 🔶 **Section 5: Random arrays**"
   ]
  },
  {
   "cell_type": "code",
   "execution_count": 10,
   "metadata": {},
   "outputs": [
    {
     "data": {
      "text/plain": [
       "array([0.35560638, 0.80398826])"
      ]
     },
     "execution_count": 10,
     "metadata": {},
     "output_type": "execute_result"
    }
   ],
   "source": [
    "np.random.rand(2)\n",
    "\n",
    "import numpy as np\n",
    "from numpy import random\n",
    "\n",
    "random.rand(2)"
   ]
  },
  {
   "cell_type": "markdown",
   "metadata": {
    "id": "dz1GD9Esk6kR",
    "jp-MarkdownHeadingCollapsed": true,
    "tags": []
   },
   "source": [
    "### `np.random.rand()`: uniform distribution over [0, 1)"
   ]
  },
  {
   "cell_type": "markdown",
   "metadata": {},
   "source": [
    "<img src=\"../python-notebook/images/uniform.png\" alt=\"string indexing\" width=400 align=\"center\" />"
   ]
  },
  {
   "cell_type": "code",
   "execution_count": 48,
   "metadata": {},
   "outputs": [
    {
     "data": {
      "text/plain": [
       "4.092820980009645"
      ]
     },
     "execution_count": 48,
     "metadata": {},
     "output_type": "execute_result"
    }
   ],
   "source": [
    "np.random.rand()\n",
    "np.random.rand(2, 3)\n",
    "\n",
    "10 * np.random.rand() - 5"
   ]
  },
  {
   "cell_type": "markdown",
   "metadata": {
    "id": "eV5p6ql6lC5T",
    "jp-MarkdownHeadingCollapsed": true,
    "tags": []
   },
   "source": [
    "#### Visualize"
   ]
  },
  {
   "cell_type": "code",
   "execution_count": 49,
   "metadata": {
    "id": "f-evZ66ckLPj"
   },
   "outputs": [
    {
     "data": {
      "image/png": "[encoded data removed]",
      "text/plain": [
       "<Figure size 432x288 with 1 Axes>"
      ]
     },
     "metadata": {
      "needs_background": "light"
     },
     "output_type": "display_data"
    }
   ],
   "source": [
    "import matplotlib.pyplot as plt\n",
    "\n",
    "rand_uniform = 10 * np.random.rand(10000)\n",
    "plt.hist(rand_uniform)\n",
    "plt.show()"
   ]
  },
  {
   "cell_type": "markdown",
   "metadata": {
    "jp-MarkdownHeadingCollapsed": true,
    "tags": []
   },
   "source": [
    "### `np.random.randn()`: standard normal distribution ($\\mu=0$, $\\sigma=1$)"
   ]
  },
  {
   "cell_type": "markdown",
   "metadata": {},
   "source": [
    "<img src=\"../python-notebook/images/gaussian-dist.png\" alt=\"string indexing\" width=500 align=\"center\" />"
   ]
  },
  {
   "cell_type": "code",
   "execution_count": 104,
   "metadata": {
    "id": "Y0_TNsSKkLPi"
   },
   "outputs": [
    {
     "data": {
      "text/plain": [
       "2.0407331715530925"
      ]
     },
     "execution_count": 104,
     "metadata": {},
     "output_type": "execute_result"
    }
   ],
   "source": [
    "np.random.randn()\n",
    "\n",
    "np.random.randn(2, 3)\n",
    "\n",
    "2 + 0.1 * np.random.randn()"
   ]
  },
  {
   "cell_type": "markdown",
   "metadata": {
    "id": "eV5p6ql6lC5T",
    "jp-MarkdownHeadingCollapsed": true,
    "tags": []
   },
   "source": [
    "#### Visualize"
   ]
  },
  {
   "cell_type": "code",
   "execution_count": 113,
   "metadata": {
    "id": "6p5ct8PikLPj"
   },
   "outputs": [
    {
     "data": {
      "image/png": "[encoded data removed]",
      "text/plain": [
       "<Figure size 432x288 with 1 Axes>"
      ]
     },
     "metadata": {
      "needs_background": "light"
     },
     "output_type": "display_data"
    }
   ],
   "source": [
    "import matplotlib.pyplot as plt\n",
    "\n",
    "rand_gauss = 0.1 * np.random.randn(100000) + 2\n",
    "plt.hist(rand_gauss, 100)\n",
    "plt.grid()\n",
    "plt.show()"
   ]
  },
  {
   "cell_type": "markdown",
   "metadata": {
    "id": "9D99p_u8eHjE",
    "jp-MarkdownHeadingCollapsed": true,
    "tags": []
   },
   "source": [
    "### `np.random.randint()`"
   ]
  },
  {
   "cell_type": "code",
   "execution_count": 178,
   "metadata": {
    "id": "4euIgD9bkLPk"
   },
   "outputs": [
    {
     "data": {
      "text/plain": [
       "dtype('int32')"
      ]
     },
     "execution_count": 178,
     "metadata": {},
     "output_type": "execute_result"
    }
   ],
   "source": [
    "np.random.randint(10)\n",
    "\n",
    "np.random.randint(5, 10)\n",
    "\n",
    "a = np.random.randint(-5, 5, size=(4, 6))\n",
    "a.dtype"
   ]
  },
  {
   "cell_type": "markdown",
   "metadata": {
    "id": "xOuWKMUllSws",
    "jp-MarkdownHeadingCollapsed": true,
    "tags": []
   },
   "source": [
    "### `np.random.permutation()`"
   ]
  },
  {
   "cell_type": "code",
   "execution_count": 221,
   "metadata": {
    "id": "gQMIGTGukLPk"
   },
   "outputs": [
    {
     "data": {
      "text/plain": [
       "array([1, 6, 4, 2, 7, 9, 5, 3, 8, 0])"
      ]
     },
     "execution_count": 221,
     "metadata": {},
     "output_type": "execute_result"
    }
   ],
   "source": [
    "a = np.random.permutation(10)\n",
    "a"
   ]
  },
  {
   "cell_type": "markdown",
   "metadata": {
    "id": "xOuWKMUllSws",
    "jp-MarkdownHeadingCollapsed": true,
    "tags": []
   },
   "source": [
    "### `np.random.shuffle()`"
   ]
  },
  {
   "cell_type": "code",
   "execution_count": 220,
   "metadata": {
    "id": "gQMIGTGukLPk"
   },
   "outputs": [
    {
     "name": "stdout",
     "output_type": "stream",
     "text": [
      "[[1 2 3 4]\n",
      " [5 6 7 8]]\n",
      "\n",
      "[[1 2 3 4]\n",
      " [5 6 7 8]]\n"
     ]
    }
   ],
   "source": [
    "a = np.array([[1, 2, 3, 4],\n",
    "              [5, 6, 7, 8]])\n",
    "print(a, end='\\n\\n')\n",
    "np.random.shuffle(a)\n",
    "print(a)"
   ]
  },
  {
   "cell_type": "markdown",
   "metadata": {
    "id": "BXgGnplRlp4q",
    "tags": []
   },
   "source": [
    "### `np.random.seed()`"
   ]
  },
  {
   "cell_type": "code",
   "execution_count": 289,
   "metadata": {
    "id": "2_gdGPsuJZDr"
   },
   "outputs": [
    {
     "data": {
      "text/plain": [
       "-0.001976805501436618"
      ]
     },
     "execution_count": 289,
     "metadata": {},
     "output_type": "execute_result"
    }
   ],
   "source": [
    "np.random.seed(135454)\n",
    "\n",
    "np.random.randn()"
   ]
  },
  {
   "cell_type": "markdown",
   "metadata": {
    "id": "PJ0xY5OVLoA5",
    "jp-MarkdownHeadingCollapsed": true,
    "tags": []
   },
   "source": [
    "## 🔶 **Section 6: Indexing & Slicing**"
   ]
  },
  {
   "cell_type": "markdown",
   "metadata": {
    "id": "ekK7D2A12kgc",
    "jp-MarkdownHeadingCollapsed": true,
    "tags": []
   },
   "source": [
    "### Indexing"
   ]
  },
  {
   "cell_type": "markdown",
   "metadata": {
    "id": "LT34N1vmNHT9",
    "jp-MarkdownHeadingCollapsed": true,
    "tags": []
   },
   "source": [
    "#### Vector"
   ]
  },
  {
   "cell_type": "code",
   "execution_count": 165,
   "metadata": {
    "colab": {
     "base_uri": "https://localhost:8080/"
    },
    "executionInfo": {
     "elapsed": 430,
     "status": "ok",
     "timestamp": 1657392592759,
     "user": {
      "displayName": "Howsam AI",
      "userId": "14680048223925681202"
     },
     "user_tz": -270
    },
    "id": "kb0ktDENL_Ew",
    "outputId": "ce008c2e-98e3-4fb2-ec50-8c90221d7aff"
   },
   "outputs": [
    {
     "name": "stdout",
     "output_type": "stream",
     "text": [
      "[-1.52519357 -0.06041375  0.72393361 -0.52620323 -0.9970291 ]\n"
     ]
    },
    {
     "data": {
      "text/plain": [
       "0.723933608658126"
      ]
     },
     "execution_count": 165,
     "metadata": {},
     "output_type": "execute_result"
    }
   ],
   "source": [
    "a = np.random.randn(5)\n",
    "print(a)\n",
    "\n",
    "a[2]"
   ]
  },
  {
   "cell_type": "markdown",
   "metadata": {
    "id": "LT34N1vmNHT9",
    "jp-MarkdownHeadingCollapsed": true,
    "tags": []
   },
   "source": [
    "#### Matrix"
   ]
  },
  {
   "cell_type": "markdown",
   "metadata": {},
   "source": [
    "![image.png](data:image/png;base64,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)"
   ]
  },
  {
   "cell_type": "code",
   "execution_count": 171,
   "metadata": {
    "colab": {
     "base_uri": "https://localhost:8080/"
    },
    "executionInfo": {
     "elapsed": 441,
     "status": "ok",
     "timestamp": 1657392794902,
     "user": {
      "displayName": "Howsam AI",
      "userId": "14680048223925681202"
     },
     "user_tz": -270
    },
    "id": "uGTGDwZjNIAw",
    "outputId": "9101e3b2-72e6-454c-a6b3-ac31f85e5738"
   },
   "outputs": [
    {
     "name": "stdout",
     "output_type": "stream",
     "text": [
      "[[-5 -3 -5 -2]\n",
      " [-3 -1 -4  4]\n",
      " [-1 -3 -5  0]]\n"
     ]
    },
    {
     "data": {
      "text/plain": [
       "(-1, 0, -5)"
      ]
     },
     "execution_count": 171,
     "metadata": {},
     "output_type": "execute_result"
    }
   ],
   "source": [
    "b = np.random.randint(-5, 5, (3, 4))\n",
    "print(b)\n",
    "\n",
    "b[1, 1], b[-1, -1], b[-1, -2]"
   ]
  },
  {
   "cell_type": "code",
   "execution_count": 174,
   "metadata": {},
   "outputs": [
    {
     "name": "stdout",
     "output_type": "stream",
     "text": [
      "[[-5, -3, -5, -2], [-3, -1, -4, 4], [-1, -3, -5, 0]]\n"
     ]
    },
    {
     "data": {
      "text/plain": [
       "-3"
      ]
     },
     "execution_count": 174,
     "metadata": {},
     "output_type": "execute_result"
    }
   ],
   "source": [
    "c = [[-5, -3, -5, -2], [-3, -1, -4,  4], [-1, -3, -5,  0]]\n",
    "print(c)\n",
    "c[1][0]"
   ]
  },
  {
   "cell_type": "markdown",
   "metadata": {
    "id": "KSVjc4sJPVfo",
    "jp-MarkdownHeadingCollapsed": true,
    "tags": []
   },
   "source": [
    "#### 3d Matrix"
   ]
  },
  {
   "cell_type": "markdown",
   "metadata": {},
   "source": [
    "![image.png](data:image/png;base64,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)"
   ]
  },
  {
   "cell_type": "code",
   "execution_count": 184,
   "metadata": {
    "colab": {
     "base_uri": "https://localhost:8080/"
    },
    "executionInfo": {
     "elapsed": 552,
     "status": "ok",
     "timestamp": 1657392978303,
     "user": {
      "displayName": "Howsam AI",
      "userId": "14680048223925681202"
     },
     "user_tz": -270
    },
    "id": "Jl_5_TqFPWWb",
    "outputId": "99ab0699-dc67-471a-c2b1-2d6f8c3be959"
   },
   "outputs": [
    {
     "name": "stdout",
     "output_type": "stream",
     "text": [
      "[[[87 82 60]\n",
      "  [46  4 49]\n",
      "  [43 92 73]\n",
      "  [66 48 16]\n",
      "  [ 9 55 92]]\n",
      "\n",
      " [[35 31 33]\n",
      "  [58  9 80]\n",
      "  [49 20 55]\n",
      "  [ 0 76  5]\n",
      "  [30 14 90]]]\n"
     ]
    },
    {
     "data": {
      "text/plain": [
       "20"
      ]
     },
     "execution_count": 184,
     "metadata": {},
     "output_type": "execute_result"
    }
   ],
   "source": [
    "c = np.random.randint(100, size=(2, 5, 3))\n",
    "print(c)\n",
    "\n",
    "c[-1, 2, 1]"
   ]
  },
  {
   "cell_type": "markdown",
   "metadata": {
    "id": "6KyVQQhNQmz-",
    "jp-MarkdownHeadingCollapsed": true,
    "tags": []
   },
   "source": [
    "### Slicing"
   ]
  },
  {
   "cell_type": "markdown",
   "metadata": {
    "id": "Azd0cHEgo2Cq",
    "jp-MarkdownHeadingCollapsed": true,
    "tags": []
   },
   "source": [
    "#### Vector"
   ]
  },
  {
   "cell_type": "code",
   "execution_count": 188,
   "metadata": {
    "colab": {
     "base_uri": "https://localhost:8080/"
    },
    "executionInfo": {
     "elapsed": 4,
     "status": "ok",
     "timestamp": 1657393063908,
     "user": {
      "displayName": "Howsam AI",
      "userId": "14680048223925681202"
     },
     "user_tz": -270
    },
    "id": "UC8lSxNLQUoq",
    "outputId": "df9238b0-dba4-44d3-f6cd-7974280d2545"
   },
   "outputs": [
    {
     "name": "stdout",
     "output_type": "stream",
     "text": [
      "[-0.10440082 -0.01403767 -0.1680537  -0.35256665  0.08365492]\n"
     ]
    },
    {
     "data": {
      "text/plain": [
       "(array([-0.10440082, -0.01403767, -0.1680537 ]),\n",
       " array([-0.10440082, -0.1680537 ,  0.08365492]))"
      ]
     },
     "execution_count": 188,
     "metadata": {},
     "output_type": "execute_result"
    }
   ],
   "source": [
    "a = np.random.randn(5)\n",
    "print(a)\n",
    "\n",
    "a[:3], a[::2]"
   ]
  },
  {
   "cell_type": "markdown",
   "metadata": {
    "id": "_DAbwGFBRsdb",
    "jp-MarkdownHeadingCollapsed": true,
    "tags": []
   },
   "source": [
    "#### Matrix"
   ]
  },
  {
   "cell_type": "code",
   "execution_count": 191,
   "metadata": {
    "colab": {
     "base_uri": "https://localhost:8080/"
    },
    "executionInfo": {
     "elapsed": 401,
     "status": "ok",
     "timestamp": 1657393674222,
     "user": {
      "displayName": "Howsam AI",
      "userId": "14680048223925681202"
     },
     "user_tz": -270
    },
    "id": "-D9KlldgRtJl",
    "outputId": "fd95cc00-f474-4fd9-8156-9267bed90e57"
   },
   "outputs": [
    {
     "name": "stdout",
     "output_type": "stream",
     "text": [
      "[[-0.03635037  0.86541139  0.33900402  0.68501787  0.63788876]\n",
      " [ 0.69160893 -1.27289738  0.43782843  0.04064932  0.97145016]\n",
      " [ 1.11022618  0.37073504 -0.47704237 -0.63981943 -2.08040726]]\n"
     ]
    },
    {
     "data": {
      "text/plain": [
       "array([[0.68501787, 0.63788876],\n",
       "       [0.04064932, 0.97145016]])"
      ]
     },
     "execution_count": 191,
     "metadata": {},
     "output_type": "execute_result"
    }
   ],
   "source": [
    "b = np.random.randn(3, 5)\n",
    "print(b)\n",
    "\n",
    "b[0:2, -2:]"
   ]
  },
  {
   "cell_type": "code",
   "execution_count": 204,
   "metadata": {
    "colab": {
     "base_uri": "https://localhost:8080/"
    },
    "executionInfo": {
     "elapsed": 401,
     "status": "ok",
     "timestamp": 1657393674222,
     "user": {
      "displayName": "Howsam AI",
      "userId": "14680048223925681202"
     },
     "user_tz": -270
    },
    "id": "-D9KlldgRtJl",
    "outputId": "fd95cc00-f474-4fd9-8156-9267bed90e57"
   },
   "outputs": [
    {
     "name": "stdout",
     "output_type": "stream",
     "text": [
      "[[ 0.49734222  0.67129394  0.50791951  0.54344379 -0.41929956]\n",
      " [-0.98187458 -0.00776118 -0.08300573 -0.70723033  1.13102281]\n",
      " [-0.89679086 -0.36763114 -0.32548507 -0.74718291  0.42946733]]\n"
     ]
    },
    {
     "data": {
      "text/plain": [
       "(array([ 0.49734222,  0.67129394,  0.50791951,  0.54344379, -0.41929956]),\n",
       " array([ 0.49734222,  0.67129394,  0.50791951,  0.54344379, -0.41929956]),\n",
       " array([ 0.49734222,  0.67129394,  0.50791951,  0.54344379, -0.41929956]))"
      ]
     },
     "execution_count": 204,
     "metadata": {},
     "output_type": "execute_result"
    }
   ],
   "source": [
    "b = np.random.randn(3, 5)\n",
    "print(b)\n",
    "\n",
    "b[0, 0:], b[0, :], b[0]"
   ]
  },
  {
   "cell_type": "code",
   "execution_count": 210,
   "metadata": {
    "colab": {
     "base_uri": "https://localhost:8080/"
    },
    "executionInfo": {
     "elapsed": 401,
     "status": "ok",
     "timestamp": 1657393674222,
     "user": {
      "displayName": "Howsam AI",
      "userId": "14680048223925681202"
     },
     "user_tz": -270
    },
    "id": "-D9KlldgRtJl",
    "outputId": "fd95cc00-f474-4fd9-8156-9267bed90e57"
   },
   "outputs": [
    {
     "name": "stdout",
     "output_type": "stream",
     "text": [
      "[[ 0.02202004  0.23233041  0.29985625 -1.54198592 -0.5584778 ]\n",
      " [-0.92980507 -1.30741875 -1.61951587 -0.80297536  0.06298044]\n",
      " [-0.3924727  -0.1666416  -1.64595209  2.74444929 -1.26632362]]\n"
     ]
    },
    {
     "data": {
      "text/plain": [
       "array([[-1.54198592],\n",
       "       [-0.80297536],\n",
       "       [ 2.74444929]])"
      ]
     },
     "execution_count": 210,
     "metadata": {},
     "output_type": "execute_result"
    }
   ],
   "source": [
    "b = np.random.randn(3, 5)\n",
    "print(b)\n",
    "\n",
    "b[:, -2:]\n",
    "b[:, [-2]]"
   ]
  },
  {
   "cell_type": "markdown",
   "metadata": {
    "id": "m8Sd7blGS-yA",
    "jp-MarkdownHeadingCollapsed": true,
    "tags": []
   },
   "source": [
    "#### 3d Matrix"
   ]
  },
  {
   "cell_type": "code",
   "execution_count": 221,
   "metadata": {
    "colab": {
     "base_uri": "https://localhost:8080/"
    },
    "executionInfo": {
     "elapsed": 550,
     "status": "ok",
     "timestamp": 1657393870654,
     "user": {
      "displayName": "Howsam AI",
      "userId": "14680048223925681202"
     },
     "user_tz": -270
    },
    "id": "iuzMXyw_S_XN",
    "outputId": "94dcdd7d-6219-4d0b-f23e-54102cdaf6f2"
   },
   "outputs": [
    {
     "name": "stdout",
     "output_type": "stream",
     "text": [
      "[[[ 1.38923713  1.11171834  0.1402046 ]\n",
      "  [-0.04071939 -1.44945217 -0.6793876 ]]\n",
      "\n",
      " [[-0.02002371  1.0077114  -0.72367105]\n",
      "  [ 0.38541034 -0.63187882 -1.07110909]]\n",
      "\n",
      " [[ 0.21023852  0.82909229 -0.98797359]\n",
      "  [ 1.72830412 -0.42578864 -0.42399962]]\n",
      "\n",
      " [[ 0.28359008 -0.18501142 -0.94212502]\n",
      "  [ 0.64532683 -0.09110158 -0.24592076]]]\n"
     ]
    },
    {
     "data": {
      "text/plain": [
       "array([[[ 0.1402046 ],\n",
       "        [-0.6793876 ]],\n",
       "\n",
       "       [[-0.72367105],\n",
       "        [-1.07110909]],\n",
       "\n",
       "       [[-0.98797359],\n",
       "        [-0.42399962]],\n",
       "\n",
       "       [[-0.94212502],\n",
       "        [-0.24592076]]])"
      ]
     },
     "execution_count": 221,
     "metadata": {},
     "output_type": "execute_result"
    }
   ],
   "source": [
    "c = np.random.randn(4, 2, 3)\n",
    "print(c)\n",
    "\n",
    "c[1], c[1, :, :]\n",
    "c[1, 1, :]\n",
    "c[2, :, -1]\n",
    "c[0::2]\n",
    "c[0::2, -1]\n",
    "c[:, :, [-1]]"
   ]
  },
  {
   "cell_type": "code",
   "execution_count": 224,
   "metadata": {},
   "outputs": [
    {
     "name": "stdout",
     "output_type": "stream",
     "text": [
      "[[[-0.09705885  0.19148805 -0.51533387]\n",
      "  [ 0.43280627 -1.00963422  1.09098989]]\n",
      "\n",
      " [[ 0.68977329 -0.13879542 -1.59695912]\n",
      "  [ 0.2994985  -1.09418666 -2.31192396]]\n",
      "\n",
      " [[ 0.08526697  0.89713449 -0.48126914]\n",
      "  [ 1.40457266 -1.57199348 -0.84397171]]\n",
      "\n",
      " [[-0.75312148  0.07973762  0.02376576]\n",
      "  [-0.07836671 -1.38089708  1.25645863]]]\n"
     ]
    },
    {
     "data": {
      "text/plain": [
       "array([[[-0.51533387],\n",
       "        [ 1.09098989]],\n",
       "\n",
       "       [[-1.59695912],\n",
       "        [-2.31192396]],\n",
       "\n",
       "       [[-0.48126914],\n",
       "        [-0.84397171]],\n",
       "\n",
       "       [[ 0.02376576],\n",
       "        [ 1.25645863]]])"
      ]
     },
     "execution_count": 224,
     "metadata": {},
     "output_type": "execute_result"
    }
   ],
   "source": [
    "c = np.random.randn(4, 2, 3)\n",
    "print(c)\n",
    "\n",
    "c[..., [-1]]"
   ]
  },
  {
   "cell_type": "markdown",
   "metadata": {
    "id": "6KyVQQhNQmz-",
    "jp-MarkdownHeadingCollapsed": true,
    "tags": []
   },
   "source": [
    "### Fancy indexing"
   ]
  },
  {
   "cell_type": "code",
   "execution_count": 232,
   "metadata": {
    "colab": {
     "base_uri": "https://localhost:8080/"
    },
    "executionInfo": {
     "elapsed": 4,
     "status": "ok",
     "timestamp": 1657393063908,
     "user": {
      "displayName": "Howsam AI",
      "userId": "14680048223925681202"
     },
     "user_tz": -270
    },
    "id": "UC8lSxNLQUoq",
    "outputId": "df9238b0-dba4-44d3-f6cd-7974280d2545"
   },
   "outputs": [
    {
     "name": "stdout",
     "output_type": "stream",
     "text": [
      "[-0.76962454  0.43886391  0.8041267   0.4349774  -0.95102116]\n"
     ]
    },
    {
     "data": {
      "text/plain": [
       "array([-0.76962454,  0.43886391, -0.95102116])"
      ]
     },
     "execution_count": 232,
     "metadata": {},
     "output_type": "execute_result"
    }
   ],
   "source": [
    "a = np.random.randn(5)\n",
    "print(a)\n",
    "\n",
    "a[0], a[1], a[-1]\n",
    "a[[0, 1, 4]]"
   ]
  },
  {
   "cell_type": "code",
   "execution_count": 238,
   "metadata": {},
   "outputs": [
    {
     "data": {
      "text/plain": [
       "(array([0, 3, 3]), array([-0.76962454,  0.4349774 ,  0.4349774 ]))"
      ]
     },
     "execution_count": 238,
     "metadata": {},
     "output_type": "execute_result"
    }
   ],
   "source": [
    "idx = np.random.randint(5, size=(3,))\n",
    "idx, a[idx]"
   ]
  },
  {
   "cell_type": "code",
   "execution_count": 241,
   "metadata": {},
   "outputs": [
    {
     "name": "stdout",
     "output_type": "stream",
     "text": [
      "[[1 1 1 0 3]\n",
      " [3 4 1 2 3]\n",
      " [4 4 2 0 3]\n",
      " [3 4 4 0 3]]\n"
     ]
    },
    {
     "data": {
      "text/plain": [
       "array([1, 1, 3])"
      ]
     },
     "execution_count": 241,
     "metadata": {},
     "output_type": "execute_result"
    }
   ],
   "source": [
    "a = np.random.randint(0, 5, size=(4, 5))\n",
    "print(a)\n",
    "\n",
    "row = [0, 1, 3]\n",
    "col = [0, 2, 4]\n",
    "a[row, col]"
   ]
  },
  {
   "cell_type": "markdown",
   "metadata": {
    "id": "6KyVQQhNQmz-",
    "jp-MarkdownHeadingCollapsed": true,
    "tags": []
   },
   "source": [
    "### Boolean indexing"
   ]
  },
  {
   "cell_type": "code",
   "execution_count": 245,
   "metadata": {
    "colab": {
     "base_uri": "https://localhost:8080/"
    },
    "executionInfo": {
     "elapsed": 4,
     "status": "ok",
     "timestamp": 1657393063908,
     "user": {
      "displayName": "Howsam AI",
      "userId": "14680048223925681202"
     },
     "user_tz": -270
    },
    "id": "UC8lSxNLQUoq",
    "outputId": "df9238b0-dba4-44d3-f6cd-7974280d2545"
   },
   "outputs": [
    {
     "name": "stdout",
     "output_type": "stream",
     "text": [
      "[ 0.21167784 -0.27710562 -1.16418611 -0.2336972   0.8805697 ]\n"
     ]
    },
    {
     "data": {
      "text/plain": [
       "array([ 0.21167784, -0.27710562,  0.8805697 ])"
      ]
     },
     "execution_count": 245,
     "metadata": {},
     "output_type": "execute_result"
    }
   ],
   "source": [
    "a = np.random.randn(5)\n",
    "print(a)\n",
    "\n",
    "idx = [True, True, False, False, True]\n",
    "a[idx]"
   ]
  },
  {
   "cell_type": "code",
   "execution_count": 248,
   "metadata": {},
   "outputs": [
    {
     "name": "stdout",
     "output_type": "stream",
     "text": [
      "[[0 3 3 1]\n",
      " [3 2 1 1]\n",
      " [1 1 0 1]\n",
      " [3 4 3 1]\n",
      " [4 3 1 4]]\n",
      "[[ True False  True  True]\n",
      " [False  True False  True]\n",
      " [False False False False]\n",
      " [False  True False  True]\n",
      " [ True  True  True  True]]\n"
     ]
    },
    {
     "data": {
      "text/plain": [
       "array([0, 3, 1, 2, 1, 4, 1, 4, 3, 1, 4])"
      ]
     },
     "execution_count": 248,
     "metadata": {},
     "output_type": "execute_result"
    }
   ],
   "source": [
    "a = np.random.randint(5, size=(5, 4))\n",
    "print(a)\n",
    "\n",
    "mask = np.random.randint(2, size=a.shape, dtype=np.bool_)\n",
    "print(mask)\n",
    "\n",
    "a[mask]"
   ]
  },
  {
   "cell_type": "markdown",
   "metadata": {
    "id": "kr0lLhUw072R",
    "jp-MarkdownHeadingCollapsed": true,
    "tags": []
   },
   "source": [
    "## **✍️ Example 1: Create the following matrices**"
   ]
  },
  {
   "cell_type": "markdown",
   "metadata": {},
   "source": [
    "$$\\begin{bmatrix} 1 & 2 & 3 \\\\ 1 & 2 & 3 \\\\ 1 & 2 & 3  \\\\ 4 & 5 & 6  \\\\ 4 & 5 & 6 \\end{bmatrix}$$"
   ]
  },
  {
   "cell_type": "code",
   "execution_count": 258,
   "metadata": {},
   "outputs": [
    {
     "data": {
      "text/plain": [
       "array([[1., 2., 3.],\n",
       "       [1., 2., 3.],\n",
       "       [1., 2., 3.],\n",
       "       [4., 5., 6.],\n",
       "       [4., 5., 6.]])"
      ]
     },
     "execution_count": 258,
     "metadata": {},
     "output_type": "execute_result"
    }
   ],
   "source": [
    "a = np.zeros((5, 3))\n",
    "a[0:3] = np.arange(1, 4)\n",
    "a[3:] = np.arange(4, 7)\n",
    "a"
   ]
  },
  {
   "cell_type": "markdown",
   "metadata": {},
   "source": [
    "$$\\begin{bmatrix} -1 & 0 & -3 & 2 & -5 & 4 & -7 & 6 & -9 & 8 \\end{bmatrix}$$"
   ]
  },
  {
   "cell_type": "code",
   "execution_count": 268,
   "metadata": {},
   "outputs": [
    {
     "data": {
      "text/plain": [
       "array([-1.,  0., -3.,  2., -5.,  4., -7.,  6., -9.,  8.])"
      ]
     },
     "execution_count": 268,
     "metadata": {},
     "output_type": "execute_result"
    }
   ],
   "source": [
    "m1 = np.arange(-9, 0, 2)\n",
    "m2 = np.arange(0, 10, 2)\n",
    "\n",
    "b = np.zeros(10)\n",
    "b[::2] = m1[::-1]\n",
    "b[1::2] = m2\n",
    "b"
   ]
  },
  {
   "cell_type": "markdown",
   "metadata": {
    "id": "dsy6eBCjYKzf",
    "jp-MarkdownHeadingCollapsed": true,
    "tags": []
   },
   "source": [
    "## 🔶 **Section 7: Universal functions**"
   ]
  },
  {
   "cell_type": "markdown",
   "metadata": {},
   "source": [
    "$$\\begin{bmatrix} 1 & 2 & 3 & ...& 10000\\end{bmatrix}^{2}=\\begin{bmatrix} 1 & 4 & 9 &...& 10^8\\end{bmatrix}$$"
   ]
  },
  {
   "cell_type": "markdown",
   "metadata": {
    "jp-MarkdownHeadingCollapsed": true,
    "tags": []
   },
   "source": [
    "### Method 1"
   ]
  },
  {
   "cell_type": "code",
   "execution_count": 28,
   "metadata": {},
   "outputs": [
    {
     "data": {
      "text/plain": [
       "(10000,)"
      ]
     },
     "execution_count": 28,
     "metadata": {},
     "output_type": "execute_result"
    }
   ],
   "source": [
    "mat = np.arange(1, 10001)\n",
    "mat.shape"
   ]
  },
  {
   "cell_type": "code",
   "execution_count": 9,
   "metadata": {},
   "outputs": [],
   "source": [
    "def power_matrix(mat):\n",
    "    for i, v in enumerate(mat):\n",
    "        mat[i] **= 2\n",
    "    return mat"
   ]
  },
  {
   "cell_type": "code",
   "execution_count": 20,
   "metadata": {},
   "outputs": [
    {
     "data": {
      "text/plain": [
       "array([        1,         4,         9, ...,  99960004,  99980001,\n",
       "       100000000])"
      ]
     },
     "execution_count": 20,
     "metadata": {},
     "output_type": "execute_result"
    }
   ],
   "source": [
    "mat = np.arange(1, 10001)\n",
    "power_matrix(mat)"
   ]
  },
  {
   "cell_type": "code",
   "execution_count": 27,
   "metadata": {},
   "outputs": [
    {
     "name": "stdout",
     "output_type": "stream",
     "text": [
      "3.4 ms ± 227 µs per loop (mean ± std. dev. of 7 runs, 100 loops each)\n"
     ]
    }
   ],
   "source": [
    "%timeit power_matrix(mat)"
   ]
  },
  {
   "cell_type": "markdown",
   "metadata": {
    "tags": []
   },
   "source": [
    "### Method 2"
   ]
  },
  {
   "cell_type": "code",
   "execution_count": 24,
   "metadata": {},
   "outputs": [],
   "source": [
    "def power_matrix2(mat):\n",
    "    mat **= 2\n",
    "    return mat"
   ]
  },
  {
   "cell_type": "code",
   "execution_count": 25,
   "metadata": {},
   "outputs": [
    {
     "data": {
      "text/plain": [
       "array([        1,         4,         9, ...,  99960004,  99980001,\n",
       "       100000000])"
      ]
     },
     "execution_count": 25,
     "metadata": {},
     "output_type": "execute_result"
    }
   ],
   "source": [
    "mat = np.arange(1, 10001)\n",
    "power_matrix2(mat)"
   ]
  },
  {
   "cell_type": "code",
   "execution_count": 29,
   "metadata": {},
   "outputs": [
    {
     "name": "stdout",
     "output_type": "stream",
     "text": [
      "7.29 µs ± 168 ns per loop (mean ± std. dev. of 7 runs, 100,000 loops each)\n"
     ]
    }
   ],
   "source": [
    "%timeit power_matrix2(mat)"
   ]
  },
  {
   "cell_type": "markdown",
   "metadata": {
    "id": "dsy6eBCjYKzf",
    "jp-MarkdownHeadingCollapsed": true,
    "tags": []
   },
   "source": [
    "## 🔶 **Section 8: Math operations**"
   ]
  },
  {
   "cell_type": "markdown",
   "metadata": {},
   "source": [
    "<img src=\"../python-notebook/images/math-operations.png\" alt=\"string indexing\" width=450 align=\"center\" />"
   ]
  },
  {
   "cell_type": "code",
   "execution_count": 34,
   "metadata": {
    "colab": {
     "base_uri": "https://localhost:8080/"
    },
    "executionInfo": {
     "elapsed": 5,
     "status": "ok",
     "timestamp": 1657395016954,
     "user": {
      "displayName": "Howsam AI",
      "userId": "14680048223925681202"
     },
     "user_tz": -270
    },
    "id": "YmhMfBtKa9pJ",
    "outputId": "2505ec35-884b-4283-ae97-2d9bc0f29cb5"
   },
   "outputs": [
    {
     "data": {
      "text/plain": [
       "(array([[4, 1],\n",
       "        [8, 7]]),\n",
       " array([[3, 4],\n",
       "        [6, 5]]))"
      ]
     },
     "execution_count": 34,
     "metadata": {},
     "output_type": "execute_result"
    }
   ],
   "source": [
    "a = np.random.randint(0, 10, (2, 2))\n",
    "b = np.random.randint(0, 10, (2, 2))\n",
    "a, b"
   ]
  },
  {
   "cell_type": "markdown",
   "metadata": {
    "id": "CWABZJ6RtkVq",
    "jp-MarkdownHeadingCollapsed": true,
    "tags": []
   },
   "source": [
    "### Addition & Subtraction"
   ]
  },
  {
   "cell_type": "markdown",
   "metadata": {},
   "source": [
    "<img src=\"../python-notebook/images/add-matrix.png\" alt=\"string indexing\" width=500 align=\"center\" />"
   ]
  },
  {
   "cell_type": "code",
   "execution_count": 36,
   "metadata": {
    "id": "agXBwfu6YVHU"
   },
   "outputs": [
    {
     "data": {
      "text/plain": [
       "array([[ 1, -3],\n",
       "       [ 2,  2]])"
      ]
     },
     "execution_count": 36,
     "metadata": {},
     "output_type": "execute_result"
    }
   ],
   "source": [
    "a + b\n",
    "a - b"
   ]
  },
  {
   "cell_type": "code",
   "execution_count": 37,
   "metadata": {},
   "outputs": [
    {
     "ename": "ValueError",
     "evalue": "operands could not be broadcast together with shapes (10,) (5,) ",
     "output_type": "error",
     "traceback": [
      "\u001b[1;31m---------------------------------------------------------------------------\u001b[0m",
      "\u001b[1;31mValueError\u001b[0m                                Traceback (most recent call last)",
      "Cell \u001b[1;32mIn [37], line 1\u001b[0m\n\u001b[1;32m----> 1\u001b[0m \u001b[43mnp\u001b[49m\u001b[38;5;241;43m.\u001b[39;49m\u001b[43marange\u001b[49m\u001b[43m(\u001b[49m\u001b[38;5;241;43m10\u001b[39;49m\u001b[43m)\u001b[49m\u001b[43m \u001b[49m\u001b[38;5;241;43m+\u001b[39;49m\u001b[43m \u001b[49m\u001b[43mnp\u001b[49m\u001b[38;5;241;43m.\u001b[39;49m\u001b[43marange\u001b[49m\u001b[43m(\u001b[49m\u001b[38;5;241;43m5\u001b[39;49m\u001b[43m)\u001b[49m\n",
      "\u001b[1;31mValueError\u001b[0m: operands could not be broadcast together with shapes (10,) (5,) "
     ]
    }
   ],
   "source": [
    "np.arange(10) + np.arange(5)"
   ]
  },
  {
   "cell_type": "markdown",
   "metadata": {
    "id": "oLAbnKlmt-xB",
    "jp-MarkdownHeadingCollapsed": true,
    "tags": []
   },
   "source": [
    "### Multiplication & Division"
   ]
  },
  {
   "cell_type": "code",
   "execution_count": 39,
   "metadata": {
    "id": "aLGoptfoapTl"
   },
   "outputs": [
    {
     "data": {
      "text/plain": [
       "array([[1.33333333, 0.25      ],\n",
       "       [1.33333333, 1.4       ]])"
      ]
     },
     "execution_count": 39,
     "metadata": {},
     "output_type": "execute_result"
    }
   ],
   "source": [
    "a * b\n",
    "a / b"
   ]
  },
  {
   "cell_type": "markdown",
   "metadata": {
    "id": "icvfjfCpuG-Y",
    "jp-MarkdownHeadingCollapsed": true,
    "tags": []
   },
   "source": [
    "### Matrix Multiplication 🔥"
   ]
  },
  {
   "cell_type": "markdown",
   "metadata": {},
   "source": [
    "<img src=\"../python-notebook/images/matmul.png\" alt=\"string indexing\" width=600 align=\"center\" />"
   ]
  },
  {
   "cell_type": "code",
   "execution_count": 47,
   "metadata": {
    "id": "EvCzmrvuarS9"
   },
   "outputs": [
    {
     "data": {
      "text/plain": [
       "array([[21, 26],\n",
       "       [47, 58]])"
      ]
     },
     "execution_count": 47,
     "metadata": {},
     "output_type": "execute_result"
    }
   ],
   "source": [
    "a = np.array([[1, 2, 2], [3, 4, 4]])\n",
    "b = np.array([[5, 6], [7, 8], [1, 2]])\n",
    "\n",
    "a @ b"
   ]
  },
  {
   "cell_type": "code",
   "execution_count": 70,
   "metadata": {},
   "outputs": [
    {
     "name": "stdout",
     "output_type": "stream",
     "text": [
      "(1, 10) (10, 1)\n"
     ]
    },
    {
     "data": {
      "text/plain": [
       "array([[ 0,  0,  0,  0,  0,  0,  0,  0,  0,  0],\n",
       "       [ 0,  1,  2,  3,  4,  5,  6,  7,  8,  9],\n",
       "       [ 0,  2,  4,  6,  8, 10, 12, 14, 16, 18],\n",
       "       [ 0,  3,  6,  9, 12, 15, 18, 21, 24, 27],\n",
       "       [ 0,  4,  8, 12, 16, 20, 24, 28, 32, 36],\n",
       "       [ 0,  5, 10, 15, 20, 25, 30, 35, 40, 45],\n",
       "       [ 0,  6, 12, 18, 24, 30, 36, 42, 48, 54],\n",
       "       [ 0,  7, 14, 21, 28, 35, 42, 49, 56, 63],\n",
       "       [ 0,  8, 16, 24, 32, 40, 48, 56, 64, 72],\n",
       "       [ 0,  9, 18, 27, 36, 45, 54, 63, 72, 81]])"
      ]
     },
     "execution_count": 70,
     "metadata": {},
     "output_type": "execute_result"
    }
   ],
   "source": [
    "a = np.arange(10)\n",
    "a = a[None, :]\n",
    "b = np.arange(10)\n",
    "b = b[:, None]\n",
    "print(a.shape, b.shape)\n",
    "\n",
    "a @ b\n",
    "b @ a"
   ]
  },
  {
   "cell_type": "code",
   "execution_count": 72,
   "metadata": {},
   "outputs": [
    {
     "name": "stdout",
     "output_type": "stream",
     "text": [
      "(1, 10) (2, 3)\n"
     ]
    },
    {
     "ename": "ValueError",
     "evalue": "matmul: Input operand 1 has a mismatch in its core dimension 0, with gufunc signature (n?,k),(k,m?)->(n?,m?) (size 2 is different from 10)",
     "output_type": "error",
     "traceback": [
      "\u001b[1;31m---------------------------------------------------------------------------\u001b[0m",
      "\u001b[1;31mValueError\u001b[0m                                Traceback (most recent call last)",
      "Cell \u001b[1;32mIn [72], line 6\u001b[0m\n\u001b[0;32m      3\u001b[0m b \u001b[38;5;241m=\u001b[39m np\u001b[38;5;241m.\u001b[39mrandom\u001b[38;5;241m.\u001b[39mrandn(\u001b[38;5;241m2\u001b[39m, \u001b[38;5;241m3\u001b[39m)\n\u001b[0;32m      4\u001b[0m \u001b[38;5;28mprint\u001b[39m(a\u001b[38;5;241m.\u001b[39mshape, b\u001b[38;5;241m.\u001b[39mshape)\n\u001b[1;32m----> 6\u001b[0m \u001b[43ma\u001b[49m\u001b[43m \u001b[49m\u001b[38;5;241;43m@\u001b[39;49m\u001b[43m \u001b[49m\u001b[43mb\u001b[49m\n",
      "\u001b[1;31mValueError\u001b[0m: matmul: Input operand 1 has a mismatch in its core dimension 0, with gufunc signature (n?,k),(k,m?)->(n?,m?) (size 2 is different from 10)"
     ]
    }
   ],
   "source": [
    "a = np.arange(10)\n",
    "a = a[None, :]\n",
    "b = np.random.randn(2, 3)\n",
    "print(a.shape, b.shape)\n",
    "\n",
    "a @ b"
   ]
  },
  {
   "cell_type": "markdown",
   "metadata": {
    "id": "C6fkqgJkejEh",
    "jp-MarkdownHeadingCollapsed": true,
    "tags": []
   },
   "source": [
    "### Broadcasting 💣"
   ]
  },
  {
   "cell_type": "code",
   "execution_count": 77,
   "metadata": {},
   "outputs": [
    {
     "data": {
      "text/plain": [
       "array([[4., 4., 4.]])"
      ]
     },
     "execution_count": 77,
     "metadata": {},
     "output_type": "execute_result"
    }
   ],
   "source": [
    "np.ones((1, 3)) + 3"
   ]
  },
  {
   "cell_type": "markdown",
   "metadata": {
    "id": "wfqBOfr_3W6x",
    "jp-MarkdownHeadingCollapsed": true,
    "tags": []
   },
   "source": [
    "#### Sum a vector with a scalar"
   ]
  },
  {
   "cell_type": "markdown",
   "metadata": {},
   "source": [
    "![image.png](data:image/png;base64,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)"
   ]
  },
  {
   "cell_type": "code",
   "execution_count": 79,
   "metadata": {
    "id": "x6X5fDN0emkx"
   },
   "outputs": [
    {
     "data": {
      "text/plain": [
       "array([5, 6, 7])"
      ]
     },
     "execution_count": 79,
     "metadata": {},
     "output_type": "execute_result"
    }
   ],
   "source": [
    "np.arange(0, 3) + 5"
   ]
  },
  {
   "cell_type": "markdown",
   "metadata": {
    "id": "YSRqbr29vkED",
    "jp-MarkdownHeadingCollapsed": true,
    "tags": []
   },
   "source": [
    "#### Sum a matrix with a vector"
   ]
  },
  {
   "cell_type": "markdown",
   "metadata": {},
   "source": [
    "![image.png](data:image/png;base64,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)"
   ]
  },
  {
   "cell_type": "code",
   "execution_count": 85,
   "metadata": {
    "id": "jJdDTfDS42sQ"
   },
   "outputs": [
    {
     "name": "stdout",
     "output_type": "stream",
     "text": [
      "[[1. 2. 3.]\n",
      " [1. 2. 3.]\n",
      " [1. 2. 3.]]\n",
      "[[1. 1. 1.]\n",
      " [2. 2. 2.]\n",
      " [3. 3. 3.]]\n"
     ]
    },
    {
     "ename": "ValueError",
     "evalue": "operands could not be broadcast together with shapes (3,3) (4,1) ",
     "output_type": "error",
     "traceback": [
      "\u001b[1;31m---------------------------------------------------------------------------\u001b[0m",
      "\u001b[1;31mValueError\u001b[0m                                Traceback (most recent call last)",
      "Cell \u001b[1;32mIn [85], line 3\u001b[0m\n\u001b[0;32m      1\u001b[0m \u001b[38;5;28mprint\u001b[39m(np\u001b[38;5;241m.\u001b[39mones((\u001b[38;5;241m3\u001b[39m, \u001b[38;5;241m3\u001b[39m)) \u001b[38;5;241m+\u001b[39m np\u001b[38;5;241m.\u001b[39marange(\u001b[38;5;241m0\u001b[39m, \u001b[38;5;241m3\u001b[39m))\n\u001b[0;32m      2\u001b[0m \u001b[38;5;28mprint\u001b[39m(np\u001b[38;5;241m.\u001b[39mones((\u001b[38;5;241m3\u001b[39m, \u001b[38;5;241m3\u001b[39m)) \u001b[38;5;241m+\u001b[39m np\u001b[38;5;241m.\u001b[39marange(\u001b[38;5;241m0\u001b[39m, \u001b[38;5;241m3\u001b[39m)[:, \u001b[38;5;28;01mNone\u001b[39;00m])\n\u001b[1;32m----> 3\u001b[0m \u001b[38;5;28mprint\u001b[39m(\u001b[43mnp\u001b[49m\u001b[38;5;241;43m.\u001b[39;49m\u001b[43mones\u001b[49m\u001b[43m(\u001b[49m\u001b[43m(\u001b[49m\u001b[38;5;241;43m3\u001b[39;49m\u001b[43m,\u001b[49m\u001b[43m \u001b[49m\u001b[38;5;241;43m3\u001b[39;49m\u001b[43m)\u001b[49m\u001b[43m)\u001b[49m\u001b[43m \u001b[49m\u001b[38;5;241;43m+\u001b[39;49m\u001b[43m \u001b[49m\u001b[43mnp\u001b[49m\u001b[38;5;241;43m.\u001b[39;49m\u001b[43marange\u001b[49m\u001b[43m(\u001b[49m\u001b[38;5;241;43m0\u001b[39;49m\u001b[43m,\u001b[49m\u001b[43m \u001b[49m\u001b[38;5;241;43m4\u001b[39;49m\u001b[43m)\u001b[49m\u001b[43m[\u001b[49m\u001b[43m:\u001b[49m\u001b[43m,\u001b[49m\u001b[43m \u001b[49m\u001b[38;5;28;43;01mNone\u001b[39;49;00m\u001b[43m]\u001b[49m)\n",
      "\u001b[1;31mValueError\u001b[0m: operands could not be broadcast together with shapes (3,3) (4,1) "
     ]
    }
   ],
   "source": [
    "print(np.ones((3, 3)) + np.arange(0, 3))\n",
    "print(np.ones((3, 3)) + np.arange(0, 3)[:, None])\n",
    "print(np.ones((3, 3)) + np.arange(0, 4)[:, None])"
   ]
  },
  {
   "cell_type": "markdown",
   "metadata": {
    "id": "YSRqbr29vkED",
    "jp-MarkdownHeadingCollapsed": true,
    "tags": []
   },
   "source": [
    "#### Sum a row-vector with a col-vector"
   ]
  },
  {
   "cell_type": "markdown",
   "metadata": {},
   "source": [
    "<img src=\"../python-notebook/images/add-rowvec-colvec.png\" alt=\"string indexing\" width=650 align=\"center\" />"
   ]
  },
  {
   "cell_type": "code",
   "execution_count": 89,
   "metadata": {
    "id": "jJdDTfDS42sQ"
   },
   "outputs": [
    {
     "data": {
      "text/plain": [
       "array([[0, 1, 2],\n",
       "       [1, 2, 3],\n",
       "       [2, 3, 4],\n",
       "       [3, 4, 5]])"
      ]
     },
     "execution_count": 89,
     "metadata": {},
     "output_type": "execute_result"
    }
   ],
   "source": [
    "np.arange(0, 4)[:, None] + np.arange(0, 3)"
   ]
  },
  {
   "cell_type": "markdown",
   "metadata": {
    "id": "oLAbnKlmt-xB",
    "jp-MarkdownHeadingCollapsed": true,
    "tags": []
   },
   "source": [
    "#### Rules of broadcasting"
   ]
  },
  {
   "cell_type": "markdown",
   "metadata": {
    "id": "zvNCbTWR4hQr",
    "jp-MarkdownHeadingCollapsed": true,
    "tags": []
   },
   "source": [
    "##### $(5, 4, 3, 1)$ & $(3, 1, 1)$"
   ]
  },
  {
   "cell_type": "code",
   "execution_count": 92,
   "metadata": {
    "id": "aLGoptfoapTl"
   },
   "outputs": [
    {
     "ename": "ValueError",
     "evalue": "operands could not be broadcast together with shapes (5,4,3,1) (3,1,1) ",
     "output_type": "error",
     "traceback": [
      "\u001b[1;31m---------------------------------------------------------------------------\u001b[0m",
      "\u001b[1;31mValueError\u001b[0m                                Traceback (most recent call last)",
      "Cell \u001b[1;32mIn [92], line 1\u001b[0m\n\u001b[1;32m----> 1\u001b[0m \u001b[43mnp\u001b[49m\u001b[38;5;241;43m.\u001b[39;49m\u001b[43mones\u001b[49m\u001b[43m(\u001b[49m\u001b[43m(\u001b[49m\u001b[38;5;241;43m5\u001b[39;49m\u001b[43m,\u001b[49m\u001b[43m \u001b[49m\u001b[38;5;241;43m4\u001b[39;49m\u001b[43m,\u001b[49m\u001b[43m \u001b[49m\u001b[38;5;241;43m3\u001b[39;49m\u001b[43m,\u001b[49m\u001b[43m \u001b[49m\u001b[38;5;241;43m1\u001b[39;49m\u001b[43m)\u001b[49m\u001b[43m)\u001b[49m\u001b[43m \u001b[49m\u001b[38;5;241;43m+\u001b[39;49m\u001b[43m \u001b[49m\u001b[43mnp\u001b[49m\u001b[38;5;241;43m.\u001b[39;49m\u001b[43mones\u001b[49m\u001b[43m(\u001b[49m\u001b[43m(\u001b[49m\u001b[38;5;241;43m3\u001b[39;49m\u001b[43m,\u001b[49m\u001b[43m \u001b[49m\u001b[38;5;241;43m1\u001b[39;49m\u001b[43m,\u001b[49m\u001b[43m \u001b[49m\u001b[38;5;241;43m1\u001b[39;49m\u001b[43m)\u001b[49m\u001b[43m)\u001b[49m\n",
      "\u001b[1;31mValueError\u001b[0m: operands could not be broadcast together with shapes (5,4,3,1) (3,1,1) "
     ]
    }
   ],
   "source": [
    "np.ones((5, 4, 3, 1)) + np.ones((3, 1, 1))"
   ]
  },
  {
   "cell_type": "markdown",
   "metadata": {
    "id": "zvNCbTWR4hQr",
    "jp-MarkdownHeadingCollapsed": true,
    "tags": []
   },
   "source": [
    "##### $(4, 3, 1)$ & $(2, 1)$"
   ]
  },
  {
   "cell_type": "code",
   "execution_count": 93,
   "metadata": {
    "id": "aLGoptfoapTl"
   },
   "outputs": [
    {
     "ename": "ValueError",
     "evalue": "operands could not be broadcast together with shapes (4,3,1) (2,1) ",
     "output_type": "error",
     "traceback": [
      "\u001b[1;31m---------------------------------------------------------------------------\u001b[0m",
      "\u001b[1;31mValueError\u001b[0m                                Traceback (most recent call last)",
      "Cell \u001b[1;32mIn [93], line 1\u001b[0m\n\u001b[1;32m----> 1\u001b[0m \u001b[43mnp\u001b[49m\u001b[38;5;241;43m.\u001b[39;49m\u001b[43mones\u001b[49m\u001b[43m(\u001b[49m\u001b[43m(\u001b[49m\u001b[38;5;241;43m4\u001b[39;49m\u001b[43m,\u001b[49m\u001b[43m \u001b[49m\u001b[38;5;241;43m3\u001b[39;49m\u001b[43m,\u001b[49m\u001b[43m \u001b[49m\u001b[38;5;241;43m1\u001b[39;49m\u001b[43m)\u001b[49m\u001b[43m)\u001b[49m\u001b[43m \u001b[49m\u001b[38;5;241;43m+\u001b[39;49m\u001b[43m \u001b[49m\u001b[43mnp\u001b[49m\u001b[38;5;241;43m.\u001b[39;49m\u001b[43mones\u001b[49m\u001b[43m(\u001b[49m\u001b[43m(\u001b[49m\u001b[38;5;241;43m2\u001b[39;49m\u001b[43m,\u001b[49m\u001b[43m \u001b[49m\u001b[38;5;241;43m1\u001b[39;49m\u001b[43m)\u001b[49m\u001b[43m)\u001b[49m\n",
      "\u001b[1;31mValueError\u001b[0m: operands could not be broadcast together with shapes (4,3,1) (2,1) "
     ]
    }
   ],
   "source": [
    "np.ones((4, 3, 1)) + np.ones((2, 1))"
   ]
  },
  {
   "cell_type": "markdown",
   "metadata": {
    "id": "zvNCbTWR4hQr",
    "jp-MarkdownHeadingCollapsed": true,
    "tags": []
   },
   "source": [
    "##### $(5, 1, 2, 3)$ & $(4, 2, 1)$"
   ]
  },
  {
   "cell_type": "code",
   "execution_count": 96,
   "metadata": {},
   "outputs": [
    {
     "data": {
      "text/plain": [
       "(5, 4, 2, 3)"
      ]
     },
     "execution_count": 96,
     "metadata": {},
     "output_type": "execute_result"
    }
   ],
   "source": [
    "a = np.ones((5, 1, 2, 3)) + np.ones((4, 2, 1))\n",
    "a.shape"
   ]
  },
  {
   "cell_type": "markdown",
   "metadata": {
    "id": "Mp018MwMzuoK",
    "jp-MarkdownHeadingCollapsed": true,
    "tags": []
   },
   "source": [
    "## 🔶 **Section 9: Comparison operators**"
   ]
  },
  {
   "cell_type": "markdown",
   "metadata": {},
   "source": [
    "<img src=\"../python-notebook/images/comparison-operators-numpy.png\" alt=\"string indexing\" width=250 align=\"center\" />"
   ]
  },
  {
   "cell_type": "code",
   "execution_count": 101,
   "metadata": {
    "colab": {
     "base_uri": "https://localhost:8080/"
    },
    "id": "9yFFumDlzv-i",
    "outputId": "0f9beb14-769e-43f8-8a88-6f294c1d312b"
   },
   "outputs": [],
   "source": [
    "x = np.array([1, 2, 3, 1, 5])"
   ]
  },
  {
   "cell_type": "code",
   "execution_count": 105,
   "metadata": {},
   "outputs": [
    {
     "name": "stdout",
     "output_type": "stream",
     "text": [
      "[ True False False  True False]\n",
      "[False False  True False  True]\n",
      "[False  True  True False  True]\n",
      "[False  True  True False  True]\n"
     ]
    }
   ],
   "source": [
    "print(x == 1)\n",
    "print(x > 2)\n",
    "print(x >= 2)\n",
    "print(x != 1)"
   ]
  },
  {
   "cell_type": "code",
   "execution_count": 109,
   "metadata": {},
   "outputs": [
    {
     "name": "stderr",
     "output_type": "stream",
     "text": [
      "C:\\Users\\PC\\AppData\\Local\\Temp\\ipykernel_6384\\4280631340.py:1: DeprecationWarning: elementwise comparison failed; this will raise an error in the future.\n",
      "  np.array([1, 2, 3, 1, 5]) == np.array([1, -1, 3, 1])\n"
     ]
    },
    {
     "data": {
      "text/plain": [
       "False"
      ]
     },
     "execution_count": 109,
     "metadata": {},
     "output_type": "execute_result"
    }
   ],
   "source": [
    "np.array([1, 2, 3, 1, 5]) == np.array([1, -1, 3, 1])"
   ]
  },
  {
   "cell_type": "code",
   "execution_count": 108,
   "metadata": {
    "colab": {
     "base_uri": "https://localhost:8080/"
    },
    "id": "XgHOeJSY0IX7",
    "outputId": "358bf178-b259-48f7-8b98-f098a4cf5cb5"
   },
   "outputs": [
    {
     "data": {
      "text/plain": [
       "array([False,  True, False, False, False])"
      ]
     },
     "execution_count": 108,
     "metadata": {},
     "output_type": "execute_result"
    }
   ],
   "source": [
    "x**2 == 2**x"
   ]
  },
  {
   "cell_type": "code",
   "execution_count": 111,
   "metadata": {},
   "outputs": [
    {
     "data": {
      "text/plain": [
       "array([[ True, False, False],\n",
       "       [False,  True, False],\n",
       "       [False, False,  True]])"
      ]
     },
     "execution_count": 111,
     "metadata": {},
     "output_type": "execute_result"
    }
   ],
   "source": [
    "np.arange(0, 3)[:, None] == np.arange(0, 3)"
   ]
  },
  {
   "cell_type": "markdown",
   "metadata": {
    "jp-MarkdownHeadingCollapsed": true,
    "tags": []
   },
   "source": [
    "### Boolean indexing"
   ]
  },
  {
   "cell_type": "code",
   "execution_count": 117,
   "metadata": {},
   "outputs": [
    {
     "name": "stdout",
     "output_type": "stream",
     "text": [
      "[1 2 3 1]\n",
      "[1 3 1 5]\n"
     ]
    }
   ],
   "source": [
    "print(x[x <= 3])\n",
    "print(x[x % 2 != 0])"
   ]
  },
  {
   "cell_type": "markdown",
   "metadata": {
    "id": "iZAoKe6t1Uri",
    "jp-MarkdownHeadingCollapsed": true,
    "tags": []
   },
   "source": [
    "## 🔶 **Section 10: Boolean operators**"
   ]
  },
  {
   "cell_type": "markdown",
   "metadata": {},
   "source": [
    "<img src=\"../python-notebook/images/boolean-ops-numpy.png\" alt=\"string indexing\" width=300 align=\"center\" />"
   ]
  },
  {
   "cell_type": "code",
   "execution_count": 129,
   "metadata": {
    "colab": {
     "base_uri": "https://localhost:8080/"
    },
    "id": "xVLnTlOm1vP6",
    "outputId": "47216a06-2216-46e2-8017-9f2f21c2faf2"
   },
   "outputs": [
    {
     "data": {
      "text/plain": [
       "array([[8, 2, 4, 0],\n",
       "       [9, 2, 5, 9],\n",
       "       [0, 9, 8, 1]])"
      ]
     },
     "execution_count": 129,
     "metadata": {},
     "output_type": "execute_result"
    }
   ],
   "source": [
    "x = np.random.randint(10, size=(3, 4))\n",
    "x"
   ]
  },
  {
   "cell_type": "code",
   "execution_count": 138,
   "metadata": {
    "colab": {
     "base_uri": "https://localhost:8080/"
    },
    "id": "Ig1giY8H11BI",
    "outputId": "b994c0ae-89c7-47f6-a805-668fbea9613a"
   },
   "outputs": [
    {
     "name": "stdout",
     "output_type": "stream",
     "text": [
      "[[ True False False False]\n",
      " [False False False False]\n",
      " [False False  True False]]\n",
      "\n",
      "[[ True  True  True  True]\n",
      " [False  True False False]\n",
      " [ True False  True False]]\n",
      "\n",
      "[[False False False False]\n",
      " [ True False  True  True]\n",
      " [False  True False  True]]\n",
      "\n",
      "[[False False False  True]\n",
      " [ True False False  True]\n",
      " [ True  True False False]]\n"
     ]
    }
   ],
   "source": [
    "print((x > 5) & (x % 2 == 0), end='\\n\\n')\n",
    "print(x % 2 == 0, end='\\n\\n')\n",
    "print(~(x % 2 == 0), end='\\n\\n')\n",
    "print((x == 0) | (x > 8))"
   ]
  },
  {
   "cell_type": "markdown",
   "metadata": {
    "jp-MarkdownHeadingCollapsed": true,
    "tags": []
   },
   "source": [
    "### Mask"
   ]
  },
  {
   "cell_type": "code",
   "execution_count": 140,
   "metadata": {},
   "outputs": [
    {
     "data": {
      "text/plain": [
       "array([8, 8])"
      ]
     },
     "execution_count": 140,
     "metadata": {},
     "output_type": "execute_result"
    }
   ],
   "source": [
    "mask = (x > 5) & (x % 2 == 0)\n",
    "x[mask]"
   ]
  },
  {
   "cell_type": "code",
   "execution_count": 141,
   "metadata": {},
   "outputs": [
    {
     "data": {
      "text/plain": [
       "array([0, 9, 9, 0, 9])"
      ]
     },
     "execution_count": 141,
     "metadata": {},
     "output_type": "execute_result"
    }
   ],
   "source": [
    "x[(x == 0) | (x > 8)]"
   ]
  },
  {
   "cell_type": "markdown",
   "metadata": {
    "id": "Y_D7XfFCnX7M",
    "jp-MarkdownHeadingCollapsed": true,
    "tags": []
   },
   "source": [
    "## 🔶 **Section 11: Transformation**"
   ]
  },
  {
   "cell_type": "code",
   "execution_count": 145,
   "metadata": {
    "id": "LYf3EKwAoUtN"
   },
   "outputs": [
    {
     "name": "stdout",
     "output_type": "stream",
     "text": [
      "[[9 9 1 2 6 3]\n",
      " [6 1 6 3 9 1]]\n",
      "[0.66040905 1.21254966 0.70609682]\n"
     ]
    }
   ],
   "source": [
    "a = np.random.randint(10, size=(2, 6))\n",
    "b = np.random.randn(3)\n",
    "print(a)\n",
    "print(b)"
   ]
  },
  {
   "cell_type": "markdown",
   "metadata": {
    "id": "dUo01hBzsuLG",
    "jp-MarkdownHeadingCollapsed": true,
    "tags": []
   },
   "source": [
    "### `np.transpose()`"
   ]
  },
  {
   "cell_type": "code",
   "execution_count": 147,
   "metadata": {
    "id": "5M36DHF8okdW"
   },
   "outputs": [
    {
     "data": {
      "text/plain": [
       "array([[9, 6],\n",
       "       [9, 1],\n",
       "       [1, 6],\n",
       "       [2, 3],\n",
       "       [6, 9],\n",
       "       [3, 1]])"
      ]
     },
     "execution_count": 147,
     "metadata": {},
     "output_type": "execute_result"
    }
   ],
   "source": [
    "np.transpose(a)\n",
    "a.transpose()"
   ]
  },
  {
   "cell_type": "code",
   "execution_count": 151,
   "metadata": {},
   "outputs": [
    {
     "data": {
      "text/plain": [
       "array([[-1.12178624],\n",
       "       [-0.33487961],\n",
       "       [-1.88886563]])"
      ]
     },
     "execution_count": 151,
     "metadata": {},
     "output_type": "execute_result"
    }
   ],
   "source": [
    "b = np.random.randn(1, 3)\n",
    "b.transpose()"
   ]
  },
  {
   "cell_type": "markdown",
   "metadata": {
    "id": "dUo01hBzsuLG",
    "jp-MarkdownHeadingCollapsed": true,
    "tags": []
   },
   "source": [
    "### `np.reshape()`"
   ]
  },
  {
   "cell_type": "code",
   "execution_count": 160,
   "metadata": {
    "id": "5M36DHF8okdW"
   },
   "outputs": [
    {
     "data": {
      "text/plain": [
       "array([[9, 9, 1, 2],\n",
       "       [6, 3, 6, 1],\n",
       "       [6, 3, 9, 1]])"
      ]
     },
     "execution_count": 160,
     "metadata": {},
     "output_type": "execute_result"
    }
   ],
   "source": [
    "c = a.reshape(3, 4)\n",
    "c"
   ]
  },
  {
   "cell_type": "code",
   "execution_count": 165,
   "metadata": {},
   "outputs": [
    {
     "data": {
      "text/plain": [
       "array([[9, 9, 1, 2],\n",
       "       [6, 3, 6, 1],\n",
       "       [6, 3, 9, 1]])"
      ]
     },
     "execution_count": 165,
     "metadata": {},
     "output_type": "execute_result"
    }
   ],
   "source": [
    "a.reshape(-1, 4)"
   ]
  },
  {
   "cell_type": "markdown",
   "metadata": {
    "id": "2FzpChip5464",
    "tags": []
   },
   "source": [
    "#### Convert to a vector"
   ]
  },
  {
   "cell_type": "code",
   "execution_count": 163,
   "metadata": {
    "colab": {
     "base_uri": "https://localhost:8080/"
    },
    "executionInfo": {
     "elapsed": 4,
     "status": "ok",
     "timestamp": 1657396255530,
     "user": {
      "displayName": "Howsam AI",
      "userId": "14680048223925681202"
     },
     "user_tz": -270
    },
    "id": "It9nSwIFp0R6",
    "outputId": "c7eaabe6-c14b-4920-8e39-7e3629ffcce8"
   },
   "outputs": [
    {
     "data": {
      "text/plain": [
       "array([9, 9, 1, 2, 6, 3, 6, 1, 6, 3, 9, 1])"
      ]
     },
     "execution_count": 163,
     "metadata": {},
     "output_type": "execute_result"
    }
   ],
   "source": [
    "a.reshape(-1)\n",
    "a.ravel()"
   ]
  },
  {
   "cell_type": "markdown",
   "metadata": {
    "id": "EEj795-z6ni4",
    "jp-MarkdownHeadingCollapsed": true,
    "tags": []
   },
   "source": [
    "### `np.stack()`"
   ]
  },
  {
   "cell_type": "code",
   "execution_count": 171,
   "metadata": {
    "id": "Ocv8zppPrlXX"
   },
   "outputs": [
    {
     "data": {
      "text/plain": [
       "(4, 2, 6)"
      ]
     },
     "execution_count": 171,
     "metadata": {},
     "output_type": "execute_result"
    }
   ],
   "source": [
    "np.stack((a, a, a, a)).shape"
   ]
  },
  {
   "cell_type": "code",
   "execution_count": 178,
   "metadata": {
    "id": "Ocv8zppPrlXX"
   },
   "outputs": [
    {
     "data": {
      "text/plain": [
       "(2, 6, 4)"
      ]
     },
     "execution_count": 178,
     "metadata": {},
     "output_type": "execute_result"
    }
   ],
   "source": [
    "np.stack((a, a, a, a), axis=-1).shape"
   ]
  },
  {
   "cell_type": "code",
   "execution_count": 181,
   "metadata": {},
   "outputs": [
    {
     "data": {
      "text/plain": [
       "(2, 24)"
      ]
     },
     "execution_count": 181,
     "metadata": {},
     "output_type": "execute_result"
    }
   ],
   "source": [
    "np.hstack((a, a, a, a)).shape"
   ]
  },
  {
   "cell_type": "code",
   "execution_count": 184,
   "metadata": {},
   "outputs": [
    {
     "data": {
      "text/plain": [
       "(8, 6)"
      ]
     },
     "execution_count": 184,
     "metadata": {},
     "output_type": "execute_result"
    }
   ],
   "source": [
    "np.vstack((a, a, a, a)).shape"
   ]
  },
  {
   "cell_type": "code",
   "execution_count": 189,
   "metadata": {},
   "outputs": [
    {
     "data": {
      "text/plain": [
       "(3, 6)"
      ]
     },
     "execution_count": 189,
     "metadata": {},
     "output_type": "execute_result"
    }
   ],
   "source": [
    "a = np.random.randint(10, size=(2, 6))\n",
    "b = np.random.randn(1, 6)\n",
    "c = np.random.randint(10, size=(2, 5))\n",
    "\n",
    "np.hstack((a, c)).shape\n",
    "np.vstack((a, b)).shape"
   ]
  },
  {
   "cell_type": "markdown",
   "metadata": {
    "id": "EEj795-z6ni4",
    "jp-MarkdownHeadingCollapsed": true,
    "tags": []
   },
   "source": [
    "### `np.split()`"
   ]
  },
  {
   "cell_type": "code",
   "execution_count": 201,
   "metadata": {
    "id": "Ocv8zppPrlXX"
   },
   "outputs": [
    {
     "name": "stdout",
     "output_type": "stream",
     "text": [
      "[-1.34421173  1.13842544 -0.59891407  1.85339681  1.06283388 -0.00613348]\n"
     ]
    },
    {
     "data": {
      "text/plain": [
       "(array([-1.34421173,  1.13842544, -0.59891407]),\n",
       " array([ 1.85339681,  1.06283388, -0.00613348]))"
      ]
     },
     "execution_count": 201,
     "metadata": {},
     "output_type": "execute_result"
    }
   ],
   "source": [
    "a = np.random.randint(10, size=(2, 6))\n",
    "b = np.random.randn(6)\n",
    "\n",
    "print(b)\n",
    "c, d = np.split(b, 2)\n",
    "c, d"
   ]
  },
  {
   "cell_type": "code",
   "execution_count": 203,
   "metadata": {},
   "outputs": [
    {
     "data": {
      "text/plain": [
       "[array([[4, 3, 8],\n",
       "        [3, 5, 3]]),\n",
       " array([[1, 9, 9],\n",
       "        [4, 5, 3]])]"
      ]
     },
     "execution_count": 203,
     "metadata": {},
     "output_type": "execute_result"
    }
   ],
   "source": [
    "np.split(a, 2, axis=1)"
   ]
  },
  {
   "cell_type": "markdown",
   "metadata": {
    "id": "Y3K7B4xY6QPu",
    "jp-MarkdownHeadingCollapsed": true,
    "tags": []
   },
   "source": [
    "### `np.repeat()`"
   ]
  },
  {
   "cell_type": "code",
   "execution_count": 208,
   "metadata": {
    "id": "WYRnRNHkhX7-"
   },
   "outputs": [
    {
     "name": "stdout",
     "output_type": "stream",
     "text": [
      "[-1.10810631 -1.95429842 -1.26556302]\n"
     ]
    },
    {
     "data": {
      "text/plain": [
       "array([-1.10810631, -1.10810631, -1.10810631, -1.95429842, -1.95429842,\n",
       "       -1.95429842, -1.26556302, -1.26556302, -1.26556302])"
      ]
     },
     "execution_count": 208,
     "metadata": {},
     "output_type": "execute_result"
    }
   ],
   "source": [
    "a = np.random.randint(10, size=(2, 6))\n",
    "b = np.random.randn(3)\n",
    "\n",
    "print(b)\n",
    "b.repeat(3)"
   ]
  },
  {
   "cell_type": "code",
   "execution_count": 211,
   "metadata": {},
   "outputs": [
    {
     "name": "stdout",
     "output_type": "stream",
     "text": [
      "[[4 7 3 9 4 6]\n",
      " [0 1 6 5 5 4]]\n"
     ]
    },
    {
     "data": {
      "text/plain": [
       "array([[4, 4, 4, 7, 7, 7, 3, 3, 3, 9, 9, 9, 4, 4, 4, 6, 6, 6],\n",
       "       [0, 0, 0, 1, 1, 1, 6, 6, 6, 5, 5, 5, 5, 5, 5, 4, 4, 4]])"
      ]
     },
     "execution_count": 211,
     "metadata": {},
     "output_type": "execute_result"
    }
   ],
   "source": [
    "print(a)\n",
    "a.repeat(3, axis=1)"
   ]
  },
  {
   "cell_type": "markdown",
   "metadata": {
    "id": "fM18wi0R9LoY",
    "jp-MarkdownHeadingCollapsed": true,
    "tags": []
   },
   "source": [
    "### `np.squeeze()`"
   ]
  },
  {
   "cell_type": "code",
   "execution_count": 214,
   "metadata": {
    "id": "jZ-5dAn_rtoW"
   },
   "outputs": [
    {
     "data": {
      "text/plain": [
       "(2, 1, 6, 1)"
      ]
     },
     "execution_count": 214,
     "metadata": {},
     "output_type": "execute_result"
    }
   ],
   "source": [
    "a = np.random.randint(10, size=(1, 2, 1, 6, 1))\n",
    "a.squeeze()\n",
    "a.squeeze(axis=0).shape"
   ]
  },
  {
   "cell_type": "markdown",
   "metadata": {
    "id": "fM18wi0R9LoY",
    "jp-MarkdownHeadingCollapsed": true,
    "tags": []
   },
   "source": [
    "### `np.moveaxis()`"
   ]
  },
  {
   "cell_type": "code",
   "execution_count": 218,
   "metadata": {
    "id": "jZ-5dAn_rtoW"
   },
   "outputs": [
    {
     "data": {
      "text/plain": [
       "(6, 2, 3)"
      ]
     },
     "execution_count": 218,
     "metadata": {},
     "output_type": "execute_result"
    }
   ],
   "source": [
    "a = np.random.randint(10, size=(2, 3, 6))\n",
    "np.moveaxis(a, 0, 1).shape\n",
    "np.moveaxis(a, [0, 2], [1, 0]).shape"
   ]
  },
  {
   "cell_type": "markdown",
   "metadata": {
    "id": "fM18wi0R9LoY",
    "tags": []
   },
   "source": [
    "### `np.newaxis`"
   ]
  },
  {
   "cell_type": "code",
   "execution_count": 225,
   "metadata": {
    "id": "jZ-5dAn_rtoW"
   },
   "outputs": [
    {
     "data": {
      "text/plain": [
       "(1, 3, 1)"
      ]
     },
     "execution_count": 225,
     "metadata": {},
     "output_type": "execute_result"
    }
   ],
   "source": [
    "a = np.random.randn(3)\n",
    "a[np.newaxis, :].shape\n",
    "a[np.newaxis, :, np.newaxis].shape\n",
    "a[None, :, None].shape"
   ]
  },
  {
   "cell_type": "markdown",
   "metadata": {
    "id": "Y_D7XfFCnX7M",
    "jp-MarkdownHeadingCollapsed": true,
    "tags": []
   },
   "source": [
    "## 🔶 **Section 12: Math functions**"
   ]
  },
  {
   "cell_type": "code",
   "execution_count": 256,
   "metadata": {
    "colab": {
     "base_uri": "https://localhost:8080/"
    },
    "executionInfo": {
     "elapsed": 5,
     "status": "ok",
     "timestamp": 1657397726162,
     "user": {
      "displayName": "Howsam AI",
      "userId": "14680048223925681202"
     },
     "user_tz": -270
    },
    "id": "pxjmiXrhjCbF",
    "outputId": "9313b5f5-e8c9-4e76-9644-50b61b9b7dea"
   },
   "outputs": [
    {
     "name": "stdout",
     "output_type": "stream",
     "text": [
      "[3. 5. 8. 9. 7.]\n",
      "[[0. 5. 3.]\n",
      " [5. 7. 3.]]\n"
     ]
    }
   ],
   "source": [
    "a = np.random.randint(10, size=(5,)).astype(np.float_)\n",
    "b = np.random.randint(10, size=(2, 3)).astype(np.float_)\n",
    "c = 10 * np.random.randn(1000) + 3\n",
    "print(a)\n",
    "print(b)"
   ]
  },
  {
   "cell_type": "markdown",
   "metadata": {
    "id": "5YnpIQLYf4Nj",
    "jp-MarkdownHeadingCollapsed": true,
    "tags": []
   },
   "source": [
    "### `np.sum()`"
   ]
  },
  {
   "cell_type": "code",
   "execution_count": 262,
   "metadata": {
    "colab": {
     "base_uri": "https://localhost:8080/"
    },
    "executionInfo": {
     "elapsed": 472,
     "status": "ok",
     "timestamp": 1657397813899,
     "user": {
      "displayName": "Howsam AI",
      "userId": "14680048223925681202"
     },
     "user_tz": -270
    },
    "id": "aNuLEp1sdDbm",
    "outputId": "ae42e563-b022-465c-a85c-e1bdf156effe"
   },
   "outputs": [
    {
     "data": {
      "text/plain": [
       "32.0"
      ]
     },
     "execution_count": 262,
     "metadata": {},
     "output_type": "execute_result"
    }
   ],
   "source": [
    "np.sum(a)\n",
    "np.sum(b)\n",
    "np.sum(b, axis=0)\n",
    "np.sum(b, axis=1, keepdims=True)\n",
    "a.sum()"
   ]
  },
  {
   "cell_type": "markdown",
   "metadata": {
    "id": "LmLEOobIhFgR",
    "jp-MarkdownHeadingCollapsed": true,
    "tags": []
   },
   "source": [
    "#### `np.cumsum()`"
   ]
  },
  {
   "cell_type": "code",
   "execution_count": 264,
   "metadata": {
    "colab": {
     "base_uri": "https://localhost:8080/"
    },
    "executionInfo": {
     "elapsed": 455,
     "status": "ok",
     "timestamp": 1657397879948,
     "user": {
      "displayName": "Howsam AI",
      "userId": "14680048223925681202"
     },
     "user_tz": -270
    },
    "id": "SEfVqPHnhLF7",
    "outputId": "58e1b36b-1cc7-4bdd-da57-6220ae0763d2"
   },
   "outputs": [
    {
     "name": "stdout",
     "output_type": "stream",
     "text": [
      "[3. 5. 8. 9. 7.]\n",
      "[ 3.  8. 16. 25. 32.]\n"
     ]
    }
   ],
   "source": [
    "print(a)\n",
    "print(np.cumsum(a))"
   ]
  },
  {
   "cell_type": "markdown",
   "metadata": {
    "id": "OiMbufKZh5Cn",
    "jp-MarkdownHeadingCollapsed": true,
    "tags": []
   },
   "source": [
    "### `np.diff()`"
   ]
  },
  {
   "cell_type": "code",
   "execution_count": 265,
   "metadata": {
    "colab": {
     "base_uri": "https://localhost:8080/"
    },
    "executionInfo": {
     "elapsed": 26,
     "status": "ok",
     "timestamp": 1657397674086,
     "user": {
      "displayName": "Howsam AI",
      "userId": "14680048223925681202"
     },
     "user_tz": -270
    },
    "id": "bk3lXCvXiHaq",
    "outputId": "55a5b7ea-32de-4811-d4c7-b6ca2c2adb27"
   },
   "outputs": [
    {
     "name": "stdout",
     "output_type": "stream",
     "text": [
      "[3. 5. 8. 9. 7.]\n",
      "[ 2.  3.  1. -2.]\n"
     ]
    }
   ],
   "source": [
    "print(a)\n",
    "print(np.diff(a))"
   ]
  },
  {
   "cell_type": "markdown",
   "metadata": {
    "id": "Fbekaalx5UmS",
    "jp-MarkdownHeadingCollapsed": true,
    "tags": []
   },
   "source": [
    "### `np.prod()`"
   ]
  },
  {
   "cell_type": "code",
   "execution_count": 269,
   "metadata": {
    "colab": {
     "base_uri": "https://localhost:8080/"
    },
    "executionInfo": {
     "elapsed": 7,
     "status": "ok",
     "timestamp": 1657397985098,
     "user": {
      "displayName": "Howsam AI",
      "userId": "14680048223925681202"
     },
     "user_tz": -270
    },
    "id": "dC1ijPhRiOlh",
    "outputId": "17fb586f-333e-47d5-a03f-5b7be0d06db2"
   },
   "outputs": [
    {
     "data": {
      "text/plain": [
       "7560.0"
      ]
     },
     "execution_count": 269,
     "metadata": {},
     "output_type": "execute_result"
    }
   ],
   "source": [
    "np.prod(a)"
   ]
  },
  {
   "cell_type": "markdown",
   "metadata": {
    "id": "htWCKrtR5790",
    "jp-MarkdownHeadingCollapsed": true,
    "tags": []
   },
   "source": [
    "#### `np.cumprod()`"
   ]
  },
  {
   "cell_type": "code",
   "execution_count": 270,
   "metadata": {
    "colab": {
     "base_uri": "https://localhost:8080/"
    },
    "executionInfo": {
     "elapsed": 24,
     "status": "ok",
     "timestamp": 1657397674087,
     "user": {
      "displayName": "Howsam AI",
      "userId": "14680048223925681202"
     },
     "user_tz": -270
    },
    "id": "BCoeCEMEiT-J",
    "outputId": "14d7ac19-5efe-49a2-b801-58a1ea21816f"
   },
   "outputs": [
    {
     "data": {
      "text/plain": [
       "array([[ 0.,  5.,  3.],\n",
       "       [ 0., 35.,  9.]])"
      ]
     },
     "execution_count": 270,
     "metadata": {},
     "output_type": "execute_result"
    }
   ],
   "source": [
    "np.cumprod(b, axis=0)"
   ]
  },
  {
   "cell_type": "markdown",
   "metadata": {
    "id": "vx_Jm2Ye7Bws",
    "jp-MarkdownHeadingCollapsed": true,
    "tags": []
   },
   "source": [
    "### `np.mean()`"
   ]
  },
  {
   "cell_type": "code",
   "execution_count": 272,
   "metadata": {
    "id": "p0NBcokBkd5K"
   },
   "outputs": [
    {
     "data": {
      "text/plain": [
       "6.4"
      ]
     },
     "execution_count": 272,
     "metadata": {},
     "output_type": "execute_result"
    }
   ],
   "source": [
    "np.mean(a)\n",
    "np.sum(a)/a.size"
   ]
  },
  {
   "cell_type": "markdown",
   "metadata": {
    "id": "AJaf7Ho-7Erq",
    "jp-MarkdownHeadingCollapsed": true,
    "tags": []
   },
   "source": [
    "### `np.std()`"
   ]
  },
  {
   "cell_type": "code",
   "execution_count": 273,
   "metadata": {
    "colab": {
     "base_uri": "https://localhost:8080/"
    },
    "executionInfo": {
     "elapsed": 17,
     "status": "ok",
     "timestamp": 1657397674091,
     "user": {
      "displayName": "Howsam AI",
      "userId": "14680048223925681202"
     },
     "user_tz": -270
    },
    "id": "tOn4MwDIkjA3",
    "outputId": "5cde15ec-933f-473b-fc92-a966fb7843f3"
   },
   "outputs": [
    {
     "data": {
      "text/plain": [
       "2.1540659228538015"
      ]
     },
     "execution_count": 273,
     "metadata": {},
     "output_type": "execute_result"
    }
   ],
   "source": [
    "np.std(a)"
   ]
  },
  {
   "cell_type": "markdown",
   "metadata": {
    "id": "XxoWcdik7Hmm",
    "jp-MarkdownHeadingCollapsed": true,
    "tags": []
   },
   "source": [
    "### `np.var()`"
   ]
  },
  {
   "cell_type": "code",
   "execution_count": 278,
   "metadata": {},
   "outputs": [
    {
     "data": {
      "text/plain": [
       "2.1540659228538015"
      ]
     },
     "execution_count": 278,
     "metadata": {},
     "output_type": "execute_result"
    }
   ],
   "source": [
    "np.var(a)\n",
    "np.var(a)**0.5"
   ]
  },
  {
   "cell_type": "code",
   "execution_count": 280,
   "metadata": {},
   "outputs": [
    {
     "data": {
      "text/plain": [
       "10.065425515692423"
      ]
     },
     "execution_count": 280,
     "metadata": {},
     "output_type": "execute_result"
    }
   ],
   "source": [
    "np.mean(c)\n",
    "np.std(c)"
   ]
  },
  {
   "cell_type": "code",
   "execution_count": 289,
   "metadata": {},
   "outputs": [
    {
     "data": {
      "text/plain": [
       "10.065425515692423"
      ]
     },
     "execution_count": 289,
     "metadata": {},
     "output_type": "execute_result"
    }
   ],
   "source": [
    "np.sqrt((1/c.size) * np.sum((c - c.mean())**2))"
   ]
  },
  {
   "cell_type": "markdown",
   "metadata": {
    "id": "XxoWcdik7Hmm",
    "jp-MarkdownHeadingCollapsed": true,
    "tags": []
   },
   "source": [
    "### `np.all()` & `np.any()`"
   ]
  },
  {
   "cell_type": "code",
   "execution_count": 290,
   "metadata": {
    "colab": {
     "base_uri": "https://localhost:8080/"
    },
    "executionInfo": {
     "elapsed": 17,
     "status": "ok",
     "timestamp": 1657397674092,
     "user": {
      "displayName": "Howsam AI",
      "userId": "14680048223925681202"
     },
     "user_tz": -270
    },
    "id": "OeLpEYbSmHmh",
    "outputId": "c0f67acd-a617-421c-f560-ceda49329a7a"
   },
   "outputs": [
    {
     "name": "stdout",
     "output_type": "stream",
     "text": [
      "7.7 µs ± 416 ns per loop (mean ± std. dev. of 7 runs, 100,000 loops each)\n"
     ]
    }
   ],
   "source": [
    "%timeit np.all(np.ones(10000, dtype=np.bool_))"
   ]
  },
  {
   "cell_type": "code",
   "execution_count": 291,
   "metadata": {
    "colab": {
     "base_uri": "https://localhost:8080/"
    },
    "executionInfo": {
     "elapsed": 17,
     "status": "ok",
     "timestamp": 1657397674092,
     "user": {
      "displayName": "Howsam AI",
      "userId": "14680048223925681202"
     },
     "user_tz": -270
    },
    "id": "OeLpEYbSmHmh",
    "outputId": "c0f67acd-a617-421c-f560-ceda49329a7a"
   },
   "outputs": [
    {
     "name": "stdout",
     "output_type": "stream",
     "text": [
      "147 µs ± 4.07 µs per loop (mean ± std. dev. of 7 runs, 10,000 loops each)\n"
     ]
    }
   ],
   "source": [
    "%timeit all(np.ones(10000, dtype=np.bool_))"
   ]
  },
  {
   "cell_type": "markdown",
   "metadata": {
    "id": "kr0lLhUw072R",
    "jp-MarkdownHeadingCollapsed": true,
    "tags": []
   },
   "source": [
    "## **✍️ Example 2: Series**"
   ]
  },
  {
   "cell_type": "markdown",
   "metadata": {},
   "source": [
    "$$\\sum_{n=1}^{10} n$$"
   ]
  },
  {
   "cell_type": "code",
   "execution_count": 327,
   "metadata": {},
   "outputs": [
    {
     "data": {
      "text/plain": [
       "55"
      ]
     },
     "execution_count": 327,
     "metadata": {},
     "output_type": "execute_result"
    }
   ],
   "source": [
    "n = np.arange(1, 11)\n",
    "n.sum()"
   ]
  },
  {
   "cell_type": "markdown",
   "metadata": {},
   "source": [
    "$$\\sum_{n=1}^{10} 2^{-n}$$"
   ]
  },
  {
   "cell_type": "code",
   "execution_count": 330,
   "metadata": {},
   "outputs": [
    {
     "data": {
      "text/plain": [
       "0.9990234375"
      ]
     },
     "execution_count": 330,
     "metadata": {},
     "output_type": "execute_result"
    }
   ],
   "source": [
    "n = np.arange(1, 11)\n",
    "np.sum(2.**(-n))"
   ]
  },
  {
   "cell_type": "markdown",
   "metadata": {
    "id": "B80DBFt4kvwU",
    "jp-MarkdownHeadingCollapsed": true,
    "tags": []
   },
   "source": [
    "## 🔶 **Section 13: Minimum and Maximum**"
   ]
  },
  {
   "cell_type": "code",
   "execution_count": 331,
   "metadata": {},
   "outputs": [
    {
     "name": "stdout",
     "output_type": "stream",
     "text": [
      "[1. 6. 5. 9. 0.]\n",
      "[[1. 5. 6.]\n",
      " [0. 9. 8.]]\n"
     ]
    }
   ],
   "source": [
    "a = np.random.randint(10, size=(5,)).astype(np.float_)\n",
    "b = np.random.randint(10, size=(2, 3)).astype(np.float_)\n",
    "print(a)\n",
    "print(b)"
   ]
  },
  {
   "cell_type": "markdown",
   "metadata": {
    "id": "Cr_NHB2r7UaN",
    "jp-MarkdownHeadingCollapsed": true,
    "tags": []
   },
   "source": [
    "### `np.min()`"
   ]
  },
  {
   "cell_type": "code",
   "execution_count": 334,
   "metadata": {
    "colab": {
     "base_uri": "https://localhost:8080/"
    },
    "executionInfo": {
     "elapsed": 551,
     "status": "ok",
     "timestamp": 1657398477783,
     "user": {
      "displayName": "Howsam AI",
      "userId": "14680048223925681202"
     },
     "user_tz": -270
    },
    "id": "wdpQitDclahD",
    "outputId": "f643b632-4514-4ed5-9224-6151b6ef68ed"
   },
   "outputs": [
    {
     "data": {
      "text/plain": [
       "array([1., 0.])"
      ]
     },
     "execution_count": 334,
     "metadata": {},
     "output_type": "execute_result"
    }
   ],
   "source": [
    "np.min(a)\n",
    "np.min(b, axis=0)\n",
    "b.min(axis=1)"
   ]
  },
  {
   "cell_type": "markdown",
   "metadata": {
    "id": "6WNKRIL67ZKu",
    "jp-MarkdownHeadingCollapsed": true,
    "tags": []
   },
   "source": [
    "#### `np.argmin()`"
   ]
  },
  {
   "cell_type": "code",
   "execution_count": 337,
   "metadata": {
    "colab": {
     "base_uri": "https://localhost:8080/"
    },
    "executionInfo": {
     "elapsed": 19,
     "status": "ok",
     "timestamp": 1657397674578,
     "user": {
      "displayName": "Howsam AI",
      "userId": "14680048223925681202"
     },
     "user_tz": -270
    },
    "id": "fyRfoZxolo-w",
    "outputId": "40492ade-5689-4497-d568-c3dab3473f06"
   },
   "outputs": [
    {
     "data": {
      "text/plain": [
       "array([1, 0, 0], dtype=int64)"
      ]
     },
     "execution_count": 337,
     "metadata": {},
     "output_type": "execute_result"
    }
   ],
   "source": [
    "a.argmin()\n",
    "b.argmin()\n",
    "b.argmin(axis=0)"
   ]
  },
  {
   "cell_type": "markdown",
   "metadata": {
    "id": "hIDmDOaC7W1F",
    "jp-MarkdownHeadingCollapsed": true,
    "tags": []
   },
   "source": [
    "### `np.max()`"
   ]
  },
  {
   "cell_type": "code",
   "execution_count": null,
   "metadata": {
    "colab": {
     "base_uri": "https://localhost:8080/"
    },
    "executionInfo": {
     "elapsed": 21,
     "status": "ok",
     "timestamp": 1657397674578,
     "user": {
      "displayName": "Howsam AI",
      "userId": "14680048223925681202"
     },
     "user_tz": -270
    },
    "id": "RT2Qu46Tld9o",
    "outputId": "1ca45c76-8704-4d6a-9754-bdcf21252150"
   },
   "outputs": [],
   "source": []
  },
  {
   "cell_type": "markdown",
   "metadata": {
    "id": "4Sl4KDSJ7cAZ",
    "jp-MarkdownHeadingCollapsed": true,
    "tags": []
   },
   "source": [
    "#### `np.argmax()`"
   ]
  },
  {
   "cell_type": "code",
   "execution_count": null,
   "metadata": {
    "colab": {
     "base_uri": "https://localhost:8080/"
    },
    "executionInfo": {
     "elapsed": 19,
     "status": "ok",
     "timestamp": 1657397674580,
     "user": {
      "displayName": "Howsam AI",
      "userId": "14680048223925681202"
     },
     "user_tz": -270
    },
    "id": "yv8a280llr_S",
    "outputId": "522299dc-098b-41df-907e-d8554cc2d301"
   },
   "outputs": [],
   "source": []
  },
  {
   "cell_type": "markdown",
   "metadata": {
    "id": "GyH5Emmv7fph",
    "jp-MarkdownHeadingCollapsed": true,
    "tags": []
   },
   "source": [
    "### `np.sort()`"
   ]
  },
  {
   "cell_type": "code",
   "execution_count": 339,
   "metadata": {
    "colab": {
     "base_uri": "https://localhost:8080/"
    },
    "executionInfo": {
     "elapsed": 455,
     "status": "ok",
     "timestamp": 1657398582381,
     "user": {
      "displayName": "Howsam AI",
      "userId": "14680048223925681202"
     },
     "user_tz": -270
    },
    "id": "2YKFOHcJpv2C",
    "outputId": "f7ad8f5a-8a8c-4c97-ffeb-d1dd5908a62f"
   },
   "outputs": [
    {
     "data": {
      "text/plain": [
       "array([0., 1., 5., 6., 9.])"
      ]
     },
     "execution_count": 339,
     "metadata": {},
     "output_type": "execute_result"
    }
   ],
   "source": [
    "np.sort(a)\n",
    "a.sort()\n",
    "a"
   ]
  },
  {
   "cell_type": "code",
   "execution_count": 341,
   "metadata": {},
   "outputs": [
    {
     "data": {
      "text/plain": [
       "array([9., 6., 5., 1., 0.])"
      ]
     },
     "execution_count": 341,
     "metadata": {},
     "output_type": "execute_result"
    }
   ],
   "source": [
    "np.sort(a)[::-1]\n",
    "a[::-1].sort()\n",
    "a"
   ]
  },
  {
   "cell_type": "markdown",
   "metadata": {
    "id": "GyH5Emmv7fph",
    "jp-MarkdownHeadingCollapsed": true,
    "tags": []
   },
   "source": [
    "#### `np.argsort()`"
   ]
  },
  {
   "cell_type": "code",
   "execution_count": 344,
   "metadata": {
    "colab": {
     "base_uri": "https://localhost:8080/"
    },
    "executionInfo": {
     "elapsed": 455,
     "status": "ok",
     "timestamp": 1657398582381,
     "user": {
      "displayName": "Howsam AI",
      "userId": "14680048223925681202"
     },
     "user_tz": -270
    },
    "id": "2YKFOHcJpv2C",
    "outputId": "f7ad8f5a-8a8c-4c97-ffeb-d1dd5908a62f"
   },
   "outputs": [
    {
     "name": "stdout",
     "output_type": "stream",
     "text": [
      "[1. 1. 3. 0. 6.]\n"
     ]
    },
    {
     "data": {
      "text/plain": [
       "array([3, 0, 1, 2, 4], dtype=int64)"
      ]
     },
     "execution_count": 344,
     "metadata": {},
     "output_type": "execute_result"
    }
   ],
   "source": [
    "a = np.random.randint(10, size=(5,)).astype(np.float_)\n",
    "print(a)\n",
    "np.argsort(a)"
   ]
  },
  {
   "cell_type": "code",
   "execution_count": 348,
   "metadata": {},
   "outputs": [
    {
     "data": {
      "text/plain": [
       "array([20., 20., 20., 20., 20.])"
      ]
     },
     "execution_count": 348,
     "metadata": {},
     "output_type": "execute_result"
    }
   ],
   "source": [
    "a = np.random.randint(21, size=(1000,)).astype(np.float_)\n",
    "idx = a.argsort()\n",
    "a[idx[-5:]]"
   ]
  },
  {
   "cell_type": "markdown",
   "metadata": {
    "id": "GyH5Emmv7fph",
    "jp-MarkdownHeadingCollapsed": true,
    "tags": []
   },
   "source": [
    "### `np.min()` vs `min()`"
   ]
  },
  {
   "cell_type": "code",
   "execution_count": 349,
   "metadata": {},
   "outputs": [
    {
     "data": {
      "text/plain": [
       "(10000,)"
      ]
     },
     "execution_count": 349,
     "metadata": {},
     "output_type": "execute_result"
    }
   ],
   "source": [
    "a = np.random.randint(10000, size=(10000,))\n",
    "a.shape"
   ]
  },
  {
   "cell_type": "code",
   "execution_count": 350,
   "metadata": {
    "colab": {
     "base_uri": "https://localhost:8080/"
    },
    "id": "TjHys-YLkw_L",
    "outputId": "a67b30ce-5af9-4df3-8bb5-c348b295ef33"
   },
   "outputs": [
    {
     "data": {
      "text/plain": [
       "(0, 9999)"
      ]
     },
     "execution_count": 350,
     "metadata": {},
     "output_type": "execute_result"
    }
   ],
   "source": [
    "min(a), max(a)"
   ]
  },
  {
   "cell_type": "code",
   "execution_count": 351,
   "metadata": {
    "colab": {
     "base_uri": "https://localhost:8080/"
    },
    "id": "aPjQznOGkzoq",
    "outputId": "f1482945-fd3c-40ca-caba-742fce55c094"
   },
   "outputs": [
    {
     "data": {
      "text/plain": [
       "(0, 9999)"
      ]
     },
     "execution_count": 351,
     "metadata": {},
     "output_type": "execute_result"
    }
   ],
   "source": [
    "np.min(a), np.max(a)"
   ]
  },
  {
   "cell_type": "code",
   "execution_count": 352,
   "metadata": {
    "colab": {
     "base_uri": "https://localhost:8080/"
    },
    "id": "kLOUa7kLk8KT",
    "outputId": "f28b228e-c47c-435d-be21-62ad4325eda6"
   },
   "outputs": [
    {
     "name": "stdout",
     "output_type": "stream",
     "text": [
      "430 µs ± 6 µs per loop (mean ± std. dev. of 7 runs, 1,000 loops each)\n",
      "5.68 µs ± 364 ns per loop (mean ± std. dev. of 7 runs, 100,000 loops each)\n"
     ]
    }
   ],
   "source": [
    "%timeit min(a)\n",
    "%timeit np.min(a)"
   ]
  },
  {
   "cell_type": "markdown",
   "metadata": {
    "id": "fV8NwFzPdRE6",
    "jp-MarkdownHeadingCollapsed": true,
    "tags": []
   },
   "source": [
    "## 🔶 **Section 14: Rounding**"
   ]
  },
  {
   "cell_type": "code",
   "execution_count": 364,
   "metadata": {},
   "outputs": [],
   "source": [
    "a = np.array([-1.5, -1.9, -1.1, -0.3, 0.4, 1.1, 1.5, 1.9])"
   ]
  },
  {
   "cell_type": "markdown",
   "metadata": {
    "id": "8nIDONNt6G6C",
    "jp-MarkdownHeadingCollapsed": true,
    "tags": []
   },
   "source": [
    "### `np.round()`"
   ]
  },
  {
   "cell_type": "code",
   "execution_count": 365,
   "metadata": {
    "colab": {
     "base_uri": "https://localhost:8080/"
    },
    "executionInfo": {
     "elapsed": 452,
     "status": "ok",
     "timestamp": 1657398069817,
     "user": {
      "displayName": "Howsam AI",
      "userId": "14680048223925681202"
     },
     "user_tz": -270
    },
    "id": "SwWKsiPlizTb",
    "outputId": "d79eb273-8f15-4d02-823c-2ab3f49328d0"
   },
   "outputs": [
    {
     "data": {
      "text/plain": [
       "array([-2., -2., -1., -0.,  0.,  1.,  2.,  2.])"
      ]
     },
     "execution_count": 365,
     "metadata": {},
     "output_type": "execute_result"
    }
   ],
   "source": [
    "np.round(a)"
   ]
  },
  {
   "cell_type": "markdown",
   "metadata": {
    "id": "YIP_Rd8p6JXz",
    "jp-MarkdownHeadingCollapsed": true,
    "tags": []
   },
   "source": [
    "### `np.ceil()`"
   ]
  },
  {
   "cell_type": "code",
   "execution_count": 366,
   "metadata": {
    "colab": {
     "base_uri": "https://localhost:8080/"
    },
    "executionInfo": {
     "elapsed": 440,
     "status": "ok",
     "timestamp": 1657398093692,
     "user": {
      "displayName": "Howsam AI",
      "userId": "14680048223925681202"
     },
     "user_tz": -270
    },
    "id": "_Nx0TuLRjVaP",
    "outputId": "79e5e803-1ab9-42df-94cd-d20c857c7492"
   },
   "outputs": [
    {
     "data": {
      "text/plain": [
       "array([-1., -1., -1., -0.,  1.,  2.,  2.,  2.])"
      ]
     },
     "execution_count": 366,
     "metadata": {},
     "output_type": "execute_result"
    }
   ],
   "source": [
    "np.ceil(a)"
   ]
  },
  {
   "cell_type": "markdown",
   "metadata": {
    "id": "EGsb6bqa6LvX",
    "jp-MarkdownHeadingCollapsed": true,
    "tags": []
   },
   "source": [
    "### `np.floor()`"
   ]
  },
  {
   "cell_type": "code",
   "execution_count": 367,
   "metadata": {
    "colab": {
     "base_uri": "https://localhost:8080/"
    },
    "executionInfo": {
     "elapsed": 452,
     "status": "ok",
     "timestamp": 1657398111399,
     "user": {
      "displayName": "Howsam AI",
      "userId": "14680048223925681202"
     },
     "user_tz": -270
    },
    "id": "n_CHWE_6jZlX",
    "outputId": "42babf7a-f8e6-4cb0-b171-ef429cfa3a9b"
   },
   "outputs": [
    {
     "data": {
      "text/plain": [
       "array([-2., -2., -2., -1.,  0.,  1.,  1.,  1.])"
      ]
     },
     "execution_count": 367,
     "metadata": {},
     "output_type": "execute_result"
    }
   ],
   "source": [
    "np.floor(a)"
   ]
  },
  {
   "cell_type": "markdown",
   "metadata": {
    "id": "XvgiBQvo6Yi7",
    "jp-MarkdownHeadingCollapsed": true,
    "tags": []
   },
   "source": [
    "### `np.fix()`"
   ]
  },
  {
   "cell_type": "code",
   "execution_count": 368,
   "metadata": {
    "colab": {
     "base_uri": "https://localhost:8080/"
    },
    "executionInfo": {
     "elapsed": 20,
     "status": "ok",
     "timestamp": 1657397674090,
     "user": {
      "displayName": "Howsam AI",
      "userId": "14680048223925681202"
     },
     "user_tz": -270
    },
    "id": "GnC9g6F8jbBn",
    "outputId": "b8a17785-291a-476c-96dd-925590f59596"
   },
   "outputs": [
    {
     "data": {
      "text/plain": [
       "array([-1., -1., -1., -0.,  0.,  1.,  1.,  1.])"
      ]
     },
     "execution_count": 368,
     "metadata": {},
     "output_type": "execute_result"
    }
   ],
   "source": [
    "np.fix(a)"
   ]
  },
  {
   "cell_type": "markdown",
   "metadata": {
    "id": "_0gvAEx6aD_j",
    "jp-MarkdownHeadingCollapsed": true,
    "tags": []
   },
   "source": [
    "## 🔶 **Section 15: Exponents & Logarithms**"
   ]
  },
  {
   "cell_type": "code",
   "execution_count": 364,
   "metadata": {},
   "outputs": [],
   "source": [
    "a = np.array([-1.5, -1.9, -1.1, -0.3, 0.4, 1.1, 1.5, 1.9])"
   ]
  },
  {
   "cell_type": "markdown",
   "metadata": {
    "id": "Q5cQwSXS7KAI",
    "jp-MarkdownHeadingCollapsed": true,
    "tags": []
   },
   "source": [
    "### `np.exp()`"
   ]
  },
  {
   "cell_type": "code",
   "execution_count": 378,
   "metadata": {
    "colab": {
     "base_uri": "https://localhost:8080/"
    },
    "executionInfo": {
     "elapsed": 499,
     "status": "ok",
     "timestamp": 1657397674575,
     "user": {
      "displayName": "Howsam AI",
      "userId": "14680048223925681202"
     },
     "user_tz": -270
    },
    "id": "c2tT9ypekvBm",
    "outputId": "0f6a05ab-a72b-4aa0-9109-519c47636e16"
   },
   "outputs": [
    {
     "data": {
      "text/plain": [
       "array([0.22313016, 0.14956862, 0.33287108, 0.74081822, 1.4918247 ,\n",
       "       3.00416602, 4.48168907, 6.68589444])"
      ]
     },
     "execution_count": 378,
     "metadata": {},
     "output_type": "execute_result"
    }
   ],
   "source": [
    "np.exp(a)\n",
    "\n",
    "# np.exp(a) - 1\n",
    "# np.expm1(a)"
   ]
  },
  {
   "cell_type": "markdown",
   "metadata": {
    "id": "_mSrs8yl7Msg",
    "jp-MarkdownHeadingCollapsed": true,
    "tags": []
   },
   "source": [
    "### `np.log()`"
   ]
  },
  {
   "cell_type": "code",
   "execution_count": 380,
   "metadata": {
    "colab": {
     "base_uri": "https://localhost:8080/"
    },
    "executionInfo": {
     "elapsed": 22,
     "status": "ok",
     "timestamp": 1657397674576,
     "user": {
      "displayName": "Howsam AI",
      "userId": "14680048223925681202"
     },
     "user_tz": -270
    },
    "id": "fOhvhfttlKdv",
    "outputId": "7d467c9b-f64b-4043-e645-dd929d307341"
   },
   "outputs": [
    {
     "data": {
      "text/plain": [
       "array([-1.5, -1.9, -1.1, -0.3,  0.4,  1.1,  1.5,  1.9])"
      ]
     },
     "execution_count": 380,
     "metadata": {},
     "output_type": "execute_result"
    }
   ],
   "source": [
    "np.log(np.exp(a))\n",
    "\n",
    "# np.log2()"
   ]
  },
  {
   "cell_type": "markdown",
   "metadata": {
    "id": "_mSrs8yl7Msg",
    "jp-MarkdownHeadingCollapsed": true,
    "tags": []
   },
   "source": [
    "### `np.power()`"
   ]
  },
  {
   "cell_type": "code",
   "execution_count": null,
   "metadata": {
    "colab": {
     "base_uri": "https://localhost:8080/"
    },
    "executionInfo": {
     "elapsed": 22,
     "status": "ok",
     "timestamp": 1657397674576,
     "user": {
      "displayName": "Howsam AI",
      "userId": "14680048223925681202"
     },
     "user_tz": -270
    },
    "id": "fOhvhfttlKdv",
    "outputId": "7d467c9b-f64b-4043-e645-dd929d307341"
   },
   "outputs": [],
   "source": [
    "np.power()"
   ]
  },
  {
   "cell_type": "markdown",
   "metadata": {
    "id": "kr0lLhUw072R",
    "jp-MarkdownHeadingCollapsed": true,
    "tags": []
   },
   "source": [
    "## **✍️ Example 3: Calc cross-entropy**"
   ]
  },
  {
   "cell_type": "markdown",
   "metadata": {},
   "source": [
    "$$-\\frac{1}n\\sum_{i=0}^{n-1} [y_t\\log{(y_p)} + (1-y_t)\\log{(1-y_p)}]$$"
   ]
  },
  {
   "cell_type": "code",
   "execution_count": 389,
   "metadata": {},
   "outputs": [
    {
     "data": {
      "text/plain": [
       "1.0117757418832278"
      ]
     },
     "execution_count": 389,
     "metadata": {},
     "output_type": "execute_result"
    }
   ],
   "source": [
    "yp = np.random.rand(1000)\n",
    "yt = np.random.randint(0, 2, size=1000)\n",
    "\n",
    "-np.sum(yt * np.log(yp) + (1 - yt) * np.log(1 - yp)) / yt.size"
   ]
  },
  {
   "cell_type": "markdown",
   "metadata": {
    "id": "fV8NwFzPdRE6",
    "jp-MarkdownHeadingCollapsed": true,
    "tags": []
   },
   "source": [
    "## 🔶 **Section 16: Trigonometric funtions**"
   ]
  },
  {
   "cell_type": "code",
   "execution_count": 392,
   "metadata": {},
   "outputs": [],
   "source": [
    "theta = np.array([0., 30., 45., 60., 90.])\n",
    "x = np.array([-1, 0., 1])"
   ]
  },
  {
   "cell_type": "markdown",
   "metadata": {
    "id": "Q5cQwSXS7KAI",
    "jp-MarkdownHeadingCollapsed": true,
    "tags": []
   },
   "source": [
    "### `np.pi`"
   ]
  },
  {
   "cell_type": "code",
   "execution_count": 395,
   "metadata": {},
   "outputs": [
    {
     "data": {
      "text/plain": [
       "3.141592653589793"
      ]
     },
     "execution_count": 395,
     "metadata": {},
     "output_type": "execute_result"
    }
   ],
   "source": [
    "np.pi"
   ]
  },
  {
   "cell_type": "markdown",
   "metadata": {
    "id": "Q5cQwSXS7KAI",
    "jp-MarkdownHeadingCollapsed": true,
    "tags": []
   },
   "source": [
    "### `np.sin()`"
   ]
  },
  {
   "cell_type": "code",
   "execution_count": 402,
   "metadata": {
    "colab": {
     "base_uri": "https://localhost:8080/"
    },
    "id": "Ca1Pg5qkZ0uC",
    "outputId": "05817598-e844-41c4-9bd8-b29c7ef2cfe1"
   },
   "outputs": [
    {
     "data": {
      "text/plain": [
       "array([0.        , 0.5       , 0.70710678, 0.8660254 , 1.        ])"
      ]
     },
     "execution_count": 402,
     "metadata": {},
     "output_type": "execute_result"
    }
   ],
   "source": [
    "np.sin(theta*np.pi/180.)"
   ]
  },
  {
   "cell_type": "code",
   "execution_count": 404,
   "metadata": {},
   "outputs": [
    {
     "name": "stdout",
     "output_type": "stream",
     "text": [
      "[0.         0.52359878 0.78539816 1.04719755 1.57079633] [ 0. 30. 45. 60. 90.]\n"
     ]
    },
    {
     "data": {
      "text/plain": [
       "array([0.        , 0.5       , 0.70710678, 0.8660254 , 1.        ])"
      ]
     },
     "execution_count": 404,
     "metadata": {},
     "output_type": "execute_result"
    }
   ],
   "source": [
    "rad = np.deg2rad(theta)\n",
    "deg = np.rad2deg(rad)\n",
    "print(rad, deg)\n",
    "np.sin(rad)"
   ]
  },
  {
   "cell_type": "markdown",
   "metadata": {
    "id": "Q5cQwSXS7KAI",
    "tags": []
   },
   "source": [
    "### `np.arcsin()`"
   ]
  },
  {
   "cell_type": "code",
   "execution_count": 406,
   "metadata": {
    "colab": {
     "base_uri": "https://localhost:8080/"
    },
    "id": "k0JkSSrQZ9df",
    "outputId": "d17cf364-225a-43a6-ea2f-d4080b541997"
   },
   "outputs": [
    {
     "data": {
      "text/plain": [
       "array([-90.,   0.,  90.])"
      ]
     },
     "execution_count": 406,
     "metadata": {},
     "output_type": "execute_result"
    }
   ],
   "source": [
    "np.rad2deg(np.arcsin(x))"
   ]
  },
  {
   "cell_type": "markdown",
   "metadata": {
    "id": "92yrgjRAsRYP",
    "jp-MarkdownHeadingCollapsed": true,
    "tags": []
   },
   "source": [
    "## 🔶 **Section 17:  Constants** ⚽"
   ]
  },
  {
   "cell_type": "markdown",
   "metadata": {
    "id": "Q5cQwSXS7KAI",
    "jp-MarkdownHeadingCollapsed": true,
    "tags": []
   },
   "source": [
    "### `np.pi`"
   ]
  },
  {
   "cell_type": "code",
   "execution_count": 421,
   "metadata": {},
   "outputs": [
    {
     "data": {
      "text/plain": [
       "4.71238898038469"
      ]
     },
     "execution_count": 421,
     "metadata": {},
     "output_type": "execute_result"
    }
   ],
   "source": [
    "3*np.pi/2"
   ]
  },
  {
   "cell_type": "markdown",
   "metadata": {
    "id": "Q5cQwSXS7KAI",
    "jp-MarkdownHeadingCollapsed": true,
    "tags": []
   },
   "source": [
    "### `np.e`"
   ]
  },
  {
   "cell_type": "code",
   "execution_count": 423,
   "metadata": {},
   "outputs": [
    {
     "data": {
      "text/plain": [
       "7.3890560989306495"
      ]
     },
     "execution_count": 423,
     "metadata": {},
     "output_type": "execute_result"
    }
   ],
   "source": [
    "np.e**2"
   ]
  },
  {
   "cell_type": "markdown",
   "metadata": {
    "id": "Q5cQwSXS7KAI",
    "jp-MarkdownHeadingCollapsed": true,
    "tags": []
   },
   "source": [
    "### `np.inf`"
   ]
  },
  {
   "cell_type": "code",
   "execution_count": 427,
   "metadata": {},
   "outputs": [
    {
     "data": {
      "text/plain": [
       "nan"
      ]
     },
     "execution_count": 427,
     "metadata": {},
     "output_type": "execute_result"
    }
   ],
   "source": [
    "-np.inf * 0\n",
    "# np.array(1.)/0"
   ]
  },
  {
   "cell_type": "markdown",
   "metadata": {
    "id": "Q5cQwSXS7KAI",
    "jp-MarkdownHeadingCollapsed": true,
    "tags": []
   },
   "source": [
    "### `np.nan`"
   ]
  },
  {
   "cell_type": "code",
   "execution_count": 430,
   "metadata": {},
   "outputs": [
    {
     "name": "stderr",
     "output_type": "stream",
     "text": [
      "C:\\Users\\PC\\AppData\\Local\\Temp\\ipykernel_6384\\3433572762.py:2: RuntimeWarning: invalid value encountered in divide\n",
      "  np.array(0.)/0\n"
     ]
    },
    {
     "data": {
      "text/plain": [
       "nan"
      ]
     },
     "execution_count": 430,
     "metadata": {},
     "output_type": "execute_result"
    }
   ],
   "source": [
    "np.nan * 0\n",
    "np.array(0.)/0"
   ]
  },
  {
   "cell_type": "markdown",
   "metadata": {
    "id": "92yrgjRAsRYP",
    "tags": []
   },
   "source": [
    "## 🔶 **Section 18: The remnants**"
   ]
  },
  {
   "cell_type": "markdown",
   "metadata": {
    "id": "92yrgjRAsRYP",
    "jp-MarkdownHeadingCollapsed": true,
    "tags": []
   },
   "source": [
    "### numpy ↔️ list"
   ]
  },
  {
   "cell_type": "code",
   "execution_count": 461,
   "metadata": {
    "id": "vJMbi2yEsvyC"
   },
   "outputs": [
    {
     "data": {
      "text/plain": [
       "(1.0, 2.0)"
      ]
     },
     "execution_count": 461,
     "metadata": {},
     "output_type": "execute_result"
    }
   ],
   "source": [
    "list(np.array([1., 2]))\n",
    "tuple(np.array([1., 2]))"
   ]
  },
  {
   "cell_type": "markdown",
   "metadata": {
    "id": "92yrgjRAsRYP",
    "jp-MarkdownHeadingCollapsed": true,
    "tags": []
   },
   "source": [
    "### Copy"
   ]
  },
  {
   "cell_type": "code",
   "execution_count": 462,
   "metadata": {
    "id": "vJMbi2yEsvyC"
   },
   "outputs": [
    {
     "data": {
      "text/plain": [
       "(array([-1.,  2.]), array([-1.,  2.]))"
      ]
     },
     "execution_count": 462,
     "metadata": {},
     "output_type": "execute_result"
    }
   ],
   "source": [
    "a = np.array([1., 2])\n",
    "b = a\n",
    "a[0] = -1\n",
    "b, a"
   ]
  },
  {
   "cell_type": "code",
   "execution_count": 463,
   "metadata": {},
   "outputs": [
    {
     "data": {
      "text/plain": [
       "(array([-1.,  2.]), array([1., 2.]))"
      ]
     },
     "execution_count": 463,
     "metadata": {},
     "output_type": "execute_result"
    }
   ],
   "source": [
    "a = np.array([1., 2])\n",
    "bc = a.copy()\n",
    "a[0] = -1\n",
    "a, bc"
   ]
  },
  {
   "cell_type": "markdown",
   "metadata": {
    "id": "92yrgjRAsRYP",
    "jp-MarkdownHeadingCollapsed": true,
    "tags": []
   },
   "source": [
    "### `np.abs()`"
   ]
  },
  {
   "cell_type": "code",
   "execution_count": 466,
   "metadata": {},
   "outputs": [
    {
     "data": {
      "text/plain": [
       "array([1.        , 2.        , 1.41421356])"
      ]
     },
     "execution_count": 466,
     "metadata": {},
     "output_type": "execute_result"
    }
   ],
   "source": [
    "np.abs(np.array([-1., 2, 1+1j]))"
   ]
  },
  {
   "cell_type": "markdown",
   "metadata": {
    "id": "92yrgjRAsRYP",
    "jp-MarkdownHeadingCollapsed": true,
    "tags": []
   },
   "source": [
    "### `np.meshgrid()`"
   ]
  },
  {
   "cell_type": "markdown",
   "metadata": {},
   "source": [
    "<img src=\"../python-notebook/images/meshgrid.png\" alt=\"string indexing\" width=500 align=\"center\" />"
   ]
  },
  {
   "cell_type": "code",
   "execution_count": 471,
   "metadata": {
    "id": "vJMbi2yEsvyC"
   },
   "outputs": [
    {
     "name": "stdout",
     "output_type": "stream",
     "text": [
      "[1 2 3 4]\n",
      "[5 6 7]\n"
     ]
    }
   ],
   "source": [
    "x = np.arange(1, 5)\n",
    "y = np.arange(5, 8)\n",
    "print(x)\n",
    "print(y)"
   ]
  },
  {
   "cell_type": "code",
   "execution_count": 474,
   "metadata": {
    "tags": []
   },
   "outputs": [
    {
     "name": "stdout",
     "output_type": "stream",
     "text": [
      "[[1 2 3 4]\n",
      " [1 2 3 4]\n",
      " [1 2 3 4]]\n",
      "\n",
      "[[5 5 5 5]\n",
      " [6 6 6 6]\n",
      " [7 7 7 7]]\n"
     ]
    }
   ],
   "source": [
    "mx, my = np.meshgrid(x, y)\n",
    "print(mx)\n",
    "print()\n",
    "print(my)"
   ]
  },
  {
   "cell_type": "code",
   "execution_count": 482,
   "metadata": {},
   "outputs": [
    {
     "name": "stdout",
     "output_type": "stream",
     "text": [
      "[1 2 3 4 1 2 3 4 1 2 3 4]\n",
      "[5 5 5 5 6 6 6 6 7 7 7 7]\n"
     ]
    },
    {
     "data": {
      "text/plain": [
       "array([3, 5])"
      ]
     },
     "execution_count": 482,
     "metadata": {},
     "output_type": "execute_result"
    }
   ],
   "source": [
    "mxr = mx.ravel()\n",
    "myr = my.ravel()\n",
    "print(mxr)\n",
    "print(myr)\n",
    "\n",
    "pairs = np.stack((mxr, myr))\n",
    "pairs[:, 2]"
   ]
  }
 ],
 "metadata": {
  "accelerator": "GPU",
  "colab": {
   "authorship_tag": "ABX9TyO3sFVncehiWG1JxsOHy0VP",
   "collapsed_sections": [
    "slJIGRxNoE2D",
    "MzKKwd0AK8M2",
    "8d25DyDxov7H",
    "89flvZw6p4HC",
    "b7DtHM5oqCzw",
    "AqAu3O-dqQK5",
    "g5gC-KWXsGfQ",
    "3CyJ4mG1qokv",
    "GweqDf4DsiyB",
    "lHkg6fMGwHHd",
    "BmFoICpQxQsX",
    "QQGT8Q5NrRbe",
    "YpO_z_91uESI",
    "EWKsQn1XuJk6",
    "yEXzDEIcul7q",
    "u_kZ_vpTvrCz",
    "oUMFVfXKcnDJ",
    "yWr5QfaDxMDh",
    "GHqYJM-iy_6i",
    "l_4kzWi-kLPi",
    "dz1GD9Esk6kR",
    "U-P4PgmqlC5S",
    "eV5p6ql6lC5T",
    "9D99p_u8eHjE",
    "xOuWKMUllSws",
    "BXgGnplRlp4q",
    "PJ0xY5OVLoA5",
    "ekK7D2A12kgc",
    "1lER0MjDnU07",
    "LT34N1vmNHT9",
    "KSVjc4sJPVfo",
    "6KyVQQhNQmz-",
    "Azd0cHEgo2Cq",
    "_DAbwGFBRsdb",
    "m8Sd7blGS-yA",
    "dsy6eBCjYKzf",
    "SSJBBkJXtSNn",
    "CWABZJ6RtkVq",
    "wFBZ2dawt71T",
    "oLAbnKlmt-xB",
    "oNHBNBFYuBn2",
    "icvfjfCpuG-Y",
    "wfqBOfr_3W6x",
    "YSRqbr29vkED",
    "Y_D7XfFCnX7M",
    "B0j6Wae7-WXB",
    "dUo01hBzsuLG",
    "YoRb6QuN5i5Y",
    "2FzpChip5464",
    "Y3K7B4xY6QPu",
    "EEj795-z6ni4",
    "fM18wi0R9LoY",
    "AKkoElAF67C6",
    "fV8NwFzPdRE6",
    "fNbiRm3E5JvG",
    "5YnpIQLYf4Nj",
    "LmLEOobIhFgR",
    "OiMbufKZh5Cn",
    "Fbekaalx5UmS",
    "htWCKrtR5790",
    "cteG7Bzj5_zL",
    "Z6Fh2aWS6DmL",
    "8nIDONNt6G6C",
    "YIP_Rd8p6JXz",
    "EGsb6bqa6LvX",
    "XvgiBQvo6Yi7",
    "TrMakNGN6xlR",
    "-U3XK08x69uf",
    "vx_Jm2Ye7Bws",
    "AJaf7Ho-7Erq",
    "XxoWcdik7Hmm",
    "Q5cQwSXS7KAI",
    "_mSrs8yl7Msg",
    "Cr_NHB2r7UaN",
    "hIDmDOaC7W1F",
    "6WNKRIL67ZKu",
    "4Sl4KDSJ7cAZ",
    "GyH5Emmv7fph",
    "ZQXmK9MJ7i2V",
    "6eq3WuEP7lRB",
    "92yrgjRAsRYP",
    "x7ESGB06swgS",
    "5r9u9HVIszgU"
   ],
   "name": "template-session-0-torch-as-numpy.ipynb",
   "provenance": [
    {
     "file_id": "1jUyGfkF0s-m_lSui2--LjQ0yIFEEj80Q",
     "timestamp": 1657198832456
    },
    {
     "file_id": "1LVtkzJJqsI2koC8J6LPpGTKXH9cGwCEe",
     "timestamp": 1657188323957
    }
   ]
  },
  "gpuClass": "standard",
  "kernelspec": {
   "display_name": "Python 3 (ipykernel)",
   "language": "python",
   "name": "python3"
  },
  "language_info": {
   "codemirror_mode": {
    "name": "ipython",
    "version": 3
   },
   "file_extension": ".py",
   "mimetype": "text/x-python",
   "name": "python",
   "nbconvert_exporter": "python",
   "pygments_lexer": "ipython3",
   "version": "3.9.15"
  }
 },
 "nbformat": 4,
 "nbformat_minor": 4
}
