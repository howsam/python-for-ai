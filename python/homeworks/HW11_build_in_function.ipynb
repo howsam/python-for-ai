{
 "cells": [
  {
   "cell_type": "markdown",
   "metadata": {},
   "source": [
    "<div style=\"text-align:center; font-family:samim; font-size:30px;\"><strong> build_in آشنایی با توابع</strong></div>   \n",
    "<br>\n",
    "<p style=\"text-align:center; font-family:samim; font-size:20px;\">تمرین سری یازدهم</p> \n",
    "<br>\n",
    "</p>"
   ]
  },
  {
   "cell_type": "markdown",
   "metadata": {},
   "source": [
    "<p style='direction:rtl;text-align:right;font-size:17px;font-family:samim;line-height:1.5;'>\n",
    "    در این سلسله تمرین‌های آموزشی \"پایتون برای هوش مصنوعی با هوسم\"، ما از شما دعوت می‌کنیم که با یک روند گام به گام، به تدریج پیشرفت کنید. این مسیر ممکن است زمان‌بر باشد، پس صبور باشید و به راهنمایی‌ها و راهکارهایی که از تجربه ما در ارتباط با دانشجویان مختلف بدست آمده است، اعتماد کنید. برای حل مسائل، لطفا به نکات زیر توجه کنید. امیدواریم شاهد پیشرفت‌های شما در این مسیر باشیم. موفق و پیروز باشید!\n",
    "    </p>\n",
    "<br>\n",
    "<div style=\"font-family: samim; font-size: 14px; text-align: right; direction: rtl;\">\n",
    "    <strong>فونت صمیم:</strong> برای مشاهده بهتر توضیحات فارسی، پیشنهاد می‌شود فونت رایگان صمیم را روی سیستم شخصی خود نصب کنید. <a href=\"https://www.fontyab.com/5024/%D9%81%D9%88%D9%86%D8%AA-%D9%81%D8%A7%D8%B1%D8%B3%DB%8C-%D8%B5%D9%85%DB%8C%D9%85.html\">لینک دانلود فونت صمیم</a>\n",
    "    <br>\n",
    "    <br>\n",
    "    <strong>نحوه مشاهده تمرین‌ها:</strong> هر تمرین شامل سه بخش سوال، راهنمایی و جواب هست. راهنمایی و جواب مینیمایز شده است. بهتر هست از Jupyter Lab برای مشاهده درست نوتبوک‌ها و سلول‌ها استفاده شود.\n",
    "    <br>\n",
    "    <br>\n",
    "    <strong>تمرکز بر روی مسئله:</strong> قبل از هر چیز، هر سوال را دقیق بخوانید و به آن فکر کنید. این اولین گام برای حل مسئله است.\n",
    "    <br>\n",
    "    <br>\n",
    "    <strong>استفاده از کاغذ:</strong> اگر نیاز بود، فلوچارت حل مساله را روی کاغذ  بنویسید و به آن فکر کنید. بسیاری اوقات، این کار می‌تواند به روشن شدن مساله و حل بهتر آن کمک کند.\n",
    "    <br>\n",
    "    <br>\n",
    "    <strong>شروع به کدنویسی:</strong> دست روی کیبورد و کدنویسی را فراموش نکنید! برای تسلط بر پایتون، نیاز هست تمرین‌های زیادی را کد بزنید.\n",
    "    <br>\n",
    "    <br>\n",
    "    <strong>استفاده متناسب از منابع:</strong> سعی کنید بدون استفاده از ابزارهای کمکی نظیر ChatGPT یا اینترنت، مسئله‌ها را حل کنید. دراینصورت، قدرت حل مساله در مغز شما تقویت می‌شود.\n",
    "    <br>\n",
    "    <br>\n",
    "    <strong>راهنمایی و ارزیابی:</strong> اگر پس از تلاش، به نتیجه نرسیدید، راهنمایی‌های ارائه شده را مطالعه کرده و دوباره به حل مساله بپردازید. اگر بعد از چند ساعت تلاش برای یک مساله، نتواستید، آنگاه جواب مساله را نگاه کنید.\n",
    "    <br>\n",
    "    <br>\n",
    "    <strong>مبتنی بر محتوا:</strong> سعی کنید با توجه به مباحثی که در ویدیو آموزش هر فصل آموخته‌اید، به سوالات پاسخ دهید و از دستورات جدید خودداری کنید. این به شما کمک می‌کند تا گام به گام و با پیشرفت مرحله‌ای، مسائل را حل کنید.\n",
    "    <br>\n",
    "    <br>\n",
    "    <strong>متنوع بودن راه‌حل‌ها:</strong> به یاد داشته باشید که برای هر سوال، روش‌های مختلفی وجود دارد. راه‌حل ارائه شده فقط یکی از راه‌حل‌های ممکن است و ممکن هست جواب شما هم درست باشد.\n",
    "</div>\n"
   ]
  },
  {
   "cell_type": "markdown",
   "metadata": {},
   "source": [
    "<h2 style='direction:rtl;text-align:right;font-family:samim;'><b>🔸 تمرین ۱</b></h2>"
   ]
  },
  {
   "cell_type": "markdown",
   "metadata": {},
   "source": [
    "<p style='direction:rtl;text-align:right;font-size:18px;font-family:samim;line-height:1.5;'>\n",
    "     دیکشنری‌ای دارید که کلیدهای آن نام‌های محصولات و مقادیر آن تعداد فروش هر محصول در یک ماه است. برنامه‌ای بنویسید که میانگین تعداد فروش محصولات را محاسبه کند.\n",
    "<br>\n",
    "$$\\texttt{sales = \\{ 'apple': 150, 'banana': 200, 'orange': 90 \\}}$$\n",
    "</p>"
   ]
  },
  {
   "cell_type": "code",
   "execution_count": null,
   "metadata": {},
   "outputs": [],
   "source": []
  },
  {
   "cell_type": "markdown",
   "metadata": {
    "tags": []
   },
   "source": [
    "<h4 style='direction:rtl;text-align:right;font-size:18px;font-family:samim;'>راهنمایی</h4>"
   ]
  },
  {
   "cell_type": "markdown",
   "metadata": {
    "tags": []
   },
   "source": [
    "<p style='direction:rtl;text-align:right;font-size:16px;font-family:samim;'>\n",
    "برای محاسبه میانگین فروش، از تابعی برای جمع مقادیر و تابعی دیگر برای شمارش کل عناصر استفاده کنید.\n",
    "</p>"
   ]
  },
  {
   "cell_type": "markdown",
   "metadata": {
    "jp-MarkdownHeadingCollapsed": true,
    "tags": []
   },
   "source": [
    "<h4 style='direction:rtl;text-align:right;font-size:18px;font-family:samim;'>جواب</h4>"
   ]
  },
  {
   "cell_type": "code",
   "execution_count": 7,
   "metadata": {
    "tags": []
   },
   "outputs": [
    {
     "name": "stdout",
     "output_type": "stream",
     "text": [
      "Average sales: 146.66666666666666\n"
     ]
    }
   ],
   "source": [
    "sales = {'apple': 150, 'banana': 200, 'orange': 90}\n",
    "total_sales = sum(sales.values())\n",
    "average_sales = total_sales / len(sales)\n",
    "print(\"Average sales:\", average_sales)\n"
   ]
  },
  {
   "cell_type": "markdown",
   "metadata": {},
   "source": [
    "<h2 style='direction:rtl;text-align:right;font-family:samim;'><b>🔸 تمرین ۲</b></h2>"
   ]
  },
  {
   "cell_type": "markdown",
   "metadata": {},
   "source": [
    "<p style='direction:rtl;text-align:right;font-size:18px;font-family:samim;line-height:1.5;'>\n",
    "لیستی از اعداد دارید. برنامه‌ای بنویسید که کوچک‌ترین عدد زوج را پیدا کند. اگر عدد زوجی در لیست وجود ندارد، پیغام مناسب چاپ کند.\n",
    "<br>\n",
    "    <br>\n",
    "    $$\\texttt{numbers = [5, 3, 9, 18, 15, 2, 42, 7]}$$\n",
    "</p>"
   ]
  },
  {
   "cell_type": "code",
   "execution_count": null,
   "metadata": {},
   "outputs": [],
   "source": []
  },
  {
   "cell_type": "markdown",
   "metadata": {
    "tags": []
   },
   "source": [
    "<h4 style='direction:rtl;text-align:right;font-size:18px;font-family:samim;'>راهنمایی</h4>"
   ]
  },
  {
   "cell_type": "markdown",
   "metadata": {
    "tags": []
   },
   "source": [
    "<p style='direction:rtl;text-align:right;font-size:16px;font-family:samim;'>\n",
    "برای یافتن کوچک‌ترین عدد زوج در لیست، ابتدا لیست جدیدی بسازید که شامل فقط اعداد زوج باشد. سپس کوچک‌ترین عدد را از این لیست پیدا کنید و اگر لیست خالی بود، پیغام مناسبی چاپ کنید.\n",
    "</p>"
   ]
  },
  {
   "cell_type": "markdown",
   "metadata": {
    "jp-MarkdownHeadingCollapsed": true,
    "tags": []
   },
   "source": [
    "<h4 style='direction:rtl;text-align:right;font-size:18px;font-family:samim;'>جواب</h4>"
   ]
  },
  {
   "cell_type": "code",
   "execution_count": 8,
   "metadata": {
    "tags": []
   },
   "outputs": [
    {
     "name": "stdout",
     "output_type": "stream",
     "text": [
      "Smallest even number: 2\n"
     ]
    }
   ],
   "source": [
    "numbers = [5, 3, 9, 18, 15, 2, 42, 7]\n",
    "even_numbers = [num for num in numbers if num % 2 == 0]\n",
    "if even_numbers:\n",
    "    print(\"Smallest even number:\", min(even_numbers))\n",
    "else:\n",
    "    print(\"No even numbers found.\")\n"
   ]
  },
  {
   "cell_type": "markdown",
   "metadata": {},
   "source": [
    "<h2 style='direction:rtl;text-align:right;font-family:samim;'><b>🔸 تمرین ۳</b></h2>"
   ]
  },
  {
   "cell_type": "markdown",
   "metadata": {},
   "source": [
    "<p style='direction:rtl;text-align:right;font-size:18px;font-family:samim;line-height:1.5;'>\n",
    "لیستی از اعداد صحیح (مثبت و منفی) دارید. برنامه‌ای بنویسید که بزرگترین عدد مطلق را در لیست پیدا و چاپ کند.\n",
    "    <br>\n",
    "    <br>\n",
    "    $$\\texttt{numbers = [-10, 22, -15, 5]}$$\n",
    "    تابع max یک آرگومان به اسم key  می تواند بگیرد. راجع بهش سرچ کنید و بعد از آن استفاده کنید.\n",
    "</p>"
   ]
  },
  {
   "cell_type": "code",
   "execution_count": null,
   "metadata": {},
   "outputs": [],
   "source": []
  },
  {
   "cell_type": "markdown",
   "metadata": {
    "tags": []
   },
   "source": [
    "<h4 style='direction:rtl;text-align:right;font-size:18px;font-family:samim;'>راهنمایی</h4>"
   ]
  },
  {
   "cell_type": "markdown",
   "metadata": {
    "tags": []
   },
   "source": [
    "<p style='direction:rtl;text-align:right;font-size:16px;font-family:samim;'>\n",
    "برای پیدا کردن بزرگ‌ترین عدد مطلق در لیست، از تابعی برای محاسبه مقادیر مطلق استفاده کرده و سپس بزرگ‌ترین مقدار را از بین این مقادیر انتخاب کنید.\n",
    "</p>"
   ]
  },
  {
   "cell_type": "markdown",
   "metadata": {
    "jp-MarkdownHeadingCollapsed": true,
    "tags": []
   },
   "source": [
    "<h4 style='direction:rtl;text-align:right;font-size:18px;font-family:samim;'>جواب</h4>"
   ]
  },
  {
   "cell_type": "code",
   "execution_count": 9,
   "metadata": {
    "tags": []
   },
   "outputs": [
    {
     "name": "stdout",
     "output_type": "stream",
     "text": [
      "Largest absolute number: 22\n"
     ]
    }
   ],
   "source": [
    "numbers = [-10, 22, -15, 5]\n",
    "largest_abs = max(numbers, key=abs)\n",
    "print(\"Largest absolute number:\", largest_abs)\n"
   ]
  },
  {
   "cell_type": "markdown",
   "metadata": {},
   "source": [
    "<h2 style='direction:rtl;text-align:right;font-family:samim;'><b>🔸 تمرین ۴</b></h2>"
   ]
  },
  {
   "cell_type": "markdown",
   "metadata": {},
   "source": [
    "<p style='direction:rtl;text-align:right;font-size:18px;font-family:samim;line-height:1.5;'>\n",
    "لیستی از تاپل‌ها دارید که هر تاپل شامل دو عدد است. برای هر تاپل، خارج قسمت و باقی‌مانده تقسیم دو عدد را چاپ کنید.\n",
    "<br>\n",
    "    <br>\n",
    "    $$\\texttt{pairs = [(20, 3), (9, 2), (15, 4)]}$$\n",
    "</p>"
   ]
  },
  {
   "cell_type": "code",
   "execution_count": null,
   "metadata": {},
   "outputs": [],
   "source": []
  },
  {
   "cell_type": "markdown",
   "metadata": {
    "tags": []
   },
   "source": [
    "<h4 style='direction:rtl;text-align:right;font-size:18px;font-family:samim;'>راهنمایی</h4>"
   ]
  },
  {
   "cell_type": "markdown",
   "metadata": {
    "tags": []
   },
   "source": [
    "<p style='direction:rtl;text-align:right;font-size:16px;font-family:samim;'>\n",
    "برای هر تاپل در لیست، از تابعی برای محاسبه خارج قسمت و باقی‌مانده تقسیم استفاده کنید و سپس نتیجه را چاپ کنید.\n",
    "</p>"
   ]
  },
  {
   "cell_type": "markdown",
   "metadata": {
    "jp-MarkdownHeadingCollapsed": true,
    "tags": []
   },
   "source": [
    "<h4 style='direction:rtl;text-align:right;font-size:18px;font-family:samim;'>جواب</h4>"
   ]
  },
  {
   "cell_type": "code",
   "execution_count": 10,
   "metadata": {
    "tags": []
   },
   "outputs": [
    {
     "name": "stdout",
     "output_type": "stream",
     "text": [
      "For 20 divided by 3: Quotient = 6, Remainder = 2\n",
      "For 9 divided by 2: Quotient = 4, Remainder = 1\n",
      "For 15 divided by 4: Quotient = 3, Remainder = 3\n"
     ]
    }
   ],
   "source": [
    "pairs = [(20, 3), (9, 2), (15, 4)]\n",
    "for a, b in pairs:\n",
    "    quotient, remainder = divmod(a, b)\n",
    "    print(f\"For {a} divided by {b}: Quotient = {quotient}, Remainder = {remainder}\")\n",
    "\n",
    "    "
   ]
  },
  {
   "cell_type": "markdown",
   "metadata": {},
   "source": [
    "<h2 style='direction:rtl;text-align:right;font-family:samim;'><b>🔸 تمرین ۵</b></h2>"
   ]
  },
  {
   "cell_type": "markdown",
   "metadata": {},
   "source": [
    "<p style='direction:rtl;text-align:right;font-size:18px;font-family:samim;line-height:1.5;'>\n",
    "دیکشنری‌ای دارید که نام دانشجویان و میانگین نمرات آن‌ها را نگه می‌دارد. برنامه‌ای بنویسید که اگر میانگین نمرات یک دانشجو بین ۱۷ تا ۲۰ باشد، آن را به نزدیک‌ترین عدد صحیح گرد کند و چاپ کند.\n",
    "<br> \n",
    "    \n",
    "$$\\texttt{grades = \\{'Alice': 18.7, 'Bob': 16.5, 'Charlie': 19.3\\}}$$\n",
    "    \n",
    "    \n",
    "\n",
    "</p>"
   ]
  },
  {
   "cell_type": "code",
   "execution_count": null,
   "metadata": {},
   "outputs": [],
   "source": []
  },
  {
   "cell_type": "markdown",
   "metadata": {
    "tags": []
   },
   "source": [
    "<h4 style='direction:rtl;text-align:right;font-size:18px;font-family:samim;'>راهنمایی</h4>"
   ]
  },
  {
   "cell_type": "markdown",
   "metadata": {
    "tags": []
   },
   "source": [
    "<p style='direction:rtl;text-align:right;font-size:16px;font-family:samim;'>\n",
    "برای گرد کردن میانگین نمرات دانشجویان بین ۱۷ تا ۲۰، ابتدا نمرات را بررسی کنید. اگر نمره در این محدوده بود، آن را به نزدیک‌ترین عدد صحیح با استفاده از تابع مناسب گرد کنید و چاپ کنید. اگر نمره خارج از این محدوده بود، آن را به همان شکل چاپ کنید\n",
    "</p>"
   ]
  },
  {
   "cell_type": "markdown",
   "metadata": {
    "jp-MarkdownHeadingCollapsed": true,
    "tags": []
   },
   "source": [
    "<h4 style='direction:rtl;text-align:right;font-size:18px;font-family:samim;'>جواب</h4>"
   ]
  },
  {
   "cell_type": "code",
   "execution_count": 11,
   "metadata": {
    "tags": []
   },
   "outputs": [
    {
     "name": "stdout",
     "output_type": "stream",
     "text": [
      "Alice's rounded grade: 19\n",
      "Bob's grade: 16.5\n",
      "Charlie's rounded grade: 19\n"
     ]
    }
   ],
   "source": [
    "grades = {'Alice': 18.7, 'Bob': 16.5, 'Charlie': 19.3}\n",
    "for name, grade in grades.items():\n",
    "    if 17 <= grade <= 20:\n",
    "        rounded_grade = round(grade)\n",
    "        print(f\"{name}'s rounded grade: {rounded_grade}\")\n",
    "    else:\n",
    "        print(f\"{name}'s grade: {grade}\")\n"
   ]
  },
  {
   "cell_type": "markdown",
   "metadata": {},
   "source": [
    "<h2 style='direction:rtl;text-align:right;font-family:samim;'><b>🔸 تمرین ۶</b></h2>"
   ]
  },
  {
   "cell_type": "markdown",
   "metadata": {},
   "source": [
    "<p style='direction:rtl;text-align:right;font-size:18px;font-family:samim;line-height:1.5;'>\n",
    "لیستی از اعداد دارید. برنامه‌ای بنویسید که برای هر عدد در لیست، یک عدد مختلط بسازد که بخش حقیقی آن آن عدد و بخش موهومی آن دو برابر آن عدد باشد، سپس نتایج را چاپ کند\n",
    "<br>\n",
    "    $$\\texttt{numbers = [2, 3, 5]}$$\n",
    "</p>"
   ]
  },
  {
   "cell_type": "code",
   "execution_count": null,
   "metadata": {},
   "outputs": [],
   "source": []
  },
  {
   "cell_type": "markdown",
   "metadata": {
    "tags": []
   },
   "source": [
    "<h4 style='direction:rtl;text-align:right;font-size:18px;font-family:samim;'>راهنمایی</h4>"
   ]
  },
  {
   "cell_type": "markdown",
   "metadata": {
    "tags": []
   },
   "source": [
    "<p style='direction:rtl;text-align:right;font-size:16px;font-family:samim;'>\n",
    "با استفاده از یک حلقه، هر عدد از لیست را انتخاب کرده و سپس با استفاده از تابع مناسب، آن را به عدد مختلط تبدیل کنید. بخش حقیقی عدد را همان عدد اصلی و بخش موهومی را دو برابر آن عدد قرار دهید.\n",
    "</p>"
   ]
  },
  {
   "cell_type": "markdown",
   "metadata": {
    "jp-MarkdownHeadingCollapsed": true,
    "tags": []
   },
   "source": [
    "<h4 style='direction:rtl;text-align:right;font-size:18px;font-family:samim;'>جواب</h4>"
   ]
  },
  {
   "cell_type": "code",
   "execution_count": 12,
   "metadata": {
    "tags": []
   },
   "outputs": [
    {
     "name": "stdout",
     "output_type": "stream",
     "text": [
      "Complex number: (2+4j)\n",
      "Complex number: (3+6j)\n",
      "Complex number: (5+10j)\n"
     ]
    }
   ],
   "source": [
    "numbers = [2, 3, 5]\n",
    "complex_numbers = [complex(num, 2 * num) for num in numbers]\n",
    "for c in complex_numbers:\n",
    "    print(\"Complex number:\", c)\n"
   ]
  },
  {
   "cell_type": "markdown",
   "metadata": {},
   "source": [
    "<h2 style='direction:rtl;text-align:right;font-family:samim;'><b>🔸 تمرین ۷</b></h2>"
   ]
  },
  {
   "cell_type": "markdown",
   "metadata": {},
   "source": [
    "<p style='direction:rtl;text-align:right;font-size:18px;font-family:samim;line-height:1.5;'>\n",
    "مجموعه‌ای از اعداد دارید. برنامه‌ای بنویسید که برای هر عدد که بزرگ‌تر از ۵ است، آن را به توان ۳ برساند و نتایج را چاپ کند.\n",
    "<br>\n",
    "    $$\\texttt{numbers = \\{4, 6, 1, 9\\}}$$\n",
    "\n",
    "</p>"
   ]
  },
  {
   "cell_type": "code",
   "execution_count": null,
   "metadata": {},
   "outputs": [],
   "source": []
  },
  {
   "cell_type": "markdown",
   "metadata": {
    "tags": []
   },
   "source": [
    "<h4 style='direction:rtl;text-align:right;font-size:18px;font-family:samim;'>راهنمایی</h4>"
   ]
  },
  {
   "cell_type": "markdown",
   "metadata": {
    "tags": []
   },
   "source": [
    "<p style='direction:rtl;text-align:right;font-size:16px;font-family:samim;'>\n",
    "برای هر عدد بزرگ‌تر از ۵ در مجموعه، آن را به توان ۳ برسانید و نتیجه را چاپ کنید. از یک حلقه برای بررسی هر عدد و از تابع مناسب برای محاسبه توان استفاده کنید.\n",
    "</p>"
   ]
  },
  {
   "cell_type": "markdown",
   "metadata": {
    "jp-MarkdownHeadingCollapsed": true,
    "tags": []
   },
   "source": [
    "<h4 style='direction:rtl;text-align:right;font-size:18px;font-family:samim;'>جواب</h4>"
   ]
  },
  {
   "cell_type": "code",
   "execution_count": 13,
   "metadata": {
    "tags": []
   },
   "outputs": [
    {
     "name": "stdout",
     "output_type": "stream",
     "text": [
      "Power of three for 6: 216\n",
      "Power of three for 9: 729\n"
     ]
    }
   ],
   "source": [
    "numbers = {4, 6, 1, 9}\n",
    "for num in numbers:\n",
    "    if num > 5:\n",
    "        print(f\"Power of three for {num}: {pow(num, 3)}\")\n"
   ]
  },
  {
   "cell_type": "markdown",
   "metadata": {},
   "source": [
    "<h2 style='direction:rtl;text-align:right;font-family:samim;'><b>🔸 تمرین ۸</b></h2>"
   ]
  },
  {
   "cell_type": "markdown",
   "metadata": {},
   "source": [
    "<p style='direction:rtl;text-align:right;font-size:18px;font-family:samim;line-height:1.5;'>\n",
    "داده شامل لیستی از دوتایی‌های نام و سن است. برنامه‌ای بنویسید که افراد بالای ۲۱ سال را یافته و اسامی آن‌ها را به ترتیب الفبایی چاپ کند.\n",
    "<br>\n",
    "   $$\\texttt{people = [(\"John\", 28), (\"Anna\", 20), (\"Mike\", 22), (\"Sara\", 19), (\"Laura\", 25)]}$$\n",
    "</p>"
   ]
  },
  {
   "cell_type": "code",
   "execution_count": null,
   "metadata": {},
   "outputs": [],
   "source": []
  },
  {
   "cell_type": "markdown",
   "metadata": {
    "tags": []
   },
   "source": [
    "<h4 style='direction:rtl;text-align:right;font-size:18px;font-family:samim;'>راهنمایی</h4>"
   ]
  },
  {
   "cell_type": "markdown",
   "metadata": {
    "tags": []
   },
   "source": [
    "<p style='direction:rtl;text-align:right;font-size:16px;font-family:samim;'>\n",
    "ابتدا از یک لیست استفاده کنید تا افرادی که این شرط را دارند فیلتر کنید. سپس اسامی این افراد را با تابع مناسب مرتب کنید و چاپ کنید.\n",
    "</p>"
   ]
  },
  {
   "cell_type": "markdown",
   "metadata": {
    "jp-MarkdownHeadingCollapsed": true,
    "tags": []
   },
   "source": [
    "<h4 style='direction:rtl;text-align:right;font-size:18px;font-family:samim;'>جواب</h4>"
   ]
  },
  {
   "cell_type": "code",
   "execution_count": 1,
   "metadata": {
    "tags": []
   },
   "outputs": [
    {
     "name": "stdout",
     "output_type": "stream",
     "text": [
      "Names of people over 21, sorted: ['John', 'Laura', 'Mike']\n"
     ]
    }
   ],
   "source": [
    "people = [(\"John\", 28), (\"Anna\", 20), (\"Mike\", 22), (\"Sara\", 19), (\"Laura\", 25)]\n",
    "names_over_21 = [name for name, age in people if age > 21]\n",
    "sorted_names = sorted(names_over_21)\n",
    "print(\"Names of people over 21, sorted:\", sorted_names)\n"
   ]
  },
  {
   "cell_type": "markdown",
   "metadata": {},
   "source": [
    "<h2 style='direction:rtl;text-align:right;font-family:samim;'><b>🔸 تمرین ۹</b></h2>"
   ]
  },
  {
   "cell_type": "markdown",
   "metadata": {},
   "source": [
    "<p style='direction:rtl;text-align:right;font-size:18px;font-family:samim;line-height:1.5;'>\n",
    "یک دیکشنری از اسامی و سن‌ها داده شده است. برنامه‌ای بنویسید که بزرگترین سن را بیابد.\n",
    "<br>\n",
    "    <br>\n",
    "    $$\\texttt{ages = \\{'Alice': 22, 'Bob': 27, 'Charlie': 18, 'David': 31\\}}$$\n",
    "\n",
    "</p>"
   ]
  },
  {
   "cell_type": "code",
   "execution_count": null,
   "metadata": {},
   "outputs": [],
   "source": []
  },
  {
   "cell_type": "markdown",
   "metadata": {
    "tags": []
   },
   "source": [
    "<h4 style='direction:rtl;text-align:right;font-size:18px;font-family:samim;'>راهنمایی</h4>"
   ]
  },
  {
   "cell_type": "markdown",
   "metadata": {
    "tags": []
   },
   "source": [
    "<p style='direction:rtl;text-align:right;font-size:16px;font-family:samim;'>\n",
    "برای یافتن بزرگ‌ترین سن از یک دیکشنری، مقادیر سن‌ها را استخراج و بزرگ‌ترین مقدار را پیدا کنید.\n",
    "</p>"
   ]
  },
  {
   "cell_type": "markdown",
   "metadata": {
    "jp-MarkdownHeadingCollapsed": true,
    "tags": []
   },
   "source": [
    "<h4 style='direction:rtl;text-align:right;font-size:18px;font-family:samim;'>جواب</h4>"
   ]
  },
  {
   "cell_type": "code",
   "execution_count": 2,
   "metadata": {
    "tags": []
   },
   "outputs": [
    {
     "name": "stdout",
     "output_type": "stream",
     "text": [
      "Maximum age is: 31\n"
     ]
    }
   ],
   "source": [
    "ages = {'Alice': 22, 'Bob': 27, 'Charlie': 18, 'David': 31}\n",
    "max_age = max(ages.values())\n",
    "print(\"Maximum age is:\", max_age)"
   ]
  },
  {
   "cell_type": "markdown",
   "metadata": {},
   "source": [
    "<h2 style='direction:rtl;text-align:right;font-family:samim;'><b>🔸 تمرین ۱۰</b></h2>"
   ]
  },
  {
   "cell_type": "markdown",
   "metadata": {},
   "source": [
    "<p style='direction:rtl;text-align:right;font-size:18px;font-family:samim;line-height:1.5;'>\n",
    "یک لیست از رشته‌هایی که نمایانگر اعداد هستند داده شده است. این اعداد را به صورت صحیح تبدیل کرده و میانگین آن‌ها را محاسبه کنید.\n",
    "<br>\n",
    "    <br>\n",
    "    $$\\texttt{numbers = [\"10\", \"20\", \"30\", \"40\"]}$$\n",
    "</p>"
   ]
  },
  {
   "cell_type": "code",
   "execution_count": null,
   "metadata": {},
   "outputs": [],
   "source": []
  },
  {
   "cell_type": "markdown",
   "metadata": {
    "tags": []
   },
   "source": [
    "<h4 style='direction:rtl;text-align:right;font-size:18px;font-family:samim;'>راهنمایی</h4>"
   ]
  },
  {
   "cell_type": "markdown",
   "metadata": {
    "tags": []
   },
   "source": [
    "<p style='direction:rtl;text-align:right;font-size:16px;font-family:samim;'>\n",
    "ابتدا رشته‌ها را با استفاده از یک تابع مناسب به اعداد صحیح تبدیل کنید و یک لیست جدید بسازید. سپس مجموع این اعداد را محاسبه کرده و بر تعداد آنها تقسیم کنید تا میانگین به‌دست آید.\n",
    "</p>"
   ]
  },
  {
   "cell_type": "markdown",
   "metadata": {
    "jp-MarkdownHeadingCollapsed": true,
    "tags": []
   },
   "source": [
    "<h4 style='direction:rtl;text-align:right;font-size:18px;font-family:samim;'>جواب</h4>"
   ]
  },
  {
   "cell_type": "code",
   "execution_count": 3,
   "metadata": {
    "tags": []
   },
   "outputs": [
    {
     "name": "stdout",
     "output_type": "stream",
     "text": [
      "Average is: 25.0\n"
     ]
    }
   ],
   "source": [
    "numbers = [\"10\", \"20\", \"30\", \"40\"]\n",
    "int_numbers = [int(num) for num in numbers]\n",
    "average = sum(int_numbers) / len(int_numbers)\n",
    "print(\"Average is:\", average)"
   ]
  },
  {
   "cell_type": "markdown",
   "metadata": {},
   "source": [
    "<h2 style='direction:rtl;text-align:right;font-family:samim;'><b>🔸 تمرین ۱۱</b></h2>"
   ]
  },
  {
   "cell_type": "markdown",
   "metadata": {},
   "source": [
    "<p style='direction:rtl;text-align:right;font-size:18px;font-family:samim;line-height:1.5;'>\n",
    "یک لیست از اعداد داده شده است. برنامه‌ای بنویسید که تعداد اعدادی که بزرگتر از میانگین کل اعداد هستند را محاسبه کند. \n",
    "<br>\n",
    "    <br>\n",
    "    $$\\texttt{numbers = [10, 15, 20, 25, 30]}$$\n",
    "</p>"
   ]
  },
  {
   "cell_type": "code",
   "execution_count": null,
   "metadata": {},
   "outputs": [],
   "source": []
  },
  {
   "cell_type": "markdown",
   "metadata": {
    "tags": []
   },
   "source": [
    "<h4 style='direction:rtl;text-align:right;font-size:18px;font-family:samim;'>راهنمایی</h4>"
   ]
  },
  {
   "cell_type": "markdown",
   "metadata": {
    "tags": []
   },
   "source": [
    "<p style='direction:rtl;text-align:right;font-size:16px;font-family:samim;'>\n",
    " ابتدا میانگین را محاسبه کنید. سپس از یک حلقه برای شمارش اعداد بزرگ‌تر از میانگین استفاده کنید.\n",
    "</p>"
   ]
  },
  {
   "cell_type": "markdown",
   "metadata": {
    "jp-MarkdownHeadingCollapsed": true,
    "tags": []
   },
   "source": [
    "<h4 style='direction:rtl;text-align:right;font-size:18px;font-family:samim;'>جواب</h4>"
   ]
  },
  {
   "cell_type": "code",
   "execution_count": 4,
   "metadata": {
    "tags": []
   },
   "outputs": [
    {
     "name": "stdout",
     "output_type": "stream",
     "text": [
      "Count of numbers above average: 2\n"
     ]
    }
   ],
   "source": [
    "numbers = [10, 15, 20, 25, 30]\n",
    "average = sum(numbers) / len(numbers)\n",
    "count_above_average = sum(1 for num in numbers if num > average)\n",
    "print(\"Count of numbers above average:\", count_above_average)"
   ]
  },
  {
   "cell_type": "markdown",
   "metadata": {},
   "source": [
    "<h2 style='direction:rtl;text-align:right;font-family:samim;'><b>🔸 تمرین ۱۲</b></h2>"
   ]
  },
  {
   "cell_type": "markdown",
   "metadata": {},
   "source": [
    "<p style='direction:rtl;text-align:right;font-size:18px;font-family:samim;line-height:1.5;'>\n",
    "یک لیست از اعداد داده شده است. برنامه‌ای بنویسید که اعداد را بر اساس اینکه زوج یا فرد هستند، در دو لیست مجزا قرار دهد. سپس مجموع هر لیست را محاسبه کنید.\n",
    "<br>\n",
    "    $$\\texttt{numbers = [1, 2, 3, 4, 5, 6, 7, 8, 9]}$$\n",
    "</p>"
   ]
  },
  {
   "cell_type": "code",
   "execution_count": null,
   "metadata": {},
   "outputs": [],
   "source": []
  },
  {
   "cell_type": "markdown",
   "metadata": {
    "tags": []
   },
   "source": [
    "<h4 style='direction:rtl;text-align:right;font-size:18px;font-family:samim;'>راهنمایی</h4>"
   ]
  },
  {
   "cell_type": "markdown",
   "metadata": {
    "tags": []
   },
   "source": [
    "<p style='direction:rtl;text-align:right;font-size:16px;font-family:samim;'>\n",
    "از دوتا لیست مجزا برای فیلتر کردن اعداد زوج و فرد استفاده کنید. سپس مجموع هر یک از این لیست‌ها را محاسبه کنید و نتایج را چاپ کنید.\n",
    "</p>"
   ]
  },
  {
   "cell_type": "markdown",
   "metadata": {
    "jp-MarkdownHeadingCollapsed": true,
    "tags": []
   },
   "source": [
    "<h4 style='direction:rtl;text-align:right;font-size:18px;font-family:samim;'>جواب</h4>"
   ]
  },
  {
   "cell_type": "code",
   "execution_count": 5,
   "metadata": {
    "tags": []
   },
   "outputs": [
    {
     "name": "stdout",
     "output_type": "stream",
     "text": [
      "Sum of evens: 20 Sum of odds: 25\n"
     ]
    }
   ],
   "source": [
    "numbers = [1, 2, 3, 4, 5, 6, 7, 8, 9]\n",
    "evens = [num for num in numbers if num % 2 == 0]\n",
    "odds = [num for num in numbers if num % 2 != 0]\n",
    "sum_evens = sum(evens)\n",
    "sum_odds = sum(odds)\n",
    "print(\"Sum of evens:\", sum_evens, \"Sum of odds:\", sum_odds)"
   ]
  },
  {
   "cell_type": "markdown",
   "metadata": {},
   "source": [
    "<h2 style='direction:rtl;text-align:right;font-family:samim;'><b>🔸 تمرین ۱۳</b></h2>"
   ]
  },
  {
   "cell_type": "markdown",
   "metadata": {},
   "source": [
    "<p style='direction:rtl;text-align:right;font-size:18px;font-family:samim;line-height:1.5;'>\n",
    "لیستی از نام‌ها و لیست دیگری از سن‌ها دارید. برنامه‌ای بنویسید که یک دیکشنری از نام و سن ایجاد کند.\n",
    "<br>\n",
    "    <br>\n",
    "    $$\\texttt{names = [\"Alice\", \"Bob\", \"Charlie\"]}$$\n",
    "    $$\\texttt{ages = [25, 30, 35]}$$\n",
    "</p>"
   ]
  },
  {
   "cell_type": "code",
   "execution_count": null,
   "metadata": {},
   "outputs": [],
   "source": []
  },
  {
   "cell_type": "markdown",
   "metadata": {
    "tags": []
   },
   "source": [
    "<h4 style='direction:rtl;text-align:right;font-size:18px;font-family:samim;'>راهنمایی</h4>"
   ]
  },
  {
   "cell_type": "markdown",
   "metadata": {
    "tags": []
   },
   "source": [
    "<p style='direction:rtl;text-align:right;font-size:16px;font-family:samim;'>\n",
    "برای انتخاب نظیر به نظیر از دستوری که در درس به مهم بودن آن اشاره کردیم استفاده کنی و سپس آنرا به دیکشنری تبدیل کنید.\n",
    "</p>"
   ]
  },
  {
   "cell_type": "markdown",
   "metadata": {
    "jp-MarkdownHeadingCollapsed": true,
    "tags": []
   },
   "source": [
    "<h4 style='direction:rtl;text-align:right;font-size:18px;font-family:samim;'>جواب</h4>"
   ]
  },
  {
   "cell_type": "code",
   "execution_count": 14,
   "metadata": {
    "tags": []
   },
   "outputs": [
    {
     "name": "stdout",
     "output_type": "stream",
     "text": [
      "{'Alice': 25, 'Bob': 30, 'Charlie': 35}\n"
     ]
    }
   ],
   "source": [
    "names = [\"Alice\", \"Bob\", \"Charlie\"]\n",
    "ages = [25, 30, 35]\n",
    "info = dict(zip(names, ages))\n",
    "print(info)\n"
   ]
  },
  {
   "cell_type": "markdown",
   "metadata": {},
   "source": [
    "<h2 style='direction:rtl;text-align:right;font-family:samim;'><b>🔸 تمرین ۱۴</b></h2>"
   ]
  },
  {
   "cell_type": "markdown",
   "metadata": {},
   "source": [
    "<p style='direction:rtl;text-align:right;font-size:18px;font-family:samim;line-height:1.5;'>\n",
    "یک لیست از رشته‌ها دارید. برنامه‌ای بنویسید که بررسی کند آیا تمامی رشته‌ها با حرف 'A' شروع می‌شوند یا خیر.\n",
    "\n",
    "<br>\n",
    "    <br>\n",
    "    $$\\texttt{strings = [\"Apple\", \"Apricot\", \"Banana\", \"Avocado\"]}$$\n",
    "</p>"
   ]
  },
  {
   "cell_type": "code",
   "execution_count": null,
   "metadata": {},
   "outputs": [],
   "source": []
  },
  {
   "cell_type": "markdown",
   "metadata": {
    "tags": []
   },
   "source": [
    "<h4 style='direction:rtl;text-align:right;font-size:18px;font-family:samim;'>راهنمایی</h4>"
   ]
  },
  {
   "cell_type": "markdown",
   "metadata": {
    "tags": []
   },
   "source": [
    "<p style='direction:rtl;text-align:right;font-size:16px;font-family:samim;'>\n",
    "برای هر آیتم در لیست با استفاده از اتریبیوت مناسب که در درس رشته آموختید بررسی شرط گفته شده در سوال را انجام دهید و سپس با تابعی مناسب بررسی کنید که آیا همه موارد بدست آمده صحیح هستند یا خیر\n",
    "</p>"
   ]
  },
  {
   "cell_type": "markdown",
   "metadata": {
    "jp-MarkdownHeadingCollapsed": true,
    "tags": []
   },
   "source": [
    "<h4 style='direction:rtl;text-align:right;font-size:18px;font-family:samim;'>جواب</h4>"
   ]
  },
  {
   "cell_type": "code",
   "execution_count": 15,
   "metadata": {
    "tags": []
   },
   "outputs": [
    {
     "name": "stdout",
     "output_type": "stream",
     "text": [
      "All start with 'A': False\n"
     ]
    }
   ],
   "source": [
    "strings = [\"Apple\", \"Apricot\", \"Banana\", \"Avocado\"]\n",
    "all_start_with_a = all(s.startswith(\"A\") for s in strings)\n",
    "print(\"All start with 'A':\", all_start_with_a)"
   ]
  },
  {
   "cell_type": "markdown",
   "metadata": {},
   "source": [
    "<h2 style='direction:rtl;text-align:right;font-family:samim;'><b>🔸 تمرین ۱۵</b></h2>"
   ]
  },
  {
   "cell_type": "markdown",
   "metadata": {},
   "source": [
    "<p style='direction:rtl;text-align:right;font-size:18px;font-family:samim;line-height:1.5;'>\n",
    "دو لیست دارید، یکی نام‌ها و دیگری شغل‌ها. برنامه‌ای بنویسید که هر نام را به شغل متناظرش متصل کند.\n",
    "<br>\n",
    "    <br>\n",
    "$$\\texttt{names = [\"Alice\", \"Bob\", \"Charlie\"]}$$\n",
    "$$\\texttt{jobs = [\"Engineer\", \"Doctor\", \"Artist\"]}$$\n",
    "</p>"
   ]
  },
  {
   "cell_type": "code",
   "execution_count": null,
   "metadata": {},
   "outputs": [],
   "source": []
  },
  {
   "cell_type": "markdown",
   "metadata": {
    "tags": []
   },
   "source": [
    "<h4 style='direction:rtl;text-align:right;font-size:18px;font-family:samim;'>راهنمایی</h4>"
   ]
  },
  {
   "cell_type": "markdown",
   "metadata": {
    "tags": []
   },
   "source": [
    "<p style='direction:rtl;text-align:right;font-size:16px;font-family:samim;'>\n",
    "برای انتخاب نظیر به نظیر از دستوری که در درس به مهم بودن آن اشاره کردیم استفاده کنید.\n",
    "</p>"
   ]
  },
  {
   "cell_type": "markdown",
   "metadata": {
    "jp-MarkdownHeadingCollapsed": true,
    "tags": []
   },
   "source": [
    "<h4 style='direction:rtl;text-align:right;font-size:18px;font-family:samim;'>جواب</h4>"
   ]
  },
  {
   "cell_type": "code",
   "execution_count": 16,
   "metadata": {
    "tags": []
   },
   "outputs": [
    {
     "name": "stdout",
     "output_type": "stream",
     "text": [
      "[('Alice', 'Engineer'), ('Bob', 'Doctor'), ('Charlie', 'Artist')]\n"
     ]
    }
   ],
   "source": [
    "names = [\"Alice\", \"Bob\", \"Charlie\"]\n",
    "jobs = [\"Engineer\", \"Doctor\", \"Artist\"]\n",
    "name_job_pairs = list(zip(names, jobs))\n",
    "print(name_job_pairs)\n"
   ]
  },
  {
   "cell_type": "markdown",
   "metadata": {},
   "source": [
    "<h2 style='direction:rtl;text-align:right;font-family:samim;'><b>🔸 تمرین ۱۶</b></h2>"
   ]
  },
  {
   "cell_type": "markdown",
   "metadata": {},
   "source": [
    "<p style='direction:rtl;text-align:right;font-size:18px;font-family:samim;line-height:1.5;'>\n",
    "  لیستی از داده‌های متفادت دارید. برنامه‌ای بنویسید که بررسی کند آیا هر عنصر عدد است یا خیر و نتایج را چاپ کند.\n",
    "<br>\n",
    "    <br>\n",
    "    $$\\texttt{mixed_list = [10, \"hello\", 20, \"world\", 30]}$$\n",
    "</p>"
   ]
  },
  {
   "cell_type": "code",
   "execution_count": null,
   "metadata": {},
   "outputs": [],
   "source": []
  },
  {
   "cell_type": "markdown",
   "metadata": {
    "tags": []
   },
   "source": [
    "<h4 style='direction:rtl;text-align:right;font-size:18px;font-family:samim;'>راهنمایی</h4>"
   ]
  },
  {
   "cell_type": "markdown",
   "metadata": {
    "tags": []
   },
   "source": [
    "<p style='direction:rtl;text-align:right;font-size:16px;font-family:samim;'>\n",
    "یکی از تابع هایی که تایپ هر المان رو میشد با آن بررسی کرد isinstance بود پس به صورت درست از آن بهره ببرید.\n",
    "</p>"
   ]
  },
  {
   "cell_type": "markdown",
   "metadata": {
    "jp-MarkdownHeadingCollapsed": true,
    "tags": []
   },
   "source": [
    "<h4 style='direction:rtl;text-align:right;font-size:18px;font-family:samim;'>جواب</h4>"
   ]
  },
  {
   "cell_type": "code",
   "execution_count": 17,
   "metadata": {
    "tags": []
   },
   "outputs": [
    {
     "name": "stdout",
     "output_type": "stream",
     "text": [
      "10 is an integer\n",
      "hello is not an integer\n",
      "20 is an integer\n",
      "world is not an integer\n",
      "30 is an integer\n"
     ]
    }
   ],
   "source": [
    "mixed_list = [10, \"hello\", 20, \"world\", 30]\n",
    "for item in mixed_list:\n",
    "    if isinstance(item, int):\n",
    "        print(f\"{item} is an integer\")\n",
    "    else:\n",
    "        print(f\"{item} is not an integer\")\n"
   ]
  },
  {
   "cell_type": "markdown",
   "metadata": {},
   "source": [
    "<h2 style='direction:rtl;text-align:right;font-family:samim;'><b>🔸 تمرین ۱۷</b></h2>"
   ]
  },
  {
   "cell_type": "markdown",
   "metadata": {},
   "source": [
    "<p style='direction:rtl;text-align:right;font-size:18px;font-family:samim;line-height:1.5;'>\n",
    "یک لیست از اعداد دارید. برنامه‌ای بنویسید که این اعداد را به ترتیب صعودی مرتب کند و فقط اعداد در رنج ۵ تا ۱۵ را چاپ کند    \n",
    "    <br>\n",
    "    <br>\n",
    "    $$\\texttt{numbers = [20, 15, 10, 5, 25, 30]}$$\n",
    "</p>"
   ]
  },
  {
   "cell_type": "code",
   "execution_count": null,
   "metadata": {},
   "outputs": [],
   "source": []
  },
  {
   "cell_type": "markdown",
   "metadata": {
    "tags": []
   },
   "source": [
    "<h4 style='direction:rtl;text-align:right;font-size:18px;font-family:samim;'>راهنمایی</h4>"
   ]
  },
  {
   "cell_type": "markdown",
   "metadata": {
    "tags": []
   },
   "source": [
    "<p style='direction:rtl;text-align:right;font-size:16px;font-family:samim;'>\n",
    "ابتدا از دستوری برای مرتب سازی استفاده کنید و سپس رنج خواسته شده را با اسلاسینگ جدا کنید.\n",
    "</p>"
   ]
  },
  {
   "cell_type": "markdown",
   "metadata": {
    "jp-MarkdownHeadingCollapsed": true,
    "tags": []
   },
   "source": [
    "<h4 style='direction:rtl;text-align:right;font-size:18px;font-family:samim;'>جواب</h4>"
   ]
  },
  {
   "cell_type": "code",
   "execution_count": 18,
   "metadata": {
    "tags": []
   },
   "outputs": [
    {
     "name": "stdout",
     "output_type": "stream",
     "text": [
      "Selected numbers: [10, 15, 20]\n"
     ]
    }
   ],
   "source": [
    "numbers = [20, 15, 10, 5, 25, 30]\n",
    "sorted_numbers = sorted(numbers)\n",
    "selected_numbers = sorted_numbers[1:4]  \n",
    "print(\"Selected numbers:\", selected_numbers)\n"
   ]
  },
  {
   "cell_type": "markdown",
   "metadata": {},
   "source": [
    "<h2 style='direction:rtl;text-align:right;font-family:samim;'><b>🔸 تمرین ۱۸</b></h2>"
   ]
  },
  {
   "cell_type": "markdown",
   "metadata": {},
   "source": [
    "<p style='direction:rtl;text-align:right;font-size:18px;font-family:samim;line-height:1.5;'>\n",
    "کدی بنویسید که یک لیست از کلمات دارید و می‌خواهید هر کلمه را به همراه اندیس آن چاپ کنید.\n",
    "\n",
    "<br>\n",
    "<br>\n",
    "$$\\texttt{words = [\"apple\", \"banana\", \"cherry\"]}$$\n",
    "</p>"
   ]
  },
  {
   "cell_type": "code",
   "execution_count": null,
   "metadata": {},
   "outputs": [],
   "source": []
  },
  {
   "cell_type": "markdown",
   "metadata": {
    "tags": []
   },
   "source": [
    "<h4 style='direction:rtl;text-align:right;font-size:18px;font-family:samim;'>راهنمایی</h4>"
   ]
  },
  {
   "cell_type": "markdown",
   "metadata": {
    "tags": []
   },
   "source": [
    "<p style='direction:rtl;text-align:right;font-size:16px;font-family:samim;'>\n",
    "با استفاده حلقه با تابعی مناسب می توانستید هم به اندیس و هم به خود المان به صورت یکجا دسترسی داشته باشید.\n",
    "</p>"
   ]
  },
  {
   "cell_type": "markdown",
   "metadata": {
    "jp-MarkdownHeadingCollapsed": true,
    "tags": []
   },
   "source": [
    "<h4 style='direction:rtl;text-align:right;font-size:18px;font-family:samim;'>جواب</h4>"
   ]
  },
  {
   "cell_type": "code",
   "execution_count": 19,
   "metadata": {
    "tags": []
   },
   "outputs": [
    {
     "name": "stdout",
     "output_type": "stream",
     "text": [
      "Index 0: apple\n",
      "Index 1: banana\n",
      "Index 2: cherry\n"
     ]
    }
   ],
   "source": [
    "words = [\"apple\", \"banana\", \"cherry\"]\n",
    "for index, word in enumerate(words):\n",
    "    print(f\"Index {index}: {word}\")\n"
   ]
  },
  {
   "cell_type": "markdown",
   "metadata": {},
   "source": [
    "<h2 style='direction:rtl;text-align:right;font-family:samim;'><b>🔸 تمرین ۱۹</b></h2>"
   ]
  },
  {
   "cell_type": "markdown",
   "metadata": {},
   "source": [
    "<p style='direction:rtl;text-align:right;font-size:18px;font-family:samim;line-height:1.5;'>\n",
    "  لیستی از داده‌های متفاوت دارید. برنامه‌ای بنویسید که تعداد اعداد صحیح موجود در لیست را بشمارد.  \n",
    "<br>\n",
    "    <br>\n",
    "    $$\\texttt{mixed_list = [1, \"hello\", 2.5, 3, \"world\", 4]}$$\n",
    "</p>"
   ]
  },
  {
   "cell_type": "code",
   "execution_count": null,
   "metadata": {},
   "outputs": [],
   "source": []
  },
  {
   "cell_type": "markdown",
   "metadata": {
    "tags": []
   },
   "source": [
    "<h4 style='direction:rtl;text-align:right;font-size:18px;font-family:samim;'>راهنمایی</h4>"
   ]
  },
  {
   "cell_type": "markdown",
   "metadata": {
    "tags": []
   },
   "source": [
    "<p style='direction:rtl;text-align:right;font-size:16px;font-family:samim;'>\n",
    "یکی از تابع هایی که تایپ هر المان رو میشد با آن بررسی کرد isinstance بود پس به صورت درست از آن بهره ببرید.\n",
    "</p>"
   ]
  },
  {
   "cell_type": "markdown",
   "metadata": {
    "jp-MarkdownHeadingCollapsed": true,
    "tags": []
   },
   "source": [
    "<h4 style='direction:rtl;text-align:right;font-size:18px;font-family:samim;'>جواب</h4>"
   ]
  },
  {
   "cell_type": "code",
   "execution_count": 20,
   "metadata": {
    "tags": []
   },
   "outputs": [
    {
     "name": "stdout",
     "output_type": "stream",
     "text": [
      "Number of integers in the list: 3\n"
     ]
    }
   ],
   "source": [
    "mixed_list = [1, \"hello\", 2.5, 3, \"world\", 4]\n",
    "int_count = sum(1 for item in mixed_list if isinstance(item, int))\n",
    "print(\"Number of integers in the list:\", int_count)\n"
   ]
  },
  {
   "cell_type": "markdown",
   "metadata": {},
   "source": [
    "<h2 style='direction:rtl;text-align:right;font-family:samim;'><b>🔸 تمرین ۲۰</b></h2>"
   ]
  },
  {
   "cell_type": "markdown",
   "metadata": {},
   "source": [
    "<p style='direction:rtl;text-align:right;font-size:18px;font-family:samim;line-height:1.5;'>\n",
    "لیستی از داده‌ها دارید. برنامه‌ای بنویسید که تعیین کند آیا هر گونه عدد اعشاری در لیست وجود دارد یا خیر.   \n",
    "<br>\n",
    "    <br>\n",
    "    $$\\texttt{data_list = [1, 2, 3.5, \"text\", 4, 5.5, \"another text\"]}$$\n",
    "</p>"
   ]
  },
  {
   "cell_type": "code",
   "execution_count": null,
   "metadata": {},
   "outputs": [],
   "source": []
  },
  {
   "cell_type": "markdown",
   "metadata": {
    "tags": []
   },
   "source": [
    "<h4 style='direction:rtl;text-align:right;font-size:18px;font-family:samim;'>راهنمایی</h4>"
   ]
  },
  {
   "cell_type": "markdown",
   "metadata": {
    "tags": []
   },
   "source": [
    "<p style='direction:rtl;text-align:right;font-size:16px;font-family:samim;'>\n",
    "<p style='direction:rtl;text-align:right;font-size:16px;font-family:samim;'>\n",
    "یکی از تابع هایی که تایپ هر المان رو میشد با آن بررسی کرد isinstance بود پس به صورت درست از آن بهره ببرید.\n",
    "</p>"
   ]
  },
  {
   "cell_type": "markdown",
   "metadata": {
    "jp-MarkdownHeadingCollapsed": true,
    "tags": []
   },
   "source": [
    "<h4 style='direction:rtl;text-align:right;font-size:18px;font-family:samim;'>جواب</h4>"
   ]
  },
  {
   "cell_type": "code",
   "execution_count": 21,
   "metadata": {},
   "outputs": [
    {
     "name": "stdout",
     "output_type": "stream",
     "text": [
      "Is there any float number in the list: True\n"
     ]
    }
   ],
   "source": [
    "data_list = [1, 2, 3.5, \"text\", 4, 5.5, \"another text\"]\n",
    "has_float = any(isinstance(item, float) for item in data_list)\n",
    "print(\"Is there any float number in the list:\", has_float)\n"
   ]
  },
  {
   "cell_type": "markdown",
   "metadata": {},
   "source": [
    "<h2 style='direction:rtl;text-align:right;font-family:samim;'><b>🔸 تمرین ۲۱</b></h2>"
   ]
  },
  {
   "cell_type": "markdown",
   "metadata": {},
   "source": [
    "<p style='direction:rtl;text-align:right;font-size:18px;font-family:samim;line-height:1.5;'>\n",
    "فرض کنید لیستی از اعداد دارید. برنامه‌ای بنویسید که اندیس همه اعداد بزرگتر از ۵۰ را چاپ کند.\n",
    "<br>\n",
    "    <br>\n",
    "    $$\\texttt{numbers = [45, 55, 60, 40, 80, 20, 100]}$$\n",
    "</p>"
   ]
  },
  {
   "cell_type": "code",
   "execution_count": null,
   "metadata": {},
   "outputs": [],
   "source": []
  },
  {
   "cell_type": "markdown",
   "metadata": {
    "tags": []
   },
   "source": [
    "<h4 style='direction:rtl;text-align:right;font-size:18px;font-family:samim;'>راهنمایی</h4>"
   ]
  },
  {
   "cell_type": "markdown",
   "metadata": {
    "tags": []
   },
   "source": [
    "<p style='direction:rtl;text-align:right;font-size:16px;font-family:samim;'>\n",
    "با استفاده حلقه با تابعی مناسب می توانستید هم به اندیس و هم به خود المان به صورت یکجا دسترسی داشته باشید.\n",
    "    سپس شرط را بررسی کنید.\n",
    "</p>"
   ]
  },
  {
   "cell_type": "markdown",
   "metadata": {
    "jp-MarkdownHeadingCollapsed": true,
    "tags": []
   },
   "source": [
    "<h4 style='direction:rtl;text-align:right;font-size:18px;font-family:samim;'>جواب</h4>"
   ]
  },
  {
   "cell_type": "code",
   "execution_count": 22,
   "metadata": {},
   "outputs": [
    {
     "name": "stdout",
     "output_type": "stream",
     "text": [
      "Number 55 at index 1\n",
      "Number 60 at index 2\n",
      "Number 80 at index 4\n",
      "Number 100 at index 6\n"
     ]
    }
   ],
   "source": [
    "numbers = [45, 55, 60, 40, 80, 20, 100]\n",
    "for index, number in enumerate(numbers):\n",
    "    if number > 50:\n",
    "        print(f\"Number {number} at index {index}\")\n"
   ]
  },
  {
   "cell_type": "markdown",
   "metadata": {},
   "source": [
    "<h2 style='direction:rtl;text-align:right;font-family:samim;'><b>🔸 تمرین ۲۲</b></h2>"
   ]
  },
  {
   "cell_type": "markdown",
   "metadata": {},
   "source": [
    "<p style='direction:rtl;text-align:right;font-size:18px;font-family:samim;line-height:1.5;'>\n",
    " یک لیست از رشته‌ها دارید که شامل نام‌های مختلف است. برنامه‌ای بنویسید که هر نام و شماره ترتیبی آن را در لیست چاپ کند.  \n",
    "<br>\n",
    "    <br>\n",
    "    $$\\texttt{names = [\"Alice\", \"Bob\", \"Charlie\", \"David\"]}$$\n",
    "</p>"
   ]
  },
  {
   "cell_type": "code",
   "execution_count": null,
   "metadata": {},
   "outputs": [],
   "source": []
  },
  {
   "cell_type": "markdown",
   "metadata": {
    "tags": []
   },
   "source": [
    "<h4 style='direction:rtl;text-align:right;font-size:18px;font-family:samim;'>راهنمایی</h4>"
   ]
  },
  {
   "cell_type": "markdown",
   "metadata": {
    "tags": []
   },
   "source": [
    "<p style='direction:rtl;text-align:right;font-size:16px;font-family:samim;'>\n",
    "با استفاده حلقه با تابعی مناسب می توانستید هم به اندیس و هم به خود المان به صورت یکجا دسترسی داشته باشید.\n",
    "</p>"
   ]
  },
  {
   "cell_type": "markdown",
   "metadata": {
    "jp-MarkdownHeadingCollapsed": true,
    "tags": []
   },
   "source": [
    "<h4 style='direction:rtl;text-align:right;font-size:18px;font-family:samim;'>جواب</h4>"
   ]
  },
  {
   "cell_type": "code",
   "execution_count": 23,
   "metadata": {},
   "outputs": [
    {
     "name": "stdout",
     "output_type": "stream",
     "text": [
      "1. Alice\n",
      "2. Bob\n",
      "3. Charlie\n",
      "4. David\n"
     ]
    }
   ],
   "source": [
    "names = [\"Alice\", \"Bob\", \"Charlie\", \"David\"]\n",
    "for count, name in enumerate(names, 1):\n",
    "    print(f\"{count}. {name}\")\n"
   ]
  },
  {
   "cell_type": "markdown",
   "metadata": {},
   "source": [
    "<h2 style='direction:rtl;text-align:right;font-family:samim;'><b>🔸 تمرین ۲۳</b></h2>"
   ]
  },
  {
   "cell_type": "markdown",
   "metadata": {},
   "source": [
    "<p style='direction:rtl;text-align:right;font-size:18px;font-family:samim;line-height:1.5;'>\n",
    "   دو لیست از اعداد دارید. برنامه‌ای بنویسید که هر دو عدد در موقعیت مشابه از هر دو لیست را با یکدیگر مقایسه کند و بگوید کدام بزرگتر است.\n",
    "<br>\n",
    "    <br>\n",
    "    $$\\texttt{list_1 = [5, 10, 15, 20, 25]}$$\n",
    "$$\\texttt{list_2 = [3, 10, 12, 18, 30]}$$\n",
    "</p>"
   ]
  },
  {
   "cell_type": "code",
   "execution_count": null,
   "metadata": {},
   "outputs": [],
   "source": []
  },
  {
   "cell_type": "markdown",
   "metadata": {
    "tags": []
   },
   "source": [
    "<h4 style='direction:rtl;text-align:right;font-size:18px;font-family:samim;'>راهنمایی</h4>"
   ]
  },
  {
   "cell_type": "markdown",
   "metadata": {
    "tags": []
   },
   "source": [
    "<p style='direction:rtl;text-align:right;font-size:16px;font-family:samim;'>\n",
    "برای انتخاب نظیر به نظیر المان از چند لیست دستور مهمی را معرفی کردیم. از آن دستور استفاده کنید و سپس شرط را مورد بررسی قرار دهید.\n",
    "</p>"
   ]
  },
  {
   "cell_type": "markdown",
   "metadata": {
    "jp-MarkdownHeadingCollapsed": true,
    "tags": []
   },
   "source": [
    "<h4 style='direction:rtl;text-align:right;font-size:18px;font-family:samim;'>جواب</h4>"
   ]
  },
  {
   "cell_type": "code",
   "execution_count": 24,
   "metadata": {},
   "outputs": [
    {
     "name": "stdout",
     "output_type": "stream",
     "text": [
      "5 is greater than 3\n",
      "10 is equal to 10\n",
      "15 is greater than 12\n",
      "20 is greater than 18\n",
      "30 is greater than 25\n"
     ]
    }
   ],
   "source": [
    "list1 = [5, 10, 15, 20, 25]\n",
    "list2 = [3, 10, 12, 18, 30]\n",
    "for num1, num2 in zip(list1, list2):\n",
    "    if num1 > num2:\n",
    "        print(f\"{num1} is greater than {num2}\")\n",
    "    elif num2 > num1:\n",
    "        print(f\"{num2} is greater than {num1}\")\n",
    "    else:\n",
    "        print(f\"{num1} is equal to {num2}\")\n"
   ]
  },
  {
   "cell_type": "markdown",
   "metadata": {},
   "source": [
    "<h2 style='direction:rtl;text-align:right;font-family:samim;'><b>🔸 تمرین ۲۴</b></h2>"
   ]
  },
  {
   "cell_type": "markdown",
   "metadata": {},
   "source": [
    "<p style='direction:rtl;text-align:right;font-size:18px;font-family:samim;line-height:1.5;'>\n",
    "  دو لیست دارید، یکی شامل نام دانشجویان و دیگری شامل نمرات آنها. برنامه‌ای بنویسید که هر دانشجو و نمره‌اش را با شماره ترتیبی چاپ کند. \n",
    "<br>\n",
    "    $$\\texttt{students = [\"Alice\", \"Bob\", \"Charlie\"]}$$\n",
    "$$\\texttt{grades = [88, 92, 85]}$$\n",
    "</p>"
   ]
  },
  {
   "cell_type": "code",
   "execution_count": null,
   "metadata": {},
   "outputs": [],
   "source": []
  },
  {
   "cell_type": "markdown",
   "metadata": {
    "tags": []
   },
   "source": [
    "<h4 style='direction:rtl;text-align:right;font-size:18px;font-family:samim;'>راهنمایی</h4>"
   ]
  },
  {
   "cell_type": "markdown",
   "metadata": {
    "tags": []
   },
   "source": [
    "<p style='direction:rtl;text-align:right;font-size:16px;font-family:samim;'>\n",
    "برای انتخاب نظیر به نظیر المان از چند لیست دستور مهمی را معرفی کردیم و برای داشتن شماره اندیس و خود المان با هم از دستور مناسب استفاده کنید.یادتون باشه می توانید به این دستور آرگومانی بدهید که از عدد دلخواه شما شمارش را شروع کند.\n",
    "</p>"
   ]
  },
  {
   "cell_type": "markdown",
   "metadata": {
    "jp-MarkdownHeadingCollapsed": true,
    "tags": []
   },
   "source": [
    "<h4 style='direction:rtl;text-align:right;font-size:18px;font-family:samim;'>جواب</h4>"
   ]
  },
  {
   "cell_type": "code",
   "execution_count": 25,
   "metadata": {},
   "outputs": [
    {
     "name": "stdout",
     "output_type": "stream",
     "text": [
      "1. Alice - 88\n",
      "2. Bob - 92\n",
      "3. Charlie - 85\n"
     ]
    }
   ],
   "source": [
    "students = [\"Alice\", \"Bob\", \"Charlie\"]\n",
    "grades = [88, 92, 85]\n",
    "for index, (student, grade) in enumerate(zip(students, grades), 1):\n",
    "    print(f\"{index}. {student} - {grade}\")\n"
   ]
  },
  {
   "cell_type": "markdown",
   "metadata": {},
   "source": [
    "<h2 style='direction:rtl;text-align:right;font-family:samim;'><b>🔸 تمرین ۲۵</b></h2>"
   ]
  },
  {
   "cell_type": "markdown",
   "metadata": {},
   "source": [
    "<p style='direction:rtl;text-align:right;font-size:18px;font-family:samim;line-height:1.5;'>\n",
    "سه لیست دارید: یکی نام‌ها، دیگری سن‌ها، و سومی شغل‌ها. برنامه‌ای بنویسید که این سه لیست را با یکدیگر ترکیب کند و اطلاعات کامل هر فرد را در یک تاپل ذخیره کند.   \n",
    "\n",
    "<br>\n",
    "$$\\texttt{names = [\"Alice\", \"Bob\", \"Charlie\"]}$$\n",
    "$$\\texttt{ages = [25, 30, 35]}$$\n",
    "$$\\texttt{jobs = [\"Engineer\", \"Doctor\", \"Artist\"]}$$\n",
    "</p>"
   ]
  },
  {
   "cell_type": "code",
   "execution_count": null,
   "metadata": {},
   "outputs": [],
   "source": []
  },
  {
   "cell_type": "markdown",
   "metadata": {
    "tags": []
   },
   "source": [
    "<h4 style='direction:rtl;text-align:right;font-size:18px;font-family:samim;'>راهنمایی</h4>"
   ]
  },
  {
   "cell_type": "markdown",
   "metadata": {
    "tags": []
   },
   "source": [
    "<p style='direction:rtl;text-align:right;font-size:16px;font-family:samim;'>\n",
    "برای انتخاب نظیر به نظیر المان از چند لیست دستور مهمی را معرفی کردیم. دیگه فکر کنم حفظ شدید این دستور کدام هست.\n",
    "</p>"
   ]
  },
  {
   "cell_type": "markdown",
   "metadata": {
    "jp-MarkdownHeadingCollapsed": true,
    "tags": []
   },
   "source": [
    "<h4 style='direction:rtl;text-align:right;font-size:18px;font-family:samim;'>جواب</h4>"
   ]
  },
  {
   "cell_type": "code",
   "execution_count": 26,
   "metadata": {},
   "outputs": [
    {
     "name": "stdout",
     "output_type": "stream",
     "text": [
      "Name: Alice, Age: 25, Job: Engineer\n",
      "Name: Bob, Age: 30, Job: Doctor\n",
      "Name: Charlie, Age: 35, Job: Artist\n"
     ]
    }
   ],
   "source": [
    "names = [\"Alice\", \"Bob\", \"Charlie\"]\n",
    "ages = [25, 30, 35]\n",
    "jobs = [\"Engineer\", \"Doctor\", \"Artist\"]\n",
    "complete_info = list(zip(names, ages, jobs))\n",
    "for info in complete_info:\n",
    "    print(f\"Name: {info[0]}, Age: {info[1]}, Job: {info[2]}\")"
   ]
  },
  {
   "cell_type": "markdown",
   "metadata": {},
   "source": [
    "<h2 style='direction:rtl;text-align:right;font-family:samim;'><b>🔸 تمرین ۲۶</b></h2>"
   ]
  },
  {
   "cell_type": "markdown",
   "metadata": {},
   "source": [
    "<p style='direction:rtl;text-align:right;font-size:18px;font-family:samim;line-height:1.5;'>\n",
    " فرض کنید سه لیست دارید، یکی شامل نام‌های کاربران، دیگری سن آن‌ها، و سومی ایمیل‌های آنها. برنامه‌ای بنویسید که این سه لیست را ترکیب کند و اطلاعات کامل هر کاربر را در قالب تاپل چاپ کند.\n",
    "    <br>\n",
    "    <br>\n",
    "$$\\texttt{names = [\"Alice\", \"Bob\", \"Charlie\"]}$$\n",
    "$$\\texttt{ages = [24, 30, 22]}$$\n",
    "$$\\texttt{emails = [\"alice@example.com\", \"bob@example.com\", \"charlie@example.com\"]}$$\n",
    "</p>"
   ]
  },
  {
   "cell_type": "code",
   "execution_count": null,
   "metadata": {},
   "outputs": [],
   "source": []
  },
  {
   "cell_type": "markdown",
   "metadata": {
    "tags": []
   },
   "source": [
    "<h4 style='direction:rtl;text-align:right;font-size:18px;font-family:samim;'>راهنمایی</h4>"
   ]
  },
  {
   "cell_type": "markdown",
   "metadata": {
    "tags": []
   },
   "source": [
    "<p style='direction:rtl;text-align:right;font-size:16px;font-family:samim;'>\n",
    "درست همانند تمرین قبلی\n",
    "</p>"
   ]
  },
  {
   "cell_type": "markdown",
   "metadata": {
    "jp-MarkdownHeadingCollapsed": true,
    "tags": []
   },
   "source": [
    "<h4 style='direction:rtl;text-align:right;font-size:18px;font-family:samim;'>جواب</h4>"
   ]
  },
  {
   "cell_type": "code",
   "execution_count": 27,
   "metadata": {},
   "outputs": [
    {
     "name": "stdout",
     "output_type": "stream",
     "text": [
      "('Alice', 24, 'alice@example.com')\n",
      "('Bob', 30, 'bob@example.com')\n",
      "('Charlie', 22, 'charlie@example.com')\n"
     ]
    }
   ],
   "source": [
    "names = [\"Alice\", \"Bob\", \"Charlie\"]\n",
    "ages = [24, 30, 22]\n",
    "emails = [\"alice@example.com\", \"bob@example.com\", \"charlie@example.com\"]\n",
    "\n",
    "users_info = list(zip(names, ages, emails))\n",
    "for user in users_info:\n",
    "    print(user)"
   ]
  },
  {
   "cell_type": "markdown",
   "metadata": {},
   "source": [
    "<h2 style='direction:rtl;text-align:right;font-family:samim;'><b>🔸 تمرین ۲۷</b></h2>"
   ]
  },
  {
   "cell_type": "markdown",
   "metadata": {},
   "source": [
    "<p style='direction:rtl;text-align:right;font-size:18px;font-family:samim;line-height:1.5;'>\n",
    "   دو لیست از تاپل‌های داده‌ای دارید که باید به صورت متقابل ترکیب شوند. هر تاپل در لیست اول شامل نام و سن است و هر تاپل در لیست دوم شامل شغل و شهر محل زندگی است. برنامه‌ای بنویسید که این داده‌ها را ترکیب کند و اطلاعات کامل هر فرد را چاپ کند.\n",
    "<br>\n",
    "    <br>\n",
    "    $$\\texttt{personal_info = [(\"Alice\", 24), (\"Bob\", 30)]}$$\n",
    "$$\\texttt{professional_info = [(\"Engineer\", \"New York\"), (\"Doctor\", \"Los Angeles\")]}$$\n",
    "</p>"
   ]
  },
  {
   "cell_type": "code",
   "execution_count": null,
   "metadata": {},
   "outputs": [],
   "source": []
  },
  {
   "cell_type": "markdown",
   "metadata": {
    "tags": []
   },
   "source": [
    "<h4 style='direction:rtl;text-align:right;font-size:18px;font-family:samim;'>راهنمایی</h4>"
   ]
  },
  {
   "cell_type": "markdown",
   "metadata": {
    "tags": []
   },
   "source": [
    "<p style='direction:rtl;text-align:right;font-size:16px;font-family:samim;'>\n",
    "از * غافل نشوید.\n",
    "</p>"
   ]
  },
  {
   "cell_type": "markdown",
   "metadata": {
    "jp-MarkdownHeadingCollapsed": true,
    "tags": []
   },
   "source": [
    "<h4 style='direction:rtl;text-align:right;font-size:18px;font-family:samim;'>جواب</h4>"
   ]
  },
  {
   "cell_type": "code",
   "execution_count": 28,
   "metadata": {},
   "outputs": [
    {
     "name": "stdout",
     "output_type": "stream",
     "text": [
      "Name: Alice Age: Bob Profession: Engineer City: Doctor\n",
      "Name: 24 Age: 30 Profession: New York City: Los Angeles\n"
     ]
    }
   ],
   "source": [
    "personal_info = [(\"Alice\", 24), (\"Bob\", 30)]\n",
    "professional_info = [(\"Engineer\", \"New York\"), (\"Doctor\", \"Los Angeles\")]\n",
    "\n",
    "# Unpacking tuples from each list and zipping them together\n",
    "combined_info = zip(*personal_info, *professional_info)\n",
    "for info in combined_info:\n",
    "    print(\"Name:\", info[0], \"Age:\", info[1], \"Profession:\", info[2], \"City:\", info[3])\n"
   ]
  },
  {
   "cell_type": "markdown",
   "metadata": {},
   "source": [
    "<h2 style='direction:rtl;text-align:right;font-family:samim;'><b>🔸 تمرین ۲۸</b></h2>"
   ]
  },
  {
   "cell_type": "markdown",
   "metadata": {},
   "source": [
    "<p style='direction:rtl;text-align:right;font-size:18px;font-family:samim;line-height:1.5;'>\n",
    "   سه لیست از داده‌ها دارید که شامل ابعاد مختلفی از محصولات هستند (طول، عرض، ارتفاع). برنامه‌ای بنویسید که این سه بعد را برای هر محصول ترکیب کند و حجم هر محصول را محاسبه کند.\n",
    "    <br>\n",
    "    $$\\texttt{lengths = [2, 3, 4]}$$\n",
    "$$\\texttt{widths = [1, 1.5, 2]}$$\n",
    "$$\\texttt{heights = [0.5, 0.4, 0.3]}$$\n",
    "</p>"
   ]
  },
  {
   "cell_type": "code",
   "execution_count": null,
   "metadata": {},
   "outputs": [],
   "source": []
  },
  {
   "cell_type": "markdown",
   "metadata": {
    "tags": []
   },
   "source": [
    "<h4 style='direction:rtl;text-align:right;font-size:18px;font-family:samim;'>راهنمایی</h4>"
   ]
  },
  {
   "cell_type": "markdown",
   "metadata": {
    "tags": []
   },
   "source": [
    "<p style='direction:rtl;text-align:right;font-size:16px;font-family:samim;'>\n",
    "آنپک را با استفاده از دستور معروف انتخاب نظیر به نظیر المان از چند لیست انجام دهید و سپس حجم را محاسبه کنید.\n",
    "</p>"
   ]
  },
  {
   "cell_type": "markdown",
   "metadata": {
    "jp-MarkdownHeadingCollapsed": true,
    "tags": []
   },
   "source": [
    "<h4 style='direction:rtl;text-align:right;font-size:18px;font-family:samim;'>جواب</h4>"
   ]
  },
  {
   "cell_type": "code",
   "execution_count": 29,
   "metadata": {},
   "outputs": [
    {
     "name": "stdout",
     "output_type": "stream",
     "text": [
      "Volume: 1.0\n",
      "Volume: 1.8\n",
      "Volume: 2.4\n"
     ]
    }
   ],
   "source": [
    "lengths = [2, 3, 4]\n",
    "widths = [1, 1.5, 2]\n",
    "heights = [0.5, 0.4, 0.3]\n",
    "\n",
    "volumes = [l * w * h for l, w, h in zip(lengths, widths, heights)]\n",
    "for volume in volumes:\n",
    "    print(\"Volume:\", volume)"
   ]
  },
  {
   "cell_type": "markdown",
   "metadata": {},
   "source": [
    "<h2 style='direction:rtl;text-align:right;font-family:samim;'><b>🔸 تمرین ۲۹</b></h2>"
   ]
  },
  {
   "cell_type": "markdown",
   "metadata": {},
   "source": [
    "<p style='direction:rtl;text-align:right;font-size:18px;font-family:samim;line-height:1.5;'>\n",
    "   دو لیست از امتیازات دو تیم در یک مسابقه دارید. برنامه‌ای بنویسید که برای هر بازی تعیین کند کدام تیم برنده شده است. \n",
    "<br>\n",
    "    <br>\n",
    "    $$\\texttt{team_a_scores = [10, 20, 15]}$$\n",
    "    $$\\texttt{team_b_scores = [12, 18, 12]}$$\n",
    "</p>"
   ]
  },
  {
   "cell_type": "code",
   "execution_count": null,
   "metadata": {},
   "outputs": [],
   "source": []
  },
  {
   "cell_type": "markdown",
   "metadata": {
    "tags": []
   },
   "source": [
    "<h4 style='direction:rtl;text-align:right;font-size:18px;font-family:samim;'>راهنمایی</h4>"
   ]
  },
  {
   "cell_type": "markdown",
   "metadata": {
    "tags": []
   },
   "source": [
    "<p style='direction:rtl;text-align:right;font-size:16px;font-family:samim;'>\n",
    "هر بار امتیازهای نظیر به نظیر را انتخاب و سپس شرط را بررسی کنید و پیغام مناسب را چاپ کنید. با استفاده از حلقه و دستورات شرطی خطی می‌توانید حل را انجام دهید.\n",
    "</p>"
   ]
  },
  {
   "cell_type": "markdown",
   "metadata": {
    "jp-MarkdownHeadingCollapsed": true,
    "tags": []
   },
   "source": [
    "<h4 style='direction:rtl;text-align:right;font-size:18px;font-family:samim;'>جواب</h4>"
   ]
  },
  {
   "cell_type": "code",
   "execution_count": 30,
   "metadata": {},
   "outputs": [
    {
     "name": "stdout",
     "output_type": "stream",
     "text": [
      "Team B\n",
      "Team A\n",
      "Team A\n"
     ]
    }
   ],
   "source": [
    "team_a_scores = [10, 20, 15]\n",
    "team_b_scores = [12, 18, 12]\n",
    "\n",
    "results = [\"Team A\" if a > b else \"Team B\" if b > a else \"Draw\" for a, b in zip(team_a_scores, team_b_scores)]\n",
    "for result in results:\n",
    "    print(result)\n"
   ]
  },
  {
   "cell_type": "markdown",
   "metadata": {},
   "source": [
    "<h2 style='direction:rtl;text-align:right;font-family:samim;'><b>🔸 تمرین ۳۰*</b></h2>"
   ]
  },
  {
   "cell_type": "markdown",
   "metadata": {},
   "source": [
    "<p style='direction:rtl;text-align:right;font-size:18px;font-family:samim;line-height:1.5;'>\n",
    "   فرض کنید شما مسئول تجزیه و تحلیل داده‌هایی از سنسورهای مختلف در یک آزمایش بزرگ هستید. هر سنسور در زمان‌های مختلف داده‌هایی را ثبت کرده است. شما می‌خواهید این داده‌ها را بررسی کنید تا ببینید در چه زمان‌هایی تمام سنسورها داده‌های معتبر ثبت کرده‌اند.\n",
    "شما لیست‌های مختلفی از زمان‌های ثبت داده توسط هر سنسور دارید و می‌خواهید ببینید کدام زمان‌ها در تمام لیست‌ها مشترک هستند. این کار نیازمند ترکیب چندین لیست زمانی و یافتن تقاطع آنهاست.\n",
    "<br>\n",
    "    <br>\n",
    "$$\n",
    "\\texttt{sensor_a_times = [\"10:00\", \"10:05\", \"10:10\", \"10:15\", \"10:20\"]}\n",
    "$$\n",
    "$$\n",
    "\\texttt{sensor_b_times = [\"10:05\", \"10:20\", \"10:25\", \"10:30\"]}\n",
    "$$\n",
    "$$\n",
    "\\texttt{sensor_c_times = [\"10:00\", \"10:05\", \"10:10\", \"10:20\", \"10:30\"]}\n",
    "$$\n",
    "  \n",
    "\n",
    "</p>"
   ]
  },
  {
   "cell_type": "code",
   "execution_count": null,
   "metadata": {},
   "outputs": [],
   "source": []
  },
  {
   "cell_type": "markdown",
   "metadata": {
    "tags": []
   },
   "source": [
    "<h4 style='direction:rtl;text-align:right;font-size:18px;font-family:samim;'>راهنمایی</h4>"
   ]
  },
  {
   "cell_type": "markdown",
   "metadata": {
    "tags": []
   },
   "source": [
    "<p style='direction:rtl;text-align:right;font-size:16px;font-family:samim;'>\n",
    "ابتدا با استفاده از دستوراتی که در درس مجموعه‌ها داشتیم زمان مشترک بین هر دو لیست را پیدا کنید. سپس با استفاده از دستور معروف نظیر به نظیر المان ها را انتخاب و بررسی شرط را انجام دهید.\n",
    "</p>"
   ]
  },
  {
   "cell_type": "markdown",
   "metadata": {
    "jp-MarkdownHeadingCollapsed": true,
    "tags": []
   },
   "source": [
    "<h4 style='direction:rtl;text-align:right;font-size:18px;font-family:samim;'>جواب</h4>"
   ]
  },
  {
   "cell_type": "code",
   "execution_count": 34,
   "metadata": {},
   "outputs": [
    {
     "name": "stdout",
     "output_type": "stream",
     "text": [
      "Common times across all sensors: ['10:05', '10:20']\n"
     ]
    }
   ],
   "source": [
    "sensor_a_times = [\"10:00\", \"10:05\", \"10:10\", \"10:15\", \"10:20\"]\n",
    "sensor_b_times = [\"10:05\", \"10:20\", \"10:25\", \"10:30\"]\n",
    "sensor_c_times = [\"10:00\", \"10:05\", \"10:10\", \"10:20\", \"10:30\"]\n",
    "\n",
    "# ابتدا زمان‌های مشترک بین هر دو لیست را پیدا کنید\n",
    "common_ab = set(sensor_a_times).intersection(sensor_b_times)\n",
    "common_abc = common_ab.intersection(sensor_c_times)\n",
    "\n",
    "\n",
    "all_common_times = [time for time in zip(sensor_a_times, sensor_b_times, sensor_c_times) if time[0] == time[1] == time[2]]\n",
    "\n",
    "print(\"Common times across all sensors:\", list(common_abc))\n"
   ]
  },
  {
   "cell_type": "markdown",
   "metadata": {},
   "source": [
    "<h2 style='direction:rtl;text-align:right;font-family:samim;'><b>🔸 تمرین ۳۱</b></h2>"
   ]
  },
  {
   "cell_type": "markdown",
   "metadata": {},
   "source": [
    "<p style='direction:rtl;text-align:right;font-size:18px;font-family:samim;line-height:1.5;'>\n",
    "   فرض کنید سه لیست دارید که هر کدام نشان‌دهنده میزان مصرف انرژی در ساعات مختلف روز برای سه منطقه مختلف هستند. شما می‌خواهید بدانید در کدام ساعات مصرف انرژی در هر سه منطقه دقیقاً یکسان بوده است.\n",
    "<br>    \n",
    "<br>\n",
    "$$\\texttt{region_a_energy = [120, 130, 140, 150, 160, 170]}$$ \n",
    "$$\\texttt{region_b_energy = [110, 130, 125, 150, 165, 175]}$$  \n",
    "$$\\texttt{region_c_energy = [115, 130, 135, 150, 155, 180]}$$\n",
    "</p>"
   ]
  },
  {
   "cell_type": "code",
   "execution_count": null,
   "metadata": {},
   "outputs": [],
   "source": []
  },
  {
   "cell_type": "markdown",
   "metadata": {
    "tags": []
   },
   "source": [
    "<h4 style='direction:rtl;text-align:right;font-size:18px;font-family:samim;'>راهنمایی</h4>"
   ]
  },
  {
   "cell_type": "markdown",
   "metadata": {
    "tags": []
   },
   "source": [
    "<p style='direction:rtl;text-align:right;font-size:16px;font-family:samim;'>\n",
    " ابتدا لیست‌های مصرف انرژی را با هم ترکیب کنید. سپس برای هر ساعت، بررسی کنید که مصرف انرژی در سه منطقه برابر است یا نه. از یک حلقه با تایع مناسب برای انجام این کار استفاده کرده و ساعت‌هایی که شرایط را برآورده می‌کنند، ثبت کنید.\n",
    "</p>"
   ]
  },
  {
   "cell_type": "markdown",
   "metadata": {
    "jp-MarkdownHeadingCollapsed": true,
    "tags": []
   },
   "source": [
    "<h4 style='direction:rtl;text-align:right;font-size:18px;font-family:samim;'>جواب</h4>"
   ]
  },
  {
   "cell_type": "code",
   "execution_count": 35,
   "metadata": {},
   "outputs": [
    {
     "name": "stdout",
     "output_type": "stream",
     "text": [
      "Hours with the same energy usage across all regions: [2, 4]\n"
     ]
    }
   ],
   "source": [
    "region_a_energy = [120, 130, 140, 150, 160, 170]\n",
    "region_b_energy = [110, 130, 125, 150, 165, 175]\n",
    "region_c_energy = [115, 130, 135, 150, 155, 180]\n",
    "\n",
    "# استفاده از zip برای ترکیب لیست‌های مصرف انرژی\n",
    "combined_energy_usage = zip(region_a_energy, region_b_energy, region_c_energy)\n",
    "\n",
    "# ایجاد لیستی برای نگهداری ساعاتی که در آنها مصرف انرژی یکسان بوده است\n",
    "same_usage_hours = []\n",
    "\n",
    "# بررسی هر سه مقدار مصرفی در هر ساعت و مقایسه آن‌ها\n",
    "for hour, energy_usage in enumerate(combined_energy_usage, start=1):\n",
    "    if energy_usage[0] == energy_usage[1] == energy_usage[2]:\n",
    "        same_usage_hours.append(hour)\n",
    "\n",
    "print(\"Hours with the same energy usage across all regions:\", same_usage_hours)\n"
   ]
  },
  {
   "cell_type": "markdown",
   "metadata": {},
   "source": [
    "<h2 style='direction:rtl;text-align:right;font-family:samim;'><b>🔸 تمرین ۳۲*</b></h2>"
   ]
  },
  {
   "cell_type": "markdown",
   "metadata": {},
   "source": [
    "<p style='direction:rtl;text-align:right;font-size:18px;font-family:samim;line-height:1.5;'>\n",
    "   فرض کنید سه لیست دارید، یکی شامل نام‌های محصولات، دیگری شامل قیمت‌ها، و سومی شامل تعداد موجودی هر محصول. برنامه‌ای بنویسید که این سه لیست را ترکیب کرده و یک جدول شماره‌گذاری شده از نام محصول، قیمت و تعداد موجودی هر کدام چاپ کند.\n",
    "<br>\n",
    "    <br>\n",
    "$$\\texttt{product_names = [\"Laptop\", \"Smartphone\", \"Tablet\"]}$$\n",
    "$$\\texttt{prices = [1200, 800, 600]}$$\n",
    "$$\\texttt{quantities = [10, 15, 20]}$$\n",
    "</p>"
   ]
  },
  {
   "cell_type": "code",
   "execution_count": null,
   "metadata": {},
   "outputs": [],
   "source": []
  },
  {
   "cell_type": "markdown",
   "metadata": {
    "tags": []
   },
   "source": [
    "<h4 style='direction:rtl;text-align:right;font-size:18px;font-family:samim;'>راهنمایی</h4>"
   ]
  },
  {
   "cell_type": "markdown",
   "metadata": {
    "tags": []
   },
   "source": [
    "<p style='direction:rtl;text-align:right;font-size:16px;font-family:samim;'>\n",
    "ابتدا لیست‌ها را به‌گونه‌ای ترکیب کنید که هر عنصر شامل نام، قیمت و تعداد باشد. سپس با استفاده از یک حلقه، این ترکیب‌ها را شماره‌گذاری کرده و چاپ کنید.\n",
    "</p>"
   ]
  },
  {
   "cell_type": "markdown",
   "metadata": {
    "jp-MarkdownHeadingCollapsed": true,
    "tags": []
   },
   "source": [
    "<h4 style='direction:rtl;text-align:right;font-size:18px;font-family:samim;'>جواب</h4>"
   ]
  },
  {
   "cell_type": "code",
   "execution_count": 33,
   "metadata": {},
   "outputs": [
    {
     "name": "stdout",
     "output_type": "stream",
     "text": [
      "1. Product: Laptop, Price: $1200, Quantity: 10\n",
      "2. Product: Smartphone, Price: $800, Quantity: 15\n",
      "3. Product: Tablet, Price: $600, Quantity: 20\n"
     ]
    }
   ],
   "source": [
    "product_names = [\"Laptop\", \"Smartphone\", \"Tablet\"]\n",
    "prices = [1200, 800, 600]\n",
    "quantities = [10, 15, 20]\n",
    "\n",
    "for index, (name, price, quantity) in enumerate(zip(product_names, prices, quantities), start=1):\n",
    "    print(f\"{index}. Product: {name}, Price: ${price}, Quantity: {quantity}\")\n"
   ]
  },
  {
   "cell_type": "markdown",
   "metadata": {},
   "source": [
    "<h2 style='direction:rtl;text-align:right;font-family:samim;'><b>🔸 تمرین ۳۳</b></h2>"
   ]
  },
  {
   "cell_type": "markdown",
   "metadata": {},
   "source": [
    "<p style='direction:rtl;text-align:right;font-size:18px;font-family:samim;line-height:1.5;'>\n",
    "   دو لیست از نمرات دو گروه دانشجویان در یک امتحان دارید. برنامه‌ای بنویسید که نمرات هر دانشجو از هر دو گروه را مقایسه کند و تعیین کند که کدام یک امتیاز بالاتری دارد، به همراه شماره‌گذاری هر جفت نمره.\n",
    "    <br>\n",
    "    <br>\n",
    "    $$\\texttt{group_a_scores = [88, 92, 85, 78]}$$\n",
    "    $$\\texttt{group_b_scores = [85, 90, 88, 80]}$$\n",
    "    \n",
    "</p>"
   ]
  },
  {
   "cell_type": "code",
   "execution_count": null,
   "metadata": {},
   "outputs": [],
   "source": []
  },
  {
   "cell_type": "markdown",
   "metadata": {
    "tags": []
   },
   "source": [
    "<h4 style='direction:rtl;text-align:right;font-size:18px;font-family:samim;'>راهنمایی</h4>"
   ]
  },
  {
   "cell_type": "markdown",
   "metadata": {
    "tags": []
   },
   "source": [
    "<p style='direction:rtl;text-align:right;font-size:16px;font-family:samim;'>\n",
    " ابتدا نمرات را جفت کرده و سپس با استفاده از یک حلقه، هر جفت نمره را مقایسه کنید. شماره‌گذاری هر جفت نمره را نیز در خروجی نمایش دهید.\n",
    "</p>"
   ]
  },
  {
   "cell_type": "markdown",
   "metadata": {
    "jp-MarkdownHeadingCollapsed": true,
    "tags": []
   },
   "source": [
    "<h4 style='direction:rtl;text-align:right;font-size:18px;font-family:samim;'>جواب</h4>"
   ]
  },
  {
   "cell_type": "code",
   "execution_count": 32,
   "metadata": {},
   "outputs": [
    {
     "name": "stdout",
     "output_type": "stream",
     "text": [
      "Match 1: Higher score is Group A (88 vs 85)\n",
      "Match 2: Higher score is Group A (92 vs 90)\n",
      "Match 3: Higher score is Group B (85 vs 88)\n",
      "Match 4: Higher score is Group B (78 vs 80)\n"
     ]
    }
   ],
   "source": [
    "group_a_scores = [88, 92, 85, 78]\n",
    "group_b_scores = [85, 90, 88, 80]\n",
    "\n",
    "for index, (score_a, score_b) in enumerate(zip(group_a_scores, group_b_scores), start=1):\n",
    "    higher_score = \"Group A\" if score_a > score_b else \"Group B\"\n",
    "    print(f\"Match {index}: Higher score is {higher_score} ({score_a} vs {score_b})\")\n"
   ]
  },
  {
   "cell_type": "markdown",
   "metadata": {},
   "source": [
    "<h2 style='direction:rtl;text-align:right;font-family:samim;'><b>🔸 تمرین ۳۴</b></h2>"
   ]
  },
  {
   "cell_type": "markdown",
   "metadata": {},
   "source": [
    "<p style='direction:rtl;text-align:right;font-size:18px;font-family:samim;line-height:1.5;'>\n",
    "   سه لیست از ویژگی‌های مختلف اتومبیل‌ها دارید: مدل، رنگ و سال ساخت. برنامه‌ای بنویسید که این سه لیست را با یکدیگر ترکیب کند و اطلاعات کامل هر اتومبیل را به صورت شماره‌گذاری شده چاپ کند.    \n",
    "    <br>\n",
    "    <br>\n",
    "$$\\texttt{models = [\"Model X\", \"Model Y\", \"Model Z\"]}$$\n",
    "$$\\texttt{colors = [\"Red\", \"Blue\", \"Green\"]}$$\n",
    "$$\\texttt{years = [2019, 2020, 2021]}$$\n",
    "</p>"
   ]
  },
  {
   "cell_type": "code",
   "execution_count": null,
   "metadata": {},
   "outputs": [],
   "source": []
  },
  {
   "cell_type": "markdown",
   "metadata": {
    "tags": []
   },
   "source": [
    "<h4 style='direction:rtl;text-align:right;font-size:18px;font-family:samim;'>راهنمایی</h4>"
   ]
  },
  {
   "cell_type": "markdown",
   "metadata": {
    "tags": []
   },
   "source": [
    "<p style='direction:rtl;text-align:right;font-size:16px;font-family:samim;'>\n",
    "لیست‌های مدل، رنگ و سال را به‌گونه‌ای ترکیب کنید که هر عنصر شامل مدل، رنگ و سال باشد.سپس از یک حلقه برای شماره‌گذاری و چاپ هر ترکیب استفاده کنید.\n",
    "    \n",
    "</p>"
   ]
  },
  {
   "cell_type": "markdown",
   "metadata": {
    "jp-MarkdownHeadingCollapsed": true,
    "tags": []
   },
   "source": [
    "<h4 style='direction:rtl;text-align:right;font-size:18px;font-family:samim;'>جواب</h4>"
   ]
  },
  {
   "cell_type": "code",
   "execution_count": 31,
   "metadata": {},
   "outputs": [
    {
     "name": "stdout",
     "output_type": "stream",
     "text": [
      "1. Model: Model X, Color: Red, Year: 2019\n",
      "2. Model: Model Y, Color: Blue, Year: 2020\n",
      "3. Model: Model Z, Color: Green, Year: 2021\n"
     ]
    }
   ],
   "source": [
    "models = [\"Model X\", \"Model Y\", \"Model Z\"]\n",
    "colors = [\"Red\", \"Blue\", \"Green\"]\n",
    "years = [2019, 2020, 2021]\n",
    "\n",
    "for index, (model, color, year) in enumerate(zip(models, colors, years), start=1):\n",
    "    print(f\"{index}. Model: {model}, Color: {color}, Year: {year}\")\n"
   ]
  },
  {
   "cell_type": "code",
   "execution_count": null,
   "metadata": {},
   "outputs": [],
   "source": []
  },
  {
   "cell_type": "markdown",
   "metadata": {},
   "source": [
    "<h2 style='direction:rtl;text-align:right;font-family:samim;'><b>🔸 تمرین ۳۵</b></h2>"
   ]
  },
  {
   "cell_type": "markdown",
   "metadata": {},
   "source": [
    "<p style='direction:rtl;text-align:right;font-size:18px;font-family:samim;line-height:1.5;'>\n",
    "   لیستی دارید که شامل برخی مقادیر None است. برنامه‌ای بنویسید که تمام مقادیر None را از لیست حذف کند.\n",
    "<br>\n",
    "    <br>\n",
    "    $$\\texttt{items = [1, None, 2, None, 3, None, 4]}$$\n",
    "</p>"
   ]
  },
  {
   "cell_type": "code",
   "execution_count": null,
   "metadata": {},
   "outputs": [],
   "source": []
  },
  {
   "cell_type": "markdown",
   "metadata": {
    "tags": []
   },
   "source": [
    "<h4 style='direction:rtl;text-align:right;font-size:18px;font-family:samim;'>راهنمایی</h4>"
   ]
  },
  {
   "cell_type": "markdown",
   "metadata": {
    "tags": []
   },
   "source": [
    "<p style='direction:rtl;text-align:right;font-size:16px;font-family:samim;'>\n",
    " از یک تابع فیلتر برای حذف مقادیر None استفاده کنید.\n",
    "</p>"
   ]
  },
  {
   "cell_type": "markdown",
   "metadata": {
    "jp-MarkdownHeadingCollapsed": true,
    "tags": []
   },
   "source": [
    "<h4 style='direction:rtl;text-align:right;font-size:18px;font-family:samim;'>جواب</h4>"
   ]
  },
  {
   "cell_type": "code",
   "execution_count": 36,
   "metadata": {},
   "outputs": [
    {
     "name": "stdout",
     "output_type": "stream",
     "text": [
      "[1, 2, 3, 4]\n"
     ]
    }
   ],
   "source": [
    "items = [1, None, 2, None, 3, None, 4]\n",
    "\n",
    "filtered_items = list(filter(None, items))\n",
    "print(filtered_items)\n"
   ]
  },
  {
   "cell_type": "markdown",
   "metadata": {},
   "source": [
    "<h2 style='direction:rtl;text-align:right;font-family:samim;'><b>🔸 تمرین ۳۶</b></h2>"
   ]
  },
  {
   "cell_type": "markdown",
   "metadata": {},
   "source": [
    "<p style='direction:rtl;text-align:right;font-size:18px;font-family:samim;line-height:1.5;'>\n",
    "   لیستی از کلمات دارید. برنامه‌ای بنویسید که همه کلمات را به حروف بزرگ تبدیل کند.\n",
    "<br>\n",
    "    <br>\n",
    "    $$\\texttt{words = [\"apple\", \"banana\", \"cherry\"]}$$\n",
    "</p>"
   ]
  },
  {
   "cell_type": "code",
   "execution_count": null,
   "metadata": {},
   "outputs": [],
   "source": []
  },
  {
   "cell_type": "markdown",
   "metadata": {
    "tags": []
   },
   "source": [
    "<h4 style='direction:rtl;text-align:right;font-size:18px;font-family:samim;'>راهنمایی</h4>"
   ]
  },
  {
   "cell_type": "markdown",
   "metadata": {
    "tags": []
   },
   "source": [
    "<p style='direction:rtl;text-align:right;font-size:16px;font-family:samim;'>\n",
    "از یک تابع نگاشت برای تبدیل هر کلمه به حروف بزرگ استفاده کنید و سپس لیست جدیدی با این کلمات ایجاد کنید.\n",
    "</p>"
   ]
  },
  {
   "cell_type": "markdown",
   "metadata": {
    "jp-MarkdownHeadingCollapsed": true,
    "tags": []
   },
   "source": [
    "<h4 style='direction:rtl;text-align:right;font-size:18px;font-family:samim;'>جواب</h4>"
   ]
  },
  {
   "cell_type": "code",
   "execution_count": 37,
   "metadata": {},
   "outputs": [
    {
     "name": "stdout",
     "output_type": "stream",
     "text": [
      "['APPLE', 'BANANA', 'CHERRY']\n"
     ]
    }
   ],
   "source": [
    "words = [\"apple\", \"banana\", \"cherry\"]\n",
    "\n",
    "uppercase_words = list(map(str.upper, words))\n",
    "print(uppercase_words)\n"
   ]
  },
  {
   "cell_type": "markdown",
   "metadata": {},
   "source": [
    "<h2 style='direction:rtl;text-align:right;font-family:samim;'><b>🔸 تمرین ۳۷</b></h2>"
   ]
  },
  {
   "cell_type": "markdown",
   "metadata": {},
   "source": [
    "<p style='direction:rtl;text-align:right;font-size:18px;font-family:samim;line-height:1.5;'>\n",
    "لیستی از رشته‌ها دارید که برخی از آنها ممکن است خالی باشند. برنامه‌ای بنویسید که تمام رشته‌های خالی را حذف کند.\n",
    "<br>\n",
    "    <br>\n",
    "    $$\\texttt{strings = [\"apple\", \"\", \"banana\", \" \", \"cherry\", \"\"]}$$\n",
    "</p>"
   ]
  },
  {
   "cell_type": "code",
   "execution_count": null,
   "metadata": {},
   "outputs": [],
   "source": []
  },
  {
   "cell_type": "markdown",
   "metadata": {
    "tags": []
   },
   "source": [
    "<h4 style='direction:rtl;text-align:right;font-size:18px;font-family:samim;'>راهنمایی</h4>"
   ]
  },
  {
   "cell_type": "markdown",
   "metadata": {
    "tags": []
   },
   "source": [
    "<p style='direction:rtl;text-align:right;font-size:16px;font-family:samim;'>\n",
    "برای حذف رشته‌های خالی از لیست، از یک فیلتر استفاده کنید تا فقط رشته‌های غیر خالی را نگه‌دارید.\n",
    "</p>"
   ]
  },
  {
   "cell_type": "markdown",
   "metadata": {
    "jp-MarkdownHeadingCollapsed": true,
    "tags": []
   },
   "source": [
    "<h4 style='direction:rtl;text-align:right;font-size:18px;font-family:samim;'>جواب</h4>"
   ]
  },
  {
   "cell_type": "code",
   "execution_count": 41,
   "metadata": {},
   "outputs": [
    {
     "name": "stdout",
     "output_type": "stream",
     "text": [
      "['apple', 'banana', 'cherry']\n"
     ]
    }
   ],
   "source": [
    "strings = [\"apple\", \"\", \"banana\", \" \", \"cherry\", \"\"]\n",
    "\n",
    "non_empty_strings = list(filter(str.strip, strings))\n",
    "\n",
    "print(non_empty_strings)\n"
   ]
  },
  {
   "cell_type": "markdown",
   "metadata": {},
   "source": [
    "<h2 style='direction:rtl;text-align:right;font-family:samim;'><b>🔸 تمرین ۳۸</b></h2>"
   ]
  },
  {
   "cell_type": "markdown",
   "metadata": {},
   "source": [
    "<p style='direction:rtl;text-align:right;font-size:18px;font-family:samim;line-height:1.5;'>\n",
    "   لیستی از اعداد دارید که برخی از آنها صفر هستند. برنامه‌ای بنویسید که تمام اعداد صفر را حذف کند.\n",
    "<br>\n",
    "    <br>\n",
    "    $$\\texttt{numbers = [0, 1, 2, 0, 3, 4, 5, 0]}$$\n",
    "</p>"
   ]
  },
  {
   "cell_type": "code",
   "execution_count": null,
   "metadata": {},
   "outputs": [],
   "source": []
  },
  {
   "cell_type": "markdown",
   "metadata": {
    "tags": []
   },
   "source": [
    "<h4 style='direction:rtl;text-align:right;font-size:18px;font-family:samim;'>راهنمایی</h4>"
   ]
  },
  {
   "cell_type": "markdown",
   "metadata": {
    "tags": []
   },
   "source": [
    "<p style='direction:rtl;text-align:right;font-size:16px;font-family:samim;'>\n",
    "در فیلتر کردن، صفر را مشابه None در نظر بگیرید.\n",
    "</p>"
   ]
  },
  {
   "cell_type": "markdown",
   "metadata": {
    "jp-MarkdownHeadingCollapsed": true,
    "tags": []
   },
   "source": [
    "<h4 style='direction:rtl;text-align:right;font-size:18px;font-family:samim;'>جواب</h4>"
   ]
  },
  {
   "cell_type": "code",
   "execution_count": 42,
   "metadata": {},
   "outputs": [
    {
     "name": "stdout",
     "output_type": "stream",
     "text": [
      "[1, 2, 3, 4, 5]\n"
     ]
    }
   ],
   "source": [
    "numbers = [0, 1, 2, 0, 3, 4, 5, 0]\n",
    "\n",
    "non_zero_numbers = list(filter(None, numbers))\n",
    "\n",
    "print(non_zero_numbers)\n"
   ]
  },
  {
   "cell_type": "markdown",
   "metadata": {},
   "source": [
    "<h2 style='direction:rtl;text-align:right;font-family:samim;'><b>🔸 تمرین ۳۹</b></h2>"
   ]
  },
  {
   "cell_type": "markdown",
   "metadata": {},
   "source": [
    "<p style='direction:rtl;text-align:right;font-size:18px;font-family:samim;line-height:1.5;'>\n",
    "   فرض کنید لیستی از اعداد دارید. شما باید یک برنامه بنویسید که از iterator برای محاسبه میانگین این اعداد استفاده کند.\n",
    "<br>\n",
    "    <br>\n",
    "    $$\\texttt{numbers = [10, 20, 30, 40, 50]}$$\n",
    "</p>"
   ]
  },
  {
   "cell_type": "code",
   "execution_count": null,
   "metadata": {},
   "outputs": [],
   "source": []
  },
  {
   "cell_type": "markdown",
   "metadata": {
    "tags": []
   },
   "source": [
    "<h4 style='direction:rtl;text-align:right;font-size:18px;font-family:samim;'>راهنمایی</h4>"
   ]
  },
  {
   "cell_type": "markdown",
   "metadata": {
    "tags": []
   },
   "source": [
    "<p style='direction:rtl;text-align:right;font-size:16px;font-family:samim;'>\n",
    "ابتدا یک iterator از لیست اعداد بسازید. سپس با استفاده از یک حلقه، مجموع و تعداد اعداد را محاسبه کنید.\n",
    "</p>"
   ]
  },
  {
   "cell_type": "markdown",
   "metadata": {
    "jp-MarkdownHeadingCollapsed": true,
    "tags": []
   },
   "source": [
    "<h4 style='direction:rtl;text-align:right;font-size:18px;font-family:samim;'>جواب</h4>"
   ]
  },
  {
   "cell_type": "code",
   "execution_count": 43,
   "metadata": {},
   "outputs": [
    {
     "name": "stdout",
     "output_type": "stream",
     "text": [
      "Average: 30.0\n"
     ]
    }
   ],
   "source": [
    "numbers = [10, 20, 30, 40, 50]\n",
    "\n",
    "# ایجاد یک iterator از لیست numbers\n",
    "iterator = iter(numbers)\n",
    "\n",
    "\n",
    "total = 0\n",
    "count = 0\n",
    "\n",
    "for num in iterator:\n",
    "    total += num\n",
    "    count += 1\n",
    "\n",
    "\n",
    "average = total / count if count != 0 else 0\n",
    "\n",
    "print(f\"Average: {average}\")\n"
   ]
  },
  {
   "cell_type": "markdown",
   "metadata": {},
   "source": [
    "<h2 style='direction:rtl;text-align:right;font-family:samim;'><b>🔸 تمرین ۴۰</b></h2>"
   ]
  },
  {
   "cell_type": "markdown",
   "metadata": {},
   "source": [
    "<p style='direction:rtl;text-align:right;font-size:18px;font-family:samim;line-height:1.5;'>\n",
    "   شما در حال توسعه نرم‌افزاری برای جمع‌آوری و تحلیل داده‌های حسگرهای محیطی هستید. هر حسگر یک عدد صحیح به عنوان خروجی تولید می‌کند که باید به یک رشته باینری تبدیل شود تا برای پردازش ارسال شود.\n",
    "    <br>\n",
    "    <br>\n",
    "    $$\\texttt{sensor_data = [18, 35, 255, 1024]}$$\n",
    "</p>"
   ]
  },
  {
   "cell_type": "code",
   "execution_count": null,
   "metadata": {},
   "outputs": [],
   "source": []
  },
  {
   "cell_type": "markdown",
   "metadata": {
    "tags": []
   },
   "source": [
    "<h4 style='direction:rtl;text-align:right;font-size:18px;font-family:samim;'>راهنمایی</h4>"
   ]
  },
  {
   "cell_type": "markdown",
   "metadata": {
    "tags": []
   },
   "source": [
    "<p style='direction:rtl;text-align:right;font-size:16px;font-family:samim;'>\n",
    "از یک تابع تبدیل مناسب برای تبدیل هر عدد به رشته باینری استفاده کنید.\n",
    "</p>"
   ]
  },
  {
   "cell_type": "markdown",
   "metadata": {
    "jp-MarkdownHeadingCollapsed": true,
    "tags": []
   },
   "source": [
    "<h4 style='direction:rtl;text-align:right;font-size:18px;font-family:samim;'>جواب</h4>"
   ]
  },
  {
   "cell_type": "code",
   "execution_count": 44,
   "metadata": {},
   "outputs": [
    {
     "name": "stdout",
     "output_type": "stream",
     "text": [
      "Binary data: ['0b10010', '0b100011', '0b11111111', '0b10000000000']\n"
     ]
    }
   ],
   "source": [
    "sensor_data = [18, 35, 255, 1024]\n",
    "\n",
    "\n",
    "binary_data = list(map(bin, sensor_data))\n",
    "\n",
    "print(\"Binary data:\", binary_data)\n"
   ]
  },
  {
   "cell_type": "markdown",
   "metadata": {},
   "source": [
    "<h2 style='direction:rtl;text-align:right;font-family:samim;'><b>🔸 تمرین ۴۱*</b></h2>"
   ]
  },
  {
   "cell_type": "markdown",
   "metadata": {},
   "source": [
    "<p style='direction:rtl;text-align:right;font-size:18px;font-family:samim;line-height:1.5;'>\n",
    "   شما در حال طراحی یک برنامه گرافیکی هستید که نیاز به نمایش رنگ‌ها به صورت هگزا دسیمال دارد. هر رنگ با سه مقدار (قرمز، سبز، آبی) به صورت عددی بین ۰ تا ۲۵۵ مشخص می‌شود.برنامه‌ای بنویسید که لیستی از مقادیر RGB را گرفته و به رنگ‌های هگزا دسیمال تبدیل کند.\n",
    "<br>\n",
    "    <br>\n",
    "    $$\\texttt{colors = [(255, 0, 0), (0, 255, 0), (0, 0, 255), (255, 255, 255)]}$$\n",
    "<p style='direction:rtl;text-align:right;font-size:16px;font-family:samim;line-height:1.5;'>    \n",
    "    توجه:برای تبدیل مقادیر RGB به هگزا دسیمال، هر مقدار رنگ (قرمز، سبز، آبی) باید به فرمت هگزا دسیمال تبدیل شود. هگزا دسیمال برای رنگ‌ها معمولاً با # شروع می‌شود و شامل شش رقم است.\n",
    "</p>"
   ]
  },
  {
   "cell_type": "code",
   "execution_count": null,
   "metadata": {},
   "outputs": [],
   "source": []
  },
  {
   "cell_type": "markdown",
   "metadata": {
    "tags": []
   },
   "source": [
    "<h4 style='direction:rtl;text-align:right;font-size:18px;font-family:samim;'>راهنمایی</h4>"
   ]
  },
  {
   "cell_type": "markdown",
   "metadata": {
    "tags": []
   },
   "source": [
    "<p style='direction:rtl;text-align:right;font-size:16px;font-family:samim;'>\n",
    "'{:02x}': این قالب‌بندی هر عدد را به فرمت هگزا تبدیل می‌کند و دو رقم را نمایش می‌دهد (مثل ff برای ۲۵۵).\n",
    "    02 نشان‌دهنده این است که مقدار باید دو رقم داشته باشد و x نمایانگر هگزا دسیمال است.\n",
    "    \n",
    "</p>"
   ]
  },
  {
   "cell_type": "markdown",
   "metadata": {
    "jp-MarkdownHeadingCollapsed": true,
    "tags": []
   },
   "source": [
    "<h4 style='direction:rtl;text-align:right;font-size:18px;font-family:samim;'>جواب</h4>"
   ]
  },
  {
   "cell_type": "code",
   "execution_count": 45,
   "metadata": {},
   "outputs": [
    {
     "name": "stdout",
     "output_type": "stream",
     "text": [
      "Hex colors: ['#ff0000', '#00ff00', '#0000ff', '#ffffff']\n"
     ]
    }
   ],
   "source": [
    "colors = [(255, 0, 0), (0, 255, 0), (0, 0, 255), (255, 255, 255)]\n",
    "\n",
    "hex_colors = ['#{:02x}{:02x}{:02x}'.format(r, g, b) for r, g, b in colors]\n",
    "\n",
    "print(\"Hex colors:\", hex_colors)\n"
   ]
  },
  {
   "cell_type": "markdown",
   "metadata": {},
   "source": [
    "<h2 style='direction:rtl;text-align:right;font-family:samim;'><b>🔸 تمرین ۴۲</b></h2>"
   ]
  },
  {
   "cell_type": "markdown",
   "metadata": {},
   "source": [
    "<p style='direction:rtl;text-align:right;font-size:18px;font-family:samim;line-height:1.5;'>\n",
    "   شما در حال توسعه یک سیستم پیام‌رسانی امن هستید. یکی از مراحل رمزگذاری پیام‌ها، تبدیل هر کاراکتر پیام به کد ASCII معادل آن است.برنامه‌ای بنویسید که یک پیام متنی را گرفته و آن را به لیستی از کدهای ASCII تبدیل کند.\n",
    "    <br>\n",
    "    <br>\n",
    "    $$\\texttt{message = \"Hello, World!\"}$$\n",
    "</p>"
   ]
  },
  {
   "cell_type": "code",
   "execution_count": null,
   "metadata": {},
   "outputs": [],
   "source": []
  },
  {
   "cell_type": "markdown",
   "metadata": {
    "tags": []
   },
   "source": [
    "<h4 style='direction:rtl;text-align:right;font-size:18px;font-family:samim;'>راهنمایی</h4>"
   ]
  },
  {
   "cell_type": "markdown",
   "metadata": {
    "tags": []
   },
   "source": [
    "<p style='direction:rtl;text-align:right;font-size:16px;font-family:samim;'>\n",
    "برای تبدیل یک پیام متنی به لیستی از کدهای ASCII، هر کاراکتر پیام را با استفاده از تابعی که مقدار ASCII آن را برمی‌گرداند، تبدیل کنید. سپس این مقادیر را در لیستی جمع‌آوری کنید.\n",
    "</p>"
   ]
  },
  {
   "cell_type": "markdown",
   "metadata": {
    "jp-MarkdownHeadingCollapsed": true,
    "tags": []
   },
   "source": [
    "<h4 style='direction:rtl;text-align:right;font-size:18px;font-family:samim;'>جواب</h4>"
   ]
  },
  {
   "cell_type": "code",
   "execution_count": 46,
   "metadata": {},
   "outputs": [
    {
     "name": "stdout",
     "output_type": "stream",
     "text": [
      "ASCII codes: [72, 101, 108, 108, 111, 44, 32, 87, 111, 114, 108, 100, 33]\n"
     ]
    }
   ],
   "source": [
    "message = \"Hello, World!\"\n",
    "\n",
    "ascii_codes = list(map(ord, message))\n",
    "\n",
    "print(\"ASCII codes:\", ascii_codes)\n"
   ]
  },
  {
   "cell_type": "code",
   "execution_count": null,
   "metadata": {},
   "outputs": [],
   "source": []
  },
  {
   "cell_type": "markdown",
   "metadata": {},
   "source": [
    "<h2 style='direction:rtl;text-align:right;font-family:samim;'><b>🔸 تمرین ۴۳*</b></h2>"
   ]
  },
  {
   "cell_type": "markdown",
   "metadata": {},
   "source": [
    "<p style='direction:rtl;text-align:right;font-size:18px;font-family:samim;line-height:1.5;'>\n",
    "کدی بنویسید که از کاربر چندین عدد دریافت کرده و میانگین آنها را محاسبه کند. تعداد اعدادی که\n",
    "کاربر وارد میکند باید متغیر باشد. زمانی که اعداد کاربر تمام شد، باید عدد صفر را وارد کند تا عملیات\n",
    "دریافت ورودی، متوقف شود.\n",
    "    <br>\n",
    "** برای ورودی‌های1،5،9و0 خروجی برابر است با:5\n",
    "</p>"
   ]
  },
  {
   "cell_type": "code",
   "execution_count": null,
   "metadata": {},
   "outputs": [],
   "source": []
  },
  {
   "cell_type": "markdown",
   "metadata": {
    "tags": []
   },
   "source": [
    "<h4 style='direction:rtl;text-align:right;font-size:18px;font-family:samim;'>راهنمایی</h4>"
   ]
  },
  {
   "cell_type": "markdown",
   "metadata": {
    "tags": []
   },
   "source": [
    "<p style='direction:rtl;text-align:right;font-size:16px;font-family:samim;'>\n",
    "یک لیست خالی ایجاد کنید تا اعداد وارد شده توسط کاربر را ذخیره کنید.\n",
    "    از حلقه‌ای استفاده کنید که به طور مداوم از کاربر ورودی بگیرد تا عدد صفر وارد شود.\n",
    "    اگر کاربر عدد صفر را وارد کند، حلقه را متوقف کنید.\n",
    "    پس از پایان دریافت ورودی‌ها، میانگین اعداد موجود در لیست را محاسبه کنید.\n",
    "اگر لیست خالی است (یعنی کاربر فقط عدد صفر وارد کرده باشد)، پیام مناسب نمایش دهید.\n",
    "</p>"
   ]
  },
  {
   "cell_type": "markdown",
   "metadata": {
    "jp-MarkdownHeadingCollapsed": true,
    "tags": []
   },
   "source": [
    "<h4 style='direction:rtl;text-align:right;font-size:18px;font-family:samim;'>جواب</h4>"
   ]
  },
  {
   "cell_type": "code",
   "execution_count": 3,
   "metadata": {},
   "outputs": [
    {
     "name": "stdout",
     "output_type": "stream",
     "text": [
      "Enter a number (0 to stop): 7\n",
      "Enter a number (0 to stop): 9\n",
      "Enter a number (0 to stop): 13\n",
      "Enter a number (0 to stop): 20\n",
      "Enter a number (0 to stop): 0\n",
      "The average is: 12.25\n"
     ]
    }
   ],
   "source": [
    "numbers = []\n",
    "\n",
    "# دریافت اعداد از کاربر\n",
    "while True:\n",
    "    # دریافت ورودی از کاربر\n",
    "    user_input = input(\"Enter a number (0 to stop): \")\n",
    "    \n",
    "    # تبدیل ورودی به عدد صحیح\n",
    "    number = int(user_input)\n",
    "    \n",
    "    # اگر عدد صفر بود، حلقه را متوقف کن\n",
    "    if number == 0:\n",
    "        break\n",
    "    \n",
    "    # اضافه کردن عدد به لیست\n",
    "    numbers.append(number)\n",
    "\n",
    "# محاسبه میانگین اعداد\n",
    "if len(numbers) > 0:\n",
    "    average = sum(numbers) / len(numbers)\n",
    "    print(f\"The average is: {average}\")\n",
    "else:\n",
    "    print(\"No numbers were entered.\")"
   ]
  },
  {
   "cell_type": "markdown",
   "metadata": {},
   "source": [
    "<h2 style='direction:rtl;text-align:right;font-family:samim;'><b>🔸 تمرین ۴۴</b></h2>"
   ]
  },
  {
   "cell_type": "markdown",
   "metadata": {},
   "source": [
    "<p style='direction:rtl;text-align:right;font-size:18px;font-family:samim;line-height:1.5;'>\n",
    "   شما در حال توسعه یک برنامه مبدل چندمنظوره هستید که به کاربر اجازه می‌دهد تا نوع تبدیل مورد نظر خود را انتخاب کرده و ورودی مربوطه را وارد کند. برنامه باید بر اساس انتخاب کاربر، تبدیل مربوطه را انجام داده و نتیجه را چاپ کند.از کاربر بخواهد که نوع تبدیل را انتخاب کند: 1 برای تبدیل عدد به باینری، 2 برای تبدیل عدد به هگزا دسیمال، 3 برای تبدیل کد ASCII به کاراکتر، 4 برای تبدیل کاراکتر به کد ASCII، 5 برای بررسی حقیقتی یک عدد.\n",
    "بر اساس انتخاب کاربر، ورودی مناسب را از کاربر بگیرد.\n",
    "تبدیل را انجام داده و نتیجه را چاپ کند.\n",
    "</p>"
   ]
  },
  {
   "cell_type": "code",
   "execution_count": null,
   "metadata": {},
   "outputs": [],
   "source": []
  },
  {
   "cell_type": "markdown",
   "metadata": {
    "tags": []
   },
   "source": [
    "<h4 style='direction:rtl;text-align:right;font-size:18px;font-family:samim;'>راهنمایی</h4>"
   ]
  },
  {
   "cell_type": "markdown",
   "metadata": {
    "tags": []
   },
   "source": [
    "<p style='direction:rtl;text-align:right;font-size:16px;font-family:samim;'>\n",
    "از کاربر نوع تبدیل را بپرسید و آن را با استفاده از دستور input دریافت کنید.\n",
    "بر اساس انتخاب کاربر، ورودی مناسب را دریافت کرده و تبدیل مربوطه را انجام دهید.\n",
    "</p>"
   ]
  },
  {
   "cell_type": "markdown",
   "metadata": {
    "jp-MarkdownHeadingCollapsed": true,
    "tags": []
   },
   "source": [
    "<h4 style='direction:rtl;text-align:right;font-size:18px;font-family:samim;'>جواب</h4>"
   ]
  },
  {
   "cell_type": "code",
   "execution_count": 49,
   "metadata": {},
   "outputs": [
    {
     "name": "stdout",
     "output_type": "stream",
     "text": [
      "Enter conversion type (1: int to bin, 2: int to hex, 3: ASCII to char, 4: char to ASCII, 5: check truth value): 3\n",
      "Enter an ASCII code: 489\n",
      "The character for ASCII code 489 is ǩ\n"
     ]
    }
   ],
   "source": [
    "# درخواست نوع تبدیل از کاربر\n",
    "conversion_type = input(\"Enter conversion type (1: int to bin, 2: int to hex, 3: ASCII to char, 4: char to ASCII, 5: check truth value): \")\n",
    "\n",
    "# بر اساس نوع تبدیل، ورودی مناسب را از کاربر بگیرید و تبدیل را انجام دهید\n",
    "if conversion_type == '1':\n",
    "    number = int(input(\"Enter an integer: \"))\n",
    "    result = bin(number)\n",
    "    print(f\"The binary representation of {number} is {result}\")\n",
    "elif conversion_type == '2':\n",
    "    number = int(input(\"Enter an integer: \"))\n",
    "    result = hex(number)\n",
    "    print(f\"The hexadecimal representation of {number} is {result}\")\n",
    "elif conversion_type == '3':\n",
    "    ascii_code = int(input(\"Enter an ASCII code: \"))\n",
    "    result = chr(ascii_code)\n",
    "    print(f\"The character for ASCII code {ascii_code} is {result}\")\n",
    "elif conversion_type == '4':\n",
    "    character = input(\"Enter a character: \")\n",
    "    result = ord(character)\n",
    "    print(f\"The ASCII code for character {character} is {result}\")\n",
    "elif conversion_type == '5':\n",
    "    number = int(input(\"Enter an integer: \"))\n",
    "    result = bool(number)\n",
    "    print(f\"The truth value of {number} is {result}\")\n",
    "else:\n",
    "    print(\"Invalid conversion type selected.\")\n"
   ]
  },
  {
   "cell_type": "markdown",
   "metadata": {},
   "source": [
    "<h2 style='direction:rtl;text-align:right;font-family:samim;'><b>🔸 تمرین ۴۵</b></h2>"
   ]
  },
  {
   "cell_type": "markdown",
   "metadata": {},
   "source": [
    "<p style='direction:rtl;text-align:right;font-size:18px;font-family:samim;line-height:1.5;'>\n",
    "   فرض کنید شما در حال کار بر روی یک پروژه تحلیل متن هستید. یک لیست از رشته‌ها به شما داده شده است. برنامه‌ای بنویسید که طول بلندترین رشته را در این لیست پیدا کند.\n",
    "    <br>\n",
    "    <br>\n",
    "    $$\\texttt{strings = [\"apple\", \"banana\", \"cherry\", \"date\"]}$$\n",
    "</p>"
   ]
  },
  {
   "cell_type": "code",
   "execution_count": null,
   "metadata": {},
   "outputs": [],
   "source": []
  },
  {
   "cell_type": "markdown",
   "metadata": {
    "tags": []
   },
   "source": [
    "<h4 style='direction:rtl;text-align:right;font-size:18px;font-family:samim;'>راهنمایی</h4>"
   ]
  },
  {
   "cell_type": "markdown",
   "metadata": {
    "tags": []
   },
   "source": [
    "<p style='direction:rtl;text-align:right;font-size:16px;font-family:samim;'>\n",
    " برای هر رشته در لیست، طول آن را با استفاده از تابعی که طول رشته را برمی‌گرداند، محاسبه کنید سپس از میان طول‌های محاسبه‌شده، بزرگ‌ترین را انتخاب کنید.\n",
    "</p>"
   ]
  },
  {
   "cell_type": "markdown",
   "metadata": {
    "jp-MarkdownHeadingCollapsed": true,
    "tags": []
   },
   "source": [
    "<h4 style='direction:rtl;text-align:right;font-size:18px;font-family:samim;'>جواب</h4>"
   ]
  },
  {
   "cell_type": "code",
   "execution_count": 50,
   "metadata": {},
   "outputs": [
    {
     "name": "stdout",
     "output_type": "stream",
     "text": [
      "Max length: 6\n"
     ]
    }
   ],
   "source": [
    "strings = [\"apple\", \"banana\", \"cherry\", \"date\"]\n",
    "\n",
    "# محاسبه طول هر رشته\n",
    "lengths = list(map(len, strings))\n",
    "\n",
    "# پیدا کردن بیشترین طول\n",
    "max_length = max(lengths)\n",
    "\n",
    "print(\"Max length:\", max_length)\n"
   ]
  },
  {
   "cell_type": "markdown",
   "metadata": {},
   "source": [
    "<h2 style='direction:rtl;text-align:right;font-family:samim;'><b>🔸 تمرین ۴۶</b></h2>"
   ]
  },
  {
   "cell_type": "markdown",
   "metadata": {},
   "source": [
    "<p style='direction:rtl;text-align:right;font-size:18px;font-family:samim;line-height:1.5;'>\n",
    "   فرض کنید شما در حال توسعه یک نرم‌افزار حسابداری هستید و نیاز دارید مجموع تمام اعداد موجود در یک ماتریس دو بعدی را محاسبه کنید.\n",
    "</p>"
   ]
  },
  {
   "cell_type": "code",
   "execution_count": null,
   "metadata": {},
   "outputs": [],
   "source": []
  },
  {
   "cell_type": "markdown",
   "metadata": {
    "tags": []
   },
   "source": [
    "<h4 style='direction:rtl;text-align:right;font-size:18px;font-family:samim;'>راهنمایی</h4>"
   ]
  },
  {
   "cell_type": "markdown",
   "metadata": {
    "tags": []
   },
   "source": [
    "<p style='direction:rtl;text-align:right;font-size:16px;font-family:samim;'>\n",
    "برای هر سطر در ماتریس، با استفاده از تابعی که مجموع اعداد درون سطر را محاسبه می‌کند، مقدار مجموع سطر را بدست آورید سپس مجموع تمامی مقادیر سطرها را جمع کنید تا مجموع کل ماتریس بدست آید.\n",
    "    \n",
    "</p>"
   ]
  },
  {
   "cell_type": "markdown",
   "metadata": {
    "jp-MarkdownHeadingCollapsed": true,
    "tags": []
   },
   "source": [
    "<h4 style='direction:rtl;text-align:right;font-size:18px;font-family:samim;'>جواب</h4>"
   ]
  },
  {
   "cell_type": "code",
   "execution_count": null,
   "metadata": {},
   "outputs": [],
   "source": [
    "matrix = [\n",
    "    [1, 2, 3],\n",
    "    [4, 5, 6],\n",
    "    [7, 8, 9]\n",
    "]\n",
    "\n",
    "# محاسبه مجموع هر سطر\n",
    "row_sums = list(map(sum, matrix))\n",
    "\n",
    "# محاسبه مجموع تمامی سطرها\n",
    "total_sum = sum(row_sums)\n",
    "\n",
    "print(\"Total sum:\", total_sum)\n"
   ]
  },
  {
   "cell_type": "markdown",
   "metadata": {},
   "source": [
    "<h2 style='direction:rtl;text-align:right;font-family:samim;'><b>🔸 تمرین ۴۷</b></h2>"
   ]
  },
  {
   "cell_type": "markdown",
   "metadata": {},
   "source": [
    "<p style='direction:rtl;text-align:right;font-size:18px;font-family:samim;line-height:1.5;'>\n",
    "   شما در حال توسعه نرم‌افزاری هستید که باید داده‌های ورودی را بررسی کند. یک لیست از عناصر داده شده است که ممکن است شامل اعداد صحیح و یا رشته باشد. برنامه‌ای بنویسید که بررسی کند آیا هر عنصر لیست یک عدد صحیح است یا خیر.\n",
    "    <br>\n",
    "    <br>\n",
    "    $$\\texttt{elements = [1, 'a', 3, 'b', 5]}$$\n",
    "</p>"
   ]
  },
  {
   "cell_type": "code",
   "execution_count": null,
   "metadata": {},
   "outputs": [],
   "source": []
  },
  {
   "cell_type": "markdown",
   "metadata": {
    "tags": []
   },
   "source": [
    "<h4 style='direction:rtl;text-align:right;font-size:18px;font-family:samim;'>راهنمایی</h4>"
   ]
  },
  {
   "cell_type": "markdown",
   "metadata": {
    "tags": []
   },
   "source": [
    "<p style='direction:rtl;text-align:right;font-size:16px;font-family:samim;'>\n",
    "برای هر عنصر در لیست، با اعمال تابع مناسب بررسی کنید که آیا از نوع int است.  سپس از تابع all برای بررسی اینکه تمام عناصر لیست این ویژگی را دارند، استفاده کنید.\n",
    "</p>"
   ]
  },
  {
   "cell_type": "markdown",
   "metadata": {
    "jp-MarkdownHeadingCollapsed": true,
    "tags": []
   },
   "source": [
    "<h4 style='direction:rtl;text-align:right;font-size:18px;font-family:samim;'>جواب</h4>"
   ]
  },
  {
   "cell_type": "code",
   "execution_count": 1,
   "metadata": {},
   "outputs": [
    {
     "name": "stdout",
     "output_type": "stream",
     "text": [
      "All elements are integers: False\n",
      "All elements are integers: False\n"
     ]
    }
   ],
   "source": [
    "elements = [1, 'a', 3, 'b', 5]\n",
    "\n",
    "# بررسی اینکه آیا هر عنصر لیست یک عدد صحیح است\n",
    "is_integer_list = all(map(str.isdigit, map(str, elements)))\n",
    "\n",
    "print(\"All elements are integers:\", is_integer_list)\n",
    "\n",
    "#روش دوم\n",
    "\n",
    "is_integer_list = all(isinstance(element, int) for element in elements)\n",
    "\n",
    "print(\"All elements are integers:\", is_integer_list)\n"
   ]
  },
  {
   "cell_type": "markdown",
   "metadata": {},
   "source": [
    "<h2 style='direction:rtl;text-align:right;font-family:samim;'><b>🔸 تمرین ۴۸*</b></h2>"
   ]
  },
  {
   "cell_type": "markdown",
   "metadata": {},
   "source": [
    "<p style='direction:rtl;text-align:right;font-size:18px;font-family:samim;line-height:1.5;'>\n",
    "   شما در حال توسعه نرم‌افزاری برای تحلیل داده‌های ماتریسی هستید. یک ماتریس دو بعدی به صورت لیستی از لیست‌ها داده شده است. برنامه‌ای بنویسید که ستون‌هایی را پیدا کند که تمام عناصر آن‌ها صفر است.\n",
    "    $$\\texttt{matrix = [\n",
    "    [0, 1, 0],\n",
    "    [0, 0, 0],\n",
    "    [0, 2, 0]\n",
    "]}$$\n",
    "</p>"
   ]
  },
  {
   "cell_type": "code",
   "execution_count": null,
   "metadata": {},
   "outputs": [],
   "source": []
  },
  {
   "cell_type": "markdown",
   "metadata": {
    "tags": []
   },
   "source": [
    "<h4 style='direction:rtl;text-align:right;font-size:18px;font-family:samim;'>راهنمایی</h4>"
   ]
  },
  {
   "cell_type": "markdown",
   "metadata": {
    "tags": []
   },
   "source": [
    "<p style='direction:rtl;text-align:right;font-size:16px;font-family:samim;'>\n",
    "ماتریس را به صورت ستونی تبدیل کنید.\n",
    "برای هر ستون، بررسی کنید که تمام عناصر آن صفر هستند.\n",
    "شماره ستون‌هایی که این شرایط را دارند را پیدا کنید.\n",
    "</p>"
   ]
  },
  {
   "cell_type": "markdown",
   "metadata": {
    "jp-MarkdownHeadingCollapsed": true,
    "tags": []
   },
   "source": [
    "<h4 style='direction:rtl;text-align:right;font-size:18px;font-family:samim;'>جواب</h4>"
   ]
  },
  {
   "cell_type": "code",
   "execution_count": 2,
   "metadata": {},
   "outputs": [
    {
     "name": "stdout",
     "output_type": "stream",
     "text": [
      "[(0, 0, 0), (1, 0, 2), (0, 0, 0)]\n",
      "Columns with all zeros: [0, 2]\n"
     ]
    }
   ],
   "source": [
    "matrix = [\n",
    "    [0, 1, 0],\n",
    "    [0, 0, 0],\n",
    "    [0, 2, 0]\n",
    "]\n",
    "\n",
    "# ترکیب ستون‌های ماتریس به سطرها\n",
    "columns = list(zip(*matrix))\n",
    "print(columns)\n",
    "\n",
    "# پیدا کردن ستون‌هایی که همه عناصر آن‌ها صفر است\n",
    "zero_columns = [i for i, col in enumerate(columns) if all(element == 0 for element in col)]\n",
    "\n",
    "print(\"Columns with all zeros:\", zero_columns)\n"
   ]
  },
  {
   "cell_type": "markdown",
   "metadata": {},
   "source": [
    "<h2 style='direction:rtl;text-align:right;font-family:samim;'><b>🔸 تمرین ۴۹</b></h2>"
   ]
  },
  {
   "cell_type": "markdown",
   "metadata": {},
   "source": [
    "<p style='direction:rtl;text-align:right;font-size:18px;font-family:samim;line-height:1.5;'>\n",
    "    برنامه‌ای بنویسید که مجموع عناصر قطر اصلی ماتریس مربعی را محاسبه کند.\n",
    "</p>"
   ]
  },
  {
   "cell_type": "code",
   "execution_count": null,
   "metadata": {},
   "outputs": [],
   "source": []
  },
  {
   "cell_type": "markdown",
   "metadata": {
    "tags": []
   },
   "source": [
    "<h4 style='direction:rtl;text-align:right;font-size:18px;font-family:samim;'>راهنمایی</h4>"
   ]
  },
  {
   "cell_type": "markdown",
   "metadata": {
    "tags": []
   },
   "source": [
    "<p style='direction:rtl;text-align:right;font-size:16px;font-family:samim;'>\n",
    "با اندیس دهی مناسب عناصر قطر اصلی را انتخاب کنید و سپس با تابع مناسب مقادیر را با هم جمع کنید.\n",
    "</p>"
   ]
  },
  {
   "cell_type": "markdown",
   "metadata": {
    "jp-MarkdownHeadingCollapsed": true,
    "tags": []
   },
   "source": [
    "<h4 style='direction:rtl;text-align:right;font-size:18px;font-family:samim;'>جواب</h4>"
   ]
  },
  {
   "cell_type": "code",
   "execution_count": 53,
   "metadata": {},
   "outputs": [
    {
     "name": "stdout",
     "output_type": "stream",
     "text": [
      "Sum of main diagonal: 15\n"
     ]
    }
   ],
   "source": [
    "matrix = [\n",
    "    [1, 2, 3],\n",
    "    [4, 5, 6],\n",
    "    [7, 8, 9]\n",
    "]\n",
    "\n",
    "# محاسبه مجموع عناصر قطر اصلی ماتریس\n",
    "diagonal_sum = sum(matrix[i][i] for i in range(len(matrix)))\n",
    "\n",
    "print(\"Sum of main diagonal:\", diagonal_sum)\n"
   ]
  },
  {
   "cell_type": "markdown",
   "metadata": {},
   "source": [
    "<h2 style='direction:rtl;text-align:right;font-family:samim;'><b>🔸 تمرین ۵۰</b></h2>"
   ]
  },
  {
   "cell_type": "markdown",
   "metadata": {},
   "source": [
    "<p style='direction:rtl;text-align:right;font-size:18px;font-family:samim;line-height:1.5;'>\n",
    "   یک ماتریس مربعی به صورت لیستی از لیست‌ها داده شده است. برنامه‌ای بنویسید که بررسی کند آیا این ماتریس نسبت به قطر اصلی خود متقارن است یا خیر\n",
    "<br>\n",
    "    $$\\texttt{matrix = [\n",
    "    [1, 2, 3],\n",
    "    [2, 5, 6],\n",
    "    [3, 6, 9]\n",
    "]\n",
    "}$$\n",
    "</p>"
   ]
  },
  {
   "cell_type": "code",
   "execution_count": null,
   "metadata": {},
   "outputs": [],
   "source": []
  },
  {
   "cell_type": "markdown",
   "metadata": {
    "tags": []
   },
   "source": [
    "<h4 style='direction:rtl;text-align:right;font-size:18px;font-family:samim;'>راهنمایی</h4>"
   ]
  },
  {
   "cell_type": "markdown",
   "metadata": {
    "tags": []
   },
   "source": [
    "<p style='direction:rtl;text-align:right;font-size:16px;font-family:samim;'>\n",
    "ابتدا ترانهاده ماتریس رو با همان روندی که در درسنامه گفتیم بسازید برای اینکه ماتریسی متقارن باشد باید با ترانهاده خودش برابر باشد. \n",
    "</p>"
   ]
  },
  {
   "cell_type": "markdown",
   "metadata": {
    "jp-MarkdownHeadingCollapsed": true,
    "tags": []
   },
   "source": [
    "<h4 style='direction:rtl;text-align:right;font-size:18px;font-family:samim;'>جواب</h4>"
   ]
  },
  {
   "cell_type": "code",
   "execution_count": 54,
   "metadata": {},
   "outputs": [
    {
     "name": "stdout",
     "output_type": "stream",
     "text": [
      "Matrix is symmetric: True\n"
     ]
    }
   ],
   "source": [
    "matrix = [\n",
    "    [1, 2, 3],\n",
    "    [2, 5, 6],\n",
    "    [3, 6, 9]\n",
    "]\n",
    "\n",
    "# ترانهاده کردن ماتریس\n",
    "transposed_matrix = list(map(list, zip(*matrix)))\n",
    "\n",
    "# بررسی تقارن ماتریس\n",
    "is_symmetric = matrix == transposed_matrix\n",
    "\n",
    "print(\"Matrix is symmetric:\", is_symmetric)\n"
   ]
  }
 ],
 "metadata": {
  "kernelspec": {
   "display_name": "Python 3 (ipykernel)",
   "language": "python",
   "name": "python3"
  },
  "language_info": {
   "codemirror_mode": {
    "name": "ipython",
    "version": 3
   },
   "file_extension": ".py",
   "mimetype": "text/x-python",
   "name": "python",
   "nbconvert_exporter": "python",
   "pygments_lexer": "ipython3",
   "version": "3.9.12"
  }
 },
 "nbformat": 4,
 "nbformat_minor": 4
}
