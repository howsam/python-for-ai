{
 "cells": [
  {
   "cell_type": "markdown",
   "id": "d2483906",
   "metadata": {},
   "source": [
    "<div style=\"text-align:center; font-family:samim; font-size:30px;\"><strong> آشنایی با حلقه</strong></div>   \n",
    "<br>\n",
    "<p style=\"text-align:center; font-family:samim; font-size:20px;\">تمرین سری ششم</p> \n",
    "<br>\n",
    "</p>"
   ]
  },
  {
   "cell_type": "markdown",
   "id": "d4056131",
   "metadata": {},
   "source": [
    "<p style='direction:rtl;text-align:right;font-size:17px;font-family:samim;line-height:1.5;'>\n",
    "    در این سلسله تمرین‌های آموزشی \"پایتون برای هوش مصنوعی با هوسم\"، ما از شما دعوت می‌کنیم که با یک روند گام به گام، به تدریج پیشرفت کنید. این مسیر ممکن است زمان‌بر باشد، پس صبور باشید و به راهنمایی‌ها و راهکارهایی که از تجربه ما در ارتباط با دانشجویان مختلف بدست آمده است، اعتماد کنید. برای حل مسائل، لطفا به نکات زیر توجه کنید. امیدواریم شاهد پیشرفت‌های شما در این مسیر باشیم. موفق و پیروز باشید!\n",
    "    </p>\n",
    "<br>\n",
    "<div style=\"font-family: samim; font-size: 14px; text-align: right; direction: rtl;\">\n",
    "    <strong>فونت صمیم:</strong> برای مشاهده بهتر توضیحات فارسی، پیشنهاد می‌شود فونت رایگان صمیم را روی سیستم شخصی خود نصب کنید. <a href=\"https://www.fontyab.com/5024/%D9%81%D9%88%D9%86%D8%AA-%D9%81%D8%A7%D8%B1%D8%B3%DB%8C-%D8%B5%D9%85%DB%8C%D9%85.html\">لینک دانلود فونت صمیم</a>\n",
    "    <br>\n",
    "    <br>\n",
    "    <strong>نحوه مشاهده تمرین‌ها:</strong> هر تمرین شامل سه بخش سوال، راهنمایی و جواب هست. راهنمایی و جواب مینیمایز شده است. بهتر هست از Jupyter Lab برای مشاهده درست نوتبوک‌ها و سلول‌ها استفاده شود.\n",
    "    <br>\n",
    "    <br>\n",
    "    <strong>تمرکز بر روی مسئله:</strong> قبل از هر چیز، هر سوال را دقیق بخوانید و به آن فکر کنید. این اولین گام برای حل مسئله است.\n",
    "    <br>\n",
    "    <br>\n",
    "    <strong>استفاده از کاغذ:</strong> اگر نیاز بود، فلوچارت حل مساله را روی کاغذ بنویسید و به آن فکر کنید. بسیاری اوقات، این کار می‌تواند به روشن شدن مساله و حل بهتر آن کمک کند.\n",
    "    <br>\n",
    "    <br>\n",
    "    <strong>شروع به کدنویسی:</strong> دست روی کیبورد و کدنویسی را فراموش نکنید! برای تسلط بر پایتون، نیاز هست تمرین‌های زیادی را کد بزنید.\n",
    "    <br>\n",
    "    <br>\n",
    "    <strong>استفاده متناسب از منابع:</strong> سعی کنید بدون استفاده از ابزارهای کمکی نظیر ChatGPT یا اینترنت، مسئله‌ها را حل کنید. دراینصورت، قدرت حل مساله در مغز شما تقویت می‌شود.\n",
    "    <br>\n",
    "    <br>\n",
    "    <strong>راهنمایی و ارزیابی:</strong> اگر پس از تلاش، به نتیجه نرسیدید، راهنمایی‌های ارائه شده را مطالعه کرده و دوباره به حل مساله بپردازید. اگر بعد از چند ساعت تلاش برای یک مساله، نتواستید، آنگاه جواب مساله را نگاه کنید.\n",
    "    <br>\n",
    "    <br>\n",
    "    <strong>مبتنی بر محتوا:</strong> سعی کنید با توجه به مباحثی که در ویدیو آموزش هر فصل آموخته‌اید، به سوالات پاسخ دهید و از دستورات جدید خودداری کنید. این به شما کمک می‌کند تا گام به گام و با پیشرفت مرحله‌ای، مسائل را حل کنید.\n",
    "    <br>\n",
    "    <br>\n",
    "    <strong>متنوع بودن راه‌حل‌ها:</strong> به یاد داشته باشید که برای هر سوال، روش‌های مختلفی وجود دارد. راه‌حل ارائه شده فقط یکی از راه‌حل‌های ممکن است و ممکن هست جواب شما هم درست باشد.\n",
    "</div>\n"
   ]
  },
  {
   "cell_type": "markdown",
   "id": "92c6352b",
   "metadata": {},
   "source": [
    "<h2 style='direction:rtl;text-align:right;font-family:samim;'><b>🔸 تمرین ۱</b></h2>"
   ]
  },
  {
   "cell_type": "markdown",
   "id": "095b38f2",
   "metadata": {},
   "source": [
    "<p style='direction:rtl;text-align:right;font-size:18px;font-family:samim;line-height:1.5;'> \n",
    "از حلقه for برای ایجاد لیستی از مربع‌های اعداد از 1 تا 10 (یعنی 1، 4، 9، ...، 100) استفاده کنید و سپس لیست را چاپ کنید.\n",
    "</p>"
   ]
  },
  {
   "cell_type": "code",
   "execution_count": null,
   "id": "fb8bcd7c",
   "metadata": {},
   "outputs": [],
   "source": []
  },
  {
   "cell_type": "markdown",
   "id": "9533ee8a",
   "metadata": {
    "jp-MarkdownHeadingCollapsed": true,
    "tags": []
   },
   "source": [
    "<h4 style='direction:rtl;text-align:right;font-size:18px;font-family:samim;'>راهنمایی</h4>"
   ]
  },
  {
   "cell_type": "markdown",
   "id": "c2c0773d",
   "metadata": {},
   "source": [
    "<p style='direction:rtl;text-align:right;font-size:16px;font-family:samim;'>\n",
    "برای اینکه اعداد یک تا ده را تولید کنید می‌توانید از range استفاده کنید و بعد دستور for را اعمال کنید.\n",
    "</p>"
   ]
  },
  {
   "cell_type": "markdown",
   "id": "f87362ae",
   "metadata": {
    "jp-MarkdownHeadingCollapsed": true,
    "tags": []
   },
   "source": [
    "<h4 style='direction:rtl;text-align:right;font-size:18px;font-family:samim;'>جواب</h4>"
   ]
  },
  {
   "cell_type": "code",
   "execution_count": 3,
   "id": "0b39f8e6",
   "metadata": {},
   "outputs": [
    {
     "name": "stdout",
     "output_type": "stream",
     "text": [
      "[1, 4, 9, 16, 25, 36, 49, 64, 81, 100]\n",
      "[1, 4, 9, 16, 25, 36, 49, 64, 81, 100]\n"
     ]
    }
   ],
   "source": [
    "# روش اول\n",
    "#تعریف یک لیست خالی\n",
    "seq = []\n",
    "\n",
    "for i in range(1,11):\n",
    "    seq.append(i**2)\n",
    "print(seq)\n",
    "\n",
    "#روش دوم\n",
    "squares = [i**2 for i in range(1, 11)]\n",
    "print(squares)"
   ]
  },
  {
   "cell_type": "markdown",
   "id": "fa89cf13",
   "metadata": {},
   "source": [
    "<h2 style='direction:rtl;text-align:right;font-family:samim;'><b>🔸 تمرین ۲</b></h2>"
   ]
  },
  {
   "cell_type": "markdown",
   "id": "f54b5d7b",
   "metadata": {},
   "source": [
    "<p style='direction:rtl;text-align:right;font-size:18px;font-family:samim;line-height:1.5;'> \n",
    "با توجه به لیستی از اعداد، برنامه‌ای با استفاده از یک حلقه for بنویسید که مجموع تمام عناصر لیست را محاسبه و چاپ می‌کند.\n",
    "</p>"
   ]
  },
  {
   "cell_type": "code",
   "execution_count": null,
   "id": "14d7167b",
   "metadata": {},
   "outputs": [],
   "source": []
  },
  {
   "cell_type": "markdown",
   "id": "5e2c69b5",
   "metadata": {
    "jp-MarkdownHeadingCollapsed": true,
    "tags": []
   },
   "source": [
    "<h4 style='direction:rtl;text-align:right;font-size:18px;font-family:samim;'>راهنمایی</h4>"
   ]
  },
  {
   "cell_type": "markdown",
   "id": "be1c0970",
   "metadata": {},
   "source": [
    "<p style='direction:rtl;text-align:right;font-size:16px;font-family:samim;'>\n",
    "ابتدا یک لیست از اعداد دلخواه تعریف کنید. سپس یک متغیر با مقدار اولیه صفر برای ریختن نتایج در آن تعریف کنید. سپس هر عدد از لیست را برداشته و با متغیر تعریفی جمع کنید.\n",
    "</p>"
   ]
  },
  {
   "cell_type": "markdown",
   "id": "7b0c5464",
   "metadata": {
    "jp-MarkdownHeadingCollapsed": true,
    "tags": []
   },
   "source": [
    "<h4 style='direction:rtl;text-align:right;font-size:18px;font-family:samim;'>جواب</h4>"
   ]
  },
  {
   "cell_type": "code",
   "execution_count": 4,
   "id": "dc3f7c12",
   "metadata": {},
   "outputs": [
    {
     "name": "stdout",
     "output_type": "stream",
     "text": [
      "Sum: 15\n"
     ]
    }
   ],
   "source": [
    "#تعریف لیست دلخواه  و یک متغیر برای جمع آوری مقادیر \n",
    "numbers = [1, 2, 3, 4, 5]\n",
    "total_sum = 0\n",
    "\n",
    "for num in numbers:\n",
    "    total_sum += num\n",
    "    \n",
    "print(\"Sum:\", total_sum)"
   ]
  },
  {
   "cell_type": "markdown",
   "id": "924d1f79",
   "metadata": {},
   "source": [
    "<h2 style='direction:rtl;text-align:right;font-family:samim;'><b>🔸 تمرین ۳</b></h2>"
   ]
  },
  {
   "cell_type": "markdown",
   "id": "b7d535c9",
   "metadata": {},
   "source": [
    "<p style='direction:rtl;text-align:right;font-size:18px;font-family:samim;line-height:1.5;'> \n",
    "یک برنامه بنویسید که از یک حلقه for برای معکوس کردن یک رشته استفاده می‌کند و رشته معکوس را چاپ می‌کند.\n",
    "</p>"
   ]
  },
  {
   "cell_type": "code",
   "execution_count": null,
   "id": "f125a569",
   "metadata": {},
   "outputs": [],
   "source": []
  },
  {
   "cell_type": "markdown",
   "id": "54f92615",
   "metadata": {
    "jp-MarkdownHeadingCollapsed": true,
    "tags": []
   },
   "source": [
    "<h4 style='direction:rtl;text-align:right;font-size:18px;font-family:samim;'>راهنمایی</h4>"
   ]
  },
  {
   "cell_type": "markdown",
   "id": "8161a7c9",
   "metadata": {},
   "source": [
    "<p style='direction:rtl;text-align:right;font-size:16px;font-family:samim;'>\n",
    "یک متغیر رشته تعریف کنید. یک متغیر خالی برای رشته هم تعریف کنید. حالا هر بار یک کارکتر از رشته اصلی بردارید و به رشته جدید اضافه کنید. \n",
    "</p>"
   ]
  },
  {
   "cell_type": "markdown",
   "id": "a9dce002",
   "metadata": {
    "jp-MarkdownHeadingCollapsed": true,
    "tags": []
   },
   "source": [
    "<h4 style='direction:rtl;text-align:right;font-size:18px;font-family:samim;'>جواب</h4>"
   ]
  },
  {
   "cell_type": "code",
   "execution_count": 38,
   "id": "bb250df9",
   "metadata": {},
   "outputs": [
    {
     "name": "stdout",
     "output_type": "stream",
     "text": [
      "\n",
      "e\n",
      "xe\n",
      "axe\n",
      "maxe\n",
      "pmaxe\n",
      "lpmaxe\n",
      "Reversed string: elpmaxe\n"
     ]
    }
   ],
   "source": [
    "#تعریف متغیر رشته \n",
    "original_string = \"example\"\n",
    "#تعریف یک متغیر رشته خالی\n",
    "reversed_string = \"\"\n",
    "\n",
    "for char in original_string:\n",
    "    print(reversed_string)\n",
    "    reversed_string = char + reversed_string\n",
    "    \n",
    "print(\"Reversed string:\", reversed_string)\n"
   ]
  },
  {
   "cell_type": "markdown",
   "id": "39d2e526",
   "metadata": {},
   "source": [
    "<h2 style='direction:rtl;text-align:right;font-family:samim;'><b>🔸 تمرین ۴</b></h2>"
   ]
  },
  {
   "cell_type": "markdown",
   "id": "702ed078",
   "metadata": {},
   "source": [
    "<p style='direction:rtl;text-align:right;font-size:18px;font-family:samim;line-height:1.5;'> \n",
    "با توجه به لیستی از اعداد صحیح، از حلقه for برای محاسبه حاصل‌ضرب تمام عناصر موجود در لیست و چاپ نتیجه استفاده کنید.\n",
    "</p>"
   ]
  },
  {
   "cell_type": "code",
   "execution_count": null,
   "id": "7343fccf",
   "metadata": {},
   "outputs": [],
   "source": []
  },
  {
   "cell_type": "markdown",
   "id": "2b59487f",
   "metadata": {
    "jp-MarkdownHeadingCollapsed": true,
    "tags": []
   },
   "source": [
    "<h4 style='direction:rtl;text-align:right;font-size:18px;font-family:samim;'>راهنمایی</h4>"
   ]
  },
  {
   "cell_type": "markdown",
   "id": "0d9edec3",
   "metadata": {},
   "source": [
    "<p style='direction:rtl;text-align:right;font-size:16px;font-family:samim;'>\n",
    "ابتدا یک لیست از اعداد دلخواه تعریف کنید. سپس یک متغیر با مقدار اولیه یک برای ریختن نتایج در آن تعریف کنید. سپس هر عدد از لیست را برداشته و با متغیر تعریفی ضرب کنید.\n",
    "</p>"
   ]
  },
  {
   "cell_type": "markdown",
   "id": "b8ebf6f3",
   "metadata": {
    "jp-MarkdownHeadingCollapsed": true,
    "tags": []
   },
   "source": [
    "<h4 style='direction:rtl;text-align:right;font-size:18px;font-family:samim;'>جواب</h4>"
   ]
  },
  {
   "cell_type": "code",
   "execution_count": 6,
   "id": "b4ee244c",
   "metadata": {},
   "outputs": [
    {
     "name": "stdout",
     "output_type": "stream",
     "text": [
      "Product of all elements: 120\n"
     ]
    }
   ],
   "source": [
    "#تعریف یک لیست با اعداد دلخواه\n",
    "integers = [1, 2, 3, 4, 5]\n",
    "\n",
    "# تعریف متغیر اولیه برای مخزن ضرب\n",
    "product = 1\n",
    "\n",
    "for num in integers:\n",
    "    product *= num\n",
    "    \n",
    "print(\"Product of all elements:\", product)\n"
   ]
  },
  {
   "cell_type": "markdown",
   "id": "43a135db",
   "metadata": {},
   "source": [
    "<h2 style='direction:rtl;text-align:right;font-family:samim;'><b>🔸 تمرین ۵</b></h2>"
   ]
  },
  {
   "cell_type": "markdown",
   "id": "cd829152",
   "metadata": {},
   "source": [
    "<p style='direction:rtl;text-align:right;font-size:18px;font-family:samim;line-height:1.5;'> \n",
    "کدی بنویسید که از یک حلقه for برای شمارش و چاپ تعداد حروف صدادار در یک رشته معین \"hello world\" استفاده کند. مصوت‌ها را به صورت «a»، «e»، «i»، «o»، «u» در نظر بگیرید.\n",
    "</p>"
   ]
  },
  {
   "cell_type": "code",
   "execution_count": null,
   "id": "5f88fe7c",
   "metadata": {},
   "outputs": [],
   "source": []
  },
  {
   "cell_type": "markdown",
   "id": "63b95288",
   "metadata": {
    "jp-MarkdownHeadingCollapsed": true,
    "tags": []
   },
   "source": [
    "<h4 style='direction:rtl;text-align:right;font-size:18px;font-family:samim;'>راهنمایی</h4>"
   ]
  },
  {
   "cell_type": "markdown",
   "id": "88650e2f",
   "metadata": {},
   "source": [
    "<p style='direction:rtl;text-align:right;font-size:16px;font-family:samim;'>\n",
    "ابتدا یک رشته تعریف کنید. سپس یک لیست از حروف صدادار بسازید. هر بار یک کاکتر از رشته مد نظر بردارید و چک کنید که در لیست حروف صدادار قرار دارد یا نه.\n",
    "</p>"
   ]
  },
  {
   "cell_type": "markdown",
   "id": "144ad9c9",
   "metadata": {
    "jp-MarkdownHeadingCollapsed": true,
    "tags": []
   },
   "source": [
    "<h4 style='direction:rtl;text-align:right;font-size:18px;font-family:samim;'>جواب</h4>"
   ]
  },
  {
   "cell_type": "code",
   "execution_count": 41,
   "id": "8ced2211",
   "metadata": {},
   "outputs": [
    {
     "name": "stdout",
     "output_type": "stream",
     "text": [
      "Number of vowels: 3\n",
      "all vowels in string ['e', 'o', 'o']\n"
     ]
    }
   ],
   "source": [
    "# تعریف رشته داده شده در سوال\n",
    "string = \"hello world\"\n",
    "#تعریف لیستی از حروف صدادار\n",
    "vowels =[\"a\",\"e\",\"i\",\"o\",\"u\"]\n",
    "\n",
    "vowels_list = []\n",
    "vowel_count = 0\n",
    "\n",
    "for char in string:\n",
    "    if char in vowels:\n",
    "        vowel_count += 1\n",
    "        vowels_list.append(char)\n",
    "        \n",
    "print(\"Number of vowels:\", vowel_count)\n",
    "print(\"all vowels in string\", vowels_list)\n"
   ]
  },
  {
   "cell_type": "markdown",
   "id": "38707c2b",
   "metadata": {},
   "source": [
    "<h2 style='direction:rtl;text-align:right;font-family:samim;'><b>🔸 تمرین ۶</b></h2>"
   ]
  },
  {
   "cell_type": "markdown",
   "id": "bcc734cf",
   "metadata": {},
   "source": [
    "<p style='direction:rtl;text-align:right;font-size:18px;font-family:samim;line-height:1.5;'> \n",
    "برنامه‌ای بنویسید که در لیست زیر اعدادی که بر ۶ بخش پذیر هستند را پیدا کند و در لیست جدیدی آن‌ها را قرار دهد.\n",
    "<br> \n",
    " <br>   \n",
    "$$list1 = [ 0,2,6,18,42,54,3,19]$$\n",
    "</p>"
   ]
  },
  {
   "cell_type": "code",
   "execution_count": null,
   "id": "9826b338",
   "metadata": {},
   "outputs": [],
   "source": []
  },
  {
   "cell_type": "markdown",
   "id": "941a6067",
   "metadata": {
    "jp-MarkdownHeadingCollapsed": true,
    "tags": []
   },
   "source": [
    "<h4 style='direction:rtl;text-align:right;font-size:18px;font-family:samim;'>راهنمایی</h4>"
   ]
  },
  {
   "cell_type": "markdown",
   "id": "e037faf3",
   "metadata": {},
   "source": [
    "<p style='direction:rtl;text-align:right;font-size:16px;font-family:samim;'>\n",
    "ابتدا لیست مد نظر را تعریف کنید. سپس هر بار یک المان از لیست بردارید و شرط بخش‌پذیری بر ۶ را مورد بررسی قرار دهید.\n",
    "</p>"
   ]
  },
  {
   "cell_type": "markdown",
   "id": "bbc70bd1",
   "metadata": {
    "jp-MarkdownHeadingCollapsed": true,
    "tags": []
   },
   "source": [
    "<h4 style='direction:rtl;text-align:right;font-size:18px;font-family:samim;'>جواب</h4>"
   ]
  },
  {
   "cell_type": "code",
   "execution_count": 42,
   "id": "c5e1e713",
   "metadata": {},
   "outputs": [
    {
     "name": "stdout",
     "output_type": "stream",
     "text": [
      "Numbers divisible by 6: [0, 6, 18, 42, 54]\n"
     ]
    }
   ],
   "source": [
    "#تعریف لیست سوال\n",
    "list1 = [0, 2, 6, 18, 42, 54, 3, 19]\n",
    "\n",
    "divisible_by_6 = [num for num in list1 if num % 6 == 0]\n",
    "\n",
    "print(\"Numbers divisible by 6:\", divisible_by_6)\n"
   ]
  },
  {
   "cell_type": "markdown",
   "id": "98f79a12",
   "metadata": {},
   "source": [
    "<h2 style='direction:rtl;text-align:right;font-family:samim;'><b>🔸 تمرین ۷</b></h2>"
   ]
  },
  {
   "cell_type": "markdown",
   "id": "ca7ae252",
   "metadata": {},
   "source": [
    "<p style='direction:rtl;text-align:right;font-size:18px;font-family:samim;line-height:1.5;'> \n",
    "یک برنامه بنویسید که از یک حلقه for برای بررسی اینکه کدام اعداد در لیست زیر،  عدد اول هستند استفاده می‌کند. هر عدد اول یافت شده را چاپ کنید.\n",
    "    <br>\n",
    "$$numbers = [2,3,4,5,6,7,8,9,10] $$\n",
    "</p>"
   ]
  },
  {
   "cell_type": "code",
   "execution_count": null,
   "id": "a4ec2f21",
   "metadata": {},
   "outputs": [],
   "source": []
  },
  {
   "cell_type": "markdown",
   "id": "b2c108a2",
   "metadata": {
    "jp-MarkdownHeadingCollapsed": true,
    "tags": []
   },
   "source": [
    "<h4 style='direction:rtl;text-align:right;font-size:18px;font-family:samim;'>راهنمایی</h4>"
   ]
  },
  {
   "cell_type": "markdown",
   "id": "8579a56a",
   "metadata": {},
   "source": [
    "<p style='direction:rtl;text-align:right;font-size:16px;font-family:samim;'>\n",
    "    برای اینکه عددی اول باشد، آن عدد باید بزرگتر از یک باشد  و فقط بر خودش و یک بخش پذیر باشد.\n",
    "    راه اول: هر عدد از لیست را بردارید بررسی کنید که این عدد در حدفاصل یک تا خود آن عدد بر چه تعداد بخش‌پذیر است. اگر بیشتر از دو تا باشد، یعنی آن عدد اول نیست.\n",
    "    راه دوم:\n",
    "    برای هر عددی که از لیست برمی‌دارید، اگر تا قبل از رسیدن به خودش بر عددی بخش ‌پذیر بود پس دیگر نیاز نیست تا آخر شرط را بررسی کنید. بنابراین از دستور break  کمک بگیرید. \n",
    "</p>"
   ]
  },
  {
   "cell_type": "markdown",
   "id": "89308440",
   "metadata": {
    "jp-MarkdownHeadingCollapsed": true,
    "tags": []
   },
   "source": [
    "<h4 style='direction:rtl;text-align:right;font-size:18px;font-family:samim;'>جواب</h4>"
   ]
  },
  {
   "cell_type": "code",
   "execution_count": 14,
   "id": "c788a868-108f-4f42-97aa-48385ed0f519",
   "metadata": {
    "tags": []
   },
   "outputs": [
    {
     "name": "stdout",
     "output_type": "stream",
     "text": [
      "2 is prime\n",
      "3 is prime\n",
      "5 is prime\n",
      "7 is prime\n"
     ]
    }
   ],
   "source": [
    "#راه حل اول\n",
    "\n",
    "numbers = [2, 3, 4, 5, 6, 7, 8, 9, 10, 16]\n",
    "\n",
    "for num in numbers:\n",
    "    q = 0\n",
    "    for i in range(1,num+1):\n",
    "        if num % i == 0:\n",
    "            q +=1\n",
    "    if q <= 2:\n",
    "        print(num, \"is prime\")"
   ]
  },
  {
   "cell_type": "code",
   "execution_count": 50,
   "id": "b88dfb92",
   "metadata": {},
   "outputs": [
    {
     "name": "stdout",
     "output_type": "stream",
     "text": [
      "2 is a prime number\n",
      "3 is a prime number\n",
      "5 is a prime number\n",
      "7 is a prime number\n"
     ]
    }
   ],
   "source": [
    "#راه حل دوم\n",
    "numbers = [2, 3, 4, 5, 6, 7, 8, 9, 10, 16]\n",
    "      \n",
    "for num in numbers:\n",
    "  if num > 1:\n",
    "    is_prime = True\n",
    "    for i in range(2, num):\n",
    "      if num % i == 0:\n",
    "          is_prime = False\n",
    "          break\n",
    "    if is_prime:\n",
    "        print(f\"{num} is a prime number\")        "
   ]
  },
  {
   "cell_type": "markdown",
   "id": "1390b2e5",
   "metadata": {},
   "source": [
    "<h2 style='direction:rtl;text-align:right;font-family:samim;'><b>🔸 تمرین ۸</b></h2>"
   ]
  },
  {
   "cell_type": "markdown",
   "id": "137fed80",
   "metadata": {},
   "source": [
    "<p style='direction:rtl;text-align:right;font-size:18px;font-family:samim;line-height:1.5;'> \n",
    "با استفاده از حلقه تو در تو الگوی زیر را ایجاد کنید:\n",
    "<p style='direction:rtl;text-align:left;font-size:18px;font-family:samim;line-height:1.5;'>     \n",
    "<br>\n",
    "*\n",
    "<br>    \n",
    "**\n",
    "<br>    \n",
    "***\n",
    "<br>    \n",
    "*****\n",
    "<br>    \n",
    "******\n",
    "<br>    \n",
    "****\n",
    "<br>    \n",
    "***\n",
    "<br>    \n",
    "**\n",
    "<br>    \n",
    "*\n",
    "</p>"
   ]
  },
  {
   "cell_type": "code",
   "execution_count": null,
   "id": "8497dbe5",
   "metadata": {},
   "outputs": [],
   "source": []
  },
  {
   "cell_type": "markdown",
   "id": "5f0e5ab8",
   "metadata": {
    "jp-MarkdownHeadingCollapsed": true,
    "tags": []
   },
   "source": [
    "<h4 style='direction:rtl;text-align:right;font-size:18px;font-family:samim;'>راهنمایی</h4>"
   ]
  },
  {
   "cell_type": "markdown",
   "id": "0400525e",
   "metadata": {},
   "source": [
    "<p style='direction:rtl;text-align:right;font-size:16px;font-family:samim;'>\n",
    "ابتدا تعداد سطرهای شکل داده شده را بشمارید. سپس نیاز به تعریف دو حلقه دارید. و شرطی بنویسید که تعداد ستاره‌های هر سطر را تعیین کنید. \n",
    "</p>"
   ]
  },
  {
   "cell_type": "markdown",
   "id": "cbb3aba0",
   "metadata": {
    "jp-MarkdownHeadingCollapsed": true,
    "tags": []
   },
   "source": [
    "<h4 style='direction:rtl;text-align:right;font-size:18px;font-family:samim;'>جواب</h4>"
   ]
  },
  {
   "cell_type": "code",
   "execution_count": 10,
   "id": "dc5dae00",
   "metadata": {},
   "outputs": [
    {
     "name": "stdout",
     "output_type": "stream",
     "text": [
      "*\n",
      "**\n",
      "***\n",
      "****\n",
      "*****\n",
      "****\n",
      "***\n",
      "**\n",
      "*\n"
     ]
    }
   ],
   "source": [
    "for i in range(9):\n",
    "  for j in range(9):\n",
    "    if j+1 <6:\n",
    "      print('*' * (i+1 * j+1))\n",
    "    else:\n",
    "      print('*' * ((i+1) * (10 - (j+1))))\n",
    "  break\n"
   ]
  },
  {
   "cell_type": "markdown",
   "id": "e158e133",
   "metadata": {},
   "source": [
    "<h2 style='direction:rtl;text-align:right;font-family:samim;'><b>🔸 تمرین ۹</b></h2>"
   ]
  },
  {
   "cell_type": "markdown",
   "id": "d7f94b32",
   "metadata": {},
   "source": [
    "<p style='direction:rtl;text-align:right;font-size:18px;font-family:samim;line-height:1.5;'> \n",
    "کدی بنویسید که یک عدد را از کاربر دریافت کرده و عبارت زیر را محاسبه کند:\n",
    "<br>\n",
    "<br>    \n",
    "$$ y = -1+2-3+...±n $$    \n",
    "</p>"
   ]
  },
  {
   "cell_type": "code",
   "execution_count": null,
   "id": "f9bf4847",
   "metadata": {},
   "outputs": [],
   "source": []
  },
  {
   "cell_type": "markdown",
   "id": "5c33b5e9",
   "metadata": {
    "jp-MarkdownHeadingCollapsed": true,
    "tags": []
   },
   "source": [
    "<h4 style='direction:rtl;text-align:right;font-size:18px;font-family:samim;'>راهنمایی</h4>"
   ]
  },
  {
   "cell_type": "markdown",
   "id": "e86ba894",
   "metadata": {},
   "source": [
    "<p style='direction:rtl;text-align:right;font-size:16px;font-family:samim;'>\n",
    "عدد n را تعریف کنید سپس یک متغیر  برای نگه‌داشتن مجموع تعریف کنید. در هر بار تکرار حلقه، عدد فعلی را با توجه به تقسیم‌پذیری بر ۲ (برای تعیین علامت) به متغیر تعریف شده اضافه یا کم کنید.\n",
    "</p>"
   ]
  },
  {
   "cell_type": "markdown",
   "id": "51d88f06",
   "metadata": {
    "jp-MarkdownHeadingCollapsed": true,
    "tags": []
   },
   "source": [
    "<h4 style='direction:rtl;text-align:right;font-size:18px;font-family:samim;'>جواب</h4>"
   ]
  },
  {
   "cell_type": "code",
   "execution_count": 11,
   "id": "d35fb5b1",
   "metadata": {},
   "outputs": [
    {
     "name": "stdout",
     "output_type": "stream",
     "text": [
      "The result of the sequence is: -3\n"
     ]
    }
   ],
   "source": [
    "y = 0\n",
    "n = 5\n",
    "\n",
    "for i in range(1, n + 1):\n",
    "    if i % 2 == 0:  # اگر زوج بود، علامت مثبت\n",
    "        y += i\n",
    "    else:           # اگر فرد بود، علامت منفی\n",
    "        y -= i\n",
    "\n",
    "\n",
    "print(\"The result of the sequence is:\", y)"
   ]
  },
  {
   "cell_type": "markdown",
   "id": "33de8a07",
   "metadata": {},
   "source": [
    "<h2 style='direction:rtl;text-align:right;font-family:samim;'><b>🔸 تمرین ۱۰</b>\n",
    "</h2>"
   ]
  },
  {
   "cell_type": "markdown",
   "id": "df008b4e",
   "metadata": {},
   "source": [
    "<p style='direction:rtl;text-align:right;font-size:18px;font-family:samim;line-height:1.5;'> \n",
    "برنامه‌ای‌ بنویسید که خروجی زیر را تولید کند:\n",
    "<p style='direction:ltr;text-align:left;font-size:18px;font-family:samim;line-height:1.5;'>     \n",
    "<br>   \n",
    "1\n",
    "<br>    \n",
    "2  4\n",
    "    <br>\n",
    "3  6  9\n",
    "    <br>\n",
    "4  8  12  16\n",
    "    <br>\n",
    "5  10 15  20  25\n",
    "    <br>\n",
    "... ... ... ... ...\n",
    "    <br>\n",
    "10 20 30 40 50 ... 100\n",
    "    \n",
    "<p style='direction:rtl;text-align:right;font-size:18px;font-family:samim;line-height:1.5;'>       \n",
    "در دستور پرینت آرگومان end را برابر با \"\" قرار دهید.    \n",
    "</p>"
   ]
  },
  {
   "cell_type": "code",
   "execution_count": null,
   "id": "57912eb2",
   "metadata": {},
   "outputs": [],
   "source": []
  },
  {
   "cell_type": "markdown",
   "id": "300a2863",
   "metadata": {
    "jp-MarkdownHeadingCollapsed": true,
    "tags": []
   },
   "source": [
    "<h4 style='direction:rtl;text-align:right;font-size:18px;font-family:samim;'>راهنمایی</h4>"
   ]
  },
  {
   "cell_type": "markdown",
   "id": "4e8870b7",
   "metadata": {},
   "source": [
    "<p style='direction:rtl;text-align:right;font-size:16px;font-family:samim;'>\n",
    "    نیاز به دو حلقه دارید. حلقه اول هر سطر را تولید می‌کند و حلقه دوم ستون‌ها را تولید کند.\n",
    "    \n",
    "    print(...,\" \",end=\"\")\n",
    "</p>"
   ]
  },
  {
   "cell_type": "markdown",
   "id": "66532d29",
   "metadata": {
    "jp-MarkdownHeadingCollapsed": true,
    "tags": []
   },
   "source": [
    "<h4 style='direction:rtl;text-align:right;font-size:18px;font-family:samim;'>جواب</h4>"
   ]
  },
  {
   "cell_type": "code",
   "execution_count": 3,
   "id": "5e74b699",
   "metadata": {},
   "outputs": [
    {
     "name": "stdout",
     "output_type": "stream",
     "text": [
      "1  \n",
      "2  4  \n",
      "3  6  9  \n",
      "4  8  12  16  \n",
      "5  10  15  20  25  \n",
      "6  12  18  24  30  36  \n",
      "7  14  21  28  35  42  49  \n",
      "8  16  24  32  40  48  56  64  \n",
      "9  18  27  36  45  54  63  72  81  \n",
      "10  20  30  40  50  60  70  80  90  100  \n"
     ]
    }
   ],
   "source": [
    "for i in range(10):\n",
    "  for j in range(i+1):\n",
    "    print(j*(i+1)+i+1,\" \",end=\"\")\n",
    "  print()"
   ]
  },
  {
   "cell_type": "markdown",
   "id": "080424fc",
   "metadata": {},
   "source": [
    "<h2 style='direction:rtl;text-align:right;font-family:samim;'><b>🔸 تمرین ۱۱</b></h2>"
   ]
  },
  {
   "cell_type": "markdown",
   "id": "d1d73a5b",
   "metadata": {},
   "source": [
    "<p style='direction:rtl;text-align:right;font-size:18px;font-family:samim;line-height:1.5;'> \n",
    "کدی بنویسید که دو عدد را خوانده و مقسوم علیه مشترکشان را نمایش دهد.\n",
    "</p>"
   ]
  },
  {
   "cell_type": "code",
   "execution_count": null,
   "id": "e5dbb987",
   "metadata": {},
   "outputs": [],
   "source": []
  },
  {
   "cell_type": "markdown",
   "id": "f6330d1a",
   "metadata": {
    "jp-MarkdownHeadingCollapsed": true,
    "tags": []
   },
   "source": [
    "<h4 style='direction:rtl;text-align:right;font-size:18px;font-family:samim;'>راهنمایی</h4>"
   ]
  },
  {
   "cell_type": "markdown",
   "id": "e6da27d0",
   "metadata": {},
   "source": [
    "<p style='direction:rtl;text-align:right;font-size:16px;font-family:samim;'>\n",
    "دو عدد را تعریف کنید. عدد کوچکتر را تشخیص دهید. سپس با استفاه از یک حلقه روی عدد کوچکتر، شرط بخش‌پذیری را چک کنید.\n",
    "</p>"
   ]
  },
  {
   "cell_type": "markdown",
   "id": "2709af25",
   "metadata": {
    "jp-MarkdownHeadingCollapsed": true,
    "tags": []
   },
   "source": [
    "<h4 style='direction:rtl;text-align:right;font-size:18px;font-family:samim;'>جواب</h4>"
   ]
  },
  {
   "cell_type": "code",
   "execution_count": 2,
   "id": "7657a0e9",
   "metadata": {},
   "outputs": [
    {
     "name": "stdout",
     "output_type": "stream",
     "text": [
      "Common divisors: [1, 2, 4, 8]\n"
     ]
    }
   ],
   "source": [
    "#تعریف متغیرهای اولیه\n",
    "num1 = 32\n",
    "num2 = 24\n",
    "common_divisors = []\n",
    "\n",
    "if num2 < num1:\n",
    "  limit = num2 \n",
    "else:\n",
    "  limit = num1\n",
    "\n",
    "for i in range(1, limit +1):\n",
    "    if num1 % i == 0 and num2 % i == 0:\n",
    "        common_divisors.append(i)\n",
    "\n",
    "print(\"Common divisors:\", common_divisors)\n"
   ]
  },
  {
   "cell_type": "markdown",
   "id": "0232e34e",
   "metadata": {},
   "source": [
    "<h2 style='direction:rtl;text-align:right;font-family:samim;'><b>🔸 تمرین ۱۲*</b></h2>"
   ]
  },
  {
   "cell_type": "markdown",
   "id": "c428c5c3",
   "metadata": {},
   "source": [
    "<p style='direction:rtl;text-align:right;font-size:18px;font-family:samim;line-height:1.5;'> \n",
    "با استفاده از حلقه، یک جدول ضرب بنویسید. سعی کنید خروجی را به شکل زیر نمایش دهید:\n",
    "    <br>\n",
    "*  برای ایجاد فاصله بین نوشته‌ها در هنگام استفاده از print، می‌توانید آرگومان end  را در دستور print مساوی با ' ' قرار دهید.\n",
    "    برای مثال:\n",
    "    print(\"   \" + str(i), end=\"\") *\n",
    "    \n",
    "</p>"
   ]
  },
  {
   "attachments": {
    "image.png": {
     "image/png": "[encoded data removed]"
    }
   },
   "cell_type": "markdown",
   "id": "d2d981b4",
   "metadata": {},
   "source": [
    "![image.png](attachment:image.png)"
   ]
  },
  {
   "cell_type": "code",
   "execution_count": null,
   "id": "7597430c",
   "metadata": {},
   "outputs": [],
   "source": []
  },
  {
   "cell_type": "markdown",
   "id": "e63def2c",
   "metadata": {
    "jp-MarkdownHeadingCollapsed": true,
    "tags": []
   },
   "source": [
    "<h4 style='direction:rtl;text-align:right;font-size:18px;font-family:samim;'>راهنمایی</h4>"
   ]
  },
  {
   "cell_type": "markdown",
   "id": "921efcfd",
   "metadata": {},
   "source": [
    "<p style='direction:rtl;text-align:right;font-size:16px;font-family:samim;'>\n",
    "۱. تبدیل اعداد به رشته: با استفاده از تابع str() هر عدد را به رشته تبدیل کنید.\n",
    "<p style='direction:rtl;text-align:right;font-size:16px;font-family:samim;'>\n",
    "۲. اضافه کردن فاصله به صورت دستی: برای هر عدد، بسته به تعداد ارقام آن، تعداد مناسبی فاصله قبل از چاپ عدد اضافه کنید تا اعداد در خروجی منظم به نظر برسند.\n",
    "<p style='direction:rtl;text-align:right;font-size:16px;font-family:samim;'>\n",
    "۳. استفاده از حلقه‌ها: برای ساختن جدول، از دو حلقه تو در تو استفاده کنید؛ یکی برای ردیف‌ها و دیگری برای ستون‌ها. \n",
    "</p>"
   ]
  },
  {
   "cell_type": "markdown",
   "id": "244804a5",
   "metadata": {
    "jp-MarkdownHeadingCollapsed": true,
    "tags": []
   },
   "source": [
    "<h4 style='direction:rtl;text-align:right;font-size:18px;font-family:samim;'>جواب</h4>"
   ]
  },
  {
   "cell_type": "code",
   "execution_count": 3,
   "id": "bcd38d54",
   "metadata": {},
   "outputs": [
    {
     "name": "stdout",
     "output_type": "stream",
     "text": [
      "      1   2   3   4   5   6   7   8   9  10\n",
      " 1    1   2   3   4   5   6   7   8   9  10\n",
      " 2    2   4   6   8  10  12  14  16  18  20\n",
      " 3    3   6   9  12  15  18  21  24  27  30\n",
      " 4    4   8  12  16  20  24  28  32  36  40\n",
      " 5    5  10  15  20  25  30  35  40  45  50\n",
      " 6    6  12  18  24  30  36  42  48  54  60\n",
      " 7    7  14  21  28  35  42  49  56  63  70\n",
      " 8    8  16  24  32  40  48  56  64  72  80\n",
      " 9    9  18  27  36  45  54  63  72  81  90\n",
      "10   10  20  30  40  50  60  70  80  90 100\n"
     ]
    }
   ],
   "source": [
    "rows = 10\n",
    "cols = 10\n",
    "\n",
    "print(\"   \", end=\"\")\n",
    "\n",
    "for i in range(1, cols + 1):\n",
    "    if i < 10:\n",
    "        print(\"   \" + str(i), end=\"\")\n",
    "    else:\n",
    "        print(\"  \" + str(i), end=\"\")\n",
    "print()\n",
    "\n",
    "for i in range(1, rows + 1):\n",
    "    \n",
    "    if i < 10:\n",
    "        print(\" \" + str(i) + \" \", end=\"\")\n",
    "    else:\n",
    "        print(str(i) + \" \", end=\"\")\n",
    "    \n",
    "    for j in range(1, cols + 1):\n",
    "        product = i * j\n",
    "      \n",
    "        if product < 10:\n",
    "            print(\"   \" + str(product), end=\"\")\n",
    "        elif product < 100:\n",
    "            print(\"  \" + str(product), end=\"\")\n",
    "        else:\n",
    "            print(\" \" + str(product), end=\"\")\n",
    "    print()\n"
   ]
  },
  {
   "cell_type": "code",
   "execution_count": 14,
   "id": "03f5685d",
   "metadata": {},
   "outputs": [
    {
     "name": "stdout",
     "output_type": "stream",
     "text": [
      "      1   2   3   4   5   6   7   8   9  10\n",
      " 1    1   2   3   4   5   6   7   8   9  10\n",
      " 2    2   4   6   8  10  12  14  16  18  20\n",
      " 3    3   6   9  12  15  18  21  24  27  30\n",
      " 4    4   8  12  16  20  24  28  32  36  40\n",
      " 5    5  10  15  20  25  30  35  40  45  50\n",
      " 6    6  12  18  24  30  36  42  48  54  60\n",
      " 7    7  14  21  28  35  42  49  56  63  70\n",
      " 8    8  16  24  32  40  48  56  64  72  80\n",
      " 9    9  18  27  36  45  54  63  72  81  90\n",
      "10   10  20  30  40  50  60  70  80  90 100\n"
     ]
    }
   ],
   "source": [
    "# روش دوم که فعلا یاد نگرفتید.\n",
    "rows = 10\n",
    "cols = 10\n",
    "\n",
    "print(\"   \", end=\"\")\n",
    "for i in range(1, cols+1):\n",
    "    print(f\"{i:4}\", end=\"\")\n",
    "\n",
    "print()\n",
    "\n",
    "\n",
    "for i in range(1, rows+1):\n",
    "    print(f\"{i:2} \", end=\"\")\n",
    "    for j in range(1, cols+1):\n",
    "        print(f\"{i*j:4}\", end=\"\")\n",
    "    print()\n"
   ]
  },
  {
   "cell_type": "markdown",
   "id": "2eafac22",
   "metadata": {
    "jp-MarkdownHeadingCollapsed": true,
    "tags": []
   },
   "source": [
    "<h2 style='direction:rtl;text-align:right;font-family:samim;'><b>🔸 تمرین ۱۳*</b></h2>"
   ]
  },
  {
   "cell_type": "markdown",
   "id": "754ea6b2",
   "metadata": {},
   "source": [
    "<p style='direction:rtl;text-align:right;font-size:18px;font-family:samim;line-height:1.5;'> \n",
    "ماتریس زیر را در نظر بگیرید:\n",
    "<br>\n",
    "    \n",
    "<p style='direction:rtl;text-align:center;font-size:18px;font-family:samim;'>\n",
    "$\n",
    "\\begin{pmatrix}\n",
    "0  &  10  &  3 \\\\\\ \n",
    "9  &  0  &  7 \\\\\\\n",
    "6  & 5  & 11 \\\\\n",
    "\\end{pmatrix}\n",
    "$   \n",
    "<p style='direction:rtl;text-align:right;font-size:18px;font-family:samim;height:1.5;'>      \n",
    "کدی بنویسید که بدون استفاده از توابع sort  و min مقادیر هر ستون را از کوچک به بزرگ مرتب کند.\n",
    "    \n",
    "</p>"
   ]
  },
  {
   "cell_type": "code",
   "execution_count": null,
   "id": "e22ac5f9",
   "metadata": {},
   "outputs": [],
   "source": []
  },
  {
   "cell_type": "markdown",
   "id": "b276bfde",
   "metadata": {},
   "source": [
    "<h4 style='direction:rtl;text-align:right;font-size:18px;font-family:samim;'>راهنمایی</h4>"
   ]
  },
  {
   "cell_type": "markdown",
   "id": "57cf4484",
   "metadata": {},
   "source": [
    "<p style='direction:rtl;text-align:right;font-size:16px;font-family:samim;'>\n",
    "ابتدا ماتریس ورودی را تعریف کنید. سپس یک حلقه برای تک تک ستون‌ها تعریف کنید. \n",
    " برای مرتب‌سازی هر ستون، از دو حلقه تو در تو استفاده کنید که به ترتیب، از بالا به پایین و برعکس، عناصر را مقایسه می‌کنند.\n",
    "در داخل حلقه‌ها، عناصر را مقایسه کنید و در صورت نیاز، آن‌ها را جابجا کنید تا عنصر کوچکتر به بالا منتقل شود.\n",
    " این فرآیند را برای تمام ستون‌ها تکرار کنید تا تمام ستون‌ها به طور مستقل مرتب شوند.\n",
    "    \n",
    "</p>"
   ]
  },
  {
   "cell_type": "markdown",
   "id": "a7ffc9a3",
   "metadata": {},
   "source": [
    "<h4 style='direction:rtl;text-align:right;font-size:18px;font-family:samim;'>جواب</h4>"
   ]
  },
  {
   "cell_type": "code",
   "execution_count": 14,
   "id": "7b374422",
   "metadata": {},
   "outputs": [
    {
     "name": "stdout",
     "output_type": "stream",
     "text": [
      "Matrix after sorting each column:\n",
      "[[0, 0, 3], [6, 5, 7], [9, 10, 11]]\n"
     ]
    }
   ],
   "source": [
    "matrix = [[0, 10, 3],\n",
    "          [9, 0, 7],\n",
    "          [6, 5, 11]]\n",
    "\n",
    "# تعداد ستون ها و ردیف ها در ماتریس\n",
    "cols = len(matrix[0])\n",
    "rows = len(matrix)\n",
    "\n",
    "# پیمایش ستون ها\n",
    "for col in range(cols):\n",
    "    # اعمال مرتب سازی  برای هر ستون\n",
    "    for i in range(rows - 1):\n",
    "#         print('i',i)\n",
    "        for j in range(0, rows - i - 1):\n",
    "#             print('j',j)\n",
    "            if matrix[j][col] > matrix[j + 1][col]:\n",
    "                # جابجایی عناصر اگر عنصر بالایی بزرگتر از عنصر پایینی باشد\n",
    "                matrix[j][col], matrix[j + 1][col] = matrix[j + 1][col], matrix[j][col]\n",
    "\n",
    "print(\"Matrix after sorting each column:\")\n",
    "print(matrix)"
   ]
  },
  {
   "cell_type": "markdown",
   "id": "530a133c",
   "metadata": {
    "jp-MarkdownHeadingCollapsed": true,
    "tags": []
   },
   "source": [
    "<h2 style='direction:rtl;text-align:right;font-family:samim;'><b>🔸 تمرین ۱۴</b></h2>"
   ]
  },
  {
   "cell_type": "markdown",
   "id": "b89171bf",
   "metadata": {},
   "source": [
    "<p style='direction:rtl;text-align:right;font-size:18px;font-family:samim;line-height:1.5;'> \n",
    "دو لیست زیر را در نظر بگیرید:\n",
    "    <br>\n",
    "$$dictionary = ['erheat','cold','clod','reheat','docl'] $$\n",
    "$$query = ['codl','heater' ,'abcd']$$\n",
    "<br>\n",
    "کدی بنویسید که محاسبه کند برای هر عنصر از query، چند اناگرام در dictionary وجود دارد.\n",
    "<br>    \n",
    "** خروجی باید به صورت [3,2,0] باشد.**\n",
    "    \n",
    "</p>"
   ]
  },
  {
   "cell_type": "code",
   "execution_count": null,
   "id": "fb006fbd",
   "metadata": {},
   "outputs": [],
   "source": []
  },
  {
   "cell_type": "markdown",
   "id": "4a9f74fe",
   "metadata": {},
   "source": [
    "<h4 style='direction:rtl;text-align:right;font-size:18px;font-family:samim;'>راهنمایی</h4>"
   ]
  },
  {
   "cell_type": "markdown",
   "id": "1cbe6961",
   "metadata": {},
   "source": [
    "<p style='direction:rtl;text-align:right;font-size:16px;font-family:samim;'>\n",
    "به ازای هر کلمه از query تمامی کلمات از dictionary  را بررسی کنید که آیا آناگرام آن کلمه هستند یا نه.\n",
    "    برای آناگرام بودن دو کلمه کافیست هر دو کلمه را sort کنید و نتایج آن‌ها یکسان باشد.\n",
    "</p>"
   ]
  },
  {
   "cell_type": "markdown",
   "id": "843bd4db",
   "metadata": {},
   "source": [
    "<h4 style='direction:rtl;text-align:right;font-size:18px;font-family:samim;'>جواب</h4>"
   ]
  },
  {
   "cell_type": "code",
   "execution_count": 16,
   "id": "540bb93d",
   "metadata": {},
   "outputs": [
    {
     "name": "stdout",
     "output_type": "stream",
     "text": [
      "[3, 2, 0]\n"
     ]
    }
   ],
   "source": [
    "# تعریف لیست های اولیه\n",
    "dictionary = ['erheat', 'cold', 'clod', 'reheat', 'docl']\n",
    "query = ['codl', 'heater', 'abcd']\n",
    "\n",
    "results = []\n",
    "for q_word in query:\n",
    "    count = 0\n",
    "    for d_word in dictionary:\n",
    "        if sorted(q_word) == sorted(d_word):\n",
    "            count += 1\n",
    "    results.append(count)\n",
    "\n",
    "print(results)\n"
   ]
  },
  {
   "cell_type": "markdown",
   "id": "55d43608",
   "metadata": {
    "jp-MarkdownHeadingCollapsed": true,
    "tags": []
   },
   "source": [
    "<h2 style='direction:rtl;text-align:right;font-family:samim;'><b>🔸 تمرین ۱۵</b></h2>"
   ]
  },
  {
   "cell_type": "markdown",
   "id": "2f3b7ebe",
   "metadata": {},
   "source": [
    "<p style='direction:rtl;text-align:right;font-size:18px;font-family:samim;line-height:1.5;'> \n",
    "از حلقه‌های تو در تو برای چاپ الگویی که با استفاده از ستاره (*) برای یک اندازه معین، به عنوان مثال، اندازه 5، شکل \"X\" را تشکیل می‌دهد، استفاده کنید.\n",
    "</p>"
   ]
  },
  {
   "attachments": {
    "image.png": {
     "image/png": "[encoded data removed]"
    }
   },
   "cell_type": "markdown",
   "id": "d3402c0f",
   "metadata": {},
   "source": [
    "![image.png](attachment:image.png)"
   ]
  },
  {
   "cell_type": "code",
   "execution_count": null,
   "id": "5dc11ffa",
   "metadata": {},
   "outputs": [],
   "source": []
  },
  {
   "cell_type": "markdown",
   "id": "6c4a9918",
   "metadata": {},
   "source": [
    "<h4 style='direction:rtl;text-align:right;font-size:18px;font-family:samim;'>راهنمایی</h4>"
   ]
  },
  {
   "cell_type": "markdown",
   "id": "f417626a",
   "metadata": {},
   "source": [
    "<p style='direction:rtl;text-align:right;font-size:16px;font-family:samim;'>\n",
    " یک متغیر size تعریف کنید که اندازه الگوی \"X\" را مشخص می‌کند.\n",
    "    دو حلقه for استفاده کنید؛ یکی برای ردیف‌ها و دیگری برای ستون‌ها،\n",
    "     اگر اندیس ستون با اندیس ردیف برابر است یا مجموع این دو اندیس برابر با size - 1 باشد ستاره (*) چاپ کنید،\n",
    "   در غیر این صورت، یک فضای خالی چاپ کنید.\n",
    "    برای پرینت آرگومان end  را فعال کنید.\n",
    "</p>"
   ]
  },
  {
   "cell_type": "markdown",
   "id": "5fc9eea3",
   "metadata": {},
   "source": [
    "<h4 style='direction:rtl;text-align:right;font-size:18px;font-family:samim;'>جواب</h4>"
   ]
  },
  {
   "cell_type": "code",
   "execution_count": 17,
   "id": "fd9012e2",
   "metadata": {},
   "outputs": [
    {
     "name": "stdout",
     "output_type": "stream",
     "text": [
      "*   *\n",
      " * * \n",
      "  *  \n",
      " * * \n",
      "*   *\n"
     ]
    }
   ],
   "source": [
    "size = 5\n",
    "\n",
    "for i in range(size):\n",
    "    for j in range(size):\n",
    "        if j == i or j == size - i - 1:\n",
    "            print('*', end='')\n",
    "        else:\n",
    "            print(' ', end='')\n",
    "    print()"
   ]
  },
  {
   "cell_type": "markdown",
   "id": "d3a51481",
   "metadata": {},
   "source": [
    "<h2 style='direction:rtl;text-align:right;font-family:samim;'><b>🔸 تمرین ۱۶</b></h2>"
   ]
  },
  {
   "cell_type": "markdown",
   "id": "ccc02c40",
   "metadata": {},
   "source": [
    "<p style='direction:rtl;text-align:right;font-size:18px;font-family:samim;line-height:1.5;'> \n",
    "با توجه به دو ماتریس 3x3، کدی بنویسید که از حلقه‌های تودرتو برای جمع کردن درایه‌‌های آنها با هم استفاده می‌کنند و ماتریس حاصل را چاپ می‌کند.\n",
    "</p>"
   ]
  },
  {
   "cell_type": "code",
   "execution_count": null,
   "id": "0687d6e4",
   "metadata": {},
   "outputs": [],
   "source": []
  },
  {
   "cell_type": "markdown",
   "id": "8504c50b",
   "metadata": {
    "jp-MarkdownHeadingCollapsed": true,
    "tags": []
   },
   "source": [
    "<h4 style='direction:rtl;text-align:right;font-size:18px;font-family:samim;'>راهنمایی</h4>"
   ]
  },
  {
   "cell_type": "markdown",
   "id": "63957dd1",
   "metadata": {},
   "source": [
    "<p style='direction:rtl;text-align:right;font-size:16px;font-family:samim;'>\n",
    "در ابتدا یک ماتریس تمام صفر تعریف تعریف کنید. هر بار که المان‌های نظیر به نظیر از هر دو ماتریس اولیه را جمع کردید حاصل را در درایه مخصوص به خود در ماتریس صفر جایگزین کنید.\n",
    "</p>"
   ]
  },
  {
   "cell_type": "markdown",
   "id": "4ca588dc",
   "metadata": {
    "jp-MarkdownHeadingCollapsed": true,
    "tags": []
   },
   "source": [
    "<h4 style='direction:rtl;text-align:right;font-size:18px;font-family:samim;'>جواب</h4>"
   ]
  },
  {
   "cell_type": "code",
   "execution_count": 18,
   "id": "01fc1866",
   "metadata": {},
   "outputs": [
    {
     "name": "stdout",
     "output_type": "stream",
     "text": [
      "[[2, 4, 6], [8, 10, 12], [14, 16, 18]]\n"
     ]
    }
   ],
   "source": [
    "matrix1 = [[1, 2, 3], [4, 5, 6], [7, 8, 9]]\n",
    "matrix2 = [[1, 2, 3], [4, 5, 6], [7, 8, 9]]\n",
    "\n",
    "\n",
    "result_matrix = [[0, 0, 0] for _ in range(3)]\n",
    "for i in range(3):\n",
    "    for j in range(3):\n",
    "        result_matrix[i][j] = matrix1[i][j] + matrix2[i][j]\n",
    "\n",
    "\n",
    "print(result_matrix)\n",
    "\n"
   ]
  },
  {
   "cell_type": "markdown",
   "id": "0f7ed432",
   "metadata": {},
   "source": [
    "<h2 style='direction:rtl;text-align:right;font-family:samim;'><b>🔸 تمرین ۱۷*</b></h2>"
   ]
  },
  {
   "cell_type": "markdown",
   "id": "3269c3eb",
   "metadata": {},
   "source": [
    "<p style='direction:rtl;text-align:right;font-size:18px;font-family:samim;line-height:1.5;'> \n",
    "ماتریس زیر را با استفاده از دستورات شرطی و حلقه ایجاد کنید.\n",
    "</p>"
   ]
  },
  {
   "cell_type": "markdown",
   "id": "b552eeaf",
   "metadata": {},
   "source": [
    "<p style='direction:rtl;text-align:center;font-size:18px;font-family:samim;'>\n",
    "$\n",
    "\\begin{pmatrix}\n",
    "1  &  2  &  3 & 4 & 5\\\\\\ \n",
    "10  & 9 & 8 & 7 & 6 \\\\\\\n",
    "11 & 12 & 13 & 14 & 15 \\\\\n",
    "20 & 19 & 18 & 17 & 16 \\\\\\\n",
    "21 & 22 & 23 & 24 & 25 \\\\\n",
    "\\end{pmatrix}\n",
    "$  "
   ]
  },
  {
   "cell_type": "code",
   "execution_count": null,
   "id": "5ec0f37f",
   "metadata": {},
   "outputs": [],
   "source": []
  },
  {
   "cell_type": "markdown",
   "id": "677bdc02",
   "metadata": {
    "jp-MarkdownHeadingCollapsed": true,
    "tags": []
   },
   "source": [
    "<h4 style='direction:rtl;text-align:right;font-size:18px;font-family:samim;'>راهنمایی</h4>"
   ]
  },
  {
   "cell_type": "markdown",
   "id": "2b541468",
   "metadata": {},
   "source": [
    "<p style='direction:rtl;text-align:right;font-size:16px;font-family:samim;'>\n",
    "یک حلقه for بنویسید که از ۰ تا تعداد ردیف‌ها اجرا شود. در هر تکرار، بررسی کنید که شماره ردیف زوج است یا فرد. برای ردیف‌های زوج اعداد را به ترتیب صعودی و برای ردیف‌های فرد به ترتیب نزولی در ردیف قرار دهید.\n",
    "</p>"
   ]
  },
  {
   "cell_type": "markdown",
   "id": "a1dbc787",
   "metadata": {
    "jp-MarkdownHeadingCollapsed": true,
    "tags": []
   },
   "source": [
    "<h4 style='direction:rtl;text-align:right;font-size:18px;font-family:samim;'>جواب</h4>"
   ]
  },
  {
   "cell_type": "code",
   "execution_count": 19,
   "id": "43f3d668",
   "metadata": {},
   "outputs": [
    {
     "name": "stdout",
     "output_type": "stream",
     "text": [
      "[[1, 2, 3, 4, 5], [10, 9, 8, 7, 6], [11, 12, 13, 14, 15], [20, 19, 18, 17, 16], [21, 22, 23, 24, 25]]\n"
     ]
    }
   ],
   "source": [
    "rows = 5\n",
    "cols = 5\n",
    "matrix = []\n",
    "\n",
    "for i in range(rows):\n",
    "    row = []\n",
    "    start = i * cols + 1\n",
    "    if i % 2 == 0:\n",
    "        # پر کردن ردیف با مقدیر افزایشی\n",
    "        for j in range(start, start + cols):\n",
    "            row.append(j)\n",
    "    else:\n",
    "        # پر کردن ردیف با مقادیر کاهشی\n",
    "        for j in range(start + cols - 1, start - 1, -1):\n",
    "            row.append(j)\n",
    "    matrix.append(row)\n",
    "\n",
    "print(matrix)\n"
   ]
  },
  {
   "cell_type": "markdown",
   "id": "ff3c31bd",
   "metadata": {},
   "source": [
    "<h2 style='direction:rtl;text-align:right;font-family:samim;'><b>🔸 تمرین ۱۸</b></h2>"
   ]
  },
  {
   "cell_type": "markdown",
   "id": "9643da2a",
   "metadata": {},
   "source": [
    "<p style='direction:rtl;text-align:right;font-size:18px;font-family:samim;line-height:1.5;'> \n",
    "یک برنامه پایتون بنویسید که در لیست زیر مشخص کنید آیا هر کلمه یک palindrome است یا خیر (palindrome کلمه‌ای که به همان صورت رو به عقب خوانده می‌شود).\n",
    "<br>\n",
    "$$words = [\"radar\",\"python\",\"level\",\"hello\",\"rotor\"]$$    \n",
    "</p>"
   ]
  },
  {
   "cell_type": "code",
   "execution_count": null,
   "id": "02401f11",
   "metadata": {},
   "outputs": [],
   "source": []
  },
  {
   "cell_type": "markdown",
   "id": "67912f0f",
   "metadata": {
    "jp-MarkdownHeadingCollapsed": true,
    "tags": []
   },
   "source": [
    "<h4 style='direction:rtl;text-align:right;font-size:18px;font-family:samim;'>راهنمایی</h4>"
   ]
  },
  {
   "cell_type": "markdown",
   "id": "3991083b",
   "metadata": {},
   "source": [
    "<p style='direction:rtl;text-align:right;font-size:16px;font-family:samim;'>\n",
    "برای هر کلمه از این لیست چک کنید که آیا آن کلمه با تعریف معکوسش برابر است یانه. تعریف معکوس را قبلا یاد داده بودیم:\n",
    "    <br>\n",
    "      <br>\n",
    "  $$ a [::-1]$$\n",
    "</p>"
   ]
  },
  {
   "cell_type": "markdown",
   "id": "cbb60c89",
   "metadata": {
    "jp-MarkdownHeadingCollapsed": true,
    "tags": []
   },
   "source": [
    "<h4 style='direction:rtl;text-align:right;font-size:18px;font-family:samim;'>جواب</h4>"
   ]
  },
  {
   "cell_type": "code",
   "execution_count": 20,
   "id": "64ce280f",
   "metadata": {},
   "outputs": [
    {
     "name": "stdout",
     "output_type": "stream",
     "text": [
      "['radar', 'level', 'rotor']\n"
     ]
    }
   ],
   "source": [
    "words = [\"radar\", \"python\", \"level\", \"hello\", \"rotor\"]\n",
    "\n",
    "palindromes = [word for word in words if word == word[::-1]]\n",
    "\n",
    "print(palindromes)  # Outputs palindromes\n"
   ]
  },
  {
   "cell_type": "markdown",
   "id": "48503648",
   "metadata": {},
   "source": [
    "<h2 style='direction:rtl;text-align:right;font-family:samim;'><b>🔸 تمرین ۱۹</b></h2>"
   ]
  },
  {
   "cell_type": "markdown",
   "id": "528764d0",
   "metadata": {},
   "source": [
    "<p style='direction:rtl;text-align:right;font-size:18px;font-family:samim;line-height:1.5;'> \n",
    "برنامه‌ای بنویسید که همه عناصر در لیست زیر را با هم جمع کند.\n",
    "<br>    \n",
    "   <br>   \n",
    "$$nested_{list} = [[1,2],[3,4],[5,6]] $$    \n",
    "</p>"
   ]
  },
  {
   "cell_type": "code",
   "execution_count": null,
   "id": "2651e381",
   "metadata": {},
   "outputs": [],
   "source": []
  },
  {
   "cell_type": "markdown",
   "id": "bd185aae",
   "metadata": {
    "jp-MarkdownHeadingCollapsed": true,
    "tags": []
   },
   "source": [
    "<h4 style='direction:rtl;text-align:right;font-size:18px;font-family:samim;'>راهنمایی</h4>"
   ]
  },
  {
   "cell_type": "markdown",
   "id": "d99e1244",
   "metadata": {},
   "source": [
    "<p style='direction:rtl;text-align:right;font-size:16px;font-family:samim;'>\n",
    "    ابتدا لیست را تعریف کنید و سپس حواستان باشد که هر المان خودش یک لیست است. پس نیاز به دو حلقه داریم.\n",
    "\n",
    "    \n",
    "</p>"
   ]
  },
  {
   "cell_type": "markdown",
   "id": "d18b7718",
   "metadata": {
    "jp-MarkdownHeadingCollapsed": true,
    "tags": []
   },
   "source": [
    "<h4 style='direction:rtl;text-align:right;font-size:18px;font-family:samim;'>جواب</h4>"
   ]
  },
  {
   "cell_type": "code",
   "execution_count": 21,
   "id": "c557c870",
   "metadata": {},
   "outputs": [
    {
     "name": "stdout",
     "output_type": "stream",
     "text": [
      "21\n"
     ]
    }
   ],
   "source": [
    "nested_list = [[1, 2], [3, 4], [5, 6]]\n",
    "\n",
    "total_sum = 0\n",
    "\n",
    "for sublist in nested_list:\n",
    "  for number in sublist:\n",
    "    total_sum += number\n",
    "\n",
    "print(total_sum)\n"
   ]
  },
  {
   "cell_type": "markdown",
   "id": "0041b2d1",
   "metadata": {},
   "source": [
    "<h2 style='direction:rtl;text-align:right;font-family:samim;'><b>🔸 تمرین ۲۰*</b></h2>"
   ]
  },
  {
   "cell_type": "markdown",
   "id": "34481be9",
   "metadata": {},
   "source": [
    "<p style='direction:rtl;text-align:right;font-size:18px;font-family:samim;line-height:1.5;'> \n",
    "Transpose ماتریس زیر را بدست آوردید.\n",
    "<br>    \n",
    "<br>\n",
    "$$ matrix = [[1,2,3],[4,5,6],[7,8,9]]$$ \n",
    "    \n",
    "<br>\n",
    "<br>\n",
    "*transpose یک ماتریس یعنی جای هر سطر و ردیف را با یکدیگر عوض کنید. *   \n",
    "</p>"
   ]
  },
  {
   "cell_type": "code",
   "execution_count": null,
   "id": "344052a5",
   "metadata": {},
   "outputs": [],
   "source": []
  },
  {
   "cell_type": "markdown",
   "id": "7f9c5085",
   "metadata": {
    "jp-MarkdownHeadingCollapsed": true,
    "tags": []
   },
   "source": [
    "<h4 style='direction:rtl;text-align:right;font-size:18px;font-family:samim;'>راهنمایی</h4>"
   ]
  },
  {
   "cell_type": "markdown",
   "id": "b37b59c9",
   "metadata": {},
   "source": [
    "<p style='direction:rtl;text-align:right;font-size:16px;font-family:samim;'>\n",
    " ابتدا یک ماتریس خالی transpose ایجاد می‌کنیم که در آن هر ردیف جدید برای نگهداری ستون‌های ماتریس اصلی است. \n",
    "سپس  از دو حلقه تو در تو استفاده می‌کنیم، اولین حلقه هر ردیف از ماتریس اصلی را پیمایش می‌کند و دومین حلقه هر عنصر در آن ردیف را به مکان مناسب در ماتریس ترانسپوز منتقل می‌کند.\n",
    "</p>"
   ]
  },
  {
   "cell_type": "markdown",
   "id": "da86075a",
   "metadata": {
    "jp-MarkdownHeadingCollapsed": true,
    "tags": []
   },
   "source": [
    "<h4 style='direction:rtl;text-align:right;font-size:18px;font-family:samim;'>جواب</h4>"
   ]
  },
  {
   "cell_type": "code",
   "execution_count": 17,
   "id": "eb887903",
   "metadata": {},
   "outputs": [
    {
     "name": "stdout",
     "output_type": "stream",
     "text": [
      "[1, 4, 7]\n",
      "[2, 5, 8]\n",
      "[3, 6, 9]\n"
     ]
    }
   ],
   "source": [
    "matrix = [[1, 2, 3], [4, 5, 6], [7, 8, 9]]\n",
    "transpose = []\n",
    "\n",
    "# تعداد ستون‌های ماتریس اصلی برابر با تعداد ردیف‌های ماتریس ترانسپوز است\n",
    "cols = len(matrix[0])  # تعداد ستون‌ها در ماتریس اصلی\n",
    "\n",
    "# ایجاد سطرهای خالی برای ماتریس ترانسپوز\n",
    "for _ in range(cols):\n",
    "    transpose.append([])\n",
    "\n",
    "# پر کردن ماتریس ترانسپوز\n",
    "for row in matrix:\n",
    "    for i in range(cols):\n",
    "        transpose[i].append(row[i])\n",
    "\n",
    "for row in transpose:\n",
    "    print(row)\n",
    "# print(transpose)    "
   ]
  },
  {
   "cell_type": "code",
   "execution_count": 22,
   "id": "9276b472",
   "metadata": {},
   "outputs": [
    {
     "name": "stdout",
     "output_type": "stream",
     "text": [
      "[[1, 4, 7], [2, 5, 8], [3, 6, 9]]\n"
     ]
    }
   ],
   "source": [
    "# روش دوم با حلقه‌های تک خطی\n",
    "matrix = [[1, 2, 3], [4, 5, 6], [7, 8, 9]]\n",
    "\n",
    "transposed_matrix = [[matrix[j][i] for j in range(len(matrix))] for i in range(len(matrix[0]))]\n",
    "\n",
    "print(transposed_matrix) \n"
   ]
  },
  {
   "cell_type": "markdown",
   "id": "d39a6967",
   "metadata": {},
   "source": [
    "<h2 style='direction:rtl;text-align:right;font-family:samim;'><b>🔸 تمرین ۲۱</b></h2>"
   ]
  },
  {
   "cell_type": "markdown",
   "id": "0083e2dc",
   "metadata": {},
   "source": [
    "<p style='direction:rtl;text-align:right;font-size:18px;font-family:samim;line-height:1.5;'> \n",
    "عناصر روی قطر اصلی ماتریس زیر را استخراج کنید.\n",
    "<br>\n",
    "    <br>\n",
    "$$ matrix = [[1,2,3],[4,5,6],[7,8,9]] $$   \n",
    "</p>"
   ]
  },
  {
   "cell_type": "code",
   "execution_count": null,
   "id": "240934f8",
   "metadata": {},
   "outputs": [],
   "source": []
  },
  {
   "cell_type": "markdown",
   "id": "ca4f000a",
   "metadata": {
    "jp-MarkdownHeadingCollapsed": true,
    "tags": []
   },
   "source": [
    "<h4 style='direction:rtl;text-align:right;font-size:18px;font-family:samim;'>راهنمایی</h4>"
   ]
  },
  {
   "cell_type": "markdown",
   "id": "be0d10e8",
   "metadata": {},
   "source": [
    "<p style='direction:rtl;text-align:right;font-size:16px;font-family:samim;'>\n",
    "برای هر ردیف عنصری که درایه قطراصلی می‌شود را با اندیس‌دهی مناسب پیدا کنید.\n",
    "</p>"
   ]
  },
  {
   "cell_type": "markdown",
   "id": "2b1e76ed",
   "metadata": {
    "jp-MarkdownHeadingCollapsed": true,
    "tags": []
   },
   "source": [
    "<h4 style='direction:rtl;text-align:right;font-size:18px;font-family:samim;'>جواب</h4>"
   ]
  },
  {
   "cell_type": "code",
   "execution_count": 23,
   "id": "aa12d34c",
   "metadata": {},
   "outputs": [
    {
     "name": "stdout",
     "output_type": "stream",
     "text": [
      "[1, 5, 9]\n"
     ]
    }
   ],
   "source": [
    "matrix = [[1, 2, 3], [4, 5, 6], [7, 8, 9]]\n",
    "\n",
    "diagonal_elements = [matrix[i][i] for i in range(len(matrix))]\n",
    "\n",
    "print(diagonal_elements)\n"
   ]
  },
  {
   "cell_type": "markdown",
   "id": "768dbffb",
   "metadata": {},
   "source": [
    "<h2 style='direction:rtl;text-align:right;font-family:samim;'><b>🔸 تمرین ۲۲**</b></h2>"
   ]
  },
  {
   "cell_type": "markdown",
   "id": "ec75754b",
   "metadata": {},
   "source": [
    "<p style='direction:rtl;text-align:right;font-size:18px;font-family:samim;line-height:1.5;'> \n",
    "در لیست زیر اسامی افراد یک شرکت به همراه سن و سابقه کاری آن‌ها به شما داده شده است.\n",
    "<br>\n",
    "    <br>\n",
    "$$ name = [['sajad',35,15],['elham',33,10],['sahar',32,5],['mahdi',30,2]]$$  \n",
    "    \n",
    "<br>\n",
    "الف) قرار است به کسی که بیشترین سابقه کاری را دارد جایزه‌ای تعلق بگیرد.\n",
    "   <br> \n",
    "    ب) و کسی که کمترین سن و کمترین سابقه کاری را دارد نیز برای ادامه مسیر تشویق شود.\n",
    "    <br>\n",
    "    اسامی این افراد به همراه سنشان را چاپ کنید.\n",
    "</p>"
   ]
  },
  {
   "cell_type": "code",
   "execution_count": null,
   "id": "d225222f",
   "metadata": {},
   "outputs": [],
   "source": []
  },
  {
   "cell_type": "markdown",
   "id": "eaa3f49d",
   "metadata": {
    "jp-MarkdownHeadingCollapsed": true,
    "tags": []
   },
   "source": [
    "<h4 style='direction:rtl;text-align:right;font-size:18px;font-family:samim;'>راهنمایی</h4>"
   ]
  },
  {
   "cell_type": "markdown",
   "id": "fecd6380",
   "metadata": {},
   "source": [
    "<p style='direction:rtl;text-align:right;font-size:16px;font-family:samim;'>\n",
    "قسمت اول: یک متغیر اولیه با مقدار منفی برای سابقه کار تعریف کنید، چون قرار است بزرگترین سن را پیدا کنید پس در ابتدا این متغیر را خیلی کوچک در نظر می‌گیریم. سپس یک نفر از لیست را انتخاب و بررسی کنید آیا تجربه او بزرگتر از این عدد است اگر جواب بله بود، تجربه کاری او باید جایگزین متغیر اولیه شود و برای نفر بعدی با این مقدار جدید شرط را بررسی کنید.\n",
    "<br>\n",
    "    قسمت دوم:\n",
    "    یک متغیر اولیه برای کمترین سن و کمترین سابقه کاری تعریف کنید. این اعداد را بزرگ در نظر بگیرید. چون قراره کوچکترین مقدار را پیدا کنیم. پس برای فرض اولیه این ها را اعداد بزرگی در نظر می‌گیریم.\n",
    "    و حالا شروع به بررسی اینکه چه کسی کمتر از این مقدار هست می‌کنیم .\n",
    " \n",
    "</p>"
   ]
  },
  {
   "cell_type": "markdown",
   "id": "25ce7f0b",
   "metadata": {
    "jp-MarkdownHeadingCollapsed": true,
    "tags": []
   },
   "source": [
    "<h4 style='direction:rtl;text-align:right;font-size:18px;font-family:samim;'>جواب</h4>"
   ]
  },
  {
   "cell_type": "code",
   "execution_count": 23,
   "id": "ba6b6f5c",
   "metadata": {},
   "outputs": [
    {
     "name": "stdout",
     "output_type": "stream",
     "text": [
      "Person with the maximum work experience: sajad\n",
      "Person with the minimum age and minimum work experience: mahdi 30\n"
     ]
    }
   ],
   "source": [
    "names = [['sajad',35,15],['elham',33,10],['sahar',32,5],['mahdi',30,2]]\n",
    "\n",
    "# a) Find the person with the maximum work experience\n",
    "max_experience = -1\n",
    "max_experience_name = \"\"\n",
    "for person in names:\n",
    "    experience = person[2]\n",
    "    if experience > max_experience:\n",
    "        max_experience = experience\n",
    "        max_experience_name = person[0]\n",
    "\n",
    "print(\"Person with the maximum work experience:\", max_experience_name)\n",
    "\n",
    "# b) Find the person with the minimum age and minimum work experience\n",
    "min_age = 100\n",
    "min_age_experience = 100\n",
    "min_age_name = \"\"\n",
    "for person in names:\n",
    "    age = person[1]\n",
    "    experience = person[2]\n",
    "    if age < min_age or (age == min_age and experience < min_age_experience):\n",
    "        min_age = age\n",
    "        min_age_experience = experience\n",
    "        min_age_name = person[0]\n",
    "\n",
    "print(\"Person with the minimum age and minimum work experience:\", min_age_name, min_age)\n"
   ]
  },
  {
   "cell_type": "markdown",
   "id": "192821b7",
   "metadata": {},
   "source": [
    "<h2 style='direction:rtl;text-align:right;font-family:samim;'><b>🔸 تمرین ۲۳*</b></h2>"
   ]
  },
  {
   "cell_type": "markdown",
   "id": "df559098",
   "metadata": {},
   "source": [
    "<p style='direction:rtl;text-align:right;font-size:18px;font-family:samim;line-height:1.5;'> \n",
    "لیست زیر مجموعه‌ای از داده‌های مربوط به یک کلاس درس، از جمله اطلاعات دانش‌آموزان و نمرات تکالیف آنها را نشان می‌دهد.\n",
    "هر فهرست فرعی شامل:  نام دانش‌آموز، درجه کلاس، سن و فهرستی از نمرات برای تکالیف مختلف است.\n",
    "<br>\n",
    "\n",
    "$$class_{data} = [ ['Sarah','Grade 10',15,[88,92,75]],['James','Grade 9',14,[85,90]],['Linda','Grade 10',15,[95,82,88,91]], ['John','Grade 9',14,[78,84]],['Emily','Grade 10',16,[93,89,85]]]$$ \n",
    "\n",
    "<p style='direction:rtl;text-align:right;font-size:18px;font-family:samim;line-height:1.5;'>     \n",
    "    <br>\n",
    "الف) نام هر دانش‌آموز را به همراه میانگین نمراتش چاپ کنید.\n",
    "    <br>\n",
    "ب) اسامی دانش‌آموزانی که نمره‌ای کمتر از ‌۸۰ دارند را در یک لیست ذخیره کنید.\n",
    "    <br>\n",
    "ج)  تعداد دانش‌آموزانی که در پایه دهم هستند را بشمارید و نتیجه را چاپ کنید.\n",
    "    <br>\n",
    "د) نام دانش‌آموزانی که بالای ۱۵ سال دارند را چاپ کنید.\n",
    "    \n",
    "</p>"
   ]
  },
  {
   "cell_type": "code",
   "execution_count": null,
   "id": "ee27257b",
   "metadata": {},
   "outputs": [],
   "source": []
  },
  {
   "cell_type": "markdown",
   "id": "bb8826d5",
   "metadata": {
    "jp-MarkdownHeadingCollapsed": true,
    "tags": []
   },
   "source": [
    "<h4 style='direction:rtl;text-align:right;font-size:18px;font-family:samim;'>راهنمایی</h4>"
   ]
  },
  {
   "cell_type": "markdown",
   "id": "bf8c27ab",
   "metadata": {},
   "source": [
    "<p style='direction:rtl;text-align:right;font-size:16px;font-family:samim;'>\n",
    "قسمت اول: هر بار با اندیس‌دهی مناسب نام هر دانش‌آموز و نمراتش را بردارید و در یک متغیر مناسب  ذخیره کنید. سپس  با استفاده جمع و تقسیم معمولی میانگین را حساب کنید.\n",
    "<br>    \n",
    "    قسمت دوم: به ازای هر دانش‌آموز، نمراتش را در یک متغیر ذخیره کنید سپس با استفاده از دستور شرطی چک کنید که نمره کمتر از نمره مدنظر دارد یا نه. \n",
    "<br>    \n",
    "    قسمت سوم: یک متغیر اولیه با مقدار صفر تعریف کنید.با استفاده از دستورات حلقه و شرطی چک کنید که آیا grade هر دانش‌آموز دهم هست یا نه. اگر بود به متغیر خود یک واحد اضافه کنید.\n",
    "<br>   \n",
    "    قسمت آخر: با استفاده از دستور حلقه هر دانش‌آموز را انتخاب کنید و سن آن را با اندیس‌دهی مناسب پیدا کنید و بررسی کنید که شرط لازم را دارد یا نه.\n",
    "    \n",
    "    \n",
    "</p>"
   ]
  },
  {
   "cell_type": "markdown",
   "id": "0c312fb1",
   "metadata": {
    "jp-MarkdownHeadingCollapsed": true,
    "tags": []
   },
   "source": [
    "<h4 style='direction:rtl;text-align:right;font-size:18px;font-family:samim;'>جواب</h4>"
   ]
  },
  {
   "cell_type": "code",
   "execution_count": 25,
   "id": "9e57d27b",
   "metadata": {},
   "outputs": [
    {
     "name": "stdout",
     "output_type": "stream",
     "text": [
      "Sarah 85.0\n",
      "James 87.5\n",
      "Linda 89.0\n",
      "John 81.0\n",
      "Emily 89.0\n",
      "Students with grades below 80: ['Sarah', 'John']\n",
      "Number of students in Grade 10: 3\n",
      "Students older than 15 years old: ['Emily']\n"
     ]
    }
   ],
   "source": [
    "class_data = [\n",
    "    ['Sarah', 'Grade 10', 15, [88, 92, 75]],\n",
    "    ['James', 'Grade 9', 14, [85, 90]],\n",
    "    ['Linda', 'Grade 10', 15, [95, 82, 88, 91]],\n",
    "    ['John', 'Grade 9', 14, [78, 84]],\n",
    "    ['Emily', 'Grade 10', 16, [93, 89, 85]]\n",
    "]\n",
    "\n",
    "# a) Print name of each student along with their average grades\n",
    "for student in class_data:\n",
    "    name = student[0]\n",
    "    grades = student[3]\n",
    "    total = 0\n",
    "    for grade in grades:\n",
    "        total += grade\n",
    "    avg_grade = total / len(grades)\n",
    "    print(name, avg_grade)\n",
    "\n",
    "# b) Store names of students with grades less than 80 in a list\n",
    "below_80_students = []\n",
    "for student in class_data:\n",
    "    name = student[0]\n",
    "    grades = student[3]\n",
    "    below_80 = False\n",
    "    for grade in grades:\n",
    "        if grade < 80:\n",
    "            below_80 = True\n",
    "            break\n",
    "    if below_80:\n",
    "        below_80_students.append(name)\n",
    "print(\"Students with grades below 80:\", below_80_students)\n",
    "\n",
    "# c) Count the number of students in Grade 10\n",
    "grade_10_count = 0\n",
    "for student in class_data:\n",
    "    if student[1] == 'Grade 10':\n",
    "        grade_10_count += 1\n",
    "print(\"Number of students in Grade 10:\", grade_10_count)\n",
    "\n",
    "# d) Print names of students older than 15\n",
    "older_than_15_students = [student[0] for student in class_data if student[2] > 15]\n",
    "print(\"Students older than 15 years old:\", older_than_15_students)\n"
   ]
  },
  {
   "cell_type": "markdown",
   "id": "e5d4df14",
   "metadata": {},
   "source": [
    "<h2 style='direction:rtl;text-align:right;font-family:samim;'><b>🔸 تمرین ۲۴</b></h2>"
   ]
  },
  {
   "cell_type": "markdown",
   "id": "3d6529fd",
   "metadata": {},
   "source": [
    "<p style='direction:rtl;text-align:right;font-size:18px;font-family:samim;line-height:1.5;'> \n",
    "با استفاده از for خطی، تعداد کاراکترهای هر کلمه را در لیست زیر بشمارید.\n",
    "    <br>\n",
    "    <br>\n",
    "    $$words = ['hello','world','example','data']$$\n",
    "</p>"
   ]
  },
  {
   "cell_type": "code",
   "execution_count": null,
   "id": "f646fc54",
   "metadata": {},
   "outputs": [],
   "source": []
  },
  {
   "cell_type": "markdown",
   "id": "532582d9",
   "metadata": {
    "jp-MarkdownHeadingCollapsed": true,
    "tags": []
   },
   "source": [
    "<h4 style='direction:rtl;text-align:right;font-size:18px;font-family:samim;'>راهنمایی</h4>"
   ]
  },
  {
   "cell_type": "markdown",
   "id": "dedde555",
   "metadata": {},
   "source": [
    "<p style='direction:rtl;text-align:right;font-size:16px;font-family:samim;'>\n",
    "هر کلمه از لیست را برداشته و با استفاده از دستور len طول آن را مورد بررسی قرار دهید.\n",
    "</p>"
   ]
  },
  {
   "cell_type": "markdown",
   "id": "0815a1c1",
   "metadata": {
    "jp-MarkdownHeadingCollapsed": true,
    "tags": []
   },
   "source": [
    "<h4 style='direction:rtl;text-align:right;font-size:18px;font-family:samim;'>جواب</h4>"
   ]
  },
  {
   "cell_type": "code",
   "execution_count": 26,
   "id": "df5cd3e0",
   "metadata": {},
   "outputs": [
    {
     "name": "stdout",
     "output_type": "stream",
     "text": [
      "[5, 5, 7, 4]\n"
     ]
    }
   ],
   "source": [
    "words = ['hello', 'world', 'example', 'data']\n",
    "\n",
    "char_count = [len(word) for word in words]\n",
    "\n",
    "print(char_count)\n"
   ]
  },
  {
   "cell_type": "markdown",
   "id": "4a25bddb",
   "metadata": {},
   "source": [
    "<h2 style='direction:rtl;text-align:right;font-family:samim;'><b>🔸 تمرین ۲۵</b></h2>"
   ]
  },
  {
   "cell_type": "markdown",
   "id": "0032fb30",
   "metadata": {},
   "source": [
    "<p style='direction:rtl;text-align:right;font-size:18px;font-family:samim;line-height:1.5;'> \n",
    "لیست زیر که بیانگر نمرات کمی است را در نظر بگیرید.\n",
    "    <br>\n",
    "    <br>\n",
    "    $$scores = [92,85,70,67,45,98]$$\n",
    "<p style='direction:rtl;text-align:right;font-size:18px;font-family:samim;line-height:1.5;'>    \n",
    "نمرات کمی را به نمرات کیفی تبدیل کنید. بزرگتر مساوی۹۰ را A، بزرگتر مساوی ۸۰ را B و بزرگترمساوی ۷۰ را  C و بزرگتر مساوی ۶۰ را D و در غیر اینصورت را F در نظر بگیرید.\n",
    "الف) ابتدا این برنامه را بگونه‌ای بنویسید که بتوانید خط به خط بررسی کنید.\n",
    "    <br>\n",
    "ب) سپس بررسی کنید می‌توانید این برنامه را با \n",
    "    for و if وelse های یک خطی بنویسید. \n",
    "    \n",
    "</p>"
   ]
  },
  {
   "cell_type": "code",
   "execution_count": null,
   "id": "49729f58",
   "metadata": {},
   "outputs": [],
   "source": []
  },
  {
   "cell_type": "markdown",
   "id": "170ddcd8",
   "metadata": {
    "jp-MarkdownHeadingCollapsed": true,
    "tags": []
   },
   "source": [
    "<h4 style='direction:rtl;text-align:right;font-size:18px;font-family:samim;'>راهنمایی</h4>"
   ]
  },
  {
   "cell_type": "markdown",
   "id": "b38c16a1",
   "metadata": {},
   "source": [
    "<p style='direction:rtl;text-align:right;font-size:16px;font-family:samim;'>\n",
    "ابتدا به صورت ساده یک حلقه فور نوشته و هر عدد از لیست را برداشته و بررسی کنید در چه رنجی قرار دارد.\n",
    "    سپس برنامه خود را دیباگ کنید و در نهایت برای تک خطی نوشتن فکر کنید.\n",
    "</p>"
   ]
  },
  {
   "cell_type": "markdown",
   "id": "b22f2841",
   "metadata": {
    "jp-MarkdownHeadingCollapsed": true,
    "tags": []
   },
   "source": [
    "<h4 style='direction:rtl;text-align:right;font-size:18px;font-family:samim;'>جواب</h4>"
   ]
  },
  {
   "cell_type": "code",
   "execution_count": 20,
   "id": "869aed75",
   "metadata": {},
   "outputs": [
    {
     "name": "stdout",
     "output_type": "stream",
     "text": [
      "['A', 'B', 'C', 'D', 'F', 'A']\n"
     ]
    }
   ],
   "source": [
    "#روش اول به صورت ساده \n",
    "scores = [92, 85, 70, 67, 45, 98]\n",
    "new_scores = []\n",
    "\n",
    "for score in scores:\n",
    "    if score >= 90:\n",
    "        new_scores.append(\"A\")\n",
    "    elif score >= 80:\n",
    "        new_scores.append(\"B\")\n",
    "    elif score >= 70:   \n",
    "        new_scores.append(\"C\")\n",
    "    elif score >= 60:\n",
    "        new_scores.append(\"D\")\n",
    "    else:\n",
    "        new_scores.append(\"F\")\n",
    "print(new_scores)        "
   ]
  },
  {
   "cell_type": "code",
   "execution_count": 17,
   "id": "261cd91d",
   "metadata": {},
   "outputs": [
    {
     "name": "stdout",
     "output_type": "stream",
     "text": [
      "['A', 'B', 'C', 'D', 'F', 'A']\n"
     ]
    }
   ],
   "source": [
    "#روش  دوم با دستورات تک خطی\n",
    "\n",
    "scores = [92, 85, 70, 67, 45, 98]\n",
    "\n",
    "grades = ['A' if score >= 90\n",
    "          else 'B' if score >= 80 \n",
    "          else 'C' if score >= 70 \n",
    "          else 'D' if score >= 60 \n",
    "          else 'F' \n",
    "          for score in scores]\n",
    "\n",
    "print(grades)\n"
   ]
  },
  {
   "cell_type": "markdown",
   "id": "bd2df38e",
   "metadata": {},
   "source": [
    "<h2 style='direction:rtl;text-align:right;font-family:samim;'><b>🔸 تمرین ۲۶</b></h2>"
   ]
  },
  {
   "cell_type": "markdown",
   "id": "dfce4acd",
   "metadata": {},
   "source": [
    "<p style='direction:rtl;text-align:right;font-size:18px;font-family:samim;line-height:1.5;'> \n",
    "در لیست زیر اگر عددی زوج است آنرا با کلمه even و اگر فرد است با کلمه odd جا به جا کنید.\n",
    "    <br>\n",
    "   $$numbers = [1,2,3,4,5,6]$$\n",
    "    <br>\n",
    "  $$output= ['odd','even','odd','even','odd','even']$$\n",
    " <br>   \n",
    "**این دستور را به صورت تک خطی بنویسید.**    \n",
    "</p>"
   ]
  },
  {
   "cell_type": "code",
   "execution_count": null,
   "id": "e5586930",
   "metadata": {},
   "outputs": [],
   "source": []
  },
  {
   "cell_type": "markdown",
   "id": "dac96bd6",
   "metadata": {
    "jp-MarkdownHeadingCollapsed": true,
    "tags": []
   },
   "source": [
    "<h4 style='direction:rtl;text-align:right;font-size:18px;font-family:samim;'>راهنمایی</h4>"
   ]
  },
  {
   "cell_type": "markdown",
   "id": "d3a57d00",
   "metadata": {},
   "source": [
    "<p style='direction:rtl;text-align:right;font-size:16px;font-family:samim;'>\n",
    "هر بار یک عدد از لیست را برداشته و آنرا از لحاظ زوج یا فرد بودن چک کنید و یک لیست جدید تولید کنید.\n",
    "</p>"
   ]
  },
  {
   "cell_type": "markdown",
   "id": "6082b14a",
   "metadata": {
    "jp-MarkdownHeadingCollapsed": true,
    "tags": []
   },
   "source": [
    "<h4 style='direction:rtl;text-align:right;font-size:18px;font-family:samim;'>جواب</h4>"
   ]
  },
  {
   "cell_type": "code",
   "execution_count": 28,
   "id": "45077cfb",
   "metadata": {},
   "outputs": [
    {
     "name": "stdout",
     "output_type": "stream",
     "text": [
      "['odd', 'even', 'odd', 'even', 'odd', 'even']\n"
     ]
    }
   ],
   "source": [
    "numbers = [1, 2, 3, 4, 5, 6]\n",
    "\n",
    "output = ['even' if x % 2 == 0 else 'odd' for x in numbers]\n",
    "\n",
    "print(output)\n"
   ]
  },
  {
   "cell_type": "markdown",
   "id": "f65e3b1e",
   "metadata": {},
   "source": [
    "<h2 style='direction:rtl;text-align:right;font-family:samim;'><b>🔸 تمرین ۲۷</b></h2>"
   ]
  },
  {
   "cell_type": "markdown",
   "id": "3b7c8a70",
   "metadata": {},
   "source": [
    "<p style='direction:rtl;text-align:right;font-size:18px;font-family:samim;line-height:1.5;'> \n",
    "با توجه به لیست زیر، لیستی از مربع اعداد را فقط برای اعداد زوج ایجاد کنید، بدون توجه به اعداد فرد.\n",
    "    <br>\n",
    "    $$nums = [1, 2, 3, 4, 5, 6, 7, 8, 9, 10]$$\n",
    "</p>"
   ]
  },
  {
   "cell_type": "code",
   "execution_count": null,
   "id": "007713c5",
   "metadata": {},
   "outputs": [],
   "source": []
  },
  {
   "cell_type": "markdown",
   "id": "1116fef5",
   "metadata": {
    "jp-MarkdownHeadingCollapsed": true,
    "tags": []
   },
   "source": [
    "<h4 style='direction:rtl;text-align:right;font-size:18px;font-family:samim;'>راهنمایی</h4>"
   ]
  },
  {
   "cell_type": "markdown",
   "id": "10b75551",
   "metadata": {},
   "source": [
    "<p style='direction:rtl;text-align:right;font-size:16px;font-family:samim;'>\n",
    "برای هر عدد از لیست چک کنید زوج است یا فرد. اگر زوج بود، مربع آنرا تولید کنید و در یک لیست ذخیره کنید. این برنامه را با حلقه تک خطی نیز می‌توانید براحتی بنویسید.\n",
    "</p>"
   ]
  },
  {
   "cell_type": "markdown",
   "id": "e419402a",
   "metadata": {
    "jp-MarkdownHeadingCollapsed": true,
    "tags": []
   },
   "source": [
    "<h4 style='direction:rtl;text-align:right;font-size:18px;font-family:samim;'>جواب</h4>"
   ]
  },
  {
   "cell_type": "code",
   "execution_count": 29,
   "id": "d72035bb",
   "metadata": {},
   "outputs": [
    {
     "name": "stdout",
     "output_type": "stream",
     "text": [
      "[4, 16, 36, 64, 100]\n"
     ]
    }
   ],
   "source": [
    "nums = [1, 2, 3, 4, 5, 6, 7, 8, 9, 10]\n",
    "\n",
    "squares_of_evens = [x**2 for x in nums if x % 2 == 0]\n",
    "\n",
    "print(squares_of_evens)\n"
   ]
  },
  {
   "cell_type": "markdown",
   "id": "5b12388e",
   "metadata": {},
   "source": [
    "<h2 style='direction:rtl;text-align:right;font-family:samim;'><b>🔸 تمرین ۲۸</b></h2>"
   ]
  },
  {
   "cell_type": "markdown",
   "id": "48be9aa5",
   "metadata": {},
   "source": [
    "<p style='direction:rtl;text-align:right;font-size:18px;font-family:samim;line-height:1.5;'> \n",
    "برنامه‌ای بنویسید که با استفاده از یک حلقه while که از ۱۰ به ۰ شمارش معکوس می کند و هر عدد را چاپ می‌کند.\n",
    "\n",
    "</p>"
   ]
  },
  {
   "cell_type": "code",
   "execution_count": null,
   "id": "790afb39",
   "metadata": {},
   "outputs": [],
   "source": []
  },
  {
   "cell_type": "markdown",
   "id": "2002d770",
   "metadata": {
    "jp-MarkdownHeadingCollapsed": true,
    "tags": []
   },
   "source": [
    "<h4 style='direction:rtl;text-align:right;font-size:18px;font-family:samim;'>راهنمایی</h4>"
   ]
  },
  {
   "cell_type": "markdown",
   "id": "3d1db06e",
   "metadata": {},
   "source": [
    "<p style='direction:rtl;text-align:right;font-size:16px;font-family:samim;'>\n",
    "یک متغیر اولیه مناسب تعیین کنید. هر بار باید از آن یک شماره کم شود بنابراین شرط while  را تعیین کنید.\n",
    "</p>"
   ]
  },
  {
   "cell_type": "markdown",
   "id": "2f886b68",
   "metadata": {
    "jp-MarkdownHeadingCollapsed": true,
    "tags": []
   },
   "source": [
    "<h4 style='direction:rtl;text-align:right;font-size:18px;font-family:samim;'>جواب</h4>"
   ]
  },
  {
   "cell_type": "code",
   "execution_count": 30,
   "id": "33a09b40",
   "metadata": {},
   "outputs": [
    {
     "name": "stdout",
     "output_type": "stream",
     "text": [
      "10\n",
      "9\n",
      "8\n",
      "7\n",
      "6\n",
      "5\n",
      "4\n",
      "3\n",
      "2\n",
      "1\n",
      "0\n"
     ]
    }
   ],
   "source": [
    "count = 10\n",
    "\n",
    "while count >= 0:\n",
    "    print(count)\n",
    "    count -= 1\n"
   ]
  },
  {
   "cell_type": "markdown",
   "id": "1fee48e3",
   "metadata": {
    "jp-MarkdownHeadingCollapsed": true,
    "tags": []
   },
   "source": [
    "<h2 style='direction:rtl;text-align:right;font-family:samim;'><b>🔸 تمرین ۲۹</b></h2>"
   ]
  },
  {
   "cell_type": "markdown",
   "id": "5e0fe149",
   "metadata": {},
   "source": [
    "<p style='direction:rtl;text-align:right;font-size:18px;font-family:samim;line-height:1.5;'> \n",
    "یک بازی ساده \" عدد درست را حدس بزن\" ایجاد کنید که در آن کاربر باید یک عدد از پیش تعیین‌شده بین 1 تا 10 را حدس بزند. از حلقه while استفاده کنید. اگر عدد حدس زده بزرگتر از هدف بود، چاپ کند بزرگ است و اگر کوچکتر بود چاپ کند کوچک است و به این طریق کاربر را در پیدا کردن عدد درست یاری دهد.\n",
    "    <br>\n",
    "<p style='direction:rtl;text-align:right;font-size:18px;font-family:samim;line-height:1.5;'>     \n",
    "    **راهنمایی: برای گرفتن عدد از کاربر از دستور زیر استفاده کنید. در درس‌های بعدی راجع به این دستور توضیح خواهیم داد.**\n",
    "    <br>\n",
    "<p style='direction:ltr;text-align:left;font-size:18px;font-family:samim;line-height:1.5;'>     \n",
    "    while  guess != target:\n",
    "    <br>\n",
    "            guess = int(input(\"Guess the number between 1 and 10:\"))\n",
    "</p>"
   ]
  },
  {
   "cell_type": "code",
   "execution_count": null,
   "id": "f288481d",
   "metadata": {},
   "outputs": [],
   "source": []
  },
  {
   "cell_type": "markdown",
   "id": "fd586b0b",
   "metadata": {},
   "source": [
    "<h4 style='direction:rtl;text-align:right;font-size:18px;font-family:samim;'>راهنمایی</h4>"
   ]
  },
  {
   "cell_type": "markdown",
   "id": "ebf32abc",
   "metadata": {},
   "source": [
    "<p style='direction:rtl;text-align:right;font-size:16px;font-family:samim;'>\n",
    "یک فلگ بولین مناسب برای while تعریف کنید.\n",
    "    هر بار یک عدد را گرفته و شرط را بررسی کنید، اگر شرط برقرار شد با دستور break از حلقه خارج شوید. در غیر اینصورت ادامه پیدا کند.\n",
    "</p>"
   ]
  },
  {
   "cell_type": "markdown",
   "id": "56f22131",
   "metadata": {},
   "source": [
    "<h4 style='direction:rtl;text-align:right;font-size:18px;font-family:samim;'>جواب</h4>"
   ]
  },
  {
   "cell_type": "code",
   "execution_count": 31,
   "id": "31ec36d8",
   "metadata": {},
   "outputs": [
    {
     "name": "stdout",
     "output_type": "stream",
     "text": [
      "Guess a number between 1 and 10: ۸\n",
      "Too low!\n",
      "Guess a number between 1 and 10: ۱۱\n",
      "Too high!\n",
      "Guess a number between 1 and 10: ۷\n",
      "Too low!\n",
      "Guess a number between 1 and 10: ۱۰\n",
      "Too high!\n",
      "Guess a number between 1 and 10: ۹\n",
      "Correct!\n"
     ]
    }
   ],
   "source": [
    "target_number = 9\n",
    "\n",
    "while True:\n",
    "    guess = int(input(\"Guess a number between 1 and 10: \"))\n",
    "    if guess > target_number:\n",
    "        print(\"Too high!\")\n",
    "    elif guess < target_number:\n",
    "        print(\"Too low!\")\n",
    "    else:\n",
    "        print(\"Correct!\")\n",
    "        break\n"
   ]
  },
  {
   "cell_type": "markdown",
   "id": "ca996df7",
   "metadata": {},
   "source": [
    "<h2 style='direction:rtl;text-align:right;font-family:samim;'><b>🔸 تمرین ۳۰</b></h2>"
   ]
  },
  {
   "cell_type": "markdown",
   "id": "6df7f5f6",
   "metadata": {},
   "source": [
    "<p style='direction:rtl;text-align:right;font-size:18px;font-family:samim;line-height:1.5;'> \n",
    "برنامه‌ای بنویسید که بزرگترین عدد توانی از دو را که کمتر یا مساوی عدد ۱۰۰ است، پیدا کرده و چاپ کند.\n",
    "<p style='direction:rtl;text-align:right;font-size:16px;font-family:samim;line-height:1.5;'>     \n",
    "    توانی از دو یعنی آن عدد را بتوانیم با پایه ۲ بنویسیم.\n",
    "    ** مثلا ۸ توانی از ۲ است.  ۲ به توان ۳**\n",
    "</p>"
   ]
  },
  {
   "cell_type": "code",
   "execution_count": null,
   "id": "f60c54e2",
   "metadata": {},
   "outputs": [],
   "source": []
  },
  {
   "cell_type": "markdown",
   "id": "68a9c850",
   "metadata": {
    "jp-MarkdownHeadingCollapsed": true,
    "tags": []
   },
   "source": [
    "<h4 style='direction:rtl;text-align:right;font-size:18px;font-family:samim;'>راهنمایی</h4>"
   ]
  },
  {
   "cell_type": "markdown",
   "id": "f8175f17",
   "metadata": {},
   "source": [
    "<p style='direction:rtl;text-align:right;font-size:16px;font-family:samim;'>\n",
    "یک متغیر اولیه با مقدار مناسب تعریف کنید. هر بار آن را در ۲ ضرب کنید و چک کنید که آیا شرط بر قرار است یا نه.\n",
    "</p>"
   ]
  },
  {
   "cell_type": "markdown",
   "id": "1a2e3f88",
   "metadata": {
    "jp-MarkdownHeadingCollapsed": true,
    "tags": []
   },
   "source": [
    "<h4 style='direction:rtl;text-align:right;font-size:18px;font-family:samim;'>جواب</h4>"
   ]
  },
  {
   "cell_type": "code",
   "execution_count": 14,
   "id": "71308465",
   "metadata": {},
   "outputs": [
    {
     "name": "stdout",
     "output_type": "stream",
     "text": [
      "64\n"
     ]
    }
   ],
   "source": [
    "n = 100\n",
    "power = 1\n",
    "\n",
    "while power * 2 <= 100:\n",
    "    power *= 2\n",
    "    \n",
    "print(power)  # Should output 64"
   ]
  },
  {
   "cell_type": "markdown",
   "id": "315a53bf",
   "metadata": {},
   "source": [
    "<h2 style='direction:rtl;text-align:right;font-family:samim;'><b>🔸 تمرین ۳۱</b></h2>"
   ]
  },
  {
   "cell_type": "markdown",
   "id": "1bf237ee",
   "metadata": {},
   "source": [
    "<p style='direction:rtl;text-align:right;font-size:18px;font-family:samim;line-height:1.5;'> \n",
    "اعداد لیست زیر بغیر آن‌هایی که منفی هستند را چاپ کنید.\n",
    "    <br>\n",
    "    <br>\n",
    "    $$numbers = [3,-1,2,-7,5,8]$$\n",
    "    <br>\n",
    "     \n",
    "</p>"
   ]
  },
  {
   "cell_type": "code",
   "execution_count": null,
   "id": "7b4d118c",
   "metadata": {},
   "outputs": [],
   "source": []
  },
  {
   "cell_type": "markdown",
   "id": "b6854134",
   "metadata": {
    "jp-MarkdownHeadingCollapsed": true,
    "tags": []
   },
   "source": [
    "<h4 style='direction:rtl;text-align:right;font-size:18px;font-family:samim;'>راهنمایی</h4>"
   ]
  },
  {
   "cell_type": "markdown",
   "id": "381ff3ab",
   "metadata": {},
   "source": [
    "<p style='direction:rtl;text-align:right;font-size:16px;font-family:samim;'>\n",
    "برای هر عنصر از لیست زیر بررسی کنید که عددی مثبت است یا منفی. اگر منفی بود آن عنصر را چاپ نکند و سراغ بررسی کلمه بعدی برود. پس نیاز به استفاده از دستور continue دارید.\n",
    "</p>"
   ]
  },
  {
   "cell_type": "markdown",
   "id": "c9cb3fd9",
   "metadata": {
    "jp-MarkdownHeadingCollapsed": true,
    "tags": []
   },
   "source": [
    "<h4 style='direction:rtl;text-align:right;font-size:18px;font-family:samim;'>جواب</h4>"
   ]
  },
  {
   "cell_type": "code",
   "execution_count": 33,
   "id": "c9862a45",
   "metadata": {},
   "outputs": [
    {
     "name": "stdout",
     "output_type": "stream",
     "text": [
      "3\n",
      "2\n",
      "5\n",
      "8\n"
     ]
    }
   ],
   "source": [
    "numbers = [3, -1, 2, -7, 5, 8]\n",
    "\n",
    "for number in numbers:\n",
    "    if number < 0:\n",
    "        continue\n",
    "    print(number)\n"
   ]
  },
  {
   "cell_type": "markdown",
   "id": "cabed55a",
   "metadata": {},
   "source": [
    "<h2 style='direction:rtl;text-align:right;font-family:samim;'><b>🔸 تمرین ۳۲</b></h2>"
   ]
  },
  {
   "cell_type": "markdown",
   "id": "855e209b",
   "metadata": {},
   "source": [
    "<p style='direction:rtl;text-align:right;font-size:18px;font-family:samim;line-height:1.5;'> \n",
    "اولین مصوت در رشته زیر را پیدا کنید:\n",
    "    <br>\n",
    "    <br>\n",
    "    $$s = \"hello  world\"$$\n",
    "</p>"
   ]
  },
  {
   "cell_type": "code",
   "execution_count": null,
   "id": "00888657",
   "metadata": {},
   "outputs": [],
   "source": []
  },
  {
   "cell_type": "markdown",
   "id": "0e425978",
   "metadata": {
    "jp-MarkdownHeadingCollapsed": true,
    "tags": []
   },
   "source": [
    "<h4 style='direction:rtl;text-align:right;font-size:18px;font-family:samim;'>راهنمایی</h4>"
   ]
  },
  {
   "cell_type": "markdown",
   "id": "f26cf09b",
   "metadata": {},
   "source": [
    "<p style='direction:rtl;text-align:right;font-size:16px;font-family:samim;'>\n",
    "    ابتدا رشته مورد نظر و لیستی از حروف صدادار را تعریف کنید.\n",
    "از یک حلقه برای پیمایش بر تمامی حروف این رشته استفاده کنید. اولین حرف مصوتی که پیدا شد، از حلقه خارج شوید.\n",
    "</p>"
   ]
  },
  {
   "cell_type": "markdown",
   "id": "7d3e7fb3",
   "metadata": {
    "jp-MarkdownHeadingCollapsed": true,
    "tags": []
   },
   "source": [
    "<h4 style='direction:rtl;text-align:right;font-size:18px;font-family:samim;'>جواب</h4>"
   ]
  },
  {
   "cell_type": "code",
   "execution_count": 34,
   "id": "dba88f01",
   "metadata": {},
   "outputs": [
    {
     "name": "stdout",
     "output_type": "stream",
     "text": [
      "e\n"
     ]
    }
   ],
   "source": [
    "s = \"hello world\"\n",
    "vowels = ['a','e','i','o','u']\n",
    "for char in s:\n",
    "    if char in vowels:\n",
    "        print(char)\n",
    "        break\n"
   ]
  },
  {
   "cell_type": "markdown",
   "id": "131839ec",
   "metadata": {},
   "source": [
    "<h2 style='direction:rtl;text-align:right;font-family:samim;'><b>🔸 تمرین ۳۳</b></h2>"
   ]
  },
  {
   "cell_type": "markdown",
   "id": "e41b1e5a",
   "metadata": {},
   "source": [
    "<p style='direction:rtl;text-align:right;font-size:18px;font-family:samim;line-height:1.5;'> \n",
    "یک حلقه ایجاد کنید که اعداد را از لیست زیر تا زمانی که مجموع آن به 100 برسد جمع کند، سپس شکسته شود.\n",
    "    <br>\n",
    "    <br>\n",
    "    $$numbers = [15,23,34,45,12,25]$$\n",
    "</p>"
   ]
  },
  {
   "cell_type": "code",
   "execution_count": null,
   "id": "1bb24d6a",
   "metadata": {},
   "outputs": [],
   "source": []
  },
  {
   "cell_type": "markdown",
   "id": "b5453e4d",
   "metadata": {
    "jp-MarkdownHeadingCollapsed": true,
    "tags": []
   },
   "source": [
    "<h4 style='direction:rtl;text-align:right;font-size:18px;font-family:samim;'>راهنمایی</h4>"
   ]
  },
  {
   "cell_type": "markdown",
   "id": "791aa440",
   "metadata": {},
   "source": [
    "<p style='direction:rtl;text-align:right;font-size:16px;font-family:samim;'>\n",
    "ابتدا لیست و یک متغیر اولیه برای حاصل جمع تعریف کنید.\n",
    "    سپس از حلقه برای  انتخاب هر المان از لیست و اضافه کردن آن به متغیر اولیه جمع استفاده کنید. و سپس شرط را بررسی کنید.\n",
    "</p>"
   ]
  },
  {
   "cell_type": "markdown",
   "id": "0509c4ba",
   "metadata": {
    "jp-MarkdownHeadingCollapsed": true,
    "tags": []
   },
   "source": [
    "<h4 style='direction:rtl;text-align:right;font-size:18px;font-family:samim;'>جواب</h4>"
   ]
  },
  {
   "cell_type": "code",
   "execution_count": 35,
   "id": "7adcc4ad",
   "metadata": {},
   "outputs": [
    {
     "name": "stdout",
     "output_type": "stream",
     "text": [
      "72\n"
     ]
    }
   ],
   "source": [
    "numbers = [15, 23, 34, 45, 12, 25]\n",
    "total = 0\n",
    "\n",
    "for number in numbers:\n",
    "    if total + number > 100:\n",
    "        print(total)\n",
    "        break\n",
    "    total += number\n"
   ]
  },
  {
   "cell_type": "markdown",
   "id": "e852da80",
   "metadata": {},
   "source": [
    "<h2 style='direction:rtl;text-align:right;font-family:samim;'><b>🔸 تمرین ۳۴*</b></h2>"
   ]
  },
  {
   "cell_type": "markdown",
   "id": "fe2c2c8c",
   "metadata": {},
   "source": [
    "<p style='direction:rtl;text-align:right;font-size:18px;font-family:samim;line-height:1.5;'> \n",
    "\tلیست زیر را در نظر بگیرید. هر کلمه را چک کنید اگر کلمه \"stop\" بود، آن را با \"go\" جایگزین کنید. اگر \"‌stop\" پس از یک تکرار کامل یافت نشد، بنویسید که این کلمه پیدا نشد. \n",
    "    <br>\n",
    "    <br>\n",
    "    $$ words = ['start','go','continue','halt','go'] $$\n",
    "</p>"
   ]
  },
  {
   "cell_type": "code",
   "execution_count": null,
   "id": "53f63609",
   "metadata": {},
   "outputs": [],
   "source": []
  },
  {
   "cell_type": "markdown",
   "id": "0dcc111a",
   "metadata": {
    "jp-MarkdownHeadingCollapsed": true,
    "tags": []
   },
   "source": [
    "<h4 style='direction:rtl;text-align:right;font-size:18px;font-family:samim;'>راهنمایی</h4>"
   ]
  },
  {
   "cell_type": "markdown",
   "id": "5dd133c2",
   "metadata": {},
   "source": [
    "<p style='direction:rtl;text-align:right;font-size:16px;font-family:samim;'>\n",
    "یک متغیر بولین تحت عنوان فلگ تعریف کنید. این فلگ به ما  کمک می‌کند تا تشخیص دهیم آیا کلمه \"stop\" در حین اجرای حلقه روی لیست پیدا شده است یا خیر.\n",
    " اگر کلمه مورد نظر \"stop\" باشد، آن را با \"go\" جایگزین می‌کنیم و پرچم found_stop را True قرار می‌دهیم.\n",
    " اگر پس از پایان حلقه کلمه \"stop\" پیدا نشده باشد، پیغامی چاپ می‌کنیم که \"کلمه 'stop' در لیست یافت نشد.\"\n",
    "</p>"
   ]
  },
  {
   "cell_type": "markdown",
   "id": "7422c294",
   "metadata": {
    "jp-MarkdownHeadingCollapsed": true,
    "tags": []
   },
   "source": [
    "<h4 style='direction:rtl;text-align:right;font-size:18px;font-family:samim;'>جواب</h4>"
   ]
  },
  {
   "cell_type": "code",
   "execution_count": 36,
   "id": "848e7539",
   "metadata": {},
   "outputs": [
    {
     "name": "stdout",
     "output_type": "stream",
     "text": [
      "No 'stop' found to replace\n",
      "['start', 'go', 'continue', 'halt', 'go']\n"
     ]
    }
   ],
   "source": [
    "words = ['start', 'go', 'continue', 'halt', 'go']\n",
    "found_stop = False\n",
    "index = 0\n",
    "\n",
    "for word in words:\n",
    "    if word == \"stop\":\n",
    "        words[index] = \"go\"\n",
    "        found_stop = True\n",
    "    index += 1\n",
    "\n",
    "if not found_stop:\n",
    "    print(\"No 'stop' found to replace\")\n",
    "\n",
    "print(words)\n"
   ]
  },
  {
   "cell_type": "markdown",
   "id": "c060530f",
   "metadata": {},
   "source": [
    "<h2 style='direction:rtl;text-align:right;font-family:samim;'><b>🔸 تمرین ۳۵*</b></h2>"
   ]
  },
  {
   "cell_type": "markdown",
   "id": "92d6143c",
   "metadata": {},
   "source": [
    "<p style='direction:rtl;text-align:right;font-size:18px;font-family:samim;line-height:1.5;'> \n",
    "کدی بنویسید که به روش نیوتن، ریشه دوم یک عدد را محاسبه کند. الگوریتم نیوتن به شکل زیر است:\n",
    "    <br>\n",
    "    برنامه زمانی متوقف شود که اختلاف توان دوم guess کمتر از 10 به توان 12- باشد.\n",
    "**برای شکستن حلقه از break استفاده کنید.**\n",
    "\n",
    "\n",
    "</p>"
   ]
  },
  {
   "attachments": {
    "image.png": {
     "image/png": "[encoded data removed]"
    }
   },
   "cell_type": "markdown",
   "id": "6d75c693",
   "metadata": {},
   "source": [
    "![image.png](attachment:image.png)"
   ]
  },
  {
   "cell_type": "code",
   "execution_count": null,
   "id": "68f1ea35",
   "metadata": {},
   "outputs": [],
   "source": []
  },
  {
   "cell_type": "markdown",
   "id": "90ba1b32",
   "metadata": {
    "jp-MarkdownHeadingCollapsed": true,
    "tags": []
   },
   "source": [
    "<h4 style='direction:rtl;text-align:right;font-size:18px;font-family:samim;'>راهنمایی</h4>"
   ]
  },
  {
   "cell_type": "markdown",
   "id": "cf1d6512",
   "metadata": {},
   "source": [
    "<p style='direction:rtl;text-align:right;font-size:16px;font-family:samim;'>\n",
    "ابتدا یک متغیر با مقدار دلخواه تعریف کنید. سپس نصف آن عدد را به عنوان حدس اولیه تعریف کنید.\n",
    "    سپس با تعریف while مقدار حدس را هر بار آپدیت کنید.\n",
    "    و اگر شرط اختلاف توان دوم برقرار شد از حلقه خارج شوید در غیر اینصورت تا رسیدن به جواب درست ادامه دهید.\n",
    "</p>"
   ]
  },
  {
   "cell_type": "markdown",
   "id": "bd61f82d",
   "metadata": {
    "jp-MarkdownHeadingCollapsed": true,
    "tags": []
   },
   "source": [
    "<h4 style='direction:rtl;text-align:right;font-size:18px;font-family:samim;'>جواب</h4>"
   ]
  },
  {
   "cell_type": "code",
   "execution_count": 37,
   "id": "b447ad0a",
   "metadata": {},
   "outputs": [
    {
     "name": "stdout",
     "output_type": "stream",
     "text": [
      "The square root of 3 is approximately 1.7320508075688772\n"
     ]
    }
   ],
   "source": [
    "x = 3\n",
    "guess = x / 2\n",
    "\n",
    "while True:\n",
    "    new_guess = (guess + x / guess) / 2\n",
    "    if guess**2 - x < 1e-12 and guess**2 - x > -1e-12:\n",
    "        break\n",
    "    guess = new_guess\n",
    "\n",
    "print(\"The square root of\", x, \"is approximately\", guess)\n"
   ]
  }
 ],
 "metadata": {
  "kernelspec": {
   "display_name": "Python 3 (ipykernel)",
   "language": "python",
   "name": "python3"
  },
  "language_info": {
   "codemirror_mode": {
    "name": "ipython",
    "version": 3
   },
   "file_extension": ".py",
   "mimetype": "text/x-python",
   "name": "python",
   "nbconvert_exporter": "python",
   "pygments_lexer": "ipython3",
   "version": "3.9.12"
  }
 },
 "nbformat": 4,
 "nbformat_minor": 5
}
