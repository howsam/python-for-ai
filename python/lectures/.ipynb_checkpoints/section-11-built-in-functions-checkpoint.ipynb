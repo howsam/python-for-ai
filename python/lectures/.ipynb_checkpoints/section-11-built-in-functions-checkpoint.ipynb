{
 "cells": [
  {
   "cell_type": "markdown",
   "id": "ac09f41c-f1e6-405f-98a7-1093a39aa89a",
   "metadata": {
    "id": "ltDaErzDg3Hp",
    "tags": []
   },
   "source": [
    "# <font color='#FFE15D'>**Section 11: Built-in Functions** 🛠️</font>"
   ]
  },
  {
   "cell_type": "markdown",
   "id": "72872fc5-7633-4283-8569-b80d957dd6bb",
   "metadata": {
    "id": "duFit9Ksg7VN"
   },
   "source": [
    "<img src=\"../images/parcel.png\" alt=\"string indexing\" width=200 align=\"center\" />"
   ]
  },
  {
   "cell_type": "markdown",
   "id": "4a53f84e-1a17-4df5-b92e-d2469fdbe0d5",
   "metadata": {
    "id": "duFit9Ksg7VN",
    "jp-MarkdownHeadingCollapsed": true,
    "tags": []
   },
   "source": [
    "### Python 3.9 Built-in Functions: {[python.org](https://docs.python.org/3.9/library/functions.html) & [w3schools.com](https://www.w3schools.com/python/python_ref_functions.asp)}"
   ]
  },
  {
   "cell_type": "markdown",
   "id": "e8002d3d-94e7-493d-b584-5a4362570f79",
   "metadata": {
    "id": "duFit9Ksg7VN",
    "jp-MarkdownHeadingCollapsed": true,
    "tags": []
   },
   "source": [
    "### `help()`"
   ]
  },
  {
   "cell_type": "code",
   "execution_count": 5,
   "id": "32807ff8-8ce3-4ea8-8caf-f5289bb6ba39",
   "metadata": {},
   "outputs": [
    {
     "name": "stdout",
     "output_type": "stream",
     "text": [
      "Help on class range in module builtins:\n",
      "\n",
      "class range(object)\n",
      " |  range(stop) -> range object\n",
      " |  range(start, stop[, step]) -> range object\n",
      " |  \n",
      " |  Return an object that produces a sequence of integers from start (inclusive)\n",
      " |  to stop (exclusive) by step.  range(i, j) produces i, i+1, i+2, ..., j-1.\n",
      " |  start defaults to 0, and stop is omitted!  range(4) produces 0, 1, 2, 3.\n",
      " |  These are exactly the valid indices for a list of 4 elements.\n",
      " |  When step is given, it specifies the increment (or decrement).\n",
      " |  \n",
      " |  Methods defined here:\n",
      " |  \n",
      " |  __bool__(self, /)\n",
      " |      True if self else False\n",
      " |  \n",
      " |  __contains__(self, key, /)\n",
      " |      Return key in self.\n",
      " |  \n",
      " |  __eq__(self, value, /)\n",
      " |      Return self==value.\n",
      " |  \n",
      " |  __ge__(self, value, /)\n",
      " |      Return self>=value.\n",
      " |  \n",
      " |  __getattribute__(self, name, /)\n",
      " |      Return getattr(self, name).\n",
      " |  \n",
      " |  __getitem__(self, key, /)\n",
      " |      Return self[key].\n",
      " |  \n",
      " |  __gt__(self, value, /)\n",
      " |      Return self>value.\n",
      " |  \n",
      " |  __hash__(self, /)\n",
      " |      Return hash(self).\n",
      " |  \n",
      " |  __iter__(self, /)\n",
      " |      Implement iter(self).\n",
      " |  \n",
      " |  __le__(self, value, /)\n",
      " |      Return self<=value.\n",
      " |  \n",
      " |  __len__(self, /)\n",
      " |      Return len(self).\n",
      " |  \n",
      " |  __lt__(self, value, /)\n",
      " |      Return self<value.\n",
      " |  \n",
      " |  __ne__(self, value, /)\n",
      " |      Return self!=value.\n",
      " |  \n",
      " |  __reduce__(...)\n",
      " |      Helper for pickle.\n",
      " |  \n",
      " |  __repr__(self, /)\n",
      " |      Return repr(self).\n",
      " |  \n",
      " |  __reversed__(...)\n",
      " |      Return a reverse iterator.\n",
      " |  \n",
      " |  count(...)\n",
      " |      rangeobject.count(value) -> integer -- return number of occurrences of value\n",
      " |  \n",
      " |  index(...)\n",
      " |      rangeobject.index(value) -> integer -- return index of value.\n",
      " |      Raise ValueError if the value is not present.\n",
      " |  \n",
      " |  ----------------------------------------------------------------------\n",
      " |  Static methods defined here:\n",
      " |  \n",
      " |  __new__(*args, **kwargs) from builtins.type\n",
      " |      Create and return a new object.  See help(type) for accurate signature.\n",
      " |  \n",
      " |  ----------------------------------------------------------------------\n",
      " |  Data descriptors defined here:\n",
      " |  \n",
      " |  start\n",
      " |  \n",
      " |  step\n",
      " |  \n",
      " |  stop\n",
      "\n"
     ]
    }
   ],
   "source": [
    "help(range)"
   ]
  },
  {
   "cell_type": "markdown",
   "id": "ae4bfa82-bf2f-4f4a-a192-584d3e37a92c",
   "metadata": {
    "jp-MarkdownHeadingCollapsed": true,
    "tags": []
   },
   "source": [
    "## 🔸 **Math functions**"
   ]
  },
  {
   "cell_type": "code",
   "execution_count": 6,
   "id": "2927111b-5975-4fe8-9d38-f035700c5bc7",
   "metadata": {},
   "outputs": [],
   "source": [
    "a = (-1, 2, -3, 4, 5)\n",
    "b = [-1, 2, -3, 4, 5]"
   ]
  },
  {
   "cell_type": "markdown",
   "id": "8a7156a1-4fda-4e40-abdf-3ac3b1780b50",
   "metadata": {
    "jp-MarkdownHeadingCollapsed": true,
    "tags": []
   },
   "source": [
    "### `len()`"
   ]
  },
  {
   "cell_type": "code",
   "execution_count": 7,
   "id": "acc34de3-0bc8-41c8-b8ae-592d153794cd",
   "metadata": {},
   "outputs": [
    {
     "data": {
      "text/plain": [
       "(5, 5)"
      ]
     },
     "execution_count": 7,
     "metadata": {},
     "output_type": "execute_result"
    }
   ],
   "source": [
    "len(a), len(b)"
   ]
  },
  {
   "cell_type": "markdown",
   "id": "1741e6bf-d13a-401a-b397-652cf4fa70b0",
   "metadata": {
    "jp-MarkdownHeadingCollapsed": true,
    "tags": []
   },
   "source": [
    "### `sum()`"
   ]
  },
  {
   "cell_type": "code",
   "execution_count": 12,
   "id": "45fb5a4f-f71b-4b39-9b9a-558cd7bef110",
   "metadata": {},
   "outputs": [
    {
     "name": "stdout",
     "output_type": "stream",
     "text": [
      "Help on built-in function sum in module builtins:\n",
      "\n",
      "sum(iterable, /, start=0)\n",
      "    Return the sum of a 'start' value (default: 0) plus an iterable of numbers\n",
      "    \n",
      "    When the iterable is empty, return the start value.\n",
      "    This function is intended specifically for use with numeric values and may\n",
      "    reject non-numeric types.\n",
      "\n"
     ]
    },
    {
     "data": {
      "text/plain": [
       "5"
      ]
     },
     "execution_count": 12,
     "metadata": {},
     "output_type": "execute_result"
    }
   ],
   "source": [
    "help(sum)\n",
    "\n",
    "sum(a), sum(b)\n",
    "sum(a, -2)"
   ]
  },
  {
   "cell_type": "markdown",
   "id": "ba119fca-8670-40a2-b5e5-e3611ca9771b",
   "metadata": {
    "jp-MarkdownHeadingCollapsed": true,
    "tags": []
   },
   "source": [
    "### `sorted()`"
   ]
  },
  {
   "cell_type": "code",
   "execution_count": 19,
   "id": "20cc56fd-416f-4d58-8e39-72e771d870b9",
   "metadata": {},
   "outputs": [
    {
     "name": "stdout",
     "output_type": "stream",
     "text": [
      "Help on built-in function sorted in module builtins:\n",
      "\n",
      "sorted(iterable, /, *, key=None, reverse=False)\n",
      "    Return a new list containing all items from the iterable in ascending order.\n",
      "    \n",
      "    A custom key function can be supplied to customize the sort order, and the\n",
      "    reverse flag can be set to request the result in descending order.\n",
      "\n"
     ]
    },
    {
     "data": {
      "text/plain": [
       "([-3, -1, 2, 4, 5], [5, 4, 2, -1, -3])"
      ]
     },
     "execution_count": 19,
     "metadata": {},
     "output_type": "execute_result"
    }
   ],
   "source": [
    "a, sorted(a)\n",
    "help(sorted)\n",
    "\n",
    "sorted(a), sorted(a, reverse=True)"
   ]
  },
  {
   "cell_type": "markdown",
   "id": "7b0f8419-6aea-4504-8af4-9d774fecd3cb",
   "metadata": {
    "jp-MarkdownHeadingCollapsed": true,
    "tags": []
   },
   "source": [
    "### `min()` & `max()`"
   ]
  },
  {
   "cell_type": "code",
   "execution_count": 26,
   "id": "11e9d961-d2e9-4f33-98e6-e0cbf85ec6ee",
   "metadata": {},
   "outputs": [
    {
     "name": "stdout",
     "output_type": "stream",
     "text": [
      "Help on built-in function min in module builtins:\n",
      "\n",
      "min(...)\n",
      "    min(iterable, *[, default=obj, key=func]) -> value\n",
      "    min(arg1, arg2, *args, *[, key=func]) -> value\n",
      "    \n",
      "    With a single iterable argument, return its smallest item. The\n",
      "    default keyword-only argument specifies an object to return if\n",
      "    the provided iterable is empty.\n",
      "    With two or more arguments, return the smallest argument.\n",
      "\n"
     ]
    },
    {
     "data": {
      "text/plain": [
       "(1, 4.5)"
      ]
     },
     "execution_count": 26,
     "metadata": {},
     "output_type": "execute_result"
    }
   ],
   "source": [
    "a, min(a), max(a)\n",
    "\n",
    "help(min)\n",
    "\n",
    "min(1, 2), max(3, 4.5, -1)"
   ]
  },
  {
   "cell_type": "markdown",
   "id": "7203afb7-3b9a-4de2-8469-ede35cceceef",
   "metadata": {
    "jp-MarkdownHeadingCollapsed": true,
    "tags": []
   },
   "source": [
    "### `round(number, digits)`"
   ]
  },
  {
   "cell_type": "code",
   "execution_count": 35,
   "id": "410db427-ee4e-4fbc-af8d-4848e8bc63f5",
   "metadata": {},
   "outputs": [
    {
     "data": {
      "text/plain": [
       "(3, 2.14)"
      ]
     },
     "execution_count": 35,
     "metadata": {},
     "output_type": "execute_result"
    }
   ],
   "source": [
    "round(2.9), round(2.135487454654, 2)"
   ]
  },
  {
   "cell_type": "markdown",
   "id": "710db7c0-157b-4ab6-8342-e17f10397298",
   "metadata": {
    "jp-MarkdownHeadingCollapsed": true,
    "tags": []
   },
   "source": [
    "### `pow(x, y, z)`"
   ]
  },
  {
   "cell_type": "code",
   "execution_count": 38,
   "id": "dbca250e-b3b5-4044-9914-94eea0e66f08",
   "metadata": {},
   "outputs": [
    {
     "data": {
      "text/plain": [
       "0"
      ]
     },
     "execution_count": 38,
     "metadata": {},
     "output_type": "execute_result"
    }
   ],
   "source": [
    "2**3, pow(2, 3)\n",
    "\n",
    "# (x**y) % z\n",
    "pow(2, 3, 4)"
   ]
  },
  {
   "cell_type": "markdown",
   "id": "45f18d67-b5ff-4b9f-bf42-caad76410a0f",
   "metadata": {
    "jp-MarkdownHeadingCollapsed": true,
    "tags": []
   },
   "source": [
    "### `complex(real, imaginary)`"
   ]
  },
  {
   "cell_type": "code",
   "execution_count": 39,
   "id": "1ee0ba7f-b5e3-4885-bfc0-36e3b8bbc2d8",
   "metadata": {},
   "outputs": [
    {
     "data": {
      "text/plain": [
       "(1+2j)"
      ]
     },
     "execution_count": 39,
     "metadata": {},
     "output_type": "execute_result"
    }
   ],
   "source": [
    "complex(1, 2)"
   ]
  },
  {
   "cell_type": "markdown",
   "id": "6ab867f1-2420-456a-9787-6a2ff207b483",
   "metadata": {
    "jp-MarkdownHeadingCollapsed": true,
    "tags": []
   },
   "source": [
    "### `abs()`"
   ]
  },
  {
   "cell_type": "code",
   "execution_count": 41,
   "id": "8b289e59-a1f4-4dd7-9e7c-6fa25536b55e",
   "metadata": {},
   "outputs": [
    {
     "data": {
      "text/plain": [
       "2.5"
      ]
     },
     "execution_count": 41,
     "metadata": {},
     "output_type": "execute_result"
    }
   ],
   "source": [
    "abs(-2.5)"
   ]
  },
  {
   "cell_type": "markdown",
   "id": "230514c2-ce61-46c1-9b17-045202b108a4",
   "metadata": {
    "jp-MarkdownHeadingCollapsed": true,
    "tags": []
   },
   "source": [
    "### `divmod(dividend, divisor)` -> (quotient, remainder)"
   ]
  },
  {
   "cell_type": "markdown",
   "id": "66babcf8-39db-43b3-94c1-1da18aceeac5",
   "metadata": {
    "id": "duFit9Ksg7VN"
   },
   "source": [
    "<img src=\"../images/div-q-r.png\" alt=\"string indexing\" width=250 align=\"center\" />"
   ]
  },
  {
   "cell_type": "code",
   "execution_count": 43,
   "id": "deb611a2-bc65-4f6a-8c2a-5b9ee04a5f32",
   "metadata": {},
   "outputs": [
    {
     "data": {
      "text/plain": [
       "(2, 1)"
      ]
     },
     "execution_count": 43,
     "metadata": {},
     "output_type": "execute_result"
    }
   ],
   "source": [
    "divmod(11, 5)"
   ]
  },
  {
   "cell_type": "markdown",
   "id": "67a1eb76-35a7-4741-adcc-d152969d74ea",
   "metadata": {
    "tags": []
   },
   "source": [
    "## 🔸 **Frequently used functions**"
   ]
  },
  {
   "cell_type": "markdown",
   "id": "b9113860-5c18-429a-8ac1-dd704e9b9142",
   "metadata": {
    "jp-MarkdownHeadingCollapsed": true,
    "tags": []
   },
   "source": [
    "### `range()`"
   ]
  },
  {
   "cell_type": "code",
   "execution_count": 62,
   "id": "89ab245f-f770-4a51-9788-9180f11e0e6a",
   "metadata": {},
   "outputs": [
    {
     "name": "stdout",
     "output_type": "stream",
     "text": [
      "[0, 1, 2, 3, 4, 5, 6, 7, 8, 9]\n",
      "[2, 3, 4, 5, 6, 7, 8, 9]\n",
      "[-2, 0, 2, 4, 6, 8]\n"
     ]
    },
    {
     "data": {
      "text/plain": [
       "[0, 1, 2, 3, 4, 5, 6, 7, 8, 9]"
      ]
     },
     "execution_count": 62,
     "metadata": {},
     "output_type": "execute_result"
    }
   ],
   "source": [
    "print(list(range(10)))\n",
    "print(list(range(2, 10)))\n",
    "print(list(range(-2, 10, 2)))\n",
    "\n",
    "[i for i in range(10)]"
   ]
  },
  {
   "cell_type": "code",
   "execution_count": 69,
   "id": "7ce73da5-6a24-4607-bf4a-a49659187b8d",
   "metadata": {},
   "outputs": [
    {
     "ename": "TypeError",
     "evalue": "list indices must be integers or slices, not range",
     "output_type": "error",
     "traceback": [
      "\u001b[1;31m---------------------------------------------------------------------------\u001b[0m",
      "\u001b[1;31mTypeError\u001b[0m                                 Traceback (most recent call last)",
      "Input \u001b[1;32mIn [69]\u001b[0m, in \u001b[0;36m<cell line: 3>\u001b[1;34m()\u001b[0m\n\u001b[0;32m      1\u001b[0m list1 \u001b[38;5;241m=\u001b[39m [\u001b[38;5;241m1\u001b[39m, \u001b[38;5;241m2\u001b[39m, \u001b[38;5;241m3\u001b[39m, \u001b[38;5;241m4\u001b[39m, \u001b[38;5;241m5\u001b[39m]\n\u001b[0;32m      2\u001b[0m list1[\u001b[38;5;241m0\u001b[39m::\u001b[38;5;241m2\u001b[39m]\n\u001b[1;32m----> 3\u001b[0m \u001b[43mlist1\u001b[49m\u001b[43m[\u001b[49m\u001b[38;5;28;43mrange\u001b[39;49m\u001b[43m(\u001b[49m\u001b[38;5;241;43m0\u001b[39;49m\u001b[43m,\u001b[49m\u001b[43m \u001b[49m\u001b[38;5;241;43m5\u001b[39;49m\u001b[43m,\u001b[49m\u001b[43m \u001b[49m\u001b[38;5;241;43m2\u001b[39;49m\u001b[43m)\u001b[49m\u001b[43m]\u001b[49m\n",
      "\u001b[1;31mTypeError\u001b[0m: list indices must be integers or slices, not range"
     ]
    }
   ],
   "source": [
    "list1 = [1, 2, 3, 4, 5]\n",
    "list1[0::2]\n",
    "list1[range(0, 5, 2)]"
   ]
  },
  {
   "cell_type": "markdown",
   "id": "b1b3abc0-bd4f-4bc4-888d-4ccce03f6246",
   "metadata": {
    "jp-MarkdownHeadingCollapsed": true,
    "tags": []
   },
   "source": [
    "### `slice()`"
   ]
  },
  {
   "cell_type": "code",
   "execution_count": 73,
   "id": "426139a5-3600-49d8-951a-c5b0224c5d60",
   "metadata": {},
   "outputs": [
    {
     "data": {
      "text/plain": [
       "[1, 3, 5]"
      ]
     },
     "execution_count": 73,
     "metadata": {},
     "output_type": "execute_result"
    }
   ],
   "source": [
    "a = [1, 2, 3, 4, 5]\n",
    "\n",
    "# list(slice(0, 5, 2))\n",
    "list1[slice(0, 5, 2)]"
   ]
  },
  {
   "cell_type": "markdown",
   "id": "16580423-6c72-4ab8-8e84-2ef4bea15f4f",
   "metadata": {
    "jp-MarkdownHeadingCollapsed": true,
    "tags": []
   },
   "source": [
    "### `enumerate()`"
   ]
  },
  {
   "cell_type": "code",
   "execution_count": 83,
   "id": "b38409ad-8e71-49d3-bda6-9dd7e5226ab9",
   "metadata": {},
   "outputs": [
    {
     "data": {
      "text/plain": [
       "[(-2, 1), (-1, 0.22), (0, -3)]"
      ]
     },
     "execution_count": 83,
     "metadata": {},
     "output_type": "execute_result"
    }
   ],
   "source": [
    "a = [1, 0.22, -3]\n",
    "list(enumerate(a, -2))"
   ]
  },
  {
   "cell_type": "code",
   "execution_count": 81,
   "id": "9232e5d3-4038-4ca0-9ebf-209d8e1b6861",
   "metadata": {},
   "outputs": [
    {
     "name": "stdout",
     "output_type": "stream",
     "text": [
      "1\n",
      "0.22\n",
      "-3\n",
      "----------\n",
      "0 1\n",
      "1 0.22\n",
      "2 -3\n",
      "----------\n",
      "0 1\n",
      "1 0.22\n",
      "2 -3\n"
     ]
    }
   ],
   "source": [
    "for i in a:\n",
    "    print(i)\n",
    "\n",
    "print('-'*10)\n",
    "\n",
    "for i in range(len(a)):\n",
    "    print(i, a[i])\n",
    "\n",
    "print('-'*10)\n",
    "\n",
    "for i, v in enumerate(a):\n",
    "    print(i, v)"
   ]
  },
  {
   "cell_type": "markdown",
   "id": "a4b036f8-b4ec-4f4a-8f7b-89fc1c29281c",
   "metadata": {
    "jp-MarkdownHeadingCollapsed": true,
    "tags": []
   },
   "source": [
    "### `zip()`"
   ]
  },
  {
   "cell_type": "code",
   "execution_count": 87,
   "id": "e0cbd7de-7c59-422f-899f-673d932250a7",
   "metadata": {},
   "outputs": [
    {
     "data": {
      "text/plain": [
       "[(1, -1), (2, -2), (3, -3)]"
      ]
     },
     "execution_count": 87,
     "metadata": {},
     "output_type": "execute_result"
    }
   ],
   "source": [
    "a = [1, 2, 3]\n",
    "b = [-1, -2, -3]\n",
    "\n",
    "list(zip(a, b))"
   ]
  },
  {
   "cell_type": "code",
   "execution_count": 89,
   "id": "9d368aaf-73b2-4c91-beee-c37ef36e419b",
   "metadata": {},
   "outputs": [
    {
     "name": "stdout",
     "output_type": "stream",
     "text": [
      "1 -1\n",
      "2 -2\n",
      "3 -3\n"
     ]
    }
   ],
   "source": [
    "for ai, bi in zip(a, b):\n",
    "    print(ai, bi)"
   ]
  },
  {
   "cell_type": "code",
   "execution_count": 92,
   "id": "a50593b5-d196-4cf8-a2c4-ec8f38edff9a",
   "metadata": {},
   "outputs": [
    {
     "name": "stdout",
     "output_type": "stream",
     "text": [
      "[1, -1] True\n",
      "[2, -2] False\n",
      "[3, -3] True\n"
     ]
    }
   ],
   "source": [
    "c = [True, False, True]\n",
    "\n",
    "for *abi, ci in zip(a, b, c):\n",
    "    print(abi, ci)"
   ]
  },
  {
   "cell_type": "markdown",
   "id": "e5417ada-0e71-4869-814a-01eebe8a3ab3",
   "metadata": {
    "tags": []
   },
   "source": [
    "#### Calculate $a+b$ element-wise"
   ]
  },
  {
   "cell_type": "code",
   "execution_count": 96,
   "id": "4c19d04b-c643-4374-82d7-7f2babbf1f0a",
   "metadata": {},
   "outputs": [
    {
     "data": {
      "text/plain": [
       "[0, 0, 0]"
      ]
     },
     "execution_count": 96,
     "metadata": {},
     "output_type": "execute_result"
    }
   ],
   "source": [
    "[ai+bi for ai, bi in zip(a, b)]"
   ]
  },
  {
   "cell_type": "code",
   "execution_count": 100,
   "id": "fa7c3086-70c3-4250-8aee-81be84a860db",
   "metadata": {},
   "outputs": [
    {
     "name": "stdout",
     "output_type": "stream",
     "text": [
      "0 1 -1\n",
      "1 2 -2\n",
      "2 3 -3\n"
     ]
    }
   ],
   "source": [
    "# [ai+bi for i, ai, bi in enumerate(zip(a, b))]\n",
    "\n",
    "for i, (ai, bi) in enumerate(zip(a, b)):\n",
    "    print(i, ai, bi)"
   ]
  },
  {
   "cell_type": "markdown",
   "id": "6e8f90ce-5381-44c2-ba24-b92ffab34d48",
   "metadata": {
    "jp-MarkdownHeadingCollapsed": true,
    "tags": []
   },
   "source": [
    "### `any()` & `all()`"
   ]
  },
  {
   "cell_type": "code",
   "execution_count": 102,
   "id": "5dd00113-ab31-4c76-b4ef-9e743310c9a6",
   "metadata": {},
   "outputs": [
    {
     "data": {
      "text/plain": [
       "(True, False)"
      ]
     },
     "execution_count": 102,
     "metadata": {},
     "output_type": "execute_result"
    }
   ],
   "source": [
    "any([True, False]), all([True, False])"
   ]
  },
  {
   "cell_type": "markdown",
   "id": "d4765d3d-9447-4363-a553-14b7c77dcd72",
   "metadata": {
    "jp-MarkdownHeadingCollapsed": true,
    "tags": []
   },
   "source": [
    "### `isinstance()`"
   ]
  },
  {
   "cell_type": "code",
   "execution_count": 108,
   "id": "4ca7999e-bc59-458f-954c-bc68d7b799a0",
   "metadata": {},
   "outputs": [
    {
     "name": "stdout",
     "output_type": "stream",
     "text": [
      "Help on built-in function isinstance in module builtins:\n",
      "\n",
      "isinstance(obj, class_or_tuple, /)\n",
      "    Return whether an object is an instance of a class or of a subclass thereof.\n",
      "    \n",
      "    A tuple, as in ``isinstance(x, (A, B, ...))``, may be given as the target to\n",
      "    check against. This is equivalent to ``isinstance(x, A) or isinstance(x, B)\n",
      "    or ...`` etc.\n",
      "\n"
     ]
    },
    {
     "data": {
      "text/plain": [
       "False"
      ]
     },
     "execution_count": 108,
     "metadata": {},
     "output_type": "execute_result"
    }
   ],
   "source": [
    "help(isinstance)\n",
    "\n",
    "type(a) == list\n",
    "isinstance(a, list)\n",
    "isinstance(a, str)"
   ]
  },
  {
   "cell_type": "markdown",
   "id": "146542e0-a3bb-4e7f-853e-7ca7b3139319",
   "metadata": {
    "jp-MarkdownHeadingCollapsed": true,
    "tags": []
   },
   "source": [
    "### `print()`"
   ]
  },
  {
   "cell_type": "code",
   "execution_count": 116,
   "id": "96c52640-aa7a-41ae-9a2b-b57791d70d81",
   "metadata": {},
   "outputs": [
    {
     "name": "stdout",
     "output_type": "stream",
     "text": [
      "Help on built-in function print in module builtins:\n",
      "\n",
      "print(...)\n",
      "    print(value, ..., sep=' ', end='\\n', file=sys.stdout, flush=False)\n",
      "    \n",
      "    Prints the values to a stream, or to sys.stdout by default.\n",
      "    Optional keyword arguments:\n",
      "    file:  a file-like object (stream); defaults to the current sys.stdout.\n",
      "    sep:   string inserted between values, default a space.\n",
      "    end:   string appended after the last value, default a newline.\n",
      "    flush: whether to forcibly flush the stream.\n",
      "\n",
      "1 2 3 "
     ]
    }
   ],
   "source": [
    "help(print)\n",
    "\n",
    "for ai in a:\n",
    "    print(ai, end=' ')"
   ]
  },
  {
   "cell_type": "code",
   "execution_count": 119,
   "id": "75410698-f57a-4d59-8f93-683603c91768",
   "metadata": {},
   "outputs": [
    {
     "name": "stdout",
     "output_type": "stream",
     "text": [
      "1 --> 2 --> 3\n"
     ]
    }
   ],
   "source": [
    "print(a[0], a[1], a[2], sep=' --> ')"
   ]
  },
  {
   "cell_type": "markdown",
   "id": "2ab53754-b9c3-4058-8429-b2021f7d601b",
   "metadata": {
    "jp-MarkdownHeadingCollapsed": true,
    "tags": []
   },
   "source": [
    "## 🔸 **`map` & `filter`**"
   ]
  },
  {
   "cell_type": "markdown",
   "id": "142d19ee-2f4b-4fae-89ad-86424d26bacd",
   "metadata": {
    "jp-MarkdownHeadingCollapsed": true,
    "tags": []
   },
   "source": [
    "### `map()`"
   ]
  },
  {
   "cell_type": "code",
   "execution_count": 129,
   "id": "310f1159-3afc-48d7-ae2e-d3ba84aaf180",
   "metadata": {},
   "outputs": [
    {
     "ename": "TypeError",
     "evalue": "bad operand type for abs(): 'list'",
     "output_type": "error",
     "traceback": [
      "\u001b[1;31m---------------------------------------------------------------------------\u001b[0m",
      "\u001b[1;31mTypeError\u001b[0m                                 Traceback (most recent call last)",
      "Input \u001b[1;32mIn [129]\u001b[0m, in \u001b[0;36m<cell line: 2>\u001b[1;34m()\u001b[0m\n\u001b[0;32m      1\u001b[0m a \u001b[38;5;241m=\u001b[39m [\u001b[38;5;241m1\u001b[39m, \u001b[38;5;241m-\u001b[39m\u001b[38;5;241m2\u001b[39m, \u001b[38;5;241m-\u001b[39m\u001b[38;5;241m3\u001b[39m, \u001b[38;5;241m-\u001b[39m\u001b[38;5;241m0.1\u001b[39m, \u001b[38;5;241m0.1\u001b[39m]\n\u001b[1;32m----> 2\u001b[0m \u001b[38;5;28;43mabs\u001b[39;49m\u001b[43m(\u001b[49m\u001b[43ma\u001b[49m\u001b[43m)\u001b[49m\n",
      "\u001b[1;31mTypeError\u001b[0m: bad operand type for abs(): 'list'"
     ]
    }
   ],
   "source": [
    "a = [1, -2, -3, -0.1, 0.1]\n",
    "abs(a)"
   ]
  },
  {
   "cell_type": "code",
   "execution_count": 130,
   "id": "17f01bbb-70ea-45ed-b883-622c7d115a93",
   "metadata": {},
   "outputs": [
    {
     "data": {
      "text/plain": [
       "[1, 2, 3, 0.1, 0.1]"
      ]
     },
     "execution_count": 130,
     "metadata": {},
     "output_type": "execute_result"
    }
   ],
   "source": [
    "for i, ai in enumerate(a):\n",
    "    a[i] = abs(ai)\n",
    "a"
   ]
  },
  {
   "cell_type": "code",
   "execution_count": 134,
   "id": "df5ee3bb-1f28-4cb0-ad52-271369d2b1fd",
   "metadata": {},
   "outputs": [
    {
     "data": {
      "text/plain": [
       "[1, 2, 3, 0.1, 0.1]"
      ]
     },
     "execution_count": 134,
     "metadata": {},
     "output_type": "execute_result"
    }
   ],
   "source": [
    "a = [1, -2, -3, -0.1, 0.1]\n",
    "list(map(abs, a))"
   ]
  },
  {
   "cell_type": "code",
   "execution_count": 141,
   "id": "bdceff7d-4e0c-46ca-9c45-fc840646dc87",
   "metadata": {},
   "outputs": [
    {
     "data": {
      "text/plain": [
       "[0, 0, 0]"
      ]
     },
     "execution_count": 141,
     "metadata": {},
     "output_type": "execute_result"
    }
   ],
   "source": [
    "a = [1, 2, 3]\n",
    "b = [-1, -2, -3]\n",
    "\n",
    "[ai+bi for ai, bi in zip(a, b)]\n",
    "list(map(sum, zip(a, b)))"
   ]
  },
  {
   "cell_type": "markdown",
   "id": "0788d019-4042-4d8e-831a-b7fae9bfc715",
   "metadata": {
    "jp-MarkdownHeadingCollapsed": true,
    "tags": []
   },
   "source": [
    "### `filter()`"
   ]
  },
  {
   "cell_type": "code",
   "execution_count": 149,
   "id": "6092977a-d762-4eac-b535-a9b03af47262",
   "metadata": {},
   "outputs": [
    {
     "data": {
      "text/plain": [
       "['12', '20']"
      ]
     },
     "execution_count": 149,
     "metadata": {},
     "output_type": "execute_result"
    }
   ],
   "source": [
    "scores = ['hi', 'howsam', '12', 'ai', '20']\n",
    "\n",
    "scores[2].isdigit()\n",
    "\n",
    "list(filter(str.isdigit, scores))\n",
    "\n",
    "# list(filter(len, scores))\n",
    "\n",
    "scores_filter = []\n",
    "for i in scores:\n",
    "    if i.isdigit():\n",
    "        scores_filter.append(i)\n",
    "scores_filter"
   ]
  },
  {
   "cell_type": "markdown",
   "id": "72397c25-5654-478f-9141-fa546d3a5dfa",
   "metadata": {
    "jp-MarkdownHeadingCollapsed": true,
    "tags": []
   },
   "source": [
    "#### filter digit numbers and convert to int"
   ]
  },
  {
   "cell_type": "code",
   "execution_count": 153,
   "id": "b94b978c-3336-4cd2-9e85-12ffb4bcd3fb",
   "metadata": {},
   "outputs": [
    {
     "data": {
      "text/plain": [
       "[12, 20]"
      ]
     },
     "execution_count": 153,
     "metadata": {},
     "output_type": "execute_result"
    }
   ],
   "source": [
    "scores = ['hi', 'howsam', '12', 'ai', '20']\n",
    "\n",
    "list(map(int, filter(str.isdigit, scores)))"
   ]
  },
  {
   "cell_type": "markdown",
   "id": "2e867b3c-1749-4991-b7ef-d68d83d91a12",
   "metadata": {
    "jp-MarkdownHeadingCollapsed": true,
    "tags": []
   },
   "source": [
    "## 🔸 **Iterator**"
   ]
  },
  {
   "cell_type": "markdown",
   "id": "bc8455ac-813b-4e85-883c-ac63868b8831",
   "metadata": {},
   "source": [
    "<img src=\"../images/iter-next.png\" alt=\"string indexing\" width=550 align=\"center\" />"
   ]
  },
  {
   "cell_type": "markdown",
   "id": "8cbabe10-bd40-44d9-88d3-ca0b909e8b85",
   "metadata": {
    "jp-MarkdownHeadingCollapsed": true,
    "tags": []
   },
   "source": [
    "### `iter`"
   ]
  },
  {
   "cell_type": "code",
   "execution_count": 157,
   "id": "a13e4e3a-f734-49bb-9935-ac1f627a36e8",
   "metadata": {},
   "outputs": [
    {
     "data": {
      "text/plain": [
       "<list_iterator at 0x299a4b888e0>"
      ]
     },
     "execution_count": 157,
     "metadata": {},
     "output_type": "execute_result"
    }
   ],
   "source": [
    "x = [1, 0, -1]\n",
    "\n",
    "x_iter = iter(x)\n",
    "x_iter"
   ]
  },
  {
   "cell_type": "markdown",
   "id": "3c55e346-cdfa-43e2-ac78-a93d645023b2",
   "metadata": {
    "jp-MarkdownHeadingCollapsed": true,
    "tags": []
   },
   "source": [
    "### `next`"
   ]
  },
  {
   "cell_type": "code",
   "execution_count": 161,
   "id": "2360a4dd-6d6a-4373-ac94-f65f0724b649",
   "metadata": {},
   "outputs": [
    {
     "ename": "StopIteration",
     "evalue": "",
     "output_type": "error",
     "traceback": [
      "\u001b[1;31m---------------------------------------------------------------------------\u001b[0m",
      "\u001b[1;31mStopIteration\u001b[0m                             Traceback (most recent call last)",
      "Input \u001b[1;32mIn [161]\u001b[0m, in \u001b[0;36m<cell line: 1>\u001b[1;34m()\u001b[0m\n\u001b[1;32m----> 1\u001b[0m \u001b[38;5;28;43mnext\u001b[39;49m\u001b[43m(\u001b[49m\u001b[43mx_iter\u001b[49m\u001b[43m)\u001b[49m\n",
      "\u001b[1;31mStopIteration\u001b[0m: "
     ]
    }
   ],
   "source": [
    "next(x_iter)"
   ]
  },
  {
   "cell_type": "markdown",
   "id": "996ff28f-4ca2-43ea-a7eb-f12d1630bcbe",
   "metadata": {
    "jp-MarkdownHeadingCollapsed": true,
    "tags": []
   },
   "source": [
    "## 🔸 **Conversion functions**"
   ]
  },
  {
   "cell_type": "markdown",
   "id": "9575e37f-6938-46be-9300-3e99cf6b9b61",
   "metadata": {
    "jp-MarkdownHeadingCollapsed": true,
    "tags": []
   },
   "source": [
    "### `int()`"
   ]
  },
  {
   "cell_type": "code",
   "execution_count": 162,
   "id": "e683a03f-a7bf-447b-85bd-67cf57636d32",
   "metadata": {},
   "outputs": [
    {
     "data": {
      "text/plain": [
       "2"
      ]
     },
     "execution_count": 162,
     "metadata": {},
     "output_type": "execute_result"
    }
   ],
   "source": [
    "int(2.5)"
   ]
  },
  {
   "cell_type": "markdown",
   "id": "33eeeaf0-4f55-43d5-985c-f6830717648b",
   "metadata": {
    "jp-MarkdownHeadingCollapsed": true,
    "tags": []
   },
   "source": [
    "### `float()`"
   ]
  },
  {
   "cell_type": "code",
   "execution_count": 163,
   "id": "33b1fac0-f6e0-4761-88c5-054661ddea0e",
   "metadata": {
    "tags": []
   },
   "outputs": [
    {
     "data": {
      "text/plain": [
       "3.0"
      ]
     },
     "execution_count": 163,
     "metadata": {},
     "output_type": "execute_result"
    }
   ],
   "source": [
    "float(3)"
   ]
  },
  {
   "cell_type": "markdown",
   "id": "271393ea-fe51-4343-ab3b-8241ae8a4c9a",
   "metadata": {
    "jp-MarkdownHeadingCollapsed": true,
    "tags": []
   },
   "source": [
    "### `str()`"
   ]
  },
  {
   "cell_type": "code",
   "execution_count": 164,
   "id": "0fa150e8-e3f1-485a-b9b3-1d083aa631bd",
   "metadata": {},
   "outputs": [
    {
     "data": {
      "text/plain": [
       "'3.0'"
      ]
     },
     "execution_count": 164,
     "metadata": {},
     "output_type": "execute_result"
    }
   ],
   "source": [
    "str(3.0)"
   ]
  },
  {
   "cell_type": "markdown",
   "id": "87b36072-3b4e-41ba-8a2c-384524ace944",
   "metadata": {
    "jp-MarkdownHeadingCollapsed": true,
    "tags": []
   },
   "source": [
    "### `bool()`"
   ]
  },
  {
   "cell_type": "code",
   "execution_count": 166,
   "id": "8c63d148-ed67-464d-929f-62ff5e843c80",
   "metadata": {},
   "outputs": [
    {
     "data": {
      "text/plain": [
       "False"
      ]
     },
     "execution_count": 166,
     "metadata": {},
     "output_type": "execute_result"
    }
   ],
   "source": [
    "bool(0)"
   ]
  },
  {
   "cell_type": "markdown",
   "id": "98b9b296-cef7-4ea2-b1fd-b69a656a0670",
   "metadata": {
    "jp-MarkdownHeadingCollapsed": true,
    "tags": []
   },
   "source": [
    "### `bin()`"
   ]
  },
  {
   "cell_type": "code",
   "execution_count": 202,
   "id": "16b79792-e71b-4299-aec3-8c1fcd4fc91a",
   "metadata": {},
   "outputs": [
    {
     "data": {
      "text/plain": [
       "'0b110'"
      ]
     },
     "execution_count": 202,
     "metadata": {},
     "output_type": "execute_result"
    }
   ],
   "source": [
    "bin(6)"
   ]
  },
  {
   "cell_type": "markdown",
   "id": "090a5b93-5575-47da-a821-fd40390a1d7e",
   "metadata": {
    "jp-MarkdownHeadingCollapsed": true,
    "tags": []
   },
   "source": [
    "### `hex()`"
   ]
  },
  {
   "cell_type": "code",
   "execution_count": 208,
   "id": "b1a5a5c2-39d3-4801-b5d9-a1eda4bad9ff",
   "metadata": {
    "tags": []
   },
   "outputs": [
    {
     "data": {
      "text/plain": [
       "'0x10'"
      ]
     },
     "execution_count": 208,
     "metadata": {},
     "output_type": "execute_result"
    }
   ],
   "source": [
    "hex(16)"
   ]
  },
  {
   "cell_type": "markdown",
   "id": "582cbf6f-d0f1-4ae8-a8c7-6fa06a29a654",
   "metadata": {
    "jp-MarkdownHeadingCollapsed": true,
    "tags": []
   },
   "source": [
    "### `chr()`"
   ]
  },
  {
   "cell_type": "code",
   "execution_count": 220,
   "id": "9feb1255-7189-42fb-abc8-8ca94d39f882",
   "metadata": {},
   "outputs": [
    {
     "data": {
      "text/plain": [
       "'ᎈ'"
      ]
     },
     "execution_count": 220,
     "metadata": {},
     "output_type": "execute_result"
    }
   ],
   "source": [
    "chr(5000)"
   ]
  },
  {
   "cell_type": "markdown",
   "id": "7d194de8-a95a-446b-94ea-a4ad467e183d",
   "metadata": {
    "jp-MarkdownHeadingCollapsed": true,
    "tags": []
   },
   "source": [
    "### `ord()`"
   ]
  },
  {
   "cell_type": "code",
   "execution_count": 215,
   "id": "d4c0092c-498f-4e10-af91-a3dfc0c355b4",
   "metadata": {
    "tags": []
   },
   "outputs": [
    {
     "data": {
      "text/plain": [
       "64"
      ]
     },
     "execution_count": 215,
     "metadata": {},
     "output_type": "execute_result"
    }
   ],
   "source": [
    "ord('@')"
   ]
  },
  {
   "cell_type": "markdown",
   "id": "9278dfa0-23ca-44ae-a8de-b7a9ca264f82",
   "metadata": {
    "jp-MarkdownHeadingCollapsed": true,
    "tags": []
   },
   "source": [
    "### `format`"
   ]
  },
  {
   "cell_type": "code",
   "execution_count": 225,
   "id": "f2eef134-bc4a-4f6e-9d4a-db185607ca9b",
   "metadata": {},
   "outputs": [
    {
     "data": {
      "text/plain": [
       "'123_454_634'"
      ]
     },
     "execution_count": 225,
     "metadata": {},
     "output_type": "execute_result"
    }
   ],
   "source": [
    "format(22.5465, 'e')\n",
    "format(0.5,  '%')\n",
    "format(10, 'x')\n",
    "format(10, 'b')\n",
    "format(123454634, '_')"
   ]
  },
  {
   "cell_type": "markdown",
   "id": "27582482-4017-4090-b141-b989f95c9ac9",
   "metadata": {
    "jp-MarkdownHeadingCollapsed": true,
    "tags": []
   },
   "source": [
    "## 🔸 **I/O**"
   ]
  },
  {
   "cell_type": "markdown",
   "id": "1b9d87a5-2821-46af-a413-6782e5228ed1",
   "metadata": {
    "jp-MarkdownHeadingCollapsed": true,
    "tags": []
   },
   "source": [
    "### `input`"
   ]
  },
  {
   "cell_type": "code",
   "execution_count": 239,
   "id": "29e9ddb2-26be-4e35-a6ea-704e74ab57b3",
   "metadata": {},
   "outputs": [
    {
     "name": "stdin",
     "output_type": "stream",
     "text": [
      "Enter your name: 1, 2, 3, 4\n"
     ]
    },
    {
     "name": "stdout",
     "output_type": "stream",
     "text": [
      "Name: 1, 2, 3, 4\n"
     ]
    },
    {
     "data": {
      "text/plain": [
       "[1, 2, 3, 4]"
      ]
     },
     "execution_count": 239,
     "metadata": {},
     "output_type": "execute_result"
    }
   ],
   "source": [
    "x = input('Enter your name:')\n",
    "print(f'Name: {x}')\n",
    "\n",
    "list(map(int, x.split(', ')))"
   ]
  },
  {
   "cell_type": "markdown",
   "id": "9c098450-45dc-4798-8211-5dd457efcf1b",
   "metadata": {
    "jp-MarkdownHeadingCollapsed": true,
    "tags": []
   },
   "source": [
    "### `open` (In the future)"
   ]
  },
  {
   "cell_type": "markdown",
   "id": "6f6fc997-94d2-4b76-a765-5fd75eb622f9",
   "metadata": {
    "jp-MarkdownHeadingCollapsed": true,
    "tags": []
   },
   "source": [
    "## **✍️ Example 1: Matrix**"
   ]
  },
  {
   "cell_type": "code",
   "execution_count": null,
   "id": "4d667501-3cb4-4d08-90fb-c7f74c45f366",
   "metadata": {
    "tags": []
   },
   "outputs": [],
   "source": [
    "mat = [[1, 2, 3], \n",
    "       [4, 5, 6], \n",
    "       [7, 8, 9]]\n",
    "\n",
    "# Method 1\n",
    "for r in mat:\n",
    "    for c in r:\n",
    "        print(c)\n",
    "\n",
    "# Method 2\n",
    "nr = len(mat)\n",
    "for i in range(nr):\n",
    "    for j in range(len(mat[i])):\n",
    "        print(i, j, mat[i][j])"
   ]
  },
  {
   "cell_type": "code",
   "execution_count": 256,
   "id": "c80dc138-cc67-4390-84f9-53ecc0efdf80",
   "metadata": {},
   "outputs": [
    {
     "name": "stdout",
     "output_type": "stream",
     "text": [
      "(0, 0) --> 1\n",
      "(0, 1) --> 2\n",
      "(0, 2) --> 3\n",
      "(1, 0) --> 4\n",
      "(1, 1) --> 5\n",
      "(1, 2) --> 6\n",
      "(2, 0) --> 7\n",
      "(2, 1) --> 8\n",
      "(2, 2) --> 9\n"
     ]
    }
   ],
   "source": [
    "mat = [[1, 2, 3], \n",
    "       [4, 5, 6], \n",
    "       [7, 8, 9]]\n",
    "\n",
    "for i, r in enumerate(mat):\n",
    "    for j, v in enumerate(r):\n",
    "        print(f'({i}, {j}) --> {v}')"
   ]
  },
  {
   "cell_type": "markdown",
   "id": "3b91fae0-6594-4680-b210-64d0125bbfe8",
   "metadata": {
    "jp-MarkdownHeadingCollapsed": true,
    "tags": []
   },
   "source": [
    "## **✍️ Example 2: Matrix Transpsoe**"
   ]
  },
  {
   "cell_type": "code",
   "execution_count": 263,
   "id": "1430d6b4-94b7-4539-ac00-b50adca97548",
   "metadata": {
    "tags": []
   },
   "outputs": [
    {
     "data": {
      "text/plain": [
       "[[1, 4, 7], [2, 5, 8], [3, 6, 9]]"
      ]
     },
     "execution_count": 263,
     "metadata": {},
     "output_type": "execute_result"
    }
   ],
   "source": [
    "mat = [[1, 2, 3], \n",
    "       [4, 5, 6], \n",
    "       [7, 8, 9]]\n",
    "\n",
    "# mat' = [[1, 4, 7], \n",
    "#         [2, 5, 8], \n",
    "#         [3, 6, 9]]\n",
    "\n",
    "list(zip(mat[0], mat[1], mat[2]))\n",
    "list(zip(*mat))\n",
    "list(map(list, zip(*mat)))"
   ]
  },
  {
   "cell_type": "markdown",
   "id": "972a8264-6ff7-44a6-83a3-957771b634f2",
   "metadata": {
    "jp-MarkdownHeadingCollapsed": true,
    "tags": []
   },
   "source": [
    "## **✍️ Example 3: Saddle Points**"
   ]
  },
  {
   "cell_type": "code",
   "execution_count": 273,
   "id": "0b834475-13f6-4f52-9364-351b97fc3816",
   "metadata": {
    "tags": []
   },
   "outputs": [
    {
     "name": "stdout",
     "output_type": "stream",
     "text": [
      "[9, 5, 7] [4, 5, 2]\n",
      "(1, 1) --> 5\n"
     ]
    }
   ],
   "source": [
    "mat = [[9, 8, 7], \n",
    "       [4, 5, 2], \n",
    "       [6, 6, 7]]\n",
    "\n",
    "max_row = list(map(max, mat))\n",
    "min_col = list(map(min, zip(*mat)))\n",
    "print(max_row, min_col)\n",
    "\n",
    "for i, r in enumerate(max_row):\n",
    "    for j, c in enumerate(min_col):\n",
    "        if r == c:\n",
    "            print(f'({i}, {j}) --> {c}')"
   ]
  }
 ],
 "metadata": {
  "kernelspec": {
   "display_name": "Python 3 (ipykernel)",
   "language": "python",
   "name": "python3"
  },
  "language_info": {
   "codemirror_mode": {
    "name": "ipython",
    "version": 3
   },
   "file_extension": ".py",
   "mimetype": "text/x-python",
   "name": "python",
   "nbconvert_exporter": "python",
   "pygments_lexer": "ipython3",
   "version": "3.9.12"
  }
 },
 "nbformat": 4,
 "nbformat_minor": 5
}
