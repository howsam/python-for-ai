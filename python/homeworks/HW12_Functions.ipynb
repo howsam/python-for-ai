{
 "cells": [
  {
   "cell_type": "markdown",
   "metadata": {},
   "source": [
    "<div style=\"text-align:center; font-family:samim; font-size:30px;\"><strong> آشنایی با توابع</strong></div>   \n",
    "<br>\n",
    "<p style=\"text-align:center; font-family:samim; font-size:20px;\">تمرین سری دوازدهم</p> \n",
    "<br>\n",
    "</p>"
   ]
  },
  {
   "cell_type": "markdown",
   "metadata": {},
   "source": [
    "<p style='direction:rtl;text-align:right;font-size:17px;font-family:samim;line-height:1.5;'>\n",
    "    در این سلسله تمرین‌های آموزشی \"پایتون برای هوش مصنوعی با هوسم\"، ما از شما دعوت می‌کنیم که با یک روند گام به گام، به تدریج پیشرفت کنید. این مسیر ممکن است زمان‌بر باشد، پس صبور باشید و به راهنمایی‌ها و راهکارهایی که از تجربه ما در ارتباط با دانشجویان مختلف بدست آمده است، اعتماد کنید. برای حل مسائل، لطفا به نکات زیر توجه کنید. امیدواریم شاهد پیشرفت‌های شما در این مسیر باشیم. موفق و پیروز باشید!\n",
    "    </p>\n",
    "<br>\n",
    "<div style=\"font-family: samim; font-size: 14px; text-align: right; direction: rtl;\">\n",
    "    <strong>فونت صمیم:</strong> برای مشاهده بهتر توضیحات فارسی، پیشنهاد می‌شود فونت رایگان صمیم را روی سیستم شخصی خود نصب کنید. <a href=\"https://www.fontyab.com/5024/%D9%81%D9%88%D9%86%D8%AA-%D9%81%D8%A7%D8%B1%D8%B3%DB%8C-%D8%B5%D9%85%DB%8C%D9%85.html\">لینک دانلود فونت صمیم</a>\n",
    "    <br>\n",
    "    <br>\n",
    "    <strong>نحوه مشاهده تمرین‌ها:</strong> هر تمرین شامل سه بخش سوال، راهنمایی و جواب هست. راهنمایی و جواب مینیمایز شده است. بهتر هست از Jupyter Lab برای مشاهده درست نوتبوک‌ها و سلول‌ها استفاده شود.\n",
    "    <br>\n",
    "    <br>\n",
    "    <strong>تمرکز بر روی مسئله:</strong> قبل از هر چیز، هر سوال را دقیق بخوانید و به آن فکر کنید. این اولین گام برای حل مسئله است.\n",
    "    <br>\n",
    "    <br>\n",
    "    <strong>استفاده از کاغذ:</strong> اگر نیاز بود، فلوچارت حل مساله را روی کاغذ  بنویسید و به آن فکر کنید. بسیاری اوقات، این کار می‌تواند به روشن شدن مساله و حل بهتر آن کمک کند.\n",
    "    <br>\n",
    "    <br>\n",
    "    <strong>شروع به کدنویسی:</strong> دست روی کیبورد و کدنویسی را فراموش نکنید! برای تسلط بر پایتون، نیاز هست تمرین‌های زیادی را کد بزنید.\n",
    "    <br>\n",
    "    <br>\n",
    "    <strong>استفاده متناسب از منابع:</strong> سعی کنید بدون استفاده از ابزارهای کمکی نظیر ChatGPT یا اینترنت، مسئله‌ها را حل کنید. دراینصورت، قدرت حل مساله در مغز شما تقویت می‌شود.\n",
    "    <br>\n",
    "    <br>\n",
    "    <strong>راهنمایی و ارزیابی:</strong> اگر پس از تلاش، به نتیجه نرسیدید، راهنمایی‌های ارائه شده را مطالعه کرده و دوباره به حل مساله بپردازید. اگر بعد از چند ساعت تلاش برای یک مساله، نتواستید، آنگاه جواب مساله را نگاه کنید.\n",
    "    <br>\n",
    "    <br>\n",
    "    <strong>مبتنی بر محتوا:</strong> سعی کنید با توجه به مباحثی که در ویدیو آموزش هر فصل آموخته‌اید، به سوالات پاسخ دهید و از دستورات جدید خودداری کنید. این به شما کمک می‌کند تا گام به گام و با پیشرفت مرحله‌ای، مسائل را حل کنید.\n",
    "    <br>\n",
    "    <br>\n",
    "    <strong>متنوع بودن راه‌حل‌ها:</strong> به یاد داشته باشید که برای هر سوال، روش‌های مختلفی وجود دارد. راه‌حل ارائه شده فقط یکی از راه‌حل‌های ممکن است و ممکن هست جواب شما هم درست باشد.\n",
    "</div>\n"
   ]
  },
  {
   "cell_type": "markdown",
   "metadata": {},
   "source": [
    "<h2 style='direction:rtl;text-align:right;font-family:samim;'><b>🔸 تمرین ۱</b></h2>"
   ]
  },
  {
   "cell_type": "markdown",
   "metadata": {},
   "source": [
    "<p style='direction:rtl;text-align:right;font-size:18px;font-family:samim;line-height:1.5;'>\n",
    "     نویسنده‌ای برای هر کتاب فروخته شده 5 درصد از قیمت کتاب را دریافت می‌کند. تابعی بنویسید که فهرستی از قیمت‌های کتاب‌ها را گرفته و محاسبه کند که نویسنده چقدر کسب خواهد کرد.\n",
    "    <br>\n",
    "    $$\\texttt{book_prices = [20, 30, 40]}$$\n",
    "</p>"
   ]
  },
  {
   "cell_type": "code",
   "execution_count": null,
   "metadata": {},
   "outputs": [],
   "source": []
  },
  {
   "cell_type": "markdown",
   "metadata": {
    "tags": []
   },
   "source": [
    "<h4 style='direction:rtl;text-align:right;font-size:18px;font-family:samim;'>راهنمایی</h4>"
   ]
  },
  {
   "cell_type": "markdown",
   "metadata": {
    "tags": []
   },
   "source": [
    "<p style='direction:rtl;text-align:right;font-size:16px;font-family:samim;'>\n",
    "با استفاده از حلقه تک خطی برای هر کتاب قیمت را محاسبه کنید و جمع مقادیر را به عنوان خروجی بدست آورید.\n",
    "</p>"
   ]
  },
  {
   "cell_type": "markdown",
   "metadata": {
    "jp-MarkdownHeadingCollapsed": true,
    "tags": []
   },
   "source": [
    "<h4 style='direction:rtl;text-align:right;font-size:18px;font-family:samim;'>جواب</h4>"
   ]
  },
  {
   "cell_type": "code",
   "execution_count": 1,
   "metadata": {
    "tags": []
   },
   "outputs": [
    {
     "name": "stdout",
     "output_type": "stream",
     "text": [
      "Total earnings for the author: 4.5\n"
     ]
    }
   ],
   "source": [
    "def calculate_earnings(prices):\n",
    "    earnings = sum(price * 0.05 for price in prices)\n",
    "    print(\"Total earnings for the author:\", earnings)\n",
    "\n",
    "book_prices = [20, 30, 40]\n",
    "calculate_earnings(book_prices)\n"
   ]
  },
  {
   "cell_type": "markdown",
   "metadata": {},
   "source": [
    "<h2 style='direction:rtl;text-align:right;font-family:samim;'><b>🔸 تمرین ۲</b></h2>"
   ]
  },
  {
   "cell_type": "markdown",
   "metadata": {},
   "source": [
    "<p style='direction:rtl;text-align:right;font-size:18px;font-family:samim;line-height:1.5;'>\n",
    "یک شرکت برگزار کننده رویدادها، می‌خواهد برای هر رویداد، تعداد مهمان‌ها و هزینه هر بلیط را دریافت کند و درآمد کل را محاسبه کند.\n",
    "    تابعی بنویسید که آن‌ها را به این هدف برساند.\n",
    "    <br>\n",
    "    <br>\n",
    "    $$\\texttt{guests=150, ticket_price=50}$$\n",
    "</p>"
   ]
  },
  {
   "cell_type": "code",
   "execution_count": null,
   "metadata": {},
   "outputs": [],
   "source": []
  },
  {
   "cell_type": "markdown",
   "metadata": {
    "tags": []
   },
   "source": [
    "<h4 style='direction:rtl;text-align:right;font-size:18px;font-family:samim;'>راهنمایی</h4>"
   ]
  },
  {
   "cell_type": "markdown",
   "metadata": {
    "tags": []
   },
   "source": [
    "<p style='direction:rtl;text-align:right;font-size:16px;font-family:samim;'>\n",
    "در آمد کل از محاسبه تعداد شرکت‌کنننده ها در هزینه بلیط محاسبه می‌شود بنابراین تابع شما دو ورودی خواهد داشت.\n",
    "</p>"
   ]
  },
  {
   "cell_type": "markdown",
   "metadata": {
    "jp-MarkdownHeadingCollapsed": true,
    "tags": []
   },
   "source": [
    "<h4 style='direction:rtl;text-align:right;font-size:18px;font-family:samim;'>جواب</h4>"
   ]
  },
  {
   "cell_type": "code",
   "execution_count": 2,
   "metadata": {
    "tags": []
   },
   "outputs": [
    {
     "name": "stdout",
     "output_type": "stream",
     "text": [
      "Total revenue: 7500\n"
     ]
    }
   ],
   "source": [
    "def calculate_revenue(guests, ticket_price):\n",
    "    total_revenue = guests * ticket_price\n",
    "    print(\"Total revenue:\", total_revenue)\n",
    "\n",
    "calculate_revenue(150, 50)\n"
   ]
  },
  {
   "cell_type": "markdown",
   "metadata": {},
   "source": [
    "<h2 style='direction:rtl;text-align:right;font-family:samim;'><b>🔸 تمرین ۳</b></h2>"
   ]
  },
  {
   "cell_type": "markdown",
   "metadata": {},
   "source": [
    "<p style='direction:rtl;text-align:right;font-size:18px;font-family:samim;line-height:1.5;'>\n",
    " یک تابع بنویسید که لیستی از دماها به درجه سانتیگراد را بگیرد و تبدیل به فارنهایت کند.\n",
    "    <br>\n",
    "    <br>\n",
    "    $$\\texttt{celsius_temperatures = [100,32,0]}$$\n",
    "</p>"
   ]
  },
  {
   "cell_type": "code",
   "execution_count": null,
   "metadata": {},
   "outputs": [],
   "source": []
  },
  {
   "cell_type": "markdown",
   "metadata": {
    "tags": []
   },
   "source": [
    "<h4 style='direction:rtl;text-align:right;font-size:18px;font-family:samim;'>راهنمایی</h4>"
   ]
  },
  {
   "cell_type": "markdown",
   "metadata": {
    "tags": []
   },
   "source": [
    "<p style='direction:rtl;text-align:right;font-size:16px;font-family:samim;'>\n",
    "فرمول تبدیل دما رو پیدا کنید سپس برای هر عدد در لیست ورودی تبدیل را انجام دهید و در یک لیست نتایج را ذخیره کنید.\n",
    "</p>"
   ]
  },
  {
   "cell_type": "markdown",
   "metadata": {
    "jp-MarkdownHeadingCollapsed": true,
    "tags": []
   },
   "source": [
    "<h4 style='direction:rtl;text-align:right;font-size:18px;font-family:samim;'>جواب</h4>"
   ]
  },
  {
   "cell_type": "code",
   "execution_count": 3,
   "metadata": {
    "tags": []
   },
   "outputs": [
    {
     "name": "stdout",
     "output_type": "stream",
     "text": [
      "Temperatures in Fahrenheit: [32.0, 89.6, 212.0]\n"
     ]
    }
   ],
   "source": [
    "def convert_celsius_to_fahrenheit(temperatures):\n",
    "    fahrenheit_temps = [(celsius * 9/5) + 32 for celsius in temperatures]\n",
    "    print(\"Temperatures in Fahrenheit:\", fahrenheit_temps)\n",
    "\n",
    "celsius_temperatures = [0, 32, 100]\n",
    "convert_celsius_to_fahrenheit(celsius_temperatures)\n"
   ]
  },
  {
   "cell_type": "markdown",
   "metadata": {},
   "source": [
    "<h2 style='direction:rtl;text-align:right;font-family:samim;'><b>🔸 تمرین ۴</b></h2>"
   ]
  },
  {
   "cell_type": "markdown",
   "metadata": {},
   "source": [
    "<p style='direction:rtl;text-align:right;font-size:18px;font-family:samim;'>\n",
    "مدیریت یک فروشگاه که می‌خواهد بداند کدام محصولات بیش از 100 دلار قیمت دارند. تابعی بنویسید که این محصولات را فیلتر کند.\n",
    "    <br>\n",
    "    <br>\n",
    "    $$\\texttt{items = {\"apple\": 80, \"banana\": 150, \"cherry\": 120}}$$\n",
    "</p>"
   ]
  },
  {
   "cell_type": "code",
   "execution_count": null,
   "metadata": {},
   "outputs": [],
   "source": []
  },
  {
   "cell_type": "markdown",
   "metadata": {
    "tags": []
   },
   "source": [
    "<h4 style='direction:rtl;text-align:right;font-size:18px;font-family:samim;'>راهنمایی</h4>"
   ]
  },
  {
   "cell_type": "markdown",
   "metadata": {
    "tags": []
   },
   "source": [
    "<p style='direction:rtl;text-align:right;font-size:16px;font-family:samim;'>\n",
    " با استفاده از اتریبیوت مناسب هر کلید و مقدار از دیگشنری را انتخاب کنید و شرط را برای مقدار بررسی کنید و در یک دیگشنری جدید نتایج را ذخیره کنید.\n",
    "</p>"
   ]
  },
  {
   "cell_type": "markdown",
   "metadata": {
    "jp-MarkdownHeadingCollapsed": true,
    "tags": []
   },
   "source": [
    "<h4 style='direction:rtl;text-align:right;font-size:18px;font-family:samim;'>جواب</h4>"
   ]
  },
  {
   "cell_type": "code",
   "execution_count": 4,
   "metadata": {
    "tags": []
   },
   "outputs": [
    {
     "name": "stdout",
     "output_type": "stream",
     "text": [
      "Expensive items: {'banana': 150, 'cherry': 120}\n"
     ]
    }
   ],
   "source": [
    "def filter_expensive_items(items):\n",
    "    expensive_items = {item: price for item, price in items.items() if price > 100}\n",
    "    print(\"Expensive items:\", expensive_items)\n",
    "\n",
    "items = {\"apple\": 80, \"banana\": 150, \"cherry\": 120}\n",
    "filter_expensive_items(items)\n"
   ]
  },
  {
   "cell_type": "markdown",
   "metadata": {},
   "source": [
    "<h2 style='direction:rtl;text-align:right;font-family:samim;'><b>🔸 تمرین ۵</b></h2>"
   ]
  },
  {
   "cell_type": "markdown",
   "metadata": {},
   "source": [
    "<p style='direction:rtl;text-align:right;font-size:18px;font-family:samim;line-height:1.5;'>\n",
    "یک سیستم ثبت نام آنلاین طراحی کنید که بررسی کند آیا یک شرکت‌کننده حداقل سن لازم را برای شرکت در دوره دارد یا خیر.\n",
    "<br>\n",
    "    \n",
    "</p>"
   ]
  },
  {
   "cell_type": "code",
   "execution_count": null,
   "metadata": {},
   "outputs": [],
   "source": []
  },
  {
   "cell_type": "markdown",
   "metadata": {
    "tags": []
   },
   "source": [
    "<h4 style='direction:rtl;text-align:right;font-size:18px;font-family:samim;'>راهنمایی</h4>"
   ]
  },
  {
   "cell_type": "markdown",
   "metadata": {
    "tags": []
   },
   "source": [
    "<p style='direction:rtl;text-align:right;font-size:16px;font-family:samim;'>\n",
    "یک تابع تعریف کنید که دو مقدار به ترتیب برای سن متقاضی و شرط سنی را بگیرد و شرط را براساس آن بررسی کند.\n",
    "</p>"
   ]
  },
  {
   "cell_type": "markdown",
   "metadata": {
    "jp-MarkdownHeadingCollapsed": true,
    "tags": []
   },
   "source": [
    "<h4 style='direction:rtl;text-align:right;font-size:18px;font-family:samim;'>جواب</h4>"
   ]
  },
  {
   "cell_type": "code",
   "execution_count": 7,
   "metadata": {
    "tags": []
   },
   "outputs": [
    {
     "name": "stdout",
     "output_type": "stream",
     "text": [
      "Eligible for registration.\n"
     ]
    }
   ],
   "source": [
    "def check_age_requirement(age, minimum_age):\n",
    "    if age >= minimum_age:\n",
    "        print(\"Eligible for registration.\")\n",
    "    else:\n",
    "        print(\"Not eligible for registration.\")\n",
    "\n",
    "age=20\n",
    "minimum_age=18\n",
    "check_age_requirement(age, minimum_age)\n"
   ]
  },
  {
   "cell_type": "markdown",
   "metadata": {},
   "source": [
    "<h2 style='direction:rtl;text-align:right;font-family:samim;'><b>🔸 تمرین ۶</b></h2>"
   ]
  },
  {
   "cell_type": "markdown",
   "metadata": {},
   "source": [
    "<p style='direction:rtl;text-align:right;font-size:18px;font-family:samim;'>\n",
    "تابعی بنویسید که یک لیست از کلمات را بگیرد و برگرداند که هر کلمه چند بار در لیست تکرار شده است.\n",
    "        <br>\n",
    "    <br>\n",
    "    $$\\texttt{[\"apple\", \"banana\", \"apple\", \"cherry\", \"banana\", \"cherry\", \"cherry\"]}$$\n",
    "</p>"
   ]
  },
  {
   "cell_type": "code",
   "execution_count": null,
   "metadata": {},
   "outputs": [],
   "source": []
  },
  {
   "cell_type": "markdown",
   "metadata": {
    "tags": []
   },
   "source": [
    "<h4 style='direction:rtl;text-align:right;font-size:18px;font-family:samim;'>راهنمایی</h4>"
   ]
  },
  {
   "cell_type": "markdown",
   "metadata": {
    "tags": []
   },
   "source": [
    "<p style='direction:rtl;text-align:right;font-size:16px;font-family:samim;'>\n",
    "برای هر کلمه در لیست ، تعداد دفعات تکرار را محاسبه کنید. و نتیجه را در یک دیگشنری قرار دهید. \n",
    "</p>"
   ]
  },
  {
   "cell_type": "markdown",
   "metadata": {
    "jp-MarkdownHeadingCollapsed": true,
    "tags": []
   },
   "source": [
    "<h4 style='direction:rtl;text-align:right;font-size:18px;font-family:samim;'>جواب</h4>"
   ]
  },
  {
   "cell_type": "code",
   "execution_count": 8,
   "metadata": {
    "tags": []
   },
   "outputs": [
    {
     "name": "stdout",
     "output_type": "stream",
     "text": [
      "Word occurrences: {'apple': 2, 'banana': 2, 'cherry': 3}\n"
     ]
    }
   ],
   "source": [
    "def count_word_occurrences(words):\n",
    "    word_count = {}\n",
    "    for word in words:\n",
    "        if word in word_count:\n",
    "            word_count[word] += 1\n",
    "        else:\n",
    "            word_count[word] = 1\n",
    "    print(\"Word occurrences:\", word_count)\n",
    "\n",
    "word_list = [\"apple\", \"banana\", \"apple\", \"cherry\", \"banana\", \"cherry\", \"cherry\"]\n",
    "count_word_occurrences(word_list)\n"
   ]
  },
  {
   "cell_type": "markdown",
   "metadata": {},
   "source": [
    "<h2 style='direction:rtl;text-align:right;font-family:samim;'><b>🔸 تمرین ۷</b></h2>"
   ]
  },
  {
   "cell_type": "markdown",
   "metadata": {},
   "source": [
    "<p style='direction:rtl;text-align:right;font-size:18px;font-family:samim;line-height:1.5;'>\n",
    "تابعی بنویسید که نمرات دانش‌آموزان را بگیرد و برگرداند چه تعداد از آن‌ها قبول شده‌اند (نمره بیشتر از 50).\n",
    "    <br>\n",
    "    <br>\n",
    "    $$\\texttt{student_scores =[55, 45, 70, 30, 90]}$$\n",
    "</p>"
   ]
  },
  {
   "cell_type": "code",
   "execution_count": null,
   "metadata": {},
   "outputs": [],
   "source": []
  },
  {
   "cell_type": "markdown",
   "metadata": {
    "tags": []
   },
   "source": [
    "<h4 style='direction:rtl;text-align:right;font-size:18px;font-family:samim;'>راهنمایی</h4>"
   ]
  },
  {
   "cell_type": "markdown",
   "metadata": {
    "tags": []
   },
   "source": [
    "<p style='direction:rtl;text-align:right;font-size:16px;font-family:samim;'>\n",
    "برای هر نمره در لیست ورودی بررسی کنید که شرط قبولی را دارد یا نه. اگر داشت آن نمره را در یک لیست قرار دهید سپس طول لیست بدست آمده برابر با تعداد نفرات قبول شده خواهد بود\n",
    "</p>"
   ]
  },
  {
   "cell_type": "markdown",
   "metadata": {
    "jp-MarkdownHeadingCollapsed": true,
    "tags": []
   },
   "source": [
    "<h4 style='direction:rtl;text-align:right;font-size:18px;font-family:samim;'>جواب</h4>"
   ]
  },
  {
   "cell_type": "code",
   "execution_count": 9,
   "metadata": {
    "tags": []
   },
   "outputs": [
    {
     "name": "stdout",
     "output_type": "stream",
     "text": [
      "Number of students who passed: 3\n"
     ]
    }
   ],
   "source": [
    "def count_passed_students(scores):\n",
    "    passed = len([score for score in scores if score > 50])\n",
    "    print(\"Number of students who passed:\", passed)\n",
    "\n",
    "student_scores = [55, 45, 70, 30, 90]\n",
    "count_passed_students(student_scores)\n"
   ]
  },
  {
   "cell_type": "markdown",
   "metadata": {},
   "source": [
    "<h2 style='direction:rtl;text-align:right;font-family:samim;'><b>🔸 تمرین ۸</b></h2>"
   ]
  },
  {
   "cell_type": "markdown",
   "metadata": {},
   "source": [
    "<p style='direction:rtl;text-align:right;font-size:18px;font-family:samim;line-height:1.5;'>\n",
    "یک بانک اطلاعاتی از مشتریان و مانده حساب‌های آنها دارید. تابعی بنویسید که بررسی کند کدام مشتریان بیش از 5000 دلار در حساب خود دارند و آنها را چاپ کند.\n",
    "<br>\n",
    "    <br>\n",
    "    $$\\texttt{accounts = {\"Ali\": 4500, \"Mahi\": 6000, \"Nima\": 5000, \"Dara\": 5500}}$$\n",
    "</p>"
   ]
  },
  {
   "cell_type": "code",
   "execution_count": null,
   "metadata": {},
   "outputs": [],
   "source": []
  },
  {
   "cell_type": "markdown",
   "metadata": {
    "tags": []
   },
   "source": [
    "<h4 style='direction:rtl;text-align:right;font-size:18px;font-family:samim;'>راهنمایی</h4>"
   ]
  },
  {
   "cell_type": "markdown",
   "metadata": {
    "tags": []
   },
   "source": [
    "<p style='direction:rtl;text-align:right;font-size:16px;font-family:samim;'>\n",
    "با استفاده از اتریبیوت مناسب هر کلید و مقدار از دیکشنری را انتخاب کنید و شرط را برای مقدار بررسی کنید و در یک دیکشنری جدید نتایج را ذخیره کنید.\n",
    "</p>"
   ]
  },
  {
   "cell_type": "markdown",
   "metadata": {
    "jp-MarkdownHeadingCollapsed": true,
    "tags": []
   },
   "source": [
    "<h4 style='direction:rtl;text-align:right;font-size:18px;font-family:samim;'>جواب</h4>"
   ]
  },
  {
   "cell_type": "code",
   "execution_count": 14,
   "metadata": {
    "tags": []
   },
   "outputs": [
    {
     "name": "stdout",
     "output_type": "stream",
     "text": [
      "Customers with high balances: {'Mahi': 6000, 'Dara': 5500}\n"
     ]
    }
   ],
   "source": [
    "def filter_high_balance_accounts(accounts):\n",
    "    high_balance = {name: balance for name, balance in accounts.items() if balance > 5000}\n",
    "    print(\"Customers with high balances:\", high_balance)\n",
    "\n",
    "accounts = {\"Ali\": 4500, \"Mahi\": 6000, \"Nima\": 5000, \"Dara\": 5500}\n",
    "filter_high_balance_accounts(accounts)\n"
   ]
  },
  {
   "cell_type": "markdown",
   "metadata": {},
   "source": [
    "<h2 style='direction:rtl;text-align:right;font-family:samim;'><b>🔸 تمرین ۹</b></h2>"
   ]
  },
  {
   "cell_type": "markdown",
   "metadata": {},
   "source": [
    "<p style='direction:rtl;text-align:right;font-size:18px;font-family:samim;line-height:1.5;'>\n",
    "  تابعی بنویسید که آرایه‌ای از اعداد را بگیرد و تمام اعداد اول موجود در آن را تشخیص دهد و چاپ کند.\n",
    "    <br>\n",
    "    <br>\n",
    "    $$\\texttt{numbers = [2, 3, 4, 5, 6, 7, 8, 9, 10]}$$\n",
    "</p>"
   ]
  },
  {
   "cell_type": "code",
   "execution_count": null,
   "metadata": {},
   "outputs": [],
   "source": []
  },
  {
   "cell_type": "markdown",
   "metadata": {
    "tags": []
   },
   "source": [
    "<h4 style='direction:rtl;text-align:right;font-size:18px;font-family:samim;'>راهنمایی</h4>"
   ]
  },
  {
   "cell_type": "markdown",
   "metadata": {
    "tags": []
   },
   "source": [
    "<p style='direction:rtl;text-align:right;font-size:16px;font-family:samim;'>\n",
    "ابتدا تابعی بنویسید که برای تشخیص اعداد اول مناسب باشد سپس برای هر عدد در لیست این تابع را اجرا کنید.\n",
    "</p>"
   ]
  },
  {
   "cell_type": "markdown",
   "metadata": {
    "jp-MarkdownHeadingCollapsed": true,
    "tags": []
   },
   "source": [
    "<h4 style='direction:rtl;text-align:right;font-size:18px;font-family:samim;'>جواب</h4>"
   ]
  },
  {
   "cell_type": "code",
   "execution_count": 83,
   "metadata": {
    "tags": []
   },
   "outputs": [
    {
     "name": "stdout",
     "output_type": "stream",
     "text": [
      "Prime numbers: [2, 3, 5, 7]\n"
     ]
    }
   ],
   "source": [
    "def is_prime(num):\n",
    "    if num < 2:\n",
    "        return False\n",
    "    for i in range(2, int(num**0.5) + 1):\n",
    "        if num % i == 0:\n",
    "            return False\n",
    "    return True\n",
    "\n",
    "def filter_primes(numbers):\n",
    "    primes = [num for num in numbers if is_prime(num)]\n",
    "    print(\"Prime numbers:\", primes)\n",
    "\n",
    "numbers = [2, 3, 4, 5, 6, 7, 8, 9, 10]\n",
    "filter_primes(numbers)\n"
   ]
  },
  {
   "cell_type": "markdown",
   "metadata": {},
   "source": [
    "<h2 style='direction:rtl;text-align:right;font-family:samim;'><b>🔸 تمرین ۱۰</b></h2>"
   ]
  },
  {
   "cell_type": "markdown",
   "metadata": {},
   "source": [
    "<p style='direction:rtl;text-align:right;font-size:18px;font-family:samim;line-height:1.5;'>\n",
    " تابعی بنویسید که لیستی از آدرس‌های ایمیل را بگیرد و تمام ایمیل‌هایی که دامنه آن‌ها gmail.com است را فیلتر کند.\n",
    "    <br>\n",
    "    <br>\n",
    "    $$\\texttt{mails=[\"Nraiman@gmail.com\", \"Sara@yahoo.com\", \"Mohammad@gmail.com\", \"Mina@outlook.com\"]}$$\n",
    "    \n",
    "</p>"
   ]
  },
  {
   "cell_type": "code",
   "execution_count": null,
   "metadata": {},
   "outputs": [],
   "source": []
  },
  {
   "cell_type": "markdown",
   "metadata": {
    "tags": []
   },
   "source": [
    "<h4 style='direction:rtl;text-align:right;font-size:18px;font-family:samim;'>راهنمایی</h4>"
   ]
  },
  {
   "cell_type": "markdown",
   "metadata": {
    "tags": []
   },
   "source": [
    "<p style='direction:rtl;text-align:right;font-size:16px;font-family:samim;'>\n",
    "از اتریبیوتی که برای رشته‌ها قبلا گفتیم استفاده کنین تا شرط را بررسی کنید.\n",
    "</p>"
   ]
  },
  {
   "cell_type": "markdown",
   "metadata": {
    "jp-MarkdownHeadingCollapsed": true,
    "tags": []
   },
   "source": [
    "<h4 style='direction:rtl;text-align:right;font-size:18px;font-family:samim;'>جواب</h4>"
   ]
  },
  {
   "cell_type": "code",
   "execution_count": 15,
   "metadata": {
    "tags": []
   },
   "outputs": [
    {
     "name": "stdout",
     "output_type": "stream",
     "text": [
      "Gmail addresses: ['Nraiman@gmail.com', 'Mohammad@gmail.com']\n"
     ]
    }
   ],
   "source": [
    "def filter_gmail_addresses(emails):\n",
    "    gmail_emails = [email for email in emails if email.endswith(\"@gmail.com\")]\n",
    "    print(\"Gmail addresses:\", gmail_emails)\n",
    "\n",
    "emails = [\"Nraiman@gmail.com\", \"Sara@yahoo.com\", \"Mohammad@gmail.com\", \"Mina@outlook.com\"]\n",
    "filter_gmail_addresses(emails)\n"
   ]
  },
  {
   "cell_type": "markdown",
   "metadata": {},
   "source": [
    "<h2 style='direction:rtl;text-align:right;font-family:samim;'><b>🔸 تمرین ۱۱</b></h2>"
   ]
  },
  {
   "cell_type": "markdown",
   "metadata": {},
   "source": [
    "<p style='direction:rtl;text-align:right;font-size:18px;font-family:samim;line-height:1.5;'>\n",
    "تابعی بنویسید که لیستی از اسامی را بگیرد و تعداد اسامی که با حرف 'A' شروع می‌شوند را برگرداند.\n",
    "    <br>\n",
    "    <br>\n",
    "    $$\\texttt{names=['Ali', 'Armin', 'Sajad', 'Elham', 'Asham', 'Neda']}$$ \n",
    "</p>"
   ]
  },
  {
   "cell_type": "code",
   "execution_count": null,
   "metadata": {},
   "outputs": [],
   "source": []
  },
  {
   "cell_type": "markdown",
   "metadata": {
    "tags": []
   },
   "source": [
    "<h4 style='direction:rtl;text-align:right;font-size:18px;font-family:samim;'>راهنمایی</h4>"
   ]
  },
  {
   "cell_type": "markdown",
   "metadata": {
    "tags": []
   },
   "source": [
    "<p style='direction:rtl;text-align:right;font-size:16px;font-family:samim;'>\n",
    "از اتریبیوت مخصوص رشته‌ها استفاده کنید یعنی اتریبیوت startswith\n",
    "</p>"
   ]
  },
  {
   "cell_type": "markdown",
   "metadata": {
    "jp-MarkdownHeadingCollapsed": true,
    "tags": []
   },
   "source": [
    "<h4 style='direction:rtl;text-align:right;font-size:18px;font-family:samim;'>جواب</h4>"
   ]
  },
  {
   "cell_type": "code",
   "execution_count": 16,
   "metadata": {
    "tags": []
   },
   "outputs": [
    {
     "name": "stdout",
     "output_type": "stream",
     "text": [
      "Number of names starting with 'A': 3\n"
     ]
    }
   ],
   "source": [
    "def count_names_starting_with_a(names):\n",
    "    count = len([name for name in names if name.startswith(\"A\")])\n",
    "    print(\"Number of names starting with 'A':\", count)\n",
    "\n",
    "names=['Ali', 'Armin', 'Sajad', 'Elham', 'Asham', 'Neda']\n",
    "count_names_starting_with_a(names)\n"
   ]
  },
  {
   "cell_type": "markdown",
   "metadata": {},
   "source": [
    "<h2 style='direction:rtl;text-align:right;font-family:samim;'><b>🔸 تمرین ۱۲</b></h2>"
   ]
  },
  {
   "cell_type": "markdown",
   "metadata": {},
   "source": [
    "<p style='direction:rtl;text-align:right;font-size:18px;font-family:samim;'>\n",
    "تابعی بنویسید که لیستی از مبالغ فاکتورها را بگیرد و تمام فاکتورهای بیشتر از 100 دلار را با 15% تخفیف محاسبه کند.\n",
    "    <br>\n",
    "    <br>\n",
    "    $$\\texttt{invoices = [110, 50, 150, 200]}$$\n",
    "</p>"
   ]
  },
  {
   "cell_type": "code",
   "execution_count": null,
   "metadata": {},
   "outputs": [],
   "source": []
  },
  {
   "cell_type": "markdown",
   "metadata": {
    "tags": []
   },
   "source": [
    "<h4 style='direction:rtl;text-align:right;font-size:18px;font-family:samim;'>راهنمایی</h4>"
   ]
  },
  {
   "cell_type": "markdown",
   "metadata": {
    "tags": []
   },
   "source": [
    "<p style='direction:rtl;text-align:right;font-size:16px;font-family:samim;'>\n",
    "لیستی از فاکتور را به عنوان ورودی بگیرید سپس برای هر عدد چک کنید که شرط را دارا هست یا نه\n",
    "</p>"
   ]
  },
  {
   "cell_type": "markdown",
   "metadata": {
    "jp-MarkdownHeadingCollapsed": true,
    "tags": []
   },
   "source": [
    "<h4 style='direction:rtl;text-align:right;font-size:18px;font-family:samim;'>جواب</h4>"
   ]
  },
  {
   "cell_type": "code",
   "execution_count": 17,
   "metadata": {
    "tags": []
   },
   "outputs": [
    {
     "name": "stdout",
     "output_type": "stream",
     "text": [
      "Invoices after discount: [93.5, 50, 127.5, 170.0]\n"
     ]
    }
   ],
   "source": [
    "def apply_discount_to_invoices(invoices):\n",
    "    discounted_invoices = [invoice * 0.85 if invoice > 100 else invoice for invoice in invoices]\n",
    "    print(\"Invoices after discount:\", discounted_invoices)\n",
    "\n",
    "invoices = [110, 50, 150, 200]\n",
    "apply_discount_to_invoices(invoices)\n"
   ]
  },
  {
   "cell_type": "markdown",
   "metadata": {},
   "source": [
    "<h2 style='direction:rtl;text-align:right;font-family:samim;'><b>🔸 تمرین ۱۳</b></h2>"
   ]
  },
  {
   "cell_type": "markdown",
   "metadata": {},
   "source": [
    "<p style='direction:rtl;text-align:right;font-size:18px;font-family:samim;line-height:1.5;'>\n",
    "تابعی بنویسید که دو لیست از نمرات را بگیرد و میانگین نمرات هر دو لیست را محاسبه کند.\n",
    "     <br>\n",
    "    <br>\n",
    "    $$\\texttt{scores1 = [85, 90, 88]}$$\n",
    "    $$\\texttt{scores2 = [92, 91, 90]}$$   \n",
    "</p>"
   ]
  },
  {
   "cell_type": "code",
   "execution_count": null,
   "metadata": {},
   "outputs": [],
   "source": []
  },
  {
   "cell_type": "markdown",
   "metadata": {
    "tags": []
   },
   "source": [
    "<h4 style='direction:rtl;text-align:right;font-size:18px;font-family:samim;'>راهنمایی</h4>"
   ]
  },
  {
   "cell_type": "markdown",
   "metadata": {
    "tags": []
   },
   "source": [
    "<p style='direction:rtl;text-align:right;font-size:16px;font-family:samim;'>\n",
    "ابتدا یک تابع برای محاسبه میانگین بنویسید سپس تابعی دیگر بنویسید که ورودی را گرفته و برای هر لیست از ورودی تابع میانگین را اجرا کند.\n",
    "</p>"
   ]
  },
  {
   "cell_type": "markdown",
   "metadata": {
    "jp-MarkdownHeadingCollapsed": true,
    "tags": []
   },
   "source": [
    "<h4 style='direction:rtl;text-align:right;font-size:18px;font-family:samim;'>جواب</h4>"
   ]
  },
  {
   "cell_type": "code",
   "execution_count": 23,
   "metadata": {
    "tags": []
   },
   "outputs": [
    {
     "name": "stdout",
     "output_type": "stream",
     "text": [
      "Average of list_0 is 87.66666666666667\n",
      "Average of list_1 is 91.0\n"
     ]
    }
   ],
   "source": [
    "def avg(scores):\n",
    "    average = sum(scores) / len(scores)\n",
    "    return average \n",
    "    \n",
    "    \n",
    "    \n",
    "def compare_averages(lsts_scores):\n",
    "    for i,lst in enumerate(lsts_scores):\n",
    "        print(f\"Average of list_{i} is {avg(lst)}\")\n",
    "              \n",
    "\n",
    "scores = [85, 90, 88],[92, 91, 90]\n",
    "compare_averages(scores)\n"
   ]
  },
  {
   "cell_type": "markdown",
   "metadata": {},
   "source": [
    "<h2 style='direction:rtl;text-align:right;font-family:samim;'><b>🔸 تمرین ۱۴</b></h2>"
   ]
  },
  {
   "cell_type": "markdown",
   "metadata": {},
   "source": [
    "<p style='direction:rtl;text-align:right;font-size:18px;font-family:samim;line-height:1.5;'>\n",
    "تابعی بنویسید که یک لیست از مختصات جغرافیایی (طول و عرض) را بگیرد و مختصاتی که در نیمکره شمالی قرار دارند (عرض جغرافیایی بیشتر از صفر) را برگرداند.\n",
    "         <br>\n",
    "    <br>\n",
    "    $$\\texttt{coordinates = [(34.0522, -118.2437), (40.7128, -74.0060), (-34.6037, -58.3816)]}$$\n",
    "</p>"
   ]
  },
  {
   "cell_type": "code",
   "execution_count": null,
   "metadata": {},
   "outputs": [],
   "source": []
  },
  {
   "cell_type": "markdown",
   "metadata": {
    "tags": []
   },
   "source": [
    "<h4 style='direction:rtl;text-align:right;font-size:18px;font-family:samim;'>راهنمایی</h4>"
   ]
  },
  {
   "cell_type": "markdown",
   "metadata": {
    "tags": []
   },
   "source": [
    "<p style='direction:rtl;text-align:right;font-size:16px;font-family:samim;'>\n",
    "لیست مختصات را به عنوان ورودی به تابع داده سپس برای هر ایتم که خود یک تاپل هست شرط را بررسی کند.\n",
    "</p>"
   ]
  },
  {
   "cell_type": "markdown",
   "metadata": {
    "jp-MarkdownHeadingCollapsed": true,
    "tags": []
   },
   "source": [
    "<h4 style='direction:rtl;text-align:right;font-size:18px;font-family:samim;'>جواب</h4>"
   ]
  },
  {
   "cell_type": "code",
   "execution_count": 24,
   "metadata": {
    "tags": []
   },
   "outputs": [
    {
     "name": "stdout",
     "output_type": "stream",
     "text": [
      "Coordinates in the Northern Hemisphere: [(34.0522, -118.2437), (40.7128, -74.006)]\n"
     ]
    }
   ],
   "source": [
    "def filter_northern_hemisphere(coordinates):\n",
    "    northern = [coord for coord in coordinates if coord[0] > 0]\n",
    "    print(\"Coordinates in the Northern Hemisphere:\", northern)\n",
    "\n",
    "coordinates = [(34.0522, -118.2437), (40.7128, -74.0060), (-34.6037, -58.3816)]\n",
    "filter_northern_hemisphere(coordinates)\n"
   ]
  },
  {
   "cell_type": "markdown",
   "metadata": {},
   "source": [
    "<h2 style='direction:rtl;text-align:right;font-family:samim;'><b>🔸 تمرین ۱۵</b></h2>"
   ]
  },
  {
   "cell_type": "markdown",
   "metadata": {},
   "source": [
    "<p style='direction:rtl;text-align:right;font-size:18px;font-family:samim;line-height:1.5;'>\n",
    "تابعی بنویسید که یک دیکشنری از کتاب‌ها و نویسندگان آن‌ها را بگیرد و نویسندگانی که بیش از یک کتاب نوشته‌اند را برگرداند.\n",
    "         <br>\n",
    "    <br>\n",
    "    $$\\texttt{books = {\"Book1\": \"Author1\", \"Book2\": \"Author2\", \"Book3\": \"Author1\"}}$$\n",
    "</p>"
   ]
  },
  {
   "cell_type": "code",
   "execution_count": null,
   "metadata": {},
   "outputs": [],
   "source": []
  },
  {
   "cell_type": "markdown",
   "metadata": {
    "tags": []
   },
   "source": [
    "<h4 style='direction:rtl;text-align:right;font-size:18px;font-family:samim;'>راهنمایی</h4>"
   ]
  },
  {
   "cell_type": "markdown",
   "metadata": {
    "tags": []
   },
   "source": [
    "<p style='direction:rtl;text-align:right;font-size:16px;font-family:samim;'>\n",
    " ابتدا دریک دیکشنری جدید برای هر نویسنده تعداد کتاب‌هایش را به عنوان کلید محاسبه کنید. سپس در این دیکشنری جدید بررسی کنید که که هر مقدار برای هر کلید شرط لازم را دارد یا نه. \n",
    "</p>"
   ]
  },
  {
   "cell_type": "markdown",
   "metadata": {
    "jp-MarkdownHeadingCollapsed": true,
    "tags": []
   },
   "source": [
    "<h4 style='direction:rtl;text-align:right;font-size:18px;font-family:samim;'>جواب</h4>"
   ]
  },
  {
   "cell_type": "code",
   "execution_count": 1,
   "metadata": {
    "tags": []
   },
   "outputs": [
    {
     "name": "stdout",
     "output_type": "stream",
     "text": [
      "Authors with multiple books: ['Author1']\n"
     ]
    }
   ],
   "source": [
    "def find_authors_with_multiple_books(books):\n",
    "    author_count = {}\n",
    "    for book, author in books.items():\n",
    "        if author in author_count:\n",
    "            author_count[author] += 1\n",
    "        else:\n",
    "            author_count[author] = 1\n",
    "    multiple_books_authors = [author for author, count in author_count.items() if count > 1]\n",
    "    print(\"Authors with multiple books:\", multiple_books_authors)\n",
    "\n",
    "books = {\"Book1\": \"Author1\", \"Book2\": \"Author2\", \"Book3\": \"Author1\"}\n",
    "find_authors_with_multiple_books(books)\n",
    "\n"
   ]
  },
  {
   "cell_type": "markdown",
   "metadata": {},
   "source": [
    "<h2 style='direction:rtl;text-align:right;font-family:samim;'><b>🔸 تمرین ۱۶*</b></h2>"
   ]
  },
  {
   "cell_type": "markdown",
   "metadata": {},
   "source": [
    "<p style='direction:rtl;text-align:right;font-size:18px;font-family:samim;line-height:1.5;'>\n",
    " تابعی بنویسید که لیستی از اعداد را بگیرد و همه ترکیب‌های ممکن سه عددی که جمع آنها صفر می‌شود را بیابد. \n",
    "</p>"
   ]
  },
  {
   "cell_type": "code",
   "execution_count": null,
   "metadata": {},
   "outputs": [],
   "source": []
  },
  {
   "cell_type": "markdown",
   "metadata": {
    "tags": []
   },
   "source": [
    "<h4 style='direction:rtl;text-align:right;font-size:18px;font-family:samim;'>راهنمایی</h4>"
   ]
  },
  {
   "cell_type": "markdown",
   "metadata": {
    "tags": []
   },
   "source": [
    "<p style='direction:rtl;text-align:right;font-size:16px;font-family:samim;'>\n",
    "توصیه میکنم برای هر این سوال اول روی کاغذ برای خودتان یک لیست تعریف کنید و سپس فکرکنید که وقتی عدد اول از لیست را برمیداری سپس چگونه باید سراغ عدد دوم و در نهایت سراغ عدد سوم رفت. در واقع شما به سه حلقه تو در تو احتیاج دارید.\n",
    "</p>"
   ]
  },
  {
   "cell_type": "markdown",
   "metadata": {
    "jp-MarkdownHeadingCollapsed": true,
    "tags": []
   },
   "source": [
    "<h4 style='direction:rtl;text-align:right;font-size:18px;font-family:samim;'>جواب</h4>"
   ]
  },
  {
   "cell_type": "code",
   "execution_count": 25,
   "metadata": {
    "tags": []
   },
   "outputs": [
    {
     "name": "stdout",
     "output_type": "stream",
     "text": [
      "Zero sum triplets: [(-1, 0, 1), (-1, 2, -1), (0, 1, -1)]\n"
     ]
    }
   ],
   "source": [
    "def find_zero_sum_triplets(numbers):\n",
    "    triplets = [(numbers[i], numbers[j], numbers[k])\n",
    "                for i in range(len(numbers))\n",
    "                for j in range(i + 1, len(numbers))\n",
    "                for k in range(j + 1, len(numbers))\n",
    "                if numbers[i] + numbers[j] + numbers[k] == 0]\n",
    "    print(\"Zero sum triplets:\", triplets)\n",
    "\n",
    "numbers = [-1, 0, 1, 2, -1, -4]\n",
    "find_zero_sum_triplets(numbers)\n"
   ]
  },
  {
   "cell_type": "markdown",
   "metadata": {},
   "source": [
    "<h2 style='direction:rtl;text-align:right;font-family:samim;'><b>🔸 تمرین ۱۷</b></h2>"
   ]
  },
  {
   "cell_type": "markdown",
   "metadata": {},
   "source": [
    "<p style='direction:rtl;text-align:right;font-size:18px;font-family:samim;line-height:1.5;'>\n",
    "  تابعی بنویسید که آرایه‌ای از اعداد را بگیرد و هر عدد را به توان دوم آن برساند، سپس حاصل را به ترتیب نزولی چاپ کند  \n",
    "    \n",
    "</p>"
   ]
  },
  {
   "cell_type": "code",
   "execution_count": null,
   "metadata": {},
   "outputs": [],
   "source": []
  },
  {
   "cell_type": "markdown",
   "metadata": {
    "tags": []
   },
   "source": [
    "<h4 style='direction:rtl;text-align:right;font-size:18px;font-family:samim;'>راهنمایی</h4>"
   ]
  },
  {
   "cell_type": "markdown",
   "metadata": {
    "tags": []
   },
   "source": [
    "<p style='direction:rtl;text-align:right;font-size:16px;font-family:samim;'>\n",
    "ابتدا برای هر عدد درلیست ورودی توان را محاسبه کنید سپس با استفاه از تابع sorted آنرا مرتب کیند.\n",
    "</p>"
   ]
  },
  {
   "cell_type": "markdown",
   "metadata": {
    "jp-MarkdownHeadingCollapsed": true,
    "tags": []
   },
   "source": [
    "<h4 style='direction:rtl;text-align:right;font-size:18px;font-family:samim;'>جواب</h4>"
   ]
  },
  {
   "cell_type": "code",
   "execution_count": 26,
   "metadata": {
    "tags": []
   },
   "outputs": [
    {
     "name": "stdout",
     "output_type": "stream",
     "text": [
      "Squared numbers in descending order: [25, 16, 9, 4, 1]\n"
     ]
    }
   ],
   "source": [
    "def square_numbers_desc(numbers):\n",
    "    squared = [num ** 2 for num in numbers]\n",
    "    print(\"Squared numbers in descending order:\", sorted(squared, reverse=True))\n",
    "\n",
    "numbers = [1, 2, 3, 4, 5]\n",
    "square_numbers_desc(numbers)\n"
   ]
  },
  {
   "cell_type": "markdown",
   "metadata": {},
   "source": [
    "<h2 style='direction:rtl;text-align:right;font-family:samim;'><b>🔸 تمرین ۱۸</b></h2>"
   ]
  },
  {
   "cell_type": "markdown",
   "metadata": {},
   "source": [
    "<p style='direction:rtl;text-align:right;font-size:18px;font-family:samim;line-height:1.5;'>\n",
    "تابعی بنویسید که یک لیست از URL‌ها را بگیرد و دامنه‌های آنها را بررسی کند. لیستی از دامنه‌هایی که با 'www.' شروع می‌شوند را برگرداند.\n",
    "<br>\n",
    "    <br>\n",
    "    $$\\texttt{urls = [\"http://www.example.com\", \"https://www.google.com\", \"http://facebook.com\"]}$$\n",
    "</p>"
   ]
  },
  {
   "cell_type": "code",
   "execution_count": null,
   "metadata": {},
   "outputs": [],
   "source": []
  },
  {
   "cell_type": "markdown",
   "metadata": {
    "tags": []
   },
   "source": [
    "<h4 style='direction:rtl;text-align:right;font-size:18px;font-family:samim;'>راهنمایی</h4>"
   ]
  },
  {
   "cell_type": "markdown",
   "metadata": {
    "tags": []
   },
   "source": [
    "<p style='direction:rtl;text-align:right;font-size:16px;font-family:samim;'>\n",
    "کافی هست بررسی کنید که آیا '.www' در رشته مدنظر وجود دارد یا نه\n",
    "</p>"
   ]
  },
  {
   "cell_type": "markdown",
   "metadata": {
    "jp-MarkdownHeadingCollapsed": true,
    "tags": []
   },
   "source": [
    "<h4 style='direction:rtl;text-align:right;font-size:18px;font-family:samim;'>جواب</h4>"
   ]
  },
  {
   "cell_type": "code",
   "execution_count": 27,
   "metadata": {
    "tags": []
   },
   "outputs": [
    {
     "name": "stdout",
     "output_type": "stream",
     "text": [
      "Domains starting with www: ['http://www.example.com', 'https://www.google.com']\n"
     ]
    }
   ],
   "source": [
    "def filter_domains_with_www(urls):\n",
    "    www_domains = [url for url in urls if \"www.\" in url]\n",
    "    print(\"Domains starting with www:\", www_domains)\n",
    "\n",
    "urls = [\"http://www.example.com\", \"https://www.google.com\", \"http://facebook.com\"]\n",
    "filter_domains_with_www(urls)\n"
   ]
  },
  {
   "cell_type": "markdown",
   "metadata": {},
   "source": [
    "<h2 style='direction:rtl;text-align:right;font-family:samim;'><b>🔸 تمرین ۱۹</b></h2>"
   ]
  },
  {
   "cell_type": "markdown",
   "metadata": {},
   "source": [
    "<p style='direction:rtl;text-align:right;font-size:18px;font-family:samim;line-height:1.5;'>\n",
    "    تابعی بنویسید که دو لیست از اعداد را بگیرد و حاصلضرب متقابل آنها را محاسبه کند (هر عدد از لیست اول ضرب در هر عدد از لیست دوم).\n",
    "</p>"
   ]
  },
  {
   "cell_type": "code",
   "execution_count": null,
   "metadata": {},
   "outputs": [],
   "source": []
  },
  {
   "cell_type": "markdown",
   "metadata": {
    "tags": []
   },
   "source": [
    "<h4 style='direction:rtl;text-align:right;font-size:18px;font-family:samim;'>راهنمایی</h4>"
   ]
  },
  {
   "cell_type": "markdown",
   "metadata": {
    "tags": []
   },
   "source": [
    "<p style='direction:rtl;text-align:right;font-size:16px;font-family:samim;'>\n",
    "برای هر عدد از لیست اول، حاصل ضرب آن عدد را با تک تک المان‌های لیست دوم محاسبه کنید سپس سراغ عدد بعدی از لیست اول بروید.\n",
    "    پس نیاز به دو حلقه تو در تو دارید.\n",
    "</p>"
   ]
  },
  {
   "cell_type": "markdown",
   "metadata": {
    "jp-MarkdownHeadingCollapsed": true,
    "tags": []
   },
   "source": [
    "<h4 style='direction:rtl;text-align:right;font-size:18px;font-family:samim;'>جواب</h4>"
   ]
  },
  {
   "cell_type": "code",
   "execution_count": 28,
   "metadata": {
    "tags": []
   },
   "outputs": [
    {
     "name": "stdout",
     "output_type": "stream",
     "text": [
      "Cross product of two lists: [4, 5, 6, 8, 10, 12, 12, 15, 18]\n"
     ]
    }
   ],
   "source": [
    "def calculate_cross_product(list1, list2):\n",
    "    cross_product = [a * b for a in list1 for b in list2]\n",
    "    print(\"Cross product of two lists:\", cross_product)\n",
    "\n",
    "list1 = [1, 2, 3]\n",
    "list2 = [4, 5, 6]\n",
    "calculate_cross_product(list1, list2)\n"
   ]
  },
  {
   "cell_type": "markdown",
   "metadata": {},
   "source": [
    "<h2 style='direction:rtl;text-align:right;font-family:samim;'><b>🔸 تمرین ۲۰*</b></h2>"
   ]
  },
  {
   "cell_type": "markdown",
   "metadata": {},
   "source": [
    "<p style='direction:rtl;text-align:right;font-size:18px;font-family:samim;line-height:1.5;'>\n",
    "   تابعی بنویسید که لیستی از مختصات (x, y) را بگیرد و محیط چندضلعی تشکیل شده از این نقاط را محاسبه کند.\n",
    "    <br>\n",
    "    <br>\n",
    "    $$\\texttt{coordinates = [(0, 0), (4, 0), (4, 3), (0, 3)]}$$\n",
    "\n",
    "</p>"
   ]
  },
  {
   "cell_type": "code",
   "execution_count": null,
   "metadata": {},
   "outputs": [],
   "source": []
  },
  {
   "cell_type": "markdown",
   "metadata": {
    "tags": []
   },
   "source": [
    "<h4 style='direction:rtl;text-align:right;font-size:18px;font-family:samim;'>راهنمایی</h4>"
   ]
  },
  {
   "cell_type": "markdown",
   "metadata": {
    "tags": []
   },
   "source": [
    "<p style='direction:rtl;text-align:right;font-size:16px;font-family:samim;'>\n",
    " برای محاسبه فاصله بین هر دو نقطه متوالی در لیست مختصات، از فرمول فاصله اقلیدسی استفاده کنید .\n",
    " مطمئن شوید که فاصله بین نقطه آخر و نقطه اول را نیز محاسبه کرده و به محیط اضافه کنید تا چندضلعی بسته شود.\n",
    "</p>"
   ]
  },
  {
   "cell_type": "markdown",
   "metadata": {
    "jp-MarkdownHeadingCollapsed": true,
    "tags": []
   },
   "source": [
    "<h4 style='direction:rtl;text-align:right;font-size:18px;font-family:samim;'>جواب</h4>"
   ]
  },
  {
   "cell_type": "code",
   "execution_count": 84,
   "metadata": {
    "tags": []
   },
   "outputs": [
    {
     "name": "stdout",
     "output_type": "stream",
     "text": [
      "Perimeter of the polygon: 17.0\n"
     ]
    }
   ],
   "source": [
    "def calculate_perimeter(coordinates):\n",
    "    perimeter = sum(((coordinates[i][0] - coordinates[i-1][0])**2 + (coordinates[i][1] - coordinates[i-1][1])**2)**0.5 \n",
    "                    for i in range(len(coordinates)))\n",
    "    perimeter += (((coordinates[0][0] - coordinates[-1][0])**2 + (coordinates[0][1] - coordinates[-1][1])**2)**0.5)\n",
    "    print(\"Perimeter of the polygon:\", perimeter)\n",
    "\n",
    "coordinates = [(0, 0), (4, 0), (4, 3), (0, 3)]\n",
    "calculate_perimeter(coordinates)\n"
   ]
  },
  {
   "cell_type": "markdown",
   "metadata": {},
   "source": [
    "<h2 style='direction:rtl;text-align:right;font-family:samim;'><b>🔸 تمرین ۲۱</b></h2>"
   ]
  },
  {
   "cell_type": "markdown",
   "metadata": {},
   "source": [
    "<p style='direction:rtl;text-align:right;font-size:18px;font-family:samim;line-height:1.5;'>\n",
    "   تابعی بنویسید که یک دیکشنری از کالاها و تعداد آن‌ها را بگیرد و کالاهایی که تعداد آن‌ها کمتر از ۵ است را در یک لیست جدید قرار دهد و آن را چاپ کند.\n",
    "        <br>\n",
    "    <br>\n",
    "    $$\\texttt{items = {\"pens\": 10, \"notebooks\": 4, \"erasers\": 2, \"markers\": 6}}$$\n",
    "\n",
    "</p>"
   ]
  },
  {
   "cell_type": "code",
   "execution_count": null,
   "metadata": {},
   "outputs": [],
   "source": []
  },
  {
   "cell_type": "markdown",
   "metadata": {
    "tags": []
   },
   "source": [
    "<h4 style='direction:rtl;text-align:right;font-size:18px;font-family:samim;'>راهنمایی</h4>"
   ]
  },
  {
   "cell_type": "markdown",
   "metadata": {
    "tags": []
   },
   "source": [
    "<p style='direction:rtl;text-align:right;font-size:16px;font-family:samim;'>\n",
    "از اتریبیوت items. استفاده‌کنید و شرط رو بررسی کنید.\n",
    "</p>"
   ]
  },
  {
   "cell_type": "markdown",
   "metadata": {
    "jp-MarkdownHeadingCollapsed": true,
    "tags": []
   },
   "source": [
    "<h4 style='direction:rtl;text-align:right;font-size:18px;font-family:samim;'>جواب</h4>"
   ]
  },
  {
   "cell_type": "code",
   "execution_count": 30,
   "metadata": {
    "tags": []
   },
   "outputs": [
    {
     "name": "stdout",
     "output_type": "stream",
     "text": [
      "Items with low stock: ['notebooks', 'erasers']\n"
     ]
    }
   ],
   "source": [
    "def filter_low_stock_items(items):\n",
    "    low_stock = [item for item, quantity in items.items() if quantity < 5]\n",
    "    print(\"Items with low stock:\", low_stock)\n",
    "\n",
    "items = {\"pens\": 10, \"notebooks\": 4, \"erasers\": 2, \"markers\": 6}\n",
    "filter_low_stock_items(items)\n"
   ]
  },
  {
   "cell_type": "markdown",
   "metadata": {},
   "source": [
    "<h2 style='direction:rtl;text-align:right;font-family:samim;'><b>🔸 تمرین ۲۲</b></h2>"
   ]
  },
  {
   "cell_type": "markdown",
   "metadata": {},
   "source": [
    "<p style='direction:rtl;text-align:right;font-size:18px;font-family:samim;line-height:1.5;'>\n",
    "   تابعی بنویسید که یک رشته را بگیرد و تمام کاراکترهایی که بیش از یک بار در آن رشته ظاهر شده‌اند را شناسایی و نمایش دهد.\n",
    "</p>"
   ]
  },
  {
   "cell_type": "code",
   "execution_count": null,
   "metadata": {},
   "outputs": [],
   "source": []
  },
  {
   "cell_type": "markdown",
   "metadata": {
    "tags": []
   },
   "source": [
    "<h4 style='direction:rtl;text-align:right;font-size:18px;font-family:samim;'>راهنمایی</h4>"
   ]
  },
  {
   "cell_type": "markdown",
   "metadata": {
    "tags": []
   },
   "source": [
    "<p style='direction:rtl;text-align:right;font-size:16px;font-family:samim;'>\n",
    "از اتریبیوت count. برای شمردن هر کاراکتر در رشته مد نظر استفاده کنید.\n",
    "</p>"
   ]
  },
  {
   "cell_type": "markdown",
   "metadata": {
    "jp-MarkdownHeadingCollapsed": true,
    "tags": []
   },
   "source": [
    "<h4 style='direction:rtl;text-align:right;font-size:18px;font-family:samim;'>جواب</h4>"
   ]
  },
  {
   "cell_type": "code",
   "execution_count": 2,
   "metadata": {
    "tags": []
   },
   "outputs": [
    {
     "name": "stdout",
     "output_type": "stream",
     "text": [
      "Duplicate characters: {'m', 'g', 'r'}\n"
     ]
    }
   ],
   "source": [
    "def find_duplicate_characters(text):\n",
    "    duplicates = {char for char in set(text) if text.count(char) > 1}\n",
    "    print(\"Duplicate characters:\", duplicates)\n",
    "\n",
    "text = \"programming\"\n",
    "find_duplicate_characters(text)\n"
   ]
  },
  {
   "cell_type": "markdown",
   "metadata": {},
   "source": [
    "<h2 style='direction:rtl;text-align:right;font-family:samim;'><b>🔸 تمرین ۲۳</b></h2>"
   ]
  },
  {
   "cell_type": "markdown",
   "metadata": {},
   "source": [
    "<p style='direction:rtl;text-align:right;font-size:18px;font-family:samim;line-height:1.5;'>\n",
    "  یک سیستم نیاز دارید که بتواند اطلاعات متنوع شرکت‌کنندگان در کنفرانس را ثبت کند. برنامه‌ای بنویسید که اطلاعات متفاوتی مانند نام، سن و عنوان شغلی را دریافت کرده و آن‌ها را در یک دیکشنری ذخیره کند. اگر سن شرکت‌کننده بیشتر از ۴۰ سال است، پیام خاصی را چاپ کند.\n",
    "</p>"
   ]
  },
  {
   "cell_type": "code",
   "execution_count": null,
   "metadata": {},
   "outputs": [],
   "source": []
  },
  {
   "cell_type": "markdown",
   "metadata": {
    "tags": []
   },
   "source": [
    "<h4 style='direction:rtl;text-align:right;font-size:18px;font-family:samim;'>راهنمایی</h4>"
   ]
  },
  {
   "cell_type": "markdown",
   "metadata": {
    "tags": []
   },
   "source": [
    "<p style='direction:rtl;text-align:right;font-size:16px;font-family:samim;'>\n",
    "تابع را با **kwargs تعریف کنید تا بتوانید هر تعداد آرگومان کلید-مقدار را به راحتی دریافت و مدیریت کنید.\n",
    " در تابع، بررسی کنید که آیا 'age' بیشتر از ۴۰ است. اگر بله، پیام خاصی چاپ کنید تا نشان دهید شخص واجد شرایط مباحث اختصاصی است.\n",
    "</p>"
   ]
  },
  {
   "cell_type": "markdown",
   "metadata": {
    "jp-MarkdownHeadingCollapsed": true,
    "tags": []
   },
   "source": [
    "<h4 style='direction:rtl;text-align:right;font-size:18px;font-family:samim;'>جواب</h4>"
   ]
  },
  {
   "cell_type": "code",
   "execution_count": 3,
   "metadata": {
    "tags": []
   },
   "outputs": [
    {
     "name": "stdout",
     "output_type": "stream",
     "text": [
      "John Doe is eligible for senior discussions.\n",
      "{'name': 'John Doe', 'age': 45, 'job_title': 'Data Scientist'}\n"
     ]
    }
   ],
   "source": [
    "def register_participant(**details):\n",
    "    participants = {}\n",
    "    participants.update(details)\n",
    "    if 'age' in participants and participants['age'] > 40:\n",
    "        print(f\"{participants.get('name', 'Participant')} is eligible for senior discussions.\")\n",
    "    return participants\n",
    "\n",
    "\n",
    "info = register_participant(name=\"John Doe\", age=45, job_title=\"Data Scientist\")\n",
    "print(info)\n"
   ]
  },
  {
   "cell_type": "markdown",
   "metadata": {},
   "source": [
    "<h2 style='direction:rtl;text-align:right;font-family:samim;'><b>🔸 تمرین ۲۴</b></h2>"
   ]
  },
  {
   "cell_type": "markdown",
   "metadata": {},
   "source": [
    "<p style='direction:rtl;text-align:right;font-size:18px;font-family:samim;line-height:1.5;'>\n",
    "   تابعی بنویسید که یک رشته حاوی کلمات جدا شده توسط فاصله بگیرد و بیشترین تکرار یک کلمه در آن رشته را پیدا کند.\n",
    "</p>"
   ]
  },
  {
   "cell_type": "code",
   "execution_count": null,
   "metadata": {},
   "outputs": [],
   "source": []
  },
  {
   "cell_type": "markdown",
   "metadata": {
    "tags": []
   },
   "source": [
    "<h4 style='direction:rtl;text-align:right;font-size:18px;font-family:samim;'>راهنمایی</h4>"
   ]
  },
  {
   "cell_type": "markdown",
   "metadata": {
    "tags": []
   },
   "source": [
    "<p style='direction:rtl;text-align:right;font-size:16px;font-family:samim;'>\n",
    "برای هر کلمه در رشته مدنظر، تعداد دفعات تکرار را محاسبه کنید سپس بررسی کنید بیشترین تکرار برابر با چه عددی است. آنگاه ببینید تکرار کدام کلمه با این مقدار است \n",
    "</p>"
   ]
  },
  {
   "cell_type": "markdown",
   "metadata": {
    "jp-MarkdownHeadingCollapsed": true,
    "tags": []
   },
   "source": [
    "<h4 style='direction:rtl;text-align:right;font-size:18px;font-family:samim;'>جواب</h4>"
   ]
  },
  {
   "cell_type": "code",
   "execution_count": 14,
   "metadata": {
    "tags": []
   },
   "outputs": [
    {
     "name": "stdout",
     "output_type": "stream",
     "text": [
      "Most frequent word(s): ['test', 'this', 'is', 'a']\n"
     ]
    }
   ],
   "source": [
    "def find_most_frequent_word(text):\n",
    "    words = text.split()\n",
    "    max_frequency = max(words.count(word) for word in set(words))\n",
    "    most_frequent = [word for word in set(words) if words.count(word) == max_frequency]\n",
    "    print(\"Most frequent word(s):\", most_frequent)\n",
    "\n",
    "\n",
    "text = \"this is a test this is only a test\"\n",
    "find_most_frequent_word(text)\n"
   ]
  },
  {
   "cell_type": "markdown",
   "metadata": {},
   "source": [
    "<h2 style='direction:rtl;text-align:right;font-family:samim;'><b>🔸 تمرین ۲۵</b></h2>"
   ]
  },
  {
   "cell_type": "markdown",
   "metadata": {},
   "source": [
    "<p style='direction:rtl;text-align:right;font-size:18px;font-family:samim;line-height:1.5;'>\n",
    "    تابعی بنویسید که لیستی از مختصات x و y نقاط را بگیرد و مرکز جاذبه این نقاط را محاسبه کند.\n",
    "    <br>\n",
    "    <br>\n",
    "    $$\\texttt{points = [(1, 1), (2, 2), (3, 3)]}$$\n",
    "</p>"
   ]
  },
  {
   "cell_type": "code",
   "execution_count": null,
   "metadata": {},
   "outputs": [],
   "source": []
  },
  {
   "cell_type": "markdown",
   "metadata": {
    "tags": []
   },
   "source": [
    "<h4 style='direction:rtl;text-align:right;font-size:18px;font-family:samim;'>راهنمایی</h4>"
   ]
  },
  {
   "cell_type": "markdown",
   "metadata": {
    "tags": []
   },
   "source": [
    "<p style='direction:rtl;text-align:right;font-size:16px;font-family:samim;'>\n",
    "مختصات مرکز جاذبه برابر با میانگین x ها و میانگین y ها است\n",
    "</p>"
   ]
  },
  {
   "cell_type": "markdown",
   "metadata": {
    "jp-MarkdownHeadingCollapsed": true,
    "tags": []
   },
   "source": [
    "<h4 style='direction:rtl;text-align:right;font-size:18px;font-family:samim;'>جواب</h4>"
   ]
  },
  {
   "cell_type": "code",
   "execution_count": 17,
   "metadata": {
    "tags": []
   },
   "outputs": [
    {
     "name": "stdout",
     "output_type": "stream",
     "text": [
      "Centroid of points: (2.0, 2.0)\n"
     ]
    }
   ],
   "source": [
    "def find_centroid(points):\n",
    "    x_mean = sum(x for x, _ in points) / len(points)\n",
    "    y_mean = sum(y for _, y in points) / len(points)\n",
    "    print(\"Centroid of points:\", (x_mean, y_mean))\n",
    "\n",
    "points = [(1, 1), (2, 2), (3, 3)]\n",
    "find_centroid(points)\n"
   ]
  },
  {
   "cell_type": "markdown",
   "metadata": {},
   "source": [
    "<h2 style='direction:rtl;text-align:right;font-family:samim;'><b>🔸 تمرین ۲۶</b></h2>"
   ]
  },
  {
   "cell_type": "markdown",
   "metadata": {},
   "source": [
    "<p style='direction:rtl;text-align:right;font-size:18px;font-family:samim;line-height:1.5;'>\n",
    "    تابعی بنویسید که لیستی از اعداد را بگیرد و اعدادی که در لیست تنها یک بار ظاهر شده‌اند را در یک لیست جدید قرار دهد و برگرداند.\n",
    "</p>"
   ]
  },
  {
   "cell_type": "code",
   "execution_count": null,
   "metadata": {},
   "outputs": [],
   "source": []
  },
  {
   "cell_type": "markdown",
   "metadata": {
    "tags": []
   },
   "source": [
    "<h4 style='direction:rtl;text-align:right;font-size:18px;font-family:samim;'>راهنمایی</h4>"
   ]
  },
  {
   "cell_type": "markdown",
   "metadata": {
    "tags": []
   },
   "source": [
    "<p style='direction:rtl;text-align:right;font-size:16px;font-family:samim;'>\n",
    "از اتریبیوت count. برای بررسی تعداد دفعات تکرار استفاده کنید.\n",
    "</p>"
   ]
  },
  {
   "cell_type": "markdown",
   "metadata": {
    "jp-MarkdownHeadingCollapsed": true,
    "tags": []
   },
   "source": [
    "<h4 style='direction:rtl;text-align:right;font-size:18px;font-family:samim;'>جواب</h4>"
   ]
  },
  {
   "cell_type": "code",
   "execution_count": 5,
   "metadata": {
    "tags": []
   },
   "outputs": [
    {
     "name": "stdout",
     "output_type": "stream",
     "text": [
      "Unique numbers: [1, 3, 5]\n"
     ]
    }
   ],
   "source": [
    "def find_unique_numbers(numbers):\n",
    "    unique = [num for num in numbers if numbers.count(num) == 1]\n",
    "    print(\"Unique numbers:\", unique)\n",
    "\n",
    "numbers_list = [1, 2, 2, 3, 4, 4, 5, 6, 6]\n",
    "find_unique_numbers(numbers_list)\n"
   ]
  },
  {
   "cell_type": "markdown",
   "metadata": {},
   "source": [
    "<h2 style='direction:rtl;text-align:right;font-family:samim;'><b>🔸 تمرین ۲۷</b></h2>"
   ]
  },
  {
   "cell_type": "markdown",
   "metadata": {},
   "source": [
    "<p style='direction:rtl;text-align:right;font-size:18px;font-family:samim;line-height:1.5;'>\n",
    "برنامه‌ای بنویسید که لیستی از سرمایه‌گذاری‌ها را بگیرد و محاسبه کند:\n",
    "    <br>\n",
    "میانگین میزان سرمایه‌گذاری\n",
    "    <br>\n",
    "بیشترین سرمایه‌گذاری انجام شده\n",
    "    <br>\n",
    "کمترین سرمایه‌گذاری انجام شده\n",
    "</p>"
   ]
  },
  {
   "cell_type": "code",
   "execution_count": null,
   "metadata": {},
   "outputs": [],
   "source": []
  },
  {
   "cell_type": "markdown",
   "metadata": {
    "tags": []
   },
   "source": [
    "<h4 style='direction:rtl;text-align:right;font-size:18px;font-family:samim;'>راهنمایی</h4>"
   ]
  },
  {
   "cell_type": "markdown",
   "metadata": {
    "tags": []
   },
   "source": [
    "<p style='direction:rtl;text-align:right;font-size:16px;font-family:samim;'>\n",
    "برای حل این تمرین، استفاده از توابع sum, max, و min را برای محاسبه میانگین، بیشترین، و کمترین مقادیر در لیست ورودی‌ها در نظر بگیرید. \n",
    "<p>"
   ]
  },
  {
   "cell_type": "markdown",
   "metadata": {
    "jp-MarkdownHeadingCollapsed": true,
    "tags": []
   },
   "source": [
    "<h4 style='direction:rtl;text-align:right;font-size:18px;font-family:samim;'>جواب</h4>"
   ]
  },
  {
   "cell_type": "code",
   "execution_count": 1,
   "metadata": {},
   "outputs": [
    {
     "name": "stdout",
     "output_type": "stream",
     "text": [
      "Average Investment: $15,000.00\n",
      "Maximum Investment: $25,000.00\n",
      "Minimum Investment: $5,000.00\n"
     ]
    }
   ],
   "source": [
    "def investment_analysis(*investments):\n",
    "    if not investments:\n",
    "        return \"No data available.\"\n",
    "\n",
    "    average_investment = sum(investments) / len(investments)\n",
    "    max_investment = max(investments)\n",
    "    min_investment = min(investments)\n",
    "    return average_investment, max_investment, min_investment\n",
    "\n",
    "result = investment_analysis(10000, 20000, 15000, 5000, 25000)\n",
    "print(f\"Average Investment: ${result[0]:,.2f}\")\n",
    "print(f\"Maximum Investment: ${result[1]:,.2f}\")\n",
    "print(f\"Minimum Investment: ${result[2]:,.2f}\")\n"
   ]
  },
  {
   "cell_type": "markdown",
   "metadata": {},
   "source": [
    "<h2 style='direction:rtl;text-align:right;font-family:samim;'><b>🔸 تمرین ۲۸</b></h2>"
   ]
  },
  {
   "cell_type": "markdown",
   "metadata": {},
   "source": [
    "<p style='direction:rtl;text-align:right;font-size:18px;font-family:samim;line-height:1.5;'>\n",
    "   تابعی بنویسید که لیستی از زمان‌ها (به دقیقه) برای پروازهای مختلف را بگیرد و پروازهایی که کمتر از میانگین زمان پرواز هستند را شناسایی کند.\n",
    "</p>"
   ]
  },
  {
   "cell_type": "code",
   "execution_count": null,
   "metadata": {},
   "outputs": [],
   "source": []
  },
  {
   "cell_type": "markdown",
   "metadata": {
    "tags": []
   },
   "source": [
    "<h4 style='direction:rtl;text-align:right;font-size:18px;font-family:samim;'>راهنمایی</h4>"
   ]
  },
  {
   "cell_type": "markdown",
   "metadata": {
    "tags": []
   },
   "source": [
    "<p style='direction:rtl;text-align:right;font-size:16px;font-family:samim;'>\n",
    "ابتدا میانگین را محاسبه کنید سپس برای هر عدد در لیست شرط را بررسی کنید.\n",
    "</p>"
   ]
  },
  {
   "cell_type": "markdown",
   "metadata": {
    "jp-MarkdownHeadingCollapsed": true,
    "tags": []
   },
   "source": [
    "<h4 style='direction:rtl;text-align:right;font-size:18px;font-family:samim;'>جواب</h4>"
   ]
  },
  {
   "cell_type": "code",
   "execution_count": 8,
   "metadata": {
    "tags": []
   },
   "outputs": [
    {
     "name": "stdout",
     "output_type": "stream",
     "text": [
      "Flights below average duration: [120, 90, 60]\n"
     ]
    }
   ],
   "source": [
    "def find_flights_below_average(flight_times):\n",
    "    average_time = sum(flight_times) / len(flight_times)\n",
    "    below_average = [time for time in flight_times if time < average_time]\n",
    "    print(\"Flights below average duration:\", below_average)\n",
    "\n",
    "flight_times = [120, 150, 90, 180, 240, 60]\n",
    "find_flights_below_average(flight_times)\n"
   ]
  },
  {
   "cell_type": "markdown",
   "metadata": {},
   "source": [
    "<h2 style='direction:rtl;text-align:right;font-family:samim;'><b>🔸 تمرین ۲۹</b></h2>"
   ]
  },
  {
   "cell_type": "markdown",
   "metadata": {},
   "source": [
    "<p style='direction:rtl;text-align:right;font-size:18px;font-family:samim;line-height:1.5;'>\n",
    "   در یک برنامه کتابخانه دیجیتال، تابعی بنویسید که لیستی از کتاب‌ها را بگیرد و کتاب‌هایی که بیش از 300 صفحه دارند را نمایش دهد.\n",
    "<br>\n",
    "    <br>\n",
    "    $$\\texttt{books_pages = {\"Book1\": 250, \"Book2\": 350, \"Book3\": 150, \"Book4\": 400}}$$\n",
    "</p>"
   ]
  },
  {
   "cell_type": "code",
   "execution_count": null,
   "metadata": {},
   "outputs": [],
   "source": []
  },
  {
   "cell_type": "markdown",
   "metadata": {
    "tags": []
   },
   "source": [
    "<h4 style='direction:rtl;text-align:right;font-size:18px;font-family:samim;'>راهنمایی</h4>"
   ]
  },
  {
   "cell_type": "markdown",
   "metadata": {
    "tags": []
   },
   "source": [
    "<p style='direction:rtl;text-align:right;font-size:16px;font-family:samim;'>\n",
    "دیگه فکرکنم کامل مسلط به این نوع سوال‌ها باشید. کافیه از اتریبیوت مناسب دیکشنری استفاده کنید و شرط را بررسی کنید.\n",
    "</p>"
   ]
  },
  {
   "cell_type": "markdown",
   "metadata": {
    "jp-MarkdownHeadingCollapsed": true,
    "tags": []
   },
   "source": [
    "<h4 style='direction:rtl;text-align:right;font-size:18px;font-family:samim;'>جواب</h4>"
   ]
  },
  {
   "cell_type": "code",
   "execution_count": 9,
   "metadata": {
    "tags": []
   },
   "outputs": [
    {
     "name": "stdout",
     "output_type": "stream",
     "text": [
      "Books with more than 300 pages: {'Book2': 350, 'Book4': 400}\n"
     ]
    }
   ],
   "source": [
    "def filter_long_books(books):\n",
    "    long_books = {book: pages for book, pages in books.items() if pages > 300}\n",
    "    print(\"Books with more than 300 pages:\", long_books)\n",
    "\n",
    "books_pages = {\"Book1\": 250, \"Book2\": 350, \"Book3\": 150, \"Book4\": 400}\n",
    "filter_long_books(books_pages)\n"
   ]
  },
  {
   "cell_type": "markdown",
   "metadata": {},
   "source": [
    "<h2 style='direction:rtl;text-align:right;font-family:samim;'><b>🔸 تمرین ۳۰</b></h2>"
   ]
  },
  {
   "cell_type": "markdown",
   "metadata": {},
   "source": [
    "<p style='direction:rtl;text-align:right;font-size:18px;font-family:samim;line-height:1.5;'>\n",
    "  برای یک پروژه تحقیقاتی، تابعی بنویسید که یک لیست از سن‌ها را بگیرد و گروه‌های سنی (>20, 20-40, <40) را مشخص کند. \n",
    "<br>\n",
    "<br>\n",
    "    $$\\texttt{ages_list = [22, 25, 15, 45, 42, 19, 33, 23]}$$\n",
    "</p>"
   ]
  },
  {
   "cell_type": "code",
   "execution_count": null,
   "metadata": {},
   "outputs": [],
   "source": []
  },
  {
   "cell_type": "markdown",
   "metadata": {
    "tags": []
   },
   "source": [
    "<h4 style='direction:rtl;text-align:right;font-size:18px;font-family:samim;'>راهنمایی</h4>"
   ]
  },
  {
   "cell_type": "markdown",
   "metadata": {
    "tags": []
   },
   "source": [
    "<p style='direction:rtl;text-align:right;font-size:16px;font-family:samim;'>\n",
    "برای هر کدام از گروه‌های سنی یک لیست خالی تعریف کنید. سپس برای هر عدد در ورودی شرط را بررسی کنید و آنرا به لیست مربوط اضافه کنید.\n",
    "</p>"
   ]
  },
  {
   "cell_type": "markdown",
   "metadata": {
    "jp-MarkdownHeadingCollapsed": true,
    "tags": []
   },
   "source": [
    "<h4 style='direction:rtl;text-align:right;font-size:18px;font-family:samim;'>جواب</h4>"
   ]
  },
  {
   "cell_type": "code",
   "execution_count": 10,
   "metadata": {
    "tags": []
   },
   "outputs": [
    {
     "name": "stdout",
     "output_type": "stream",
     "text": [
      "Age groups: {'<20': [15, 19], '20-40': [22, 25, 33, 23], '>40': [45, 42]}\n"
     ]
    }
   ],
   "source": [
    "def categorize_ages(ages):\n",
    "    age_groups = {\"<20\": [], \"20-40\": [], \">40\": []}\n",
    "    for age in ages:\n",
    "        if age < 20:\n",
    "            age_groups[\"<20\"].append(age)\n",
    "        elif 20 <= age <= 40:\n",
    "            age_groups[\"20-40\"].append(age)\n",
    "        else:\n",
    "            age_groups[\">40\"].append(age)\n",
    "    print(\"Age groups:\", age_groups)\n",
    "\n",
    "ages_list = [22, 25, 15, 45, 42, 19, 33, 23]\n",
    "categorize_ages(ages_list)\n"
   ]
  },
  {
   "cell_type": "markdown",
   "metadata": {},
   "source": [
    "<h2 style='direction:rtl;text-align:right;font-family:samim;'><b>🔸 تمرین ۳۱</b></h2>"
   ]
  },
  {
   "cell_type": "markdown",
   "metadata": {},
   "source": [
    "<p style='direction:rtl;text-align:right;font-size:18px;font-family:samim;line-height:1.5;'>\n",
    "   در یک سیستم مدیریت داده‌های آب و هوایی، تابعی بنویسید که داده‌های دمای روزانه را بگیرد و تعداد روزهایی که دما بالاتر از میانگین دمای ماه است را محاسبه کند.\n",
    "</p>"
   ]
  },
  {
   "cell_type": "code",
   "execution_count": null,
   "metadata": {},
   "outputs": [],
   "source": []
  },
  {
   "cell_type": "markdown",
   "metadata": {
    "tags": []
   },
   "source": [
    "<h4 style='direction:rtl;text-align:right;font-size:18px;font-family:samim;'>راهنمایی</h4>"
   ]
  },
  {
   "cell_type": "markdown",
   "metadata": {
    "tags": []
   },
   "source": [
    "<p style='direction:rtl;text-align:right;font-size:16px;font-family:samim;'>\n",
    "ابتدا میانگین دما را محاسبه کنید و سپس برای هر دما شرط را بررسی کنید.\n",
    "</p>"
   ]
  },
  {
   "cell_type": "markdown",
   "metadata": {
    "jp-MarkdownHeadingCollapsed": true,
    "tags": []
   },
   "source": [
    "<h4 style='direction:rtl;text-align:right;font-size:18px;font-family:samim;'>جواب</h4>"
   ]
  },
  {
   "cell_type": "code",
   "execution_count": 11,
   "metadata": {
    "tags": []
   },
   "outputs": [
    {
     "name": "stdout",
     "output_type": "stream",
     "text": [
      "Days with above average temperatures: 6\n"
     ]
    }
   ],
   "source": [
    "def count_above_average_temperatures(temperatures):\n",
    "    average_temp = sum(temperatures) / len(temperatures)\n",
    "    above_avg_days = sum(1 for temp in temperatures if temp > average_temp)\n",
    "    print(\"Days with above average temperatures:\", above_avg_days)\n",
    "\n",
    "daily_temperatures = [15, 16, 15, 14, 17, 18, 16, 15, 17, 16, 14]\n",
    "count_above_average_temperatures(daily_temperatures)\n"
   ]
  },
  {
   "cell_type": "markdown",
   "metadata": {},
   "source": [
    "<h2 style='direction:rtl;text-align:right;font-family:samim;'><b>🔸 تمرین ۳۲</b></h2>"
   ]
  },
  {
   "cell_type": "markdown",
   "metadata": {},
   "source": [
    "<p style='direction:rtl;text-align:right;font-size:18px;font-family:samim;line-height:1.5;'>\n",
    "   برای یک سیستم پردازش تصویر، تابعی بنویسید که لیستی از ابعاد تصاویر را بگیرد و تصاویری که نسبت طول به عرض آن‌ها بیشتر از 1.5 است را بیابد.\n",
    "<br>\n",
    "     $$\\texttt{image_dimensions = [(640, 480), (800, 200), (256, 256)]}$$\n",
    "</p>"
   ]
  },
  {
   "cell_type": "code",
   "execution_count": null,
   "metadata": {},
   "outputs": [],
   "source": []
  },
  {
   "cell_type": "markdown",
   "metadata": {
    "tags": []
   },
   "source": [
    "<h4 style='direction:rtl;text-align:right;font-size:18px;font-family:samim;'>راهنمایی</h4>"
   ]
  },
  {
   "cell_type": "markdown",
   "metadata": {
    "tags": []
   },
   "source": [
    "<p style='direction:rtl;text-align:right;font-size:16px;font-family:samim;'>\n",
    "برای هر تصویر شما یک تاپل از ابعاد را دارید بنابراین با اندیس دهی مناسب نسبت طول به عرض را محاسبه کنید.\n",
    "</p>"
   ]
  },
  {
   "cell_type": "markdown",
   "metadata": {
    "jp-MarkdownHeadingCollapsed": true,
    "tags": []
   },
   "source": [
    "<h4 style='direction:rtl;text-align:right;font-size:18px;font-family:samim;'>جواب</h4>"
   ]
  },
  {
   "cell_type": "code",
   "execution_count": 12,
   "metadata": {
    "tags": []
   },
   "outputs": [
    {
     "name": "stdout",
     "output_type": "stream",
     "text": [
      "Images with wide aspect ratio: [(800, 200)]\n"
     ]
    }
   ],
   "source": [
    "def filter_aspect_ratio(images):\n",
    "    wide_images = [dimensions for dimensions in images if dimensions[0] / dimensions[1] > 1.5]\n",
    "    print(\"Images with wide aspect ratio:\", wide_images)\n",
    "\n",
    "image_dimensions = [(640, 480), (800, 200), (256, 256)]\n",
    "filter_aspect_ratio(image_dimensions)\n"
   ]
  },
  {
   "cell_type": "markdown",
   "metadata": {},
   "source": [
    "<h2 style='direction:rtl;text-align:right;font-family:samim;'><b>🔸 تمرین ۳۳</b></h2>"
   ]
  },
  {
   "cell_type": "markdown",
   "metadata": {},
   "source": [
    "<p style='direction:rtl;text-align:right;font-size:18px;font-family:samim;line-height:1.5;'>\n",
    "   تابعی بنویسید که لیستی از تاریخ‌های انقضاء محصولات را بگیرد و تاریخ‌هایی که منقضی شده‌اند (قبل از امروز) را چاپ کند.\n",
    "</p>"
   ]
  },
  {
   "cell_type": "code",
   "execution_count": null,
   "metadata": {},
   "outputs": [],
   "source": []
  },
  {
   "cell_type": "markdown",
   "metadata": {
    "tags": []
   },
   "source": [
    "<h4 style='direction:rtl;text-align:right;font-size:18px;font-family:samim;'>راهنمایی</h4>"
   ]
  },
  {
   "cell_type": "markdown",
   "metadata": {
    "tags": []
   },
   "source": [
    "<p style='direction:rtl;text-align:right;font-size:16px;font-family:samim;'>\n",
    "ورودی را به صورت لیستی از رشته‌ها در نظر بگیرید یعنی هر المان را مانند \"01-06-2021\" نمایش دهید.\n",
    "    سپس براحتی می‌توانید با عملگر < مقایسه را انجام دهید.\n",
    "</p>"
   ]
  },
  {
   "cell_type": "markdown",
   "metadata": {
    "jp-MarkdownHeadingCollapsed": true,
    "tags": []
   },
   "source": [
    "<h4 style='direction:rtl;text-align:right;font-size:18px;font-family:samim;'>جواب</h4>"
   ]
  },
  {
   "cell_type": "code",
   "execution_count": 13,
   "metadata": {
    "tags": []
   },
   "outputs": [
    {
     "name": "stdout",
     "output_type": "stream",
     "text": [
      "Expired products: ['2021-01-01', '2021-05-05']\n"
     ]
    }
   ],
   "source": [
    "def filter_expired_products(dates):\n",
    "    today = \"2021-06-01\"\n",
    "    expired = [date for date in dates if date < today]\n",
    "    print(\"Expired products:\", expired)\n",
    "\n",
    "expiration_dates = [\"2021-01-01\", \"2021-05-05\", \"2023-01-01\"]\n",
    "filter_expired_products(expiration_dates)\n"
   ]
  },
  {
   "cell_type": "markdown",
   "metadata": {},
   "source": [
    "<h2 style='direction:rtl;text-align:right;font-family:samim;'><b>🔸 تمرین ۳۴</b></h2>"
   ]
  },
  {
   "cell_type": "markdown",
   "metadata": {},
   "source": [
    "<p style='direction:rtl;text-align:right;font-size:18px;font-family:samim;line-height:1.5;'>\n",
    "   تابعی بنویسید که لیستی از اعداد را بگیرد و تمام اعدادی که بر 5 بخش‌پذیر هستند را در یک لیست جدید قرار دهد و آن را چاپ کند.\n",
    "    <br>\n",
    "    <br>\n",
    "    $$\\texttt{numbers_list = [10, 22, 35, 40, 55]}$$\n",
    "</p>"
   ]
  },
  {
   "cell_type": "code",
   "execution_count": null,
   "metadata": {},
   "outputs": [],
   "source": []
  },
  {
   "cell_type": "markdown",
   "metadata": {
    "tags": []
   },
   "source": [
    "<h4 style='direction:rtl;text-align:right;font-size:18px;font-family:samim;'>راهنمایی</h4>"
   ]
  },
  {
   "cell_type": "markdown",
   "metadata": {
    "tags": []
   },
   "source": [
    "<p style='direction:rtl;text-align:right;font-size:16px;font-family:samim;'>\n",
    "هر عدد از لیست ورودی را گرفته و شرط را برای آن مورد بررسی قرار دهید و در صورت درست بودن آن عدد را به لیست جدید اضافه کنید.\n",
    "</p>"
   ]
  },
  {
   "cell_type": "markdown",
   "metadata": {
    "jp-MarkdownHeadingCollapsed": true,
    "tags": []
   },
   "source": [
    "<h4 style='direction:rtl;text-align:right;font-size:18px;font-family:samim;'>جواب</h4>"
   ]
  },
  {
   "cell_type": "code",
   "execution_count": 14,
   "metadata": {
    "tags": []
   },
   "outputs": [
    {
     "name": "stdout",
     "output_type": "stream",
     "text": [
      "Numbers divisible by 5: [10, 35, 40, 55]\n"
     ]
    }
   ],
   "source": [
    "def filter_divisible_by_five(numbers):\n",
    "    divisible = [num for num in numbers if num % 5 == 0]\n",
    "    print(\"Numbers divisible by 5:\", divisible)\n",
    "\n",
    "numbers_list = [10, 22, 35, 40, 55]\n",
    "filter_divisible_by_five(numbers_list)\n"
   ]
  },
  {
   "cell_type": "markdown",
   "metadata": {},
   "source": [
    "<h2 style='direction:rtl;text-align:right;font-family:samim;'><b>🔸 تمرین ۳۵</b></h2>"
   ]
  },
  {
   "cell_type": "markdown",
   "metadata": {},
   "source": [
    "<p style='direction:rtl;text-align:right;font-size:18px;font-family:samim;line-height:1.5;'>\n",
    "   تابعی بنویسید که یک لیست از اعداد را بگیرد و حاصل‌ضرب تمام زوج‌های ممکن اعداد که فرد هستند را چاپ کند.\n",
    "<br>\n",
    "        <br>\n",
    "    $$\\texttt{numbers = [1, 3, 2, 5, 7]}$$\n",
    "</p>"
   ]
  },
  {
   "cell_type": "code",
   "execution_count": null,
   "metadata": {},
   "outputs": [],
   "source": []
  },
  {
   "cell_type": "markdown",
   "metadata": {
    "tags": []
   },
   "source": [
    "<h4 style='direction:rtl;text-align:right;font-size:18px;font-family:samim;'>راهنمایی</h4>"
   ]
  },
  {
   "cell_type": "markdown",
   "metadata": {
    "tags": []
   },
   "source": [
    "<p style='direction:rtl;text-align:right;font-size:16px;font-family:samim;'>\n",
    "نیاز به دوتا حلقه دارید. هر بار یکی از اعداد را انتخاب و حاصلضرب آن را با باقی اعداد موجود در لیست محاسبه کنید.\n",
    "    دقت کنید که دنبال زوج‌های ممکن هستیم پس برای مثال هم می‌توانیم ترکیب (1,3) را داشته باشیم هم ترکیب (3,1)\n",
    "</p>"
   ]
  },
  {
   "cell_type": "markdown",
   "metadata": {
    "jp-MarkdownHeadingCollapsed": true,
    "tags": []
   },
   "source": [
    "<h4 style='direction:rtl;text-align:right;font-size:18px;font-family:samim;'>جواب</h4>"
   ]
  },
  {
   "cell_type": "code",
   "execution_count": 22,
   "metadata": {
    "tags": []
   },
   "outputs": [
    {
     "name": "stdout",
     "output_type": "stream",
     "text": [
      "Product of odd pairs: [3, 5, 7, 3, 15, 21, 5, 15, 35, 7, 21, 35]\n"
     ]
    },
    {
     "data": {
      "text/plain": [
       "[(1, 3),\n",
       " (1, 5),\n",
       " (1, 7),\n",
       " (3, 1),\n",
       " (3, 5),\n",
       " (3, 7),\n",
       " (5, 1),\n",
       " (5, 3),\n",
       " (5, 7),\n",
       " (7, 1),\n",
       " (7, 3),\n",
       " (7, 5)]"
      ]
     },
     "execution_count": 22,
     "metadata": {},
     "output_type": "execute_result"
    }
   ],
   "source": [
    "def product_of_odd_pairs(numbers):\n",
    "    odd_pairs_product = [i * j for i in numbers for j in numbers if i != j and i * j % 2 == 1]\n",
    "    print(\"Product of odd pairs:\", odd_pairs_product)\n",
    "    odd_pairs = [(i , j) for i in numbers for j in numbers if i != j and i * j % 2 == 1]\n",
    "    return odd_pairs\n",
    "\n",
    "numbers = [1, 3, 2, 5, 7]\n",
    "product_of_odd_pairs(numbers)\n"
   ]
  },
  {
   "cell_type": "markdown",
   "metadata": {},
   "source": [
    "<h2 style='direction:rtl;text-align:right;font-family:samim;'><b>🔸 تمرین ۳۶</b></h2>"
   ]
  },
  {
   "cell_type": "markdown",
   "metadata": {},
   "source": [
    "<p style='direction:rtl;text-align:right;font-size:18px;font-family:samim;line-height:1.5;'>\n",
    "   تابعی بنویسید که چک می‌کند یک پسورد قوی هست یا خیر! یک پسورد قوی است اگر:\n",
    " <br>\n",
    "   حداقل ۸ کاراکتر داشته باشد\n",
    " <br>\n",
    "    حداقل یک حرف بزرگ داشته باشد\n",
    "    <br>\n",
    "حداقل یک حرف کوچک داشته باشد\n",
    "    <br>\n",
    " حداقل یک عدد داشته باشد\n",
    "</p>"
   ]
  },
  {
   "cell_type": "code",
   "execution_count": null,
   "metadata": {},
   "outputs": [],
   "source": []
  },
  {
   "cell_type": "markdown",
   "metadata": {
    "tags": []
   },
   "source": [
    "<h4 style='direction:rtl;text-align:right;font-size:18px;font-family:samim;'>راهنمایی</h4>"
   ]
  },
  {
   "cell_type": "markdown",
   "metadata": {
    "tags": []
   },
   "source": [
    "<p style='direction:rtl;text-align:right;font-size:16px;font-family:samim;'>\n",
    "از اتریبیوت‌هایی که در درس رشته‌ها گفتیم حتما استفاده کنید. از تابع any استفاده کنید. اینجوری فکرکنید که اگر شرطی برقرار نباشد باید نتیجه را false اعلام کند و بعد سراغ بررسی شرط بعدی برود.\n",
    "</p>"
   ]
  },
  {
   "cell_type": "markdown",
   "metadata": {
    "jp-MarkdownHeadingCollapsed": true,
    "tags": []
   },
   "source": [
    "<h4 style='direction:rtl;text-align:right;font-size:18px;font-family:samim;'>جواب</h4>"
   ]
  },
  {
   "cell_type": "code",
   "execution_count": 39,
   "metadata": {},
   "outputs": [
    {
     "name": "stdout",
     "output_type": "stream",
     "text": [
      "Is 'Password123' a strong password? True\n",
      "Is 'password123' a strong password? False\n",
      "Is 'PASSWORD123' a strong password? False\n",
      "Is 'Pass123' a strong password? False\n",
      "Is 'password' a strong password? False\n",
      "Is 'PASSWORD' a strong password? False\n",
      "Is 'Pass12' a strong password? False\n",
      "Is '12345678' a strong password? False\n"
     ]
    }
   ],
   "source": [
    "def is_strong_password(password):\n",
    "    if len(password) < 8:\n",
    "        return False\n",
    "    \n",
    "    if not any(char.isupper() for char in password):\n",
    "        return False\n",
    "   \n",
    "    if not any(char.islower() for char in password):\n",
    "        return False\n",
    "\n",
    "    if not any(char.isdigit() for char in password):\n",
    "        return False\n",
    "    return True\n",
    "\n",
    "# مثال برای تست\n",
    "passwords = [\"Password123\", \"password123\", \"PASSWORD123\", \"Pass123\", \"password\", \"PASSWORD\", \"Pass12\", \"12345678\"]\n",
    "for pwd in passwords:\n",
    "    print(f\"Is '{pwd}' a strong password? {is_strong_password(pwd)}\")\n"
   ]
  },
  {
   "cell_type": "markdown",
   "metadata": {},
   "source": [
    "<h2 style='direction:rtl;text-align:right;font-family:samim;'><b>🔸 تمرین ۳۷</b></h2>"
   ]
  },
  {
   "cell_type": "markdown",
   "metadata": {},
   "source": [
    "<p style='direction:rtl;text-align:right;font-size:18px;font-family:samim;line-height:1.5;'>\n",
    "   مبلغ کرایه تاکسی برای هر مسافر عبارت است از ۴ دلار هزینه پایه و ۰.۲۵ دلار به ازای هر ۱۴۰ متر.\n",
    "تابعی بنویسید که مسافت طی شده را به کیلومتر دریافت کرده و کرایه تاکسی را محاسبه کند.\n",
    "</p>"
   ]
  },
  {
   "cell_type": "code",
   "execution_count": null,
   "metadata": {},
   "outputs": [],
   "source": []
  },
  {
   "cell_type": "markdown",
   "metadata": {
    "tags": []
   },
   "source": [
    "<h4 style='direction:rtl;text-align:right;font-size:18px;font-family:samim;'>راهنمایی</h4>"
   ]
  },
  {
   "cell_type": "markdown",
   "metadata": {
    "tags": []
   },
   "source": [
    "<p style='direction:rtl;text-align:right;font-size:16px;font-family:samim;'>\n",
    "از آنجا که هزینه به ازای هر 140 متر محاسبه می‌شود، ابتدا مسافت را به متر تبدیل می‌کنیم. تعداد دفعاتی که 140 متر طی شده است را محاسبه کرده و برای هر بار، 0.25 دلار به هزینه‌های اضافی افزوده می‌شود. هزینه پایه به اضافه هزینه‌های اضافی محاسبه شده، کرایه کل را می‌دهد.\n",
    "</p>"
   ]
  },
  {
   "cell_type": "markdown",
   "metadata": {
    "jp-MarkdownHeadingCollapsed": true,
    "tags": []
   },
   "source": [
    "<h4 style='direction:rtl;text-align:right;font-size:18px;font-family:samim;'>جواب</h4>"
   ]
  },
  {
   "cell_type": "code",
   "execution_count": 1,
   "metadata": {
    "tags": []
   },
   "outputs": [
    {
     "name": "stdout",
     "output_type": "stream",
     "text": [
      "The total taxi fare for 5 kilometers is: $12.93\n"
     ]
    }
   ],
   "source": [
    "def calculate_taxi_fare(distance_km):\n",
    "   \n",
    "    distance_m = distance_km * 1000\n",
    "    \n",
    "    base_fare = 4\n",
    "    \n",
    "    additional_charges = (distance_m / 140) * 0.25\n",
    "    \n",
    "    total_fare = base_fare + additional_charges\n",
    "    \n",
    "    return total_fare\n",
    "\n",
    "fare = calculate_taxi_fare(5)\n",
    "print(f\"The total taxi fare for 5 kilometers is: ${fare:.2f}\")\n"
   ]
  },
  {
   "cell_type": "markdown",
   "metadata": {},
   "source": [
    "<h2 style='direction:rtl;text-align:right;font-family:samim;'><b>🔸 تمرین ۳۸</b></h2>"
   ]
  },
  {
   "cell_type": "markdown",
   "metadata": {},
   "source": [
    "<p style='direction:rtl;text-align:right;font-size:18px;font-family:samim;line-height:1.5;'>\n",
    "تابعی بنویسید که یک رشته را به عنوان ورودی بگیرد و تعداد تمام ترکیبات متفاوت زیررشته‌هایی که می‌توان از حروف آن تشکیل داد و تعداد حروف برابری دارند، را برگرداند.\n",
    "</p>"
   ]
  },
  {
   "cell_type": "code",
   "execution_count": null,
   "metadata": {},
   "outputs": [],
   "source": []
  },
  {
   "cell_type": "markdown",
   "metadata": {
    "tags": []
   },
   "source": [
    "<h4 style='direction:rtl;text-align:right;font-size:18px;font-family:samim;'>راهنمایی</h4>"
   ]
  },
  {
   "cell_type": "markdown",
   "metadata": {
    "tags": []
   },
   "source": [
    "<p style='direction:rtl;text-align:right;font-size:16px;font-family:samim;'>\n",
    "\n",
    "</p>"
   ]
  },
  {
   "cell_type": "markdown",
   "metadata": {
    "jp-MarkdownHeadingCollapsed": true,
    "tags": []
   },
   "source": [
    "<h4 style='direction:rtl;text-align:right;font-size:18px;font-family:samim;'>جواب</h4>"
   ]
  },
  {
   "cell_type": "code",
   "execution_count": 27,
   "metadata": {
    "tags": []
   },
   "outputs": [
    {
     "name": "stdout",
     "output_type": "stream",
     "text": [
      "Number of distinct substrings: 13\n"
     ]
    },
    {
     "data": {
      "text/plain": [
       "{'a',\n",
       " 'aa',\n",
       " 'aab',\n",
       " 'aabb',\n",
       " 'aabbc',\n",
       " 'ab',\n",
       " 'abb',\n",
       " 'abbc',\n",
       " 'b',\n",
       " 'bb',\n",
       " 'bbc',\n",
       " 'bc',\n",
       " 'c'}"
      ]
     },
     "execution_count": 27,
     "metadata": {},
     "output_type": "execute_result"
    }
   ],
   "source": [
    "def count_distinct_substring_combinations(s):\n",
    "    substrings = set()\n",
    "    for i in range(len(s)):\n",
    "        for j in range(i + 1, len(s) + 1):\n",
    "            substring = ''.join(sorted(s[i:j]))\n",
    "            substrings.add(substring)\n",
    "    print(\"Number of distinct substrings:\", len(substrings))\n",
    "    return substrings\n",
    "\n",
    "s = \"aabbc\"\n",
    "count_distinct_substring_combinations(s)\n"
   ]
  },
  {
   "cell_type": "markdown",
   "metadata": {},
   "source": [
    "<h2 style='direction:rtl;text-align:right;font-family:samim;'><b>🔸 تمرین ۳۹</b></h2>"
   ]
  },
  {
   "cell_type": "markdown",
   "metadata": {},
   "source": [
    "<p style='direction:rtl;text-align:right;font-size:18px;font-family:samim;line-height:1.5;'>\n",
    " تابعی بنویسید که آرایه‌ای از اعداد و یک عدد معین 'k' را بگیرد و تعداد زوج‌های اعداد که تفاوت آن‌ها برابر 'k' است را چاپ کند.\n",
    "</p>"
   ]
  },
  {
   "cell_type": "code",
   "execution_count": null,
   "metadata": {},
   "outputs": [],
   "source": []
  },
  {
   "cell_type": "markdown",
   "metadata": {
    "tags": []
   },
   "source": [
    "<h4 style='direction:rtl;text-align:right;font-size:18px;font-family:samim;'>راهنمایی</h4>"
   ]
  },
  {
   "cell_type": "markdown",
   "metadata": {
    "tags": []
   },
   "source": [
    "<p style='direction:rtl;text-align:right;font-size:16px;font-family:samim;'>\n",
    "برای هر x در ورودی بررسی کنید که آیا  y  ای در لیست وجود دارد که  x+k = y باشد.\n",
    "</p>"
   ]
  },
  {
   "cell_type": "markdown",
   "metadata": {
    "jp-MarkdownHeadingCollapsed": true,
    "tags": []
   },
   "source": [
    "<h4 style='direction:rtl;text-align:right;font-size:18px;font-family:samim;'>جواب</h4>"
   ]
  },
  {
   "cell_type": "code",
   "execution_count": 25,
   "metadata": {
    "tags": []
   },
   "outputs": [
    {
     "name": "stdout",
     "output_type": "stream",
     "text": [
      "Number of pairs with difference 2 : 3\n"
     ]
    },
    {
     "data": {
      "text/plain": [
       "[(1, 3), (3, 5), (2, 4)]"
      ]
     },
     "execution_count": 25,
     "metadata": {},
     "output_type": "execute_result"
    }
   ],
   "source": [
    "def count_pairs_with_difference(numbers, k):\n",
    "    count = 0\n",
    "    lst = []\n",
    "    numbers_set = set(numbers)\n",
    "    for num in numbers:\n",
    "        if num + k in numbers_set:\n",
    "            count += 1\n",
    "            lst.append((num,num+k))\n",
    "            \n",
    "    print(\"Number of pairs with difference\", k, \":\", count)\n",
    "    return lst\n",
    "\n",
    "numbers = [1, 5, 3, 4, 2]\n",
    "k = 2\n",
    "count_pairs_with_difference(numbers, k)\n"
   ]
  },
  {
   "cell_type": "markdown",
   "metadata": {},
   "source": [
    "<h2 style='direction:rtl;text-align:right;font-family:samim;'><b>🔸 تمرین ۴۰</b></h2>"
   ]
  },
  {
   "cell_type": "markdown",
   "metadata": {},
   "source": [
    "<p style='direction:rtl;text-align:right;font-size:18px;font-family:samim;line-height:1.5;'>\n",
    "تابعی بنویسید که یک لیست از کلمات را بگیرد و  اولین کلمه‌ای را برگرداند که بیشترین تعداد حروف مشترک با بقیه کلمات را دارد.\n",
    "<br>\n",
    "    <br>\n",
    "    $$\\texttt{words = [\"apple\", \"banana\", \"cherry\", \"date\"]}$$\n",
    "</p>"
   ]
  },
  {
   "cell_type": "code",
   "execution_count": null,
   "metadata": {},
   "outputs": [],
   "source": []
  },
  {
   "cell_type": "markdown",
   "metadata": {
    "tags": []
   },
   "source": [
    "<h4 style='direction:rtl;text-align:right;font-size:18px;font-family:samim;'>راهنمایی</h4>"
   ]
  },
  {
   "cell_type": "markdown",
   "metadata": {
    "tags": []
   },
   "source": [
    "<p style='direction:rtl;text-align:right;font-size:16px;font-family:samim;'>\n",
    "محاسبه تکرار حروف: برای هر کلمه در لیست، مجموع بیشترین تعداد تکرار هر حرف در بقیه کلمات را محاسبه کنید؛ این کار را با مقایسه هر حرف در کلمه فعلی با تعداد تکرار آن در هر کلمه دیگر انجام دهید.\n",
    "انتخاب کلمه با بیشترین تعداد تکرار مشترک: کلمه‌ای که بالاترین مجموع تکرار حروف مشترک را دارد را به عنوان پاسخ نهایی انتخاب کنید.\n",
    "</p>"
   ]
  },
  {
   "cell_type": "markdown",
   "metadata": {
    "jp-MarkdownHeadingCollapsed": true,
    "tags": []
   },
   "source": [
    "<h4 style='direction:rtl;text-align:right;font-size:18px;font-family:samim;'>جواب</h4>"
   ]
  },
  {
   "cell_type": "code",
   "execution_count": 23,
   "metadata": {
    "tags": []
   },
   "outputs": [
    {
     "name": "stdout",
     "output_type": "stream",
     "text": [
      "Word with the most common letters: banana\n"
     ]
    }
   ],
   "source": [
    "def most_common_letters_word(words):\n",
    "    max_common = 0\n",
    "    result_word = \"\"\n",
    "    for word in words:\n",
    "        common_letters = sum(max(word.count(char), other.count(char)) for other in words if other != word \n",
    "                             for char in set(word))\n",
    "        if common_letters > max_common:\n",
    "            max_common = common_letters\n",
    "            result_word = word\n",
    "    print(\"Word with the most common letters:\", result_word)\n",
    "\n",
    "words = [\"apple\", \"banana\", \"cherry\", \"date\"]\n",
    "most_common_letters_word(words)\n"
   ]
  },
  {
   "cell_type": "markdown",
   "metadata": {},
   "source": [
    "<h2 style='direction:rtl;text-align:right;font-family:samim;'><b>🔸 تمرین ۴۱*</b></h2>"
   ]
  },
  {
   "cell_type": "markdown",
   "metadata": {},
   "source": [
    "<p style='direction:rtl;text-align:right;font-size:18px;font-family:samim;line-height:1.5;'>\n",
    " برنامه‌ای بنویسید که اطلاعات رزرواسیون هتل را بگیرد و در صورت عدم در دسترس بودن اتاق، پیام مناسبی برگرداند.\n",
    "</p>"
   ]
  },
  {
   "cell_type": "code",
   "execution_count": null,
   "metadata": {},
   "outputs": [],
   "source": []
  },
  {
   "cell_type": "markdown",
   "metadata": {
    "tags": []
   },
   "source": [
    "<h4 style='direction:rtl;text-align:right;font-size:18px;font-family:samim;'>راهنمایی</h4>"
   ]
  },
  {
   "cell_type": "markdown",
   "metadata": {
    "tags": []
   },
   "source": [
    "<p style='direction:rtl;text-align:right;font-size:16px;font-family:samim;'>\n",
    "     تابعی تعریف کنید که اطلاعات رزرو اتاق را به همراه دیکشنری حاوی تعداد اتاق‌های موجود دریافت کند.داخل تابع، ابتدا بررسی کنید که آیا اتاق مورد نظر در دیکشنری موجود است و تعداد آن بیشتر از صفر است یا خیر.اگر اتاق موجود بود، تعداد آن نوع اتاق را در دیکشنری کاهش دهید و پیام رزرو موفقیت‌آمیز را بازگردانید. در غیر این صورت، پیامی مبنی بر عدم موجودیت اتاق بازگردانید.\n",
    "</p>"
   ]
  },
  {
   "cell_type": "markdown",
   "metadata": {
    "jp-MarkdownHeadingCollapsed": true,
    "tags": []
   },
   "source": [
    "<h4 style='direction:rtl;text-align:right;font-size:18px;font-family:samim;'>جواب</h4>"
   ]
  },
  {
   "cell_type": "code",
   "execution_count": 21,
   "metadata": {
    "tags": []
   },
   "outputs": [
    {
     "name": "stdout",
     "output_type": "stream",
     "text": [
      "Reservation successful for John Doe in a double room.\n",
      "Reservation successful for Alice Smith in a double room.\n",
      "Room not available.\n"
     ]
    }
   ],
   "source": [
    "def hotel_reservation(rooms_available, name, check_in, check_out, room_type):\n",
    "   \n",
    "    if rooms_available.get(room_type, 0) > 0:\n",
    "        \n",
    "        rooms_available[room_type] -= 1\n",
    "        return f\"Reservation successful for {name} in a {room_type} room.\"\n",
    "    else:\n",
    "        \n",
    "        return \"Room not available.\"\n",
    "\n",
    "# دیکشنری اولیه برای نگهداری تعداد اتاق‌های موجود\n",
    "rooms = {\n",
    "    'single': 5,\n",
    "    'double': 2,  \n",
    "    'suite': 2\n",
    "}\n",
    "\n",
    "# استفاده از تابع با اطلاعات ورودی برای نفر اول\n",
    "result1 = hotel_reservation(rooms, \"John Doe\", \"2022-10-01\", \"2022-10-05\", \"double\")\n",
    "print(result1) \n",
    "\n",
    "# استفاده از تابع برای نفر دوم\n",
    "result2 = hotel_reservation(rooms, \"Alice Smith\", \"2022-10-06\", \"2022-10-10\", \"double\")\n",
    "print(result2)  \n",
    "\n",
    "# استفاده از تابع برای نفر سوم\n",
    "result3 = hotel_reservation(rooms, \"Bob Brown\", \"2022-10-11\", \"2022-10-15\", \"double\")\n",
    "print(result3) \n"
   ]
  },
  {
   "cell_type": "markdown",
   "metadata": {},
   "source": [
    "<h2 style='direction:rtl;text-align:right;font-family:samim;'><b>🔸 تمرین ۴۲</b></h2>"
   ]
  },
  {
   "cell_type": "markdown",
   "metadata": {},
   "source": [
    "<p style='direction:rtl;text-align:right;font-size:18px;font-family:samim;line-height:1.5;'>\n",
    "نیاز به یک سیستم دارید که تحلیل‌های ترافیکی انجام دهد. برنامه‌ای بنویسید که تعداد خودروها، مدت زمان توقف و سرعت متوسط را بگیرد و یک تحلیل کلی ارائه دهد.\n",
    "محاسبه تراکم ترافیکی: تراکم ترافیک (traffic_density) با تقسیم تعداد کل خودروها بر سرعت متوسط محاسبه می‌شود. این متریک به ما می‌گوید که به طور متوسط چند خودرو در حال حرکت در واحد سرعت وجود دارد.\n",
    "محاسبه متوسط زمان توقف: متوسط زمان توقف (average_stop_time) با تقسیم مجموع زمان توقف تمام خودروها بر تعداد کل خودروها محاسبه می‌شود. این نشان‌دهنده زمان توقف متوسط هر خودرو است\n",
    "</p>"
   ]
  },
  {
   "cell_type": "code",
   "execution_count": null,
   "metadata": {},
   "outputs": [],
   "source": []
  },
  {
   "cell_type": "markdown",
   "metadata": {
    "tags": []
   },
   "source": [
    "<h4 style='direction:rtl;text-align:right;font-size:18px;font-family:samim;'>راهنمایی</h4>"
   ]
  },
  {
   "cell_type": "markdown",
   "metadata": {
    "tags": []
   },
   "source": [
    "<p style='direction:rtl;text-align:right;font-size:16px;font-family:samim;'>\n",
    "    از تابعی استفاده کنید که پارامترهای مربوط به تعداد خودروها، مجموع زمان توقف و سرعت متوسط را دریافت کند و سپس تراکم ترافیک و متوسط زمان توقف را محاسبه کنید.\n",
    "</p>"
   ]
  },
  {
   "cell_type": "markdown",
   "metadata": {
    "jp-MarkdownHeadingCollapsed": true,
    "tags": []
   },
   "source": [
    "<h4 style='direction:rtl;text-align:right;font-size:18px;font-family:samim;'>جواب</h4>"
   ]
  },
  {
   "cell_type": "code",
   "execution_count": 23,
   "metadata": {
    "tags": []
   },
   "outputs": [
    {
     "name": "stdout",
     "output_type": "stream",
     "text": [
      "Traffic Density: 2.5\n",
      "Average Stop Time: 0.5\n"
     ]
    }
   ],
   "source": [
    "def traffic_analysis(*data):\n",
    "    total_cars, total_stop_time, average_speed = data\n",
    "    if total_cars == 0:\n",
    "        return \"No cars to analyze.\", \"No stop time to calculate.\"\n",
    "    traffic_density = total_cars / average_speed\n",
    "    average_stop_time = total_stop_time / total_cars\n",
    "    return traffic_density, average_stop_time\n",
    "\n",
    "result = traffic_analysis(100, 50, 40)\n",
    "print(\"Traffic Density:\", result[0])\n",
    "print(\"Average Stop Time:\", result[1])\n"
   ]
  },
  {
   "cell_type": "markdown",
   "metadata": {},
   "source": [
    "<h2 style='direction:rtl;text-align:right;font-family:samim;'><b>🔸 تمرین ۴۳</b></h2>"
   ]
  },
  {
   "cell_type": "markdown",
   "metadata": {},
   "source": [
    "<p style='direction:rtl;text-align:right;font-size:18px;font-family:samim;line-height:1.5;'>\n",
    "نیاز به یک برنامه دارید که لیستی از قیمت‌ها را بگیرد و میانگین، بیشترین و کمترین قیمت فروش را حساب کند. برنامه‌ای بنویسید که این کار را انجام دهد.\n",
    "</p>"
   ]
  },
  {
   "cell_type": "code",
   "execution_count": null,
   "metadata": {},
   "outputs": [],
   "source": []
  },
  {
   "cell_type": "markdown",
   "metadata": {
    "tags": []
   },
   "source": [
    "<h4 style='direction:rtl;text-align:right;font-size:18px;font-family:samim;'>راهنمایی</h4>"
   ]
  },
  {
   "cell_type": "markdown",
   "metadata": {
    "tags": []
   },
   "source": [
    "<p style='direction:rtl;text-align:right;font-size:16px;font-family:samim;'>\n",
    "    از prices* برای دریافت لیست نامحدودی از قیمت‌ها استفاده کنید.\n",
    "</p>"
   ]
  },
  {
   "cell_type": "markdown",
   "metadata": {
    "jp-MarkdownHeadingCollapsed": true,
    "tags": []
   },
   "source": [
    "<h4 style='direction:rtl;text-align:right;font-size:18px;font-family:samim;'>جواب</h4>"
   ]
  },
  {
   "cell_type": "code",
   "execution_count": 24,
   "metadata": {
    "tags": []
   },
   "outputs": [
    {
     "name": "stdout",
     "output_type": "stream",
     "text": [
      "Average Price: 200.0\n",
      "Max Price: 300\n",
      "Min Price: 100\n"
     ]
    }
   ],
   "source": [
    "def analyze_prices(*prices):\n",
    "    average_price = sum(prices) / len(prices)\n",
    "    max_price = max(prices)\n",
    "    min_price = min(prices)\n",
    "    return average_price, max_price, min_price\n",
    "\n",
    "prices_info = analyze_prices(100, 200, 150, 300, 250)\n",
    "print(f\"Average Price: {prices_info[0]}\")\n",
    "print(f\"Max Price: {prices_info[1]}\")\n",
    "print(f\"Min Price: {prices_info[2]}\")\n"
   ]
  }
 ],
 "metadata": {
  "kernelspec": {
   "display_name": "Python 3 (ipykernel)",
   "language": "python",
   "name": "python3"
  },
  "language_info": {
   "codemirror_mode": {
    "name": "ipython",
    "version": 3
   },
   "file_extension": ".py",
   "mimetype": "text/x-python",
   "name": "python",
   "nbconvert_exporter": "python",
   "pygments_lexer": "ipython3",
   "version": "3.9.12"
  }
 },
 "nbformat": 4,
 "nbformat_minor": 4
}
