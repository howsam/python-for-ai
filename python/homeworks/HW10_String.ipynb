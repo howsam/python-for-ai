{
 "cells": [
  {
   "cell_type": "markdown",
   "metadata": {},
   "source": [
    "<div style=\"text-align:center; font-family:samim; font-size:30px;\"><strong> آشنایی با رشته‌ها</strong></div>   \n",
    "<br>\n",
    "<p style=\"text-align:center; font-family:samim; font-size:20px;\">تمرین سری دهم</p> \n",
    "<br>\n",
    "</p>"
   ]
  },
  {
   "cell_type": "markdown",
   "metadata": {},
   "source": [
    "<p style='direction:rtl;text-align:right;font-size:17px;font-family:samim;line-height:1.5;'>\n",
    "    در این سلسله تمرین‌های آموزشی \"پایتون برای هوش مصنوعی با هوسم\"، ما از شما دعوت می‌کنیم که با یک روند گام به گام، به تدریج پیشرفت کنید. این مسیر ممکن است زمان‌بر باشد، پس صبور باشید و به راهنمایی‌ها و راهکارهایی که از تجربه ما در ارتباط با دانشجویان مختلف بدست آمده است، اعتماد کنید. برای حل مسائل، لطفا به نکات زیر توجه کنید. امیدواریم شاهد پیشرفت‌های شما در این مسیر باشیم. موفق و پیروز باشید!\n",
    "    </p>\n",
    "<br>\n",
    "<div style=\"font-family: samim; font-size: 14px; text-align: right; direction: rtl;\">\n",
    "    <strong>فونت صمیم:</strong> برای مشاهده بهتر توضیحات فارسی، پیشنهاد می‌شود فونت رایگان صمیم را روی سیستم شخصی خود نصب کنید. <a href=\"https://www.fontyab.com/5024/%D9%81%D9%88%D9%86%D8%AA-%D9%81%D8%A7%D8%B1%D8%B3%DB%8C-%D8%B5%D9%85%DB%8C%D9%85.html\">لینک دانلود فونت صمیم</a>\n",
    "    <br>\n",
    "    <br>\n",
    "    <strong>نحوه مشاهده تمرین‌ها:</strong> هر تمرین شامل سه بخش سوال، راهنمایی و جواب هست. راهنمایی و جواب مینیمایز شده است. بهتر هست از Jupyter Lab برای مشاهده درست نوتبوک‌ها و سلول‌ها استفاده شود.\n",
    "    <br>\n",
    "    <br>\n",
    "    <strong>تمرکز بر روی مسئله:</strong> قبل از هر چیز، هر سوال را دقیق بخوانید و به آن فکر کنید. این اولین گام برای حل مسئله است.\n",
    "    <br>\n",
    "    <br>\n",
    "    <strong>استفاده از کاغذ:</strong> اگر نیاز بود، فلوچارت حل مساله را روی کاغذ  بنویسید و به آن فکر کنید. بسیاری اوقات، این کار می‌تواند به روشن شدن مساله و حل بهتر آن کمک کند.\n",
    "    <br>\n",
    "    <br>\n",
    "    <strong>شروع به کدنویسی:</strong> دست روی کیبورد و کدنویسی را فراموش نکنید! برای تسلط بر پایتون، نیاز هست تمرین‌های زیادی را کد بزنید.\n",
    "    <br>\n",
    "    <br>\n",
    "    <strong>استفاده متناسب از منابع:</strong> سعی کنید بدون استفاده از ابزارهای کمکی نظیر ChatGPT یا اینترنت، مسئله‌ها را حل کنید. دراینصورت، قدرت حل مساله در مغز شما تقویت می‌شود.\n",
    "    <br>\n",
    "    <br>\n",
    "    <strong>راهنمایی و ارزیابی:</strong> اگر پس از تلاش، به نتیجه نرسیدید، راهنمایی‌های ارائه شده را مطالعه کرده و دوباره به حل مساله بپردازید. اگر بعد از چند ساعت تلاش برای یک مساله، نتواستید، آنگاه جواب مساله را نگاه کنید.\n",
    "    <br>\n",
    "    <br>\n",
    "    <strong>مبتنی بر محتوا:</strong> سعی کنید با توجه به مباحثی که در ویدیو آموزش هر فصل آموخته‌اید، به سوالات پاسخ دهید و از دستورات جدید خودداری کنید. این به شما کمک می‌کند تا گام به گام و با پیشرفت مرحله‌ای، مسائل را حل کنید.\n",
    "    <br>\n",
    "    <br>\n",
    "    <strong>متنوع بودن راه‌حل‌ها:</strong> به یاد داشته باشید که برای هر سوال، روش‌های مختلفی وجود دارد. راه‌حل ارائه شده فقط یکی از راه‌حل‌های ممکن است و ممکن هست جواب شما هم درست باشد.\n",
    "</div>\n"
   ]
  },
  {
   "cell_type": "markdown",
   "metadata": {},
   "source": [
    "<h2 style='direction:rtl;text-align:right;font-family:samim;'><b>🔸 تمرین ۱</b></h2>"
   ]
  },
  {
   "cell_type": "markdown",
   "metadata": {},
   "source": [
    "<p style='direction:rtl;text-align:right;font-size:18px;font-family:samim;'>\n",
    "     کدی بنویسید که همه زیررشته‌های رشته  s را پیدا کرده و به صورت یک لیست برگرداند.\n",
    "    <br>\n",
    "    <br>\n",
    "    $$\\texttt{s = \"abc\"}$$\n",
    "</p>"
   ]
  },
  {
   "cell_type": "code",
   "execution_count": null,
   "metadata": {},
   "outputs": [],
   "source": []
  },
  {
   "cell_type": "markdown",
   "metadata": {
    "tags": []
   },
   "source": [
    "<h4 style='direction:rtl;text-align:right;font-size:18px;font-family:samim;'>راهنمایی</h4>"
   ]
  },
  {
   "cell_type": "markdown",
   "metadata": {
    "tags": []
   },
   "source": [
    "<p style='direction:rtl;text-align:right;font-size:16px;font-family:samim;'>\n",
    "از دو حلقه تو در تو استفاده کنید که اولی از ابتدای رشته شروع شده و دومی زیررشته‌های ممکن از هر نقطه شروع تا انتهای رشته را بسازد.\n",
    "</p>"
   ]
  },
  {
   "cell_type": "markdown",
   "metadata": {
    "jp-MarkdownHeadingCollapsed": true,
    "tags": []
   },
   "source": [
    "<h4 style='direction:rtl;text-align:right;font-size:18px;font-family:samim;'>جواب</h4>"
   ]
  },
  {
   "cell_type": "code",
   "execution_count": 38,
   "metadata": {
    "tags": []
   },
   "outputs": [
    {
     "name": "stdout",
     "output_type": "stream",
     "text": [
      "['a', 'ab', 'abc', 'b', 'bc', 'c']\n"
     ]
    }
   ],
   "source": [
    "s = \"abc\"\n",
    "\n",
    "substrings = [s[i:j] for i in range(len(s)) for j in range(i + 1, len(s) + 1)]\n",
    "\n",
    "print(substrings)"
   ]
  },
  {
   "cell_type": "markdown",
   "metadata": {},
   "source": [
    "<h2 style='direction:rtl;text-align:right;font-family:samim;'><b>🔸 تمرین ۲</b></h2>"
   ]
  },
  {
   "cell_type": "markdown",
   "metadata": {},
   "source": [
    "<p style='direction:rtl;text-align:right;font-size:18px;font-family:samim;'>\n",
    "کدی بنویسید که یک رشته را به صورت کلمه به کلمه معکوس کند.\n",
    "</p>"
   ]
  },
  {
   "cell_type": "code",
   "execution_count": null,
   "metadata": {},
   "outputs": [],
   "source": []
  },
  {
   "cell_type": "markdown",
   "metadata": {
    "tags": []
   },
   "source": [
    "<h4 style='direction:rtl;text-align:right;font-size:18px;font-family:samim;'>راهنمایی</h4>"
   ]
  },
  {
   "cell_type": "markdown",
   "metadata": {
    "tags": []
   },
   "source": [
    "<p style='direction:rtl;text-align:right;font-size:16px;font-family:samim;'>\n",
    "شما می‌توانید ابتدا رشته را به کلمات تقسیم کنید، سپس ترتیب کلمات را معکوس نمایید و در نهایت کلمات را دوباره به هم متصل کنید تا رشته جدیدی تولید شود.\n",
    "</p>"
   ]
  },
  {
   "cell_type": "markdown",
   "metadata": {
    "jp-MarkdownHeadingCollapsed": true,
    "tags": []
   },
   "source": [
    "<h4 style='direction:rtl;text-align:right;font-size:18px;font-family:samim;'>جواب</h4>"
   ]
  },
  {
   "cell_type": "code",
   "execution_count": 39,
   "metadata": {
    "tags": []
   },
   "outputs": [
    {
     "name": "stdout",
     "output_type": "stream",
     "text": [
      "Python is this world Hello\n"
     ]
    }
   ],
   "source": [
    "s = \"Hello world this is Python\"\n",
    "\n",
    "reversed_words = ' '.join(s.split()[::-1])\n",
    "\n",
    "print(reversed_words)"
   ]
  },
  {
   "cell_type": "markdown",
   "metadata": {},
   "source": [
    "<h2 style='direction:rtl;text-align:right;font-family:samim;'><b>🔸 تمرین ۳</b></h2>"
   ]
  },
  {
   "cell_type": "markdown",
   "metadata": {},
   "source": [
    "<p style='direction:rtl;text-align:right;font-size:18px;font-family:samim;line-height:1.5;'>\n",
    "کدی بنویسید که حروف کوچک و بزرگ را در یک رشته جابجا کند (حروف کوچک به بزرگ و بالعکس).\n",
    "    بررسی کنید ببینید اتریبیوتی برای این منظور وجود دارد یا نه.\n",
    "</p>"
   ]
  },
  {
   "cell_type": "code",
   "execution_count": null,
   "metadata": {},
   "outputs": [],
   "source": []
  },
  {
   "cell_type": "markdown",
   "metadata": {
    "tags": []
   },
   "source": [
    "<h4 style='direction:rtl;text-align:right;font-size:18px;font-family:samim;'>راهنمایی</h4>"
   ]
  },
  {
   "cell_type": "markdown",
   "metadata": {
    "tags": []
   },
   "source": [
    "<p style='direction:rtl;text-align:right;font-size:16px;font-family:samim;'>\n",
    "با استفاده از اتریبیوت‌هایی که در طول درس گفته‌شد، بررسی کنید هر حرف از رشته کوچک است یا بزرگ و سپس آن را به حرف مقابل تبدیل کنید.\n",
    "</p>"
   ]
  },
  {
   "cell_type": "markdown",
   "metadata": {
    "jp-MarkdownHeadingCollapsed": true,
    "tags": []
   },
   "source": [
    "<h4 style='direction:rtl;text-align:right;font-size:18px;font-family:samim;'>جواب</h4>"
   ]
  },
  {
   "cell_type": "code",
   "execution_count": 40,
   "metadata": {
    "tags": []
   },
   "outputs": [
    {
     "name": "stdout",
     "output_type": "stream",
     "text": [
      "hELLO wORLD\n",
      "hELLO wORLD\n"
     ]
    }
   ],
   "source": [
    "s = \"Hello World\"\n",
    "\n",
    "# بدون استفاده از اتریبیوت\n",
    "\n",
    "s = \"Hello World\"\n",
    "\n",
    "result = ''.join(char.upper() if char.islower() else char.lower() for char in s)\n",
    "\n",
    "print(result) \n",
    "\n",
    "\n",
    "#با استفاده از دستور آماده\n",
    "swapped_case = s.swapcase()\n",
    "print(swapped_case)  # خروجی: \"hELLO wORLD\""
   ]
  },
  {
   "cell_type": "markdown",
   "metadata": {},
   "source": [
    "<h2 style='direction:rtl;text-align:right;font-family:samim;'><b>🔸 تمرین ۴</b></h2>"
   ]
  },
  {
   "cell_type": "markdown",
   "metadata": {},
   "source": [
    "<p style='direction:rtl;text-align:right;font-size:18px;font-family:samim;'>\n",
    "کدی بنویسید که تمام کاراکترهای غیر الفبایی را از یک رشته حذف کند.\n",
    "</p>"
   ]
  },
  {
   "cell_type": "code",
   "execution_count": null,
   "metadata": {},
   "outputs": [],
   "source": []
  },
  {
   "cell_type": "markdown",
   "metadata": {
    "tags": []
   },
   "source": [
    "<h4 style='direction:rtl;text-align:right;font-size:18px;font-family:samim;'>راهنمایی</h4>"
   ]
  },
  {
   "cell_type": "markdown",
   "metadata": {
    "tags": []
   },
   "source": [
    "<p style='direction:rtl;text-align:right;font-size:16px;font-family:samim;'>\n",
    "برای حذف کاراکترهای غیر الفبایی از یک رشته و ترکیب نتایج، بررسی کنید که آیا هر کاراکتر به حروف الفبا تعلق دارد و سپس آن‌ها را به صورت یک رشته جدید ادغام کنید.\n",
    "</p>"
   ]
  },
  {
   "cell_type": "markdown",
   "metadata": {
    "jp-MarkdownHeadingCollapsed": true,
    "tags": []
   },
   "source": [
    "<h4 style='direction:rtl;text-align:right;font-size:18px;font-family:samim;'>جواب</h4>"
   ]
  },
  {
   "cell_type": "code",
   "execution_count": 41,
   "metadata": {
    "tags": []
   },
   "outputs": [
    {
     "name": "stdout",
     "output_type": "stream",
     "text": [
      "HelloWorld\n"
     ]
    }
   ],
   "source": [
    "s = \"Hello, World!123\"\n",
    "\n",
    "alpha_only = ''.join(char for char in s if char.isalpha())\n",
    "\n",
    "print(alpha_only) \n",
    "    "
   ]
  },
  {
   "cell_type": "markdown",
   "metadata": {},
   "source": [
    "<h2 style='direction:rtl;text-align:right;font-family:samim;'><b>🔸 تمرین ۵*</b></h2>"
   ]
  },
  {
   "cell_type": "markdown",
   "metadata": {},
   "source": [
    "<p style='direction:rtl;text-align:right;font-size:18px;font-family:samim;line-height:1.5;'>\n",
    "کدی بنویسید که یک رشته را به صورت هر دو کاراکتر با هم جابجا کند.\n",
    "    یعنی:\n",
    "    <br>\n",
    "    <br>\n",
    "    $$ \\texttt{s = \"abcdef\" -- > \"badcfe\"}$$\n",
    " \n",
    "</p>"
   ]
  },
  {
   "cell_type": "code",
   "execution_count": null,
   "metadata": {},
   "outputs": [],
   "source": []
  },
  {
   "cell_type": "markdown",
   "metadata": {
    "tags": []
   },
   "source": [
    "<h4 style='direction:rtl;text-align:right;font-size:18px;font-family:samim;'>راهنمایی</h4>"
   ]
  },
  {
   "cell_type": "markdown",
   "metadata": {
    "tags": []
   },
   "source": [
    "<p style='direction:rtl;text-align:right;font-size:16px;font-family:samim;'>\n",
    "برای جابجایی هر دو کاراکتر در یک رشته، از یک حلقه با گام دو واحد استفاده کنید و در صورتی که رشته دارای تعداد فردی از کاراکترها باشد، یک کاراکتر مکمل اضافه نمایید\n",
    "</p>"
   ]
  },
  {
   "cell_type": "markdown",
   "metadata": {
    "jp-MarkdownHeadingCollapsed": true,
    "tags": []
   },
   "source": [
    "<h4 style='direction:rtl;text-align:right;font-size:18px;font-family:samim;'>جواب</h4>"
   ]
  },
  {
   "cell_type": "code",
   "execution_count": 42,
   "metadata": {
    "tags": []
   },
   "outputs": [
    {
     "name": "stdout",
     "output_type": "stream",
     "text": [
      "badcfe\n"
     ]
    }
   ],
   "source": [
    "s = \"abcdef\"\n",
    "\n",
    "if len(s) % 2 != 0:\n",
    "    s += '_'\n",
    "swapped_chars = ''.join(s[i+1] + s[i] for i in range(0, len(s), 2))\n",
    "\n",
    "print(swapped_chars) "
   ]
  },
  {
   "cell_type": "markdown",
   "metadata": {},
   "source": [
    "<h2 style='direction:rtl;text-align:right;font-family:samim;'><b>🔸 تمرین ۶</b></h2>"
   ]
  },
  {
   "cell_type": "markdown",
   "metadata": {},
   "source": [
    "<p style='direction:rtl;text-align:right;font-size:18px;font-family:samim;'>\n",
    "کدی بنویسید که تعداد کلمات منحصر به فرد در یک رشته را بشمارد.\n",
    "</p>"
   ]
  },
  {
   "cell_type": "code",
   "execution_count": null,
   "metadata": {},
   "outputs": [],
   "source": []
  },
  {
   "cell_type": "markdown",
   "metadata": {
    "tags": []
   },
   "source": [
    "<h4 style='direction:rtl;text-align:right;font-size:18px;font-family:samim;'>راهنمایی</h4>"
   ]
  },
  {
   "cell_type": "markdown",
   "metadata": {
    "tags": []
   },
   "source": [
    "<p style='direction:rtl;text-align:right;font-size:16px;font-family:samim;'>\n",
    "برای شمارش کلمات منحصر به فرد در یک رشته، ابتدا رشته را به کلمات تقسیم کنید، سپس با استفاده از یک مجموعه (set) تکرارها را حذف کرده و در نهایت تعداد اعضای مجموعه را بشمارید.\n",
    "</p>"
   ]
  },
  {
   "cell_type": "markdown",
   "metadata": {
    "jp-MarkdownHeadingCollapsed": true,
    "tags": []
   },
   "source": [
    "<h4 style='direction:rtl;text-align:right;font-size:18px;font-family:samim;'>جواب</h4>"
   ]
  },
  {
   "cell_type": "code",
   "execution_count": 43,
   "metadata": {
    "tags": []
   },
   "outputs": [
    {
     "name": "stdout",
     "output_type": "stream",
     "text": [
      "{'fox', 'jumps', 'brown', 'quick', 'lazy', 'the', 'over', 'The', 'dog'}\n",
      "9\n"
     ]
    }
   ],
   "source": [
    "s = \"The quick brown fox jumps over the lazy dog jumps\"\n",
    "\n",
    "words = s.split()\n",
    "unique_words = set(words)\n",
    "print(unique_words)\n",
    "\n",
    "count_unique_words = len(unique_words)\n",
    "print(count_unique_words)"
   ]
  },
  {
   "cell_type": "markdown",
   "metadata": {},
   "source": [
    "<h2 style='direction:rtl;text-align:right;font-family:samim;'><b>🔸 تمرین ۷</b></h2>"
   ]
  },
  {
   "cell_type": "markdown",
   "metadata": {},
   "source": [
    "<p style='direction:rtl;text-align:right;font-size:18px;font-family:samim;line-height:1.5;'>\n",
    "کدی بنویسید که بررسی کند آیا دو رشته شامل کاراکترهای یکسان (بدون توجه به ترتیب) هستند یا نه.\n",
    "</p>"
   ]
  },
  {
   "cell_type": "code",
   "execution_count": null,
   "metadata": {},
   "outputs": [],
   "source": []
  },
  {
   "cell_type": "markdown",
   "metadata": {
    "tags": []
   },
   "source": [
    "<h4 style='direction:rtl;text-align:right;font-size:18px;font-family:samim;'>راهنمایی</h4>"
   ]
  },
  {
   "cell_type": "markdown",
   "metadata": {
    "tags": []
   },
   "source": [
    "<p style='direction:rtl;text-align:right;font-size:16px;font-family:samim;'>\n",
    "برای بررسی اینکه آیا دو رشته دارای مجموعه کاراکترهای یکسان هستند، تبدیل هر یک از رشته‌ها به مجموعه‌ای از کاراکترها را انجام دهید و سپس برابری این دو مجموعه را مقایسه کنید.\n",
    "</p>"
   ]
  },
  {
   "cell_type": "markdown",
   "metadata": {
    "jp-MarkdownHeadingCollapsed": true,
    "tags": []
   },
   "source": [
    "<h4 style='direction:rtl;text-align:right;font-size:18px;font-family:samim;'>جواب</h4>"
   ]
  },
  {
   "cell_type": "code",
   "execution_count": 44,
   "metadata": {
    "tags": []
   },
   "outputs": [
    {
     "name": "stdout",
     "output_type": "stream",
     "text": [
      "True\n"
     ]
    }
   ],
   "source": [
    "s1 = \"abc\"\n",
    "s2 = \"cba\"\n",
    "\n",
    "have_same_characters = set(s1) == set(s2)\n",
    "\n",
    "print(have_same_characters)"
   ]
  },
  {
   "cell_type": "markdown",
   "metadata": {},
   "source": [
    "<h2 style='direction:rtl;text-align:right;font-family:samim;'><b>🔸 تمرین ۸</b></h2>"
   ]
  },
  {
   "cell_type": "markdown",
   "metadata": {},
   "source": [
    "<p style='direction:rtl;text-align:right;font-size:18px;font-family:samim;line-height:1.5;'>\n",
    "کدی بنویسید که تعداد کلمات با طول بیش از ۳ را در رشته زیر بشمارد.\n",
    "    <br>\n",
    "    <br>\n",
    "    $$\\texttt{The quick brown fox jumped over the lazy dog}$$\n",
    "\n",
    "</p>"
   ]
  },
  {
   "cell_type": "code",
   "execution_count": null,
   "metadata": {},
   "outputs": [],
   "source": []
  },
  {
   "cell_type": "markdown",
   "metadata": {
    "tags": []
   },
   "source": [
    "<h4 style='direction:rtl;text-align:right;font-size:18px;font-family:samim;'>راهنمایی</h4>"
   ]
  },
  {
   "cell_type": "markdown",
   "metadata": {
    "tags": []
   },
   "source": [
    "<p style='direction:rtl;text-align:right;font-size:16px;font-family:samim;'>\n",
    "رشته را به کلمات تقسیم کنید و سپس با تابع sum تعداد کلماتی که طول آن‌ها بیش از حد مشخص است را بشمارید.\n",
    "</p>"
   ]
  },
  {
   "cell_type": "markdown",
   "metadata": {
    "jp-MarkdownHeadingCollapsed": true,
    "tags": []
   },
   "source": [
    "<h4 style='direction:rtl;text-align:right;font-size:18px;font-family:samim;'>جواب</h4>"
   ]
  },
  {
   "cell_type": "code",
   "execution_count": 45,
   "metadata": {
    "tags": []
   },
   "outputs": [
    {
     "name": "stdout",
     "output_type": "stream",
     "text": [
      "5\n"
     ]
    }
   ],
   "source": [
    "s = \"The quick brown fox jumped over the lazy dog\"\n",
    "min_length = 3\n",
    "\n",
    "count_long_words = sum(1 for word in s.split() if len(word) > min_length)\n",
    "\n",
    "print(count_long_words)"
   ]
  },
  {
   "cell_type": "markdown",
   "metadata": {},
   "source": [
    "<h2 style='direction:rtl;text-align:right;font-family:samim;'><b>🔸 تمرین ۹</b></h2>"
   ]
  },
  {
   "cell_type": "markdown",
   "metadata": {},
   "source": [
    "<p style='direction:rtl;text-align:right;font-size:18px;font-family:samim;line-height:1.5;'>\n",
    "  کدی بنویسید که بررسی کند آیا یک رشته شامل اعداد است یا نه.\n",
    "</p>"
   ]
  },
  {
   "cell_type": "code",
   "execution_count": null,
   "metadata": {},
   "outputs": [],
   "source": []
  },
  {
   "cell_type": "markdown",
   "metadata": {
    "tags": []
   },
   "source": [
    "<h4 style='direction:rtl;text-align:right;font-size:18px;font-family:samim;'>راهنمایی</h4>"
   ]
  },
  {
   "cell_type": "markdown",
   "metadata": {
    "tags": []
   },
   "source": [
    "<p style='direction:rtl;text-align:right;font-size:16px;font-family:samim;'>\n",
    "برای هر کاراکتر در رشته، تابع isdigit() را فراخوانی کنید تا چک کنید که آیا آن کاراکتر عددی است یا نه.\n",
    "</p>"
   ]
  },
  {
   "cell_type": "markdown",
   "metadata": {
    "jp-MarkdownHeadingCollapsed": true,
    "tags": []
   },
   "source": [
    "<h4 style='direction:rtl;text-align:right;font-size:18px;font-family:samim;'>جواب</h4>"
   ]
  },
  {
   "cell_type": "code",
   "execution_count": 46,
   "metadata": {
    "tags": []
   },
   "outputs": [
    {
     "name": "stdout",
     "output_type": "stream",
     "text": [
      "True\n"
     ]
    }
   ],
   "source": [
    "s = \"Hello123\"\n",
    "\n",
    "contains_digits = any(char.isdigit() for char in s)\n",
    "\n",
    "print(contains_digits)"
   ]
  },
  {
   "cell_type": "markdown",
   "metadata": {},
   "source": [
    "<h2 style='direction:rtl;text-align:right;font-family:samim;'><b>🔸 تمرین ۱۰</b></h2>"
   ]
  },
  {
   "cell_type": "markdown",
   "metadata": {},
   "source": [
    "<p style='direction:rtl;text-align:right;font-size:18px;font-family:samim;line-height:1.5;'>\n",
    " کدی بنویسید که تمام زیررشته‌های ممکن با طول ثابت ۳ را از رشته زیر استخراج کند.\n",
    "    <br>\n",
    "    <br>\n",
    "    $$\\texttt{s = \"abcdef\"}$$\n",
    "</p>"
   ]
  },
  {
   "cell_type": "code",
   "execution_count": null,
   "metadata": {},
   "outputs": [],
   "source": []
  },
  {
   "cell_type": "markdown",
   "metadata": {
    "tags": []
   },
   "source": [
    "<h4 style='direction:rtl;text-align:right;font-size:18px;font-family:samim;'>راهنمایی</h4>"
   ]
  },
  {
   "cell_type": "markdown",
   "metadata": {
    "tags": []
   },
   "source": [
    "<p style='direction:rtl;text-align:right;font-size:16px;font-family:samim;'>\n",
    "برای استخراج تمام زیررشته‌های ممکن با طول مشخص از یک رشته، از حلقه‌ای استفاده کنید که از صفر تا نقطه‌ای که طول زیررشته را از کل رشته کم کرده است، اجرا شود و در هر تکرار، زیررشته‌ای با طول مورد نظر را برش دهید و به لیست اضافه کنید.\n",
    "</p>"
   ]
  },
  {
   "cell_type": "markdown",
   "metadata": {
    "jp-MarkdownHeadingCollapsed": true,
    "tags": []
   },
   "source": [
    "<h4 style='direction:rtl;text-align:right;font-size:18px;font-family:samim;'>جواب</h4>"
   ]
  },
  {
   "cell_type": "code",
   "execution_count": 47,
   "metadata": {
    "tags": []
   },
   "outputs": [
    {
     "name": "stdout",
     "output_type": "stream",
     "text": [
      "['abc', 'bcd', 'cde', 'def']\n"
     ]
    }
   ],
   "source": [
    "s = \"abcdef\"\n",
    "length = 3\n",
    "\n",
    "substrings = [s[i:i+length] for i in range(len(s) - length + 1)]\n",
    "\n",
    "print(substrings)"
   ]
  },
  {
   "cell_type": "markdown",
   "metadata": {},
   "source": [
    "<h2 style='direction:rtl;text-align:right;font-family:samim;'><b>🔸 تمرین ۱۱*</b></h2>"
   ]
  },
  {
   "cell_type": "markdown",
   "metadata": {},
   "source": [
    "<p style='direction:rtl;text-align:right;font-size:18px;font-family:samim;line-height:1.5;'>\n",
    "کدی بنویسید که طولانی‌ترین زیررشته متوالی از حروف تکراری را در رشته زیر پیدا کند و طول آنرا حساب کند.\n",
    "    <br>\n",
    "    <br>\n",
    "    $$\\texttt{s = \"aaabbccccddddda2\"}$$\n",
    "</p>"
   ]
  },
  {
   "cell_type": "code",
   "execution_count": null,
   "metadata": {},
   "outputs": [],
   "source": []
  },
  {
   "cell_type": "markdown",
   "metadata": {
    "tags": []
   },
   "source": [
    "<h4 style='direction:rtl;text-align:right;font-size:18px;font-family:samim;'>راهنمایی</h4>"
   ]
  },
  {
   "cell_type": "markdown",
   "metadata": {
    "tags": []
   },
   "source": [
    "<p style='direction:rtl;text-align:right;font-size:16px;font-family:samim;'>\n",
    "برای پیدا کردن طولانی‌ترین زیررشته متوالی از حروف تکراری در یک رشته، می‌توانید از یک حلقه برای پیمایش رشته استفاده کنید و هر زمان که کاراکتر تکرار شد، شمارش را افزایش دهید؛ و هرگاه تکرار قطع شد، آن شمارش را با بزرگ‌ترین شمارش ثبت شده مقایسه کرده و در صورت نیاز آن را به‌روزرسانی نمایید.\n",
    "</p>"
   ]
  },
  {
   "cell_type": "markdown",
   "metadata": {
    "jp-MarkdownHeadingCollapsed": true,
    "tags": []
   },
   "source": [
    "<h4 style='direction:rtl;text-align:right;font-size:18px;font-family:samim;'>جواب</h4>"
   ]
  },
  {
   "cell_type": "code",
   "execution_count": 48,
   "metadata": {
    "tags": []
   },
   "outputs": [
    {
     "name": "stdout",
     "output_type": "stream",
     "text": [
      "Length of longest repeating substring: 5\n",
      "Longest repeating substring: ddddd\n"
     ]
    }
   ],
   "source": [
    "s = \"aaabbccccddddda2\"\n",
    "\n",
    "max_len = 1\n",
    "current_len = 1\n",
    "max_substring = s[0]  \n",
    "current_substring = s[0] \n",
    "\n",
    "for i in range(1, len(s)):\n",
    "    if s[i] == s[i-1]:\n",
    "        current_len += 1\n",
    "        current_substring += s[i]  \n",
    "    else:\n",
    "        if current_len > max_len:\n",
    "            max_len = current_len\n",
    "            max_substring = current_substring\n",
    "        current_len = 1\n",
    "        current_substring = s[i]  \n",
    "\n",
    "\n",
    "if current_len > max_len:\n",
    "    max_len = current_len\n",
    "    max_substring = current_substring\n",
    "\n",
    "print(f\"Length of longest repeating substring: {max_len}\")\n",
    "print(f\"Longest repeating substring: {max_substring}\")"
   ]
  },
  {
   "cell_type": "markdown",
   "metadata": {},
   "source": [
    "<h2 style='direction:rtl;text-align:right;font-family:samim;'><b>🔸 تمرین ۱۲*</b></h2>"
   ]
  },
  {
   "cell_type": "markdown",
   "metadata": {},
   "source": [
    "<p style='direction:rtl;text-align:right;font-size:18px;font-family:samim;line-height:1.5;'>\n",
    "بررسی کنید که آیا یک رشته می‌تواند به صورت متقارن از دو زیررشته تکرار شود یا خیر. به عنوان مثال، \"abcabc\" یک رشته متقارن است زیرا می‌تواند به عنوان \"abc\" + \"abc\" تجزیه شود.\n",
    "</p>"
   ]
  },
  {
   "cell_type": "code",
   "execution_count": null,
   "metadata": {},
   "outputs": [],
   "source": []
  },
  {
   "cell_type": "markdown",
   "metadata": {
    "tags": []
   },
   "source": [
    "<h4 style='direction:rtl;text-align:right;font-size:18px;font-family:samim;'>راهنمایی</h4>"
   ]
  },
  {
   "cell_type": "markdown",
   "metadata": {
    "tags": []
   },
   "source": [
    "<p style='direction:rtl;text-align:right;font-size:16px;font-family:samim;'>\n",
    "گر بخواهیم بفهمیم که یک رشته از تکرار یک زیررشته‌ای کوچکتر ساخته شده است، مراحل زیر را دنبال کنیم:\n",
    "تقسیم رشته: ابتدا باید ببینیم که آیا طول کل رشته را می‌توان به قطعات مساوی تقسیم کرد. به عنوان مثال، اگر طول رشته ۶ باشد، سعی می‌کنیم ببینیم آیا می‌توانیم آن را به دو قطعه ۳ واحدی یا سه قطعه ۲ واحدی تقسیم کنیم.\n",
    "انتخاب یک بخش از رشته: سپس یکی از این قطعات را به عنوان نمونه انتخاب می‌کنیم. برای مثال، اگر طول رشته ۶ است و ما آن را به دو قطعه ۳ واحدی تقسیم کرده‌ایم، نمونه‌ی ما ۳ کاراکتر اول خواهد بود.\n",
    "چک کردن تکرار: بعد، ببینیم آیا با تکرار این نمونه می‌توانیم دوباره کل رشته را بسازیم. اگر با تکرار نمونه‌ی انتخاب شده به رشته اصلی رسیدیم، یعنی رشته از تکرار آن نمونه ساخته شده است.\n",
    "نتیجه‌گیری: اگر تکرار نمونه به ما رشته اصلی را داد، پاسخ مثبت است و رشته از تکرار آن نمونه ساخته شده است. اگر نه، یعنی رشته از تکرار آن نمونه ساخته نشده است.\n",
    "</p>"
   ]
  },
  {
   "cell_type": "markdown",
   "metadata": {
    "jp-MarkdownHeadingCollapsed": true,
    "tags": []
   },
   "source": [
    "<h4 style='direction:rtl;text-align:right;font-size:18px;font-family:samim;'>جواب</h4>"
   ]
  },
  {
   "cell_type": "code",
   "execution_count": 49,
   "metadata": {
    "tags": []
   },
   "outputs": [
    {
     "name": "stdout",
     "output_type": "stream",
     "text": [
      "Is 'abcabc' a repeating pattern? True\n"
     ]
    }
   ],
   "source": [
    "input_string = \"abcabc\"\n",
    "length = len(input_string)\n",
    "found = False\n",
    "for i in range(1, length // 2 + 1):\n",
    "#     print(i)\n",
    "    if length % i == 0:\n",
    "        pattern = input_string[:i]\n",
    "#         print(pattern)\n",
    "        if pattern * (length // i) == input_string:\n",
    "            found = True\n",
    "            break\n",
    "\n",
    "print(f\"Is '{input_string}' a repeating pattern? {found}\")"
   ]
  },
  {
   "cell_type": "markdown",
   "metadata": {},
   "source": [
    "<h2 style='direction:rtl;text-align:right;font-family:samim;'><b>🔸 تمرین ۱۳*</b></h2>"
   ]
  },
  {
   "cell_type": "markdown",
   "metadata": {},
   "source": [
    "<p style='direction:rtl;text-align:right;font-size:18px;font-family:samim;line-height:1.5;'>\n",
    "بررسی کنید که آیا کلمه مورد نظر در تمامی خطوط متن وجود دارد یا خیر.\n",
    "    <br>\n",
    "    <br>\n",
    "    $$\\texttt{input_text = \"\"\"apple banana orange}$$\n",
    "                            $$\\texttt{apple grape banana}$$\n",
    "                            $$\\texttt{apple cherry banana\"\"\"}$$\n",
    "              $$\\texttt{search_word = \"banana\"}$$\n",
    "    \n",
    "</p>"
   ]
  },
  {
   "cell_type": "code",
   "execution_count": null,
   "metadata": {},
   "outputs": [],
   "source": []
  },
  {
   "cell_type": "markdown",
   "metadata": {
    "tags": []
   },
   "source": [
    "<h4 style='direction:rtl;text-align:right;font-size:18px;font-family:samim;'>راهنمایی</h4>"
   ]
  },
  {
   "cell_type": "markdown",
   "metadata": {
    "tags": []
   },
   "source": [
    "<p style='direction:rtl;text-align:right;font-size:16px;font-family:samim;'>\n",
    "برای بررسی اینکه آیا یک کلمه خاص در تمامی خطوط متن وجود دارد، متن را به خطوط جداگانه تقسیم کرده و سپس برای هر خط بررسی کنید که آیا کلمه مورد نظر در آن خط وجود دارد یا خیر. از all() برای اطمینان از وجود کلمه در تمامی خطوط استفاده کنید.\n",
    "</p>"
   ]
  },
  {
   "cell_type": "markdown",
   "metadata": {
    "jp-MarkdownHeadingCollapsed": true,
    "tags": []
   },
   "source": [
    "<h4 style='direction:rtl;text-align:right;font-size:18px;font-family:samim;'>جواب</h4>"
   ]
  },
  {
   "cell_type": "code",
   "execution_count": 50,
   "metadata": {
    "tags": []
   },
   "outputs": [
    {
     "name": "stdout",
     "output_type": "stream",
     "text": [
      "Is 'banana' in all lines? True\n"
     ]
    }
   ],
   "source": [
    "input_text = \"\"\"apple banana orange\n",
    "apple grape banana\n",
    "apple cherry banana\"\"\"\n",
    "search_word = \"banana\"\n",
    "\n",
    "lines = input_text.split('\\n')\n",
    "all_lines_have_word = all(search_word in line for line in lines)\n",
    "\n",
    "print(f\"Is '{search_word}' in all lines? {all_lines_have_word}\")"
   ]
  },
  {
   "cell_type": "markdown",
   "metadata": {},
   "source": [
    "<h2 style='direction:rtl;text-align:right;font-family:samim;'><b>🔸 تمرین ۱۴*</b></h2>"
   ]
  },
  {
   "cell_type": "markdown",
   "metadata": {},
   "source": [
    "<p style='direction:rtl;text-align:right;font-size:18px;font-family:samim;line-height:1.5;'>\n",
    " پیدا کنید که طول بزرگترین زیررشته‌ای که در یک رشته تکرار می‌شود چیست. به عنوان مثال، در رشته \"abcabcabc\"، زیربخش تکراری \"abc\" است و طول آن ۳ است.\n",
    "</p>"
   ]
  },
  {
   "cell_type": "code",
   "execution_count": null,
   "metadata": {},
   "outputs": [],
   "source": []
  },
  {
   "cell_type": "markdown",
   "metadata": {
    "tags": []
   },
   "source": [
    "<h4 style='direction:rtl;text-align:right;font-size:18px;font-family:samim;'>راهنمایی</h4>"
   ]
  },
  {
   "cell_type": "markdown",
   "metadata": {
    "tags": []
   },
   "source": [
    "<p style='direction:rtl;text-align:right;font-size:16px;font-family:samim;'>\n",
    "طول بزرگترین زیررشته تکراری نمی‌تواند بیشتر از نصف طول کل رشته باشد.\n",
    "    زیرا ما به دو نمونه از زیررشته نیاز داریم که در رشته تکرار شوند.\n",
    "بنابراین از دو حلقه تودرتواستفاده کنید: استفاده از یک حلقه برای تعیین طول زیررشته‌ها (از ۱ تا نصف طول رشته) و حلقه دیگر برای جستجوی هر زیررشته در رشته.\n",
    "</p>"
   ]
  },
  {
   "cell_type": "markdown",
   "metadata": {
    "jp-MarkdownHeadingCollapsed": true,
    "tags": []
   },
   "source": [
    "<h4 style='direction:rtl;text-align:right;font-size:18px;font-family:samim;'>جواب</h4>"
   ]
  },
  {
   "cell_type": "code",
   "execution_count": 51,
   "metadata": {
    "tags": []
   },
   "outputs": [
    {
     "name": "stdout",
     "output_type": "stream",
     "text": [
      "The length of the longest repeating substring is 3\n"
     ]
    }
   ],
   "source": [
    "input_string = \"abcabcabc\"\n",
    "length = len(input_string)\n",
    "max_length = 0\n",
    "\n",
    "for l in range(1, length // 2 + 1):\n",
    "    for i in range(length - 2 * l + 1):\n",
    "        if input_string[i:i + l] == input_string[i + l:i + 2 * l]:\n",
    "            max_length = max(max_length, l)\n",
    "\n",
    "print(f\"The length of the longest repeating substring is {max_length}\")"
   ]
  },
  {
   "cell_type": "markdown",
   "metadata": {},
   "source": [
    "<h2 style='direction:rtl;text-align:right;font-family:samim;'><b>🔸 تمرین ۱۵*</b></h2>"
   ]
  },
  {
   "cell_type": "markdown",
   "metadata": {},
   "source": [
    "<p style='direction:rtl;text-align:right;font-size:18px;font-family:samim;line-height:1.5;'>\n",
    "یک رشته رمزگذاری شده و یک دیکشنری رمز که شامل نقشه‌های معادل هر کاراکتر است، داده شده است. با استفاده از دیکشنری رمز، رشته رمزگذاری شده را رمزگشایی کنید.\n",
    "$$\\texttt{encoded_string = \"bcd\"}$$\n",
    "$$\\texttt{decoding_dict = {'a': 'z', 'b': 'y', 'c': 'x', 'd': 'w'}}$$\n",
    "\n",
    "</p>"
   ]
  },
  {
   "cell_type": "code",
   "execution_count": null,
   "metadata": {},
   "outputs": [],
   "source": []
  },
  {
   "cell_type": "markdown",
   "metadata": {
    "tags": []
   },
   "source": [
    "<h4 style='direction:rtl;text-align:right;font-size:18px;font-family:samim;'>راهنمایی</h4>"
   ]
  },
  {
   "cell_type": "markdown",
   "metadata": {
    "tags": []
   },
   "source": [
    "<p style='direction:rtl;text-align:right;font-size:16px;font-family:samim;'>\n",
    " هر کاراکتر را در رشته رمزگذاری شده با استفاده از دیکشنری به کاراکتر معادل آن تبدیل کنید و اگر کاراکتر مورد نظر در دیکشنری وجود نداشت، همان کاراکتر را نگه دارید.\n",
    "</p>"
   ]
  },
  {
   "cell_type": "markdown",
   "metadata": {
    "jp-MarkdownHeadingCollapsed": true,
    "tags": []
   },
   "source": [
    "<h4 style='direction:rtl;text-align:right;font-size:18px;font-family:samim;'>جواب</h4>"
   ]
  },
  {
   "cell_type": "code",
   "execution_count": 52,
   "metadata": {
    "tags": []
   },
   "outputs": [
    {
     "name": "stdout",
     "output_type": "stream",
     "text": [
      "Decoded String: yxw\n"
     ]
    }
   ],
   "source": [
    "encoded_string = \"bcd\"\n",
    "decoding_dict = {'a': 'z', 'b': 'y', 'c': 'x', 'd': 'w'}\n",
    "decoded_string = ''.join(decoding_dict.get(char, char) for char in encoded_string)\n",
    "\n",
    "print(\"Decoded String:\", decoded_string)"
   ]
  },
  {
   "cell_type": "markdown",
   "metadata": {},
   "source": [
    "<h2 style='direction:rtl;text-align:right;font-family:samim;'><b>🔸 تمرین ۱۶*</b></h2>"
   ]
  },
  {
   "cell_type": "markdown",
   "metadata": {},
   "source": [
    "<p style='direction:rtl;text-align:right;font-size:18px;font-family:samim;line-height:1.5;'>\n",
    "بررسی کنید که آیا یک رشته می‌تواند با چرخش‌های یک رشته دیگر ساخته شود. به عنوان مثال، \"erbottlewat\" چرخشی از \"waterbottle\" است.\n",
    "</p>"
   ]
  },
  {
   "cell_type": "code",
   "execution_count": null,
   "metadata": {},
   "outputs": [],
   "source": []
  },
  {
   "cell_type": "markdown",
   "metadata": {
    "tags": []
   },
   "source": [
    "<h4 style='direction:rtl;text-align:right;font-size:18px;font-family:samim;'>راهنمایی</h4>"
   ]
  },
  {
   "cell_type": "markdown",
   "metadata": {
    "tags": []
   },
   "source": [
    "<p style='direction:rtl;text-align:right;font-size:16px;font-family:samim;'>\n",
    "برای بررسی اینکه آیا یک رشته با چرخش‌های یک رشته دیگر ساخته شده است، بررسی کنید که طول دو رشته برابر باشد و سپس بررسی کنید که آیا رشته دوم به عنوان زیررشته‌ای از  تکرار دوباره رشته اول هست یا نه\n",
    "</p>"
   ]
  },
  {
   "cell_type": "markdown",
   "metadata": {
    "jp-MarkdownHeadingCollapsed": true,
    "tags": []
   },
   "source": [
    "<h4 style='direction:rtl;text-align:right;font-size:18px;font-family:samim;'>جواب</h4>"
   ]
  },
  {
   "cell_type": "code",
   "execution_count": 53,
   "metadata": {
    "tags": []
   },
   "outputs": [
    {
     "name": "stdout",
     "output_type": "stream",
     "text": [
      "Is 'erbottlewat' a rotation of 'waterbottle'? True\n"
     ]
    }
   ],
   "source": [
    "string1 = \"waterbottle\"\n",
    "string2 = \"erbottlewat\"\n",
    "\n",
    "is_rotation = len(string1) == len(string2) and string2 in (string1 + string1)\n",
    "\n",
    "print(f\"Is '{string2}' a rotation of '{string1}'? {is_rotation}\")\n"
   ]
  },
  {
   "cell_type": "markdown",
   "metadata": {},
   "source": [
    "<h2 style='direction:rtl;text-align:right;font-family:samim;'><b>🔸 تمرین ۱۷*</b></h2>"
   ]
  },
  {
   "cell_type": "markdown",
   "metadata": {},
   "source": [
    "<p style='direction:rtl;text-align:right;font-size:18px;font-family:samim;line-height:1.5;'>\n",
    "در لیست زیر، بزرگترین پیشوند مشترک را در بین آیتم‌ها پیدا کنید.\n",
    " <br>\n",
    "    <br>\n",
    "    $$\\texttt{  strings = [\"flower\", \"flow\", \"flight\"]}$$ \n",
    "</p>"
   ]
  },
  {
   "cell_type": "code",
   "execution_count": null,
   "metadata": {},
   "outputs": [],
   "source": []
  },
  {
   "cell_type": "markdown",
   "metadata": {
    "tags": []
   },
   "source": [
    "<h4 style='direction:rtl;text-align:right;font-size:18px;font-family:samim;'>راهنمایی</h4>"
   ]
  },
  {
   "cell_type": "markdown",
   "metadata": {
    "tags": []
   },
   "source": [
    "<p style='direction:rtl;text-align:right;font-size:16px;font-family:samim;'>\n",
    "برای پیدا کردن بزرگترین پیشوند مشترک در بین آیتم‌های یک لیست از رشته‌ها، ابتدا اولین رشته را به عنوان پیشوند اولیه در نظر بگیرید و سپس برای هر رشته بعدی، پیشوند را تا زمانی که با رشته فعلی مطابقت کند کوتاه کنید. این فرآیند را ادامه دهید تا طولانی‌ترین پیشوند مشترک بین همه رشته‌ها مشخص شود\n",
    "</p>"
   ]
  },
  {
   "cell_type": "markdown",
   "metadata": {
    "jp-MarkdownHeadingCollapsed": true,
    "tags": []
   },
   "source": [
    "<h4 style='direction:rtl;text-align:right;font-size:18px;font-family:samim;'>جواب</h4>"
   ]
  },
  {
   "cell_type": "code",
   "execution_count": 54,
   "metadata": {
    "tags": []
   },
   "outputs": [
    {
     "name": "stdout",
     "output_type": "stream",
     "text": [
      "Longest common prefix: fl\n"
     ]
    }
   ],
   "source": [
    "strings = [\"flower\", \"flow\", \"flight\"]\n",
    "prefix = strings[0]\n",
    "\n",
    "for s in strings[1:]:\n",
    "    while not s.startswith(prefix):\n",
    "        prefix = prefix[:-1]\n",
    "        if not prefix:\n",
    "            break\n",
    "\n",
    "print(\"Longest common prefix:\", prefix)"
   ]
  },
  {
   "cell_type": "markdown",
   "metadata": {},
   "source": [
    "<h2 style='direction:rtl;text-align:right;font-family:samim;'><b>🔸 تمرین ۱۸*</b></h2>"
   ]
  },
  {
   "cell_type": "markdown",
   "metadata": {},
   "source": [
    "<p style='direction:rtl;text-align:right;font-size:18px;font-family:samim;line-height:1.5;'>\n",
    "زیربخش‌های مشترک بین دو رشته متفاوت زیر را پیدا کنید.\n",
    "    <br>\n",
    "    <br>\n",
    "    $$\\texttt{string1 = \"abcdef\"}$$\n",
    "    $$\\texttt{string2 = \"zabcf\"}$$ \n",
    "    \n",
    "</p>"
   ]
  },
  {
   "cell_type": "code",
   "execution_count": null,
   "metadata": {},
   "outputs": [],
   "source": []
  },
  {
   "cell_type": "markdown",
   "metadata": {
    "tags": []
   },
   "source": [
    "<h4 style='direction:rtl;text-align:right;font-size:18px;font-family:samim;'>راهنمایی</h4>"
   ]
  },
  {
   "cell_type": "markdown",
   "metadata": {
    "tags": []
   },
   "source": [
    "<p style='direction:rtl;text-align:right;font-size:16px;font-family:samim;'>\n",
    "برای پیدا کردن زیربخش‌های مشترک بین دو رشته، ابتدا تمامی زیررشته‌های ممکن از رشته اول را استخراج کرده و سپس بررسی کنید که کدام یک از این زیررشته‌ها در رشته دوم نیز وجود دارد. این زیربخش‌های مشترک را در یک مجموعه (set) جمع‌آوری کنید تا از تکرارها جلوگیری شود.\n",
    "</p>"
   ]
  },
  {
   "cell_type": "markdown",
   "metadata": {
    "jp-MarkdownHeadingCollapsed": true,
    "tags": []
   },
   "source": [
    "<h4 style='direction:rtl;text-align:right;font-size:18px;font-family:samim;'>جواب</h4>"
   ]
  },
  {
   "cell_type": "code",
   "execution_count": 55,
   "metadata": {
    "tags": []
   },
   "outputs": [
    {
     "name": "stdout",
     "output_type": "stream",
     "text": [
      "Common substrings: {'ab', 'abc', 'b', 'bc', 'c', 'a', 'f'}\n"
     ]
    }
   ],
   "source": [
    "string1 = \"abcdef\"\n",
    "string2 = \"zabcf\"\n",
    "substrings = set()\n",
    "\n",
    "len1, len2 = len(string1), len(string2)\n",
    "for i in range(len1):\n",
    "    for j in range(i + 1, len1 + 1):\n",
    "        substr = string1[i:j]\n",
    "        if substr in string2:\n",
    "            substrings.add(substr)\n",
    "\n",
    "print(\"Common substrings:\", substrings)\n"
   ]
  },
  {
   "cell_type": "markdown",
   "metadata": {},
   "source": [
    "<h2 style='direction:rtl;text-align:right;font-family:samim;'><b>🔸 تمرین ۱۹</b></h2>"
   ]
  },
  {
   "cell_type": "markdown",
   "metadata": {},
   "source": [
    "<p style='direction:rtl;text-align:right;font-size:18px;font-family:samim;line-height:1.5;'>\n",
    "یک متغیر به نام my_string بسازید و عبارت زیر را در آن ذخیره کنید،\n",
    "    \n",
    "   $$\\texttt{my_string = \"the quick brown fox jumps over the lazy dog\"}$$\n",
    "<p style='direction:rtl;text-align:right;font-size:18px;font-family:samim;line-height:1.5;'>       \n",
    "    الف) برنامه‌ای بنویسید که با سه کاراکتر اول و سه کاراکتر آخر یک جمله جدیدی بسازد.\n",
    "    <br>\n",
    "    ب) n-امین کاراکتر را از این رشته حذف کنید.\n",
    "    <br>\n",
    "    ج) m-امین کلمه را از این رشته حذف کنید.\n",
    "    <br>\n",
    "    د) تعداد تکرار عبارت the  را حساب کنید.\n",
    "</p>"
   ]
  },
  {
   "cell_type": "code",
   "execution_count": null,
   "metadata": {},
   "outputs": [],
   "source": []
  },
  {
   "cell_type": "markdown",
   "metadata": {
    "tags": []
   },
   "source": [
    "<h4 style='direction:rtl;text-align:right;font-size:18px;font-family:samim;'>راهنمایی</h4>"
   ]
  },
  {
   "cell_type": "markdown",
   "metadata": {
    "tags": []
   },
   "source": [
    "<p style='direction:rtl;text-align:right;font-size:16px;font-family:samim;'>\n",
    "از اسلایسینگ و اتریبیوت‌های گفته شده در درس‌نامه کمک بگیرید.\n",
    "</p>"
   ]
  },
  {
   "cell_type": "markdown",
   "metadata": {
    "jp-MarkdownHeadingCollapsed": true,
    "tags": []
   },
   "source": [
    "<h4 style='direction:rtl;text-align:right;font-size:18px;font-family:samim;'>جواب</h4>"
   ]
  },
  {
   "cell_type": "code",
   "execution_count": 56,
   "metadata": {},
   "outputs": [
    {
     "name": "stdout",
     "output_type": "stream",
     "text": [
      "thedog\n",
      "without_' '_Chr: thequick brown fox jumps over the lazy dog\n",
      "without_'fox'_Word: the quick fox jumps over the lazy dog\n",
      "count 'the': 2\n"
     ]
    }
   ],
   "source": [
    "my_string = \"the quick brown fox jumps over the lazy dog\"\n",
    "\n",
    "first_three = my_string[:3]\n",
    "last_three = my_string[-3:]\n",
    "\n",
    "#الف\n",
    "new_sentence = first_three + last_three\n",
    "print(new_sentence)\n",
    "\n",
    "#ب\n",
    "n = 3\n",
    "my_string_without_nth_char = my_string[:n]+ my_string[n+1:]\n",
    "print(f\"without_'{my_string[n]}'_Chr:\",my_string_without_nth_char)\n",
    "\n",
    "#ج\n",
    "m = 2  \n",
    "words = my_string.split()\n",
    "\n",
    "if 0 <= m < len(words):\n",
    "    words = words[:m] + words[m+1:]\n",
    "my_string_without_mth_word = ' '.join(words)\n",
    "print(f\"without_'{words[m]}'_Word:\", my_string_without_mth_word)\n",
    "\n",
    "\n",
    "#د\n",
    "count_the = my_string.lower().count(\"the\")\n",
    "print(\"count 'the':\", count_the)"
   ]
  },
  {
   "cell_type": "markdown",
   "metadata": {},
   "source": [
    "<h2 style='direction:rtl;text-align:right;font-family:samim;'><b>🔸 تمرین ۲۰</b></h2>"
   ]
  },
  {
   "cell_type": "markdown",
   "metadata": {},
   "source": [
    "<p style='direction:rtl;text-align:right;font-size:18px;font-family:samim;line-height:1.5;'>\n",
    "کدی بنویسید که در رشته \"32,054.23\" جای کاما و نقطه را عوض کند. خروجی کد باید به شکل \"32.054,23\" باشد.\n",
    "    \n",
    "</p>"
   ]
  },
  {
   "cell_type": "code",
   "execution_count": null,
   "metadata": {},
   "outputs": [],
   "source": []
  },
  {
   "cell_type": "markdown",
   "metadata": {
    "tags": []
   },
   "source": [
    "<h4 style='direction:rtl;text-align:right;font-size:18px;font-family:samim;'>راهنمایی</h4>"
   ]
  },
  {
   "cell_type": "markdown",
   "metadata": {
    "tags": []
   },
   "source": [
    "<p style='direction:rtl;text-align:right;font-size:16px;font-family:samim;'>\n",
    "از اتریبیوت replace می‌توانید کمک بگیرید.\n",
    "</p>"
   ]
  },
  {
   "cell_type": "markdown",
   "metadata": {
    "jp-MarkdownHeadingCollapsed": true,
    "tags": []
   },
   "source": [
    "<h4 style='direction:rtl;text-align:right;font-size:18px;font-family:samim;'>جواب</h4>"
   ]
  },
  {
   "cell_type": "code",
   "execution_count": 57,
   "metadata": {
    "tags": []
   },
   "outputs": [
    {
     "name": "stdout",
     "output_type": "stream",
     "text": [
      "32.054,23\n"
     ]
    }
   ],
   "source": [
    "number_string = \"32,054.23\"\n",
    "\n",
    "number_string_swapped = number_string.replace(\",\", \"temp\").replace(\".\", \",\").replace(\"temp\", \".\")\n",
    "\n",
    "print(number_string_swapped)"
   ]
  },
  {
   "cell_type": "markdown",
   "metadata": {},
   "source": [
    "<h2 style='direction:rtl;text-align:right;font-family:samim;'><b>🔸 تمرین ۲۱</b></h2>"
   ]
  },
  {
   "cell_type": "markdown",
   "metadata": {},
   "source": [
    "<p style='direction:rtl;text-align:right;font-size:18px;font-family:samim;line-height:1.5;'>\n",
    "کدی بنویسید که تعداد حروف صدادار را در رشته زیر محاسبه کند.\n",
    "     $$\\texttt{my_string = \"the quick brown fox jumps over the lazy dog\"}$$\n",
    "</p>"
   ]
  },
  {
   "cell_type": "code",
   "execution_count": null,
   "metadata": {},
   "outputs": [],
   "source": []
  },
  {
   "cell_type": "markdown",
   "metadata": {
    "tags": []
   },
   "source": [
    "<h4 style='direction:rtl;text-align:right;font-size:18px;font-family:samim;'>راهنمایی</h4>"
   ]
  },
  {
   "cell_type": "markdown",
   "metadata": {
    "tags": []
   },
   "source": [
    "<p style='direction:rtl;text-align:right;font-size:16px;font-family:samim;'>\n",
    "حروف صدادار عبارتند از :vowels = \"aeiouAEIOU\"\n",
    "    حالا از دستورات شرطی و حلقه استفاده کنید.\n",
    "</p>"
   ]
  },
  {
   "cell_type": "markdown",
   "metadata": {
    "jp-MarkdownHeadingCollapsed": true,
    "tags": []
   },
   "source": [
    "<h4 style='direction:rtl;text-align:right;font-size:18px;font-family:samim;'>جواب</h4>"
   ]
  },
  {
   "cell_type": "code",
   "execution_count": 58,
   "metadata": {
    "tags": []
   },
   "outputs": [
    {
     "name": "stdout",
     "output_type": "stream",
     "text": [
      "11\n"
     ]
    }
   ],
   "source": [
    "input_string = \"the quick brown fox jumps over the lazy dog\"\n",
    "vowels = \"aeiouAEIOU\"\n",
    "vowel_count = sum(1 for char in input_string if char in vowels)\n",
    "print(vowel_count)"
   ]
  },
  {
   "cell_type": "markdown",
   "metadata": {},
   "source": [
    "<h2 style='direction:rtl;text-align:right;font-family:samim;'><b>🔸 تمرین ۲۲</b></h2>"
   ]
  },
  {
   "cell_type": "markdown",
   "metadata": {},
   "source": [
    "<p style='direction:rtl;text-align:right;font-size:18px;font-family:samim;line-height:1.5;'>\n",
    "کدی بنویسید که اگر طول جمله زیر بیشتر از 6 باشد، عبارت \"This sentence is too long\" در خروجی نمایش داده شود.\n",
    "    <br>\n",
    "    <br>\n",
    "    $$\\texttt{sentence = \"the quick brown fox jumps over the lazy dog\"}$$\n",
    "</p>"
   ]
  },
  {
   "cell_type": "code",
   "execution_count": null,
   "metadata": {},
   "outputs": [],
   "source": []
  },
  {
   "cell_type": "markdown",
   "metadata": {
    "tags": []
   },
   "source": [
    "<h4 style='direction:rtl;text-align:right;font-size:18px;font-family:samim;'>راهنمایی</h4>"
   ]
  },
  {
   "cell_type": "markdown",
   "metadata": {
    "tags": []
   },
   "source": [
    "<p style='direction:rtl;text-align:right;font-size:16px;font-family:samim;'>\n",
    "کافیست از دستور شرطی و دستور محاسبه طول رشته استفاده کنید. خیلی ساده است:)\n",
    "</p>"
   ]
  },
  {
   "cell_type": "markdown",
   "metadata": {},
   "source": [
    "<h4 style='direction:rtl;text-align:right;font-size:18px;font-family:samim;'>جواب</h4>"
   ]
  },
  {
   "cell_type": "code",
   "execution_count": 59,
   "metadata": {
    "tags": []
   },
   "outputs": [
    {
     "name": "stdout",
     "output_type": "stream",
     "text": [
      "This sentence is too long\n"
     ]
    }
   ],
   "source": [
    "sentence = \"the quick brown fox jumps over the lazy dog\"\n",
    "\n",
    "if len(sentence) > 6:\n",
    "    print(\"This sentence is too long\")"
   ]
  },
  {
   "cell_type": "markdown",
   "metadata": {},
   "source": [
    "<h2 style='direction:rtl;text-align:right;font-family:samim;'><b>🔸 تمرین ۲۳</b></h2>"
   ]
  },
  {
   "cell_type": "markdown",
   "metadata": {},
   "source": [
    "<p style='direction:rtl;text-align:right;font-size:18px;font-family:samim;line-height:1.5;'>\n",
    "    کدی بنویسید که چک کند یک رشته palindrome است یا خیر. palindrome به عبارتی گفته می‌شود که از اول و آخر به یک شکل نوشته می‌شود مثل \"anna\".\n",
    "</p>"
   ]
  },
  {
   "cell_type": "code",
   "execution_count": null,
   "metadata": {},
   "outputs": [],
   "source": []
  },
  {
   "cell_type": "markdown",
   "metadata": {
    "tags": []
   },
   "source": [
    "<h4 style='direction:rtl;text-align:right;font-size:18px;font-family:samim;'>راهنمایی</h4>"
   ]
  },
  {
   "cell_type": "markdown",
   "metadata": {
    "tags": []
   },
   "source": [
    "<p style='direction:rtl;text-align:right;font-size:16px;font-family:samim;'>\n",
    "برای چک کردن اینکه یک رشته palindrome است یا خیر، باید بررسی کنیم که آیا رشته از ابتدا تا انتها با رشته‌ی معکوس آن برابر است یا نه. برای معکوس کردن یک رشته در پایتون، می‌توان از slicing با گام منفی استفاده کرد.\n",
    "</p>"
   ]
  },
  {
   "cell_type": "markdown",
   "metadata": {
    "jp-MarkdownHeadingCollapsed": true,
    "tags": []
   },
   "source": [
    "<h4 style='direction:rtl;text-align:right;font-size:18px;font-family:samim;'>جواب</h4>"
   ]
  },
  {
   "cell_type": "code",
   "execution_count": 60,
   "metadata": {
    "tags": []
   },
   "outputs": [
    {
     "name": "stdout",
     "output_type": "stream",
     "text": [
      "it is palindrome\n"
     ]
    }
   ],
   "source": [
    "input_string = \"anna\"\n",
    "\n",
    "\n",
    "reversed_string = input_string[::-1]\n",
    "\n",
    "\n",
    "if input_string == reversed_string:\n",
    "    print(\"it is palindrome\")\n",
    "else:\n",
    "    print(\"it is not palindrome\")"
   ]
  },
  {
   "cell_type": "markdown",
   "metadata": {},
   "source": [
    "<h2 style='direction:rtl;text-align:right;font-family:samim;'><b>🔸 تمرین ۲۴*</b></h2>"
   ]
  },
  {
   "cell_type": "markdown",
   "metadata": {},
   "source": [
    "<p style='direction:rtl;text-align:right;font-size:18px;font-family:samim;line-height:1.5;'>\n",
    "    یک معیار برای سنجش شباهت دو رشته، distance edit یا فاصله ویرایشی است. این به این معنی است که یک رشته با چند تغییر به رشته دوم تبدیل می‌شود. مثلا دو رشته kitten و sitting را در نظر بگیرید. با اعمال تغییرات زیر کلمه kitten به sitting تبدیل خواهد شد:\n",
    "k به s تبدیل شود.\n",
    "e به i تبدیل شود.\n",
    "به پایان رشته یک g اضافه شود.\n",
    "به این ترتیب فاصله ویرایشی kitten و sitting برابر با 3 است. تابعی بنویسید که دو رشته دریافت کرده و فاصله ویرایشی را محاسبه کند. برای محاسبه distance edit از الگوریتم زیر استفاده کنید:\n",
    "</p>"
   ]
  },
  {
   "attachments": {
    "image-2.png": {
     "image/png": "[encoded data removed]"
    }
   },
   "cell_type": "markdown",
   "metadata": {},
   "source": [
    "![image-2.png](attachment:image-2.png)"
   ]
  },
  {
   "cell_type": "code",
   "execution_count": null,
   "metadata": {},
   "outputs": [],
   "source": []
  },
  {
   "cell_type": "markdown",
   "metadata": {
    "tags": []
   },
   "source": [
    "<h4 style='direction:rtl;text-align:right;font-size:18px;font-family:samim;'>راهنمایی</h4>"
   ]
  },
  {
   "cell_type": "markdown",
   "metadata": {
    "tags": []
   },
   "source": [
    "<p style='direction:rtl;text-align:right;font-size:16px;font-family:samim;'>\n",
    "یک ماتریس دو بعدی ایجاد کنید: این ماتریس برای نگهداری تعداد تغییرات لازم برای تبدیل بخش‌های مختلف دو رشته به یکدیگر استفاده می‌شود. ابعاد ماتریس برابر با طول دو رشته ورودی است.\n",
    "مقداردهی اولیه: اولین سطر و ستون ماتریس را با اعداد ۰ تا طول رشته‌ها پر کنید. این مقادیر نشان‌دهنده تبدیل رشته خالی به یک رشته با استفاده از عملیات اضافه کردن کاراکتر هستند.\n",
    "پر کردن ماتریس: برای هر کاراکتر از رشته‌ها، ماتریس را با استفاده از حداقل هزینه عملیات‌های جایگزینی، حذف، یا اضافه کردن پر کنید. اگر کاراکترها برابر باشند، هزینه جایگزینی صفر است.\n",
    "نتیجه نهایی: مقدار موجود در خانه آخر ماتریس، نشان‌دهنده فاصله ویرایشی بین دو رشته است.\n",
    "</p>"
   ]
  },
  {
   "cell_type": "markdown",
   "metadata": {
    "jp-MarkdownHeadingCollapsed": true,
    "tags": []
   },
   "source": [
    "<h4 style='direction:rtl;text-align:right;font-size:18px;font-family:samim;'>جواب</h4>"
   ]
  },
  {
   "cell_type": "code",
   "execution_count": 61,
   "metadata": {
    "tags": []
   },
   "outputs": [
    {
     "name": "stdout",
     "output_type": "stream",
     "text": [
      "Edit distance between 'kitten' and 'sitting': 3\n"
     ]
    }
   ],
   "source": [
    "\n",
    "s = \"kitten\"\n",
    "t = \"sitting\"\n",
    "\n",
    "\n",
    "len_s = len(s)\n",
    "len_t = len(t)\n",
    "distance_matrix = [[0] * (len_t + 1) for _ in range(len_s + 1)]\n",
    "\n",
    "\n",
    "for i in range(len_s + 1):\n",
    "    distance_matrix[i][0] = i\n",
    "\n",
    "for j in range(len_t + 1):\n",
    "    distance_matrix[0][j] = j\n",
    "\n",
    "for i in range(1, len_s + 1):\n",
    "    for j in range(1, len_t + 1):\n",
    "        cost = 0 if s[i - 1] == t[j - 1] else 1\n",
    "        distance_matrix[i][j] = min(\n",
    "            distance_matrix[i - 1][j] + 1,    # حذف\n",
    "            distance_matrix[i][j - 1] + 1,    # اضافه کردن\n",
    "            distance_matrix[i - 1][j - 1] + cost # جایگزینی\n",
    "        )\n",
    "\n",
    "edit_distance_result = distance_matrix[len_s][len_t]\n",
    "print(f\"Edit distance between '{s}' and '{t}':\", edit_distance_result)"
   ]
  }
 ],
 "metadata": {
  "kernelspec": {
   "display_name": "Python 3 (ipykernel)",
   "language": "python",
   "name": "python3"
  },
  "language_info": {
   "codemirror_mode": {
    "name": "ipython",
    "version": 3
   },
   "file_extension": ".py",
   "mimetype": "text/x-python",
   "name": "python",
   "nbconvert_exporter": "python",
   "pygments_lexer": "ipython3",
   "version": "3.9.12"
  }
 },
 "nbformat": 4,
 "nbformat_minor": 4
}
