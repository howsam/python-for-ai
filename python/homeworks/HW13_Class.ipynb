{
 "cells": [
  {
   "cell_type": "markdown",
   "metadata": {},
   "source": [
    "<div style=\"text-align:center; font-family:samim; font-size:30px;\"><strong> آشنایی با کلاس</strong></div>   \n",
    "<br>\n",
    "<p style=\"text-align:center; font-family:samim; font-size:20px;\">تمرین سری سیزدهم</p> \n",
    "<br>\n",
    "</p>"
   ]
  },
  {
   "cell_type": "markdown",
   "metadata": {},
   "source": [
    "<p style='direction:rtl;text-align:right;font-size:17px;font-family:samim;line-height:1.5;'>\n",
    "    در این سلسله تمرین‌های آموزشی \"پایتون برای هوش مصنوعی با هوسم\"، ما از شما دعوت می‌کنیم که با یک روند گام به گام، به تدریج پیشرفت کنید. این مسیر ممکن است زمان‌بر باشد، پس صبور باشید و به راهنمایی‌ها و راهکارهایی که از تجربه ما در ارتباط با دانشجویان مختلف بدست آمده است، اعتماد کنید. برای حل مسائل، لطفا به نکات زیر توجه کنید. امیدواریم شاهد پیشرفت‌های شما در این مسیر باشیم. موفق و پیروز باشید!\n",
    "    </p>\n",
    "<br>\n",
    "<div style=\"font-family: samim; font-size: 14px; text-align: right; direction: rtl;\">\n",
    "    <strong>فونت صمیم:</strong> برای مشاهده بهتر توضیحات فارسی، پیشنهاد می‌شود فونت رایگان صمیم را روی سیستم شخصی خود نصب کنید. <a href=\"https://www.fontyab.com/5024/%D9%81%D9%88%D9%86%D8%AA-%D9%81%D8%A7%D8%B1%D8%B3%DB%8C-%D8%B5%D9%85%DB%8C%D9%85.html\">لینک دانلود فونت صمیم</a>\n",
    "    <br>\n",
    "    <br>\n",
    "    <strong>نحوه مشاهده تمرین‌ها:</strong> هر تمرین شامل سه بخش سوال، راهنمایی و جواب هست. راهنمایی و جواب مینیمایز شده است. بهتر هست از Jupyter Lab برای مشاهده درست نوتبوک‌ها و سلول‌ها استفاده شود.\n",
    "    <br>\n",
    "    <br>\n",
    "    <strong>تمرکز بر روی مسئله:</strong> قبل از هر چیز، هر سوال را دقیق بخوانید و به آن فکر کنید. این اولین گام برای حل مسئله است.\n",
    "    <br>\n",
    "    <br>\n",
    "    <strong>استفاده از کاغذ:</strong> اگر نیاز بود، فلوچارت حل مساله را روی کاغذ  بنویسید و به آن فکر کنید. بسیاری اوقات، این کار می‌تواند به روشن شدن مساله و حل بهتر آن کمک کند.\n",
    "    <br>\n",
    "    <br>\n",
    "    <strong>شروع به کدنویسی:</strong> دست روی کیبورد و کدنویسی را فراموش نکنید! برای تسلط بر پایتون، نیاز هست تمرین‌های زیادی را کد بزنید.\n",
    "    <br>\n",
    "    <br>\n",
    "    <strong>استفاده متناسب از منابع:</strong> سعی کنید بدون استفاده از ابزارهای کمکی نظیر ChatGPT یا اینترنت، مسئله‌ها را حل کنید. دراینصورت، قدرت حل مساله در مغز شما تقویت می‌شود.\n",
    "    <br>\n",
    "    <br>\n",
    "    <strong>راهنمایی و ارزیابی:</strong> اگر پس از تلاش، به نتیجه نرسیدید، راهنمایی‌های ارائه شده را مطالعه کرده و دوباره به حل مساله بپردازید. اگر بعد از چند ساعت تلاش برای یک مساله، نتواستید، آنگاه جواب مساله را نگاه کنید.\n",
    "    <br>\n",
    "    <br>\n",
    "    <strong>مبتنی بر محتوا:</strong> سعی کنید با توجه به مباحثی که در ویدیو آموزش هر فصل آموخته‌اید، به سوالات پاسخ دهید و از دستورات جدید خودداری کنید. این به شما کمک می‌کند تا گام به گام و با پیشرفت مرحله‌ای، مسائل را حل کنید.\n",
    "    <br>\n",
    "    <br>\n",
    "    <strong>متنوع بودن راه‌حل‌ها:</strong> به یاد داشته باشید که برای هر سوال، روش‌های مختلفی وجود دارد. راه‌حل ارائه شده فقط یکی از راه‌حل‌های ممکن است و ممکن هست جواب شما هم درست باشد.\n",
    "</div>\n"
   ]
  },
  {
   "cell_type": "markdown",
   "metadata": {},
   "source": [
    "<h2 style='direction:rtl;text-align:right;font-family:samim;'><b>🔸 تمرین ۱</b></h2>"
   ]
  },
  {
   "cell_type": "markdown",
   "metadata": {},
   "source": [
    "<p style='direction:rtl;text-align:right;font-size:18px;font-family:samim;'>\n",
    "     یک کلاس ساده به نام Car تعریف کنید که هیچ متد یا خصوصیتی نداشته باشد.\n",
    "</p>"
   ]
  },
  {
   "cell_type": "code",
   "execution_count": null,
   "metadata": {},
   "outputs": [],
   "source": []
  },
  {
   "cell_type": "markdown",
   "metadata": {
    "tags": []
   },
   "source": [
    "<h4 style='direction:rtl;text-align:right;font-size:18px;font-family:samim;'>راهنمایی</h4>"
   ]
  },
  {
   "cell_type": "markdown",
   "metadata": {
    "tags": []
   },
   "source": [
    "<p style='direction:rtl;text-align:right;font-size:16px;font-family:samim;'>\n",
    "یادتون هست در درسنامه گفتیم می‌توانید از pass برای اینکه بعدا کلاس یا تابعی را پر کنید استفاده کنید.\n",
    "</p>"
   ]
  },
  {
   "cell_type": "markdown",
   "metadata": {
    "jp-MarkdownHeadingCollapsed": true,
    "tags": []
   },
   "source": [
    "<h4 style='direction:rtl;text-align:right;font-size:18px;font-family:samim;'>جواب</h4>"
   ]
  },
  {
   "cell_type": "code",
   "execution_count": 2,
   "metadata": {
    "tags": []
   },
   "outputs": [
    {
     "data": {
      "text/plain": [
       "<__main__.Car at 0x21b54f0c760>"
      ]
     },
     "execution_count": 2,
     "metadata": {},
     "output_type": "execute_result"
    }
   ],
   "source": [
    "class Car:\n",
    "    pass\n",
    "car1 = Car()\n",
    "car1"
   ]
  },
  {
   "cell_type": "markdown",
   "metadata": {},
   "source": [
    "<h2 style='direction:rtl;text-align:right;font-family:samim;'><b>🔸 تمرین ۲</b></h2>"
   ]
  },
  {
   "cell_type": "markdown",
   "metadata": {},
   "source": [
    "<p style='direction:rtl;text-align:right;font-size:18px;font-family:samim;'>\n",
    "یک کلاس به نام Rectangle تعریف کنید که دو خصوصیت width و height داشته باشد.\n",
    "</p>"
   ]
  },
  {
   "cell_type": "code",
   "execution_count": null,
   "metadata": {},
   "outputs": [],
   "source": []
  },
  {
   "cell_type": "markdown",
   "metadata": {
    "tags": []
   },
   "source": [
    "<h4 style='direction:rtl;text-align:right;font-size:18px;font-family:samim;'>راهنمایی</h4>"
   ]
  },
  {
   "cell_type": "markdown",
   "metadata": {
    "tags": []
   },
   "source": [
    "<p style='direction:rtl;text-align:right;font-size:16px;font-family:samim;'>\n",
    "کلاس مدنظر فقط نیاز به یک متد __init__ دارد و باید دو تا اتریبیوت تعریف کنید.\n",
    "</p>"
   ]
  },
  {
   "cell_type": "markdown",
   "metadata": {
    "jp-MarkdownHeadingCollapsed": true,
    "tags": []
   },
   "source": [
    "<h4 style='direction:rtl;text-align:right;font-size:18px;font-family:samim;'>جواب</h4>"
   ]
  },
  {
   "cell_type": "code",
   "execution_count": 6,
   "metadata": {
    "tags": []
   },
   "outputs": [
    {
     "data": {
      "text/plain": [
       "(4, 3)"
      ]
     },
     "execution_count": 6,
     "metadata": {},
     "output_type": "execute_result"
    }
   ],
   "source": [
    "class Rectangle:\n",
    "    def __init__(self, width, height):\n",
    "        self.width = width\n",
    "        self.height = height\n",
    "\n",
    "rec1 = Rectangle(3,4)\n",
    "rec1.height,rec1.width"
   ]
  },
  {
   "cell_type": "markdown",
   "metadata": {},
   "source": [
    "<h2 style='direction:rtl;text-align:right;font-family:samim;'><b>🔸 تمرین ۳</b></h2>"
   ]
  },
  {
   "cell_type": "markdown",
   "metadata": {},
   "source": [
    "<p style='direction:rtl;text-align:right;font-size:18px;font-family:samim;line-height:1.5;'>\n",
    "    یک کلاس Person بسازید که name و age را دریافت کند و یک متد greet داشته باشد که یک پیام خوش‌آمدگویی  بر اساس نام و سن  ورودی چاپ کند.\n",
    "\n",
    "</p>"
   ]
  },
  {
   "cell_type": "code",
   "execution_count": null,
   "metadata": {},
   "outputs": [],
   "source": []
  },
  {
   "cell_type": "markdown",
   "metadata": {
    "tags": []
   },
   "source": [
    "<h4 style='direction:rtl;text-align:right;font-size:18px;font-family:samim;'>راهنمایی</h4>"
   ]
  },
  {
   "cell_type": "markdown",
   "metadata": {
    "tags": []
   },
   "source": [
    "<p style='direction:rtl;text-align:right;font-size:16px;font-family:samim;'>\n",
    "نیاز به یک متود __init__ دارید تا ورودی‌ها را دریافت کند و سپس متد گفته شده در صورت سوال را پیاده‌سازی کنید.\n",
    "</p>"
   ]
  },
  {
   "cell_type": "markdown",
   "metadata": {
    "jp-MarkdownHeadingCollapsed": true,
    "tags": []
   },
   "source": [
    "<h4 style='direction:rtl;text-align:right;font-size:18px;font-family:samim;'>جواب</h4>"
   ]
  },
  {
   "cell_type": "code",
   "execution_count": 11,
   "metadata": {
    "tags": []
   },
   "outputs": [
    {
     "name": "stdout",
     "output_type": "stream",
     "text": [
      "Hello, my name is sajad and I am 33 years old.\n"
     ]
    }
   ],
   "source": [
    "class Person:\n",
    "    def __init__(self, name, age):\n",
    "        self.name = name\n",
    "        self.age = age\n",
    "\n",
    "    def greet(self):\n",
    "        print(f\"Hello, my name is {self.name} and I am {self.age} years old.\")\n",
    "        \n",
    "person = Person('sajad',33)        \n",
    "person.greet()"
   ]
  },
  {
   "cell_type": "markdown",
   "metadata": {},
   "source": [
    "<h2 style='direction:rtl;text-align:right;font-family:samim;'><b>🔸 تمرین ۴</b></h2>"
   ]
  },
  {
   "cell_type": "markdown",
   "metadata": {},
   "source": [
    "<p style='direction:rtl;text-align:right;font-size:18px;font-family:samim;'>\n",
    "یک کلاس Calculator بسازید که دو متد داشته باشد: add برای جمع دو عدد و multiply برای ضرب دو عدد.\n",
    "    در این کلاس از متد init استفاده نکنید.\n",
    "</p>"
   ]
  },
  {
   "cell_type": "code",
   "execution_count": null,
   "metadata": {},
   "outputs": [],
   "source": []
  },
  {
   "cell_type": "markdown",
   "metadata": {
    "tags": []
   },
   "source": [
    "<h4 style='direction:rtl;text-align:right;font-size:18px;font-family:samim;'>راهنمایی</h4>"
   ]
  },
  {
   "cell_type": "markdown",
   "metadata": {
    "tags": []
   },
   "source": [
    "<p style='direction:rtl;text-align:right;font-size:16px;font-family:samim;'>\n",
    "چون متد __init__ ندارید ورودی ها را برای هر دو متد تعریف کنید.\n",
    "</p>"
   ]
  },
  {
   "cell_type": "markdown",
   "metadata": {
    "jp-MarkdownHeadingCollapsed": true,
    "tags": []
   },
   "source": [
    "<h4 style='direction:rtl;text-align:right;font-size:18px;font-family:samim;'>جواب</h4>"
   ]
  },
  {
   "cell_type": "code",
   "execution_count": 14,
   "metadata": {
    "tags": []
   },
   "outputs": [
    {
     "data": {
      "text/plain": [
       "(8, 15)"
      ]
     },
     "execution_count": 14,
     "metadata": {},
     "output_type": "execute_result"
    }
   ],
   "source": [
    "class Calculator:\n",
    "    \n",
    "    def add(self, a, b):\n",
    "        return a + b\n",
    "\n",
    "    def multiply(self, a, b):\n",
    "        return a * b\n",
    "cal = Calculator()\n",
    "\n",
    "(cal.add(3,5) ,cal.multiply(3,5))    "
   ]
  },
  {
   "cell_type": "markdown",
   "metadata": {},
   "source": [
    "<h2 style='direction:rtl;text-align:right;font-family:samim;'><b>🔸 تمرین ۵</b></h2>"
   ]
  },
  {
   "cell_type": "markdown",
   "metadata": {},
   "source": [
    "<p style='direction:rtl;text-align:right;font-size:18px;font-family:samim;line-height:1.5;'>\n",
    "یک کلاس Book بسازید که شامل خصوصیت‌های title و author باشد و یک متد get_info داشته باشد که اطلاعات کتاب را چاپ کند.\n",
    "یکبار هم با استفاده از تابع call این کلاس را بسازید.\n",
    "</p>"
   ]
  },
  {
   "cell_type": "code",
   "execution_count": null,
   "metadata": {},
   "outputs": [],
   "source": []
  },
  {
   "cell_type": "markdown",
   "metadata": {
    "tags": []
   },
   "source": [
    "<h4 style='direction:rtl;text-align:right;font-size:18px;font-family:samim;'>راهنمایی</h4>"
   ]
  },
  {
   "cell_type": "markdown",
   "metadata": {
    "tags": []
   },
   "source": [
    "<p style='direction:rtl;text-align:right;font-size:16px;font-family:samim;'>\n",
    "به تفاوت فراخوانی با call و get_info دقت کنید.\n",
    "</p>"
   ]
  },
  {
   "cell_type": "markdown",
   "metadata": {
    "jp-MarkdownHeadingCollapsed": true,
    "tags": []
   },
   "source": [
    "<h4 style='direction:rtl;text-align:right;font-size:18px;font-family:samim;'>جواب</h4>"
   ]
  },
  {
   "cell_type": "code",
   "execution_count": 55,
   "metadata": {
    "tags": []
   },
   "outputs": [
    {
     "name": "stdout",
     "output_type": "stream",
     "text": [
      "The book 'Emma' is written by Jane Austen.\n",
      "The book 'Emma' is written by Jane Austen.\n"
     ]
    }
   ],
   "source": [
    "class Book:\n",
    "    def __init__(self, title, author):\n",
    "        self.title = title\n",
    "        self.author = author\n",
    "        \n",
    "    def get_info(self):\n",
    "        print(f\"The book '{self.title}' is written by {self.author}.\")   \n",
    "        \n",
    "    \n",
    "    def __call__(self):\n",
    "        print(f\"The book '{self.title}' is written by {self.author}.\")    \n",
    "\n",
    "book = Book('Emma', 'Jane Austen')\n",
    "book()\n",
    "book.get_info()"
   ]
  },
  {
   "cell_type": "markdown",
   "metadata": {},
   "source": [
    "<h2 style='direction:rtl;text-align:right;font-family:samim;'><b>🔸 تمرین ۶</b></h2>"
   ]
  },
  {
   "cell_type": "markdown",
   "metadata": {},
   "source": [
    "<p style='direction:rtl;text-align:right;font-size:18px;font-family:samim;line-height:1.5;'>\n",
    "یک کلاس Student بسازید که name و grade را بگیرد و متد is_passing داشته باشد که بررسی کند آیا دانش‌آموز قبول شده است (نمره بالای ۵۰).\n",
    "آیا می‌توانید این سوال را فقط با استفاده از متد call بنویسید؟\n",
    "</p>"
   ]
  },
  {
   "cell_type": "code",
   "execution_count": null,
   "metadata": {},
   "outputs": [],
   "source": []
  },
  {
   "cell_type": "markdown",
   "metadata": {
    "tags": []
   },
   "source": [
    "<h4 style='direction:rtl;text-align:right;font-size:18px;font-family:samim;'>راهنمایی</h4>"
   ]
  },
  {
   "cell_type": "markdown",
   "metadata": {
    "tags": []
   },
   "source": [
    "<p style='direction:rtl;text-align:right;font-size:16px;font-family:samim;'>\n",
    "ابتدا با استفاده از __init__ ورودی نام و نمره را تعریف کنید و از ویژگی‌های تعریف شده در تابع  بعدی استفاده کنید.\n",
    "</p>"
   ]
  },
  {
   "cell_type": "markdown",
   "metadata": {
    "jp-MarkdownHeadingCollapsed": true,
    "tags": []
   },
   "source": [
    "<h4 style='direction:rtl;text-align:right;font-size:18px;font-family:samim;'>جواب</h4>"
   ]
  },
  {
   "cell_type": "code",
   "execution_count": 27,
   "metadata": {
    "tags": []
   },
   "outputs": [
    {
     "name": "stdout",
     "output_type": "stream",
     "text": [
      "True\n"
     ]
    },
    {
     "data": {
      "text/plain": [
       "True"
      ]
     },
     "execution_count": 27,
     "metadata": {},
     "output_type": "execute_result"
    }
   ],
   "source": [
    "class Student:\n",
    "    def __init__(self, name, grade):\n",
    "        self.name = name\n",
    "        self.grade = grade\n",
    "\n",
    "    def is_passing(self):\n",
    "        return self.grade > 50\n",
    "\n",
    "student = Student('sahar',87)\n",
    "print(student.is_passing())\n",
    "\n",
    "\n",
    "class Student:\n",
    "    def __call__(self,name, grade):\n",
    "        return grade > 50\n",
    "    \n",
    "student = Student()\n",
    "student('sahar',87)"
   ]
  },
  {
   "cell_type": "markdown",
   "metadata": {},
   "source": [
    "<h2 style='direction:rtl;text-align:right;font-family:samim;'><b>🔸 تمرین ۷</b></h2>"
   ]
  },
  {
   "cell_type": "markdown",
   "metadata": {},
   "source": [
    "<p style='direction:rtl;text-align:right;font-size:18px;font-family:samim;line-height:1.5;'>\n",
    " کلاسی به نام User ایجاد کنید که اطلاعات کاربر (نام، ایمیل و رمز عبور) را ذخیره کند و متدی به نام change_password برای تغییر رمز عبور داشته باشد. همچنین، متدی برای نمایش اطلاعات کاربر بنویسید.\n",
    "</p>"
   ]
  },
  {
   "cell_type": "code",
   "execution_count": null,
   "metadata": {},
   "outputs": [],
   "source": []
  },
  {
   "cell_type": "markdown",
   "metadata": {
    "tags": []
   },
   "source": [
    "<h4 style='direction:rtl;text-align:right;font-size:18px;font-family:samim;'>راهنمایی</h4>"
   ]
  },
  {
   "cell_type": "markdown",
   "metadata": {
    "tags": []
   },
   "source": [
    "<p style='direction:rtl;text-align:right;font-size:16px;font-family:samim;'>\n",
    "با استفاده از __init__ ورودی ها را تعریف کنید. تابعی بنویسید که پسوورد جدید را گرفته و جایگزین خصوصیت پسوورد که قبلا تعریف کرده بودید، شود.\n",
    "  برای نمایش اطلاعات هم می‌توانید که تابع جدید به اسم مثلا diplay_info تعریف کنید و از دستور پرینت در آن استفاده کنید.\n",
    "</p>"
   ]
  },
  {
   "cell_type": "markdown",
   "metadata": {
    "jp-MarkdownHeadingCollapsed": true,
    "tags": []
   },
   "source": [
    "<h4 style='direction:rtl;text-align:right;font-size:18px;font-family:samim;'>جواب</h4>"
   ]
  },
  {
   "cell_type": "code",
   "execution_count": 60,
   "metadata": {
    "tags": []
   },
   "outputs": [
    {
     "name": "stdout",
     "output_type": "stream",
     "text": [
      "Name: Sara, Email: sara@gmail\n",
      "password123\n",
      "newpassword456\n"
     ]
    }
   ],
   "source": [
    "class User:\n",
    "    def __init__(self, name, email, password):\n",
    "        self.name = name\n",
    "        self.email = email\n",
    "        self.password = password\n",
    "    \n",
    "    def change_password(self, new_password):\n",
    "        self.password = new_password\n",
    "    \n",
    "    def display_info(self):\n",
    "        print(f\"Name: {self.name}, Email: {self.email}\")\n",
    "\n",
    "\n",
    "user = User(\"Sara\", \"sara@gmail\",\"password123\")\n",
    "user.display_info() \n",
    "print(user.password)\n",
    "user.change_password(\"newpassword456\")\n",
    "print(user.password)"
   ]
  },
  {
   "cell_type": "markdown",
   "metadata": {},
   "source": [
    "<h2 style='direction:rtl;text-align:right;font-family:samim;'><b>🔸 تمرین ۸</b></h2>"
   ]
  },
  {
   "cell_type": "markdown",
   "metadata": {},
   "source": [
    "<p style='direction:rtl;text-align:right;font-size:18px;font-family:samim;line-height:1.5;'>\n",
    "کلاسی به نام Inventory ایجاد کنید که اطلاعات مربوط به موجودی کالا (نام کالا و مقدار موجود) را نگهداری کند و متدهایی برای افزایش و کاهش موجودی داشته باشد.\n",
    "</p>"
   ]
  },
  {
   "cell_type": "code",
   "execution_count": null,
   "metadata": {},
   "outputs": [],
   "source": []
  },
  {
   "cell_type": "markdown",
   "metadata": {
    "tags": []
   },
   "source": [
    "<h4 style='direction:rtl;text-align:right;font-size:18px;font-family:samim;'>راهنمایی</h4>"
   ]
  },
  {
   "cell_type": "markdown",
   "metadata": {
    "tags": []
   },
   "source": [
    "<p style='direction:rtl;text-align:right;font-size:16px;font-family:samim;'>\n",
    "ابتدا نام آیتم و میزان آنرا به عنوان دو خصوصیت تعریف کنید. سپس نیاز به ۳ متد دارید. یکی برای اضافه کردن، یکی برای کم کردن و دیگری برای نمایش\n",
    "</p>"
   ]
  },
  {
   "cell_type": "markdown",
   "metadata": {
    "jp-MarkdownHeadingCollapsed": true,
    "tags": []
   },
   "source": [
    "<h4 style='direction:rtl;text-align:right;font-size:18px;font-family:samim;'>جواب</h4>"
   ]
  },
  {
   "cell_type": "code",
   "execution_count": 6,
   "metadata": {
    "tags": []
   },
   "outputs": [
    {
     "name": "stdout",
     "output_type": "stream",
     "text": [
      "Item: Laptop, Quantity: 10\n",
      "Item: Laptop, Quantity: 15\n",
      "Item: Laptop, Quantity: 12\n"
     ]
    }
   ],
   "source": [
    "class Inventory:\n",
    "    def __init__(self, item_name, quantity):\n",
    "        self.item_name = item_name\n",
    "        self.quantity = quantity\n",
    "    \n",
    "    def add_stock(self, amount):\n",
    "        self.quantity += amount\n",
    "    \n",
    "    def remove_stock(self, amount):\n",
    "        if amount > self.quantity:\n",
    "            print(\"Not enough stock to remove.\")\n",
    "        else:\n",
    "            self.quantity -= amount\n",
    "    \n",
    "    def display_stock(self):\n",
    "        print(f\"Item: {self.item_name}, Quantity: {self.quantity}\")\n",
    "\n",
    "\n",
    "inventory = Inventory(\"Laptop\", 10)\n",
    "inventory.display_stock() \n",
    "inventory.add_stock(5)\n",
    "inventory.display_stock() \n",
    "inventory.remove_stock(3)\n",
    "inventory.display_stock()  \n"
   ]
  },
  {
   "cell_type": "markdown",
   "metadata": {},
   "source": [
    "<h2 style='direction:rtl;text-align:right;font-family:samim;'><b>🔸 تمرین ۹</b></h2>"
   ]
  },
  {
   "cell_type": "markdown",
   "metadata": {},
   "source": [
    "<p style='direction:rtl;text-align:right;font-size:18px;font-family:samim;line-height:1.5;'>\n",
    "  کلاسی به نام Student ایجاد کنید که نام و امتیازات دروس مختلف را نگهداری کند. متدی برای محاسبه میانگین امتیازات و همچنین برای نمایش بهترین امتیاز پیاده‌سازی کنید.\n",
    "</p>"
   ]
  },
  {
   "cell_type": "code",
   "execution_count": null,
   "metadata": {},
   "outputs": [],
   "source": []
  },
  {
   "cell_type": "markdown",
   "metadata": {
    "tags": []
   },
   "source": [
    "<h4 style='direction:rtl;text-align:right;font-size:18px;font-family:samim;'>راهنمایی</h4>"
   ]
  },
  {
   "cell_type": "markdown",
   "metadata": {
    "tags": []
   },
   "source": [
    "<p style='direction:rtl;text-align:right;font-size:16px;font-family:samim;'>\n",
    "در متد __init__ نام و امتیاز هر دانش‌آموز را گرفته و سپس نیاز به دو متد برای محاسبه میانگین و بیشترین امتیاز براساس این ورودی ها دارید و در نهایت یک متد display_info بنویسید که از متدهای قبلی برای نمایش اطلاعات استفاده کند.\n",
    "</p>"
   ]
  },
  {
   "cell_type": "markdown",
   "metadata": {
    "jp-MarkdownHeadingCollapsed": true,
    "tags": []
   },
   "source": [
    "<h4 style='direction:rtl;text-align:right;font-size:18px;font-family:samim;'>جواب</h4>"
   ]
  },
  {
   "cell_type": "code",
   "execution_count": 8,
   "metadata": {
    "tags": []
   },
   "outputs": [
    {
     "name": "stdout",
     "output_type": "stream",
     "text": [
      "Name: sepanta, Average Score: 86.25, Highest Score: 92\n"
     ]
    }
   ],
   "source": [
    "class Student:\n",
    "    def __init__(self, name, scores):\n",
    "        self.name = name\n",
    "        self.scores = scores\n",
    "    \n",
    "    def average_score(self):\n",
    "        return sum(self.scores) / len(self.scores)\n",
    "    \n",
    "    def highest_score(self):\n",
    "        return max(self.scores)\n",
    "    \n",
    "    def display_info(self):\n",
    "        print(f\"Name: {self.name}, Average Score: {self.average_score()}, Highest Score: {self.highest_score()}\")\n",
    "\n",
    "\n",
    "student = Student(\"sepanta\", [85, 90, 78, 92])\n",
    "student.display_info() \n"
   ]
  },
  {
   "cell_type": "markdown",
   "metadata": {},
   "source": [
    "<h2 style='direction:rtl;text-align:right;font-family:samim;'><b>🔸 تمرین ۱۰*</b></h2>"
   ]
  },
  {
   "cell_type": "markdown",
   "metadata": {},
   "source": [
    "<p style='direction:rtl;text-align:right;font-size:18px;font-family:samim;line-height:1.5;'>\n",
    "  کلاسی به نام Library ایجاد کنید که یک لیست از کتاب‌ها را نگهداری کند. هر کتاب باید نام و نویسنده داشته باشد. متدهایی برای افزودن و حذف کتاب از لیست و همچنین جستجو برای یک کتاب خاص پیاده‌سازی کنید.\n",
    "</p>"
   ]
  },
  {
   "cell_type": "code",
   "execution_count": null,
   "metadata": {},
   "outputs": [],
   "source": []
  },
  {
   "cell_type": "markdown",
   "metadata": {
    "tags": []
   },
   "source": [
    "<h4 style='direction:rtl;text-align:right;font-size:18px;font-family:samim;'>راهنمایی</h4>"
   ]
  },
  {
   "cell_type": "markdown",
   "metadata": {
    "tags": []
   },
   "source": [
    "<p style='direction:rtl;text-align:right;font-size:16px;font-family:samim;'>\n",
    "تعریف کلاس Book:\n",
    "    <br>\n",
    "    برای کتاب‌ها ویژگی‌های  titel و author  را تعریف کنید\n",
    "    و کلاس تو در تو داشته باشید.\n",
    "    <br>\n",
    "   سپس\n",
    "   <br>   \n",
    "تعریف کلاس Library:\n",
    "<br>\n",
    "متد add_book: اضافه کردن کتاب به لیست.\n",
    "    <br>\n",
    "متد remove_book: حذف کتاب با توجه به عنوان.\n",
    "    <br>\n",
    "متد find_book: جستجو برای کتاب بر اساس عنوان.\n",
    "    <br>\n",
    "متد display_books: نمایش تمام کتاب‌ها در لیست\n",
    "</p>"
   ]
  },
  {
   "cell_type": "markdown",
   "metadata": {
    "jp-MarkdownHeadingCollapsed": true,
    "tags": []
   },
   "source": [
    "<h4 style='direction:rtl;text-align:right;font-size:18px;font-family:samim;'>جواب</h4>"
   ]
  },
  {
   "cell_type": "code",
   "execution_count": 31,
   "metadata": {
    "tags": []
   },
   "outputs": [
    {
     "name": "stdout",
     "output_type": "stream",
     "text": [
      "**********\n",
      "Title: 1984, Author: George Orwell\n",
      "**********\n",
      "Title: 1984, Author: George Orwell\n",
      "Title: To Kill a Mockingbird, Author: Harper Lee\n",
      "**********\n",
      "Found book: Title: 1984, Author: George Orwell\n"
     ]
    }
   ],
   "source": [
    "class Book:\n",
    "    def __init__(self, title, author):\n",
    "        self.title = title\n",
    "        self.author = author\n",
    "\n",
    "class Library:\n",
    "    def __init__(self):\n",
    "        self.books = []\n",
    "    \n",
    "    def add_book(self, book):\n",
    "        self.books.append(book)\n",
    "    \n",
    "    def remove_book(self, title):\n",
    "        self.books = [book for book in self.books if book.title != title]\n",
    "    \n",
    "    def find_book(self, title):\n",
    "        for book in self.books:\n",
    "            if book.title == title:\n",
    "                return book\n",
    "        return None\n",
    "    \n",
    "    def display_books(self):\n",
    "        for book in self.books:\n",
    "            print(f\"Title: {book.title}, Author: {book.author}\")\n",
    "\n",
    "library = Library()\n",
    "print(\"**********\")\n",
    "library.add_book(Book(\"1984\", \"George Orwell\"))\n",
    "library.display_books()\n",
    "print(\"**********\")\n",
    "library.add_book(Book(\"To Kill a Mockingbird\", \"Harper Lee\"))\n",
    "library.display_books()\n",
    "print(\"**********\")\n",
    "found_book = library.find_book(\"1984\")\n",
    "if found_book:\n",
    "    print(f\"Found book: Title: {found_book.title}, Author: {found_book.author}\")\n",
    "else:\n",
    "    print(\"Book not found\")\n"
   ]
  },
  {
   "cell_type": "markdown",
   "metadata": {},
   "source": [
    "<h2 style='direction:rtl;text-align:right;font-family:samim;'><b>🔸 تمرین ۱۱*</b></h2>"
   ]
  },
  {
   "cell_type": "markdown",
   "metadata": {},
   "source": [
    "<p style='direction:rtl;text-align:right;font-size:18px;font-family:samim;line-height:1.5;'>\n",
    "کلاسی به نام Invoice ایجاد کنید که اطلاعات فاکتور (شناسه، مشتری و مبلغ کل) را نگهداری کند. متدهایی برای محاسبه مالیات (با نرخ ثابت 10%) و نمایش کل مبلغ با مالیات پیاده‌سازی کنید.\n",
    "</p>"
   ]
  },
  {
   "cell_type": "code",
   "execution_count": null,
   "metadata": {},
   "outputs": [],
   "source": []
  },
  {
   "cell_type": "markdown",
   "metadata": {
    "tags": []
   },
   "source": [
    "<h4 style='direction:rtl;text-align:right;font-size:18px;font-family:samim;'>راهنمایی</h4>"
   ]
  },
  {
   "cell_type": "markdown",
   "metadata": {
    "tags": []
   },
   "source": [
    "<p style='direction:rtl;text-align:right;font-size:16px;font-family:samim;'>\n",
    "تعریف کلاس Invoice کنید و سپس متدهای زیر را تعریف کنید.\n",
    "<br>\n",
    "متد __init__: تعریف ویژگی‌های invoice_id, customer, و amount.\n",
    "<br>\n",
    "متد calculate_tax: محاسبه مالیات با استفاده از نرخ ثابت 10%.\n",
    "<br>\n",
    "متد total_amount_with_tax: محاسبه کل مبلغ با افزودن مالیات به مبلغ اصلی.\n",
    "<br>\n",
    "متد display_invoice: نمایش اطلاعات فاکتور به همراه مبلغ کل با مالیات.\n",
    "</p>"
   ]
  },
  {
   "cell_type": "markdown",
   "metadata": {
    "jp-MarkdownHeadingCollapsed": true,
    "tags": []
   },
   "source": [
    "<h4 style='direction:rtl;text-align:right;font-size:18px;font-family:samim;'>جواب</h4>"
   ]
  },
  {
   "cell_type": "code",
   "execution_count": 32,
   "metadata": {
    "tags": []
   },
   "outputs": [
    {
     "name": "stdout",
     "output_type": "stream",
     "text": [
      "Invoice ID: 1001, Customer: Elham, Amount: 500.0, Total with Tax: 550.0\n"
     ]
    }
   ],
   "source": [
    "class Invoice:\n",
    "    TAX_RATE = 0.10  # 10% tax rate\n",
    "    \n",
    "    def __init__(self, invoice_id, customer, amount):\n",
    "        self.invoice_id = invoice_id\n",
    "        self.customer = customer\n",
    "        self.amount = amount\n",
    "    \n",
    "    def calculate_tax(self):\n",
    "        return self.amount * self.TAX_RATE\n",
    "    \n",
    "    def total_amount_with_tax(self):\n",
    "        return self.amount + self.calculate_tax()\n",
    "    \n",
    "    def display_invoice(self):\n",
    "        print(f\"Invoice ID: {self.invoice_id}, Customer: {self.customer}, Amount: {self.amount}, Total with Tax: {self.total_amount_with_tax()}\")\n",
    "\n",
    "\n",
    "invoice = Invoice(1001, \"Elham\", 500.0)\n",
    "invoice.display_invoice()  \n"
   ]
  },
  {
   "cell_type": "markdown",
   "metadata": {},
   "source": [
    "<h2 style='direction:rtl;text-align:right;font-family:samim;'><b>🔸 تمرین ۱۲</b></h2>"
   ]
  },
  {
   "cell_type": "markdown",
   "metadata": {},
   "source": [
    "<p style='direction:rtl;text-align:right;font-size:18px;font-family:samim;line-height:1.5;'>\n",
    "کلاسی به نام Employee ایجاد کنید که نام، شناسه و حقوق کارمند را نگهداری کند. متدهایی برای افزایش حقوق بر حسب درصد و نمایش اطلاعات کارمند پیاده‌سازی کنید.\n",
    "</p>"
   ]
  },
  {
   "cell_type": "code",
   "execution_count": null,
   "metadata": {},
   "outputs": [],
   "source": []
  },
  {
   "cell_type": "markdown",
   "metadata": {
    "tags": []
   },
   "source": [
    "<h4 style='direction:rtl;text-align:right;font-size:18px;font-family:samim;'>راهنمایی</h4>"
   ]
  },
  {
   "cell_type": "markdown",
   "metadata": {
    "tags": []
   },
   "source": [
    "<p style='direction:rtl;text-align:right;font-size:16px;font-family:samim;'>\n",
    "    متدهای زیر را باید در نظر بگیرید\n",
    "   <br>\n",
    "متد __init__: تعریف ویژگی‌های name, emp_id, و salary.\n",
    "    <br>\n",
    "متد increase_salary: افزایش حقوق با درصد داده شده. استفاده از فرمول (percentage / 100) برای محاسبه مقدار افزایشی.\n",
    "<br>\n",
    "متد display_info: نمایش نام، شناسه، و حقوق به‌روز شده کارمند.\n",
    "</p>"
   ]
  },
  {
   "cell_type": "markdown",
   "metadata": {
    "jp-MarkdownHeadingCollapsed": true,
    "tags": []
   },
   "source": [
    "<h4 style='direction:rtl;text-align:right;font-size:18px;font-family:samim;'>جواب</h4>"
   ]
  },
  {
   "cell_type": "code",
   "execution_count": 33,
   "metadata": {
    "tags": []
   },
   "outputs": [
    {
     "name": "stdout",
     "output_type": "stream",
     "text": [
      "Name: sahar, ID: 1234, Salary: 63000.0\n"
     ]
    }
   ],
   "source": [
    "class Employee:\n",
    "    def __init__(self, name, emp_id, salary):\n",
    "        self.name = name\n",
    "        self.emp_id = emp_id\n",
    "        self.salary = salary\n",
    "    \n",
    "    def increase_salary(self, percentage):\n",
    "        self.salary += self.salary * (percentage / 100)\n",
    "    \n",
    "    def display_info(self):\n",
    "        print(f\"Name: {self.name}, ID: {self.emp_id}, Salary: {self.salary}\")\n",
    "\n",
    "\n",
    "employee = Employee(\"sahar\", 1234, 60000)\n",
    "employee.increase_salary(5)\n",
    "employee.display_info()  \n"
   ]
  },
  {
   "cell_type": "markdown",
   "metadata": {},
   "source": [
    "<h2 style='direction:rtl;text-align:right;font-family:samim;'><b>🔸 تمرین ۱۳*</b></h2>"
   ]
  },
  {
   "cell_type": "markdown",
   "metadata": {},
   "source": [
    "<p style='direction:rtl;text-align:right;font-size:18px;font-family:samim;line-height:1.5;'>\n",
    " کلاسی به نام NumberSet ایجاد کنید که یک لیست از اعداد را نگهداری کند. متدهایی برای محاسبه طول مجموعه ، افزودن اعداد به مجموعه ، و ضرب هر عدد در یک عدد دیگر پیاده‌سازی کنید.\n",
    "</p>"
   ]
  },
  {
   "cell_type": "code",
   "execution_count": null,
   "metadata": {},
   "outputs": [],
   "source": []
  },
  {
   "cell_type": "markdown",
   "metadata": {
    "tags": []
   },
   "source": [
    "<h4 style='direction:rtl;text-align:right;font-size:18px;font-family:samim;'>راهنمایی</h4>"
   ]
  },
  {
   "cell_type": "markdown",
   "metadata": {
    "tags": []
   },
   "source": [
    "<p style='direction:rtl;text-align:right;font-size:16px;font-family:samim;'>\n",
    "    نیاز به تعریف متدهای زیر دارید\n",
    "    <br>\n",
    "متد __init__: برای ذخیره لیست اعداد.\n",
    "    <br>\n",
    "متد __len__: طول مجموعه را با استفاده از len محاسبه کنید.\n",
    " <br>\n",
    "متد __add__: برای الحاق دو مجموعه عددی. ترکیب لیست‌های اعداد.\n",
    " <br>\n",
    "متد __mul__: برای ضرب هر عدد در یک عدد دیگر.  \n",
    " <br>\n",
    "متد __repr__: برای نمایش لیست اعداد به صورت رشته\n",
    "</p>"
   ]
  },
  {
   "cell_type": "markdown",
   "metadata": {
    "jp-MarkdownHeadingCollapsed": true,
    "tags": []
   },
   "source": [
    "<h4 style='direction:rtl;text-align:right;font-size:18px;font-family:samim;'>جواب</h4>"
   ]
  },
  {
   "cell_type": "code",
   "execution_count": 38,
   "metadata": {
    "tags": []
   },
   "outputs": [
    {
     "name": "stdout",
     "output_type": "stream",
     "text": [
      "NumberSet([1, 2, 3])\n",
      "NumberSet([4, 5])\n",
      "3\n",
      "NumberSet([1, 2, 3, 4, 5])\n",
      "NumberSet([2, 4, 6])\n"
     ]
    }
   ],
   "source": [
    "class NumberSet:\n",
    "    def __init__(self, numbers):\n",
    "        self.numbers = numbers\n",
    "    \n",
    "    def __len__(self):\n",
    "        return len(self.numbers)\n",
    "    \n",
    "    def __add__(self, other):\n",
    "       \n",
    "        return NumberSet(self.numbers + other.numbers)       \n",
    "    \n",
    "    def __mul__(self, multiplier):\n",
    "        return NumberSet([x * multiplier for x in self.numbers])\n",
    "    \n",
    "    def __repr__(self):\n",
    "        return f\"NumberSet({self.numbers})\"\n",
    "\n",
    "\n",
    "set1 = NumberSet([1, 2, 3])\n",
    "print(set1)\n",
    "set2 = NumberSet([4, 5])\n",
    "print(set2)\n",
    "print(len(set1))  \n",
    "set3 = set1 + set2\n",
    "print(set3) \n",
    "set4 = set1 * 2\n",
    "print(set4)  "
   ]
  },
  {
   "cell_type": "markdown",
   "metadata": {},
   "source": [
    "<h2 style='direction:rtl;text-align:right;font-family:samim;'><b>🔸 تمرین ۱۴</b></h2>"
   ]
  },
  {
   "cell_type": "markdown",
   "metadata": {},
   "source": [
    "<p style='direction:rtl;text-align:right;font-size:18px;font-family:samim;line-height:1.5;'>\n",
    "کلاسی به نام Vector ایجاد کنید که مختصات یک بردار را نگهداری کند. متدهایی برای جمع کردن دو بردار ، تفریق دو بردار ، و ضرب یک بردار در عدد پیاده‌سازی کنید.\n",
    "</p>"
   ]
  },
  {
   "cell_type": "code",
   "execution_count": null,
   "metadata": {},
   "outputs": [],
   "source": []
  },
  {
   "cell_type": "markdown",
   "metadata": {
    "tags": []
   },
   "source": [
    "<h4 style='direction:rtl;text-align:right;font-size:18px;font-family:samim;'>راهنمایی</h4>"
   ]
  },
  {
   "cell_type": "markdown",
   "metadata": {
    "tags": []
   },
   "source": [
    "<p style='direction:rtl;text-align:right;font-size:16px;font-family:samim;'>\n",
    "    نیاز به در نظر گرفتن متدهای زیر دارید.\n",
    "    <br>\n",
    "متد __init__: برای ذخیره مختصات بردار به صورت لیست.\n",
    "     <br>\n",
    "متد __add__: برای جمع دو بردار. بررسی کنید که اندازه دو بردار یکسان باشد و سپس جمع کنید.\n",
    " <br>\n",
    "متد __sub__: برای تفریق دو بردار. مشابه جمع، مطمئن شوید که اندازه‌ها مشابه هستند و سپس تفریق کنید.\n",
    " <br>\n",
    "متد __mul__: برای ضرب بردار در یک عدد. استفاده از لیست comprehensions برای ضرب هر مختصات.\n",
    " <br>\n",
    "متد __repr__: برای نمایش مختصات بردار به صورت رشته.\n",
    "</p>"
   ]
  },
  {
   "cell_type": "markdown",
   "metadata": {
    "jp-MarkdownHeadingCollapsed": true,
    "tags": []
   },
   "source": [
    "<h4 style='direction:rtl;text-align:right;font-size:18px;font-family:samim;'>جواب</h4>"
   ]
  },
  {
   "cell_type": "code",
   "execution_count": 5,
   "metadata": {
    "tags": []
   },
   "outputs": [
    {
     "name": "stdout",
     "output_type": "stream",
     "text": [
      "[1, 2, 9]\n",
      "[3, 4, 0]\n",
      "[3, 6, 27]\n"
     ]
    }
   ],
   "source": [
    "class Vector:\n",
    "    def __init__(self, *item):\n",
    "        self.data = list(item)\n",
    "        \n",
    "    def __len__(self):\n",
    "        return len(self.data)\n",
    "    \n",
    "    def __add__(self, other):\n",
    "        \n",
    "        if len(other) == len(self.data):\n",
    "        \n",
    "            return Vector(*map(lambda x,y: x+y , self.data,other.data))\n",
    "    \n",
    "    def __sub__(self, other):\n",
    "        if len(other) == len(self.data):\n",
    "            return Vector(*map(lambda x,y: x-y , self.data,other.data))\n",
    "    \n",
    "    def __mul__(self, scalar):\n",
    "        res = [i*scalar for i in self.data]\n",
    "        return Vector(*res)\n",
    "    \n",
    "\n",
    "    \n",
    "    def __repr__(self):\n",
    "        return str(self.data)\n",
    "\n",
    "\n",
    "v1 = Vector(1, 2, 9)\n",
    "print(v1)\n",
    "v2 = Vector(3, 4, 0)\n",
    "print(v2)\n",
    "c = v1 + v2\n",
    "print(v1 * 3)\n"
   ]
  },
  {
   "cell_type": "markdown",
   "metadata": {},
   "source": [
    "<h2 style='direction:rtl;text-align:right;font-family:samim;'><b>🔸 تمرین ۱۵*</b></h2>"
   ]
  },
  {
   "cell_type": "markdown",
   "metadata": {},
   "source": [
    "<p style='direction:rtl;text-align:right;font-size:18px;font-family:samim;line-height:1.5;'>\n",
    "کلاسی به نام Matrix ایجاد کنید که یک ماتریس دو بعدی را نگهداری کند. متدهایی برای نمایش ماتریس ، دریافت عنصر از ماتریس ، و تغییر عنصر در ماتریس پیاده‌سازی کنید.\n",
    "</p>"
   ]
  },
  {
   "cell_type": "code",
   "execution_count": null,
   "metadata": {},
   "outputs": [],
   "source": []
  },
  {
   "cell_type": "markdown",
   "metadata": {
    "tags": []
   },
   "source": [
    "<h4 style='direction:rtl;text-align:right;font-size:18px;font-family:samim;'>راهنمایی</h4>"
   ]
  },
  {
   "cell_type": "markdown",
   "metadata": {
    "tags": []
   },
   "source": [
    "<p style='direction:rtl;text-align:right;font-size:16px;font-family:samim;'>\n",
    "نیاز به تعریف متدهای زیر دارید\n",
    "    <br>\n",
    "    متد __init__: برای ذخیره ماتریس به صورت لیست دو بعدی.\n",
    "        <br>\n",
    "متد __repr__: برای نمایش ماتریس به صورت متنی. استفاده از join برای مرتب‌سازی هر سطر و افزودن \\n برای جداسازی سطرها.\n",
    "    <br>\n",
    "متد __getitem__: برای دریافت عنصر از ماتریس با استفاده از ایندکس‌های (row, col).\n",
    "    <br>\n",
    "متد __setitem__: برای تغییر عنصر ماتریس با استفاده از ایندکس‌های (row, col) و مقدار جدید\n",
    "</p>"
   ]
  },
  {
   "cell_type": "markdown",
   "metadata": {
    "jp-MarkdownHeadingCollapsed": true,
    "tags": []
   },
   "source": [
    "<h4 style='direction:rtl;text-align:right;font-size:18px;font-family:samim;'>جواب</h4>"
   ]
  },
  {
   "cell_type": "code",
   "execution_count": 12,
   "metadata": {
    "tags": []
   },
   "outputs": [
    {
     "name": "stdout",
     "output_type": "stream",
     "text": [
      "Matrix:\n",
      "1 2 3\n",
      "4 5 6\n",
      "7 8 9\n",
      "6\n",
      "Matrix after modification:\n",
      "1 2 3\n",
      "4 5 10\n",
      "7 8 9\n"
     ]
    }
   ],
   "source": [
    "class Matrix:\n",
    "    def __init__(self, data):\n",
    "        self.data = data\n",
    "    \n",
    "    def __repr__(self):\n",
    "        repr_str = \"\"\n",
    "        for row in self.data:\n",
    "            repr_str += \" \".join(map(str, row)) + \"\\n\"\n",
    "        return repr_str.strip()\n",
    "    \n",
    "    def __getitem__(self, index):\n",
    "        row, col = index\n",
    "        return self.data[row][col]\n",
    "    \n",
    "    def __setitem__(self, index, value):\n",
    "        row, col = index\n",
    "        self.data[row][col] = value\n",
    "\n",
    "\n",
    "matrix = Matrix([\n",
    "    [1, 2, 3],\n",
    "    [4, 5, 6],\n",
    "    [7, 8, 9]\n",
    "])\n",
    "\n",
    "print(\"Matrix:\")\n",
    "print(matrix)\n",
    "print(matrix[1, 2])  \n",
    "matrix[1, 2] = 10\n",
    "print(\"Matrix after modification:\")\n",
    "print(matrix)"
   ]
  },
  {
   "cell_type": "code",
   "execution_count": null,
   "metadata": {},
   "outputs": [],
   "source": []
  },
  {
   "cell_type": "markdown",
   "metadata": {},
   "source": [
    "<h2 style='direction:rtl;text-align:right;font-family:samim;'><b>🔸 تمرین ۱۶</b></h2>"
   ]
  },
  {
   "cell_type": "markdown",
   "metadata": {},
   "source": [
    "<p style='direction:rtl;text-align:right;font-size:18px;font-family:samim;line-height:1.5;'>\n",
    "  شما مسئول ایجاد کلاسی به نام TextProcessor هستید که یک رشته متنی را مدیریت می‌کند. این کلاس باید متدهایی برای تکرار رشته ، و جستجوی زیررشته داشته باشد. پیاده‌سازی کنید و عملکرد آن را بررسی کنید.\n",
    "</p>"
   ]
  },
  {
   "cell_type": "code",
   "execution_count": null,
   "metadata": {},
   "outputs": [],
   "source": []
  },
  {
   "cell_type": "markdown",
   "metadata": {
    "tags": []
   },
   "source": [
    "<h4 style='direction:rtl;text-align:right;font-size:18px;font-family:samim;'>راهنمایی</h4>"
   ]
  },
  {
   "cell_type": "markdown",
   "metadata": {
    "tags": []
   },
   "source": [
    "<p style='direction:rtl;text-align:right;font-size:16px;font-family:samim;'> \n",
    "   خب به چند تا به متد احتیاج دارید؟\n",
    "    <br>\n",
    "    متد __init__: برای ذخیره متن به صورت رشته.\n",
    "   <br> \n",
    "متد __mul__: برای تکرار رشته. استفاده از عملگر * برای تکرار متن و ایجاد شیء جدید TextProcessor.\n",
    "   <br> \n",
    "متد __getitem__: برای دریافت زیررشته با استفاده از ایندکس‌ها. این امکان را فراهم می‌آورد که با استفاده از اسلایس‌ها زیررشته‌ها را استخراج کنید.\n",
    "<br>\n",
    "متد __repr__: برای نمایش نمایشی از شیء که شامل متن ذخیره شده است.\n",
    "</p>"
   ]
  },
  {
   "cell_type": "markdown",
   "metadata": {
    "jp-MarkdownHeadingCollapsed": true,
    "tags": []
   },
   "source": [
    "<h4 style='direction:rtl;text-align:right;font-size:18px;font-family:samim;'>جواب</h4>"
   ]
  },
  {
   "cell_type": "code",
   "execution_count": 1,
   "metadata": {
    "tags": []
   },
   "outputs": [
    {
     "name": "stdout",
     "output_type": "stream",
     "text": [
      "TextProcessor('hello')\n",
      "TextProcessor('hellohellohello')\n",
      "ell\n"
     ]
    }
   ],
   "source": [
    "class TextProcessor:\n",
    "    def __init__(self, text):\n",
    "        self.text = text\n",
    "    \n",
    "    def __mul__(self, n):\n",
    "        return TextProcessor(self.text * n)\n",
    "    \n",
    "    def __getitem__(self, index):\n",
    "        return self.text[index]\n",
    "    \n",
    "    def __repr__(self):\n",
    "        return f\"TextProcessor('{self.text}')\"\n",
    "\n",
    "\n",
    "text = TextProcessor(\"hello\")\n",
    "print(text)\n",
    "text_repeated = text * 3\n",
    "print(text_repeated) \n",
    "print(text[1:4]) \n"
   ]
  },
  {
   "cell_type": "markdown",
   "metadata": {},
   "source": [
    "<h2 style='direction:rtl;text-align:right;font-family:samim;'><b>🔸 تمرین ۱۷</b></h2>"
   ]
  },
  {
   "cell_type": "markdown",
   "metadata": {},
   "source": [
    "<p style='direction:rtl;text-align:right;font-size:18px;font-family:samim;line-height:1.5;'>\n",
    "کلاسی به نام Grades طراحی کنید که نمرات دانش‌آموزان را به صورت دیکشنری نگهداری کند. این کلاس باید قابلیت دریافت نمره (__getitem__)، تنظیم نمره (__setitem__)، و نمایش نمرات (__repr__) را داشته باشد. پیاده‌سازی کنید و نتایج را تست کنید.    \n",
    "    \n",
    "</p>"
   ]
  },
  {
   "cell_type": "code",
   "execution_count": null,
   "metadata": {},
   "outputs": [],
   "source": []
  },
  {
   "cell_type": "markdown",
   "metadata": {
    "tags": []
   },
   "source": [
    "<h4 style='direction:rtl;text-align:right;font-size:18px;font-family:samim;'>راهنمایی</h4>"
   ]
  },
  {
   "cell_type": "markdown",
   "metadata": {
    "tags": []
   },
   "source": [
    "<p style='direction:rtl;text-align:right;font-size:16px;font-family:samim;'>\n",
    "علاوه بر init شما به چند متد دیگه هم نیاز دارید:\n",
    "    <br>\n",
    "    __getitem__ برای دریافت نمره یک دانش‌آموز.\n",
    "    از متدهایی که در درس دیکشنری یاد گرفته بودید کمک بگیرید.\n",
    "    <br>\n",
    "__setitem__ برای تنظیم نمره یک دانش‌آموز.\n",
    "    <br>\n",
    "__repr__ برای نمایش دیکشنری نمرات به صورت متنی.\n",
    "    \n",
    "</p>"
   ]
  },
  {
   "cell_type": "markdown",
   "metadata": {
    "jp-MarkdownHeadingCollapsed": true,
    "tags": []
   },
   "source": [
    "<h4 style='direction:rtl;text-align:right;font-size:18px;font-family:samim;'>جواب</h4>"
   ]
  },
  {
   "cell_type": "code",
   "execution_count": 30,
   "metadata": {
    "tags": []
   },
   "outputs": [
    {
     "name": "stdout",
     "output_type": "stream",
     "text": [
      "{}\n",
      "90\n",
      "{'Alice': 90, 'Bob': 85}\n"
     ]
    }
   ],
   "source": [
    "class Grades:\n",
    "    def __init__(self):\n",
    "        self.grades = {}\n",
    "    \n",
    "    def __getitem__(self, student):\n",
    "        return self.grades.get(student)\n",
    "    \n",
    "    def __setitem__(self, student, grade):\n",
    "        self.grades[student] = grade\n",
    "    \n",
    "    def __repr__(self):\n",
    "        return str(self.grades)\n",
    "\n",
    "\n",
    "grades = Grades()\n",
    "print(grades)\n",
    "grades[\"Alice\"] = 90\n",
    "grades[\"Bob\"] = 85\n",
    "print(grades[\"Alice\"])  \n",
    "print(grades)          \n"
   ]
  },
  {
   "cell_type": "markdown",
   "metadata": {},
   "source": [
    "<h2 style='direction:rtl;text-align:right;font-family:samim;'><b>🔸 تمرین ۱۸</b></h2>"
   ]
  },
  {
   "cell_type": "markdown",
   "metadata": {},
   "source": [
    "<p style='direction:rtl;text-align:right;font-size:18px;font-family:samim;line-height:1.5;'>\n",
    "شما کلاسی به نام CustomList ایجاد کرده‌اید که یک لیست از اعداد را نگهداری می‌کند. این کلاس باید قابلیت افزودن عنصر به لیست،  ضرب همه عناصر در یک عدد ، و نمایش لیست را داشته باشد. پیاده‌سازی کنید و عملکرد آن را بررسی کنید.\n",
    "</p>"
   ]
  },
  {
   "cell_type": "code",
   "execution_count": null,
   "metadata": {},
   "outputs": [],
   "source": []
  },
  {
   "cell_type": "markdown",
   "metadata": {
    "tags": []
   },
   "source": [
    "<h4 style='direction:rtl;text-align:right;font-size:18px;font-family:samim;'>راهنمایی</h4>"
   ]
  },
  {
   "cell_type": "markdown",
   "metadata": {
    "tags": []
   },
   "source": [
    "<p style='direction:rtl;text-align:right;font-size:16px;font-family:samim;'>\n",
    "    متدهای مهمی که احتیاج دارید:\n",
    "    <br>\n",
    "__add__: برای افزودن یک عنصر جدید به انتهای لیست و برگرداندن یک شیء جدید از CustomList که شامل عنصر جدید است.\n",
    "    <br>\n",
    "__mul__: برای ضرب هر عنصر در لیست بر اساس ضریب داده شده و برگرداندن یک شیء جدید از CustomList که شامل عناصر ضرب شده است.\n",
    "    <br>\n",
    "__repr__: برای نمایش لیست به صورت متنی\n",
    "</p>"
   ]
  },
  {
   "cell_type": "markdown",
   "metadata": {
    "jp-MarkdownHeadingCollapsed": true,
    "tags": []
   },
   "source": [
    "<h4 style='direction:rtl;text-align:right;font-size:18px;font-family:samim;'>جواب</h4>"
   ]
  },
  {
   "cell_type": "code",
   "execution_count": 19,
   "metadata": {
    "tags": []
   },
   "outputs": [
    {
     "name": "stdout",
     "output_type": "stream",
     "text": [
      "CustomList: [1, 2, 3, 4]\n",
      "CustomList: [3, 6, 9]\n"
     ]
    }
   ],
   "source": [
    "class CustomList:\n",
    "    def __init__(self, items):\n",
    "        self.items = items\n",
    "    \n",
    "    def __add__(self, item):\n",
    "        return CustomList(self.items + [item])\n",
    "    \n",
    "    def __mul__(self, multiplier):\n",
    "        return CustomList([x * multiplier for x in self.items])\n",
    "    \n",
    "    def __repr__(self):\n",
    "        return f\"CustomList: {self.items}\"\n",
    "\n",
    "\n",
    "cl = CustomList([1, 2, 3])\n",
    "cl2 = cl + 4\n",
    "print(cl2) \n",
    "cl3 = cl * 3\n",
    "print(cl3) \n"
   ]
  },
  {
   "cell_type": "markdown",
   "metadata": {},
   "source": [
    "<h2 style='direction:rtl;text-align:right;font-family:samim;'><b>🔸 تمرین ۱۹*</b></h2>"
   ]
  },
  {
   "cell_type": "markdown",
   "metadata": {},
   "source": [
    "<p style='direction:rtl;text-align:right;font-size:18px;font-family:samim;line-height:1.5;'>\n",
    "کلاسی به نام SetOperations ایجاد کنید که دو مجموعه از اعداد را نگهداری می‌کند. این کلاس باید قابلیت محاسبه اجتماع دو مجموعه، و اشتراک دو مجموعه را داشته باشد. پیاده‌سازی کنید و نتایج آن را تست کنید.    \n",
    "</p>"
   ]
  },
  {
   "cell_type": "code",
   "execution_count": null,
   "metadata": {},
   "outputs": [],
   "source": []
  },
  {
   "cell_type": "markdown",
   "metadata": {
    "tags": []
   },
   "source": [
    "<h4 style='direction:rtl;text-align:right;font-size:18px;font-family:samim;'>راهنمایی</h4>"
   ]
  },
  {
   "cell_type": "markdown",
   "metadata": {
    "tags": []
   },
   "source": [
    "<p style='direction:rtl;text-align:right;font-size:16px;font-family:samim;'>\n",
    "از متدهایی که در درس مجموعه‌ها گفتیم اینجا باید استفاده کنید.\n",
    "    <br>\n",
    "    __add__: برای محاسبه اجتماع دو مجموعه (یعنی ترکیب تمامی عناصر هر دو مجموعه) و برگرداندن شیء جدید از SetOperations که شامل عناصر اجتماع است.\n",
    "    <br>\n",
    "__mul__: برای محاسبه اشتراک دو مجموعه (یعنی عناصری که در هر دو مجموعه وجود دارند) و برگرداندن شیء جدید از SetOperations که شامل عناصر اشتراک است.\n",
    "    <br>\n",
    "__repr__: برای نمایش مجموعه به صورت متنی\n",
    "</p>"
   ]
  },
  {
   "cell_type": "markdown",
   "metadata": {
    "jp-MarkdownHeadingCollapsed": true,
    "tags": []
   },
   "source": [
    "<h4 style='direction:rtl;text-align:right;font-size:18px;font-family:samim;'>جواب</h4>"
   ]
  },
  {
   "cell_type": "code",
   "execution_count": 27,
   "metadata": {
    "tags": []
   },
   "outputs": [
    {
     "name": "stdout",
     "output_type": "stream",
     "text": [
      "set_final = {1, 2, 3, 5, 6}\n",
      "set_final = {3}\n"
     ]
    }
   ],
   "source": [
    "class SetOperations:\n",
    "    def __init__(self, set1):\n",
    "        self.set1 = set(set1)\n",
    "        \n",
    "    \n",
    "    def __add__(self, other):\n",
    "        return SetOperations(self.set1.union(other.set1))\n",
    "    \n",
    "    def __mul__(self, other):\n",
    "        return SetOperations(self.set1.intersection(other.set1))\n",
    "    \n",
    "    def __repr__(self):\n",
    "        return f\"set_final = {self.set1}\"\n",
    "\n",
    "op1 = SetOperations([1, 2, 3])\n",
    "op2 = SetOperations([3, 5, 6])\n",
    "print(op1 + op2)  \n",
    "print(op1 * op2)  \n"
   ]
  },
  {
   "cell_type": "markdown",
   "metadata": {},
   "source": [
    "<h2 style='direction:rtl;text-align:right;font-family:samim;'><b>🔸 تمرین ۲۰</b></h2>"
   ]
  },
  {
   "cell_type": "markdown",
   "metadata": {},
   "source": [
    "<p style='direction:rtl;text-align:right;font-size:18px;font-family:samim;line-height:1.5;'>\n",
    "کلاسی به نام ObjectDict طراحی کنید که اشیاء مختلف را نگهداری کند. این کلاس باید قابلیت اضافه کردن شیء (__setitem__)، دریافت شیء (__getitem__)، و نمایش دیکشنری (__repr__) را داشته باشد. پیاده‌سازی کنید و عملکرد آن را آزمایش کنید.   \n",
    "</p>"
   ]
  },
  {
   "cell_type": "code",
   "execution_count": null,
   "metadata": {},
   "outputs": [],
   "source": []
  },
  {
   "cell_type": "markdown",
   "metadata": {
    "tags": []
   },
   "source": [
    "<h4 style='direction:rtl;text-align:right;font-size:18px;font-family:samim;'>راهنمایی</h4>"
   ]
  },
  {
   "cell_type": "markdown",
   "metadata": {
    "tags": []
   },
   "source": [
    "<p style='direction:rtl;text-align:right;font-size:16px;font-family:samim;'>\n",
    "    در متدهای مشخص شده باید به موارد گفته شده دقت کنید.\n",
    "    <br>\n",
    "__setitem__: برای اضافه کردن یا به‌روزرسانی شیء در دیکشنری با استفاده از کلید مشخص.\n",
    "    <br>\n",
    "__getitem__: برای دریافت شیء از دیکشنری بر اساس کلید مشخص. اگر کلید وجود نداشته باشد، None برگردانده می‌شود.\n",
    "    <br>\n",
    "__repr__: برای نمایش دیکشنری به صورت متنی که شامل تمام کلیدها و مقادیر ذخیره شده است.\n",
    "</p>"
   ]
  },
  {
   "cell_type": "markdown",
   "metadata": {
    "jp-MarkdownHeadingCollapsed": true,
    "tags": []
   },
   "source": [
    "<h4 style='direction:rtl;text-align:right;font-size:18px;font-family:samim;'>جواب</h4>"
   ]
  },
  {
   "cell_type": "code",
   "execution_count": 29,
   "metadata": {
    "tags": []
   },
   "outputs": [
    {
     "name": "stdout",
     "output_type": "stream",
     "text": [
      "{}\n",
      "1\n",
      "{'a': 1, 'b': 2}\n"
     ]
    }
   ],
   "source": [
    "class ObjectDict:\n",
    "    def __init__(self):\n",
    "        self.objects = {}\n",
    "    \n",
    "    def __setitem__(self, key, obj):\n",
    "        self.objects[key] = obj\n",
    "    \n",
    "    def __getitem__(self, key):\n",
    "        return self.objects.get(key)\n",
    "    \n",
    "    def __repr__(self):\n",
    "        return str(self.objects)\n",
    "\n",
    "\n",
    "obj_dict = ObjectDict()\n",
    "print(obj_dict)\n",
    "obj_dict['a'] = 1\n",
    "obj_dict['b'] = 2\n",
    "print(obj_dict['a']) \n",
    "print(obj_dict)      \n"
   ]
  },
  {
   "cell_type": "markdown",
   "metadata": {},
   "source": [
    "<h2 style='direction:rtl;text-align:right;font-family:samim;'><b>🔸 تمرین ۲۱</b></h2>"
   ]
  },
  {
   "cell_type": "markdown",
   "metadata": {},
   "source": [
    "<p style='direction:rtl;text-align:right;font-size:18px;font-family:samim;line-height:1.5;'>\n",
    " کلاسی به نام LinearEquation ایجاد کنید که معادله خطی \n",
    "$$𝑎𝑥+𝑏=0$$\n",
    " را مدل‌سازی کند. این کلاس باید قابلیت‌های زیر را داشته باشد:\n",
    "    <br>\n",
    "حل معادله برای x\n",
    "    <br>\n",
    "نمایش معادله به صورت رشته  \n",
    "</p>"
   ]
  },
  {
   "cell_type": "code",
   "execution_count": null,
   "metadata": {},
   "outputs": [],
   "source": []
  },
  {
   "cell_type": "markdown",
   "metadata": {
    "tags": []
   },
   "source": [
    "<h4 style='direction:rtl;text-align:right;font-size:18px;font-family:samim;'>راهنمایی</h4>"
   ]
  },
  {
   "cell_type": "markdown",
   "metadata": {
    "tags": []
   },
   "source": [
    "<p style='direction:rtl;text-align:right;font-size:16px;font-family:samim;'>\n",
    "_call__: این متد برای حل معادله استفاده ‌شود. اگر ضریب \n",
    "a صفر باشد، پیام خطای مناسب را برمی‌گرداند؛ در غیر این صورت، مقدار x را با استفاده از فرمول مناسب، محاسبه می‌کند.\n",
    "</p>"
   ]
  },
  {
   "cell_type": "markdown",
   "metadata": {
    "jp-MarkdownHeadingCollapsed": true,
    "tags": []
   },
   "source": [
    "<h4 style='direction:rtl;text-align:right;font-size:18px;font-family:samim;'>جواب</h4>"
   ]
  },
  {
   "cell_type": "code",
   "execution_count": 33,
   "metadata": {
    "tags": []
   },
   "outputs": [
    {
     "name": "stdout",
     "output_type": "stream",
     "text": [
      "answer is : 2.0\n",
      "2x + -4 = 0\n"
     ]
    }
   ],
   "source": [
    "class LinearEquation:\n",
    "    def __init__(self, a, b):\n",
    "        self.a = a\n",
    "        self.b = b\n",
    "    \n",
    "    def __call__(self):\n",
    "        if self.a == 0:\n",
    "            print(\"Coefficient 'a' cannot be zero for a valid linear equation.\")\n",
    "        return f\"answer is : {-self.b / self.a}\"\n",
    "    \n",
    "    def __repr__(self):\n",
    "        return f\"{self.a}x + {self.b} = 0\"\n",
    "\n",
    "eq = LinearEquation(2, -4)\n",
    "print(eq())  \n",
    "print(eq)    \n"
   ]
  },
  {
   "cell_type": "markdown",
   "metadata": {},
   "source": [
    "<h2 style='direction:rtl;text-align:right;font-family:samim;'><b>🔸 تمرین ۲۲*</b></h2>"
   ]
  },
  {
   "cell_type": "markdown",
   "metadata": {},
   "source": [
    "<p style='direction:rtl;text-align:right;font-size:18px;font-family:samim;line-height:1.5;'>\n",
    "کلاسی به نام RelativeDate ایجاد کنید که تاریخ‌هایی را به صورت روز، ماه، و سال نگهداری کند. این کلاس باید قابلیت‌های زیر را داشته باشد:  \n",
    "    <br>\n",
    "    محاسبه اختلاف روزها بین دو تاریخ \n",
    "    <br>\n",
    "    افزودن روزها به تاریخ\n",
    "    <br>\n",
    "    نمایش تاریخ به صورت رشته\n",
    "    <br>\n",
    "    توجه: تمامی ماه‌ها را ۳۰ روزه در نظر بگیرید.\n",
    "</p>"
   ]
  },
  {
   "cell_type": "code",
   "execution_count": null,
   "metadata": {},
   "outputs": [],
   "source": []
  },
  {
   "cell_type": "markdown",
   "metadata": {
    "tags": []
   },
   "source": [
    "<h4 style='direction:rtl;text-align:right;font-size:18px;font-family:samim;'>راهنمایی</h4>"
   ]
  },
  {
   "cell_type": "markdown",
   "metadata": {
    "tags": []
   },
   "source": [
    "<p style='direction:rtl;text-align:right;font-size:16px;font-family:samim;'>\n",
    "    علاوه بر __init__ نیاز به سه متد دارید.\n",
    "    <br>\n",
    "محاسبه اختلاف روزها بین دو تاریخ:\n",
    "<br>\n",
    "تاریخ‌ها را به تعداد کل روزها از ابتدای یک سال معین تبدیل کنید.\n",
    "    <br>\n",
    "اختلاف این دو مقدار را محاسبه کنید تا تعداد روزهای بین دو تاریخ به دست آید.\n",
    "    <br>\n",
    "افزودن روزها به تاریخ:\n",
    "<br>\n",
    "روزهای جدید را به تاریخ فعلی اضافه کنید.\n",
    "    <br>\n",
    "اگر تعداد روزها از 30 روز بیشتر شد، ماه را به‌روز کنید.\n",
    "    <br>\n",
    "اگر ماه‌ها از 12 ماه بیشتر شد، سال را به‌روز کنید.\n",
    "    <br>\n",
    "نمایش تاریخ به صورت رشته:\n",
    "    <br>\n",
    "تاریخ را در قالب روز/ماه/سال نمایش دهید.\n",
    "</p>"
   ]
  },
  {
   "cell_type": "markdown",
   "metadata": {
    "jp-MarkdownHeadingCollapsed": true,
    "tags": []
   },
   "source": [
    "<h4 style='direction:rtl;text-align:right;font-size:18px;font-family:samim;'>جواب</h4>"
   ]
  },
  {
   "cell_type": "code",
   "execution_count": 34,
   "metadata": {
    "tags": []
   },
   "outputs": [
    {
     "name": "stdout",
     "output_type": "stream",
     "text": [
      "164\n",
      "30/07/2023\n"
     ]
    }
   ],
   "source": [
    "class RelativeDate:\n",
    "    def __init__(self, day, month, year):\n",
    "        self.day = day\n",
    "        self.month = month\n",
    "        self.year = year\n",
    "    \n",
    "    def __sub__(self, other):\n",
    "        days1 = self.year * 365 + self.month * 30 + self.day\n",
    "        days2 = other.year * 365 + other.month * 30 + other.day\n",
    "        return abs(days1 - days2)\n",
    "    \n",
    "    def __add__(self, days):\n",
    "        new_day = self.day + days\n",
    "        new_month = self.month\n",
    "        new_year = self.year\n",
    "        while new_day > 30:\n",
    "            new_day -= 30\n",
    "            new_month += 1\n",
    "        while new_month > 12:\n",
    "            new_month -= 12\n",
    "            new_year += 1\n",
    "        return RelativeDate(new_day, new_month, new_year)\n",
    "    \n",
    "    def __repr__(self):\n",
    "        return f\"{self.day:02d}/{self.month:02d}/{self.year}\"\n",
    "\n",
    "\n",
    "d1 = RelativeDate(15, 6, 2023)\n",
    "d2 = RelativeDate(1, 1, 2023)\n",
    "print(d1 - d2) \n",
    "print(d1 + 45)  \n"
   ]
  },
  {
   "cell_type": "markdown",
   "metadata": {},
   "source": [
    "<h2 style='direction:rtl;text-align:right;font-family:samim;'><b>🔸 تمرین ۲۳*</b></h2>"
   ]
  },
  {
   "cell_type": "markdown",
   "metadata": {},
   "source": [
    "<p style='direction:rtl;text-align:right;font-size:18px;font-family:samim;line-height:1.5;'>\n",
    "کلاسی به نام ComplexNumber ایجاد کنید که اعداد مختلط را مدل‌سازی کند و قابلیت‌های زیر را داشته باشد:\n",
    "    <br>\n",
    "    جمع دو عدد مختلط\n",
    "    <br>\n",
    "    ضرب دو عدد مختلط\n",
    "    <br>\n",
    "    نمایش عدد مختلط به صورت رشته\n",
    "</p>"
   ]
  },
  {
   "cell_type": "code",
   "execution_count": null,
   "metadata": {},
   "outputs": [],
   "source": []
  },
  {
   "cell_type": "markdown",
   "metadata": {
    "tags": []
   },
   "source": [
    "<h4 style='direction:rtl;text-align:right;font-size:18px;font-family:samim;'>راهنمایی</h4>"
   ]
  },
  {
   "cell_type": "markdown",
   "metadata": {
    "tags": []
   },
   "source": [
    "<p style='direction:rtl;text-align:right;font-size:16px;font-family:samim;'>\n",
    "در متد __add__، مقادیر حقیقی و موهومی دو عدد مختلط را جداگانه جمع کنید.\n",
    "    <br>\n",
    "    در متد __mul__، از فرمول ضرب عدد مختلط برای محاسبه مقادیر حقیقی و موهومی استفاده کنید.\n",
    "    <br>\n",
    "    در متد __repr__، عدد مختلط را به فرم \"a + bi\" نمایش دهید و توجه داشته باشید که علامت + یا - باید به درستی نمایش داده شود.\n",
    "</p>"
   ]
  },
  {
   "cell_type": "markdown",
   "metadata": {
    "jp-MarkdownHeadingCollapsed": true,
    "tags": []
   },
   "source": [
    "<h4 style='direction:rtl;text-align:right;font-size:18px;font-family:samim;'>جواب</h4>"
   ]
  },
  {
   "cell_type": "code",
   "execution_count": 6,
   "metadata": {
    "tags": []
   },
   "outputs": [
    {
     "name": "stdout",
     "output_type": "stream",
     "text": [
      "3 - 1i\n",
      "14 - 5i\n"
     ]
    }
   ],
   "source": [
    "class ComplexNumber:\n",
    "    def __init__(self, real, imag):\n",
    "        self.real = real\n",
    "        self.imag = imag\n",
    "    \n",
    "    def __add__(self, other):\n",
    "        return ComplexNumber(self.real + other.real, self.imag + other.imag)\n",
    "    \n",
    "    def __mul__(self, other):\n",
    "        return ComplexNumber(self.real * other.real - self.imag * other.imag,\n",
    "                             self.real * other.imag + self.imag * other.real)\n",
    "    \n",
    "    def __repr__(self):\n",
    "        if self.imag >= 0:\n",
    "            return f\"{self.real} + {self.imag}i\"\n",
    "        else:\n",
    "            return f\"{self.real} - {abs(self.imag)}i\"\n",
    "\n",
    "\n",
    "c1 = ComplexNumber(2, 3)\n",
    "c2 = ComplexNumber(1, -4)\n",
    "print(c1 + c2) \n",
    "print(c1 * c2)  \n"
   ]
  },
  {
   "cell_type": "code",
   "execution_count": 7,
   "metadata": {},
   "outputs": [
    {
     "data": {
      "text/plain": [
       "(14-5j)"
      ]
     },
     "execution_count": 7,
     "metadata": {},
     "output_type": "execute_result"
    }
   ],
   "source": [
    "(2+3j) * (1-4j)"
   ]
  },
  {
   "cell_type": "markdown",
   "metadata": {},
   "source": [
    "<h2 style='direction:rtl;text-align:right;font-family:samim;'><b>🔸 تمرین ۲۴*</b></h2>"
   ]
  },
  {
   "cell_type": "markdown",
   "metadata": {},
   "source": [
    "<p style='direction:rtl;text-align:right;font-size:18px;font-family:samim;line-height:1.5;'>\n",
    "   کلاسی به نام Project ایجاد کنید که پروژه‌ها را با نام و تاریخ پایان نگهداری کند و قابلیت‌های زیر را داشته باشد:\n",
    "    <br>\n",
    "    مقایسه تاریخ پایان پروژه‌ها (__lt__)\n",
    "    <br>\n",
    "    تغییر تاریخ پایان پروژه (__setitem__)\n",
    "    <br>\n",
    "    نمایش پروژه به صورت رشته (__repr__)\n",
    "    <br>\n",
    "    نکته: تاریخ‌ها باید به فرمت قابل مقایسه (مثل رشته \"YYYY-MM-DD\") باشند تا بتوانید از عملگر < استفاده کنید.\n",
    "\n",
    "</p>"
   ]
  },
  {
   "cell_type": "code",
   "execution_count": null,
   "metadata": {},
   "outputs": [],
   "source": []
  },
  {
   "cell_type": "markdown",
   "metadata": {
    "tags": []
   },
   "source": [
    "<h4 style='direction:rtl;text-align:right;font-size:18px;font-family:samim;'>راهنمایی</h4>"
   ]
  },
  {
   "cell_type": "markdown",
   "metadata": {
    "tags": []
   },
   "source": [
    "<p style='direction:rtl;text-align:right;font-size:16px;font-family:samim;'>\n",
    "در متد __lt__، تاریخ پایان پروژه جاری (self.end_date) را با تاریخ پایان پروژه دیگر (other.end_date) مقایسه کنید.\n",
    "    <br>\n",
    "    در متد __setitem__، بررسی کنید که کلید برابر با 'end_date' باشد و سپس مقدار جدید را به self.end_date اختصاص دهید.\n",
    "    <br>\n",
    "    در متد __repr__، اطلاعات پروژه شامل نام و تاریخ پایان را به صورت رشته قالب‌بندی شده بازگردانید.\n",
    "</p>"
   ]
  },
  {
   "cell_type": "markdown",
   "metadata": {
    "jp-MarkdownHeadingCollapsed": true,
    "tags": []
   },
   "source": [
    "<h4 style='direction:rtl;text-align:right;font-size:18px;font-family:samim;'>جواب</h4>"
   ]
  },
  {
   "cell_type": "code",
   "execution_count": 37,
   "metadata": {
    "tags": []
   },
   "outputs": [
    {
     "name": "stdout",
     "output_type": "stream",
     "text": [
      "True\n",
      "Project(name=Project A, end_date=2024-07-01)\n"
     ]
    }
   ],
   "source": [
    "class Project:\n",
    "    def __init__(self, name, end_date):\n",
    "        self.name = name\n",
    "        self.end_date = end_date\n",
    "    \n",
    "    def __lt__(self, other):\n",
    "        return self.end_date < other.end_date\n",
    "    \n",
    "    def __setitem__(self, key, value):\n",
    "        if key == 'end_date':\n",
    "            self.end_date = value\n",
    "    \n",
    "    def __repr__(self):\n",
    "        return f\"Project(name={self.name}, end_date={self.end_date})\"\n",
    "\n",
    "proj1 = Project(\"Project A\", \"2024-05-01\")\n",
    "proj2 = Project(\"Project B\", \"2024-06-01\")\n",
    "print(proj1 < proj2)  \n",
    "proj1['end_date'] = \"2024-07-01\"\n",
    "print(proj1)         \n"
   ]
  },
  {
   "cell_type": "markdown",
   "metadata": {},
   "source": [
    "<h2 style='direction:rtl;text-align:right;font-family:samim;'><b>🔸 تمرین ۲۵</b></h2>"
   ]
  },
  {
   "cell_type": "markdown",
   "metadata": {},
   "source": [
    "<p style='direction:rtl;text-align:right;font-size:18px;font-family:samim;line-height:1.5;'>\n",
    "   کلاسی به نام Range ایجاد کنید که یک محدوده از اعداد را مدل‌سازی کند و قابلیت‌های زیر را داشته باشد:\n",
    "    <br>\n",
    "    نمایش محدوده به صورت رشته\n",
    "    <br>\n",
    "    اضافه کردن یک عدد به محدوده\n",
    "    <br>\n",
    "    ضرب محدوده با یک عدد\n",
    "</p>"
   ]
  },
  {
   "cell_type": "code",
   "execution_count": null,
   "metadata": {},
   "outputs": [],
   "source": []
  },
  {
   "cell_type": "markdown",
   "metadata": {
    "tags": []
   },
   "source": [
    "<h4 style='direction:rtl;text-align:right;font-size:18px;font-family:samim;'>راهنمایی</h4>"
   ]
  },
  {
   "cell_type": "markdown",
   "metadata": {
    "tags": []
   },
   "source": [
    "<p style='direction:rtl;text-align:right;font-size:16px;font-family:samim;'>\n",
    " در متد __repr__، اطلاعات شروع و پایان محدوده را به صورت رشته قالب‌بندی شده بازگردانید\n",
    "    <br>\n",
    "    در متد __add__, مقدار ورودی را به self.start و self.end اضافه کنید.\n",
    "    <br>\n",
    "    در متد __mul__, مقدار ورودی را به self.start و self.end ضرب کنید.\n",
    "</p>"
   ]
  },
  {
   "cell_type": "markdown",
   "metadata": {
    "jp-MarkdownHeadingCollapsed": true,
    "tags": []
   },
   "source": [
    "<h4 style='direction:rtl;text-align:right;font-size:18px;font-family:samim;'>جواب</h4>"
   ]
  },
  {
   "cell_type": "code",
   "execution_count": 39,
   "metadata": {
    "tags": []
   },
   "outputs": [
    {
     "name": "stdout",
     "output_type": "stream",
     "text": [
      "(start=1, end=10)\n",
      "(start=6, end=15)\n",
      "(start=2, end=20)\n"
     ]
    }
   ],
   "source": [
    "class Range:\n",
    "    def __init__(self, start, end):\n",
    "        self.start = start\n",
    "        self.end = end\n",
    "    \n",
    "    def __add__(self, value):\n",
    "        return Range(self.start + value, self.end + value)\n",
    "    \n",
    "    def __mul__(self, factor):\n",
    "        return Range(self.start * factor, self.end * factor)\n",
    "    \n",
    "    def __repr__(self):\n",
    "        return f\"(start={self.start}, end={self.end})\"\n",
    "\n",
    "# Example usage:\n",
    "r = Range(1, 10)\n",
    "print(r)\n",
    "new_range = r + 5\n",
    "print(new_range)  \n",
    "scaled_range = r * 2\n",
    "print(scaled_range)  \n"
   ]
  },
  {
   "cell_type": "markdown",
   "metadata": {},
   "source": [
    "<h2 style='direction:rtl;text-align:right;font-family:samim;'><b>🔸 تمرین ۲۶</b></h2>"
   ]
  },
  {
   "cell_type": "markdown",
   "metadata": {},
   "source": [
    "<p style='direction:rtl;text-align:right;font-size:18px;font-family:samim;line-height:1.5;'>\n",
    "  کلاسی به نام TemperatureLog ایجاد کنید که دماهای روزانه را نگهداری کند و قابلیت‌های زیر را داشته باشد:\n",
    "    <br>\n",
    "    افزودن دما به لیست\n",
    "    <br>\n",
    "    محاسبه میانگین دما\n",
    "    <br>\n",
    "    نمایش لیست دماها به صورت رشته\n",
    "</p>"
   ]
  },
  {
   "cell_type": "code",
   "execution_count": null,
   "metadata": {},
   "outputs": [],
   "source": []
  },
  {
   "cell_type": "markdown",
   "metadata": {
    "tags": []
   },
   "source": [
    "<h4 style='direction:rtl;text-align:right;font-size:18px;font-family:samim;'>راهنمایی</h4>"
   ]
  },
  {
   "cell_type": "markdown",
   "metadata": {
    "tags": []
   },
   "source": [
    "<p style='direction:rtl;text-align:right;font-size:16px;font-family:samim;'>\n",
    "متد add_temperature برای افزودن دمای جدید به لیست دماها که در init تعریف شده\n",
    "  <br>  \n",
    "    متد average_temperature برای محاسبه میانگین دماها تعریف شود\n",
    "</p>"
   ]
  },
  {
   "cell_type": "markdown",
   "metadata": {
    "jp-MarkdownHeadingCollapsed": true,
    "tags": []
   },
   "source": [
    "<h4 style='direction:rtl;text-align:right;font-size:18px;font-family:samim;'>جواب</h4>"
   ]
  },
  {
   "cell_type": "code",
   "execution_count": 8,
   "metadata": {
    "tags": []
   },
   "outputs": [
    {
     "name": "stdout",
     "output_type": "stream",
     "text": [
      "temperatures=[22.5]\n",
      "temperatures=[22.5, 24.0]\n",
      "avg_temp = 23.25\n"
     ]
    }
   ],
   "source": [
    "class TemperatureLog:\n",
    "    def __init__(self):\n",
    "        self.temperatures = []\n",
    "    \n",
    "    def add_temperature(self, temperature):\n",
    "        self.temperatures.append(temperature)\n",
    "    \n",
    "    def average_temperature(self):\n",
    "        return f\"avg_temp = {sum(self.temperatures) / len(self.temperatures)}\" if self.temperatures else 0\n",
    "    \n",
    "    def __repr__(self):\n",
    "        return f\"temperatures={self.temperatures}\"\n",
    "\n",
    "\n",
    "log = TemperatureLog()\n",
    "log.add_temperature(22.5)\n",
    "print(log)\n",
    "log.add_temperature(24.0)\n",
    "print(log)\n",
    "print(log.average_temperature())  \n",
    "                       \n"
   ]
  },
  {
   "cell_type": "markdown",
   "metadata": {},
   "source": [
    "<h2 style='direction:rtl;text-align:right;font-family:samim;'><b>🔸 تمرین ۲۷</b></h2>"
   ]
  },
  {
   "cell_type": "markdown",
   "metadata": {},
   "source": [
    "<p style='direction:rtl;text-align:right;font-size:18px;font-family:samim;line-height:1.5;'>\n",
    "  یک کلاس پایتونی به نام rectangle بسازید. این کلاس باید یک متد برای محاسبه محیط و یک\n",
    "متد برای محاسبه مساحت داشته باشد. \n",
    "</p>"
   ]
  },
  {
   "cell_type": "code",
   "execution_count": null,
   "metadata": {},
   "outputs": [],
   "source": []
  },
  {
   "cell_type": "markdown",
   "metadata": {
    "tags": []
   },
   "source": [
    "<h4 style='direction:rtl;text-align:right;font-size:18px;font-family:samim;'>راهنمایی</h4>"
   ]
  },
  {
   "cell_type": "markdown",
   "metadata": {
    "tags": []
   },
   "source": [
    "<p style='direction:rtl;text-align:right;font-size:16px;font-family:samim;'>\n",
    "به دوتا متد برای محیط و مساحت احتیاج دارید که از اطلاعات گرفته شده از متد init استفاده کنند.\n",
    "</p>"
   ]
  },
  {
   "cell_type": "markdown",
   "metadata": {
    "jp-MarkdownHeadingCollapsed": true,
    "tags": []
   },
   "source": [
    "<h4 style='direction:rtl;text-align:right;font-size:18px;font-family:samim;'>جواب</h4>"
   ]
  },
  {
   "cell_type": "code",
   "execution_count": 49,
   "metadata": {
    "tags": []
   },
   "outputs": [
    {
     "name": "stdout",
     "output_type": "stream",
     "text": [
      "Width: 5\n",
      "Height: 10\n",
      "Area: 50\n",
      "Perimeter: 30\n"
     ]
    }
   ],
   "source": [
    "class Rectangle:\n",
    "    def __init__(self, width, height):\n",
    "        self.width = width\n",
    "        self.height = height\n",
    "    \n",
    "    def area(self):      \n",
    "        return self.width * self.height   \n",
    "    \n",
    "    def perimeter(self):      \n",
    "        return 2 * (self.width + self.height)\n",
    "\n",
    "rect = Rectangle(5, 10)\n",
    "\n",
    "print(f\"Width: {rect.width}\")           \n",
    "print(f\"Height: {rect.height}\")         \n",
    "print(f\"Area: {rect.area()}\")           \n",
    "print(f\"Perimeter: {rect.perimeter()}\") "
   ]
  },
  {
   "cell_type": "markdown",
   "metadata": {},
   "source": [
    "<h2 style='direction:rtl;text-align:right;font-family:samim;'><b>🔸 تمرین ۲۸</b></h2>"
   ]
  },
  {
   "cell_type": "markdown",
   "metadata": {},
   "source": [
    "<p style='direction:rtl;text-align:right;font-size:18px;font-family:samim;line-height:1.5;'>\n",
    " یک کلاس پایتونی بنویسید که دو متد get_string و print_string دارد. get_string یک رشته از کاربر\n",
    "دریافت کرده و print_string رشته را برعکس کرده و نمایش می‌دهد.  \n",
    "</p>"
   ]
  },
  {
   "cell_type": "code",
   "execution_count": null,
   "metadata": {},
   "outputs": [],
   "source": []
  },
  {
   "cell_type": "markdown",
   "metadata": {
    "tags": []
   },
   "source": [
    "<h4 style='direction:rtl;text-align:right;font-size:18px;font-family:samim;'>راهنمایی</h4>"
   ]
  },
  {
   "cell_type": "markdown",
   "metadata": {
    "tags": []
   },
   "source": [
    "<p style='direction:rtl;text-align:right;font-size:16px;font-family:samim;'>\n",
    "    تعریف متد get_string:\n",
    "<br>\n",
    "این متد باید رشته‌ای از کاربر دریافت کند و آن را در یک متغیر ذخیره کند.\n",
    "    <br>\n",
    "از تابع input() برای دریافت رشته از کاربر استفاده کنید.\n",
    "    <br>\n",
    "تعریف متد print_string:\n",
    "<br>\n",
    "این متد باید رشته ذخیره‌شده را برعکس کند و نتیجه را نمایش دهد.\n",
    "    <br>\n",
    "از اسلایس معکوس ([::-1]) برای معکوس کردن رشته استفاده کنید.\n",
    "\n",
    "</p>"
   ]
  },
  {
   "cell_type": "markdown",
   "metadata": {
    "jp-MarkdownHeadingCollapsed": true,
    "tags": []
   },
   "source": [
    "<h4 style='direction:rtl;text-align:right;font-size:18px;font-family:samim;'>جواب</h4>"
   ]
  },
  {
   "cell_type": "code",
   "execution_count": 50,
   "metadata": {
    "tags": []
   },
   "outputs": [
    {
     "name": "stdout",
     "output_type": "stream",
     "text": [
      "Enter a string: sahar\n",
      "Reversed string: rahas\n"
     ]
    }
   ],
   "source": [
    "class StringManipulator:\n",
    "    def __init__(self):\n",
    "        self.user_string = \"\"\n",
    "    \n",
    "    def get_string(self):\n",
    "      \n",
    "        self.user_string = input(\"Enter a string: \")\n",
    "    \n",
    "    def print_string(self):\n",
    "       \n",
    "        reversed_string = self.user_string[::-1]\n",
    "        print(\"Reversed string:\", reversed_string)\n",
    "\n",
    "\n",
    "manipulator = StringManipulator()\n",
    "\n",
    "\n",
    "manipulator.get_string()\n",
    "\n",
    "\n",
    "manipulator.print_string()\n"
   ]
  },
  {
   "cell_type": "markdown",
   "metadata": {},
   "source": [
    "<h2 style='direction:rtl;text-align:right;font-family:samim;'><b>🔸 تمرین ۲۹</b></h2>"
   ]
  },
  {
   "cell_type": "markdown",
   "metadata": {},
   "source": [
    "<p style='direction:rtl;text-align:right;font-size:18px;font-family:samim;line-height:1.5;'>\n",
    "  کلاسی به نام FinancialRecord ایجاد کنید که مقادیر مالی را نگهداری کند و قابلیت‌های زیر را داشته باشد:\n",
    "    <br>\n",
    "    افزودن مبلغ به رکورد\n",
    "    <br>\n",
    "    محاسبه مجموع مقادیر\n",
    "    <br>\n",
    "    نمایش رکورد به صورت رشته\n",
    "</p>"
   ]
  },
  {
   "cell_type": "code",
   "execution_count": null,
   "metadata": {},
   "outputs": [],
   "source": []
  },
  {
   "cell_type": "markdown",
   "metadata": {
    "tags": []
   },
   "source": [
    "<h4 style='direction:rtl;text-align:right;font-size:18px;font-family:samim;'>راهنمایی</h4>"
   ]
  },
  {
   "cell_type": "markdown",
   "metadata": {
    "tags": []
   },
   "source": [
    "<p style='direction:rtl;text-align:right;font-size:16px;font-family:samim;'>\n",
    "add_amount(self, amount): مبلغ جدیدی را به لیست مقادیر اضافه می‌کند.\n",
    "    <br>\n",
    "total_amount(self): مجموع تمامی مقادیر موجود در لیست را محاسبه می‌کند.\n",
    "    <br>\n",
    "__repr__(self): نمایش مقادیر مالی به صورت لیست برای نمایش به کاربر.\n",
    "</p>"
   ]
  },
  {
   "cell_type": "markdown",
   "metadata": {
    "jp-MarkdownHeadingCollapsed": true,
    "tags": []
   },
   "source": [
    "<h4 style='direction:rtl;text-align:right;font-size:18px;font-family:samim;'>جواب</h4>"
   ]
  },
  {
   "cell_type": "code",
   "execution_count": 52,
   "metadata": {
    "tags": []
   },
   "outputs": [
    {
     "name": "stdout",
     "output_type": "stream",
     "text": [
      "150\n",
      "amounts=[100, 50]\n"
     ]
    }
   ],
   "source": [
    "class FinancialRecord:\n",
    "    def __init__(self):\n",
    "        self.amounts = []\n",
    "    \n",
    "    def add_amount(self, amount):\n",
    "        self.amounts.append(amount)\n",
    "    \n",
    "    def total_amount(self):\n",
    "        return sum(self.amounts)\n",
    "    \n",
    "    def __repr__(self):\n",
    "        return f\"amounts={self.amounts}\"\n",
    "\n",
    "record = FinancialRecord()\n",
    "record.add_amount(100)\n",
    "record.add_amount(50)\n",
    "print(record.total_amount())  \n",
    "print(record)                \n"
   ]
  },
  {
   "cell_type": "markdown",
   "metadata": {},
   "source": [
    "<h2 style='direction:rtl;text-align:right;font-family:samim;'><b>🔸 تمرین ۳۰*</b></h2>"
   ]
  },
  {
   "cell_type": "markdown",
   "metadata": {},
   "source": [
    "<p style='direction:rtl;text-align:right;font-size:18px;font-family:samim;line-height:1.5;'>\n",
    "   کلاسی به نام Date بنویسید که تاریخ را با روز، ماه، و سال ذخیره کند. این کلاس باید متدهای ویژه __init__, __repr__, __eq__, و __lt__ را داشته باشد. متد __eq__ باید امکان مقایسه برابری دو تاریخ را فراهم کند و __lt__ باید امکان مقایسه نرمال دو تاریخ را فراهم کند. \n",
    "</p>"
   ]
  },
  {
   "cell_type": "code",
   "execution_count": null,
   "metadata": {},
   "outputs": [],
   "source": []
  },
  {
   "cell_type": "markdown",
   "metadata": {
    "tags": []
   },
   "source": [
    "<h4 style='direction:rtl;text-align:right;font-size:18px;font-family:samim;'>راهنمایی</h4>"
   ]
  },
  {
   "cell_type": "markdown",
   "metadata": {
    "tags": []
   },
   "source": [
    "<p style='direction:rtl;text-align:right;font-size:16px;font-family:samim;'>\n",
    "مقداردهی اولیه به day, month, و year با استفاده از __init__.\n",
    "    <br>\n",
    "    نمایش  رشته‌ای به صورت Date(day, month, year) با صفرهای پیش‌فرض برای روز و ماه با استفاده از متد __repr__.\n",
    "    <br>\n",
    "    مقایسه روز، ماه، و سال برای تعیین برابری با استفاده از متد __eq__ نوشته شود.\n",
    "    <br>\n",
    "    مقایسه بر اساس سال، ماه، و روز به ترتیب برای بررسی کمتر بودن با استفاده از متد __lt__ صورت بگیرد.\n",
    "</p>"
   ]
  },
  {
   "cell_type": "markdown",
   "metadata": {
    "jp-MarkdownHeadingCollapsed": true,
    "tags": []
   },
   "source": [
    "<h4 style='direction:rtl;text-align:right;font-size:18px;font-family:samim;'>جواب</h4>"
   ]
  },
  {
   "cell_type": "code",
   "execution_count": 12,
   "metadata": {
    "tags": []
   },
   "outputs": [
    {
     "name": "stdout",
     "output_type": "stream",
     "text": [
      "Date(15, 08, 2023)\n",
      "Date(16, 08, 2023)\n",
      "Date(15, 08, 2023)\n",
      "True\n",
      "True\n",
      "False\n"
     ]
    }
   ],
   "source": [
    "class Date:\n",
    "    def __init__(self, day, month, year):\n",
    "        self.day = day\n",
    "        self.month = month\n",
    "        self.year = year\n",
    "    \n",
    "    def __repr__(self):\n",
    "        return f\"Date({self.day:02d}, {self.month:02d}, {self.year})\"\n",
    "    \n",
    "    def __eq__(self, other):\n",
    "        return (self.day, self.month, self.year) == (other.day, other.month, other.year)\n",
    "    \n",
    "    def __lt__(self, other):\n",
    "        return (self.year, self.month, self.day) < (other.year, other.month, other.day)\n",
    "\n",
    "d1 = Date(15, 8, 2023)\n",
    "print(d1)\n",
    "d2 = Date(16, 8, 2023)\n",
    "print(d2)\n",
    "d3 = Date(15, 8, 2023)\n",
    "print(d3)\n",
    "\n",
    "print(d1 == d3) \n",
    "print(d1 < d2)   \n",
    "print(d2 < d1)   \n"
   ]
  }
 ],
 "metadata": {
  "kernelspec": {
   "display_name": "Python 3 (ipykernel)",
   "language": "python",
   "name": "python3"
  },
  "language_info": {
   "codemirror_mode": {
    "name": "ipython",
    "version": 3
   },
   "file_extension": ".py",
   "mimetype": "text/x-python",
   "name": "python",
   "nbconvert_exporter": "python",
   "pygments_lexer": "ipython3",
   "version": "3.9.12"
  }
 },
 "nbformat": 4,
 "nbformat_minor": 4
}
