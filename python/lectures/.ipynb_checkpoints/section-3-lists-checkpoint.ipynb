{
 "cells": [
  {
   "cell_type": "markdown",
   "id": "865fd93b-574f-4cdf-8bd2-9575aa3e474e",
   "metadata": {
    "id": "Q9iFaxl_jNul",
    "tags": []
   },
   "source": [
    "# <font color='#FFE15D'>**Section 3: List 🏦**</font>"
   ]
  },
  {
   "cell_type": "markdown",
   "id": "bfcf51ba-a6ad-49e8-ada4-0a3f3b703440",
   "metadata": {},
   "source": [
    "<img src=\"../images/list.png\" alt=\"string indexing\" width=500 align=\"center\" />"
   ]
  },
  {
   "cell_type": "markdown",
   "id": "233f070d-9384-4d63-9c1a-01fd7e594af7",
   "metadata": {
    "jp-MarkdownHeadingCollapsed": true,
    "tags": []
   },
   "source": [
    "## 🔸 **How to define a list**"
   ]
  },
  {
   "cell_type": "code",
   "execution_count": 15,
   "id": "de97fb99-58aa-4783-aef3-37c3a20f0952",
   "metadata": {
    "colab": {
     "base_uri": "https://localhost:8080/"
    },
    "id": "0FZi4oJxmssR",
    "outputId": "60e59806-cf13-4618-c776-da948238f55c"
   },
   "outputs": [
    {
     "data": {
      "text/plain": [
       "([12, 25, 13, 4, 11, 3, 1], list, list)"
      ]
     },
     "execution_count": 15,
     "metadata": {},
     "output_type": "execute_result"
    }
   ],
   "source": [
    "list1 = [12, 25, 13, 4, 11, 3, 1]\n",
    "list1, type(list1), list1.__class__"
   ]
  },
  {
   "cell_type": "code",
   "execution_count": 16,
   "id": "7e211a79-bff2-43bd-ab98-f953db80b91d",
   "metadata": {},
   "outputs": [
    {
     "data": {
      "text/plain": [
       "['howsam', 'ai', 'ml', 'python']"
      ]
     },
     "execution_count": 16,
     "metadata": {},
     "output_type": "execute_result"
    }
   ],
   "source": [
    "list2 = ['howsam', 'ai', 'ml', 'python']\n",
    "list2"
   ]
  },
  {
   "cell_type": "code",
   "execution_count": 17,
   "id": "4b9dd49d-0642-4622-9161-ff621268c28a",
   "metadata": {},
   "outputs": [
    {
     "data": {
      "text/plain": [
       "[True, False, True]"
      ]
     },
     "execution_count": 17,
     "metadata": {},
     "output_type": "execute_result"
    }
   ],
   "source": [
    "list3 = [True, False, True]\n",
    "list3"
   ]
  },
  {
   "cell_type": "code",
   "execution_count": 18,
   "id": "8e0661e4-c67a-4246-bfee-b5dfcca5caa1",
   "metadata": {},
   "outputs": [
    {
     "data": {
      "text/plain": [
       "['howsam', 12, True]"
      ]
     },
     "execution_count": 18,
     "metadata": {},
     "output_type": "execute_result"
    }
   ],
   "source": [
    "list4 = ['howsam', 12, True]\n",
    "list4"
   ]
  },
  {
   "cell_type": "markdown",
   "id": "d66b0c48-04d8-4e4e-830d-2c7779d8ae77",
   "metadata": {
    "tags": []
   },
   "source": [
    "### Empty list"
   ]
  },
  {
   "cell_type": "code",
   "execution_count": 29,
   "id": "d500a2ba-b4e9-4b8a-a43b-a67312b58439",
   "metadata": {
    "colab": {
     "base_uri": "https://localhost:8080/"
    },
    "id": "zjr_xeBnoEZ-",
    "outputId": "93fc5246-3c5c-4c21-e650-b499eaf45abb"
   },
   "outputs": [
    {
     "data": {
      "text/plain": [
       "[]"
      ]
     },
     "execution_count": 29,
     "metadata": {},
     "output_type": "execute_result"
    }
   ],
   "source": [
    "a = []\n",
    "a = list()\n",
    "a"
   ]
  },
  {
   "cell_type": "code",
   "execution_count": 32,
   "id": "684462bf-0424-45a3-971f-0334ef6f38a5",
   "metadata": {},
   "outputs": [
    {
     "data": {
      "text/plain": [
       "['h', 'o', 'w', 's', 'a', 'm']"
      ]
     },
     "execution_count": 32,
     "metadata": {},
     "output_type": "execute_result"
    }
   ],
   "source": [
    "string = 'howsam'\n",
    "\n",
    "b = [string]\n",
    "\n",
    "c = list(string)\n",
    "c"
   ]
  },
  {
   "cell_type": "markdown",
   "id": "63d1183f-e399-445f-a48a-a7c3a6fa1a2e",
   "metadata": {
    "tags": []
   },
   "source": [
    "### Nested list"
   ]
  },
  {
   "cell_type": "code",
   "execution_count": 34,
   "id": "4c778fc7-1c98-4a58-ad6c-216648e3bd4d",
   "metadata": {
    "colab": {
     "base_uri": "https://localhost:8080/"
    },
    "id": "TssxsAo2n2QA",
    "outputId": "e4456faf-51fb-4148-a189-e87676f78c85"
   },
   "outputs": [
    {
     "data": {
      "text/plain": [
       "[1, 2, True, 'h', [1, [1, 3]], [True, False, True]]"
      ]
     },
     "execution_count": 34,
     "metadata": {},
     "output_type": "execute_result"
    }
   ],
   "source": [
    "d = [1, 2, True, 'h', [1, [1, 3]], list3]\n",
    "d"
   ]
  },
  {
   "cell_type": "markdown",
   "id": "5aca0303-9cd9-4adc-b5d5-f42986db2c36",
   "metadata": {
    "jp-MarkdownHeadingCollapsed": true,
    "tags": []
   },
   "source": [
    "## 🔸 **Indexing**"
   ]
  },
  {
   "cell_type": "markdown",
   "id": "2ee33301-d557-4d0c-b0aa-31684370fd50",
   "metadata": {},
   "source": [
    "<img src=\"../images/list-indexing.png\" alt=\"string indexing\" width=500 align=\"center\" />"
   ]
  },
  {
   "cell_type": "code",
   "execution_count": 36,
   "id": "0154aa85-050f-4f36-aa2a-faab4d4b224e",
   "metadata": {},
   "outputs": [],
   "source": [
    "a = [12, 25, 13, 4, 11, 3, 1]"
   ]
  },
  {
   "cell_type": "code",
   "execution_count": 40,
   "id": "4025275f-6363-4463-95f3-410b8147d7f6",
   "metadata": {},
   "outputs": [
    {
     "data": {
      "text/plain": [
       "(11, 1)"
      ]
     },
     "execution_count": 40,
     "metadata": {},
     "output_type": "execute_result"
    }
   ],
   "source": [
    "a[4], a[6]"
   ]
  },
  {
   "cell_type": "code",
   "execution_count": 47,
   "id": "180f3113-4bb9-4763-9caf-9fe08e983060",
   "metadata": {},
   "outputs": [
    {
     "data": {
      "text/plain": [
       "1"
      ]
     },
     "execution_count": 47,
     "metadata": {},
     "output_type": "execute_result"
    }
   ],
   "source": [
    "d, d[3]\n",
    "d[4][1][0]"
   ]
  },
  {
   "cell_type": "markdown",
   "id": "310bbc53-162a-434e-8dcf-730a4ba77040",
   "metadata": {
    "jp-MarkdownHeadingCollapsed": true,
    "tags": []
   },
   "source": [
    "### Negative indexing"
   ]
  },
  {
   "cell_type": "markdown",
   "id": "652206a1-6aec-4288-b92c-779766bb2b2d",
   "metadata": {},
   "source": [
    "<img src=\"../images/list-neg-indexing.png\" alt=\"string indexing\" width=500 align=\"center\" />"
   ]
  },
  {
   "cell_type": "code",
   "execution_count": 51,
   "id": "52852861-8bdc-433e-b787-3863c64670ea",
   "metadata": {},
   "outputs": [
    {
     "data": {
      "text/plain": [
       "13"
      ]
     },
     "execution_count": 51,
     "metadata": {},
     "output_type": "execute_result"
    }
   ],
   "source": [
    "a[-5]"
   ]
  },
  {
   "cell_type": "markdown",
   "id": "b905e194-ffe4-483d-8187-392d89faa4cd",
   "metadata": {
    "jp-MarkdownHeadingCollapsed": true,
    "tags": []
   },
   "source": [
    "## 🔸 **Slicing**"
   ]
  },
  {
   "cell_type": "markdown",
   "id": "3140c5c8-0fa0-4e9d-93c0-221af52716ae",
   "metadata": {},
   "source": [
    "<img src=\"../images/list-slicing.png\" alt=\"string indexing\" width=400 align=\"center\" />"
   ]
  },
  {
   "cell_type": "code",
   "execution_count": 53,
   "id": "07c5c451-a6ba-42fd-84b5-d139fbb16917",
   "metadata": {},
   "outputs": [],
   "source": [
    "a = [12, 25, 13, 4, 11, 3, 1]"
   ]
  },
  {
   "cell_type": "code",
   "execution_count": 61,
   "id": "c26c777d-be45-4987-8adc-1e334f05a51f",
   "metadata": {},
   "outputs": [
    {
     "data": {
      "text/plain": [
       "[11, 3]"
      ]
     },
     "execution_count": 61,
     "metadata": {},
     "output_type": "execute_result"
    }
   ],
   "source": [
    "a[2:5]\n",
    "a[0:6]\n",
    "a[4:-1]\n",
    "a[-3:-1]"
   ]
  },
  {
   "cell_type": "markdown",
   "id": "c586e35c-66eb-465a-91b8-6378e6a469f9",
   "metadata": {
    "tags": []
   },
   "source": [
    "### Open end"
   ]
  },
  {
   "cell_type": "code",
   "execution_count": 64,
   "id": "75b9fd60-a232-475c-bde6-7127a430ecbc",
   "metadata": {},
   "outputs": [
    {
     "data": {
      "text/plain": [
       "[12, 25, 13]"
      ]
     },
     "execution_count": 64,
     "metadata": {},
     "output_type": "execute_result"
    }
   ],
   "source": [
    "a[4:]\n",
    "a[:3]"
   ]
  },
  {
   "cell_type": "markdown",
   "id": "ff087680-e3c2-4f1e-8e3d-498f85247775",
   "metadata": {
    "tags": []
   },
   "source": [
    "### Step"
   ]
  },
  {
   "cell_type": "code",
   "execution_count": 76,
   "id": "c99e4d21-49ba-4eff-ac6e-f5997a8662c5",
   "metadata": {},
   "outputs": [
    {
     "data": {
      "text/plain": [
       "[25, 4, 3]"
      ]
     },
     "execution_count": 76,
     "metadata": {},
     "output_type": "execute_result"
    }
   ],
   "source": [
    "a[0:-2:3]\n",
    "a[0::2]\n",
    "a[1::2]"
   ]
  },
  {
   "cell_type": "markdown",
   "id": "0efbff94-0440-4089-9de3-e51de8286ecc",
   "metadata": {
    "tags": []
   },
   "source": [
    "### Replace values in a list"
   ]
  },
  {
   "cell_type": "code",
   "execution_count": 79,
   "id": "d785d24f-769c-4af2-8075-91a5b75916b0",
   "metadata": {},
   "outputs": [
    {
     "data": {
      "text/plain": [
       "[12, 25, 15, 4, 11, -1, -1]"
      ]
     },
     "execution_count": 79,
     "metadata": {},
     "output_type": "execute_result"
    }
   ],
   "source": [
    "a[2] = 15\n",
    "a[-2:] = [-1, -1]\n",
    "a"
   ]
  },
  {
   "cell_type": "markdown",
   "id": "915a0a60-6265-40d3-b803-c2100236c606",
   "metadata": {
    "id": "kr0lLhUw072R",
    "jp-MarkdownHeadingCollapsed": true,
    "tags": []
   },
   "source": [
    "## **✍️ Example 1: Matrix**"
   ]
  },
  {
   "cell_type": "markdown",
   "id": "f0049784-3051-4626-9c09-b74d9e4aecd5",
   "metadata": {
    "id": "JidMUw0w4KyP"
   },
   "source": [
    "<img src=\"../images/matrix.png\" alt=\"string indexing\" width=500 align=\"center\" />"
   ]
  },
  {
   "cell_type": "code",
   "execution_count": 85,
   "id": "26c17e74-797a-4d26-a3db-1a4c1341dc81",
   "metadata": {
    "colab": {
     "base_uri": "https://localhost:8080/"
    },
    "id": "bExle2w_4XYb",
    "outputId": "505cf85f-53bf-4ad5-81e9-c4b439086b9b"
   },
   "outputs": [
    {
     "data": {
      "text/plain": [
       "[[1, 2, 0, 7], [9, 4, 8, 1], [5, 3, 1, 6]]"
      ]
     },
     "execution_count": 85,
     "metadata": {},
     "output_type": "execute_result"
    }
   ],
   "source": [
    "row1 = [1, 2, 0, 7]\n",
    "row2 = [9, 4, 8, 1]\n",
    "row3 = [5, 3, 1, 6]\n",
    "\n",
    "A = [row1, row2, row3]\n",
    "A[1][0]\n",
    "\n",
    "A = [[1, 2, 0, 7],\n",
    "     [9, 4, 8, 1],\n",
    "     [5, 3, 1, 6]]\n",
    "A"
   ]
  },
  {
   "cell_type": "markdown",
   "id": "518d3c34-7334-41bb-96d0-0ad72e3af50a",
   "metadata": {
    "jp-MarkdownHeadingCollapsed": true,
    "tags": []
   },
   "source": [
    "## 🔸 **List methodes**"
   ]
  },
  {
   "cell_type": "markdown",
   "id": "c99e45a7-7ecf-41c3-8ebb-81786f6c494f",
   "metadata": {},
   "source": [
    "<img src=\"../images/list_methodes.png\" alt=\"string indexing\" width=500 align=\"center\" />"
   ]
  },
  {
   "cell_type": "markdown",
   "id": "44246b81-4730-45f3-92ee-7d88dd7fa417",
   "metadata": {
    "jp-MarkdownHeadingCollapsed": true,
    "tags": []
   },
   "source": [
    "### \\__len__"
   ]
  },
  {
   "cell_type": "code",
   "execution_count": 87,
   "id": "734b5e33-d368-4784-96e8-ba29902fd4d5",
   "metadata": {},
   "outputs": [
    {
     "data": {
      "text/plain": [
       "5"
      ]
     },
     "execution_count": 87,
     "metadata": {},
     "output_type": "execute_result"
    }
   ],
   "source": [
    "a = [1, 2, 3, 4, 5]\n",
    "a.__len__()\n",
    "len(a)"
   ]
  },
  {
   "cell_type": "markdown",
   "id": "351fd4ca-63c3-4903-aa7f-de9db4a2f6e2",
   "metadata": {
    "jp-MarkdownHeadingCollapsed": true,
    "tags": []
   },
   "source": [
    "### append"
   ]
  },
  {
   "cell_type": "code",
   "execution_count": 92,
   "id": "c3596b4e-a35c-4b02-a828-19720b1a28c0",
   "metadata": {
    "colab": {
     "base_uri": "https://localhost:8080/"
    },
    "id": "rlm9S7j1pHkd",
    "outputId": "77c6db6e-aad5-4ffa-9c30-997839ce5d76",
    "tags": []
   },
   "outputs": [
    {
     "data": {
      "text/plain": [
       "[1, 2, 3, 4, 5, 6, 'howsam', [2, 3]]"
      ]
     },
     "execution_count": 92,
     "metadata": {},
     "output_type": "execute_result"
    }
   ],
   "source": [
    "a = [1, 2, 3, 4, 5]\n",
    "a.append(6)\n",
    "a.append('howsam')\n",
    "a.append([2, 3])\n",
    "a"
   ]
  },
  {
   "cell_type": "markdown",
   "id": "0b05680c-ba2c-4d42-866d-69091d2bec6d",
   "metadata": {
    "jp-MarkdownHeadingCollapsed": true,
    "tags": []
   },
   "source": [
    "### extend"
   ]
  },
  {
   "cell_type": "code",
   "execution_count": 93,
   "id": "1a6f733f-fdb7-444b-af99-4384399cd7db",
   "metadata": {
    "colab": {
     "base_uri": "https://localhost:8080/"
    },
    "id": "HZl_eQ5eqmIy",
    "outputId": "876924d4-25a9-4155-d600-f99b9f0794df"
   },
   "outputs": [
    {
     "data": {
      "text/plain": [
       "['apple', 'banana', 'cherry', 2, 'salam', True]"
      ]
     },
     "execution_count": 93,
     "metadata": {},
     "output_type": "execute_result"
    }
   ],
   "source": [
    "a = ['apple', 'banana', 'cherry']\n",
    "a.extend([2, 'salam', True])\n",
    "a"
   ]
  },
  {
   "cell_type": "markdown",
   "id": "3bccf0ab-bbfd-45c4-a075-132703081e5c",
   "metadata": {
    "jp-MarkdownHeadingCollapsed": true,
    "tags": []
   },
   "source": [
    "### insert"
   ]
  },
  {
   "cell_type": "markdown",
   "id": "269917b9-1978-41db-ba8f-a5c5cf03627c",
   "metadata": {
    "tags": []
   },
   "source": [
    "<img src=\"../images/list-insert.png\" alt=\"string indexing\" width=280 align=\"center\" />"
   ]
  },
  {
   "cell_type": "code",
   "execution_count": 97,
   "id": "af1ba2d1-f43e-47f8-a852-c99efded9817",
   "metadata": {},
   "outputs": [
    {
     "data": {
      "text/plain": [
       "['apple', 'banana', 'orange', 'cherry']"
      ]
     },
     "execution_count": 97,
     "metadata": {},
     "output_type": "execute_result"
    }
   ],
   "source": [
    "a = ['apple', 'banana', 'cherry']\n",
    "a.insert(2, 'orange')\n",
    "a"
   ]
  },
  {
   "cell_type": "markdown",
   "id": "2d48fbee-ea97-48b1-b07e-94a43d2644e7",
   "metadata": {
    "jp-MarkdownHeadingCollapsed": true,
    "tags": []
   },
   "source": [
    "### pop"
   ]
  },
  {
   "cell_type": "code",
   "execution_count": 99,
   "id": "de40dfbd-73ae-44cf-a3f5-ffa0c27a0c82",
   "metadata": {
    "colab": {
     "base_uri": "https://localhost:8080/"
    },
    "id": "_N-1dNaXx446",
    "outputId": "27ac0ba4-8fa5-44ec-a5e5-26cbacb8c5d4"
   },
   "outputs": [
    {
     "data": {
      "text/plain": [
       "-1"
      ]
     },
     "execution_count": 99,
     "metadata": {},
     "output_type": "execute_result"
    }
   ],
   "source": [
    "a = [1, 2, 3, -1, 5]\n",
    "a.pop(3)"
   ]
  },
  {
   "cell_type": "markdown",
   "id": "20f3307a-51f6-4383-91d3-6a095392ac2d",
   "metadata": {
    "jp-MarkdownHeadingCollapsed": true,
    "tags": []
   },
   "source": [
    "### remove"
   ]
  },
  {
   "cell_type": "code",
   "execution_count": 101,
   "id": "e56458ad-a68c-45df-98d0-e303f8ec3076",
   "metadata": {},
   "outputs": [
    {
     "data": {
      "text/plain": [
       "[1, 2, 3, -1, 5, -1]"
      ]
     },
     "execution_count": 103,
     "metadata": {},
     "output_type": "execute_result"
    }
   ],
   "source": [
    "a = [1, 2, 3, -1, 5]\n",
    "a.remove(-1)\n",
    "a"
   ]
  },
  {
   "cell_type": "markdown",
   "id": "4da2962f-5833-43f1-a032-300db69a1f2b",
   "metadata": {
    "jp-MarkdownHeadingCollapsed": true,
    "tags": []
   },
   "source": [
    "### clear"
   ]
  },
  {
   "cell_type": "code",
   "execution_count": 104,
   "id": "2ae804b0-6aad-4f1d-9d42-e535a49f1fe9",
   "metadata": {
    "colab": {
     "base_uri": "https://localhost:8080/"
    },
    "id": "yxQB5LqfyfH1",
    "outputId": "3c4a8950-5eae-444a-91fc-0fe9aab7e6c3"
   },
   "outputs": [
    {
     "data": {
      "text/plain": [
       "[]"
      ]
     },
     "execution_count": 104,
     "metadata": {},
     "output_type": "execute_result"
    }
   ],
   "source": [
    "a = [1, 2, 3, 4, 5]\n",
    "\n",
    "a.clear()\n",
    "a"
   ]
  },
  {
   "cell_type": "markdown",
   "id": "ae41e055-2810-40ed-bf21-25983f7ebfed",
   "metadata": {
    "jp-MarkdownHeadingCollapsed": true,
    "tags": []
   },
   "source": [
    "### count"
   ]
  },
  {
   "cell_type": "code",
   "execution_count": 106,
   "id": "545ee8f6-0380-46c6-9d72-6b98ea0bc688",
   "metadata": {
    "colab": {
     "base_uri": "https://localhost:8080/"
    },
    "id": "QOGovU7iv68u",
    "outputId": "d6d5d6d0-ce61-4a2b-b594-c5fb1bcce322",
    "tags": []
   },
   "outputs": [
    {
     "data": {
      "text/plain": [
       "3"
      ]
     },
     "execution_count": 106,
     "metadata": {},
     "output_type": "execute_result"
    }
   ],
   "source": [
    "a = [1, 1, 1, 2, 3, 3, 5, 4, 1, 8, 8, 7, 9, 9, 0, 0, 0, 3, 4, 4, 4, 6, 6]\n",
    "a.count(0)"
   ]
  },
  {
   "cell_type": "markdown",
   "id": "f8b7417c-b462-410b-a718-276e992ae35e",
   "metadata": {
    "jp-MarkdownHeadingCollapsed": true,
    "tags": []
   },
   "source": [
    "### index"
   ]
  },
  {
   "cell_type": "code",
   "execution_count": 110,
   "id": "ad7c13b1-8bdc-4e6c-aea1-b0d12b94cab7",
   "metadata": {},
   "outputs": [
    {
     "data": {
      "text/plain": [
       "5"
      ]
     },
     "execution_count": 110,
     "metadata": {},
     "output_type": "execute_result"
    }
   ],
   "source": [
    "a = [1, 2, 3, -1, 5, -2]\n",
    "a[3]\n",
    "a.index(-2)"
   ]
  },
  {
   "cell_type": "markdown",
   "id": "3956a7a7-7400-4b21-b274-be3f35e817fe",
   "metadata": {
    "jp-MarkdownHeadingCollapsed": true,
    "tags": []
   },
   "source": [
    "### reverse"
   ]
  },
  {
   "cell_type": "code",
   "execution_count": 112,
   "id": "ac74a49f-98b5-4bad-9a8c-f24c9c77bd0f",
   "metadata": {
    "tags": []
   },
   "outputs": [
    {
     "data": {
      "text/plain": [
       "[-1, 4, 3, 2, 1]"
      ]
     },
     "execution_count": 112,
     "metadata": {},
     "output_type": "execute_result"
    }
   ],
   "source": [
    "a = [1, 2, 3, 4, -1]\n",
    "a.reverse()\n",
    "a"
   ]
  },
  {
   "cell_type": "markdown",
   "id": "b7919278-83e0-4444-aa17-2ed1e8bf1ef2",
   "metadata": {
    "jp-MarkdownHeadingCollapsed": true,
    "tags": []
   },
   "source": [
    "### sort"
   ]
  },
  {
   "cell_type": "code",
   "execution_count": 113,
   "id": "8d9d3ae5-58aa-48e3-b868-704f24c2a4f9",
   "metadata": {
    "colab": {
     "base_uri": "https://localhost:8080/"
    },
    "id": "iouKoNmGwUuR",
    "outputId": "413931bd-84a1-4a55-cafd-072fe9a9be08"
   },
   "outputs": [
    {
     "data": {
      "text/plain": [
       "[1, 2, 3, 4, 5]"
      ]
     },
     "execution_count": 113,
     "metadata": {},
     "output_type": "execute_result"
    }
   ],
   "source": [
    "a = [1, 3, 4, 5, 2]\n",
    "a.sort()\n",
    "a"
   ]
  },
  {
   "cell_type": "code",
   "execution_count": 115,
   "id": "341f9352-0481-415c-a921-9cd97822054e",
   "metadata": {},
   "outputs": [
    {
     "data": {
      "text/plain": [
       "[5, 4, 3, 2, 1]"
      ]
     },
     "execution_count": 115,
     "metadata": {},
     "output_type": "execute_result"
    }
   ],
   "source": [
    "a = [1, 3, 4, 5, 2]\n",
    "a.sort(reverse=True)\n",
    "a"
   ]
  },
  {
   "cell_type": "markdown",
   "id": "4459607d-26af-4dbc-92b4-9c36e5ceeca5",
   "metadata": {
    "jp-MarkdownHeadingCollapsed": true,
    "tags": []
   },
   "source": [
    "### copy"
   ]
  },
  {
   "cell_type": "code",
   "execution_count": 120,
   "id": "c5ec8d90-8a5c-458d-b2c1-e68275df16c6",
   "metadata": {},
   "outputs": [
    {
     "data": {
      "text/plain": [
       "([1, 3, -1, 5, 2], [1, 3, -1, 5, 2])"
      ]
     },
     "execution_count": 120,
     "metadata": {},
     "output_type": "execute_result"
    }
   ],
   "source": [
    "a = [1, 3, 4, 5, 2]\n",
    "b = a\n",
    "b[2] = -1\n",
    "b, a"
   ]
  },
  {
   "cell_type": "code",
   "execution_count": 124,
   "id": "e6d8d54c-b2da-42ab-a795-a33b5e552c69",
   "metadata": {},
   "outputs": [
    {
     "data": {
      "text/plain": [
       "([1, 3, -1, 5, 2], [1, 3, 4, 5, 2])"
      ]
     },
     "execution_count": 124,
     "metadata": {},
     "output_type": "execute_result"
    }
   ],
   "source": [
    "a = [1, 3, 4, 5, 2]\n",
    "b = a.copy()\n",
    "b[2] = -1\n",
    "b, a"
   ]
  },
  {
   "cell_type": "markdown",
   "id": "a58231c8-a022-4987-9f66-8452e426e8a7",
   "metadata": {
    "jp-MarkdownHeadingCollapsed": true,
    "tags": []
   },
   "source": [
    "### Error!"
   ]
  },
  {
   "cell_type": "code",
   "execution_count": 126,
   "id": "6de58902-f2e1-46bf-ad81-e254c115d14f",
   "metadata": {},
   "outputs": [
    {
     "ename": "AttributeError",
     "evalue": "'int' object has no attribute 'append'",
     "output_type": "error",
     "traceback": [
      "\u001b[1;31m---------------------------------------------------------------------------\u001b[0m",
      "\u001b[1;31mAttributeError\u001b[0m                            Traceback (most recent call last)",
      "Input \u001b[1;32mIn [126]\u001b[0m, in \u001b[0;36m<cell line: 2>\u001b[1;34m()\u001b[0m\n\u001b[0;32m      1\u001b[0m a \u001b[38;5;241m=\u001b[39m \u001b[38;5;241m3\u001b[39m\n\u001b[1;32m----> 2\u001b[0m \u001b[43ma\u001b[49m\u001b[38;5;241;43m.\u001b[39;49m\u001b[43mappend\u001b[49m(\u001b[38;5;241m3\u001b[39m)\n",
      "\u001b[1;31mAttributeError\u001b[0m: 'int' object has no attribute 'append'"
     ]
    }
   ],
   "source": [
    "a = 3\n",
    "a.append(3)"
   ]
  },
  {
   "cell_type": "markdown",
   "id": "c0072284-aa8e-4ecd-acdb-50593caa1406",
   "metadata": {
    "jp-MarkdownHeadingCollapsed": true,
    "tags": []
   },
   "source": [
    "## 🔸 **Tips and tricks**"
   ]
  },
  {
   "cell_type": "code",
   "execution_count": 127,
   "id": "f077f144-df33-4448-8c67-46bff9d19655",
   "metadata": {
    "colab": {
     "base_uri": "https://localhost:8080/"
    },
    "id": "lVDxz7CCraG2",
    "outputId": "07afc5ae-0011-4bc3-9d89-1d566eeea8cb"
   },
   "outputs": [],
   "source": [
    "a = [1, 2, 3, 4, 5]\n",
    "b = [-1, 0, -1, -1]\n",
    "c = ['apple', 'banana', 'cherry']"
   ]
  },
  {
   "cell_type": "markdown",
   "id": "7476d479-dfaf-4c94-8335-28d90357c084",
   "metadata": {
    "tags": []
   },
   "source": [
    "### Concatenate two lists without using expand"
   ]
  },
  {
   "cell_type": "code",
   "execution_count": 128,
   "id": "dd895f74-99d4-46e9-b359-a04a1f9afe2b",
   "metadata": {},
   "outputs": [
    {
     "data": {
      "text/plain": [
       "[1, 2, 3, 4, 5, -1, 0, -1, -1]"
      ]
     },
     "execution_count": 128,
     "metadata": {},
     "output_type": "execute_result"
    }
   ],
   "source": [
    "a + b"
   ]
  },
  {
   "cell_type": "markdown",
   "id": "c671d03b-c968-439d-8a81-26c825afeebd",
   "metadata": {
    "tags": []
   },
   "source": [
    "### Repeat the list"
   ]
  },
  {
   "cell_type": "code",
   "execution_count": 130,
   "id": "c9e3911c-bdc1-4704-b556-efd89136abc0",
   "metadata": {},
   "outputs": [
    {
     "data": {
      "text/plain": [
       "[1, 2, 3, 4, 5, 1, 2, 3, 4, 5, 1, 2, 3, 4, 5]"
      ]
     },
     "execution_count": 130,
     "metadata": {},
     "output_type": "execute_result"
    }
   ],
   "source": [
    "3 * a"
   ]
  },
  {
   "cell_type": "markdown",
   "id": "b87712d4-5d2f-49ca-be05-8ec4e5f23806",
   "metadata": {
    "tags": []
   },
   "source": [
    "### Check if a value exist in list"
   ]
  },
  {
   "cell_type": "code",
   "execution_count": 135,
   "id": "a8c13e59-4b89-4134-a51b-b3b039f9153b",
   "metadata": {},
   "outputs": [
    {
     "data": {
      "text/plain": [
       "False"
      ]
     },
     "execution_count": 135,
     "metadata": {},
     "output_type": "execute_result"
    }
   ],
   "source": [
    "d = -1\n",
    "d in c\n",
    "'apple' in c"
   ]
  },
  {
   "cell_type": "markdown",
   "id": "73f32047-7931-4ac3-baed-6f0bd79d3610",
   "metadata": {
    "jp-MarkdownHeadingCollapsed": true,
    "tags": []
   },
   "source": [
    "## 🔸 **List characteristics**"
   ]
  },
  {
   "cell_type": "markdown",
   "id": "7d303847-ddc9-4185-af32-0cfe39c4c065",
   "metadata": {
    "id": "JidMUw0w4KyP",
    "jp-MarkdownHeadingCollapsed": true,
    "tags": []
   },
   "source": [
    "### 1. Lists Are Ordered\n",
    "i.e. [1, 2, 3] is different from [1, 3, 2] or [3, 2, 1]"
   ]
  },
  {
   "cell_type": "code",
   "execution_count": null,
   "id": "c7054f26-237e-4771-bb5e-41e82626fece",
   "metadata": {
    "colab": {
     "base_uri": "https://localhost:8080/"
    },
    "id": "bExle2w_4XYb",
    "outputId": "505cf85f-53bf-4ad5-81e9-c4b439086b9b"
   },
   "outputs": [],
   "source": [
    "a = [1, 2, 3]\n",
    "b = [3, 1, 2]"
   ]
  },
  {
   "cell_type": "markdown",
   "id": "629346e0-b5a3-46b3-a40b-508ce259e69f",
   "metadata": {
    "jp-MarkdownHeadingCollapsed": true,
    "tags": []
   },
   "source": [
    "### 2. List items are accessed by indexing\n"
   ]
  },
  {
   "cell_type": "code",
   "execution_count": 137,
   "id": "179ea0b1-2ff8-4ef4-804e-b95f0e714756",
   "metadata": {},
   "outputs": [
    {
     "data": {
      "text/plain": [
       "2"
      ]
     },
     "execution_count": 137,
     "metadata": {},
     "output_type": "execute_result"
    }
   ],
   "source": [
    "a = [1, 2, 3]\n",
    "a[1]"
   ]
  },
  {
   "cell_type": "markdown",
   "id": "d6f75991-573c-4d46-b6fb-963b669c97f0",
   "metadata": {
    "jp-MarkdownHeadingCollapsed": true,
    "tags": []
   },
   "source": [
    "### 3. Lists are dynamic"
   ]
  },
  {
   "cell_type": "code",
   "execution_count": 136,
   "id": "6c06c76d-99aa-4bad-9ec4-ad084123aed8",
   "metadata": {},
   "outputs": [
    {
     "data": {
      "text/plain": [
       "[1, 2, 3, 2]"
      ]
     },
     "execution_count": 136,
     "metadata": {},
     "output_type": "execute_result"
    }
   ],
   "source": [
    "a = [1, 2, 3]\n",
    "a.append(2)\n",
    "a"
   ]
  },
  {
   "cell_type": "markdown",
   "id": "abe9c810-34e0-47c4-a723-cf541e37b0eb",
   "metadata": {
    "jp-MarkdownHeadingCollapsed": true,
    "tags": []
   },
   "source": [
    "### 4. Lists are heterogeneous"
   ]
  },
  {
   "cell_type": "code",
   "execution_count": null,
   "id": "b20ec4d1-6198-44dd-8f95-99829dd62e79",
   "metadata": {},
   "outputs": [],
   "source": [
    "[1, 0.2, 'string']"
   ]
  },
  {
   "cell_type": "markdown",
   "id": "0f0bb1bf-5a2a-4a65-a8d5-e956c04eb93e",
   "metadata": {
    "jp-MarkdownHeadingCollapsed": true,
    "tags": []
   },
   "source": [
    "### 5. Lists are nestable"
   ]
  },
  {
   "cell_type": "code",
   "execution_count": null,
   "id": "075817a1-cce8-44db-a9dc-aee70f9b7f41",
   "metadata": {},
   "outputs": [],
   "source": [
    "[1, 2, [3, 4, [5, 6, [7]]]]"
   ]
  },
  {
   "cell_type": "markdown",
   "id": "f186f677-c67a-41b7-bcc0-b13a568fb495",
   "metadata": {
    "jp-MarkdownHeadingCollapsed": true,
    "tags": []
   },
   "source": [
    "### 6. Lists are mutable"
   ]
  },
  {
   "cell_type": "code",
   "execution_count": 139,
   "id": "85b63cb9-6759-4982-b661-487b023d835a",
   "metadata": {},
   "outputs": [
    {
     "data": {
      "text/plain": [
       "[1, 2, 1]"
      ]
     },
     "execution_count": 139,
     "metadata": {},
     "output_type": "execute_result"
    }
   ],
   "source": [
    "a = [1, 2, 3]\n",
    "a[2] -= 2\n",
    "a"
   ]
  },
  {
   "cell_type": "markdown",
   "id": "e30c612e-a279-42d3-965a-2e996fe26e60",
   "metadata": {
    "id": "kr0lLhUw072R",
    "jp-MarkdownHeadingCollapsed": true,
    "tags": []
   },
   "source": [
    "## **✍️ Example 2: NLP**"
   ]
  },
  {
   "cell_type": "markdown",
   "id": "1add5c91-54fe-4a3c-b342-277a24cb61ee",
   "metadata": {
    "id": "JidMUw0w4KyP"
   },
   "source": [
    "<img src=\"../images/nlp.png\" alt=\"string indexing\" width=500 align=\"center\" />\n",
    "\n",
    "Neuro-linguistic programming (NLP) is a pseudoscientific approach to communication, personal development and psychotherapy, that first appeared in Richard Bandler and John Grinder's 1975 book The Structure of Magic I. NLP claims that there is a connection between neurological processes (neuro-), language (linguistic) and acquired behavioral patterns (programming), and that these can be changed to achieve specific goals in life. According to Bandler and Grinder, NLP can treat problems such as phobias, depression, tic disorders, psychosomatic illnesses, near-sightedness, allergy, the common cold, and learning disorders,often in a single session. They also claim that NLP can \"model\" the skills of exceptional people, allowing anyone to acquire them. NLP has been adopted by some hypnotherapists, as well as by companies that run seminars marketed as \"leadership training\" to businesses and government agencies. There is no scientific evidence supporting the claims made by NLP advocates, and it has been called a pseudoscience Scientific reviews have shown that NLP is based on outdated metaphors of for the brain's inner workings, that are inconsistent with current neurological theory and contain numerous factual errors. Reviews also found that research that favored NLP contained significant methodological flaws, and that there were three times as many studies of a much higher quality that failed to reproduce the \"extraordinary claims\" made by Bandler, Grinder, and other NLP practitioners."
   ]
  },
  {
   "cell_type": "code",
   "execution_count": 144,
   "id": "b6443502-b871-4c88-967b-46fa019f36e9",
   "metadata": {
    "colab": {
     "base_uri": "https://localhost:8080/"
    },
    "id": "bExle2w_4XYb",
    "outputId": "505cf85f-53bf-4ad5-81e9-c4b439086b9b"
   },
   "outputs": [
    {
     "name": "stdout",
     "output_type": "stream",
     "text": [
      "<class 'str'>\n",
      "<class 'list'>\n"
     ]
    },
    {
     "data": {
      "text/plain": [
       "8"
      ]
     },
     "execution_count": 144,
     "metadata": {},
     "output_type": "execute_result"
    }
   ],
   "source": [
    "text = '''Neuro-linguistic programming (NLP) is a pseudoscientific approach to communication, personal development and psychotherapy, that first appeared in Richard Bandler and John Grinder's 1975 book The Structure of Magic I. NLP claims that there is a connection between neurological processes (neuro-), language (linguistic) and acquired behavioral patterns (programming), and that these can be changed to achieve specific goals in life. According to Bandler and Grinder, NLP can treat problems such as phobias, depression, tic disorders, psychosomatic illnesses, near-sightedness, allergy, the common cold, and learning disorders,often in a single session. They also claim that NLP can \"model\" the skills of exceptional people, allowing anyone to acquire them. NLP has been adopted by some hypnotherapists, as well as by companies that run seminars marketed as \"leadership training\" to businesses and government agencies. There is no scientific evidence supporting the claims made by NLP advocates, and it has been called a pseudoscience Scientific reviews have shown that NLP is based on outdated metaphors of for the brain's inner workings, that are inconsistent with current neurological theory and contain numerous factual errors. Reviews also found that research that favored NLP contained significant methodological flaws, and that there were three times as many studies of a much higher quality that failed to reproduce the \"extraordinary claims\" made by Bandler, Grinder, and other NLP practitioners.'''\n",
    "print(type(text))\n",
    "\n",
    "words = text.split()\n",
    "print(type(words))\n",
    "\n",
    "words.count('NLP')"
   ]
  }
 ],
 "metadata": {
  "kernelspec": {
   "display_name": "Python 3 (ipykernel)",
   "language": "python",
   "name": "python3"
  },
  "language_info": {
   "codemirror_mode": {
    "name": "ipython",
    "version": 3
   },
   "file_extension": ".py",
   "mimetype": "text/x-python",
   "name": "python",
   "nbconvert_exporter": "python",
   "pygments_lexer": "ipython3",
   "version": "3.9.12"
  }
 },
 "nbformat": 4,
 "nbformat_minor": 5
}
