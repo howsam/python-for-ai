{
 "cells": [
  {
   "cell_type": "markdown",
   "id": "f18ece75-eec3-40b1-9af8-355087006bb4",
   "metadata": {
    "id": "PB9MOYPq50Wx",
    "tags": []
   },
   "source": [
    "# <font color='#FFE15D'>**Section 5: Conditional Statement 🕹️**</font>"
   ]
  },
  {
   "cell_type": "markdown",
   "id": "1bbcdf12-354f-4554-a329-486f4ed4bc68",
   "metadata": {},
   "source": [
    "<img src=\"../images/decision.png\" alt=\"string indexing\" width=150 align=\"center\" />"
   ]
  },
  {
   "cell_type": "markdown",
   "id": "70bb3145-2a25-4fac-8f5b-1141119323a8",
   "metadata": {
    "id": "A9c3D-3n61Du",
    "jp-MarkdownHeadingCollapsed": true,
    "tags": []
   },
   "source": [
    "## 🔸 **if**"
   ]
  },
  {
   "cell_type": "markdown",
   "id": "ab68c888-a639-4ae5-aeea-d89f8f1e613e",
   "metadata": {},
   "source": [
    "<img src=\"../images/if.png\" alt=\"string indexing\" width=200 align=\"center\" />"
   ]
  },
  {
   "cell_type": "code",
   "execution_count": null,
   "id": "0206a39b-3ac0-4894-9a89-ab52a4f97bb4",
   "metadata": {},
   "outputs": [],
   "source": [
    "val = False\n",
    "\n",
    "if val:\n",
    "    print('salam')\n",
    "    print('howsam')\n",
    "print('!')"
   ]
  },
  {
   "cell_type": "markdown",
   "id": "4a2c9391-f0f8-4f71-9d2f-6d89fd9a03ca",
   "metadata": {
    "jp-MarkdownHeadingCollapsed": true,
    "tags": []
   },
   "source": [
    "### Is $x$ positive?"
   ]
  },
  {
   "cell_type": "code",
   "execution_count": null,
   "id": "f76d615e-5f24-4c40-adb3-3b7a23c536ec",
   "metadata": {
    "colab": {
     "base_uri": "https://localhost:8080/"
    },
    "id": "1NZQwcpJ-ffr",
    "outputId": "6a4ac375-079e-4afe-f871-b87906c30913"
   },
   "outputs": [],
   "source": [
    "x = 2"
   ]
  },
  {
   "cell_type": "markdown",
   "id": "2456d509-4ad3-41e1-8e5b-a2c4b95616f3",
   "metadata": {
    "jp-MarkdownHeadingCollapsed": true,
    "tags": []
   },
   "source": [
    "### Warn if number of characters are more than 50"
   ]
  },
  {
   "cell_type": "code",
   "execution_count": null,
   "id": "288a5bea-90c3-424d-8aa0-5b9bbf41f733",
   "metadata": {},
   "outputs": [],
   "source": [
    "sent = 'hello world! hello world! hello world! hello world! hello world!'"
   ]
  },
  {
   "cell_type": "markdown",
   "id": "7921b3b4-1d7a-4a0b-bc42-cf7f14e07a58",
   "metadata": {
    "jp-MarkdownHeadingCollapsed": true,
    "tags": []
   },
   "source": [
    "### If grade is greater than or equal to 50 then display \"*passed*\" and if it's less than 50 then display \"*failed*\""
   ]
  },
  {
   "cell_type": "code",
   "execution_count": null,
   "id": "9459903c-5ce3-4b62-a62c-ff022bca0eb6",
   "metadata": {},
   "outputs": [],
   "source": [
    "grade = 30"
   ]
  },
  {
   "cell_type": "markdown",
   "id": "344d32e1-af11-479b-8316-5a174f308763",
   "metadata": {
    "jp-MarkdownHeadingCollapsed": true,
    "tags": []
   },
   "source": [
    "## 🔸 **if else**"
   ]
  },
  {
   "cell_type": "markdown",
   "id": "75a57075-b42c-4d04-8af3-704c8049606e",
   "metadata": {},
   "source": [
    "<img src=\"../images/if-else.png\" alt=\"string indexing\" width=200 align=\"center\" />"
   ]
  },
  {
   "cell_type": "markdown",
   "id": "0cd1eb00-8a06-407c-85f0-f4842f58627f",
   "metadata": {
    "jp-MarkdownHeadingCollapsed": true,
    "tags": []
   },
   "source": [
    "### Is $x$ positive or negative?"
   ]
  },
  {
   "cell_type": "code",
   "execution_count": null,
   "id": "aa688056-d186-4ed2-ae39-f3f9ac6489a8",
   "metadata": {},
   "outputs": [],
   "source": [
    "x = -5"
   ]
  },
  {
   "cell_type": "markdown",
   "id": "3dd2b4ea-22d0-406a-8aa1-fe9093378fc6",
   "metadata": {
    "jp-MarkdownHeadingCollapsed": true,
    "tags": []
   },
   "source": [
    "### If grade is greater than or equal to 50 then display \"*passed*\" and if it's less than 50 then display \"*failed*\""
   ]
  },
  {
   "cell_type": "code",
   "execution_count": null,
   "id": "17c61bbf-df8a-40ab-a301-9c4063c43eec",
   "metadata": {},
   "outputs": [],
   "source": [
    "grade = 30"
   ]
  },
  {
   "cell_type": "markdown",
   "id": "7b621b52-7a50-4dbb-9099-bf1ebf777bd9",
   "metadata": {
    "jp-MarkdownHeadingCollapsed": true,
    "tags": []
   },
   "source": [
    "### Implement ReLU!"
   ]
  },
  {
   "cell_type": "markdown",
   "id": "50843b31-c66d-49b9-99cc-d009a116da9f",
   "metadata": {},
   "source": [
    "<img src=\"../images/relu.png\" alt=\"string indexing\" width=200 align=\"center\" />"
   ]
  },
  {
   "cell_type": "code",
   "execution_count": null,
   "id": "6e6881f7-d998-4480-83d2-c3405f1d1db3",
   "metadata": {
    "colab": {
     "base_uri": "https://localhost:8080/"
    },
    "id": "p2kobWHG6-rP",
    "outputId": "5745ff26-0cac-490d-d319-695cad2ba12e"
   },
   "outputs": [],
   "source": [
    "x = 3\n",
    "t = 2"
   ]
  },
  {
   "cell_type": "markdown",
   "id": "fbc88b9d-e47b-4f24-a688-8889ab98952a",
   "metadata": {
    "jp-MarkdownHeadingCollapsed": true,
    "tags": []
   },
   "source": [
    "## 🔸 **if elif else**"
   ]
  },
  {
   "cell_type": "markdown",
   "id": "8058d476-49fd-4b21-88b3-6f706347f64d",
   "metadata": {},
   "source": [
    "<img src=\"../images/if-elif-else.png\" alt=\"string indexing\" width=200 align=\"center\" />"
   ]
  },
  {
   "cell_type": "markdown",
   "id": "e8431806-2207-4948-b3b2-10c4aebf08a0",
   "metadata": {
    "jp-MarkdownHeadingCollapsed": true,
    "tags": []
   },
   "source": [
    "### Is $x$ positive, negative or zero?"
   ]
  },
  {
   "cell_type": "code",
   "execution_count": null,
   "id": "863829ce-8aea-4749-8bfe-cb2537462f99",
   "metadata": {},
   "outputs": [],
   "source": [
    "x = 0"
   ]
  },
  {
   "cell_type": "markdown",
   "id": "249a2f1a-25ca-4b7c-a4a3-446f1b0db33c",
   "metadata": {
    "tags": []
   },
   "source": [
    "### Write code for below function"
   ]
  },
  {
   "cell_type": "markdown",
   "id": "458ea71e-586c-4019-9110-9d20d94cf89d",
   "metadata": {},
   "source": [
    "<img src=\"../images/condition-function.png\" alt=\"string indexing\" width=200 align=\"center\" />"
   ]
  },
  {
   "cell_type": "code",
   "execution_count": null,
   "id": "cb53e335-d68c-414e-ad9c-7010e5e7f235",
   "metadata": {
    "colab": {
     "base_uri": "https://localhost:8080/"
    },
    "id": "p2kobWHG6-rP",
    "outputId": "5745ff26-0cac-490d-d319-695cad2ba12e"
   },
   "outputs": [],
   "source": [
    "x = 2\n",
    "t1, t2 = -4, 10"
   ]
  },
  {
   "cell_type": "markdown",
   "id": "babffca6-3a2f-4359-bf4d-298d55913d42",
   "metadata": {
    "jp-MarkdownHeadingCollapsed": true,
    "tags": []
   },
   "source": [
    "## 🔸 **Combine math, comparison, and logical operators**"
   ]
  },
  {
   "cell_type": "markdown",
   "id": "41995ebf-0147-4d07-ba7a-a83bdddd0654",
   "metadata": {
    "jp-MarkdownHeadingCollapsed": true,
    "tags": []
   },
   "source": [
    "### Is $x$ positive and even?"
   ]
  },
  {
   "cell_type": "code",
   "execution_count": null,
   "id": "fbfe7149-9eef-4492-a453-a54ff1eae169",
   "metadata": {},
   "outputs": [],
   "source": [
    "x = 6"
   ]
  },
  {
   "cell_type": "markdown",
   "id": "e768ea15-f558-4bca-ae54-7ac94b2b70c7",
   "metadata": {
    "jp-MarkdownHeadingCollapsed": true,
    "tags": []
   },
   "source": [
    "## 🔸 **Nested if**"
   ]
  },
  {
   "cell_type": "markdown",
   "id": "d46f82d0-e36b-425a-baa2-daee78a49d59",
   "metadata": {
    "jp-MarkdownHeadingCollapsed": true,
    "tags": []
   },
   "source": [
    "### Is $x$ positive and even or positive and odd?"
   ]
  },
  {
   "cell_type": "code",
   "execution_count": null,
   "id": "4292b0e3-b970-4853-9375-7b2c25bff02f",
   "metadata": {
    "colab": {
     "base_uri": "https://localhost:8080/"
    },
    "id": "JRQvZp3x_H8S",
    "outputId": "2e12f04a-51fc-4d67-b249-8638d9315d6f"
   },
   "outputs": [],
   "source": [
    "x = -3"
   ]
  },
  {
   "cell_type": "markdown",
   "id": "8c0fc662-83c2-4bae-a1cc-2f7c5614fba5",
   "metadata": {
    "jp-MarkdownHeadingCollapsed": true,
    "tags": []
   },
   "source": [
    "## 🔸 **Conditional statements in one line**"
   ]
  },
  {
   "cell_type": "markdown",
   "id": "7270a91a-e6b0-49c2-94fd-240ffbc442b1",
   "metadata": {},
   "source": [
    "<img src=\"../images/if.png\" alt=\"string indexing\" width=200 align=\"center\" />\n",
    "<img src=\"../images/if-one-line.png\" alt=\"string indexing\" width=500 align=\"center\" />"
   ]
  },
  {
   "cell_type": "markdown",
   "id": "b1b3bd61-f0ce-44aa-853d-47bf7150bbae",
   "metadata": {
    "jp-MarkdownHeadingCollapsed": true,
    "tags": []
   },
   "source": [
    "### Implement ReLU!"
   ]
  },
  {
   "cell_type": "markdown",
   "id": "f26ca858-c47f-4b3e-ae51-b134bdb79ea7",
   "metadata": {},
   "source": [
    "<img src=\"../images/relu.png\" alt=\"string indexing\" width=200 align=\"center\" />"
   ]
  },
  {
   "cell_type": "code",
   "execution_count": null,
   "id": "7f793e91-dec4-446b-a040-18b58164b3b7",
   "metadata": {
    "colab": {
     "base_uri": "https://localhost:8080/"
    },
    "id": "p2kobWHG6-rP",
    "outputId": "5745ff26-0cac-490d-d319-695cad2ba12e"
   },
   "outputs": [],
   "source": [
    "x = 5\n",
    "t = 0\n",
    "\n",
    "if x <= t:\n",
    "    y = 0\n",
    "else:\n",
    "    y = x - t\n",
    "print('x:', x, '-->', 'y', y)"
   ]
  },
  {
   "cell_type": "code",
   "execution_count": null,
   "id": "ca4ca30e-3f26-466f-a264-ff3e6e61033a",
   "metadata": {},
   "outputs": [],
   "source": []
  },
  {
   "cell_type": "markdown",
   "id": "48858d07-4142-467e-85cb-d3789f6e3700",
   "metadata": {
    "jp-MarkdownHeadingCollapsed": true,
    "tags": []
   },
   "source": [
    "## 🔸 **Debug & Trace**"
   ]
  },
  {
   "cell_type": "code",
   "execution_count": null,
   "id": "2623d689-223f-4e42-8b5c-791a184bb2d2",
   "metadata": {
    "colab": {
     "base_uri": "https://localhost:8080/"
    },
    "id": "JRQvZp3x_H8S",
    "outputId": "2e12f04a-51fc-4d67-b249-8638d9315d6f"
   },
   "outputs": [],
   "source": [
    "x = 0\n",
    "\n",
    "if x > 0 :\n",
    "    if x % 2 == 0:\n",
    "        print('x is positive and even')\n",
    "    else:\n",
    "        print('x is positive and odd')\n",
    "elif x <= 0:\n",
    "    if x % 2 == 0:\n",
    "        print('x is negative and even')\n",
    "    else:\n",
    "        print('x is negative and odd')\n",
    "else:\n",
    "    print('x is zero')"
   ]
  },
  {
   "cell_type": "markdown",
   "id": "af524768-102c-4288-a71b-e97cd09bb8ab",
   "metadata": {
    "jp-MarkdownHeadingCollapsed": true,
    "tags": []
   },
   "source": [
    "### How to trace?!"
   ]
  },
  {
   "cell_type": "code",
   "execution_count": null,
   "id": "293016b6-a53a-4980-95cb-cb375b1d02a0",
   "metadata": {},
   "outputs": [],
   "source": [
    "'x is positive' if x > 0 else 'x is negative'"
   ]
  },
  {
   "cell_type": "markdown",
   "id": "aba39402-60ad-4f92-aa11-e4d3b7eca3e9",
   "metadata": {
    "id": "kr0lLhUw072R",
    "jp-MarkdownHeadingCollapsed": true,
    "tags": []
   },
   "source": [
    "## **✍️ Example 1: Beaufort scale**"
   ]
  },
  {
   "cell_type": "markdown",
   "id": "d14d2fa2-beed-4f15-b2b3-149ffb935c64",
   "metadata": {
    "tags": []
   },
   "source": [
    "<img src=\"../images/if-example-1.png\" alt=\"string indexing\" width=600 align=\"center\" />\n"
   ]
  },
  {
   "cell_type": "code",
   "execution_count": null,
   "id": "20e27c22-6675-4c60-97b2-b47ae0092069",
   "metadata": {
    "colab": {
     "base_uri": "https://localhost:8080/"
    },
    "id": "bExle2w_4XYb",
    "outputId": "505cf85f-53bf-4ad5-81e9-c4b439086b9b"
   },
   "outputs": [],
   "source": [
    "beaufort = 13"
   ]
  },
  {
   "cell_type": "markdown",
   "id": "6a3fcf35-e5a5-4bd0-9674-3cb1c7144444",
   "metadata": {
    "id": "kr0lLhUw072R",
    "jp-MarkdownHeadingCollapsed": true,
    "tags": []
   },
   "source": [
    "## **✍️ Example 2: Roots of quadratic equation**"
   ]
  },
  {
   "cell_type": "markdown",
   "id": "e185b235-f3e5-4920-9575-dd3396c4161e",
   "metadata": {},
   "source": [
    "<img src=\"../images/if-example-2.png\" alt=\"string indexing\" width=650 align=\"center\" />"
   ]
  },
  {
   "cell_type": "code",
   "execution_count": null,
   "id": "960d62f0-8a38-4b51-9e87-2542f781e651",
   "metadata": {},
   "outputs": [],
   "source": [
    "a, b, c = 1, 4, 2"
   ]
  },
  {
   "cell_type": "markdown",
   "id": "8dd4be50-af9a-403d-bdc5-2ec2b7ee8593",
   "metadata": {
    "id": "kr0lLhUw072R",
    "jp-MarkdownHeadingCollapsed": true,
    "tags": []
   },
   "source": [
    "## **✍️ Example 3: Sort**"
   ]
  },
  {
   "cell_type": "markdown",
   "id": "927fb514-8cc3-47a2-a2c1-5a99abc43ddf",
   "metadata": {},
   "source": [
    "<img src=\"../images/if-example-3.png\" alt=\"string indexing\" width=680 align=\"center\" />"
   ]
  },
  {
   "cell_type": "code",
   "execution_count": null,
   "id": "3e042163-0541-4144-b03a-027df5d682cd",
   "metadata": {
    "colab": {
     "base_uri": "https://localhost:8080/"
    },
    "id": "bExle2w_4XYb",
    "outputId": "505cf85f-53bf-4ad5-81e9-c4b439086b9b"
   },
   "outputs": [],
   "source": [
    "a, b, c = 2, 5, 15"
   ]
  }
 ],
 "metadata": {
  "kernelspec": {
   "display_name": "Python 3 (ipykernel)",
   "language": "python",
   "name": "python3"
  },
  "language_info": {
   "codemirror_mode": {
    "name": "ipython",
    "version": 3
   },
   "file_extension": ".py",
   "mimetype": "text/x-python",
   "name": "python",
   "nbconvert_exporter": "python",
   "pygments_lexer": "ipython3",
   "version": "3.9.15"
  }
 },
 "nbformat": 4,
 "nbformat_minor": 5
}
