{
 "cells": [
  {
   "cell_type": "markdown",
   "metadata": {},
   "source": [
    "<div style=\"text-align:center; font-family:samim; font-size:30px;\"><strong> آشنایی با دیکشنری</strong></div>   \n",
    "<br>\n",
    "<p style=\"text-align:center; font-family:samim; font-size:20px;\">تمرین سری هفتم</p> \n",
    "<br>\n",
    "</p>"
   ]
  },
  {
   "cell_type": "markdown",
   "metadata": {},
   "source": [
    "<p style='direction:rtl;text-align:right;font-size:17px;font-family:samim;line-height:1.5;'>\n",
    "    در این سلسله تمرین‌های آموزشی \"پایتون برای هوش مصنوعی با هوسم\"، ما از شما دعوت می‌کنیم که با یک روند گام به گام، به تدریج پیشرفت کنید. این مسیر ممکن است زمان‌بر باشد، پس صبور باشید و به راهنمایی‌ها و راهکارهایی که از تجربه ما در ارتباط با دانشجویان مختلف بدست آمده است، اعتماد کنید. برای حل مسائل، لطفا به نکات زیر توجه کنید. امیدواریم شاهد پیشرفت‌های شما در این مسیر باشیم. موفق و پیروز باشید!\n",
    "    </p>\n",
    "<br>\n",
    "<div style=\"font-family: samim; font-size: 14px; text-align: right; direction: rtl;\">\n",
    "    <strong>فونت صمیم:</strong> برای مشاهده بهتر توضیحات فارسی، پیشنهاد می‌شود فونت رایگان صمیم را روی سیستم شخصی خود نصب کنید. <a href=\"https://www.fontyab.com/5024/%D9%81%D9%88%D9%86%D8%AA-%D9%81%D8%A7%D8%B1%D8%B3%DB%8C-%D8%B5%D9%85%DB%8C%D9%85.html\">لینک دانلود فونت صمیم</a>\n",
    "    <br>\n",
    "    <br>\n",
    "    <strong>نحوه مشاهده تمرین‌ها:</strong> هر تمرین شامل سه بخش سوال، راهنمایی و جواب هست. راهنمایی و جواب مینیمایز شده است. بهتر هست از Jupyter Lab برای مشاهده درست نوتبوک‌ها و سلول‌ها استفاده شود.\n",
    "    <br>\n",
    "    <br>\n",
    "    <strong>تمرکز بر روی مسئله:</strong> قبل از هر چیز، هر سوال را دقیق بخوانید و به آن فکر کنید. این اولین گام برای حل مسئله است.\n",
    "    <br>\n",
    "    <br>\n",
    "    <strong>استفاده از کاغذ:</strong> اگر نیاز بود، فلوچارت حل مساله را روی کاغذ  بنویسید و به آن فکر کنید. بسیاری اوقات، این کار می‌تواند به روشن شدن مساله و حل بهتر آن کمک کند.\n",
    "    <br>\n",
    "    <br>\n",
    "    <strong>شروع به کدنویسی:</strong> دست روی کیبورد و کدنویسی را فراموش نکنید! برای تسلط بر پایتون، نیاز هست تمرین‌های زیادی را کد بزنید.\n",
    "    <br>\n",
    "    <br>\n",
    "    <strong>استفاده متناسب از منابع:</strong> سعی کنید بدون استفاده از ابزارهای کمکی نظیر ChatGPT یا اینترنت، مسئله‌ها را حل کنید. دراینصورت، قدرت حل مساله در مغز شما تقویت می‌شود.\n",
    "    <br>\n",
    "    <br>\n",
    "    <strong>راهنمایی و ارزیابی:</strong> اگر پس از تلاش، به نتیجه نرسیدید، راهنمایی‌های ارائه شده را مطالعه کرده و دوباره به حل مساله بپردازید. اگر بعد از چند ساعت تلاش برای یک مساله، نتواستید، آنگاه جواب مساله را نگاه کنید.\n",
    "    <br>\n",
    "    <br>\n",
    "    <strong>مبتنی بر محتوا:</strong> سعی کنید با توجه به مباحثی که در ویدیو آموزش هر فصل آموخته‌اید، به سوالات پاسخ دهید و از دستورات جدید خودداری کنید. این به شما کمک می‌کند تا گام به گام و با پیشرفت مرحله‌ای، مسائل را حل کنید.\n",
    "    <br>\n",
    "    <br>\n",
    "    <strong>متنوع بودن راه‌حل‌ها:</strong> به یاد داشته باشید که برای هر سوال، روش‌های مختلفی وجود دارد. راه‌حل ارائه شده فقط یکی از راه‌حل‌های ممکن است و ممکن هست جواب شما هم درست باشد.\n",
    "</div>\n"
   ]
  },
  {
   "cell_type": "markdown",
   "metadata": {},
   "source": [
    "<h2 style='direction:rtl;text-align:right;font-family:samim;'><b>🔸 تمرین ۱</b></h2>"
   ]
  },
  {
   "cell_type": "markdown",
   "metadata": {},
   "source": [
    "<p style='direction:rtl;text-align:right;font-size:18px;font-family:samim;'>\n",
    "     چگونه یک دیکشنری خالی در پایتون ایجاد می‌کنید؟\n",
    "</p>"
   ]
  },
  {
   "cell_type": "code",
   "execution_count": null,
   "metadata": {},
   "outputs": [],
   "source": []
  },
  {
   "cell_type": "markdown",
   "metadata": {
    "tags": []
   },
   "source": [
    "<h4 style='direction:rtl;text-align:right;font-size:18px;font-family:samim;'>راهنمایی</h4>"
   ]
  },
  {
   "cell_type": "markdown",
   "metadata": {
    "tags": []
   },
   "source": [
    "<p style='direction:rtl;text-align:right;font-size:16px;font-family:samim;'>\n",
    "در ویدیوی آموزشی ذکر کردیم ۲ راه برای ساخت دیکشنری خالی وجود دارد.\n",
    "</p>"
   ]
  },
  {
   "cell_type": "markdown",
   "metadata": {
    "jp-MarkdownHeadingCollapsed": true,
    "tags": []
   },
   "source": [
    "<h4 style='direction:rtl;text-align:right;font-size:18px;font-family:samim;'>جواب</h4>"
   ]
  },
  {
   "cell_type": "code",
   "execution_count": 1,
   "metadata": {
    "tags": []
   },
   "outputs": [],
   "source": [
    "my_dict_1 = {} \n",
    "my_dict_2 = dict()"
   ]
  },
  {
   "cell_type": "markdown",
   "metadata": {},
   "source": [
    "<h2 style='direction:rtl;text-align:right;font-family:samim;'><b>🔸 تمرین ۲</b></h2>"
   ]
  },
  {
   "cell_type": "markdown",
   "metadata": {},
   "source": [
    "<p style='direction:rtl;text-align:right;font-size:18px;font-family:samim;'>\n",
    "    شما لیستی از مشتریان و تعداد سفارشات آنها به صورت زیر دارید. برای هر مشتری که بیش از ۳ سفارش داشته، یک پیام تشکر چاپ کنید.\n",
    "    <br>\n",
    "    <br>\n",
    "    $$ orders = {'customer1': 5, 'customer2': 2, 'customer3': 1, 'customer4': 3 }$$\n",
    "</p>"
   ]
  },
  {
   "cell_type": "code",
   "execution_count": null,
   "metadata": {},
   "outputs": [],
   "source": []
  },
  {
   "cell_type": "markdown",
   "metadata": {
    "tags": []
   },
   "source": [
    "<h4 style='direction:rtl;text-align:right;font-size:18px;font-family:samim;'>راهنمایی</h4>"
   ]
  },
  {
   "cell_type": "markdown",
   "metadata": {
    "tags": []
   },
   "source": [
    "<p style='direction:rtl;text-align:right;font-size:16px;font-family:samim;'>\n",
    "ابتدا یک دیکشنری ایجاد کنید. سپس مقدار value از هر آیتم در دیکشنری را مورد بررسی قرار دهید که شرط لازم را دارد یا نه.\n",
    "</p>"
   ]
  },
  {
   "cell_type": "markdown",
   "metadata": {
    "jp-MarkdownHeadingCollapsed": true,
    "tags": []
   },
   "source": [
    "<h4 style='direction:rtl;text-align:right;font-size:18px;font-family:samim;'>جواب</h4>"
   ]
  },
  {
   "cell_type": "code",
   "execution_count": 12,
   "metadata": {
    "tags": []
   },
   "outputs": [
    {
     "name": "stdout",
     "output_type": "stream",
     "text": [
      "customer1 Thank you for your frequent orders!\n",
      "customer4 Thank you for your frequent orders!\n"
     ]
    }
   ],
   "source": [
    "orders = {'customer1': 5, 'customer2': 2, 'customer3': 1, 'customer4': 3 }\n",
    "\n",
    "for customer, count in orders.items():\n",
    "    if count >= 3:\n",
    "        print(customer,\"Thank you for your frequent orders!\")"
   ]
  },
  {
   "cell_type": "markdown",
   "metadata": {},
   "source": [
    "<h2 style='direction:rtl;text-align:right;font-family:samim;'><b>🔸 تمرین ۳</b></h2>"
   ]
  },
  {
   "cell_type": "markdown",
   "metadata": {},
   "source": [
    "<p style='direction:rtl;text-align:right;font-size:18px;font-family:samim;line-height:1.5;''>\n",
    "      قیمت اجناس موجود در یک میوه فروشی مشخص شده است. در ماه جدید قرار است افزایش قیمت ده درصدی داشته باشد. قیمت جدید هر محصول را تعیین کنید.\n",
    "\n",
    "<p style='direction:rtl;text-align:center;font-size:18px;font-family:samim;'>    \n",
    "    <br>\n",
    "    $$ products = {'apple': 100, 'banana': 80, 'kiwi': 30, 'orange': 45}$$\n",
    "<p style='direction:rtl;text-align:center;font-size:18px;font-family:samim;'>     \n",
    "    <br>\n",
    "    $$increase_{percent} = 10$$\n",
    "</p>"
   ]
  },
  {
   "cell_type": "code",
   "execution_count": null,
   "metadata": {},
   "outputs": [],
   "source": []
  },
  {
   "cell_type": "markdown",
   "metadata": {
    "tags": []
   },
   "source": [
    "<h4 style='direction:rtl;text-align:right;font-size:18px;font-family:samim;'>راهنمایی</h4>"
   ]
  },
  {
   "cell_type": "markdown",
   "metadata": {
    "tags": []
   },
   "source": [
    "<p style='direction:rtl;text-align:right;font-size:16px;font-family:samim;'>\n",
    "ابتدا یک دیکشنری از اجناس به همراه قیمت‌هایشان تهیه کنید. سپس هر آیتم از دیکشنری را انتخاب کرده و تغییرات قیمت جدید را بر روی آن اعمال نمایید و در دیکشنری جدید مقادیر را ذخیره کنید.\n",
    "</p>"
   ]
  },
  {
   "cell_type": "markdown",
   "metadata": {
    "jp-MarkdownHeadingCollapsed": true,
    "tags": []
   },
   "source": [
    "<h4 style='direction:rtl;text-align:right;font-size:18px;font-family:samim;'>جواب</h4>"
   ]
  },
  {
   "cell_type": "code",
   "execution_count": 8,
   "metadata": {
    "tags": []
   },
   "outputs": [
    {
     "name": "stdout",
     "output_type": "stream",
     "text": [
      "{'apple': 110.0, 'banana': 88.0, 'kiwi': 33.0, 'orange': 49.5}\n"
     ]
    }
   ],
   "source": [
    "products = {'apple': 100, 'banana': 80, 'kiwi': 30, 'orange': 45}\n",
    "increase_percent = 10\n",
    "new_products = {}\n",
    "\n",
    "for product, price in products.items():\n",
    "    new_price = price + (price * increase_percent / 100)\n",
    "    new_products[product] = new_price\n",
    "    \n",
    "print(new_products)"
   ]
  },
  {
   "cell_type": "markdown",
   "metadata": {},
   "source": [
    "<h2 style='direction:rtl;text-align:right;font-family:samim;'><b>🔸 تمرین ۴</b></h2>"
   ]
  },
  {
   "cell_type": "markdown",
   "metadata": {},
   "source": [
    "<p style='direction:rtl;text-align:right;font-size:18px;font-family:samim;'>\n",
    "    دمای هوای دو شهر در یک هفته اندازه‌گیری شده است. میانگین دمای کدام شهر بالاتر بوده است.\n",
    "<p style='direction:ltr;text-align:left;font-size:18px;font-family:samim;line-height:1.5;'>    \n",
    "    {'Tehran': [18, 20, 23, 26, 30, 19, 32], 'Mashhad': [15, 17, 14, 10, 16, 13, 12]}\n",
    "</p>"
   ]
  },
  {
   "cell_type": "code",
   "execution_count": null,
   "metadata": {},
   "outputs": [],
   "source": []
  },
  {
   "cell_type": "markdown",
   "metadata": {
    "tags": []
   },
   "source": [
    "<h4 style='direction:rtl;text-align:right;font-size:18px;font-family:samim;'>راهنمایی</h4>"
   ]
  },
  {
   "cell_type": "markdown",
   "metadata": {
    "tags": []
   },
   "source": [
    "<p style='direction:rtl;text-align:right;font-size:16px;font-family:samim;'>\n",
    "هر key  و value متناظر با آن را از دیکشنری انتخاب کنید. با استفاده از دستورات sum  و len میانگین مقادیر را محاسبه کرده و در نهایت شرط گفته ‌شده در صورت سوال را بررسی کنید.\n",
    "</p>"
   ]
  },
  {
   "cell_type": "markdown",
   "metadata": {
    "jp-MarkdownHeadingCollapsed": true,
    "tags": []
   },
   "source": [
    "<h4 style='direction:rtl;text-align:right;font-size:18px;font-family:samim;'>جواب</h4>"
   ]
  },
  {
   "cell_type": "code",
   "execution_count": 19,
   "metadata": {
    "tags": []
   },
   "outputs": [
    {
     "name": "stdout",
     "output_type": "stream",
     "text": [
      "Tehran has hight tem\n"
     ]
    }
   ],
   "source": [
    "weather_data =  {'Tehran': [18, 20, 23, 26, 30, 19, 32], 'Mashhad': [15, 17, 14, 10, 16, 13, 12]}\n",
    "weather_data_mean = {}\n",
    "\n",
    "#محاسبه میانگین دما برای هر شهر\n",
    "for city, temperatures in weather_data.items():\n",
    "    \n",
    "    average_temp = sum(temperatures) / len(temperatures)\n",
    "    weather_data_mean[city] = average_temp\n",
    "weather_data_mean    \n",
    "\n",
    "\n",
    "#بررسی شرط سوال\n",
    "if weather_data_mean['Tehran'] > weather_data_mean['Mashhad']:\n",
    "    print(\"Tehran has hight tem\")\n",
    "else:\n",
    "    print(\"Mashhad has hight tem\")\n",
    "    "
   ]
  },
  {
   "cell_type": "markdown",
   "metadata": {},
   "source": [
    "<h2 style='direction:rtl;text-align:right;font-family:samim;'><b>🔸 تمرین ۵</b></h2>"
   ]
  },
  {
   "cell_type": "markdown",
   "metadata": {},
   "source": [
    "<p style='direction:rtl;text-align:right;font-size:18px;font-family:samim;line-height:1.5;'>\n",
    "     فروشگاهی قرار است روی اجناسی که قیمتشان بیشتر از ۱۰۰ تومان است، تخفیف ده درصدی اعمال کند. با این حساب قیمت نهایی فاکتور مشتری که به قرار زیر است برابر چقدر خواهد بود؟\n",
    "<p style='direction:ltr;text-align:left;font-size:18px;font-family:samim;line-height:1.5;'>\n",
    "    prices = [['appel',150], ['banana', 80], ['orange', 120]]\n",
    "</p>"
   ]
  },
  {
   "cell_type": "code",
   "execution_count": null,
   "metadata": {},
   "outputs": [],
   "source": []
  },
  {
   "cell_type": "markdown",
   "metadata": {
    "tags": []
   },
   "source": [
    "<h4 style='direction:rtl;text-align:right;font-size:18px;font-family:samim;'>راهنمایی</h4>"
   ]
  },
  {
   "cell_type": "markdown",
   "metadata": {
    "tags": []
   },
   "source": [
    "<p style='direction:rtl;text-align:right;font-size:16px;font-family:samim;'>\n",
    "ابتدا لیست را تبدیل به دیکشنری کنید. سپس برای هر آیتم در دیکشنری، مقدار value را مورد بررسی قرار دهید. اگر شرط لازم را داشت تخفیف را اعمال نموده و قیمت نهایی را بدست آورید.\n",
    "</p>"
   ]
  },
  {
   "cell_type": "markdown",
   "metadata": {
    "jp-MarkdownHeadingCollapsed": true,
    "tags": []
   },
   "source": [
    "<h4 style='direction:rtl;text-align:right;font-size:18px;font-family:samim;'>جواب</h4>"
   ]
  },
  {
   "cell_type": "code",
   "execution_count": 25,
   "metadata": {
    "tags": []
   },
   "outputs": [
    {
     "name": "stdout",
     "output_type": "stream",
     "text": [
      "323.0\n"
     ]
    }
   ],
   "source": [
    "prices = [['appel',150], ['banana', 80], ['orange', 120]]\n",
    "\n",
    "#تعریف دیکشنری\n",
    "prices_dic = {item[0]:item[1] for item in prices}\n",
    "   \n",
    "result = 0    \n",
    "for product, price in prices_dic.items():\n",
    "    if price > 100:\n",
    "        price = price * 0.9   \n",
    "    result  +=  price \n",
    "print(result)    "
   ]
  },
  {
   "cell_type": "markdown",
   "metadata": {},
   "source": [
    "<h2 style='direction:rtl;text-align:right;font-family:samim;'><b>🔸 تمرین ۶</b></h2>"
   ]
  },
  {
   "cell_type": "markdown",
   "metadata": {},
   "source": [
    "<p style='direction:rtl;text-align:right;font-size:18px;font-family:samim;'>\n",
    "    سفارشاتی که هنوز \"در حال پردازش\" هستند را شناسایی و لیست کنید.\n",
    "    <br>\n",
    "    <br>\n",
    "<p style='direction:ltr;text-align:left;font-size:18px;font-family:samim;line-height:1.5;'>\n",
    "{'order1': 'processed', 'order2': 'processing', 'order3': 'delivered','order4':'processing'}\n",
    "\n",
    "</p>"
   ]
  },
  {
   "cell_type": "code",
   "execution_count": null,
   "metadata": {},
   "outputs": [],
   "source": []
  },
  {
   "cell_type": "markdown",
   "metadata": {
    "tags": []
   },
   "source": [
    "<h4 style='direction:rtl;text-align:right;font-size:18px;font-family:samim;'>راهنمایی</h4>"
   ]
  },
  {
   "cell_type": "markdown",
   "metadata": {
    "tags": []
   },
   "source": [
    "<p style='direction:rtl;text-align:right;font-size:16px;font-family:samim;'>\n",
    "برای هر آیتم از دیکشنری، مقدار value را مورد بررسی قرار دهید. یک لیست خالی تعریف کنید و مواردی که در حال پردازش هستند را به آن لیست اضافه کنید.\n",
    "</p>"
   ]
  },
  {
   "cell_type": "markdown",
   "metadata": {
    "jp-MarkdownHeadingCollapsed": true,
    "tags": []
   },
   "source": [
    "<h4 style='direction:rtl;text-align:right;font-size:18px;font-family:samim;'>جواب</h4>"
   ]
  },
  {
   "cell_type": "code",
   "execution_count": 26,
   "metadata": {
    "tags": []
   },
   "outputs": [
    {
     "name": "stdout",
     "output_type": "stream",
     "text": [
      "['order2', 'order4']\n"
     ]
    }
   ],
   "source": [
    "orders = {'order1': 'processed', 'order2': 'processing', 'order3': 'delivered','order4':'processing'}\n",
    "\n",
    "lidt_proccessing = []\n",
    "\n",
    "for order, status in orders.items():\n",
    "    if status == 'processing':\n",
    "        lidt_proccessing.append(order)\n",
    "        \n",
    "print(lidt_proccessing)        "
   ]
  },
  {
   "cell_type": "markdown",
   "metadata": {},
   "source": [
    "<h2 style='direction:rtl;text-align:right;font-family:samim;'><b>🔸 تمرین ۷</b></h2>"
   ]
  },
  {
   "cell_type": "markdown",
   "metadata": {},
   "source": [
    "<p style='direction:rtl;text-align:right;font-size:18px;font-family:samim;line-height:1.5;'>\n",
    "    هر رنگی در کامپیوتر، یک کد مخصوص به خود دارد. کامپیوتر رنگ‌ها را با این کدها می‌شناسد نه با\n",
    "نامشان! از شما خواسته شده برنامه‌ای بنویسید که اسم رنگ را دریافت و کد رنگی مربوط به آن رنگ\n",
    "نمایش داده شود. نام رنگ‌ها از جدول زیر انتخاب می‌شوند:\n",
    "\n",
    "\n",
    "</p>"
   ]
  },
  {
   "attachments": {
    "image.png": {
     "image/png": "[encoded data removed]"
    }
   },
   "cell_type": "markdown",
   "metadata": {},
   "source": [
    "![image.png](attachment:image.png)"
   ]
  },
  {
   "cell_type": "code",
   "execution_count": null,
   "metadata": {},
   "outputs": [],
   "source": []
  },
  {
   "cell_type": "markdown",
   "metadata": {
    "tags": []
   },
   "source": [
    "<h4 style='direction:rtl;text-align:right;font-size:18px;font-family:samim;'>راهنمایی</h4>"
   ]
  },
  {
   "cell_type": "markdown",
   "metadata": {
    "tags": []
   },
   "source": [
    "<p style='direction:rtl;text-align:right;font-size:16px;font-family:samim;'>\n",
    "بر اساس جدول، یک دیکشنری تهیه کنید و  سپس \n",
    "    از طریق key به value دسترسی پیدا کنید.\n",
    "</p>"
   ]
  },
  {
   "cell_type": "markdown",
   "metadata": {
    "jp-MarkdownHeadingCollapsed": true,
    "tags": []
   },
   "source": [
    "<h4 style='direction:rtl;text-align:right;font-size:18px;font-family:samim;'>جواب</h4>"
   ]
  },
  {
   "cell_type": "code",
   "execution_count": 41,
   "metadata": {
    "tags": []
   },
   "outputs": [
    {
     "name": "stdout",
     "output_type": "stream",
     "text": [
      "#FFFF00\n",
      "#00FF00\n"
     ]
    }
   ],
   "source": [
    "color_dict = {'Lime': '#00FF00', 'Blue': '#0000FF', 'Yellow': '#FFFF00',\n",
    "              'Cyan': '#00FFFF', 'Magenta': '#FF00FF', 'Gray': '#808080',\n",
    "              'Maroon': '#800000', 'Green': '#008800', 'Purple': '#800080',\n",
    "              'Navy':\"000080\"}\n",
    "\n",
    "colorname = \"Yellow\"\n",
    "print(color_dict[colorname])\n",
    "\n",
    "#روش دوم\n",
    "print(color_dict.get('Lime'))"
   ]
  },
  {
   "cell_type": "markdown",
   "metadata": {},
   "source": [
    "<h2 style='direction:rtl;text-align:right;font-family:samim;'><b>🔸 تمرین ۸</b></h2>"
   ]
  },
  {
   "cell_type": "markdown",
   "metadata": {},
   "source": [
    "<p style='direction:rtl;text-align:right;font-size:18px;font-family:samim;line-height:1.5;'>\n",
    "    کدی بنویسید که دو دیکشنری از کاربر دریافت کرده و مقادیر دیکشنری که کلیدهای آنها یکسان\n",
    "است را با هم جمع کند. مقدار جمع شده و کلید متناظر باید در یک دیکشنری جدید ذخیره شوند.\n",
    "</p>"
   ]
  },
  {
   "cell_type": "code",
   "execution_count": null,
   "metadata": {},
   "outputs": [],
   "source": []
  },
  {
   "cell_type": "markdown",
   "metadata": {
    "tags": []
   },
   "source": [
    "<h4 style='direction:rtl;text-align:right;font-size:18px;font-family:samim;'>راهنمایی</h4>"
   ]
  },
  {
   "cell_type": "markdown",
   "metadata": {
    "tags": []
   },
   "source": [
    "<p style='direction:rtl;text-align:right;font-size:16px;font-family:samim;'>\n",
    "به ازای هر کلید از دیکشنری اول چک کنید که در دیکشنری دوم هم وجود دارد یا نه. سپس مقادیر value آن ها را می‌توانید با هم جمع کنید.\n",
    "</p>"
   ]
  },
  {
   "cell_type": "markdown",
   "metadata": {
    "jp-MarkdownHeadingCollapsed": true,
    "tags": []
   },
   "source": [
    "<h4 style='direction:rtl;text-align:right;font-size:18px;font-family:samim;'>جواب</h4>"
   ]
  },
  {
   "cell_type": "code",
   "execution_count": 16,
   "metadata": {
    "tags": []
   },
   "outputs": [
    {
     "name": "stdout",
     "output_type": "stream",
     "text": [
      "{'a': 8, 'b': 16}\n",
      "{'b': 16, 'a': 8}\n",
      "{'a': 8, 'b': 16}\n"
     ]
    }
   ],
   "source": [
    "# دو دیکشنری نمونه\n",
    "dict1 = {'a': 5, 'b': 10, 'c': 15}\n",
    "dict2 = {'a': 3, 'b': 6, 'd': 9}\n",
    "\n",
    "# روش اول\n",
    "result_dict = {}\n",
    "for key in dict1:\n",
    "    if key in dict2:  # بررسی وجود کلید در دومین دیکشنری\n",
    "        result_dict[key] = dict1[key] + dict2[key]  # جمع مقادیر و ذخیره در دیکشنری جدید\n",
    "print(result_dict)\n",
    "\n",
    "\n",
    "#روش دوم\n",
    "# پیدا کردن کلیدهای مشترک\n",
    "common_keys = dict1.keys() & dict2.keys()\n",
    "# print(common_keys)\n",
    "# # جمع کردن مقادیر برای کلیدهای مشترک و ذخیره در یک دیکشنری جدید\n",
    "result_dict = {key: dict1[key] + dict2[key] for key in common_keys}\n",
    "\n",
    "print(result_dict)\n",
    "\n",
    "\n",
    "\n",
    "#روش سوم\n",
    "new_dict = {}\n",
    "\n",
    "for (k, v) in dict1.items():\n",
    "    if k in dict2:\n",
    "        new_dict[k] = v + dict2[k]\n",
    "print(new_dict)        "
   ]
  },
  {
   "cell_type": "markdown",
   "metadata": {},
   "source": [
    "<h2 style='direction:rtl;text-align:right;font-family:samim;'><b>🔸 تمرین ۹</b></h2>"
   ]
  },
  {
   "cell_type": "markdown",
   "metadata": {},
   "source": [
    "<p style='direction:rtl;text-align:right;font-size:18px;font-family:samim;line-height:1.5;'>\n",
    "    کدی بنویسید که سه مقدار بزرگتر در یک دیکشنری را به همراه کلیدهایش نمایش دهد.\n",
    "</p>"
   ]
  },
  {
   "cell_type": "code",
   "execution_count": null,
   "metadata": {},
   "outputs": [],
   "source": []
  },
  {
   "cell_type": "markdown",
   "metadata": {
    "tags": []
   },
   "source": [
    "<h4 style='direction:rtl;text-align:right;font-size:18px;font-family:samim;'>راهنمایی</h4>"
   ]
  },
  {
   "cell_type": "markdown",
   "metadata": {
    "tags": []
   },
   "source": [
    "<p style='direction:rtl;text-align:right;font-size:16px;font-family:samim;'>\n",
    "ابتدا مقادیر value را به صورت کاهشی در یک متغیر یا یک لیست ذخیره کنید. سپس یک حلقه به تعداد ۳ بزنید تا  برای هر آیتم در دیکشنری چک کنید که مقدار value   برابر با ۳ تا عنصر اول در لیست تعریف شده وجود دارد یا نه.  \n",
    "</p>"
   ]
  },
  {
   "cell_type": "markdown",
   "metadata": {
    "jp-MarkdownHeadingCollapsed": true,
    "tags": []
   },
   "source": [
    "<h4 style='direction:rtl;text-align:right;font-size:18px;font-family:samim;'>جواب</h4>"
   ]
  },
  {
   "cell_type": "code",
   "execution_count": 11,
   "metadata": {
    "tags": []
   },
   "outputs": [
    {
     "name": "stdout",
     "output_type": "stream",
     "text": [
      "[9, 7, 6, 5, 1]\n",
      "c 9\n",
      "b 7\n",
      "e 6\n"
     ]
    }
   ],
   "source": [
    "# دیکشنری نمونه\n",
    "my_dict = {'a': 5, 'b': 7, 'c': 9, 'd': 1, 'e': 6}\n",
    "\n",
    "values= list(my_dict.values())\n",
    "values = sorted(values,reverse=True)\n",
    "print(values)\n",
    "\n",
    "for i in range(3):\n",
    "  for k , v in my_dict.items():\n",
    "    if v == values[i]:\n",
    "      print (k , v)  "
   ]
  },
  {
   "cell_type": "markdown",
   "metadata": {},
   "source": [
    "<h2 style='direction:rtl;text-align:right;font-family:samim;'><b>🔸 تمرین ۱۰</b></h2>"
   ]
  },
  {
   "cell_type": "markdown",
   "metadata": {},
   "source": [
    "<p style='direction:rtl;text-align:right;font-size:18px;font-family:samim;line-height:1.5;'>\n",
    "    دو لیست زیر را در نظر بگیرید.\n",
    "    <br>\n",
    "    <p style='direction:rtl;text-align:center;font-size:18px;font-family:samim;'>    \n",
    "    $$list1 = ['apple', 'banana', 'orange']$$\n",
    "    <br>\n",
    "    <p style='direction:rtl;text-align:center;font-size:18px;font-family:samim;'>    \n",
    "    $$list2 = [20, 50, 40]$$\n",
    "    <br>\n",
    "        <p style='direction:rtl;text-align:right;font-size:18px;font-family:samim;line-height:1.5;'>\n",
    "    با استفاده از این دو لیست، یک دیکشنری بسازید کهkey-ها ازlist1 و value-ها ازlist2 باشد. \n",
    "</p>"
   ]
  },
  {
   "cell_type": "code",
   "execution_count": null,
   "metadata": {},
   "outputs": [],
   "source": []
  },
  {
   "cell_type": "markdown",
   "metadata": {
    "tags": []
   },
   "source": [
    "<h4 style='direction:rtl;text-align:right;font-size:18px;font-family:samim;'>راهنمایی</h4>"
   ]
  },
  {
   "cell_type": "markdown",
   "metadata": {
    "tags": []
   },
   "source": [
    "<p style='direction:rtl;text-align:right;font-size:16px;font-family:samim;'>\n",
    "ابتدا یک دیکشنری خالی تعریف کنید. سپس با استفاده از حلقه، هر بار یک المان از لیست اول را بردارید و سپس المان نظیر آن را با ایندکسینگ از لیست دوم انتخاب کنید.\n",
    "</p>"
   ]
  },
  {
   "cell_type": "markdown",
   "metadata": {
    "jp-MarkdownHeadingCollapsed": true,
    "tags": []
   },
   "source": [
    "<h4 style='direction:rtl;text-align:right;font-size:18px;font-family:samim;'>جواب</h4>"
   ]
  },
  {
   "cell_type": "code",
   "execution_count": 12,
   "metadata": {
    "tags": []
   },
   "outputs": [
    {
     "name": "stdout",
     "output_type": "stream",
     "text": [
      "{'apple': 20, 'banana': 50, 'orange': 40}\n",
      "{'apple': 20, 'banana': 50, 'orange': 40}\n"
     ]
    }
   ],
   "source": [
    "# دو لیست داده شده\n",
    "list1 = ['apple', 'banana', 'orange']\n",
    "list2 = [20, 50, 40]\n",
    "\n",
    "# ساخت دیکشنری خالی\n",
    "result_dict = {}\n",
    "\n",
    "\n",
    "for i in range(len(list1)):\n",
    "    result_dict[list1[i]] = list2[i]  # اضافه کردن کلید و مقدار به دیکشنری\n",
    "\n",
    "# نمایش دیکشنری ایجاد شده\n",
    "print(result_dict)\n",
    "\n",
    "\n",
    "#روش دوم\n",
    "\n",
    "result = {}\n",
    "for i in list1:\n",
    "  result[i] = list2[list1.index(i)]\n",
    "print(result)\n"
   ]
  },
  {
   "cell_type": "markdown",
   "metadata": {},
   "source": [
    "<h2 style='direction:rtl;text-align:right;font-family:samim;'><b>🔸 تمرین ۱۱</b></h2>"
   ]
  },
  {
   "cell_type": "markdown",
   "metadata": {},
   "source": [
    "<p style='direction:rtl;text-align:right;font-size:18px;font-family:samim;line-height:1.5;'>\n",
    "      کدی بنویسید که همه value-ها را در دیکشنری زیر با هم جمع کند:\n",
    "   <br> \n",
    "    <p style='direction:rtl;text-align:center;font-size:18px;font-family:samim;'> \n",
    "     My dict = {‘data1’ : 100, ‘data2’ : -54, ‘data3’ : 247}\n",
    "<p style='direction:rtl;text-align:right;font-size:18px;font-family:samim;line-height:1.5;'>  \n",
    "    کدی بنویسید که همه value-ها را در هم ضرب کند.\n",
    "</p>"
   ]
  },
  {
   "cell_type": "code",
   "execution_count": null,
   "metadata": {},
   "outputs": [],
   "source": []
  },
  {
   "cell_type": "markdown",
   "metadata": {
    "tags": []
   },
   "source": [
    "<h4 style='direction:rtl;text-align:right;font-size:18px;font-family:samim;'>راهنمایی</h4>"
   ]
  },
  {
   "cell_type": "markdown",
   "metadata": {
    "tags": []
   },
   "source": [
    "<p style='direction:rtl;text-align:right;font-size:16px;font-family:samim;'>\n",
    "برای حل سوال اول، می‌توانید از یک متغیر موقت برای نگه داشتن مجموع استفاده کنید و سپس در یک حلقه for، هر مقدار را به آن اضافه کنید. برای سوال دوم، می‌توانید همین روش را با شروع از ۱ به جای ۰ و ضرب کردن مقادیر در آن متغیر به کار ببرید.\n",
    "</p>"
   ]
  },
  {
   "cell_type": "markdown",
   "metadata": {
    "jp-MarkdownHeadingCollapsed": true,
    "tags": []
   },
   "source": [
    "<h4 style='direction:rtl;text-align:right;font-size:18px;font-family:samim;'>جواب</h4>"
   ]
  },
  {
   "cell_type": "code",
   "execution_count": 14,
   "metadata": {
    "tags": []
   },
   "outputs": [
    {
     "name": "stdout",
     "output_type": "stream",
     "text": [
      "293\n",
      "-1333800\n"
     ]
    }
   ],
   "source": [
    "# دیکشنری\n",
    "my_dict = {'data1': 100, 'data2': -54, 'data3': 247}\n",
    "\n",
    "# محاسبه مجموع مقادیر\n",
    "total_sum = 0\n",
    "for value in my_dict.values():\n",
    "    total_sum += value  \n",
    "\n",
    "# نمایش مجموع\n",
    "print(total_sum)\n",
    "\n",
    "\n",
    "# محاسبه حاصل ضرب مقادیر\n",
    "product = 1  # شروع با 1 برای ضرب\n",
    "for value in my_dict.values():\n",
    "    product *= value  # ضرب هر مقدار در حاصل ضرب قبلی\n",
    "\n",
    "# نمایش حاصل ضرب\n",
    "print( product)"
   ]
  },
  {
   "cell_type": "markdown",
   "metadata": {},
   "source": [
    "<h2 style='direction:rtl;text-align:right;font-family:samim;'><b>🔸 تمرین ۱۲</b></h2>"
   ]
  },
  {
   "cell_type": "markdown",
   "metadata": {},
   "source": [
    "<p style='direction:rtl;text-align:right;font-size:18px;font-family:samim;'>\n",
    "    یک دیکشنری بسازید که نام سه کتاب به عنوان کلید و سال انتشار آنها به عنوان مقدار باشد.\n",
    "<p style='direction:ltr;text-align:left;font-size:18px;font-family:samim;line-height:1.5;'>    \n",
    "    books = {\"Pride and Prejudice\": 1813, \"1984\": 1949, \"To Kill a Mockingbird\": 1960}\n",
    "<p style='direction:rtl;text-align:right;font-size:18px;font-family:samim;'>    \n",
    "    الف)  از دیکشنری قبلی، سال انتشار کتاب \"1984\" را چاپ کنید.\n",
    "<br>\n",
    "<br>\n",
    "    ب) به دیکشنری books کتاب جدیدی با نام \"The Great Gatsby\" و سال انتشار 1925 اضافه کنید.\n",
    "    \n",
    "<br>\n",
    "<br>\n",
    "    ج) کتاب \"To Kill a Mockingbird\" را از دیکشنری حذف کنید.\n",
    "    \n",
    "<br>\n",
    "<br>\n",
    "    د) چک کنید که آیا کتاب \"Pride and Prejudice\" در دیکشنری وجود دارد.\n",
    "    \n",
    "<br>\n",
    "<br>\n",
    "</p>"
   ]
  },
  {
   "cell_type": "code",
   "execution_count": null,
   "metadata": {},
   "outputs": [],
   "source": []
  },
  {
   "cell_type": "markdown",
   "metadata": {
    "tags": []
   },
   "source": [
    "<h4 style='direction:rtl;text-align:right;font-size:18px;font-family:samim;'>راهنمایی</h4>"
   ]
  },
  {
   "cell_type": "markdown",
   "metadata": {
    "tags": []
   },
   "source": [
    "<p style='direction:rtl;text-align:right;font-size:16px;font-family:samim;'>\n",
    "    از بخش متدهایی گفته شده در ویدیوی آموزشی کمک بگیرید.\n",
    "    \n",
    "</p>"
   ]
  },
  {
   "cell_type": "markdown",
   "metadata": {
    "jp-MarkdownHeadingCollapsed": true,
    "tags": []
   },
   "source": [
    "<h4 style='direction:rtl;text-align:right;font-size:18px;font-family:samim;'>جواب</h4>"
   ]
  },
  {
   "cell_type": "code",
   "execution_count": 29,
   "metadata": {
    "tags": []
   },
   "outputs": [
    {
     "name": "stdout",
     "output_type": "stream",
     "text": [
      "1949\n",
      "{'Pride and Prejudice': 1813, '1984': 1949, 'To Kill a Mockingbird': 1960, 'The Great Gatsby': 1925}\n",
      "{'Pride and Prejudice': 1813, '1984': 1949, 'The Great Gatsby': 1925}\n",
      "True\n"
     ]
    }
   ],
   "source": [
    "books = {\"Pride and Prejudice\": 1813, \"1984\": 1949, \"To Kill a Mockingbird\": 1960}\n",
    "\n",
    "#الف\n",
    "print(books.get(\"1984\"))\n",
    "\n",
    "#ب\n",
    "books.update({\"The Great Gatsby\": 1925})\n",
    "print(books)\n",
    "\n",
    "#ج\n",
    "books.pop(\"To Kill a Mockingbird\")\n",
    "print(books)\n",
    "\n",
    "\n",
    "#د\n",
    "exists = \"Pride and Prejudice\" in books\n",
    "print(exists)"
   ]
  },
  {
   "cell_type": "markdown",
   "metadata": {},
   "source": [
    "<h2 style='direction:rtl;text-align:right;font-family:samim;'><b>🔸 تمرین ۱۳</b></h2>"
   ]
  },
  {
   "cell_type": "markdown",
   "metadata": {},
   "source": [
    "<p style='direction:rtl;text-align:right;font-size:18px;font-family:samim;line-height:1.5;'>\n",
    "    دو لیست به نام‌های authors و titles داده شده است. یک دیکشنری ایجاد کنید که نام نویسندگان را به عنوان کلید و نام کتاب‌ها را به عنوان مقدار داشته باشد.\n",
    "<br> \n",
    "<br>  \n",
    "$$authors = [\"F. Scott Fitzgerald\", \"George Orwell\", \"Jane Austen\"]$$\n",
    "<br>     \n",
    "$$titles = [\"The Great Gatsby\", \"1984\", \"Pride and Prejudice\"]$$\n",
    "    \n",
    "    \n",
    "</p>"
   ]
  },
  {
   "cell_type": "code",
   "execution_count": null,
   "metadata": {},
   "outputs": [],
   "source": []
  },
  {
   "cell_type": "markdown",
   "metadata": {
    "tags": []
   },
   "source": [
    "<h4 style='direction:rtl;text-align:right;font-size:18px;font-family:samim;'>راهنمایی</h4>"
   ]
  },
  {
   "cell_type": "markdown",
   "metadata": {
    "tags": []
   },
   "source": [
    "<p style='direction:rtl;text-align:right;font-size:16px;font-family:samim;'>\n",
    "با استفاده از حلقه for و ایندکسینگ لیست‌ها، دیکشنری مورد نظر را بسازید.\n",
    "</p>"
   ]
  },
  {
   "cell_type": "markdown",
   "metadata": {
    "jp-MarkdownHeadingCollapsed": true,
    "tags": []
   },
   "source": [
    "<h4 style='direction:rtl;text-align:right;font-size:18px;font-family:samim;'>جواب</h4>"
   ]
  },
  {
   "cell_type": "code",
   "execution_count": 22,
   "metadata": {
    "tags": []
   },
   "outputs": [
    {
     "name": "stdout",
     "output_type": "stream",
     "text": [
      "{'F. Scott Fitzgerald': 'The Great Gatsby', 'George Orwell': '1984', 'Jane Austen': 'Pride and Prejudice'}\n"
     ]
    }
   ],
   "source": [
    "# دو لیست داده شده\n",
    "authors = [\"F. Scott Fitzgerald\", \"George Orwell\", \"Jane Austen\"]\n",
    "titles = [\"The Great Gatsby\", \"1984\", \"Pride and Prejudice\"]\n",
    "\n",
    "# ساخت دیکشنری خالی\n",
    "books_dict = {}\n",
    "\n",
    "# حلقه‌ای برای ایجاد دیکشنری\n",
    "for i in range(len(authors)):\n",
    "    books_dict[authors[i]] = titles[i]  # اضافه کردن کلید و مقدار به دیکشنری\n",
    "\n",
    "# نمایش دیکشنری ایجاد شده\n",
    "print( books_dict)\n"
   ]
  },
  {
   "cell_type": "markdown",
   "metadata": {},
   "source": [
    "<h2 style='direction:rtl;text-align:right;font-family:samim;'><b>🔸 تمرین ۱۴*</b></h2>"
   ]
  },
  {
   "cell_type": "markdown",
   "metadata": {},
   "source": [
    "<p style='direction:rtl;text-align:right;font-size:18px;font-family:samim;line-height:1.5;'>\n",
    "    دو دیکشنری دارید، یکی با نام‌های کاربران و سن آنها و دیگری با نام‌های کاربران و شغل آنها. این دو دیکشنری را به گونه‌ای ترکیب کنید که یک دیکشنری واحد با کلیدهای نام کاربران و مقادیری که شامل هر دو سن و شغل باشد، ایجاد شود.\n",
    "    \n",
    "<br>\n",
    "<br>\n",
    "    <p style='direction:ltr;text-align:center;font-size:18px;font-family:samim;line-height:1.5;'>\n",
    "ages = {'Alice': 30, 'Bob': 25, 'Charlie': 35}\n",
    "<br>    \n",
    "jobs = {'Alice': 'Engineer', 'Bob': 'Doctor'}\n",
    "</p>"
   ]
  },
  {
   "cell_type": "code",
   "execution_count": null,
   "metadata": {},
   "outputs": [],
   "source": []
  },
  {
   "cell_type": "markdown",
   "metadata": {
    "tags": []
   },
   "source": [
    "<h4 style='direction:rtl;text-align:right;font-size:18px;font-family:samim;'>راهنمایی</h4>"
   ]
  },
  {
   "cell_type": "markdown",
   "metadata": {
    "tags": []
   },
   "source": [
    "<p style='direction:rtl;text-align:right;font-size:16px;font-family:samim;'>\n",
    "هر بار یک کلید از دیکشنری سن که بیانگر نام است را بردارید و در دیکشنری جدید برای هر نام، یک دیکشنری دیگر که شامل کلیدهای سن و شغل باشد درست کنید.\n",
    "    از اتریبیوت get کمک بگیرید.\n",
    " خروجی باید شبیه زیر باشد:\n",
    "<br>\n",
    "<p style='direction:ltr;text-align:left;font-size:18px;font-family:samim;line-height:1.5;'>     \n",
    "{'Alice': {'age': 30, 'job': 'Engineer'},...}\n",
    "</p>"
   ]
  },
  {
   "cell_type": "markdown",
   "metadata": {
    "jp-MarkdownHeadingCollapsed": true,
    "tags": []
   },
   "source": [
    "<h4 style='direction:rtl;text-align:right;font-size:18px;font-family:samim;'>جواب</h4>"
   ]
  },
  {
   "cell_type": "code",
   "execution_count": 33,
   "metadata": {
    "tags": []
   },
   "outputs": [
    {
     "name": "stdout",
     "output_type": "stream",
     "text": [
      "{'Alice': {'age': 30, 'job': 'Engineer'}, 'Bob': {'age': 25, 'job': 'Doctor'}, 'Charlie': {'age': 35, 'job': None}}\n"
     ]
    }
   ],
   "source": [
    "ages = {'Alice': 30, 'Bob': 25, 'Charlie': 35}\n",
    "jobs = {'Alice': 'Engineer', 'Bob': 'Doctor'}\n",
    "\n",
    "combined = {name: {'age': ages.get(name), 'job': jobs.get(name)} for name in ages.keys()}\n",
    "print(combined)\n"
   ]
  },
  {
   "cell_type": "markdown",
   "metadata": {},
   "source": [
    "<h2 style='direction:rtl;text-align:right;font-family:samim;'><b>🔸 تمرین ۱۵</b></h2>"
   ]
  },
  {
   "cell_type": "markdown",
   "metadata": {},
   "source": [
    "<p style='direction:rtl;text-align:right;font-size:18px;font-family:samim;line-height:1.5;'>\n",
    "    یک لیست از کلمات دارید. تعداد دفعات تکرار هر کلمه در لیست را به صورت یک دیکشنری نشان دهید.\n",
    "<br>\n",
    "<br>    \n",
    "    $$words = ['apple', 'banana', 'apple', 'cherry', 'cherry', 'cherry']$$\n",
    "</p>"
   ]
  },
  {
   "cell_type": "code",
   "execution_count": null,
   "metadata": {},
   "outputs": [],
   "source": []
  },
  {
   "cell_type": "markdown",
   "metadata": {
    "tags": []
   },
   "source": [
    "<h4 style='direction:rtl;text-align:right;font-size:18px;font-family:samim;'>راهنمایی</h4>"
   ]
  },
  {
   "cell_type": "markdown",
   "metadata": {
    "tags": []
   },
   "source": [
    "<p style='direction:rtl;text-align:right;font-size:16px;font-family:samim;'>\n",
    "هر بار یک المان را بردارید و با استفاده از دستور count تکرار را بشمارید.\n",
    "</p>"
   ]
  },
  {
   "cell_type": "markdown",
   "metadata": {
    "jp-MarkdownHeadingCollapsed": true,
    "tags": []
   },
   "source": [
    "<h4 style='direction:rtl;text-align:right;font-size:18px;font-family:samim;'>جواب</h4>"
   ]
  },
  {
   "cell_type": "code",
   "execution_count": 35,
   "metadata": {
    "tags": []
   },
   "outputs": [
    {
     "name": "stdout",
     "output_type": "stream",
     "text": [
      "{'apple': 2, 'banana': 1, 'cherry': 3}\n"
     ]
    }
   ],
   "source": [
    "words = ['apple', 'banana', 'apple', 'cherry', 'cherry', 'cherry']\n",
    "\n",
    "word_count = {}\n",
    "for word in words:\n",
    "    word_count[word] = words.count(word)\n",
    "\n",
    "print(word_count)\n"
   ]
  },
  {
   "cell_type": "markdown",
   "metadata": {},
   "source": [
    "<h2 style='direction:rtl;text-align:right;font-family:samim;'><b>🔸 تمرین ۱۶</b></h2>"
   ]
  },
  {
   "cell_type": "markdown",
   "metadata": {},
   "source": [
    "<p style='direction:rtl;text-align:right;font-size:18px;font-family:samim;line-height:1.5;'>\n",
    "    یک دیکشنری دارید که کلیدهای آن نام دانشجویان و مقادیر آن نمرات دانشجویان است. تمام دانشجویان با نمره کمتر از 60 را حذف کنید.\n",
    "<p style='direction:ltr;text-align:left;font-size:18px;font-family:samim;line-height:1.5;'>    \n",
    "scores = {'Alice': 82, 'Bob': 58, 'Charlie': 99, 'David': 45}\n",
    "</p>"
   ]
  },
  {
   "cell_type": "code",
   "execution_count": null,
   "metadata": {},
   "outputs": [],
   "source": []
  },
  {
   "cell_type": "markdown",
   "metadata": {
    "tags": []
   },
   "source": [
    "<h4 style='direction:rtl;text-align:right;font-size:18px;font-family:samim;'>راهنمایی</h4>"
   ]
  },
  {
   "cell_type": "markdown",
   "metadata": {
    "tags": []
   },
   "source": [
    "<p style='direction:rtl;text-align:right;font-size:16px;font-family:samim;'>\n",
    "با استفاده از دستور for هر بار یک key  و value نظیرش را از دیکشنری داده شده بردارید و شرط گفته شده را برای مقدار value چک کنید.\n",
    "</p>"
   ]
  },
  {
   "cell_type": "markdown",
   "metadata": {
    "jp-MarkdownHeadingCollapsed": true,
    "tags": []
   },
   "source": [
    "<h4 style='direction:rtl;text-align:right;font-size:18px;font-family:samim;'>جواب</h4>"
   ]
  },
  {
   "cell_type": "code",
   "execution_count": 36,
   "metadata": {
    "tags": []
   },
   "outputs": [
    {
     "name": "stdout",
     "output_type": "stream",
     "text": [
      "{'Alice': 82, 'Charlie': 99}\n"
     ]
    }
   ],
   "source": [
    "scores = {'Alice': 82, 'Bob': 58, 'Charlie': 99, 'David': 45}\n",
    "\n",
    "scores = {name: score for name, score in scores.items() if score >= 60}\n",
    "print(scores)"
   ]
  },
  {
   "cell_type": "markdown",
   "metadata": {},
   "source": [
    "<h2 style='direction:rtl;text-align:right;font-family:samim;'><b>🔸 تمرین ۱۷ *</b></h2>"
   ]
  },
  {
   "cell_type": "markdown",
   "metadata": {},
   "source": [
    "<p style='direction:rtl;text-align:right;font-size:18px;font-family:samim;line-height:1.5;'>\n",
    "    یک دیکشنری دارید که هر کلید آن نام یک شهر و مقدار آن یک دیکشنری دیگر است که جمعیت و مساحت آن شهر را نگه داری می‌کند. برای هر شهر، تراکم جمعیتی را محاسبه کنید (جمعیت تقسیم بر مساحت).\n",
    "\n",
    "<p style='direction:ltr;text-align:center;font-size:18px;font-family:samim;line-height:1.5;'>    \n",
    "cities = {\n",
    "    'New York': {'population': 8398748, 'area': 302.6},\n",
    "    'Los Angeles': {'population': 3990456, 'area': 468.7},\n",
    "    'Chicago': {'population': 2705994, 'area': 227.3}\n",
    "}    \n",
    "    \n",
    "</p>"
   ]
  },
  {
   "cell_type": "code",
   "execution_count": null,
   "metadata": {},
   "outputs": [],
   "source": []
  },
  {
   "cell_type": "markdown",
   "metadata": {
    "tags": []
   },
   "source": [
    "<h4 style='direction:rtl;text-align:right;font-size:18px;font-family:samim;'>راهنمایی</h4>"
   ]
  },
  {
   "cell_type": "markdown",
   "metadata": {
    "tags": []
   },
   "source": [
    "<p style='direction:rtl;text-align:right;font-size:16px;font-family:samim;'>\n",
    "هر بار یک آیتم از دیکشنری داده شده را انتخاب کنید. دقت کنید که مقدار value خود یک دیکشنری هست پس می‌توانید با دادن کلید جمعیت و مساحت به این value به مقادیری که می‌خواهید دسترسی پیدا کنید.\n",
    "</p>"
   ]
  },
  {
   "cell_type": "markdown",
   "metadata": {
    "jp-MarkdownHeadingCollapsed": true,
    "tags": []
   },
   "source": [
    "<h4 style='direction:rtl;text-align:right;font-size:18px;font-family:samim;'>جواب</h4>"
   ]
  },
  {
   "cell_type": "code",
   "execution_count": 37,
   "metadata": {
    "tags": []
   },
   "outputs": [
    {
     "name": "stdout",
     "output_type": "stream",
     "text": [
      "{'New York': 27755.2808988764, 'Los Angeles': 8513.880947301046, 'Chicago': 11904.945006599208}\n"
     ]
    }
   ],
   "source": [
    "cities = {\n",
    "    'New York': {'population': 8398748, 'area': 302.6},\n",
    "    'Los Angeles': {'population': 3990456, 'area': 468.7},\n",
    "    'Chicago': {'population': 2705994, 'area': 227.3}\n",
    "}\n",
    "\n",
    "density = {city: data['population'] / data['area'] for city, data in cities.items()}\n",
    "print(density)"
   ]
  },
  {
   "cell_type": "markdown",
   "metadata": {},
   "source": [
    "<h2 style='direction:rtl;text-align:right;font-family:samim;'><b>🔸 تمرین ۱۸</b></h2>"
   ]
  },
  {
   "cell_type": "markdown",
   "metadata": {},
   "source": [
    "<p style='direction:rtl;text-align:right;font-size:18px;font-family:samim;line-height:1.5;'>\n",
    "    یک دیکشنری از محصولات و قیمت‌های آن‌ها دارید. قیمت تمام محصولاتی که بیشتر از 100 دلار هستند را 10 درصد کاهش دهید.\n",
    "<br>    \n",
    "<p style='direction:ltr;text-align:left;font-size:18px;font-family:samim;line-height:1.5;'>\n",
    "prices = {'laptop': 800, 'mouse': 40, 'monitor': 150}\n",
    "</p>"
   ]
  },
  {
   "cell_type": "code",
   "execution_count": null,
   "metadata": {},
   "outputs": [],
   "source": []
  },
  {
   "cell_type": "markdown",
   "metadata": {
    "tags": []
   },
   "source": [
    "<h4 style='direction:rtl;text-align:right;font-size:18px;font-family:samim;'>راهنمایی</h4>"
   ]
  },
  {
   "cell_type": "markdown",
   "metadata": {
    "tags": []
   },
   "source": [
    "<p style='direction:rtl;text-align:right;font-size:16px;font-family:samim;'>\n",
    "با استفاده از اتریبیوت .items هر بار یک کلید و مقدار را از دیکشنری انتخاب کنید. سپس مقدار value را مورد بررسی قرار دهید. در یک دیکشنری جدید مقادیر جدید را اعمال کنید.\n",
    "</p>"
   ]
  },
  {
   "cell_type": "markdown",
   "metadata": {
    "jp-MarkdownHeadingCollapsed": true,
    "tags": []
   },
   "source": [
    "<h4 style='direction:rtl;text-align:right;font-size:18px;font-family:samim;'>جواب</h4>"
   ]
  },
  {
   "cell_type": "code",
   "execution_count": 7,
   "metadata": {
    "tags": []
   },
   "outputs": [
    {
     "name": "stdout",
     "output_type": "stream",
     "text": [
      "{'laptop': 720.0, 'mouse': 40, 'monitor': 135.0}\n"
     ]
    }
   ],
   "source": [
    "prices = {'laptop': 800, 'mouse': 40, 'monitor': 150}\n",
    "discounted_prices = {item: price * 0.9 if price > 100 else price for item, price in prices.items()}\n",
    "print(discounted_prices)"
   ]
  },
  {
   "cell_type": "markdown",
   "metadata": {},
   "source": [
    "<h2 style='direction:rtl;text-align:right;font-family:samim;'><b>🔸 تمرین ۱۹</b></h2>"
   ]
  },
  {
   "cell_type": "markdown",
   "metadata": {},
   "source": [
    "<p style='direction:rtl;text-align:right;font-size:18px;font-family:samim;line-height:1.5;'>\n",
    "    دیکشنری‌ای دارید که نام‌های شهرها را به عنوان کلید دارد و هر کلید یک دیکشنری دیگر شامل جمعیت و مساحت شهر را به عنوان مقدار دارد. برای شهر مشخصی، جمعیت آن را چاپ کنید.\n",
    "    <br>\n",
    "<p style='direction:ltr;text-align:center;font-size:18px;font-family:samim;line-height:1.5;'>    \n",
    "cities = {\n",
    "    'New York': {'population': 8398748, 'area': 302.6},    \n",
    "    'Los Angeles': {'population': 3990456, 'area': 468.7}\n",
    "}    \n",
    "</p>"
   ]
  },
  {
   "cell_type": "code",
   "execution_count": null,
   "metadata": {},
   "outputs": [],
   "source": []
  },
  {
   "cell_type": "markdown",
   "metadata": {
    "tags": []
   },
   "source": [
    "<h4 style='direction:rtl;text-align:right;font-size:18px;font-family:samim;'>راهنمایی</h4>"
   ]
  },
  {
   "cell_type": "markdown",
   "metadata": {
    "tags": []
   },
   "source": [
    "<p style='direction:rtl;text-align:right;font-size:16px;font-family:samim;'>\n",
    " با استفاده از نام شهر به عنوان کلید اصلی و کلید 'population' برای دسترسی به جمعیت، مقدار جمعیت شهر را پیدا کنید.\n",
    "</p>"
   ]
  },
  {
   "cell_type": "markdown",
   "metadata": {
    "jp-MarkdownHeadingCollapsed": true,
    "tags": []
   },
   "source": [
    "<h4 style='direction:rtl;text-align:right;font-size:18px;font-family:samim;'>جواب</h4>"
   ]
  },
  {
   "cell_type": "code",
   "execution_count": 39,
   "metadata": {
    "tags": []
   },
   "outputs": [
    {
     "name": "stdout",
     "output_type": "stream",
     "text": [
      "Los Angeles 3990456\n"
     ]
    }
   ],
   "source": [
    "cities = {\n",
    "    'New York': {'population': 8398748, 'area': 302.6},    \n",
    "    'Los Angeles': {'population': 3990456, 'area': 468.7}\n",
    "}\n",
    "\n",
    "# نام شهر مورد نظر را تعیین کنید\n",
    "city_name = 'Los Angeles'\n",
    "\n",
    "# دسترسی به جمعیت شهر مورد نظر\n",
    "population = cities[city_name]['population']\n",
    "\n",
    "# چاپ جمعیت شهر\n",
    "print(city_name, population)\n"
   ]
  },
  {
   "cell_type": "markdown",
   "metadata": {},
   "source": [
    "<h2 style='direction:rtl;text-align:right;font-family:samim;'><b>🔸 تمرین ۲۰</b></h2>"
   ]
  },
  {
   "cell_type": "markdown",
   "metadata": {},
   "source": [
    "<p style='direction:rtl;text-align:right;font-size:18px;font-family:samim;line-height:1.5;'>\n",
    "    دیکشنری‌ای دارید که نام کارمندان و سن آن‌ها را نگه می‌دارد. یک دیکشنری جدید ایجاد کنید که فقط کارمندانی با سن بیشتر از 30 سال را شامل شود.\n",
    "    \n",
    "<p style='direction:ltr;text-align:left;font-size:18px;font-family:samim;line-height:1.5;'>    \n",
    "employees = {'Alice': 29, 'Bob': 35, 'Charlie': 32, 'David': 28}    \n",
    "</p>"
   ]
  },
  {
   "cell_type": "code",
   "execution_count": null,
   "metadata": {},
   "outputs": [],
   "source": []
  },
  {
   "cell_type": "markdown",
   "metadata": {
    "tags": []
   },
   "source": [
    "<h4 style='direction:rtl;text-align:right;font-size:18px;font-family:samim;'>راهنمایی</h4>"
   ]
  },
  {
   "cell_type": "markdown",
   "metadata": {
    "tags": []
   },
   "source": [
    "<p style='direction:rtl;text-align:right;font-size:16px;font-family:samim;'>\n",
    "با استفاده از اتریبیوت .item هر بار یک key  و value  از دیکشنری را انتخاب کنید و شرط سن را بررسی کنید اگر شرط بر قرار بود در دیکشنری جدید ذخیره شود. می‌توانید از دستور for  و if  تک خطی استفاده کنید.\n",
    "</p>"
   ]
  },
  {
   "cell_type": "markdown",
   "metadata": {
    "jp-MarkdownHeadingCollapsed": true,
    "tags": []
   },
   "source": [
    "<h4 style='direction:rtl;text-align:right;font-size:18px;font-family:samim;'>جواب</h4>"
   ]
  },
  {
   "cell_type": "code",
   "execution_count": 8,
   "metadata": {
    "tags": []
   },
   "outputs": [
    {
     "name": "stdout",
     "output_type": "stream",
     "text": [
      "{'Bob': 35, 'Charlie': 32}\n"
     ]
    }
   ],
   "source": [
    "employees = {'Alice': 29, 'Bob': 35, 'Charlie': 32, 'David': 28}\n",
    "older_employees = {name: age for name, age in employees.items() if age > 30}\n",
    "print(older_employees)"
   ]
  },
  {
   "cell_type": "markdown",
   "metadata": {},
   "source": [
    "<h2 style='direction:rtl;text-align:right;font-family:samim;'><b>🔸 تمرین ۲۱</b></h2>"
   ]
  },
  {
   "cell_type": "markdown",
   "metadata": {},
   "source": [
    "<p style='direction:rtl;text-align:right;font-size:18px;font-family:samim;line-height:1.5;'>\n",
    "    در بازی Scrabble، برای هر حرف از حروف الفبا، یک امتیاز مشخص در نظر گرفته می‌شود. سپس\n",
    "امتیاز هر کلمه با جمع کردن امتیاز حروف سازنده آن محاسبه می‌شود. حروف رایج، امتیاز کمتری\n",
    "دارند و به حروفی که کمتر رایج هستند امتیاز بیشتری اختصاص داده می‌شود. امتیاز حروف مطابق\n",
    "جدول زیر است. کدی بنویسید که امتیاز Scrabble برای یک کلمه مثلا HOWSAM را محاسبه می‌کند.  \n",
    "    \n",
    "<p style='direction:ltr;text-align:left;font-size:18px;font-family:samim;line-height:1.5;'>    \n",
    "   \n",
    "</p>"
   ]
  },
  {
   "attachments": {
    "image.png": {
     "image/png": "[encoded data removed]"
    }
   },
   "cell_type": "markdown",
   "metadata": {},
   "source": [
    "![image.png](attachment:image.png)"
   ]
  },
  {
   "cell_type": "code",
   "execution_count": null,
   "metadata": {},
   "outputs": [],
   "source": []
  },
  {
   "cell_type": "markdown",
   "metadata": {
    "tags": []
   },
   "source": [
    "<h4 style='direction:rtl;text-align:right;font-size:18px;font-family:samim;'>راهنمایی</h4>"
   ]
  },
  {
   "cell_type": "markdown",
   "metadata": {
    "tags": []
   },
   "source": [
    "<p style='direction:rtl;text-align:right;font-size:16px;font-family:samim;'>\n",
    "ابتدا یک دیکشنری برای جدول ایجاد کنید. سپس برای هر المان از متغیر رشته ورودی، مقدار value را از دیکشنری پیدا کنید و این مقادیر را با هم جمع کنید.\n",
    "</p>"
   ]
  },
  {
   "cell_type": "markdown",
   "metadata": {
    "jp-MarkdownHeadingCollapsed": true,
    "tags": []
   },
   "source": [
    "<h4 style='direction:rtl;text-align:right;font-size:18px;font-family:samim;'>جواب</h4>"
   ]
  },
  {
   "cell_type": "code",
   "execution_count": 14,
   "metadata": {
    "tags": []
   },
   "outputs": [
    {
     "name": "stdout",
     "output_type": "stream",
     "text": [
      "14\n"
     ]
    }
   ],
   "source": [
    "points_letters = {'A':1 , 'E':1 , 'I':1 , 'L':1 , 'N':1 , 'O':1 , 'R':1 , 'S':1 , 'T':1 , 'U':1 ,\n",
    "          'D':2 , 'G':2 ,\n",
    "          'B':3 , 'C':3 , 'M':3 , 'P':3 ,\n",
    "          'F':4 , 'H':4 , 'V':4 , 'W':4 , 'Y':4 ,\n",
    "          'K':5 ,\n",
    "          'J':8 , 'X':8 ,\n",
    "          'Q':10 , 'Z':10}\n",
    "\n",
    "\n",
    "str_input = \"HOWSAM\"\n",
    "scores = 0\n",
    "for i in str_input :\n",
    "    scores += points_letters[i]\n",
    "print(scores)\n"
   ]
  }
 ],
 "metadata": {
  "kernelspec": {
   "display_name": "Python 3 (ipykernel)",
   "language": "python",
   "name": "python3"
  },
  "language_info": {
   "codemirror_mode": {
    "name": "ipython",
    "version": 3
   },
   "file_extension": ".py",
   "mimetype": "text/x-python",
   "name": "python",
   "nbconvert_exporter": "python",
   "pygments_lexer": "ipython3",
   "version": "3.9.12"
  }
 },
 "nbformat": 4,
 "nbformat_minor": 4
}
