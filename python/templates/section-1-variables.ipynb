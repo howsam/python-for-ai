{
 "cells": [
  {
   "cell_type": "markdown",
   "id": "7b931a7e-c38d-4acb-bead-7ae323e86100",
   "metadata": {
    "id": "deV1IkmrWtk5",
    "tags": []
   },
   "source": [
    "# <font color='#FFE15D'>**Section 1: Variables ⏰**</font>"
   ]
  },
  {
   "cell_type": "markdown",
   "id": "a2f5c8b2-8818-45e7-a78d-c8525dff3270",
   "metadata": {},
   "source": [
    "<img src=\"../images/variable.png\" alt=\"string indexing\" width=250 align=\"center\" />"
   ]
  },
  {
   "cell_type": "markdown",
   "id": "b9a21ada-d0a4-4c9b-8594-53bcca1a1697",
   "metadata": {
    "jp-MarkdownHeadingCollapsed": true,
    "tags": [],
    "toc-hr-collapsed": true
   },
   "source": [
    "## **🔸 How to define a variable**"
   ]
  },
  {
   "cell_type": "markdown",
   "id": "13a42b73-819f-4461-b9f2-2a6b7309753c",
   "metadata": {
    "jp-MarkdownHeadingCollapsed": true,
    "tags": []
   },
   "source": [
    "### int"
   ]
  },
  {
   "cell_type": "code",
   "execution_count": null,
   "id": "3ac877f3-a2eb-4ef8-8f46-d8e0e6cc4f52",
   "metadata": {
    "colab": {
     "base_uri": "https://localhost:8080/"
    },
    "id": "-xctv3yQo95I",
    "outputId": "af38427a-57dc-432f-9d46-82c4b2951672"
   },
   "outputs": [],
   "source": []
  },
  {
   "cell_type": "markdown",
   "id": "c1d71ff8-a90a-4b20-8953-1869c3458adb",
   "metadata": {
    "jp-MarkdownHeadingCollapsed": true,
    "tags": []
   },
   "source": [
    "### float"
   ]
  },
  {
   "cell_type": "code",
   "execution_count": null,
   "id": "2fe07603-6045-4b1b-a097-5308295bf1d6",
   "metadata": {
    "colab": {
     "base_uri": "https://localhost:8080/"
    },
    "id": "8oWEyE-KpPe7",
    "outputId": "ef707c83-fbf8-49a1-e661-c4a428c445e4"
   },
   "outputs": [],
   "source": []
  },
  {
   "cell_type": "markdown",
   "id": "3862a672-62d5-4d8c-85b1-35be7be68fbb",
   "metadata": {
    "jp-MarkdownHeadingCollapsed": true,
    "tags": []
   },
   "source": [
    "### bool"
   ]
  },
  {
   "cell_type": "code",
   "execution_count": null,
   "id": "c58e23bd-8646-418f-b5c7-9e6b071a0df5",
   "metadata": {
    "colab": {
     "base_uri": "https://localhost:8080/"
    },
    "id": "YRJ_OEFzpX7t",
    "outputId": "1494ccb1-fc7a-4a5f-b3aa-bb59b6a5adf0"
   },
   "outputs": [],
   "source": []
  },
  {
   "cell_type": "markdown",
   "id": "f3527ba5-a678-48f2-9027-96e7bdfcf5ac",
   "metadata": {
    "jp-MarkdownHeadingCollapsed": true,
    "tags": []
   },
   "source": [
    "### string"
   ]
  },
  {
   "cell_type": "code",
   "execution_count": null,
   "id": "96417ba5-2ae1-4524-ada5-b95ecaa7ec46",
   "metadata": {
    "colab": {
     "base_uri": "https://localhost:8080/"
    },
    "id": "Z03rWdh3phr8",
    "outputId": "a8f9cb3b-49a0-4339-b546-be9fff01db20"
   },
   "outputs": [],
   "source": []
  },
  {
   "cell_type": "markdown",
   "id": "3bdabf0f-6a83-4e70-aa20-a169c903f26a",
   "metadata": {
    "jp-MarkdownHeadingCollapsed": true,
    "tags": [],
    "toc-hr-collapsed": true
   },
   "source": [
    "## **🔸 Variable rules**"
   ]
  },
  {
   "cell_type": "markdown",
   "id": "b949e6a7-8266-4153-9867-8dc14a3d5b0b",
   "metadata": {},
   "source": [
    "<img src=\"../images/rules.png\" alt=\"string indexing\" width=400 align=\"center\" />"
   ]
  },
  {
   "cell_type": "code",
   "execution_count": null,
   "id": "a11aaba3-e3a2-49c8-8c18-564267df4366",
   "metadata": {},
   "outputs": [],
   "source": []
  },
  {
   "cell_type": "markdown",
   "id": "908a2a27-500a-494d-bbef-d788d8120658",
   "metadata": {
    "jp-MarkdownHeadingCollapsed": true,
    "tags": []
   },
   "source": [
    "### Forbidden names 🚫"
   ]
  },
  {
   "cell_type": "code",
   "execution_count": null,
   "id": "d82cc8b3-55ee-4f8f-80fa-af7f9ca81c16",
   "metadata": {},
   "outputs": [],
   "source": []
  },
  {
   "cell_type": "code",
   "execution_count": null,
   "id": "0b51a9e5-38c7-4512-a00b-4f6570aa9596",
   "metadata": {},
   "outputs": [],
   "source": []
  },
  {
   "cell_type": "markdown",
   "id": "9bc5df65-7db0-4c07-ac85-b4cbfabbeb69",
   "metadata": {
    "jp-MarkdownHeadingCollapsed": true,
    "tags": []
   },
   "source": [
    "## **🔸 Type of a variable**"
   ]
  },
  {
   "cell_type": "markdown",
   "id": "ab2bbfa8-1160-4d0c-8145-023cd4e2c208",
   "metadata": {},
   "source": [
    "<img src=\"../images/data-types.png\" alt=\"string indexing\" width=500 align=\"center\" />"
   ]
  },
  {
   "cell_type": "code",
   "execution_count": null,
   "id": "2873afd4-08dd-491b-95ea-5682b4489a82",
   "metadata": {},
   "outputs": [],
   "source": []
  },
  {
   "cell_type": "markdown",
   "id": "7da895d7-fb12-4dee-8dac-84a4806e71d5",
   "metadata": {
    "jp-MarkdownHeadingCollapsed": true,
    "tags": []
   },
   "source": [
    "### Type conversion"
   ]
  },
  {
   "cell_type": "code",
   "execution_count": null,
   "id": "b88fc095-5cbb-4d6d-b200-ca5bd0d93009",
   "metadata": {},
   "outputs": [],
   "source": []
  },
  {
   "cell_type": "markdown",
   "id": "59e081ac-63a1-4ae2-af8c-da977116c5da",
   "metadata": {
    "jp-MarkdownHeadingCollapsed": true,
    "tags": []
   },
   "source": [
    "## **🔸 Variable as an object**"
   ]
  },
  {
   "cell_type": "code",
   "execution_count": null,
   "id": "e7fb7982-54a7-4f75-bfbc-30811282c2dd",
   "metadata": {},
   "outputs": [],
   "source": []
  },
  {
   "cell_type": "code",
   "execution_count": null,
   "id": "ae91f712-c32e-4a48-8ba4-8ec5c9ab18f5",
   "metadata": {},
   "outputs": [],
   "source": []
  },
  {
   "cell_type": "markdown",
   "id": "00df43e9-58b9-42b5-ad4c-267d0d4de157",
   "metadata": {
    "jp-MarkdownHeadingCollapsed": true,
    "tags": []
   },
   "source": [
    "## **🔸 Style guide**"
   ]
  },
  {
   "cell_type": "code",
   "execution_count": null,
   "id": "49b08db6-4bcb-46af-9e88-760893baea15",
   "metadata": {},
   "outputs": [],
   "source": []
  }
 ],
 "metadata": {
  "kernelspec": {
   "display_name": "Python 3 (ipykernel)",
   "language": "python",
   "name": "python3"
  },
  "language_info": {
   "codemirror_mode": {
    "name": "ipython",
    "version": 3
   },
   "file_extension": ".py",
   "mimetype": "text/x-python",
   "name": "python",
   "nbconvert_exporter": "python",
   "pygments_lexer": "ipython3",
   "version": "3.9.15"
  }
 },
 "nbformat": 4,
 "nbformat_minor": 5
}
